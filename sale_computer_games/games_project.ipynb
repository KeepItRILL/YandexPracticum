{
 "cells": [
  {
   "cell_type": "markdown",
   "metadata": {},
   "source": [
    "Привет, Кирилл!\n",
    "\n",
    "Меня зовут Вячеслав Погорелый, и я буду проводить ревью твоего проекта. \n",
    "\n",
    "Предлагаю перейти на \"ты\", если не против)\n",
    "\n",
    "Но если это не удобно - дай знать, и мы перейдем на \"вы\". Моя главная задача — не находить сделанные тобою ошибки, а передать свой опыт и помочь тебе стать аналитиком данных.\n",
    "\n",
    "Я отметил комментарии и замечания разным цветом далее по тексту markdown:\n",
    "\n",
    "---    \n",
    "<div class=\"alert alert-block alert-danger\">\n",
    "    \n",
    "### Ошибка\n",
    "    \n",
    "Критическое замечание, которые следует исправить.\n",
    "</div> \n",
    "    \n",
    "---\n",
    "    \n",
    "<div class=\"alert alert-block alert-warning\">\n",
    "    \n",
    "### Совет\n",
    "    \n",
    "Замечание\\совет на будущее.\n",
    "</div>\n",
    "    \n",
    "---\n",
    "    \n",
    "<div class=\"alert alert-block alert-success\">\n",
    "    \n",
    "### Успех\n",
    "    \n",
    "Когда всё сделано правильно.\n",
    "</div>\n",
    "    \n",
    "    \n",
    "    \n",
    "Будет здорово, если для ответов ты выберешь любой **<font color=\"maroon\">читабельный и заметный цвет</font>**, так мне будет проще все проверить.\n",
    "\n",
    "\n",
    "При доработке проекта попрошу тебя сохранить и не видоизменять заметки ревьюера, это осложняет повторную проверку."
   ]
  },
  {
   "cell_type": "markdown",
   "metadata": {},
   "source": [
    "<div class=\"alert alert-block alert-warning\">\n",
    "    \n",
    "### Комментарии от ревьюера:\n",
    "    \n",
    "#### Совет\n",
    "\n",
    "Здесь лучше составить небольшое оглавление к проекту. Так он будет выглядеть более целостным.\n",
    "\n",
    "</div>"
   ]
  },
  {
   "cell_type": "markdown",
   "metadata": {},
   "source": [
    "<div class=\"alert alert-info\"> <b>Кирилл:</b> Вячеслав, спасибо, согласен, добавил небольшое оглавление ниже</div>"
   ]
  },
  {
   "cell_type": "markdown",
   "metadata": {},
   "source": [
    "# Аналитический отчет о продаже компьютерных игр \n",
    "\n",
    "В рамках проекта предстоит проанализировать исторические данные о продажах игр, оценках пользователей и экспертов, жанрах и платформах (например, Xbox или PlayStation). Необходимо выявить определяющие успешность игры закономерности. Это позволит сделать ставку на потенциально популярный продукт и спланировать рекламные кампании.\n",
    "Данные содержат информацию до 2016 года. \n",
    "Описание данных: \n",
    "1. Name — название игры\n",
    "2. Platform — платформа\n",
    "3. Year_of_Release — год выпуска\n",
    "4. Genre — жанр игры\n",
    "5. NA_sales — продажи в Северной Америке (миллионы проданных копий)\n",
    "6. EU_sales — продажи в Европе (миллионы проданных копий)\n",
    "7. JP_sales — продажи в Японии (миллионы проданных копий)\n",
    "8. Other_sales — продажи в других странах (миллионы проданных копий)\n",
    "9. Critic_Score — оценка критиков (максимум 100)\n",
    "10. User_Score — оценка пользователей (максимум 10)\n",
    "11. Rating — рейтинг от организации ESRB (англ. Entertainment Software Rating Board). Эта ассоциация определяет рейтинг компьютерных игр и присваивает им подходящую возрастную категорию."
   ]
  },
  {
   "cell_type": "markdown",
   "metadata": {},
   "source": [
    "## Знакомство с данными"
   ]
  },
  {
   "cell_type": "code",
   "execution_count": 1,
   "metadata": {
    "scrolled": true
   },
   "outputs": [
    {
     "data": {
      "text/html": [
       "<div>\n",
       "<style scoped>\n",
       "    .dataframe tbody tr th:only-of-type {\n",
       "        vertical-align: middle;\n",
       "    }\n",
       "\n",
       "    .dataframe tbody tr th {\n",
       "        vertical-align: top;\n",
       "    }\n",
       "\n",
       "    .dataframe thead th {\n",
       "        text-align: right;\n",
       "    }\n",
       "</style>\n",
       "<table border=\"1\" class=\"dataframe\">\n",
       "  <thead>\n",
       "    <tr style=\"text-align: right;\">\n",
       "      <th></th>\n",
       "      <th>Name</th>\n",
       "      <th>Platform</th>\n",
       "      <th>Year_of_Release</th>\n",
       "      <th>Genre</th>\n",
       "      <th>NA_sales</th>\n",
       "      <th>EU_sales</th>\n",
       "      <th>JP_sales</th>\n",
       "      <th>Other_sales</th>\n",
       "      <th>Critic_Score</th>\n",
       "      <th>User_Score</th>\n",
       "      <th>Rating</th>\n",
       "    </tr>\n",
       "  </thead>\n",
       "  <tbody>\n",
       "    <tr>\n",
       "      <th>0</th>\n",
       "      <td>Wii Sports</td>\n",
       "      <td>Wii</td>\n",
       "      <td>2006.0</td>\n",
       "      <td>Sports</td>\n",
       "      <td>41.36</td>\n",
       "      <td>28.96</td>\n",
       "      <td>3.77</td>\n",
       "      <td>8.45</td>\n",
       "      <td>76.0</td>\n",
       "      <td>8</td>\n",
       "      <td>E</td>\n",
       "    </tr>\n",
       "    <tr>\n",
       "      <th>1</th>\n",
       "      <td>Super Mario Bros.</td>\n",
       "      <td>NES</td>\n",
       "      <td>1985.0</td>\n",
       "      <td>Platform</td>\n",
       "      <td>29.08</td>\n",
       "      <td>3.58</td>\n",
       "      <td>6.81</td>\n",
       "      <td>0.77</td>\n",
       "      <td>NaN</td>\n",
       "      <td>NaN</td>\n",
       "      <td>NaN</td>\n",
       "    </tr>\n",
       "    <tr>\n",
       "      <th>2</th>\n",
       "      <td>Mario Kart Wii</td>\n",
       "      <td>Wii</td>\n",
       "      <td>2008.0</td>\n",
       "      <td>Racing</td>\n",
       "      <td>15.68</td>\n",
       "      <td>12.76</td>\n",
       "      <td>3.79</td>\n",
       "      <td>3.29</td>\n",
       "      <td>82.0</td>\n",
       "      <td>8.3</td>\n",
       "      <td>E</td>\n",
       "    </tr>\n",
       "    <tr>\n",
       "      <th>3</th>\n",
       "      <td>Wii Sports Resort</td>\n",
       "      <td>Wii</td>\n",
       "      <td>2009.0</td>\n",
       "      <td>Sports</td>\n",
       "      <td>15.61</td>\n",
       "      <td>10.93</td>\n",
       "      <td>3.28</td>\n",
       "      <td>2.95</td>\n",
       "      <td>80.0</td>\n",
       "      <td>8</td>\n",
       "      <td>E</td>\n",
       "    </tr>\n",
       "    <tr>\n",
       "      <th>4</th>\n",
       "      <td>Pokemon Red/Pokemon Blue</td>\n",
       "      <td>GB</td>\n",
       "      <td>1996.0</td>\n",
       "      <td>Role-Playing</td>\n",
       "      <td>11.27</td>\n",
       "      <td>8.89</td>\n",
       "      <td>10.22</td>\n",
       "      <td>1.00</td>\n",
       "      <td>NaN</td>\n",
       "      <td>NaN</td>\n",
       "      <td>NaN</td>\n",
       "    </tr>\n",
       "    <tr>\n",
       "      <th>5</th>\n",
       "      <td>Tetris</td>\n",
       "      <td>GB</td>\n",
       "      <td>1989.0</td>\n",
       "      <td>Puzzle</td>\n",
       "      <td>23.20</td>\n",
       "      <td>2.26</td>\n",
       "      <td>4.22</td>\n",
       "      <td>0.58</td>\n",
       "      <td>NaN</td>\n",
       "      <td>NaN</td>\n",
       "      <td>NaN</td>\n",
       "    </tr>\n",
       "    <tr>\n",
       "      <th>6</th>\n",
       "      <td>New Super Mario Bros.</td>\n",
       "      <td>DS</td>\n",
       "      <td>2006.0</td>\n",
       "      <td>Platform</td>\n",
       "      <td>11.28</td>\n",
       "      <td>9.14</td>\n",
       "      <td>6.50</td>\n",
       "      <td>2.88</td>\n",
       "      <td>89.0</td>\n",
       "      <td>8.5</td>\n",
       "      <td>E</td>\n",
       "    </tr>\n",
       "    <tr>\n",
       "      <th>7</th>\n",
       "      <td>Wii Play</td>\n",
       "      <td>Wii</td>\n",
       "      <td>2006.0</td>\n",
       "      <td>Misc</td>\n",
       "      <td>13.96</td>\n",
       "      <td>9.18</td>\n",
       "      <td>2.93</td>\n",
       "      <td>2.84</td>\n",
       "      <td>58.0</td>\n",
       "      <td>6.6</td>\n",
       "      <td>E</td>\n",
       "    </tr>\n",
       "    <tr>\n",
       "      <th>8</th>\n",
       "      <td>New Super Mario Bros. Wii</td>\n",
       "      <td>Wii</td>\n",
       "      <td>2009.0</td>\n",
       "      <td>Platform</td>\n",
       "      <td>14.44</td>\n",
       "      <td>6.94</td>\n",
       "      <td>4.70</td>\n",
       "      <td>2.24</td>\n",
       "      <td>87.0</td>\n",
       "      <td>8.4</td>\n",
       "      <td>E</td>\n",
       "    </tr>\n",
       "    <tr>\n",
       "      <th>9</th>\n",
       "      <td>Duck Hunt</td>\n",
       "      <td>NES</td>\n",
       "      <td>1984.0</td>\n",
       "      <td>Shooter</td>\n",
       "      <td>26.93</td>\n",
       "      <td>0.63</td>\n",
       "      <td>0.28</td>\n",
       "      <td>0.47</td>\n",
       "      <td>NaN</td>\n",
       "      <td>NaN</td>\n",
       "      <td>NaN</td>\n",
       "    </tr>\n",
       "  </tbody>\n",
       "</table>\n",
       "</div>"
      ],
      "text/plain": [
       "                        Name Platform  Year_of_Release         Genre  \\\n",
       "0                 Wii Sports      Wii           2006.0        Sports   \n",
       "1          Super Mario Bros.      NES           1985.0      Platform   \n",
       "2             Mario Kart Wii      Wii           2008.0        Racing   \n",
       "3          Wii Sports Resort      Wii           2009.0        Sports   \n",
       "4   Pokemon Red/Pokemon Blue       GB           1996.0  Role-Playing   \n",
       "5                     Tetris       GB           1989.0        Puzzle   \n",
       "6      New Super Mario Bros.       DS           2006.0      Platform   \n",
       "7                   Wii Play      Wii           2006.0          Misc   \n",
       "8  New Super Mario Bros. Wii      Wii           2009.0      Platform   \n",
       "9                  Duck Hunt      NES           1984.0       Shooter   \n",
       "\n",
       "   NA_sales  EU_sales  JP_sales  Other_sales  Critic_Score User_Score Rating  \n",
       "0     41.36     28.96      3.77         8.45          76.0          8      E  \n",
       "1     29.08      3.58      6.81         0.77           NaN        NaN    NaN  \n",
       "2     15.68     12.76      3.79         3.29          82.0        8.3      E  \n",
       "3     15.61     10.93      3.28         2.95          80.0          8      E  \n",
       "4     11.27      8.89     10.22         1.00           NaN        NaN    NaN  \n",
       "5     23.20      2.26      4.22         0.58           NaN        NaN    NaN  \n",
       "6     11.28      9.14      6.50         2.88          89.0        8.5      E  \n",
       "7     13.96      9.18      2.93         2.84          58.0        6.6      E  \n",
       "8     14.44      6.94      4.70         2.24          87.0        8.4      E  \n",
       "9     26.93      0.63      0.28         0.47           NaN        NaN    NaN  "
      ]
     },
     "execution_count": 1,
     "metadata": {},
     "output_type": "execute_result"
    }
   ],
   "source": [
    "# Загрузим библиотеки и исходный датасет \n",
    "import pandas as pd\n",
    "import seaborn as sns\n",
    "import matplotlib.pyplot as plt\n",
    "from scipy import stats as st\n",
    "import warnings\n",
    "\n",
    "\n",
    "data = pd.read_csv('/datasets/games.csv', sep=\",\") \n",
    "data.head(10)"
   ]
  },
  {
   "cell_type": "code",
   "execution_count": 2,
   "metadata": {},
   "outputs": [
    {
     "name": "stdout",
     "output_type": "stream",
     "text": [
      "<class 'pandas.core.frame.DataFrame'>\n",
      "RangeIndex: 16715 entries, 0 to 16714\n",
      "Data columns (total 11 columns):\n",
      " #   Column           Non-Null Count  Dtype  \n",
      "---  ------           --------------  -----  \n",
      " 0   Name             16713 non-null  object \n",
      " 1   Platform         16715 non-null  object \n",
      " 2   Year_of_Release  16446 non-null  float64\n",
      " 3   Genre            16713 non-null  object \n",
      " 4   NA_sales         16715 non-null  float64\n",
      " 5   EU_sales         16715 non-null  float64\n",
      " 6   JP_sales         16715 non-null  float64\n",
      " 7   Other_sales      16715 non-null  float64\n",
      " 8   Critic_Score     8137 non-null   float64\n",
      " 9   User_Score       10014 non-null  object \n",
      " 10  Rating           9949 non-null   object \n",
      "dtypes: float64(6), object(5)\n",
      "memory usage: 1.4+ MB\n"
     ]
    }
   ],
   "source": [
    "# Просмотрим общую информацию по датасету\n",
    "data.info()"
   ]
  },
  {
   "cell_type": "markdown",
   "metadata": {},
   "source": [
    "<div class=\"alert alert-block alert-success\">\n",
    " \n",
    "### Комментарий ревьюера\n",
    "    \n",
    "#### Успех\n",
    "    \n",
    "Проект сохранен в переменную, библиотеки импортированы и получена первичная информация. \n",
    "</div "
   ]
  },
  {
   "cell_type": "code",
   "execution_count": 3,
   "metadata": {},
   "outputs": [
    {
     "data": {
      "text/plain": [
       "0"
      ]
     },
     "execution_count": 3,
     "metadata": {},
     "output_type": "execute_result"
    }
   ],
   "source": [
    "# Проверим наличие явных дубликатов \n",
    "data.duplicated().sum()"
   ]
  },
  {
   "cell_type": "markdown",
   "metadata": {},
   "source": [
    "Наблюдаем несоответствия в названиях столбцов и отсутствие данных."
   ]
  },
  {
   "cell_type": "markdown",
   "metadata": {},
   "source": [
    "<div class=\"alert alert-block alert-success\">\n",
    " \n",
    "### Комментарий ревьюера\n",
    "    \n",
    "#### Успех\n",
    "    \n",
    "Здорово. Мы ознакомились с данными и приступаем к их предобработке. "
   ]
  },
  {
   "cell_type": "markdown",
   "metadata": {},
   "source": [
    "## Предобработка данных"
   ]
  },
  {
   "cell_type": "code",
   "execution_count": 4,
   "metadata": {
    "scrolled": false
   },
   "outputs": [
    {
     "data": {
      "text/html": [
       "<div>\n",
       "<style scoped>\n",
       "    .dataframe tbody tr th:only-of-type {\n",
       "        vertical-align: middle;\n",
       "    }\n",
       "\n",
       "    .dataframe tbody tr th {\n",
       "        vertical-align: top;\n",
       "    }\n",
       "\n",
       "    .dataframe thead th {\n",
       "        text-align: right;\n",
       "    }\n",
       "</style>\n",
       "<table border=\"1\" class=\"dataframe\">\n",
       "  <thead>\n",
       "    <tr style=\"text-align: right;\">\n",
       "      <th></th>\n",
       "      <th>name</th>\n",
       "      <th>platform</th>\n",
       "      <th>year_of_release</th>\n",
       "      <th>genre</th>\n",
       "      <th>na_sales</th>\n",
       "      <th>eu_sales</th>\n",
       "      <th>jp_sales</th>\n",
       "      <th>other_sales</th>\n",
       "      <th>critic_score</th>\n",
       "      <th>user_score</th>\n",
       "      <th>rating</th>\n",
       "    </tr>\n",
       "  </thead>\n",
       "  <tbody>\n",
       "    <tr>\n",
       "      <th>0</th>\n",
       "      <td>Wii Sports</td>\n",
       "      <td>Wii</td>\n",
       "      <td>2006.0</td>\n",
       "      <td>Sports</td>\n",
       "      <td>41.36</td>\n",
       "      <td>28.96</td>\n",
       "      <td>3.77</td>\n",
       "      <td>8.45</td>\n",
       "      <td>76.0</td>\n",
       "      <td>8</td>\n",
       "      <td>E</td>\n",
       "    </tr>\n",
       "    <tr>\n",
       "      <th>1</th>\n",
       "      <td>Super Mario Bros.</td>\n",
       "      <td>NES</td>\n",
       "      <td>1985.0</td>\n",
       "      <td>Platform</td>\n",
       "      <td>29.08</td>\n",
       "      <td>3.58</td>\n",
       "      <td>6.81</td>\n",
       "      <td>0.77</td>\n",
       "      <td>NaN</td>\n",
       "      <td>NaN</td>\n",
       "      <td>NaN</td>\n",
       "    </tr>\n",
       "    <tr>\n",
       "      <th>2</th>\n",
       "      <td>Mario Kart Wii</td>\n",
       "      <td>Wii</td>\n",
       "      <td>2008.0</td>\n",
       "      <td>Racing</td>\n",
       "      <td>15.68</td>\n",
       "      <td>12.76</td>\n",
       "      <td>3.79</td>\n",
       "      <td>3.29</td>\n",
       "      <td>82.0</td>\n",
       "      <td>8.3</td>\n",
       "      <td>E</td>\n",
       "    </tr>\n",
       "    <tr>\n",
       "      <th>3</th>\n",
       "      <td>Wii Sports Resort</td>\n",
       "      <td>Wii</td>\n",
       "      <td>2009.0</td>\n",
       "      <td>Sports</td>\n",
       "      <td>15.61</td>\n",
       "      <td>10.93</td>\n",
       "      <td>3.28</td>\n",
       "      <td>2.95</td>\n",
       "      <td>80.0</td>\n",
       "      <td>8</td>\n",
       "      <td>E</td>\n",
       "    </tr>\n",
       "    <tr>\n",
       "      <th>4</th>\n",
       "      <td>Pokemon Red/Pokemon Blue</td>\n",
       "      <td>GB</td>\n",
       "      <td>1996.0</td>\n",
       "      <td>Role-Playing</td>\n",
       "      <td>11.27</td>\n",
       "      <td>8.89</td>\n",
       "      <td>10.22</td>\n",
       "      <td>1.00</td>\n",
       "      <td>NaN</td>\n",
       "      <td>NaN</td>\n",
       "      <td>NaN</td>\n",
       "    </tr>\n",
       "  </tbody>\n",
       "</table>\n",
       "</div>"
      ],
      "text/plain": [
       "                       name platform  year_of_release         genre  na_sales  \\\n",
       "0                Wii Sports      Wii           2006.0        Sports     41.36   \n",
       "1         Super Mario Bros.      NES           1985.0      Platform     29.08   \n",
       "2            Mario Kart Wii      Wii           2008.0        Racing     15.68   \n",
       "3         Wii Sports Resort      Wii           2009.0        Sports     15.61   \n",
       "4  Pokemon Red/Pokemon Blue       GB           1996.0  Role-Playing     11.27   \n",
       "\n",
       "   eu_sales  jp_sales  other_sales  critic_score user_score rating  \n",
       "0     28.96      3.77         8.45          76.0          8      E  \n",
       "1      3.58      6.81         0.77           NaN        NaN    NaN  \n",
       "2     12.76      3.79         3.29          82.0        8.3      E  \n",
       "3     10.93      3.28         2.95          80.0          8      E  \n",
       "4      8.89     10.22         1.00           NaN        NaN    NaN  "
      ]
     },
     "execution_count": 4,
     "metadata": {},
     "output_type": "execute_result"
    }
   ],
   "source": [
    "# Приведем все названия к нижнему регистру \n",
    "data.columns = data.columns.str.lower()\n",
    "data.head(5)"
   ]
  },
  {
   "cell_type": "markdown",
   "metadata": {},
   "source": [
    "Даты выглядят странно, заменим тип данных на целые числа. Избавимся от отсутсвующих значений в \"critic_score\".Также, сомнения вызывает тип данных в столбце user_score, посмотрим уникальные значения этого столбца"
   ]
  },
  {
   "cell_type": "code",
   "execution_count": 5,
   "metadata": {},
   "outputs": [
    {
     "data": {
      "text/plain": [
       "array(['8', 0, '8.3', '8.5', '6.6', '8.4', '8.6', '7.7', '6.3', '7.4',\n",
       "       '8.2', '9', '7.9', '8.1', '8.7', '7.1', '3.4', '5.3', '4.8', '3.2',\n",
       "       '8.9', '6.4', '7.8', '7.5', '2.6', '7.2', '9.2', '7', '7.3', '4.3',\n",
       "       '7.6', '5.7', '5', '9.1', '6.5', 'tbd', '8.8', '6.9', '9.4', '6.8',\n",
       "       '6.1', '6.7', '5.4', '4', '4.9', '4.5', '9.3', '6.2', '4.2', '6',\n",
       "       '3.7', '4.1', '5.8', '5.6', '5.5', '4.4', '4.6', '5.9', '3.9',\n",
       "       '3.1', '2.9', '5.2', '3.3', '4.7', '5.1', '3.5', '2.5', '1.9', '3',\n",
       "       '2.7', '2.2', '2', '9.5', '2.1', '3.6', '2.8', '1.8', '3.8', '0',\n",
       "       '1.6', '9.6', '2.4', '1.7', '1.1', '0.3', '1.5', '0.7', '1.2',\n",
       "       '2.3', '0.5', '1.3', '0.2', '0.6', '1.4', '0.9', '1', '9.7'],\n",
       "      dtype=object)"
      ]
     },
     "execution_count": 5,
     "metadata": {},
     "output_type": "execute_result"
    }
   ],
   "source": [
    "data['genre'] = data['genre'].fillna(0)\n",
    "data['critic_score'] = data['critic_score'].fillna(0)\n",
    "data['user_score'] = data['user_score'].fillna(0)\n",
    "data['user_score'].unique()"
   ]
  },
  {
   "cell_type": "markdown",
   "metadata": {},
   "source": [
    "<div class=\"alert alert-block alert-success\">\n",
    " \n",
    "### Комментарий ревьюера\n",
    "    \n",
    "#### Успех\n",
    "    \n",
    "Ты верно делаешь, что заменяешь пропуски значением-заглушкой. Оптимально их никак не заменить в оценках и лучше все оставить как есть или подставить заглушку. "
   ]
  },
  {
   "cell_type": "code",
   "execution_count": 6,
   "metadata": {},
   "outputs": [
    {
     "data": {
      "text/html": [
       "<div>\n",
       "<style scoped>\n",
       "    .dataframe tbody tr th:only-of-type {\n",
       "        vertical-align: middle;\n",
       "    }\n",
       "\n",
       "    .dataframe tbody tr th {\n",
       "        vertical-align: top;\n",
       "    }\n",
       "\n",
       "    .dataframe thead th {\n",
       "        text-align: right;\n",
       "    }\n",
       "</style>\n",
       "<table border=\"1\" class=\"dataframe\">\n",
       "  <thead>\n",
       "    <tr style=\"text-align: right;\">\n",
       "      <th></th>\n",
       "      <th>year_of_release</th>\n",
       "      <th>na_sales</th>\n",
       "      <th>eu_sales</th>\n",
       "      <th>jp_sales</th>\n",
       "      <th>other_sales</th>\n",
       "      <th>critic_score</th>\n",
       "    </tr>\n",
       "  </thead>\n",
       "  <tbody>\n",
       "    <tr>\n",
       "      <th>year_of_release</th>\n",
       "      <td>1.000000</td>\n",
       "      <td>-0.002386</td>\n",
       "      <td>0.050745</td>\n",
       "      <td>-0.026317</td>\n",
       "      <td>0.053747</td>\n",
       "      <td>0.011411</td>\n",
       "    </tr>\n",
       "    <tr>\n",
       "      <th>na_sales</th>\n",
       "      <td>-0.002386</td>\n",
       "      <td>1.000000</td>\n",
       "      <td>0.840590</td>\n",
       "      <td>0.468787</td>\n",
       "      <td>0.728123</td>\n",
       "      <td>0.240755</td>\n",
       "    </tr>\n",
       "    <tr>\n",
       "      <th>eu_sales</th>\n",
       "      <td>0.050745</td>\n",
       "      <td>0.840590</td>\n",
       "      <td>1.000000</td>\n",
       "      <td>0.520103</td>\n",
       "      <td>0.718046</td>\n",
       "      <td>0.220752</td>\n",
       "    </tr>\n",
       "    <tr>\n",
       "      <th>jp_sales</th>\n",
       "      <td>-0.026317</td>\n",
       "      <td>0.468787</td>\n",
       "      <td>0.520103</td>\n",
       "      <td>1.000000</td>\n",
       "      <td>0.396889</td>\n",
       "      <td>0.152593</td>\n",
       "    </tr>\n",
       "    <tr>\n",
       "      <th>other_sales</th>\n",
       "      <td>0.053747</td>\n",
       "      <td>0.728123</td>\n",
       "      <td>0.718046</td>\n",
       "      <td>0.396889</td>\n",
       "      <td>1.000000</td>\n",
       "      <td>0.198554</td>\n",
       "    </tr>\n",
       "    <tr>\n",
       "      <th>critic_score</th>\n",
       "      <td>0.011411</td>\n",
       "      <td>0.240755</td>\n",
       "      <td>0.220752</td>\n",
       "      <td>0.152593</td>\n",
       "      <td>0.198554</td>\n",
       "      <td>1.000000</td>\n",
       "    </tr>\n",
       "  </tbody>\n",
       "</table>\n",
       "</div>"
      ],
      "text/plain": [
       "                 year_of_release  na_sales  eu_sales  jp_sales  other_sales  \\\n",
       "year_of_release         1.000000 -0.002386  0.050745 -0.026317     0.053747   \n",
       "na_sales               -0.002386  1.000000  0.840590  0.468787     0.728123   \n",
       "eu_sales                0.050745  0.840590  1.000000  0.520103     0.718046   \n",
       "jp_sales               -0.026317  0.468787  0.520103  1.000000     0.396889   \n",
       "other_sales             0.053747  0.728123  0.718046  0.396889     1.000000   \n",
       "critic_score            0.011411  0.240755  0.220752  0.152593     0.198554   \n",
       "\n",
       "                 critic_score  \n",
       "year_of_release      0.011411  \n",
       "na_sales             0.240755  \n",
       "eu_sales             0.220752  \n",
       "jp_sales             0.152593  \n",
       "other_sales          0.198554  \n",
       "critic_score         1.000000  "
      ]
     },
     "execution_count": 6,
     "metadata": {},
     "output_type": "execute_result"
    }
   ],
   "source": [
    "# Рассмотрим связь параметров между собой, чтобы найти потенцальные значения, которыми можно заполнить пропуски\n",
    "data[data['critic_score'] != 0].corr()"
   ]
  },
  {
   "cell_type": "code",
   "execution_count": 7,
   "metadata": {},
   "outputs": [
    {
     "data": {
      "text/html": [
       "<div>\n",
       "<style scoped>\n",
       "    .dataframe tbody tr th:only-of-type {\n",
       "        vertical-align: middle;\n",
       "    }\n",
       "\n",
       "    .dataframe tbody tr th {\n",
       "        vertical-align: top;\n",
       "    }\n",
       "\n",
       "    .dataframe thead th {\n",
       "        text-align: right;\n",
       "    }\n",
       "</style>\n",
       "<table border=\"1\" class=\"dataframe\">\n",
       "  <thead>\n",
       "    <tr style=\"text-align: right;\">\n",
       "      <th></th>\n",
       "      <th>name</th>\n",
       "      <th>platform</th>\n",
       "      <th>year_of_release</th>\n",
       "      <th>genre</th>\n",
       "      <th>na_sales</th>\n",
       "      <th>eu_sales</th>\n",
       "      <th>jp_sales</th>\n",
       "      <th>other_sales</th>\n",
       "      <th>critic_score</th>\n",
       "      <th>user_score</th>\n",
       "      <th>rating</th>\n",
       "    </tr>\n",
       "  </thead>\n",
       "  <tbody>\n",
       "    <tr>\n",
       "      <th>1</th>\n",
       "      <td>Super Mario Bros.</td>\n",
       "      <td>NES</td>\n",
       "      <td>1985.0</td>\n",
       "      <td>Platform</td>\n",
       "      <td>29.08</td>\n",
       "      <td>3.58</td>\n",
       "      <td>6.81</td>\n",
       "      <td>0.77</td>\n",
       "      <td>0.0</td>\n",
       "      <td>0</td>\n",
       "      <td>NaN</td>\n",
       "    </tr>\n",
       "    <tr>\n",
       "      <th>4</th>\n",
       "      <td>Pokemon Red/Pokemon Blue</td>\n",
       "      <td>GB</td>\n",
       "      <td>1996.0</td>\n",
       "      <td>Role-Playing</td>\n",
       "      <td>11.27</td>\n",
       "      <td>8.89</td>\n",
       "      <td>10.22</td>\n",
       "      <td>1.00</td>\n",
       "      <td>0.0</td>\n",
       "      <td>0</td>\n",
       "      <td>NaN</td>\n",
       "    </tr>\n",
       "    <tr>\n",
       "      <th>5</th>\n",
       "      <td>Tetris</td>\n",
       "      <td>GB</td>\n",
       "      <td>1989.0</td>\n",
       "      <td>Puzzle</td>\n",
       "      <td>23.20</td>\n",
       "      <td>2.26</td>\n",
       "      <td>4.22</td>\n",
       "      <td>0.58</td>\n",
       "      <td>0.0</td>\n",
       "      <td>0</td>\n",
       "      <td>NaN</td>\n",
       "    </tr>\n",
       "    <tr>\n",
       "      <th>9</th>\n",
       "      <td>Duck Hunt</td>\n",
       "      <td>NES</td>\n",
       "      <td>1984.0</td>\n",
       "      <td>Shooter</td>\n",
       "      <td>26.93</td>\n",
       "      <td>0.63</td>\n",
       "      <td>0.28</td>\n",
       "      <td>0.47</td>\n",
       "      <td>0.0</td>\n",
       "      <td>0</td>\n",
       "      <td>NaN</td>\n",
       "    </tr>\n",
       "    <tr>\n",
       "      <th>10</th>\n",
       "      <td>Nintendogs</td>\n",
       "      <td>DS</td>\n",
       "      <td>2005.0</td>\n",
       "      <td>Simulation</td>\n",
       "      <td>9.05</td>\n",
       "      <td>10.95</td>\n",
       "      <td>1.93</td>\n",
       "      <td>2.74</td>\n",
       "      <td>0.0</td>\n",
       "      <td>0</td>\n",
       "      <td>NaN</td>\n",
       "    </tr>\n",
       "  </tbody>\n",
       "</table>\n",
       "</div>"
      ],
      "text/plain": [
       "                        name platform  year_of_release         genre  \\\n",
       "1          Super Mario Bros.      NES           1985.0      Platform   \n",
       "4   Pokemon Red/Pokemon Blue       GB           1996.0  Role-Playing   \n",
       "5                     Tetris       GB           1989.0        Puzzle   \n",
       "9                  Duck Hunt      NES           1984.0       Shooter   \n",
       "10                Nintendogs       DS           2005.0    Simulation   \n",
       "\n",
       "    na_sales  eu_sales  jp_sales  other_sales  critic_score user_score rating  \n",
       "1      29.08      3.58      6.81         0.77           0.0          0    NaN  \n",
       "4      11.27      8.89     10.22         1.00           0.0          0    NaN  \n",
       "5      23.20      2.26      4.22         0.58           0.0          0    NaN  \n",
       "9      26.93      0.63      0.28         0.47           0.0          0    NaN  \n",
       "10      9.05     10.95      1.93         2.74           0.0          0    NaN  "
      ]
     },
     "execution_count": 7,
     "metadata": {},
     "output_type": "execute_result"
    }
   ],
   "source": [
    "# Посмотрим как связаны отсутсвующие значения\n",
    "data[data['critic_score']== 0].head(5)"
   ]
  },
  {
   "cell_type": "code",
   "execution_count": 8,
   "metadata": {
    "scrolled": true
   },
   "outputs": [
    {
     "data": {
      "text/html": [
       "<div>\n",
       "<style scoped>\n",
       "    .dataframe tbody tr th:only-of-type {\n",
       "        vertical-align: middle;\n",
       "    }\n",
       "\n",
       "    .dataframe tbody tr th {\n",
       "        vertical-align: top;\n",
       "    }\n",
       "\n",
       "    .dataframe thead th {\n",
       "        text-align: right;\n",
       "    }\n",
       "</style>\n",
       "<table border=\"1\" class=\"dataframe\">\n",
       "  <thead>\n",
       "    <tr style=\"text-align: right;\">\n",
       "      <th></th>\n",
       "      <th>name</th>\n",
       "      <th>platform</th>\n",
       "      <th>year_of_release</th>\n",
       "      <th>genre</th>\n",
       "      <th>na_sales</th>\n",
       "      <th>eu_sales</th>\n",
       "      <th>jp_sales</th>\n",
       "      <th>other_sales</th>\n",
       "      <th>critic_score</th>\n",
       "      <th>user_score</th>\n",
       "      <th>rating</th>\n",
       "    </tr>\n",
       "  </thead>\n",
       "  <tbody>\n",
       "    <tr>\n",
       "      <th>119</th>\n",
       "      <td>Zumba Fitness</td>\n",
       "      <td>Wii</td>\n",
       "      <td>2010.0</td>\n",
       "      <td>Sports</td>\n",
       "      <td>3.45</td>\n",
       "      <td>2.59</td>\n",
       "      <td>0.0</td>\n",
       "      <td>0.66</td>\n",
       "      <td>0.0</td>\n",
       "      <td>tbd</td>\n",
       "      <td>E</td>\n",
       "    </tr>\n",
       "    <tr>\n",
       "      <th>301</th>\n",
       "      <td>Namco Museum: 50th Anniversary</td>\n",
       "      <td>PS2</td>\n",
       "      <td>2005.0</td>\n",
       "      <td>Misc</td>\n",
       "      <td>2.08</td>\n",
       "      <td>1.35</td>\n",
       "      <td>0.0</td>\n",
       "      <td>0.54</td>\n",
       "      <td>61.0</td>\n",
       "      <td>tbd</td>\n",
       "      <td>E10+</td>\n",
       "    </tr>\n",
       "    <tr>\n",
       "      <th>520</th>\n",
       "      <td>Zumba Fitness 2</td>\n",
       "      <td>Wii</td>\n",
       "      <td>2011.0</td>\n",
       "      <td>Sports</td>\n",
       "      <td>1.51</td>\n",
       "      <td>1.03</td>\n",
       "      <td>0.0</td>\n",
       "      <td>0.27</td>\n",
       "      <td>0.0</td>\n",
       "      <td>tbd</td>\n",
       "      <td>T</td>\n",
       "    </tr>\n",
       "    <tr>\n",
       "      <th>645</th>\n",
       "      <td>uDraw Studio</td>\n",
       "      <td>Wii</td>\n",
       "      <td>2010.0</td>\n",
       "      <td>Misc</td>\n",
       "      <td>1.65</td>\n",
       "      <td>0.57</td>\n",
       "      <td>0.0</td>\n",
       "      <td>0.20</td>\n",
       "      <td>71.0</td>\n",
       "      <td>tbd</td>\n",
       "      <td>E</td>\n",
       "    </tr>\n",
       "    <tr>\n",
       "      <th>657</th>\n",
       "      <td>Frogger's Adventures: Temple of the Frog</td>\n",
       "      <td>GBA</td>\n",
       "      <td>NaN</td>\n",
       "      <td>Adventure</td>\n",
       "      <td>2.15</td>\n",
       "      <td>0.18</td>\n",
       "      <td>0.0</td>\n",
       "      <td>0.07</td>\n",
       "      <td>73.0</td>\n",
       "      <td>tbd</td>\n",
       "      <td>E</td>\n",
       "    </tr>\n",
       "    <tr>\n",
       "      <th>...</th>\n",
       "      <td>...</td>\n",
       "      <td>...</td>\n",
       "      <td>...</td>\n",
       "      <td>...</td>\n",
       "      <td>...</td>\n",
       "      <td>...</td>\n",
       "      <td>...</td>\n",
       "      <td>...</td>\n",
       "      <td>...</td>\n",
       "      <td>...</td>\n",
       "      <td>...</td>\n",
       "    </tr>\n",
       "    <tr>\n",
       "      <th>16695</th>\n",
       "      <td>Planet Monsters</td>\n",
       "      <td>GBA</td>\n",
       "      <td>2001.0</td>\n",
       "      <td>Action</td>\n",
       "      <td>0.01</td>\n",
       "      <td>0.00</td>\n",
       "      <td>0.0</td>\n",
       "      <td>0.00</td>\n",
       "      <td>67.0</td>\n",
       "      <td>tbd</td>\n",
       "      <td>E</td>\n",
       "    </tr>\n",
       "    <tr>\n",
       "      <th>16697</th>\n",
       "      <td>Bust-A-Move 3000</td>\n",
       "      <td>GC</td>\n",
       "      <td>2003.0</td>\n",
       "      <td>Puzzle</td>\n",
       "      <td>0.01</td>\n",
       "      <td>0.00</td>\n",
       "      <td>0.0</td>\n",
       "      <td>0.00</td>\n",
       "      <td>53.0</td>\n",
       "      <td>tbd</td>\n",
       "      <td>E</td>\n",
       "    </tr>\n",
       "    <tr>\n",
       "      <th>16698</th>\n",
       "      <td>Mega Brain Boost</td>\n",
       "      <td>DS</td>\n",
       "      <td>2008.0</td>\n",
       "      <td>Puzzle</td>\n",
       "      <td>0.01</td>\n",
       "      <td>0.00</td>\n",
       "      <td>0.0</td>\n",
       "      <td>0.00</td>\n",
       "      <td>48.0</td>\n",
       "      <td>tbd</td>\n",
       "      <td>E</td>\n",
       "    </tr>\n",
       "    <tr>\n",
       "      <th>16704</th>\n",
       "      <td>Plushees</td>\n",
       "      <td>DS</td>\n",
       "      <td>2008.0</td>\n",
       "      <td>Simulation</td>\n",
       "      <td>0.01</td>\n",
       "      <td>0.00</td>\n",
       "      <td>0.0</td>\n",
       "      <td>0.00</td>\n",
       "      <td>0.0</td>\n",
       "      <td>tbd</td>\n",
       "      <td>E</td>\n",
       "    </tr>\n",
       "    <tr>\n",
       "      <th>16706</th>\n",
       "      <td>Men in Black II: Alien Escape</td>\n",
       "      <td>GC</td>\n",
       "      <td>2003.0</td>\n",
       "      <td>Shooter</td>\n",
       "      <td>0.01</td>\n",
       "      <td>0.00</td>\n",
       "      <td>0.0</td>\n",
       "      <td>0.00</td>\n",
       "      <td>0.0</td>\n",
       "      <td>tbd</td>\n",
       "      <td>T</td>\n",
       "    </tr>\n",
       "  </tbody>\n",
       "</table>\n",
       "<p>2424 rows × 11 columns</p>\n",
       "</div>"
      ],
      "text/plain": [
       "                                           name platform  year_of_release  \\\n",
       "119                               Zumba Fitness      Wii           2010.0   \n",
       "301              Namco Museum: 50th Anniversary      PS2           2005.0   \n",
       "520                             Zumba Fitness 2      Wii           2011.0   \n",
       "645                                uDraw Studio      Wii           2010.0   \n",
       "657    Frogger's Adventures: Temple of the Frog      GBA              NaN   \n",
       "...                                         ...      ...              ...   \n",
       "16695                           Planet Monsters      GBA           2001.0   \n",
       "16697                          Bust-A-Move 3000       GC           2003.0   \n",
       "16698                          Mega Brain Boost       DS           2008.0   \n",
       "16704                                  Plushees       DS           2008.0   \n",
       "16706             Men in Black II: Alien Escape       GC           2003.0   \n",
       "\n",
       "            genre  na_sales  eu_sales  jp_sales  other_sales  critic_score  \\\n",
       "119        Sports      3.45      2.59       0.0         0.66           0.0   \n",
       "301          Misc      2.08      1.35       0.0         0.54          61.0   \n",
       "520        Sports      1.51      1.03       0.0         0.27           0.0   \n",
       "645          Misc      1.65      0.57       0.0         0.20          71.0   \n",
       "657     Adventure      2.15      0.18       0.0         0.07          73.0   \n",
       "...           ...       ...       ...       ...          ...           ...   \n",
       "16695      Action      0.01      0.00       0.0         0.00          67.0   \n",
       "16697      Puzzle      0.01      0.00       0.0         0.00          53.0   \n",
       "16698      Puzzle      0.01      0.00       0.0         0.00          48.0   \n",
       "16704  Simulation      0.01      0.00       0.0         0.00           0.0   \n",
       "16706     Shooter      0.01      0.00       0.0         0.00           0.0   \n",
       "\n",
       "      user_score rating  \n",
       "119          tbd      E  \n",
       "301          tbd   E10+  \n",
       "520          tbd      T  \n",
       "645          tbd      E  \n",
       "657          tbd      E  \n",
       "...          ...    ...  \n",
       "16695        tbd      E  \n",
       "16697        tbd      E  \n",
       "16698        tbd      E  \n",
       "16704        tbd      E  \n",
       "16706        tbd      T  \n",
       "\n",
       "[2424 rows x 11 columns]"
      ]
     },
     "execution_count": 8,
     "metadata": {},
     "output_type": "execute_result"
    }
   ],
   "source": [
    "# Встречаются значения \"tbd\" - ознчает, предстоит определить. Посмотрим сколько их:\n",
    "data[data['user_score'] == \"tbd\"]"
   ]
  },
  {
   "cell_type": "markdown",
   "metadata": {},
   "source": [
    "В столбцах с оценками и рейтингом, которые связаны дргуг с другом, практически одинаковое количество пропусков, поэтому заменить средними и медиаными значениями не получится, в данном случае. Значения tbd также заполним нулями, ведь рейтинга еще нет."
   ]
  },
  {
   "cell_type": "code",
   "execution_count": 9,
   "metadata": {},
   "outputs": [],
   "source": [
    "data[data['user_score'] == 'tbd'] = 0\n",
    "data['user_score'] = data['user_score'].astype('float') "
   ]
  },
  {
   "cell_type": "code",
   "execution_count": 10,
   "metadata": {},
   "outputs": [
    {
     "name": "stdout",
     "output_type": "stream",
     "text": [
      "<class 'pandas.core.frame.DataFrame'>\n",
      "RangeIndex: 16715 entries, 0 to 16714\n",
      "Data columns (total 11 columns):\n",
      " #   Column           Non-Null Count  Dtype  \n",
      "---  ------           --------------  -----  \n",
      " 0   name             16713 non-null  object \n",
      " 1   platform         16715 non-null  object \n",
      " 2   year_of_release  16494 non-null  float64\n",
      " 3   genre            16715 non-null  object \n",
      " 4   na_sales         16715 non-null  float64\n",
      " 5   eu_sales         16715 non-null  float64\n",
      " 6   jp_sales         16715 non-null  float64\n",
      " 7   other_sales      16715 non-null  float64\n",
      " 8   critic_score     16715 non-null  float64\n",
      " 9   user_score       16715 non-null  float64\n",
      " 10  rating           9999 non-null   object \n",
      "dtypes: float64(7), object(4)\n",
      "memory usage: 1.4+ MB\n"
     ]
    }
   ],
   "source": [
    "data.info()"
   ]
  },
  {
   "cell_type": "code",
   "execution_count": 11,
   "metadata": {
    "scrolled": false
   },
   "outputs": [
    {
     "data": {
      "text/html": [
       "<div>\n",
       "<style scoped>\n",
       "    .dataframe tbody tr th:only-of-type {\n",
       "        vertical-align: middle;\n",
       "    }\n",
       "\n",
       "    .dataframe tbody tr th {\n",
       "        vertical-align: top;\n",
       "    }\n",
       "\n",
       "    .dataframe thead th {\n",
       "        text-align: right;\n",
       "    }\n",
       "</style>\n",
       "<table border=\"1\" class=\"dataframe\">\n",
       "  <thead>\n",
       "    <tr style=\"text-align: right;\">\n",
       "      <th></th>\n",
       "      <th>name</th>\n",
       "      <th>platform</th>\n",
       "      <th>year_of_release</th>\n",
       "      <th>genre</th>\n",
       "      <th>na_sales</th>\n",
       "      <th>eu_sales</th>\n",
       "      <th>jp_sales</th>\n",
       "      <th>other_sales</th>\n",
       "      <th>critic_score</th>\n",
       "      <th>user_score</th>\n",
       "      <th>rating</th>\n",
       "      <th>sum_sales</th>\n",
       "    </tr>\n",
       "  </thead>\n",
       "  <tbody>\n",
       "    <tr>\n",
       "      <th>0</th>\n",
       "      <td>Wii Sports</td>\n",
       "      <td>Wii</td>\n",
       "      <td>2006.0</td>\n",
       "      <td>Sports</td>\n",
       "      <td>41.36</td>\n",
       "      <td>28.96</td>\n",
       "      <td>3.77</td>\n",
       "      <td>8.45</td>\n",
       "      <td>76.0</td>\n",
       "      <td>8.0</td>\n",
       "      <td>E</td>\n",
       "      <td>82.54</td>\n",
       "    </tr>\n",
       "    <tr>\n",
       "      <th>1</th>\n",
       "      <td>Super Mario Bros.</td>\n",
       "      <td>NES</td>\n",
       "      <td>1985.0</td>\n",
       "      <td>Platform</td>\n",
       "      <td>29.08</td>\n",
       "      <td>3.58</td>\n",
       "      <td>6.81</td>\n",
       "      <td>0.77</td>\n",
       "      <td>0.0</td>\n",
       "      <td>0.0</td>\n",
       "      <td>NaN</td>\n",
       "      <td>40.24</td>\n",
       "    </tr>\n",
       "    <tr>\n",
       "      <th>2</th>\n",
       "      <td>Mario Kart Wii</td>\n",
       "      <td>Wii</td>\n",
       "      <td>2008.0</td>\n",
       "      <td>Racing</td>\n",
       "      <td>15.68</td>\n",
       "      <td>12.76</td>\n",
       "      <td>3.79</td>\n",
       "      <td>3.29</td>\n",
       "      <td>82.0</td>\n",
       "      <td>8.3</td>\n",
       "      <td>E</td>\n",
       "      <td>35.52</td>\n",
       "    </tr>\n",
       "    <tr>\n",
       "      <th>3</th>\n",
       "      <td>Wii Sports Resort</td>\n",
       "      <td>Wii</td>\n",
       "      <td>2009.0</td>\n",
       "      <td>Sports</td>\n",
       "      <td>15.61</td>\n",
       "      <td>10.93</td>\n",
       "      <td>3.28</td>\n",
       "      <td>2.95</td>\n",
       "      <td>80.0</td>\n",
       "      <td>8.0</td>\n",
       "      <td>E</td>\n",
       "      <td>32.77</td>\n",
       "    </tr>\n",
       "    <tr>\n",
       "      <th>4</th>\n",
       "      <td>Pokemon Red/Pokemon Blue</td>\n",
       "      <td>GB</td>\n",
       "      <td>1996.0</td>\n",
       "      <td>Role-Playing</td>\n",
       "      <td>11.27</td>\n",
       "      <td>8.89</td>\n",
       "      <td>10.22</td>\n",
       "      <td>1.00</td>\n",
       "      <td>0.0</td>\n",
       "      <td>0.0</td>\n",
       "      <td>NaN</td>\n",
       "      <td>31.38</td>\n",
       "    </tr>\n",
       "  </tbody>\n",
       "</table>\n",
       "</div>"
      ],
      "text/plain": [
       "                       name platform  year_of_release         genre  na_sales  \\\n",
       "0                Wii Sports      Wii           2006.0        Sports     41.36   \n",
       "1         Super Mario Bros.      NES           1985.0      Platform     29.08   \n",
       "2            Mario Kart Wii      Wii           2008.0        Racing     15.68   \n",
       "3         Wii Sports Resort      Wii           2009.0        Sports     15.61   \n",
       "4  Pokemon Red/Pokemon Blue       GB           1996.0  Role-Playing     11.27   \n",
       "\n",
       "   eu_sales  jp_sales  other_sales  critic_score  user_score rating  sum_sales  \n",
       "0     28.96      3.77         8.45          76.0         8.0      E      82.54  \n",
       "1      3.58      6.81         0.77           0.0         0.0    NaN      40.24  \n",
       "2     12.76      3.79         3.29          82.0         8.3      E      35.52  \n",
       "3     10.93      3.28         2.95          80.0         8.0      E      32.77  \n",
       "4      8.89     10.22         1.00           0.0         0.0    NaN      31.38  "
      ]
     },
     "execution_count": 11,
     "metadata": {},
     "output_type": "execute_result"
    }
   ],
   "source": [
    "#Далее оценим сумму продаж игр\n",
    "#data['sum_sales'] = data['na_sales'] + data['eu_sales'] + data['jp_sales'] + data['other_sales']\n",
    "data['sum_sales'] = data[['na_sales', 'eu_sales', 'jp_sales','other_sales']].sum(axis=1)\n",
    "data.head(5)"
   ]
  },
  {
   "cell_type": "code",
   "execution_count": 12,
   "metadata": {},
   "outputs": [
    {
     "data": {
      "text/plain": [
       "array([2006, 1985, 2008, 2009, 1996, 1989, 1984, 2005, 1999, 2007, 2010,\n",
       "       2013, 2004, 1990, 1988, 2002, 2001, 2011, 1998, 2015, 2012, 2014,\n",
       "       1992, 1997, 1993, 1994, 1982, 2016, 2003, 1986, 2000, 1995, 1991,\n",
       "       1981, 1987, 1980, 1983])"
      ]
     },
     "execution_count": 12,
     "metadata": {},
     "output_type": "execute_result"
    }
   ],
   "source": [
    "data = data.dropna(subset=['year_of_release'], how='all').reset_index(drop = True)\n",
    "data['year_of_release'] = data['year_of_release'].astype('int')\n",
    "data = data[data['year_of_release']!= 0]\n",
    "\n",
    "#data['year_of_release'] = data['year_of_release'].dropna(how = 'all')\n",
    "data['year_of_release'].unique()"
   ]
  },
  {
   "cell_type": "markdown",
   "metadata": {},
   "source": [
    "<div class=\"alert alert-block alert-warning\">\n",
    " \n",
    "### Комментарий ревьюера\n",
    "    \n",
    "#### Совет\n",
    "    \n",
    "Пропусков в столбце по году выпуска было менее 2% и проще было их удалить. А еще для суммирования столбцов можешь использовать такой метод `df['x'] = df[['a', 'b', 'c']].sum(axis=1)`"
   ]
  },
  {
   "cell_type": "markdown",
   "metadata": {},
   "source": [
    "<div class=\"alert alert-info\"> <b>Кирилл:</b> Вячеслав, спасибо, согласен, приходилось постоянно искать способы эти нули исключить. Есть некоторый ступор, вроде-бы можно и хочется удалить данные, но как-будто можешь что-то упустить).Удалил. Также чекнул альернативный способ суммирования по строкам. Работает, спасибо!))</div>"
   ]
  },
  {
   "cell_type": "markdown",
   "metadata": {},
   "source": [
    "<div class=\"alert alert-block alert-success\">\n",
    " \n",
    "# Комментарий ревьюера ver.2 \n",
    "    \n",
    "#### Успех\n",
    "    \n",
    "Супер. Используй на будущее"
   ]
  },
  {
   "cell_type": "markdown",
   "metadata": {},
   "source": [
    "В результате предобработки удалось привести названия столбцов к единому формату, значения к правильным типам данных, а также избавиться от спецефичных значений. Пропуски могут бысть связаны с техническими неполадками при выгрузке, могут быть связаны с тем, что некоторые игры попросту не оценивались. Общий рейтинг состоит из оценок критиков и пользователей, но в большом количестве игр они отсутствуют. "
   ]
  },
  {
   "cell_type": "markdown",
   "metadata": {},
   "source": [
    "<div class=\"alert alert-block alert-success\">\n",
    " \n",
    "### Комментарий ревьюера\n",
    "    \n",
    "#### Успех\n",
    "    \n",
    "Промежуточный вывод составлен и высказаны причины возможного возникновения пропусков. Здорово. "
   ]
  },
  {
   "cell_type": "markdown",
   "metadata": {},
   "source": [
    "## Исследовательский анализ данных"
   ]
  },
  {
   "cell_type": "code",
   "execution_count": 13,
   "metadata": {},
   "outputs": [
    {
     "data": {
      "text/plain": [
       "<AxesSubplot:>"
      ]
     },
     "execution_count": 13,
     "metadata": {},
     "output_type": "execute_result"
    },
    {
     "data": {
      "image/png": "[encoded data removed]",
      "text/plain": [
       "<Figure size 432x288 with 1 Axes>"
      ]
     },
     "metadata": {
      "needs_background": "light"
     },
     "output_type": "display_data"
    }
   ],
   "source": [
    "# Рассмотрим сколько игр выпускалось в разные года\n",
    "data[data['year_of_release']!= 0]['year_of_release'].hist()"
   ]
  },
  {
   "cell_type": "markdown",
   "metadata": {},
   "source": [
    "<div class=\"alert alert-block alert-success\">\n",
    " \n",
    "### Комментарий ревьюера\n",
    "    \n",
    "#### Успех\n",
    "    \n",
    "Классный информативный график у тебя получился. По нему мы видим, как ведет себя выпуск платформ с каждым годом. "
   ]
  },
  {
   "cell_type": "markdown",
   "metadata": {},
   "source": [
    "Основная масса игр была выпущена после 1991 года. Важные изменения происходят каждые 4 года."
   ]
  },
  {
   "cell_type": "code",
   "execution_count": 14,
   "metadata": {},
   "outputs": [
    {
     "data": {
      "text/html": [
       "<div>\n",
       "<style scoped>\n",
       "    .dataframe tbody tr th:only-of-type {\n",
       "        vertical-align: middle;\n",
       "    }\n",
       "\n",
       "    .dataframe tbody tr th {\n",
       "        vertical-align: top;\n",
       "    }\n",
       "\n",
       "    .dataframe thead tr th {\n",
       "        text-align: left;\n",
       "    }\n",
       "\n",
       "    .dataframe thead tr:last-of-type th {\n",
       "        text-align: right;\n",
       "    }\n",
       "</style>\n",
       "<table border=\"1\" class=\"dataframe\">\n",
       "  <thead>\n",
       "    <tr>\n",
       "      <th></th>\n",
       "      <th>count</th>\n",
       "      <th>sum</th>\n",
       "    </tr>\n",
       "    <tr>\n",
       "      <th></th>\n",
       "      <th>sum_sales</th>\n",
       "      <th>sum_sales</th>\n",
       "    </tr>\n",
       "    <tr>\n",
       "      <th>platform</th>\n",
       "      <th></th>\n",
       "      <th></th>\n",
       "    </tr>\n",
       "  </thead>\n",
       "  <tbody>\n",
       "    <tr>\n",
       "      <th>PS2</th>\n",
       "      <td>1891</td>\n",
       "      <td>1171.19</td>\n",
       "    </tr>\n",
       "    <tr>\n",
       "      <th>X360</th>\n",
       "      <td>1149</td>\n",
       "      <td>948.74</td>\n",
       "    </tr>\n",
       "    <tr>\n",
       "      <th>PS3</th>\n",
       "      <td>1219</td>\n",
       "      <td>921.09</td>\n",
       "    </tr>\n",
       "    <tr>\n",
       "      <th>Wii</th>\n",
       "      <td>858</td>\n",
       "      <td>791.91</td>\n",
       "    </tr>\n",
       "    <tr>\n",
       "      <th>PS</th>\n",
       "      <td>1146</td>\n",
       "      <td>714.26</td>\n",
       "    </tr>\n",
       "    <tr>\n",
       "      <th>DS</th>\n",
       "      <td>1377</td>\n",
       "      <td>655.36</td>\n",
       "    </tr>\n",
       "    <tr>\n",
       "      <th>PS4</th>\n",
       "      <td>386</td>\n",
       "      <td>314.00</td>\n",
       "    </tr>\n",
       "    <tr>\n",
       "      <th>PSP</th>\n",
       "      <td>1075</td>\n",
       "      <td>273.11</td>\n",
       "    </tr>\n",
       "    <tr>\n",
       "      <th>GBA</th>\n",
       "      <td>553</td>\n",
       "      <td>263.70</td>\n",
       "    </tr>\n",
       "    <tr>\n",
       "      <th>GB</th>\n",
       "      <td>97</td>\n",
       "      <td>254.43</td>\n",
       "    </tr>\n",
       "    <tr>\n",
       "      <th>3DS</th>\n",
       "      <td>458</td>\n",
       "      <td>253.24</td>\n",
       "    </tr>\n",
       "    <tr>\n",
       "      <th>PC</th>\n",
       "      <td>908</td>\n",
       "      <td>252.25</td>\n",
       "    </tr>\n",
       "    <tr>\n",
       "      <th>NES</th>\n",
       "      <td>98</td>\n",
       "      <td>251.05</td>\n",
       "    </tr>\n",
       "    <tr>\n",
       "      <th>XB</th>\n",
       "      <td>657</td>\n",
       "      <td>236.38</td>\n",
       "    </tr>\n",
       "    <tr>\n",
       "      <th>N64</th>\n",
       "      <td>316</td>\n",
       "      <td>218.01</td>\n",
       "    </tr>\n",
       "    <tr>\n",
       "      <th>SNES</th>\n",
       "      <td>239</td>\n",
       "      <td>200.04</td>\n",
       "    </tr>\n",
       "    <tr>\n",
       "      <th>GC</th>\n",
       "      <td>442</td>\n",
       "      <td>185.68</td>\n",
       "    </tr>\n",
       "    <tr>\n",
       "      <th>XOne</th>\n",
       "      <td>236</td>\n",
       "      <td>158.77</td>\n",
       "    </tr>\n",
       "    <tr>\n",
       "      <th>2600</th>\n",
       "      <td>116</td>\n",
       "      <td>86.48</td>\n",
       "    </tr>\n",
       "    <tr>\n",
       "      <th>WiiU</th>\n",
       "      <td>142</td>\n",
       "      <td>81.79</td>\n",
       "    </tr>\n",
       "    <tr>\n",
       "      <th>PSV</th>\n",
       "      <td>422</td>\n",
       "      <td>53.50</td>\n",
       "    </tr>\n",
       "    <tr>\n",
       "      <th>SAT</th>\n",
       "      <td>173</td>\n",
       "      <td>33.59</td>\n",
       "    </tr>\n",
       "    <tr>\n",
       "      <th>GEN</th>\n",
       "      <td>29</td>\n",
       "      <td>30.77</td>\n",
       "    </tr>\n",
       "    <tr>\n",
       "      <th>DC</th>\n",
       "      <td>52</td>\n",
       "      <td>15.95</td>\n",
       "    </tr>\n",
       "    <tr>\n",
       "      <th>SCD</th>\n",
       "      <td>6</td>\n",
       "      <td>1.86</td>\n",
       "    </tr>\n",
       "    <tr>\n",
       "      <th>NG</th>\n",
       "      <td>12</td>\n",
       "      <td>1.44</td>\n",
       "    </tr>\n",
       "    <tr>\n",
       "      <th>WS</th>\n",
       "      <td>6</td>\n",
       "      <td>1.42</td>\n",
       "    </tr>\n",
       "    <tr>\n",
       "      <th>TG16</th>\n",
       "      <td>2</td>\n",
       "      <td>0.16</td>\n",
       "    </tr>\n",
       "    <tr>\n",
       "      <th>3DO</th>\n",
       "      <td>3</td>\n",
       "      <td>0.10</td>\n",
       "    </tr>\n",
       "    <tr>\n",
       "      <th>GG</th>\n",
       "      <td>1</td>\n",
       "      <td>0.04</td>\n",
       "    </tr>\n",
       "    <tr>\n",
       "      <th>PCFX</th>\n",
       "      <td>1</td>\n",
       "      <td>0.03</td>\n",
       "    </tr>\n",
       "  </tbody>\n",
       "</table>\n",
       "</div>"
      ],
      "text/plain": [
       "             count       sum\n",
       "         sum_sales sum_sales\n",
       "platform                    \n",
       "PS2           1891   1171.19\n",
       "X360          1149    948.74\n",
       "PS3           1219    921.09\n",
       "Wii            858    791.91\n",
       "PS            1146    714.26\n",
       "DS            1377    655.36\n",
       "PS4            386    314.00\n",
       "PSP           1075    273.11\n",
       "GBA            553    263.70\n",
       "GB              97    254.43\n",
       "3DS            458    253.24\n",
       "PC             908    252.25\n",
       "NES             98    251.05\n",
       "XB             657    236.38\n",
       "N64            316    218.01\n",
       "SNES           239    200.04\n",
       "GC             442    185.68\n",
       "XOne           236    158.77\n",
       "2600           116     86.48\n",
       "WiiU           142     81.79\n",
       "PSV            422     53.50\n",
       "SAT            173     33.59\n",
       "GEN             29     30.77\n",
       "DC              52     15.95\n",
       "SCD              6      1.86\n",
       "NG              12      1.44\n",
       "WS               6      1.42\n",
       "TG16             2      0.16\n",
       "3DO              3      0.10\n",
       "GG               1      0.04\n",
       "PCFX             1      0.03"
      ]
     },
     "execution_count": 14,
     "metadata": {},
     "output_type": "execute_result"
    }
   ],
   "source": [
    "#Рассмотрим топ платформ по суммарным продажам\n",
    "top_sales = data.pivot_table(index = 'platform', values = 'sum_sales', aggfunc = ['count', 'sum'])\n",
    "top_sales.sort_values(by=[('sum','sum_sales')], ascending=False)"
   ]
  },
  {
   "cell_type": "markdown",
   "metadata": {},
   "source": [
    "<div class=\"alert alert-block alert-success\">\n",
    " \n",
    "### Комментарий ревьюера\n",
    "    \n",
    "#### Успех\n",
    "    \n",
    "А вот и на лидеров по продажам платформ посмотрели"
   ]
  },
  {
   "cell_type": "markdown",
   "metadata": {},
   "source": [
    "Наиболее прибыльными за все периодаы являются платформы PS2, X360, PS3, Wii и PS. "
   ]
  },
  {
   "cell_type": "code",
   "execution_count": 15,
   "metadata": {},
   "outputs": [
    {
     "data": {
      "image/png": "[encoded data removed]",
      "text/plain": [
       "<Figure size 432x288 with 1 Axes>"
      ]
     },
     "metadata": {
      "needs_background": "light"
     },
     "output_type": "display_data"
    },
    {
     "data": {
      "image/png": "[encoded data removed]",
      "text/plain": [
       "<Figure size 432x288 with 1 Axes>"
      ]
     },
     "metadata": {
      "needs_background": "light"
     },
     "output_type": "display_data"
    },
    {
     "data": {
      "image/png": "[encoded data removed]",
      "text/plain": [
       "<Figure size 432x288 with 1 Axes>"
      ]
     },
     "metadata": {
      "needs_background": "light"
     },
     "output_type": "display_data"
    },
    {
     "data": {
      "image/png": "[encoded data removed]",
      "text/plain": [
       "<Figure size 432x288 with 1 Axes>"
      ]
     },
     "metadata": {
      "needs_background": "light"
     },
     "output_type": "display_data"
    },
    {
     "data": {
      "image/png": "[encoded data removed]",
      "text/plain": [
       "<Figure size 432x288 with 1 Axes>"
      ]
     },
     "metadata": {
      "needs_background": "light"
     },
     "output_type": "display_data"
    }
   ],
   "source": [
    "# Рассмотрим как меняются продажи игр на эти платформы во времени\n",
    "ps_2 = (data\n",
    "    .query('platform == \"PS2\"').pivot_table(index= 'year_of_release', values = 'sum_sales', aggfunc = ['sum'])\n",
    ")\n",
    "x_360 = (data\n",
    "    .query('platform == \"X360\"').pivot_table(index= 'year_of_release', values = 'sum_sales', aggfunc = ['sum'])\n",
    ")\n",
    "ps_3 = (data\n",
    "    .query('platform == \"PS3\"').pivot_table(index= 'year_of_release', values = 'sum_sales', aggfunc = ['sum'])\n",
    ")\n",
    "wii = (data\n",
    "    .query('platform == \"Wii\"').pivot_table(index= 'year_of_release', values = 'sum_sales', aggfunc = ['sum'])\n",
    ")\n",
    "ps = (data\n",
    "    .query('platform == \"PS\"').pivot_table(index= 'year_of_release', values = 'sum_sales', aggfunc = ['sum'])\n",
    ")\n",
    "\n",
    "for i in [ps_2,x_360,ps_3,wii,ps]:\n",
    "    i.plot(kind = 'bar')"
   ]
  },
  {
   "cell_type": "markdown",
   "metadata": {},
   "source": [
    "<div class=\"alert alert-block alert-warning\">\n",
    " \n",
    "### Комментарий ревьюера\n",
    "    \n",
    "#### Совет\n",
    "    \n",
    "Автоматизированный метод вывода графиков это хорошо, но тебе можно был оне копипастить каждый раз `(data\n",
    "    .query('platform == \"PS2\"').pivot_table(index= 'year_of_release', values = 'sum_sales', aggfunc = ['sum'])` а вместо этого через цикл подставлять название платформы. Получилось бы намного компактнее. "
   ]
  },
  {
   "cell_type": "markdown",
   "metadata": {},
   "source": [
    "<div class=\"alert alert-info\"> <b>Кирилл:</b> Вячеслав, спасибо, согласен, но я так и не допетрил.\n",
    "Я уже и двойной цикл прописывал. Остановился на чем-то таком:\n",
    "    \n",
    "<r>`platform_top = []\n",
    "for i in data:\n",
    "        if i == 'platform':\n",
    "            for j in i.unique():\n",
    "               platform_top.append( i = (data.query('platform == \"j\"').pivot_table(index= 'year_of_release', values = 'sum_sales', aggfunc = ['sum'])`<r>\n",
    "</div>"
   ]
  },
  {
   "cell_type": "markdown",
   "metadata": {},
   "source": [
    "<div class=\"alert alert-block alert-success\">\n",
    " \n",
    "# Комментарий ревьюера ver.2 \n",
    "    \n",
    "#### Успех\n",
    "    \n",
    "Оставил тебе пример ниже. Используй на будущее:) "
   ]
  },
  {
   "cell_type": "code",
   "execution_count": 26,
   "metadata": {},
   "outputs": [
    {
     "data": {
      "image/png": "[encoded data removed]",
      "text/plain": [
       "<Figure size 432x288 with 1 Axes>"
      ]
     },
     "metadata": {
      "needs_background": "light"
     },
     "output_type": "display_data"
    },
    {
     "data": {
      "image/png": "[encoded data removed]",
      "text/plain": [
       "<Figure size 432x288 with 1 Axes>"
      ]
     },
     "metadata": {
      "needs_background": "light"
     },
     "output_type": "display_data"
    }
   ],
   "source": [
    "spisok = ['PS2', 'X360']\n",
    "for i in spisok:\n",
    "    (data[data['platform'] == i].pivot_table(index= 'year_of_release', values = 'sum_sales', aggfunc = ['sum'])).plot(kind = 'bar')"
   ]
  },
  {
   "cell_type": "markdown",
   "metadata": {},
   "source": [
    "<div class=\"alert alert-block alert-danger\">\n",
    " \n",
    "### Комментарий ревьюера\n",
    "    \n",
    "#### Ошибка\n",
    "    \n",
    "Давай ты уберешь 0 из выборки по годам. Это искусственное значение и лучше смотреть на чистые данные. "
   ]
  },
  {
   "cell_type": "markdown",
   "metadata": {},
   "source": [
    "Наблюдается преобладание в продажах на участках 1 - 2  года, далее тенденция снижается, за 4-5 лет платформа может полностью уйти с рынка. К примеру, появление PS3 вытесняет более устаревушю версию PS2, начиная с 2007 года. Для более точного планирования стратегии понадобятся актуальные данные за последние годы. Будем рассматривать период с 2012 по 2016г."
   ]
  },
  {
   "cell_type": "code",
   "execution_count": 164,
   "metadata": {},
   "outputs": [
    {
     "data": {
      "text/html": [
       "<div>\n",
       "<style scoped>\n",
       "    .dataframe tbody tr th:only-of-type {\n",
       "        vertical-align: middle;\n",
       "    }\n",
       "\n",
       "    .dataframe tbody tr th {\n",
       "        vertical-align: top;\n",
       "    }\n",
       "\n",
       "    .dataframe thead tr th {\n",
       "        text-align: left;\n",
       "    }\n",
       "\n",
       "    .dataframe thead tr:last-of-type th {\n",
       "        text-align: right;\n",
       "    }\n",
       "</style>\n",
       "<table border=\"1\" class=\"dataframe\">\n",
       "  <thead>\n",
       "    <tr>\n",
       "      <th></th>\n",
       "      <th>count</th>\n",
       "      <th>sum</th>\n",
       "    </tr>\n",
       "    <tr>\n",
       "      <th></th>\n",
       "      <th>sum_sales</th>\n",
       "      <th>sum_sales</th>\n",
       "    </tr>\n",
       "    <tr>\n",
       "      <th>platform</th>\n",
       "      <th></th>\n",
       "      <th></th>\n",
       "    </tr>\n",
       "  </thead>\n",
       "  <tbody>\n",
       "    <tr>\n",
       "      <th>PS4</th>\n",
       "      <td>386</td>\n",
       "      <td>314.00</td>\n",
       "    </tr>\n",
       "    <tr>\n",
       "      <th>PS3</th>\n",
       "      <td>467</td>\n",
       "      <td>287.39</td>\n",
       "    </tr>\n",
       "    <tr>\n",
       "      <th>X360</th>\n",
       "      <td>281</td>\n",
       "      <td>235.00</td>\n",
       "    </tr>\n",
       "    <tr>\n",
       "      <th>3DS</th>\n",
       "      <td>367</td>\n",
       "      <td>192.71</td>\n",
       "    </tr>\n",
       "    <tr>\n",
       "      <th>XOne</th>\n",
       "      <td>236</td>\n",
       "      <td>158.77</td>\n",
       "    </tr>\n",
       "    <tr>\n",
       "      <th>WiiU</th>\n",
       "      <td>142</td>\n",
       "      <td>81.79</td>\n",
       "    </tr>\n",
       "    <tr>\n",
       "      <th>PC</th>\n",
       "      <td>245</td>\n",
       "      <td>62.56</td>\n",
       "    </tr>\n",
       "    <tr>\n",
       "      <th>PSV</th>\n",
       "      <td>404</td>\n",
       "      <td>48.87</td>\n",
       "    </tr>\n",
       "    <tr>\n",
       "      <th>Wii</th>\n",
       "      <td>37</td>\n",
       "      <td>31.95</td>\n",
       "    </tr>\n",
       "    <tr>\n",
       "      <th>DS</th>\n",
       "      <td>18</td>\n",
       "      <td>11.25</td>\n",
       "    </tr>\n",
       "    <tr>\n",
       "      <th>PSP</th>\n",
       "      <td>171</td>\n",
       "      <td>10.82</td>\n",
       "    </tr>\n",
       "  </tbody>\n",
       "</table>\n",
       "</div>"
      ],
      "text/plain": [
       "             count       sum\n",
       "         sum_sales sum_sales\n",
       "platform                    \n",
       "PS4            386    314.00\n",
       "PS3            467    287.39\n",
       "X360           281    235.00\n",
       "3DS            367    192.71\n",
       "XOne           236    158.77\n",
       "WiiU           142     81.79\n",
       "PC             245     62.56\n",
       "PSV            404     48.87\n",
       "Wii             37     31.95\n",
       "DS              18     11.25\n",
       "PSP            171     10.82"
      ]
     },
     "execution_count": 164,
     "metadata": {},
     "output_type": "execute_result"
    }
   ],
   "source": [
    "# Приступим к анализу за актуальный период, посмотрим какие платформы лидируют в последнее время\n",
    "actual_sales = (data\n",
    "    .query('year_of_release >= 2012').pivot_table(index= 'platform', values = 'sum_sales', aggfunc = ['count','sum'])\n",
    "               )\n",
    "actual_sales.sort_values(by=[('sum','sum_sales')], ascending=False)"
   ]
  },
  {
   "cell_type": "markdown",
   "metadata": {},
   "source": [
    "<div class=\"alert alert-block alert-warning\">\n",
    " \n",
    "### Комментарий ревьюера\n",
    "    \n",
    "#### Совет\n",
    "    \n",
    "Для целей прогнозирования продаж на следующий год даже в традиционных бизнесах редко берут данные более чем за 2-3 года. А в такой динамично меняющейся индустрии, как компьютерные игры и вовсе не стоит брать слишком большой временной интервал - иначе обязательно захватишь уже отжившие тренды. Но и слишком короткий период тоже брать не стоит."
   ]
  },
  {
   "cell_type": "code",
   "execution_count": 165,
   "metadata": {},
   "outputs": [
    {
     "data": {
      "image/png": "[encoded data removed]",
      "text/plain": [
       "<Figure size 864x576 with 1 Axes>"
      ]
     },
     "metadata": {},
     "output_type": "display_data"
    },
    {
     "data": {
      "image/png": "[encoded data removed]",
      "text/plain": [
       "<Figure size 864x576 with 1 Axes>"
      ]
     },
     "metadata": {},
     "output_type": "display_data"
    },
    {
     "data": {
      "image/png": "[encoded data removed]",
      "text/plain": [
       "<Figure size 864x576 with 1 Axes>"
      ]
     },
     "metadata": {},
     "output_type": "display_data"
    },
    {
     "data": {
      "image/png": "[encoded data removed]",
      "text/plain": [
       "<Figure size 864x576 with 1 Axes>"
      ]
     },
     "metadata": {},
     "output_type": "display_data"
    },
    {
     "data": {
      "image/png": "[encoded data removed]",
      "text/plain": [
       "<Figure size 864x576 with 1 Axes>"
      ]
     },
     "metadata": {},
     "output_type": "display_data"
    },
    {
     "data": {
      "image/png": "[encoded data removed]",
      "text/plain": [
       "<Figure size 864x576 with 1 Axes>"
      ]
     },
     "metadata": {},
     "output_type": "display_data"
    },
    {
     "data": {
      "image/png": "[encoded data removed]",
      "text/plain": [
       "<Figure size 864x576 with 1 Axes>"
      ]
     },
     "metadata": {},
     "output_type": "display_data"
    },
    {
     "data": {
      "image/png": "[encoded data removed]",
      "text/plain": [
       "<Figure size 864x576 with 1 Axes>"
      ]
     },
     "metadata": {},
     "output_type": "display_data"
    },
    {
     "data": {
      "image/png": "[encoded data removed]",
      "text/plain": [
       "<Figure size 864x576 with 1 Axes>"
      ]
     },
     "metadata": {},
     "output_type": "display_data"
    },
    {
     "data": {
      "image/png": "[encoded data removed]",
      "text/plain": [
       "<Figure size 864x576 with 1 Axes>"
      ]
     },
     "metadata": {},
     "output_type": "display_data"
    },
    {
     "data": {
      "image/png": "[encoded data removed]",
      "text/plain": [
       "<Figure size 864x576 with 1 Axes>"
      ]
     },
     "metadata": {},
     "output_type": "display_data"
    }
   ],
   "source": [
    "# Рассмотрим динамику каждой платофрмы\n",
    "ps_4 = (data\n",
    "    .query('platform == \"PS4\" & year_of_release >= 2012').\n",
    "        pivot_table(index= 'year_of_release', values = 'sum_sales', aggfunc = ['sum'])\n",
    ")\n",
    "x_360 = (data\n",
    "    .query('platform == \"X360\"& year_of_release >= 2012')\n",
    "         .pivot_table(index= 'year_of_release', values = 'sum_sales', aggfunc = ['sum'])\n",
    ")\n",
    "ps_3 = (data\n",
    "    .query('platform == \"PS3\"& year_of_release >= 2012')\n",
    "        .pivot_table(index= 'year_of_release', values = 'sum_sales', aggfunc = ['sum'])\n",
    ")\n",
    "ds_3 = (data\n",
    "    .query('platform == \"3DS\"& year_of_release >= 2012')\n",
    "        .pivot_table(index= 'year_of_release', values = 'sum_sales', aggfunc = ['sum'])\n",
    ")\n",
    "x_one = (data\n",
    "    .query('platform == \"XOne\"& year_of_release >= 2012')\n",
    "         .pivot_table(index= 'year_of_release', values = 'sum_sales', aggfunc = ['sum'])\n",
    ")\n",
    "wiiu = (data\n",
    "    .query('platform == \"WiiU\"& year_of_release >= 2012')\n",
    "        .pivot_table(index= 'year_of_release', values = 'sum_sales', aggfunc = ['sum'])\n",
    ")\n",
    "pc = (data\n",
    "    .query('platform == \"PC\"& year_of_release >= 2012')\n",
    "        .pivot_table(index= 'year_of_release', values = 'sum_sales', aggfunc = ['sum'])\n",
    ")\n",
    "psv = (data\n",
    "    .query('platform == \"PSV\"& year_of_release >= 2012')\n",
    "        .pivot_table(index= 'year_of_release', values = 'sum_sales', aggfunc = ['sum'])\n",
    ")\n",
    "wii = (data\n",
    "    .query('platform == \"Wii\"& year_of_release >= 2012')\n",
    "        .pivot_table(index= 'year_of_release', values = 'sum_sales', aggfunc = ['sum'])\n",
    ")\n",
    "ds = (data\n",
    "    .query('platform == \"DS\"& year_of_release >= 2012')\n",
    "        .pivot_table(index= 'year_of_release', values = 'sum_sales', aggfunc = ['sum'])\n",
    ")\n",
    "psp = (data\n",
    "    .query('platform == \"PSP\"& year_of_release >= 2012')\n",
    "        .pivot_table(index= 'year_of_release', values = 'sum_sales', aggfunc = ['sum'])\n",
    ")\n",
    "#t = ['ps_4','x_360','ps_3','ds_3','x_one', 'wiiu', 'pc', 'psv', 'wii', 'ds', 'psp']\n",
    "for i in [ps_4,x_360,ps_3,ds_3,x_one, wiiu, pc, psv, wii, ds, psp]:\n",
    "    i.plot(kind = 'bar')"
   ]
  },
  {
   "cell_type": "markdown",
   "metadata": {},
   "source": [
    "<div class=\"alert alert-block alert-warning\">\n",
    " \n",
    "### Комментарий ревьюера\n",
    "    \n",
    "#### Совет\n",
    "    \n",
    "Аналогично касаемо цикла. "
   ]
  },
  {
   "cell_type": "markdown",
   "metadata": {},
   "source": [
    "<div class=\"alert alert-info\"> <b>Кирилл:</b> Понимаю, что есть способ попроще чем я выше описал, что-то упускаю</div>"
   ]
  },
  {
   "cell_type": "markdown",
   "metadata": {},
   "source": [
    "Набирают популярность следующие платформы: PS4, XOne. Остальные платформы стремительно идут на спад."
   ]
  },
  {
   "cell_type": "code",
   "execution_count": 166,
   "metadata": {},
   "outputs": [
    {
     "data": {
      "text/html": [
       "<div>\n",
       "<style scoped>\n",
       "    .dataframe tbody tr th:only-of-type {\n",
       "        vertical-align: middle;\n",
       "    }\n",
       "\n",
       "    .dataframe tbody tr th {\n",
       "        vertical-align: top;\n",
       "    }\n",
       "\n",
       "    .dataframe thead th {\n",
       "        text-align: right;\n",
       "    }\n",
       "</style>\n",
       "<table border=\"1\" class=\"dataframe\">\n",
       "  <thead>\n",
       "    <tr style=\"text-align: right;\">\n",
       "      <th></th>\n",
       "      <th>name</th>\n",
       "      <th>platform</th>\n",
       "      <th>year_of_release</th>\n",
       "      <th>genre</th>\n",
       "      <th>na_sales</th>\n",
       "      <th>eu_sales</th>\n",
       "      <th>jp_sales</th>\n",
       "      <th>other_sales</th>\n",
       "      <th>critic_score</th>\n",
       "      <th>user_score</th>\n",
       "      <th>rating</th>\n",
       "      <th>sum_sales</th>\n",
       "    </tr>\n",
       "  </thead>\n",
       "  <tbody>\n",
       "    <tr>\n",
       "      <th>0</th>\n",
       "      <td>Wii Sports</td>\n",
       "      <td>Wii</td>\n",
       "      <td>2006</td>\n",
       "      <td>Sports</td>\n",
       "      <td>41.36</td>\n",
       "      <td>28.96</td>\n",
       "      <td>3.77</td>\n",
       "      <td>8.45</td>\n",
       "      <td>76.0</td>\n",
       "      <td>8.0</td>\n",
       "      <td>E</td>\n",
       "      <td>82.54</td>\n",
       "    </tr>\n",
       "    <tr>\n",
       "      <th>1</th>\n",
       "      <td>Super Mario Bros.</td>\n",
       "      <td>NES</td>\n",
       "      <td>1985</td>\n",
       "      <td>Platform</td>\n",
       "      <td>29.08</td>\n",
       "      <td>3.58</td>\n",
       "      <td>6.81</td>\n",
       "      <td>0.77</td>\n",
       "      <td>0.0</td>\n",
       "      <td>0.0</td>\n",
       "      <td>NaN</td>\n",
       "      <td>40.24</td>\n",
       "    </tr>\n",
       "    <tr>\n",
       "      <th>2</th>\n",
       "      <td>Mario Kart Wii</td>\n",
       "      <td>Wii</td>\n",
       "      <td>2008</td>\n",
       "      <td>Racing</td>\n",
       "      <td>15.68</td>\n",
       "      <td>12.76</td>\n",
       "      <td>3.79</td>\n",
       "      <td>3.29</td>\n",
       "      <td>82.0</td>\n",
       "      <td>8.3</td>\n",
       "      <td>E</td>\n",
       "      <td>35.52</td>\n",
       "    </tr>\n",
       "    <tr>\n",
       "      <th>3</th>\n",
       "      <td>Wii Sports Resort</td>\n",
       "      <td>Wii</td>\n",
       "      <td>2009</td>\n",
       "      <td>Sports</td>\n",
       "      <td>15.61</td>\n",
       "      <td>10.93</td>\n",
       "      <td>3.28</td>\n",
       "      <td>2.95</td>\n",
       "      <td>80.0</td>\n",
       "      <td>8.0</td>\n",
       "      <td>E</td>\n",
       "      <td>32.77</td>\n",
       "    </tr>\n",
       "    <tr>\n",
       "      <th>4</th>\n",
       "      <td>Pokemon Red/Pokemon Blue</td>\n",
       "      <td>GB</td>\n",
       "      <td>1996</td>\n",
       "      <td>Role-Playing</td>\n",
       "      <td>11.27</td>\n",
       "      <td>8.89</td>\n",
       "      <td>10.22</td>\n",
       "      <td>1.00</td>\n",
       "      <td>0.0</td>\n",
       "      <td>0.0</td>\n",
       "      <td>NaN</td>\n",
       "      <td>31.38</td>\n",
       "    </tr>\n",
       "  </tbody>\n",
       "</table>\n",
       "</div>"
      ],
      "text/plain": [
       "                       name platform  year_of_release         genre  na_sales  \\\n",
       "0                Wii Sports      Wii             2006        Sports     41.36   \n",
       "1         Super Mario Bros.      NES             1985      Platform     29.08   \n",
       "2            Mario Kart Wii      Wii             2008        Racing     15.68   \n",
       "3         Wii Sports Resort      Wii             2009        Sports     15.61   \n",
       "4  Pokemon Red/Pokemon Blue       GB             1996  Role-Playing     11.27   \n",
       "\n",
       "   eu_sales  jp_sales  other_sales  critic_score  user_score rating  sum_sales  \n",
       "0     28.96      3.77         8.45          76.0         8.0      E      82.54  \n",
       "1      3.58      6.81         0.77           0.0         0.0    NaN      40.24  \n",
       "2     12.76      3.79         3.29          82.0         8.3      E      35.52  \n",
       "3     10.93      3.28         2.95          80.0         8.0      E      32.77  \n",
       "4      8.89     10.22         1.00           0.0         0.0    NaN      31.38  "
      ]
     },
     "execution_count": 166,
     "metadata": {},
     "output_type": "execute_result"
    }
   ],
   "source": [
    "#Просмотрим данные\n",
    "data.head(5)"
   ]
  },
  {
   "cell_type": "code",
   "execution_count": 167,
   "metadata": {},
   "outputs": [
    {
     "data": {
      "image/png": "[encoded data removed]",
      "text/plain": [
       "<Figure size 864x576 with 1 Axes>"
      ]
     },
     "metadata": {},
     "output_type": "display_data"
    }
   ],
   "source": [
    "# Построим диаграмму размаха \n",
    "sns.boxplot(data=data.loc[data['year_of_release'] >=2012 ] , x = 'platform' , y= 'sum_sales')\n",
    "plt.ylim(0, 3)\n",
    "sns.set (rc={'figure.figsize':(12,8)})"
   ]
  },
  {
   "cell_type": "markdown",
   "metadata": {},
   "source": [
    "<div class=\"alert alert-block alert-success\">\n",
    " \n",
    "### Комментарий ревьюера\n",
    "    \n",
    "#### Успех\n",
    "    \n",
    "Тут отдельно хочу выделить то, что ты ограничил вывод выбросов на графике. Теперь нам отчетливо видно медиану и квантили."
   ]
  },
  {
   "cell_type": "markdown",
   "metadata": {},
   "source": [
    "Наблюдается большое количество выбросов. У топовых платформ невысокие медианные значения относительно дргуих платформ.  Посмотрим какая связь продаж PS4 и оценками пользователей и критиков."
   ]
  },
  {
   "cell_type": "code",
   "execution_count": 168,
   "metadata": {},
   "outputs": [
    {
     "name": "stdout",
     "output_type": "stream",
     "text": [
      "<class 'pandas.core.frame.DataFrame'>\n",
      "Int64Index: 14070 entries, 0 to 16493\n",
      "Data columns (total 12 columns):\n",
      " #   Column           Non-Null Count  Dtype  \n",
      "---  ------           --------------  -----  \n",
      " 0   name             14068 non-null  object \n",
      " 1   platform         14070 non-null  object \n",
      " 2   year_of_release  14070 non-null  int64  \n",
      " 3   genre            14070 non-null  object \n",
      " 4   na_sales         14070 non-null  float64\n",
      " 5   eu_sales         14070 non-null  float64\n",
      " 6   jp_sales         14070 non-null  float64\n",
      " 7   other_sales      14070 non-null  float64\n",
      " 8   critic_score     14070 non-null  float64\n",
      " 9   user_score       14070 non-null  float64\n",
      " 10  rating           7442 non-null   object \n",
      " 11  sum_sales        14070 non-null  float64\n",
      "dtypes: float64(7), int64(1), object(4)\n",
      "memory usage: 1.4+ MB\n"
     ]
    }
   ],
   "source": [
    "data.info()"
   ]
  },
  {
   "cell_type": "code",
   "execution_count": 169,
   "metadata": {},
   "outputs": [
    {
     "data": {
      "text/html": [
       "<div>\n",
       "<style scoped>\n",
       "    .dataframe tbody tr th:only-of-type {\n",
       "        vertical-align: middle;\n",
       "    }\n",
       "\n",
       "    .dataframe tbody tr th {\n",
       "        vertical-align: top;\n",
       "    }\n",
       "\n",
       "    .dataframe thead th {\n",
       "        text-align: right;\n",
       "    }\n",
       "</style>\n",
       "<table border=\"1\" class=\"dataframe\">\n",
       "  <thead>\n",
       "    <tr style=\"text-align: right;\">\n",
       "      <th></th>\n",
       "      <th>name</th>\n",
       "      <th>platform</th>\n",
       "      <th>year_of_release</th>\n",
       "      <th>genre</th>\n",
       "      <th>na_sales</th>\n",
       "      <th>eu_sales</th>\n",
       "      <th>jp_sales</th>\n",
       "      <th>other_sales</th>\n",
       "      <th>critic_score</th>\n",
       "      <th>user_score</th>\n",
       "      <th>rating</th>\n",
       "      <th>sum_sales</th>\n",
       "    </tr>\n",
       "  </thead>\n",
       "  <tbody>\n",
       "    <tr>\n",
       "      <th>42</th>\n",
       "      <td>Grand Theft Auto V</td>\n",
       "      <td>PS4</td>\n",
       "      <td>2014</td>\n",
       "      <td>Action</td>\n",
       "      <td>3.96</td>\n",
       "      <td>6.31</td>\n",
       "      <td>0.38</td>\n",
       "      <td>1.97</td>\n",
       "      <td>97.0</td>\n",
       "      <td>8.3</td>\n",
       "      <td>M</td>\n",
       "      <td>12.62</td>\n",
       "    </tr>\n",
       "    <tr>\n",
       "      <th>77</th>\n",
       "      <td>FIFA 16</td>\n",
       "      <td>PS4</td>\n",
       "      <td>2015</td>\n",
       "      <td>Sports</td>\n",
       "      <td>1.12</td>\n",
       "      <td>6.12</td>\n",
       "      <td>0.06</td>\n",
       "      <td>1.28</td>\n",
       "      <td>82.0</td>\n",
       "      <td>4.3</td>\n",
       "      <td>E</td>\n",
       "      <td>8.58</td>\n",
       "    </tr>\n",
       "    <tr>\n",
       "      <th>92</th>\n",
       "      <td>Call of Duty: Advanced Warfare</td>\n",
       "      <td>PS4</td>\n",
       "      <td>2014</td>\n",
       "      <td>Shooter</td>\n",
       "      <td>2.81</td>\n",
       "      <td>3.48</td>\n",
       "      <td>0.14</td>\n",
       "      <td>1.23</td>\n",
       "      <td>83.0</td>\n",
       "      <td>5.7</td>\n",
       "      <td>M</td>\n",
       "      <td>7.66</td>\n",
       "    </tr>\n",
       "    <tr>\n",
       "      <th>94</th>\n",
       "      <td>FIFA 17</td>\n",
       "      <td>PS4</td>\n",
       "      <td>2016</td>\n",
       "      <td>Sports</td>\n",
       "      <td>0.66</td>\n",
       "      <td>5.75</td>\n",
       "      <td>0.08</td>\n",
       "      <td>1.11</td>\n",
       "      <td>85.0</td>\n",
       "      <td>5.0</td>\n",
       "      <td>E</td>\n",
       "      <td>7.60</td>\n",
       "    </tr>\n",
       "    <tr>\n",
       "      <th>105</th>\n",
       "      <td>Fallout 4</td>\n",
       "      <td>PS4</td>\n",
       "      <td>2015</td>\n",
       "      <td>Role-Playing</td>\n",
       "      <td>2.53</td>\n",
       "      <td>3.27</td>\n",
       "      <td>0.24</td>\n",
       "      <td>1.13</td>\n",
       "      <td>87.0</td>\n",
       "      <td>6.5</td>\n",
       "      <td>M</td>\n",
       "      <td>7.17</td>\n",
       "    </tr>\n",
       "  </tbody>\n",
       "</table>\n",
       "</div>"
      ],
      "text/plain": [
       "                               name platform  year_of_release         genre  \\\n",
       "42               Grand Theft Auto V      PS4             2014        Action   \n",
       "77                          FIFA 16      PS4             2015        Sports   \n",
       "92   Call of Duty: Advanced Warfare      PS4             2014       Shooter   \n",
       "94                          FIFA 17      PS4             2016        Sports   \n",
       "105                       Fallout 4      PS4             2015  Role-Playing   \n",
       "\n",
       "     na_sales  eu_sales  jp_sales  other_sales  critic_score  user_score  \\\n",
       "42       3.96      6.31      0.38         1.97          97.0         8.3   \n",
       "77       1.12      6.12      0.06         1.28          82.0         4.3   \n",
       "92       2.81      3.48      0.14         1.23          83.0         5.7   \n",
       "94       0.66      5.75      0.08         1.11          85.0         5.0   \n",
       "105      2.53      3.27      0.24         1.13          87.0         6.5   \n",
       "\n",
       "    rating  sum_sales  \n",
       "42       M      12.62  \n",
       "77       E       8.58  \n",
       "92       M       7.66  \n",
       "94       E       7.60  \n",
       "105      M       7.17  "
      ]
     },
     "execution_count": 169,
     "metadata": {},
     "output_type": "execute_result"
    }
   ],
   "source": [
    "ps_4 = data.query('platform == \"PS4\" & (critic_score > 0) & (user_score > 0) & (year_of_release >=2012)')\n",
    "ps_4.head(5)"
   ]
  },
  {
   "cell_type": "code",
   "execution_count": 170,
   "metadata": {},
   "outputs": [
    {
     "name": "stderr",
     "output_type": "stream",
     "text": [
      "*c* argument looks like a single numeric RGB or RGBA sequence, which should be avoided as value-mapping will have precedence in case its length matches with *x* & *y*.  Please use the *color* keyword-argument or provide a 2-D array with a single row if you intend to specify the same RGB or RGBA value for all points.\n",
      "*c* argument looks like a single numeric RGB or RGBA sequence, which should be avoided as value-mapping will have precedence in case its length matches with *x* & *y*.  Please use the *color* keyword-argument or provide a 2-D array with a single row if you intend to specify the same RGB or RGBA value for all points.\n"
     ]
    },
    {
     "name": "stdout",
     "output_type": "stream",
     "text": [
      "Коэффициент корреляции оценок пользователей: -0.03362497596528878\n",
      "Коэффициент корреляции оценок критиков: 0.40589480145836687\n"
     ]
    },
    {
     "data": {
      "image/png": "[encoded data removed]",
      "text/plain": [
       "<Figure size 864x576 with 1 Axes>"
      ]
     },
     "metadata": {},
     "output_type": "display_data"
    },
    {
     "data": {
      "image/png": "[encoded data removed]",
      "text/plain": [
       "<Figure size 864x576 with 1 Axes>"
      ]
     },
     "metadata": {},
     "output_type": "display_data"
    }
   ],
   "source": [
    "import warnings\n",
    "\n",
    "warnings.filterwarnings(\"ignore\")\n",
    "warnings.filterwarnings(\"ignore\", category=DeprecationWarning)\n",
    "from matplotlib import colors\n",
    "clr = (1,0,0)\n",
    "clr = colors.to_hex(clr)\n",
    "\n",
    "ps_4.plot(x='critic_score', y='sum_sales', kind='scatter', grid = True)\n",
    "ps_4.plot(x='user_score', y='sum_sales', kind='scatter', grid = True)\n",
    "print('Коэффициент корреляции оценок пользователей:', ps_4['user_score'].corr(ps_4['sum_sales']))\n",
    "print('Коэффициент корреляции оценок критиков:', ps_4['critic_score'].corr(ps_4['sum_sales']))"
   ]
  },
  {
   "cell_type": "markdown",
   "metadata": {},
   "source": [
    "<div class=\"alert alert-block alert-warning\">\n",
    " \n",
    "### Комментарий ревьюера\n",
    "    \n",
    "#### Совет\n",
    "    \n",
    "Хороший график для показания зависимости используешь, но тебе незачем считать корреляцию прям для всех столбцов датафрейма. \n",
    "    \n",
    "    \n",
    "А еще, чтобы убрать красные предупреждения используй `import warnings`\n",
    "`warnings.filterwarnings(\"ignore\", category=DeprecationWarning)`"
   ]
  },
  {
   "cell_type": "markdown",
   "metadata": {},
   "source": [
    "<div class=\"alert alert-info\"> <b>Кирилл:</b> Спасибо! Сократил табличку с корреляциями до нужных значений, а ошибки что-то не поддаются</div>"
   ]
  },
  {
   "cell_type": "code",
   "execution_count": 171,
   "metadata": {},
   "outputs": [
    {
     "name": "stderr",
     "output_type": "stream",
     "text": [
      "*c* argument looks like a single numeric RGB or RGBA sequence, which should be avoided as value-mapping will have precedence in case its length matches with *x* & *y*.  Please use the *color* keyword-argument or provide a 2-D array with a single row if you intend to specify the same RGB or RGBA value for all points.\n",
      "*c* argument looks like a single numeric RGB or RGBA sequence, which should be avoided as value-mapping will have precedence in case its length matches with *x* & *y*.  Please use the *color* keyword-argument or provide a 2-D array with a single row if you intend to specify the same RGB or RGBA value for all points.\n"
     ]
    },
    {
     "name": "stdout",
     "output_type": "stream",
     "text": [
      "Коэффициент корреляции оценок пользователей: -0.09400318326920852\n",
      "Коэффициент корреляции оценок критиков: 0.41042203561296375\n"
     ]
    },
    {
     "data": {
      "image/png": "[encoded data removed]",
      "text/plain": [
       "<Figure size 864x576 with 1 Axes>"
      ]
     },
     "metadata": {},
     "output_type": "display_data"
    },
    {
     "data": {
      "image/png": "[encoded data removed]",
      "text/plain": [
       "<Figure size 864x576 with 1 Axes>"
      ]
     },
     "metadata": {},
     "output_type": "display_data"
    }
   ],
   "source": [
    "# Также рассмотрим XOne\n",
    "x_one = data.query('platform == \"XOne\" & (critic_score > 0) & (user_score > 0) & (year_of_release >=2012)')\n",
    "x_one.plot(x='critic_score', y='sum_sales', kind='scatter', grid = True)\n",
    "x_one.plot(x='user_score', y='sum_sales', kind='scatter', grid = True)\n",
    "print('Коэффициент корреляции оценок пользователей:', x_one['user_score'].corr(x_one['sum_sales']))\n",
    "print('Коэффициент корреляции оценок критиков:', x_one['critic_score'].corr(x_one['sum_sales']))"
   ]
  },
  {
   "cell_type": "markdown",
   "metadata": {},
   "source": [
    "Между параметрами не наблюдается сильная корреляци, однако слабая связь присутствует между продажами и оценкой критиков. В области высоких оценок наблюдаются и высокие продажи. Пользователи гораздо охотнее покупают игру, если она имеет высокую оценку критиков, что нельзя сказать про пользовательские оценки, связь отсутсвует. "
   ]
  },
  {
   "cell_type": "markdown",
   "metadata": {},
   "source": [
    "<div class=\"alert alert-block alert-success\">\n",
    " \n",
    "### Комментарий ревьюера\n",
    "    \n",
    "#### Успех\n",
    "    \n",
    "Выводы на основе данных с нескольких платформ выглядят убедительнее. "
   ]
  },
  {
   "cell_type": "code",
   "execution_count": 172,
   "metadata": {},
   "outputs": [
    {
     "data": {
      "text/plain": [
       "array(['Sports', 'Platform', 'Racing', 'Role-Playing', 'Puzzle', 'Misc',\n",
       "       'Shooter', 'Simulation', 'Action', 'Fighting', 'Adventure',\n",
       "       'Strategy', 0], dtype=object)"
      ]
     },
     "execution_count": 172,
     "metadata": {},
     "output_type": "execute_result"
    }
   ],
   "source": [
    "# Посмотрим распределение игр по жанрам\n",
    "data['genre'].unique()"
   ]
  },
  {
   "cell_type": "code",
   "execution_count": 173,
   "metadata": {},
   "outputs": [
    {
     "data": {
      "text/plain": [
       "<AxesSubplot:xlabel='genre', ylabel='sum_sales'>"
      ]
     },
     "execution_count": 173,
     "metadata": {},
     "output_type": "execute_result"
    },
    {
     "data": {
      "image/png": "[encoded data removed]",
      "text/plain": [
       "<Figure size 864x576 with 1 Axes>"
      ]
     },
     "metadata": {},
     "output_type": "display_data"
    }
   ],
   "source": [
    "genre_group = data.query('genre!= 0 & (year_of_release >=2012)')\n",
    "sns.set (rc={'figure.figsize':(12,8)})\n",
    "sns.barplot(x = genre_group['genre'] , y= genre_group['sum_sales'])"
   ]
  },
  {
   "cell_type": "code",
   "execution_count": 174,
   "metadata": {},
   "outputs": [
    {
     "data": {
      "text/plain": [
       "<AxesSubplot:>"
      ]
     },
     "execution_count": 174,
     "metadata": {},
     "output_type": "execute_result"
    },
    {
     "data": {
      "image/png": "[encoded data removed]",
      "text/plain": [
       "<Figure size 864x576 with 1 Axes>"
      ]
     },
     "metadata": {},
     "output_type": "display_data"
    }
   ],
   "source": [
    "sns.set (rc={'figure.figsize':(12,8)})\n",
    "genre_group['genre'].hist() # посмотрим общее количество игр по жанрам"
   ]
  },
  {
   "cell_type": "markdown",
   "metadata": {},
   "source": [
    "Последние 4 года наибольшее число продаж наблюдается в шутерах, а также в платформенных и спортивных играх. Наименьшее в приключенческих играх. Также, стоит отметить, что больше всего игр в категории \"экшен\" и спортивных играх, но меньше всего можно встретить ролевых игр. "
   ]
  },
  {
   "cell_type": "markdown",
   "metadata": {},
   "source": [
    "**Выводы:** Важные изменения в игровой индустрии происходят каждые 4 года. Для прогнозирования стратегии лучше использовать актуальные данные. Наиболее перспективными являются платформы PS4 и XOne. На количество продаж, незначительно, но оказывают влияние оценки критиков. В последнее время огромную популярность имеют шутеры, спортивные и платформенные игры."
   ]
  },
  {
   "cell_type": "markdown",
   "metadata": {},
   "source": [
    "<div class=\"alert alert-block alert-success\">\n",
    " \n",
    "### Комментарий ревьюера\n",
    "    \n",
    "#### Успех\n",
    "    \n",
    "По самому прибыльному жанру ты верно определили, что именно Шутеры являются лидером. Поэтому, при определении таких показателей лучше всего смотреть на средние или медианные показатели."
   ]
  },
  {
   "cell_type": "markdown",
   "metadata": {},
   "source": [
    "## Региональный анализ продаж"
   ]
  },
  {
   "cell_type": "markdown",
   "metadata": {},
   "source": [
    "Рассмотрим топ платформ и жанров в каждом регионе"
   ]
  },
  {
   "cell_type": "code",
   "execution_count": 175,
   "metadata": {},
   "outputs": [
    {
     "data": {
      "text/html": [
       "<div>\n",
       "<style scoped>\n",
       "    .dataframe tbody tr th:only-of-type {\n",
       "        vertical-align: middle;\n",
       "    }\n",
       "\n",
       "    .dataframe tbody tr th {\n",
       "        vertical-align: top;\n",
       "    }\n",
       "\n",
       "    .dataframe thead th {\n",
       "        text-align: right;\n",
       "    }\n",
       "</style>\n",
       "<table border=\"1\" class=\"dataframe\">\n",
       "  <thead>\n",
       "    <tr style=\"text-align: right;\">\n",
       "      <th></th>\n",
       "      <th>name</th>\n",
       "      <th>platform</th>\n",
       "      <th>year_of_release</th>\n",
       "      <th>genre</th>\n",
       "      <th>na_sales</th>\n",
       "      <th>eu_sales</th>\n",
       "      <th>jp_sales</th>\n",
       "      <th>other_sales</th>\n",
       "      <th>critic_score</th>\n",
       "      <th>user_score</th>\n",
       "      <th>rating</th>\n",
       "      <th>sum_sales</th>\n",
       "    </tr>\n",
       "  </thead>\n",
       "  <tbody>\n",
       "    <tr>\n",
       "      <th>0</th>\n",
       "      <td>Wii Sports</td>\n",
       "      <td>Wii</td>\n",
       "      <td>2006</td>\n",
       "      <td>Sports</td>\n",
       "      <td>41.36</td>\n",
       "      <td>28.96</td>\n",
       "      <td>3.77</td>\n",
       "      <td>8.45</td>\n",
       "      <td>76.0</td>\n",
       "      <td>8.0</td>\n",
       "      <td>E</td>\n",
       "      <td>82.54</td>\n",
       "    </tr>\n",
       "    <tr>\n",
       "      <th>1</th>\n",
       "      <td>Super Mario Bros.</td>\n",
       "      <td>NES</td>\n",
       "      <td>1985</td>\n",
       "      <td>Platform</td>\n",
       "      <td>29.08</td>\n",
       "      <td>3.58</td>\n",
       "      <td>6.81</td>\n",
       "      <td>0.77</td>\n",
       "      <td>0.0</td>\n",
       "      <td>0.0</td>\n",
       "      <td>NaN</td>\n",
       "      <td>40.24</td>\n",
       "    </tr>\n",
       "    <tr>\n",
       "      <th>2</th>\n",
       "      <td>Mario Kart Wii</td>\n",
       "      <td>Wii</td>\n",
       "      <td>2008</td>\n",
       "      <td>Racing</td>\n",
       "      <td>15.68</td>\n",
       "      <td>12.76</td>\n",
       "      <td>3.79</td>\n",
       "      <td>3.29</td>\n",
       "      <td>82.0</td>\n",
       "      <td>8.3</td>\n",
       "      <td>E</td>\n",
       "      <td>35.52</td>\n",
       "    </tr>\n",
       "    <tr>\n",
       "      <th>3</th>\n",
       "      <td>Wii Sports Resort</td>\n",
       "      <td>Wii</td>\n",
       "      <td>2009</td>\n",
       "      <td>Sports</td>\n",
       "      <td>15.61</td>\n",
       "      <td>10.93</td>\n",
       "      <td>3.28</td>\n",
       "      <td>2.95</td>\n",
       "      <td>80.0</td>\n",
       "      <td>8.0</td>\n",
       "      <td>E</td>\n",
       "      <td>32.77</td>\n",
       "    </tr>\n",
       "    <tr>\n",
       "      <th>4</th>\n",
       "      <td>Pokemon Red/Pokemon Blue</td>\n",
       "      <td>GB</td>\n",
       "      <td>1996</td>\n",
       "      <td>Role-Playing</td>\n",
       "      <td>11.27</td>\n",
       "      <td>8.89</td>\n",
       "      <td>10.22</td>\n",
       "      <td>1.00</td>\n",
       "      <td>0.0</td>\n",
       "      <td>0.0</td>\n",
       "      <td>NaN</td>\n",
       "      <td>31.38</td>\n",
       "    </tr>\n",
       "  </tbody>\n",
       "</table>\n",
       "</div>"
      ],
      "text/plain": [
       "                       name platform  year_of_release         genre  na_sales  \\\n",
       "0                Wii Sports      Wii             2006        Sports     41.36   \n",
       "1         Super Mario Bros.      NES             1985      Platform     29.08   \n",
       "2            Mario Kart Wii      Wii             2008        Racing     15.68   \n",
       "3         Wii Sports Resort      Wii             2009        Sports     15.61   \n",
       "4  Pokemon Red/Pokemon Blue       GB             1996  Role-Playing     11.27   \n",
       "\n",
       "   eu_sales  jp_sales  other_sales  critic_score  user_score rating  sum_sales  \n",
       "0     28.96      3.77         8.45          76.0         8.0      E      82.54  \n",
       "1      3.58      6.81         0.77           0.0         0.0    NaN      40.24  \n",
       "2     12.76      3.79         3.29          82.0         8.3      E      35.52  \n",
       "3     10.93      3.28         2.95          80.0         8.0      E      32.77  \n",
       "4      8.89     10.22         1.00           0.0         0.0    NaN      31.38  "
      ]
     },
     "execution_count": 175,
     "metadata": {},
     "output_type": "execute_result"
    }
   ],
   "source": [
    "data.head(5)"
   ]
  },
  {
   "cell_type": "markdown",
   "metadata": {},
   "source": [
    "Данные по платформам:"
   ]
  },
  {
   "cell_type": "code",
   "execution_count": 176,
   "metadata": {
    "scrolled": true
   },
   "outputs": [
    {
     "data": {
      "image/png": "[encoded data removed]",
      "text/plain": [
       "<Figure size 864x576 with 1 Axes>"
      ]
     },
     "metadata": {},
     "output_type": "display_data"
    },
    {
     "data": {
      "image/png": "[encoded data removed]",
      "text/plain": [
       "<Figure size 864x576 with 1 Axes>"
      ]
     },
     "metadata": {},
     "output_type": "display_data"
    },
    {
     "data": {
      "image/png": "[encoded data removed]",
      "text/plain": [
       "<Figure size 864x576 with 1 Axes>"
      ]
     },
     "metadata": {},
     "output_type": "display_data"
    }
   ],
   "source": [
    "sns.set (rc={'figure.figsize':(12,8)})\n",
    "na = data.query('year_of_release >=2012').pivot_table(index = 'platform', values = 'na_sales', aggfunc = 'sum')\\\n",
    ".sort_values(ascending = False, by = 'na_sales').head(5)\n",
    "eu = data.query('year_of_release >=2012').pivot_table(index = 'platform', values = 'eu_sales', aggfunc = 'sum')\\\n",
    ".sort_values(ascending = False, by = 'eu_sales').head(5)\n",
    "jp = data.query('year_of_release >=2012').pivot_table(index = 'platform', values = 'jp_sales', aggfunc = 'sum')\\\n",
    ".sort_values(ascending = False, by = 'jp_sales').head(5)\n",
    "\n",
    "regions = [na, eu, jp]\n",
    "for i in regions:\n",
    "    i.plot(kind = 'pie',subplots=True, autopct = '%1.1f%%')"
   ]
  },
  {
   "cell_type": "markdown",
   "metadata": {},
   "source": [
    "В Европейском и Северо-Американском регионах схожие предпочтения относительно платформ, однако в Европе больше предпочитают платформу PS4, в то время как в Америке Xbox. Наблюдается небольшая разница в процентах. \n",
    "Большое отличие от остальных регионов показывает Япония. Так, больше половины всех топовых платформ занимает Nintendo 3DS. Также в топ рейтинг этого региона попали платформы WiiU и PSV, которые являются портативными. Можно заключить, что в подавляющем большенстве случаев, в Японии, предпочтения отдаются портативным платформам."
   ]
  },
  {
   "cell_type": "markdown",
   "metadata": {},
   "source": [
    "<div class=\"alert alert-block alert-success\">\n",
    " \n",
    "### Комментарий ревьюера\n",
    "    \n",
    "#### Успех\n",
    "    \n",
    "Первое представление о регионах получено. "
   ]
  },
  {
   "cell_type": "markdown",
   "metadata": {},
   "source": [
    "Даннные по жанрам:"
   ]
  },
  {
   "cell_type": "code",
   "execution_count": 177,
   "metadata": {
    "scrolled": true
   },
   "outputs": [
    {
     "data": {
      "image/png": "[encoded data removed]",
      "text/plain": [
       "<Figure size 864x576 with 1 Axes>"
      ]
     },
     "metadata": {},
     "output_type": "display_data"
    },
    {
     "data": {
      "image/png": "[encoded data removed]",
      "text/plain": [
       "<Figure size 864x576 with 1 Axes>"
      ]
     },
     "metadata": {},
     "output_type": "display_data"
    },
    {
     "data": {
      "image/png": "[encoded data removed]",
      "text/plain": [
       "<Figure size 864x576 with 1 Axes>"
      ]
     },
     "metadata": {},
     "output_type": "display_data"
    }
   ],
   "source": [
    "sns.set (rc={'figure.figsize':(12,8)})\n",
    "na = data.query('year_of_release >=2012').pivot_table(index = 'genre', values = 'na_sales', aggfunc = 'sum')\\\n",
    ".sort_values(ascending = False, by = 'na_sales').head(5)\n",
    "eu = data.query('year_of_release >=2012').pivot_table(index = 'genre', values = 'eu_sales', aggfunc = 'sum')\\\n",
    ".sort_values(ascending = False, by = 'eu_sales').head(5)\n",
    "jp = data.query('year_of_release >=2012').pivot_table(index = 'genre', values = 'jp_sales', aggfunc = 'sum')\\\n",
    ".sort_values(ascending = False, by = 'jp_sales').head(5)\n",
    "\n",
    "regions = [na, eu, jp]\n",
    "for i in regions:\n",
    "    i.plot(kind = 'pie',subplots=True, autopct = '%1.1f%%')"
   ]
  },
  {
   "cell_type": "markdown",
   "metadata": {},
   "source": [
    "Практически идентичные предпочтения по жанрам наблюдаются в Европейском и Северо-Американском регионах. Так, основными жанрами являются \"Экшен\", \"Шутеры\" и\"Спортивные игры\", в небольшой доле находятся \"Ролевые игры\". В Японии - напротив, ролевые игры преобладают над остальными жанрами, \"Экшен\" игры идут следом, также появляются симуляторы и файтинги."
   ]
  },
  {
   "cell_type": "markdown",
   "metadata": {},
   "source": [
    "<div class=\"alert alert-block alert-success\">\n",
    " \n",
    "### Комментарий ревьюера\n",
    "    \n",
    "#### Успех\n",
    "    \n",
    "Тут мы видим, что Япония имеет свою специфику. "
   ]
  },
  {
   "cell_type": "code",
   "execution_count": 178,
   "metadata": {
    "scrolled": true
   },
   "outputs": [
    {
     "data": {
      "image/png": "[encoded data removed]",
      "text/plain": [
       "<Figure size 864x576 with 1 Axes>"
      ]
     },
     "metadata": {},
     "output_type": "display_data"
    },
    {
     "data": {
      "image/png": "[encoded data removed]",
      "text/plain": [
       "<Figure size 864x576 with 1 Axes>"
      ]
     },
     "metadata": {},
     "output_type": "display_data"
    },
    {
     "data": {
      "image/png": "[encoded data removed]",
      "text/plain": [
       "<Figure size 864x576 with 1 Axes>"
      ]
     },
     "metadata": {},
     "output_type": "display_data"
    }
   ],
   "source": [
    "# Посмотрим, влияет ли рейтинг ESRB на продажи в отдельном регионе:\n",
    "na = data.query('year_of_release >=2012').pivot_table(index = 'rating', values = 'na_sales', aggfunc = 'sum')\\\n",
    ".sort_values(ascending = False, by = 'na_sales').head(8)\n",
    "eu = data.query('year_of_release >=2012').pivot_table(index = 'rating', values = 'eu_sales', aggfunc = 'sum')\\\n",
    ".sort_values(ascending = False, by = 'eu_sales')\n",
    "jp = data.query('year_of_release >=2012').pivot_table(index = 'rating', values = 'jp_sales', aggfunc = 'sum')\\\n",
    ".sort_values(ascending = False, by = 'jp_sales')\n",
    "\n",
    "regions = [na, eu, jp]\n",
    "for i in regions:\n",
    "    i.plot(kind = 'bar')"
   ]
  },
  {
   "cell_type": "markdown",
   "metadata": {},
   "source": [
    "В Европейском и Северо-Американском регионах наибольшие продажи наблюдаются в категории игр «M» («Mature») — «Для взрослых» и «E» («Everyone») — «Для всех». В то же время на Японском рынке преобладают игры в категориях «E» («Everyone») — «Для всех» и «T» («Teen») — «Подросткам»."
   ]
  },
  {
   "cell_type": "markdown",
   "metadata": {},
   "source": [
    "**Вывод:** Японский регион существенно отличается от схожих Европейского и Северо-Американского. В первую очередь, это касается предпочтений по плафтормам. В Японии предпочитают портативные платформы, в то время как в Северной Америке и Европе - более габаритные варианты, такие как PS4 и Xbox. Также, наблюдается дифференциация по жанрам и влиянию рейтинга ESRB на продажи."
   ]
  },
  {
   "cell_type": "markdown",
   "metadata": {},
   "source": [
    "<div class=\"alert alert-block alert-success\">\n",
    " \n",
    "### Комментарий ревьюера\n",
    "    \n",
    "#### Успех\n",
    "    \n",
    "Теперь мы точно будем учитывать региональные особенности, как как каждый из регионов имеет свою уникальность. "
   ]
  },
  {
   "cell_type": "markdown",
   "metadata": {},
   "source": [
    "## Проверка гипотез"
   ]
  },
  {
   "cell_type": "markdown",
   "metadata": {},
   "source": [
    "Проверим гипотезу - Средние пользовательские рейтинги платформ Xbox One и PC одинаковые:\n",
    "```\n",
    "H_0: Пользовательский рейтинг (user_score) платформы Xbox = Пользовательский рейтинг (user_score) платформы PS4\n",
    "H_1: Пользовательский рейтинг (user_score) платформы Xbox ≠ Пользовательский рейтинг (user_score) платформы PS4\n",
    "alpha = 0.05\n",
    "```\n"
   ]
  },
  {
   "cell_type": "code",
   "execution_count": 179,
   "metadata": {},
   "outputs": [
    {
     "name": "stdout",
     "output_type": "stream",
     "text": [
      "p-value: 0.10169342039498884\n",
      "Не получилось отвергнуть нулевую гипотезу\n"
     ]
    }
   ],
   "source": [
    "# Воспользуемся проверкой для средних двух генеральных совокупностей\n",
    "#Нулевая гипотеза сформулировалась на основе предположения о том, что рейтинги одинаковы\n",
    "# Нулевая гипотеза практически всегда предполагает равенство\n",
    "# Пороговое значение в 5%, явялется достаточным для проверки гипотезы\n",
    "# Дисперсия скорее всего будет одинаковой т.к. данных одинаковое кол-во\n",
    "\n",
    "results = st.ttest_ind(\n",
    "    data.query('year_of_release >=2012 & platform == \"PS4\" & user_score != 0')['user_score'], \n",
    "    data.query('year_of_release >=2012 & platform == \"XOne\" & user_score != 0')['user_score'])\n",
    "\n",
    "alpha = 0.05\n",
    "print('p-value:', results.pvalue)\n",
    "\n",
    "if results.pvalue < alpha:\n",
    "    print(\"Отвергаем нулевую гипотезу\")\n",
    "else:\n",
    "    print(\"Не получилось отвергнуть нулевую гипотезу\") "
   ]
  },
  {
   "cell_type": "markdown",
   "metadata": {},
   "source": [
    "<div class=\"alert alert-block alert-success\">\n",
    " \n",
    "### Комментарий ревьюера\n",
    "    \n",
    "#### Успех\n",
    "    \n",
    "Гипотезы сформулированы и верно определен метод проверки. "
   ]
  },
  {
   "cell_type": "markdown",
   "metadata": {},
   "source": [
    "Средние пользовательские рейтинги с очень высокой долей вероятности равны для платформ PS4 и Xbox."
   ]
  },
  {
   "cell_type": "markdown",
   "metadata": {},
   "source": [
    "Проверим гипотезу - Средние пользовательские рейтинги жанров Action и Sports разные:\n",
    "```\n",
    "H_0: Средний пользовательский рейтинг (user_score) жанра Action = Средний пользовательский рейтинг (user_score) \n",
    "жанра Sport\n",
    "H_1: Средний пользовательский рейтинг (user_score) жанра Action ≠ Средний пользовательский рейтинг (user_score) \n",
    "жанра Sport\n",
    "alpha = 0.05\n",
    "```"
   ]
  },
  {
   "cell_type": "code",
   "execution_count": 180,
   "metadata": {},
   "outputs": [
    {
     "name": "stdout",
     "output_type": "stream",
     "text": [
      "p-value: 4.24307776572644e-20\n",
      "Отвергаем нулевую гипотезу\n"
     ]
    }
   ],
   "source": [
    "# Воспользуемся проверкой для средних двух генеральных совокупностей\n",
    "#Нулевая гипотеза сформулировалась на основе предположения о том, что рейтинги жанров могут различаться\n",
    "# Нулевая гипотеза практически всегда предполагает равенство\n",
    "# Пороговое значение в 5%, явялется достаточным для проверки гипотезы\n",
    "\n",
    "results = st.ttest_ind(\n",
    "    data.query('year_of_release >=2012 & genre == \"Action\" & user_score != 0')['user_score'], \n",
    "    data.query('year_of_release >=2012 & genre == \"Sports\" & user_score != 0')['user_score'], equal_var = False)\n",
    "\n",
    "alpha = 0.05\n",
    "print('p-value:', results.pvalue)\n",
    "\n",
    "if results.pvalue < alpha:\n",
    "    print(\"Отвергаем нулевую гипотезу\")\n",
    "else:\n",
    "    print(\"Не получилось отвергнуть нулевую гипотезу\") "
   ]
  },
  {
   "cell_type": "markdown",
   "metadata": {},
   "source": [
    "Средние пользовательские рейтинги для жанров Action и Sports - разные."
   ]
  },
  {
   "cell_type": "markdown",
   "metadata": {},
   "source": [
    "<div class=\"alert alert-block alert-success\">\n",
    " \n",
    "### Комментарий ревьюера\n",
    "    \n",
    "#### Успех\n",
    "\n",
    "Ну и с этой гипотезой без сложностей. Здорово."
   ]
  },
  {
   "cell_type": "markdown",
   "metadata": {},
   "source": [
    "## Общий вывод"
   ]
  },
  {
   "cell_type": "markdown",
   "metadata": {},
   "source": [
    "\n",
    "Анализ изменения рынка компьютерных игр в динамике позволил получить следующие выводы:\n",
    "1. Основная масса игр была выпущена после 1991 года. Важные изменения в индустрии происходят каждые 4 года.\n",
    "2. Наиболее прибыльными за все периодаы являются платформы PS2, X360, PS3, Wii и PS. \n",
    "3. Для более точного планирования стратегии понадобятся актуальные данные за последние годы. В данном случае, с 2012 по 2016 годы. \n",
    "4. В рассматриваемом периоде сильно набирают популярность платформы: PS4, XOne. Остальные платформы либо идут на спад, либо не обладают таким потенциалом.\n",
    "5. Между параметрами оценок и продажами не наблюдается сильная корреляци, однако слабая связь присутствует между продажами и оценкой критиков. В области высоких оценок наблюдаются и высокие продажи. Пользователи гораздо охотнее покупают игру, если она имеет высокую оценку критиков, что нельзя сказать про пользовательские оценки, связь отсутсвует. \n",
    "6. Последние 4 года наибольшее число продаж наблюдается в шутерах, а также в платформенных и спортивных играх. Наименьшее в приключенческих играх. Также, стоит отметить, что больше всего игр в категории \"экшен\" и спортивных играх, но меньше всего можно встретить ролевых игр. \n",
    "7. Японский регион существенно отличается от схожих Европейского и Северо-Американского. В первую очередь, это касается предпочтений по плафтормам. В Японии предпочитают портативные платформы, в то время как в Северной Америке и Европе - более габаритные варианты, такие как PS4 и Xbox. Также, наблюдается дифференциация по жанрам и влиянию рейтинга ESRB на продажи. Так, в Европейском и Северо-Американском регионах наибольшие продажи наблюдаются в категории игр «M» («Mature») — «Для взрослых» и «E» («Everyone») — «Для всех». В то же время на Японском рынке преобладают игры в категориях «E» («Everyone») — «Для всех» и «T» («Teen») — «Подросткам».\n",
    "8. Проверены гипотезы, в результате которых удалось заключить, что средние пользовательские рейтинги с очень высокой долей вероятности равны для платформ PS4 и Xbox и средние пользовательские рейтинги для жанров Action и Sports - различаются."
   ]
  },
  {
   "cell_type": "markdown",
   "metadata": {},
   "source": [
    "<div class=\"alert alert-block alert-success\">\n",
    " \n",
    "### Комментарий ревьюера\n",
    "    \n",
    "#### Успех\n",
    "    \n",
    "Тот момент, когда итоговый вывод стал отличным дополнением проекта. У тебя здесь отмечено все то, что удалось обнаружить в результате исследования рыннка видеоигр. С таким выводом смело можем идти к заказчику и защищать результат. "
   ]
  },
  {
   "cell_type": "markdown",
   "metadata": {},
   "source": [
    "<div class=\"alert alert-block alert-info\">\n",
    "\n",
    "## Итоговый комментарии от ревьюера:\n",
    "    \n",
    "#### Успех\n",
    "\n",
    "Поздравляю тебя с выполнением твоего первого Сборного проекта. Мне показалось, что работа выполненна прекрасно и ты здорово постарался. Понравилось, что ты хорошо владеешь отличными навыками Предобработки данных и проверки Гипотез. А еще особенно ценно, что ты везде пишешь аргументацию своим действиям. Так, если проект попадет в руки незнакомому человеку, он сможет разобраться. Это тебе очень пригодится в будущем.\n",
    "\n",
    "В проекте осталось небольшое замечение:\n",
    "    \n",
    "* Убрать 0 при просмотре распределения графиков по годам. \n",
    "       \n",
    "Еще я оставил рекомендации. Очень надеюсь, что ты учтешь их в этом и последующих проектах.\n",
    "    \n",
    "    \n",
    "Жду проект после доработки. Уверен, ты справишься.\n",
    "</div>"
   ]
  },
  {
   "cell_type": "markdown",
   "metadata": {},
   "source": [
    "<div class=\"alert alert-info\"> <b>Кирилл:</b> Вячеслав, большое спасибо за ревью! Большой и терпеливый труд!\n",
    "Критические замечания исправил, но не все рекомендательные удалось побороть.</div>"
   ]
  },
  {
   "cell_type": "markdown",
   "metadata": {},
   "source": [
    "<div class=\"alert alert-block alert-success\">\n",
    " \n",
    "# Итоговый Комментарий ревьюера ver.2 \n",
    "    \n",
    "#### Успех\n",
    "    \n",
    "Спасибо тебе за доработку проекта. Вот теперь я его принимаю и желаю тебе успехов в дальнейшей учебе. Ты точно справишься и дальше, я уверен в этом. "
   ]
  },
  {
   "cell_type": "code",
   "execution_count": null,
   "metadata": {},
   "outputs": [],
   "source": []
  }
 ],
 "metadata": {
  "ExecuteTimeLog": [
   {
    "duration": 5,
    "start_time": "2023-02-27T16:38:46.322Z"
   },
   {
    "duration": 1147,
    "start_time": "2023-02-27T16:40:50.362Z"
   },
   {
    "duration": 76,
    "start_time": "2023-02-27T16:40:58.609Z"
   },
   {
    "duration": 15,
    "start_time": "2023-02-27T16:41:25.509Z"
   },
   {
    "duration": 27,
    "start_time": "2023-02-27T16:54:46.314Z"
   },
   {
    "duration": 24,
    "start_time": "2023-02-27T16:56:00.617Z"
   },
   {
    "duration": 19,
    "start_time": "2023-02-27T16:56:36.498Z"
   },
   {
    "duration": 8,
    "start_time": "2023-02-27T17:02:13.876Z"
   },
   {
    "duration": 21,
    "start_time": "2023-02-27T17:02:37.456Z"
   },
   {
    "duration": 38,
    "start_time": "2023-02-27T17:02:54.766Z"
   },
   {
    "duration": 41,
    "start_time": "2023-02-27T17:04:52.001Z"
   },
   {
    "duration": 21,
    "start_time": "2023-02-27T17:05:06.522Z"
   },
   {
    "duration": 26,
    "start_time": "2023-02-27T17:06:24.293Z"
   },
   {
    "duration": 26,
    "start_time": "2023-02-27T17:09:08.959Z"
   },
   {
    "duration": 40,
    "start_time": "2023-02-27T17:09:19.636Z"
   },
   {
    "duration": 194,
    "start_time": "2023-02-27T17:10:54.316Z"
   },
   {
    "duration": 10,
    "start_time": "2023-02-27T17:16:49.103Z"
   },
   {
    "duration": 122,
    "start_time": "2023-02-27T17:17:40.068Z"
   },
   {
    "duration": 56,
    "start_time": "2023-02-27T17:17:58.216Z"
   },
   {
    "duration": 15,
    "start_time": "2023-02-27T17:18:11.638Z"
   },
   {
    "duration": 13,
    "start_time": "2023-02-27T17:18:15.170Z"
   },
   {
    "duration": 13,
    "start_time": "2023-02-27T17:20:11.151Z"
   },
   {
    "duration": 36,
    "start_time": "2023-02-27T17:20:42.502Z"
   },
   {
    "duration": 14,
    "start_time": "2023-02-27T17:23:29.917Z"
   },
   {
    "duration": 10,
    "start_time": "2023-02-27T17:23:35.694Z"
   },
   {
    "duration": 23,
    "start_time": "2023-02-27T17:23:44.159Z"
   },
   {
    "duration": 8,
    "start_time": "2023-02-27T17:24:24.980Z"
   },
   {
    "duration": 94,
    "start_time": "2023-02-27T17:37:30.609Z"
   },
   {
    "duration": 22,
    "start_time": "2023-02-27T17:37:45.695Z"
   },
   {
    "duration": 16,
    "start_time": "2023-02-27T17:41:22.502Z"
   },
   {
    "duration": 20,
    "start_time": "2023-02-27T17:41:58.313Z"
   },
   {
    "duration": 12,
    "start_time": "2023-02-27T17:52:06.654Z"
   },
   {
    "duration": 17,
    "start_time": "2023-02-27T18:20:02.792Z"
   },
   {
    "duration": 479,
    "start_time": "2023-02-27T18:20:43.902Z"
   },
   {
    "duration": 863,
    "start_time": "2023-02-27T18:21:20.509Z"
   },
   {
    "duration": 720,
    "start_time": "2023-02-27T18:21:42.372Z"
   },
   {
    "duration": 135,
    "start_time": "2023-02-27T18:24:06.101Z"
   },
   {
    "duration": 62,
    "start_time": "2023-02-27T18:30:52.616Z"
   },
   {
    "duration": 169,
    "start_time": "2023-02-27T18:31:00.835Z"
   },
   {
    "duration": 209,
    "start_time": "2023-02-27T18:31:14.895Z"
   },
   {
    "duration": 146,
    "start_time": "2023-02-27T18:37:33.237Z"
   },
   {
    "duration": 252,
    "start_time": "2023-02-27T18:38:44.569Z"
   },
   {
    "duration": 27,
    "start_time": "2023-02-27T18:46:52.134Z"
   },
   {
    "duration": 1037,
    "start_time": "2023-02-27T18:49:58.636Z"
   },
   {
    "duration": 13,
    "start_time": "2023-02-27T18:54:12.602Z"
   },
   {
    "duration": 14,
    "start_time": "2023-02-27T18:54:29.267Z"
   },
   {
    "duration": 5,
    "start_time": "2023-02-27T18:54:57.971Z"
   },
   {
    "duration": 11,
    "start_time": "2023-02-27T18:55:44.875Z"
   },
   {
    "duration": 24,
    "start_time": "2023-02-27T18:56:18.817Z"
   },
   {
    "duration": 25,
    "start_time": "2023-02-27T18:56:31.672Z"
   },
   {
    "duration": 7,
    "start_time": "2023-02-27T18:56:44.974Z"
   },
   {
    "duration": 15,
    "start_time": "2023-02-27T18:57:32.320Z"
   },
   {
    "duration": 7,
    "start_time": "2023-02-27T18:58:58.893Z"
   },
   {
    "duration": 24,
    "start_time": "2023-02-27T18:59:32.817Z"
   },
   {
    "duration": 10,
    "start_time": "2023-02-27T18:59:47.796Z"
   },
   {
    "duration": 6,
    "start_time": "2023-02-27T19:00:33.537Z"
   },
   {
    "duration": 5,
    "start_time": "2023-02-27T19:00:40.267Z"
   },
   {
    "duration": 6,
    "start_time": "2023-02-27T19:01:18.138Z"
   },
   {
    "duration": 5,
    "start_time": "2023-02-27T19:02:15.200Z"
   },
   {
    "duration": 5,
    "start_time": "2023-02-27T19:02:19.991Z"
   },
   {
    "duration": 14,
    "start_time": "2023-02-27T19:02:43.889Z"
   },
   {
    "duration": 80,
    "start_time": "2023-02-27T19:03:15.036Z"
   },
   {
    "duration": 13,
    "start_time": "2023-02-27T19:03:19.337Z"
   },
   {
    "duration": 15,
    "start_time": "2023-02-27T19:03:27.170Z"
   },
   {
    "duration": 13,
    "start_time": "2023-02-27T19:03:30.228Z"
   },
   {
    "duration": 3,
    "start_time": "2023-02-27T19:04:38.934Z"
   },
   {
    "duration": 13,
    "start_time": "2023-02-27T19:04:42.979Z"
   },
   {
    "duration": 74,
    "start_time": "2023-02-27T19:05:29.496Z"
   },
   {
    "duration": 22,
    "start_time": "2023-02-27T19:05:33.236Z"
   },
   {
    "duration": 14,
    "start_time": "2023-02-27T19:05:48.489Z"
   },
   {
    "duration": 22,
    "start_time": "2023-02-27T19:05:59.382Z"
   },
   {
    "duration": 22,
    "start_time": "2023-02-27T19:07:31.021Z"
   },
   {
    "duration": 6,
    "start_time": "2023-02-27T19:07:35.151Z"
   },
   {
    "duration": 18,
    "start_time": "2023-02-27T19:08:28.653Z"
   },
   {
    "duration": 19,
    "start_time": "2023-02-27T19:11:47.817Z"
   },
   {
    "duration": 56,
    "start_time": "2023-02-28T06:00:51.847Z"
   },
   {
    "duration": 1352,
    "start_time": "2023-02-28T06:00:57.260Z"
   },
   {
    "duration": 13,
    "start_time": "2023-02-28T06:00:58.614Z"
   },
   {
    "duration": 18,
    "start_time": "2023-02-28T06:00:58.629Z"
   },
   {
    "duration": 14,
    "start_time": "2023-02-28T06:00:58.649Z"
   },
   {
    "duration": 10,
    "start_time": "2023-02-28T06:00:58.665Z"
   },
   {
    "duration": 43,
    "start_time": "2023-02-28T06:00:58.677Z"
   },
   {
    "duration": 23,
    "start_time": "2023-02-28T06:00:58.722Z"
   },
   {
    "duration": 311,
    "start_time": "2023-02-28T06:00:58.747Z"
   },
   {
    "duration": 20,
    "start_time": "2023-02-28T06:07:02.061Z"
   },
   {
    "duration": 8,
    "start_time": "2023-02-28T06:12:14.734Z"
   },
   {
    "duration": 14,
    "start_time": "2023-02-28T06:12:17.477Z"
   },
   {
    "duration": 15,
    "start_time": "2023-02-28T06:13:06.141Z"
   },
   {
    "duration": 19,
    "start_time": "2023-02-28T06:13:15.845Z"
   },
   {
    "duration": 9,
    "start_time": "2023-02-28T06:32:44.675Z"
   },
   {
    "duration": 15,
    "start_time": "2023-02-28T06:33:00.036Z"
   },
   {
    "duration": 27,
    "start_time": "2023-02-28T06:33:04.092Z"
   },
   {
    "duration": 19,
    "start_time": "2023-02-28T06:36:18.683Z"
   },
   {
    "duration": 9,
    "start_time": "2023-02-28T06:37:11.378Z"
   },
   {
    "duration": 16,
    "start_time": "2023-02-28T06:37:23.066Z"
   },
   {
    "duration": 243,
    "start_time": "2023-02-28T06:38:03.018Z"
   },
   {
    "duration": 15,
    "start_time": "2023-02-28T06:38:18.324Z"
   },
   {
    "duration": 11,
    "start_time": "2023-02-28T06:38:29.643Z"
   },
   {
    "duration": 19,
    "start_time": "2023-02-28T06:38:54.218Z"
   },
   {
    "duration": 20,
    "start_time": "2023-02-28T06:39:23.715Z"
   },
   {
    "duration": 10,
    "start_time": "2023-02-28T06:39:32.962Z"
   },
   {
    "duration": 9,
    "start_time": "2023-02-28T06:39:37.954Z"
   },
   {
    "duration": 20,
    "start_time": "2023-02-28T06:40:02.634Z"
   },
   {
    "duration": 16,
    "start_time": "2023-02-28T06:40:13.545Z"
   },
   {
    "duration": 119,
    "start_time": "2023-02-28T06:51:36.441Z"
   },
   {
    "duration": 16,
    "start_time": "2023-02-28T06:52:39.106Z"
   },
   {
    "duration": 3,
    "start_time": "2023-02-28T06:52:54.289Z"
   },
   {
    "duration": 19,
    "start_time": "2023-02-28T06:53:50.808Z"
   },
   {
    "duration": 17,
    "start_time": "2023-02-28T06:55:21.033Z"
   },
   {
    "duration": 18,
    "start_time": "2023-02-28T06:55:39.747Z"
   },
   {
    "duration": 20,
    "start_time": "2023-02-28T06:56:32.145Z"
   },
   {
    "duration": 16,
    "start_time": "2023-02-28T06:59:52.880Z"
   },
   {
    "duration": 20,
    "start_time": "2023-02-28T07:00:18.385Z"
   },
   {
    "duration": 30,
    "start_time": "2023-02-28T08:46:08.805Z"
   },
   {
    "duration": 19,
    "start_time": "2023-02-28T08:48:43.097Z"
   },
   {
    "duration": 17,
    "start_time": "2023-02-28T08:56:03.714Z"
   },
   {
    "duration": 13,
    "start_time": "2023-02-28T08:56:41.664Z"
   },
   {
    "duration": 5,
    "start_time": "2023-02-28T09:03:01.418Z"
   },
   {
    "duration": 50,
    "start_time": "2023-02-28T09:06:10.001Z"
   },
   {
    "duration": 48,
    "start_time": "2023-02-28T09:07:42.056Z"
   },
   {
    "duration": 41,
    "start_time": "2023-02-28T09:10:07.457Z"
   },
   {
    "duration": 51,
    "start_time": "2023-02-28T09:14:06.148Z"
   },
   {
    "duration": 4,
    "start_time": "2023-02-28T09:14:42.112Z"
   },
   {
    "duration": 46,
    "start_time": "2023-02-28T09:14:47.147Z"
   },
   {
    "duration": 3,
    "start_time": "2023-02-28T09:14:56.824Z"
   },
   {
    "duration": 70,
    "start_time": "2023-02-28T09:15:15.457Z"
   },
   {
    "duration": 4,
    "start_time": "2023-02-28T09:15:46.665Z"
   },
   {
    "duration": 21,
    "start_time": "2023-02-28T09:16:06.409Z"
   },
   {
    "duration": 38,
    "start_time": "2023-02-28T09:16:21.265Z"
   },
   {
    "duration": 18,
    "start_time": "2023-02-28T09:16:36.296Z"
   },
   {
    "duration": 17,
    "start_time": "2023-02-28T09:17:11.257Z"
   },
   {
    "duration": 127,
    "start_time": "2023-02-28T09:17:51.440Z"
   },
   {
    "duration": 5,
    "start_time": "2023-02-28T09:18:15.827Z"
   },
   {
    "duration": 6,
    "start_time": "2023-02-28T09:18:27.776Z"
   },
   {
    "duration": 6,
    "start_time": "2023-02-28T09:18:39.054Z"
   },
   {
    "duration": 113,
    "start_time": "2023-02-28T09:19:09.712Z"
   },
   {
    "duration": 10,
    "start_time": "2023-02-28T09:19:24.897Z"
   },
   {
    "duration": 20,
    "start_time": "2023-02-28T09:19:38.489Z"
   },
   {
    "duration": 38,
    "start_time": "2023-02-28T09:20:52.968Z"
   },
   {
    "duration": 14,
    "start_time": "2023-02-28T09:20:57.609Z"
   },
   {
    "duration": 725,
    "start_time": "2023-02-28T09:21:31.666Z"
   },
   {
    "duration": 154,
    "start_time": "2023-02-28T09:21:37.602Z"
   },
   {
    "duration": 11,
    "start_time": "2023-02-28T09:22:58.131Z"
   },
   {
    "duration": 174,
    "start_time": "2023-02-28T09:23:17.864Z"
   },
   {
    "duration": 152,
    "start_time": "2023-02-28T09:23:26.872Z"
   },
   {
    "duration": 25,
    "start_time": "2023-02-28T09:24:01.607Z"
   },
   {
    "duration": 700,
    "start_time": "2023-02-28T09:24:45.080Z"
   },
   {
    "duration": 706,
    "start_time": "2023-02-28T09:24:55.577Z"
   },
   {
    "duration": 898,
    "start_time": "2023-02-28T09:25:03.016Z"
   },
   {
    "duration": 701,
    "start_time": "2023-02-28T09:25:06.752Z"
   },
   {
    "duration": 717,
    "start_time": "2023-02-28T09:25:20.016Z"
   },
   {
    "duration": 706,
    "start_time": "2023-02-28T09:25:28.031Z"
   },
   {
    "duration": 6,
    "start_time": "2023-02-28T09:26:54.749Z"
   },
   {
    "duration": 172,
    "start_time": "2023-02-28T09:28:55.303Z"
   },
   {
    "duration": 160,
    "start_time": "2023-02-28T09:29:21.591Z"
   },
   {
    "duration": 15,
    "start_time": "2023-02-28T09:29:28.398Z"
   },
   {
    "duration": 26,
    "start_time": "2023-02-28T11:18:20.686Z"
   },
   {
    "duration": 5,
    "start_time": "2023-02-28T11:53:40.285Z"
   },
   {
    "duration": 16,
    "start_time": "2023-02-28T11:53:51.886Z"
   },
   {
    "duration": 55,
    "start_time": "2023-02-28T14:40:07.735Z"
   },
   {
    "duration": 2238,
    "start_time": "2023-02-28T14:40:12.495Z"
   },
   {
    "duration": 16,
    "start_time": "2023-02-28T14:40:14.735Z"
   },
   {
    "duration": 16,
    "start_time": "2023-02-28T14:40:14.753Z"
   },
   {
    "duration": 15,
    "start_time": "2023-02-28T14:40:14.771Z"
   },
   {
    "duration": 40,
    "start_time": "2023-02-28T14:40:14.788Z"
   },
   {
    "duration": 16,
    "start_time": "2023-02-28T14:40:14.830Z"
   },
   {
    "duration": 15,
    "start_time": "2023-02-28T14:40:14.848Z"
   },
   {
    "duration": 26,
    "start_time": "2023-02-28T14:40:14.864Z"
   },
   {
    "duration": 105,
    "start_time": "2023-02-28T14:40:14.892Z"
   },
   {
    "duration": 0,
    "start_time": "2023-02-28T14:40:14.999Z"
   },
   {
    "duration": 0,
    "start_time": "2023-02-28T14:40:15.000Z"
   },
   {
    "duration": 0,
    "start_time": "2023-02-28T14:40:15.001Z"
   },
   {
    "duration": 12,
    "start_time": "2023-02-28T14:40:59.245Z"
   },
   {
    "duration": 24,
    "start_time": "2023-02-28T14:41:22.276Z"
   },
   {
    "duration": 20,
    "start_time": "2023-02-28T14:41:50.119Z"
   },
   {
    "duration": 20,
    "start_time": "2023-02-28T14:42:39.000Z"
   },
   {
    "duration": 21,
    "start_time": "2023-02-28T14:42:52.869Z"
   },
   {
    "duration": 20,
    "start_time": "2023-02-28T14:42:53.445Z"
   },
   {
    "duration": 27,
    "start_time": "2023-02-28T14:42:53.946Z"
   },
   {
    "duration": 28,
    "start_time": "2023-02-28T14:42:54.258Z"
   },
   {
    "duration": 23,
    "start_time": "2023-02-28T14:42:54.414Z"
   },
   {
    "duration": 27,
    "start_time": "2023-02-28T14:42:54.570Z"
   },
   {
    "duration": 24,
    "start_time": "2023-02-28T14:42:54.732Z"
   },
   {
    "duration": 79,
    "start_time": "2023-02-28T14:43:05.774Z"
   },
   {
    "duration": 16,
    "start_time": "2023-02-28T14:43:05.855Z"
   },
   {
    "duration": 41,
    "start_time": "2023-02-28T14:43:05.872Z"
   },
   {
    "duration": 69,
    "start_time": "2023-02-28T14:43:05.916Z"
   },
   {
    "duration": 45,
    "start_time": "2023-02-28T14:43:05.987Z"
   },
   {
    "duration": 16,
    "start_time": "2023-02-28T14:43:06.034Z"
   },
   {
    "duration": 17,
    "start_time": "2023-02-28T14:43:06.053Z"
   },
   {
    "duration": 47,
    "start_time": "2023-02-28T14:43:06.072Z"
   },
   {
    "duration": 30,
    "start_time": "2023-02-28T14:43:06.121Z"
   },
   {
    "duration": 0,
    "start_time": "2023-02-28T14:43:06.153Z"
   },
   {
    "duration": 0,
    "start_time": "2023-02-28T14:43:06.154Z"
   },
   {
    "duration": 0,
    "start_time": "2023-02-28T14:43:06.156Z"
   },
   {
    "duration": 17,
    "start_time": "2023-02-28T14:45:59.135Z"
   },
   {
    "duration": 245,
    "start_time": "2023-02-28T14:46:03.837Z"
   },
   {
    "duration": 673,
    "start_time": "2023-02-28T14:46:45.623Z"
   },
   {
    "duration": 385,
    "start_time": "2023-02-28T14:47:22.639Z"
   },
   {
    "duration": 149,
    "start_time": "2023-02-28T14:47:33.036Z"
   },
   {
    "duration": 138,
    "start_time": "2023-02-28T14:57:37.000Z"
   },
   {
    "duration": 23,
    "start_time": "2023-02-28T14:59:52.238Z"
   },
   {
    "duration": 284,
    "start_time": "2023-02-28T15:00:00.318Z"
   },
   {
    "duration": 3,
    "start_time": "2023-02-28T15:04:01.123Z"
   },
   {
    "duration": 10,
    "start_time": "2023-02-28T15:04:14.695Z"
   },
   {
    "duration": 45,
    "start_time": "2023-02-28T15:07:41.820Z"
   },
   {
    "duration": 36,
    "start_time": "2023-02-28T15:08:08.802Z"
   },
   {
    "duration": 25,
    "start_time": "2023-02-28T15:08:32.458Z"
   },
   {
    "duration": 24,
    "start_time": "2023-02-28T15:09:42.721Z"
   },
   {
    "duration": 104,
    "start_time": "2023-02-28T15:09:49.085Z"
   },
   {
    "duration": 32,
    "start_time": "2023-02-28T15:10:44.056Z"
   },
   {
    "duration": 26,
    "start_time": "2023-02-28T15:10:51.941Z"
   },
   {
    "duration": 336,
    "start_time": "2023-02-28T15:22:40.260Z"
   },
   {
    "duration": 732,
    "start_time": "2023-02-28T15:23:50.828Z"
   },
   {
    "duration": 1057,
    "start_time": "2023-02-28T15:24:01.974Z"
   },
   {
    "duration": 1124,
    "start_time": "2023-02-28T15:25:33.001Z"
   },
   {
    "duration": 9,
    "start_time": "2023-02-28T15:27:32.659Z"
   },
   {
    "duration": 935,
    "start_time": "2023-02-28T15:27:42.543Z"
   },
   {
    "duration": 9,
    "start_time": "2023-02-28T15:27:49.561Z"
   },
   {
    "duration": 14,
    "start_time": "2023-02-28T15:28:18.172Z"
   },
   {
    "duration": 1067,
    "start_time": "2023-02-28T15:31:06.516Z"
   },
   {
    "duration": 9,
    "start_time": "2023-02-28T15:34:09.628Z"
   },
   {
    "duration": 10,
    "start_time": "2023-02-28T15:34:16.285Z"
   },
   {
    "duration": 1126,
    "start_time": "2023-02-28T15:36:50.701Z"
   },
   {
    "duration": 934,
    "start_time": "2023-02-28T15:37:25.331Z"
   },
   {
    "duration": 933,
    "start_time": "2023-02-28T15:37:40.616Z"
   },
   {
    "duration": 1032,
    "start_time": "2023-02-28T15:38:23.521Z"
   },
   {
    "duration": 982,
    "start_time": "2023-02-28T15:38:39.271Z"
   },
   {
    "duration": 9,
    "start_time": "2023-02-28T16:46:45.224Z"
   },
   {
    "duration": 9,
    "start_time": "2023-02-28T16:46:49.576Z"
   },
   {
    "duration": 34,
    "start_time": "2023-02-28T17:12:01.091Z"
   },
   {
    "duration": 206,
    "start_time": "2023-02-28T17:12:13.234Z"
   },
   {
    "duration": 742,
    "start_time": "2023-02-28T17:26:52.496Z"
   },
   {
    "duration": 64,
    "start_time": "2023-02-28T17:27:18.246Z"
   },
   {
    "duration": 19,
    "start_time": "2023-02-28T17:27:18.312Z"
   },
   {
    "duration": 17,
    "start_time": "2023-02-28T17:27:18.333Z"
   },
   {
    "duration": 16,
    "start_time": "2023-02-28T17:27:18.352Z"
   },
   {
    "duration": 42,
    "start_time": "2023-02-28T17:27:18.371Z"
   },
   {
    "duration": 20,
    "start_time": "2023-02-28T17:27:18.415Z"
   },
   {
    "duration": 19,
    "start_time": "2023-02-28T17:27:18.437Z"
   },
   {
    "duration": 169,
    "start_time": "2023-02-28T17:27:18.458Z"
   },
   {
    "duration": 8,
    "start_time": "2023-02-28T17:27:18.628Z"
   },
   {
    "duration": 22,
    "start_time": "2023-02-28T17:27:18.638Z"
   },
   {
    "duration": 23,
    "start_time": "2023-02-28T17:27:18.662Z"
   },
   {
    "duration": 222,
    "start_time": "2023-02-28T17:27:18.687Z"
   },
   {
    "duration": 24,
    "start_time": "2023-02-28T17:27:18.911Z"
   },
   {
    "duration": 711,
    "start_time": "2023-02-28T17:27:18.937Z"
   },
   {
    "duration": 1302,
    "start_time": "2023-02-28T17:27:34.286Z"
   },
   {
    "duration": 17,
    "start_time": "2023-02-28T17:27:35.590Z"
   },
   {
    "duration": 37,
    "start_time": "2023-02-28T17:27:35.608Z"
   },
   {
    "duration": 17,
    "start_time": "2023-02-28T17:27:35.648Z"
   },
   {
    "duration": 28,
    "start_time": "2023-02-28T17:27:35.668Z"
   },
   {
    "duration": 23,
    "start_time": "2023-02-28T17:27:35.698Z"
   },
   {
    "duration": 17,
    "start_time": "2023-02-28T17:27:35.723Z"
   },
   {
    "duration": 27,
    "start_time": "2023-02-28T17:27:35.742Z"
   },
   {
    "duration": 11,
    "start_time": "2023-02-28T17:27:35.771Z"
   },
   {
    "duration": 29,
    "start_time": "2023-02-28T17:27:35.785Z"
   },
   {
    "duration": 26,
    "start_time": "2023-02-28T17:27:35.815Z"
   },
   {
    "duration": 198,
    "start_time": "2023-02-28T17:27:35.843Z"
   },
   {
    "duration": 26,
    "start_time": "2023-02-28T17:27:36.043Z"
   },
   {
    "duration": 703,
    "start_time": "2023-02-28T17:27:36.070Z"
   },
   {
    "duration": 15,
    "start_time": "2023-02-28T17:28:32.865Z"
   },
   {
    "duration": 24,
    "start_time": "2023-02-28T17:28:52.730Z"
   },
   {
    "duration": 760,
    "start_time": "2023-02-28T17:29:02.248Z"
   },
   {
    "duration": 716,
    "start_time": "2023-02-28T17:29:27.720Z"
   },
   {
    "duration": 1012,
    "start_time": "2023-02-28T17:30:47.513Z"
   },
   {
    "duration": 53,
    "start_time": "2023-02-28T18:16:43.429Z"
   },
   {
    "duration": 50,
    "start_time": "2023-02-28T18:20:30.068Z"
   },
   {
    "duration": 627,
    "start_time": "2023-02-28T18:21:53.969Z"
   },
   {
    "duration": 269,
    "start_time": "2023-02-28T18:23:47.822Z"
   },
   {
    "duration": 427,
    "start_time": "2023-02-28T18:24:16.439Z"
   },
   {
    "duration": 1118,
    "start_time": "2023-02-28T18:24:47.164Z"
   },
   {
    "duration": 52,
    "start_time": "2023-02-28T18:45:04.450Z"
   },
   {
    "duration": 64,
    "start_time": "2023-02-28T18:45:25.507Z"
   },
   {
    "duration": 41,
    "start_time": "2023-02-28T18:45:29.158Z"
   },
   {
    "duration": 25,
    "start_time": "2023-02-28T18:45:37.955Z"
   },
   {
    "duration": 24,
    "start_time": "2023-02-28T18:46:10.196Z"
   },
   {
    "duration": 46,
    "start_time": "2023-02-28T18:56:19.958Z"
   },
   {
    "duration": 43,
    "start_time": "2023-02-28T18:56:35.925Z"
   },
   {
    "duration": 16,
    "start_time": "2023-02-28T18:58:28.184Z"
   },
   {
    "duration": 34,
    "start_time": "2023-02-28T18:58:42.606Z"
   },
   {
    "duration": 672,
    "start_time": "2023-02-28T18:59:17.561Z"
   },
   {
    "duration": 31,
    "start_time": "2023-02-28T18:59:22.789Z"
   },
   {
    "duration": 27,
    "start_time": "2023-02-28T19:01:48.970Z"
   },
   {
    "duration": 32,
    "start_time": "2023-02-28T19:03:33.063Z"
   },
   {
    "duration": 28,
    "start_time": "2023-02-28T19:04:20.500Z"
   },
   {
    "duration": 4,
    "start_time": "2023-02-28T19:04:54.890Z"
   },
   {
    "duration": 8,
    "start_time": "2023-02-28T19:05:04.291Z"
   },
   {
    "duration": 54,
    "start_time": "2023-03-01T14:44:05.054Z"
   },
   {
    "duration": 1432,
    "start_time": "2023-03-01T14:44:09.562Z"
   },
   {
    "duration": 15,
    "start_time": "2023-03-01T14:44:10.996Z"
   },
   {
    "duration": 22,
    "start_time": "2023-03-01T14:44:11.012Z"
   },
   {
    "duration": 14,
    "start_time": "2023-03-01T14:44:11.036Z"
   },
   {
    "duration": 12,
    "start_time": "2023-03-01T14:44:11.052Z"
   },
   {
    "duration": 14,
    "start_time": "2023-03-01T14:44:11.065Z"
   },
   {
    "duration": 38,
    "start_time": "2023-03-01T14:44:11.080Z"
   },
   {
    "duration": 26,
    "start_time": "2023-03-01T14:44:11.120Z"
   },
   {
    "duration": 8,
    "start_time": "2023-03-01T14:44:11.148Z"
   },
   {
    "duration": 17,
    "start_time": "2023-03-01T14:44:11.159Z"
   },
   {
    "duration": 36,
    "start_time": "2023-03-01T14:44:11.179Z"
   },
   {
    "duration": 165,
    "start_time": "2023-03-01T14:44:11.217Z"
   },
   {
    "duration": 28,
    "start_time": "2023-03-01T14:44:11.384Z"
   },
   {
    "duration": 884,
    "start_time": "2023-03-01T14:44:11.414Z"
   },
   {
    "duration": 23,
    "start_time": "2023-03-01T14:44:12.303Z"
   },
   {
    "duration": 5,
    "start_time": "2023-03-01T14:44:12.328Z"
   },
   {
    "duration": 91,
    "start_time": "2023-03-01T14:44:52.867Z"
   },
   {
    "duration": 31,
    "start_time": "2023-03-01T14:46:00.205Z"
   },
   {
    "duration": 4,
    "start_time": "2023-03-01T14:50:13.571Z"
   },
   {
    "duration": 30,
    "start_time": "2023-03-01T14:54:12.385Z"
   },
   {
    "duration": 27,
    "start_time": "2023-03-01T14:54:39.354Z"
   },
   {
    "duration": 9,
    "start_time": "2023-03-01T14:59:38.835Z"
   },
   {
    "duration": 9,
    "start_time": "2023-03-01T14:59:43.501Z"
   },
   {
    "duration": 65,
    "start_time": "2023-03-01T14:59:48.511Z"
   },
   {
    "duration": 13,
    "start_time": "2023-03-01T14:59:48.578Z"
   },
   {
    "duration": 15,
    "start_time": "2023-03-01T14:59:48.593Z"
   },
   {
    "duration": 14,
    "start_time": "2023-03-01T14:59:48.610Z"
   },
   {
    "duration": 10,
    "start_time": "2023-03-01T14:59:48.626Z"
   },
   {
    "duration": 15,
    "start_time": "2023-03-01T14:59:48.637Z"
   },
   {
    "duration": 13,
    "start_time": "2023-03-01T14:59:48.653Z"
   },
   {
    "duration": 40,
    "start_time": "2023-03-01T14:59:48.668Z"
   },
   {
    "duration": 7,
    "start_time": "2023-03-01T14:59:48.709Z"
   },
   {
    "duration": 12,
    "start_time": "2023-03-01T14:59:48.718Z"
   },
   {
    "duration": 15,
    "start_time": "2023-03-01T14:59:48.732Z"
   },
   {
    "duration": 169,
    "start_time": "2023-03-01T14:59:48.749Z"
   },
   {
    "duration": 23,
    "start_time": "2023-03-01T14:59:48.919Z"
   },
   {
    "duration": 971,
    "start_time": "2023-03-01T14:59:48.943Z"
   },
   {
    "duration": 23,
    "start_time": "2023-03-01T14:59:49.916Z"
   },
   {
    "duration": 25,
    "start_time": "2023-03-01T14:59:49.940Z"
   },
   {
    "duration": 16,
    "start_time": "2023-03-01T15:00:04.159Z"
   },
   {
    "duration": 10,
    "start_time": "2023-03-01T15:00:22.032Z"
   },
   {
    "duration": 15,
    "start_time": "2023-03-01T15:00:29.865Z"
   },
   {
    "duration": 66,
    "start_time": "2023-03-01T15:00:48.872Z"
   },
   {
    "duration": 13,
    "start_time": "2023-03-01T15:00:48.940Z"
   },
   {
    "duration": 15,
    "start_time": "2023-03-01T15:00:48.954Z"
   },
   {
    "duration": 35,
    "start_time": "2023-03-01T15:00:48.971Z"
   },
   {
    "duration": 10,
    "start_time": "2023-03-01T15:00:49.008Z"
   },
   {
    "duration": 16,
    "start_time": "2023-03-01T15:00:49.020Z"
   },
   {
    "duration": 15,
    "start_time": "2023-03-01T15:00:49.038Z"
   },
   {
    "duration": 55,
    "start_time": "2023-03-01T15:00:49.055Z"
   },
   {
    "duration": 10,
    "start_time": "2023-03-01T15:00:49.112Z"
   },
   {
    "duration": 13,
    "start_time": "2023-03-01T15:00:49.125Z"
   },
   {
    "duration": 15,
    "start_time": "2023-03-01T15:00:49.139Z"
   },
   {
    "duration": 0,
    "start_time": "2023-03-01T15:00:49.155Z"
   },
   {
    "duration": 0,
    "start_time": "2023-03-01T15:00:49.156Z"
   },
   {
    "duration": 0,
    "start_time": "2023-03-01T15:00:49.157Z"
   },
   {
    "duration": 0,
    "start_time": "2023-03-01T15:00:49.158Z"
   },
   {
    "duration": 0,
    "start_time": "2023-03-01T15:00:49.159Z"
   },
   {
    "duration": 17,
    "start_time": "2023-03-01T15:01:11.755Z"
   },
   {
    "duration": 28,
    "start_time": "2023-03-01T15:01:21.212Z"
   },
   {
    "duration": 66,
    "start_time": "2023-03-01T15:01:27.390Z"
   },
   {
    "duration": 14,
    "start_time": "2023-03-01T15:01:27.457Z"
   },
   {
    "duration": 15,
    "start_time": "2023-03-01T15:01:27.473Z"
   },
   {
    "duration": 28,
    "start_time": "2023-03-01T15:01:27.490Z"
   },
   {
    "duration": 10,
    "start_time": "2023-03-01T15:01:27.520Z"
   },
   {
    "duration": 15,
    "start_time": "2023-03-01T15:01:27.532Z"
   },
   {
    "duration": 14,
    "start_time": "2023-03-01T15:01:27.548Z"
   },
   {
    "duration": 46,
    "start_time": "2023-03-01T15:01:27.563Z"
   },
   {
    "duration": 8,
    "start_time": "2023-03-01T15:01:27.610Z"
   },
   {
    "duration": 13,
    "start_time": "2023-03-01T15:01:27.620Z"
   },
   {
    "duration": 17,
    "start_time": "2023-03-01T15:01:27.634Z"
   },
   {
    "duration": 176,
    "start_time": "2023-03-01T15:01:27.653Z"
   },
   {
    "duration": 24,
    "start_time": "2023-03-01T15:01:27.830Z"
   },
   {
    "duration": 933,
    "start_time": "2023-03-01T15:01:27.855Z"
   },
   {
    "duration": 32,
    "start_time": "2023-03-01T15:01:28.789Z"
   },
   {
    "duration": 28,
    "start_time": "2023-03-01T15:01:28.822Z"
   },
   {
    "duration": 178,
    "start_time": "2023-03-01T15:23:01.974Z"
   },
   {
    "duration": 85,
    "start_time": "2023-03-01T15:27:00.734Z"
   },
   {
    "duration": 80,
    "start_time": "2023-03-01T15:27:16.890Z"
   },
   {
    "duration": 26,
    "start_time": "2023-03-01T15:27:50.672Z"
   },
   {
    "duration": 3106,
    "start_time": "2023-03-01T15:29:29.215Z"
   },
   {
    "duration": 2936,
    "start_time": "2023-03-01T15:34:15.824Z"
   },
   {
    "duration": 4045,
    "start_time": "2023-03-01T15:34:41.223Z"
   },
   {
    "duration": 4063,
    "start_time": "2023-03-01T15:35:21.070Z"
   },
   {
    "duration": 21,
    "start_time": "2023-03-01T15:41:15.968Z"
   },
   {
    "duration": 1163,
    "start_time": "2023-03-01T15:59:39.525Z"
   },
   {
    "duration": 1766,
    "start_time": "2023-03-01T16:00:00.556Z"
   },
   {
    "duration": 3,
    "start_time": "2023-03-01T16:01:07.776Z"
   },
   {
    "duration": 3,
    "start_time": "2023-03-01T16:01:23.377Z"
   },
   {
    "duration": 29,
    "start_time": "2023-03-01T16:02:04.972Z"
   },
   {
    "duration": 3,
    "start_time": "2023-03-01T16:02:06.499Z"
   },
   {
    "duration": 161,
    "start_time": "2023-03-01T16:07:30.506Z"
   },
   {
    "duration": 75,
    "start_time": "2023-03-01T16:07:43.459Z"
   },
   {
    "duration": 101,
    "start_time": "2023-03-01T16:10:46.394Z"
   },
   {
    "duration": 73,
    "start_time": "2023-03-01T16:10:51.817Z"
   },
   {
    "duration": 72,
    "start_time": "2023-03-01T16:10:57.269Z"
   },
   {
    "duration": 10,
    "start_time": "2023-03-01T16:11:07.048Z"
   },
   {
    "duration": 1676,
    "start_time": "2023-03-01T16:11:19.702Z"
   },
   {
    "duration": 209,
    "start_time": "2023-03-01T16:11:40.459Z"
   },
   {
    "duration": 96,
    "start_time": "2023-03-01T16:11:56.944Z"
   },
   {
    "duration": 228,
    "start_time": "2023-03-01T16:12:15.605Z"
   },
   {
    "duration": 9,
    "start_time": "2023-03-01T16:13:00.252Z"
   },
   {
    "duration": 208,
    "start_time": "2023-03-01T16:13:07.037Z"
   },
   {
    "duration": 19,
    "start_time": "2023-03-01T16:15:55.758Z"
   },
   {
    "duration": 24,
    "start_time": "2023-03-01T16:20:25.257Z"
   },
   {
    "duration": 80,
    "start_time": "2023-03-01T16:22:06.645Z"
   },
   {
    "duration": 62,
    "start_time": "2023-03-01T16:22:16.705Z"
   },
   {
    "duration": 17,
    "start_time": "2023-03-01T16:24:01.531Z"
   },
   {
    "duration": 62,
    "start_time": "2023-03-01T16:26:02.152Z"
   },
   {
    "duration": 57,
    "start_time": "2023-03-01T16:26:27.296Z"
   },
   {
    "duration": 48,
    "start_time": "2023-03-01T16:27:14.376Z"
   },
   {
    "duration": 52,
    "start_time": "2023-03-01T16:27:39.683Z"
   },
   {
    "duration": 61,
    "start_time": "2023-03-01T16:27:54.816Z"
   },
   {
    "duration": 21,
    "start_time": "2023-03-01T16:29:00.655Z"
   },
   {
    "duration": 893,
    "start_time": "2023-03-01T16:33:09.415Z"
   },
   {
    "duration": 191,
    "start_time": "2023-03-01T16:34:25.753Z"
   },
   {
    "duration": 921,
    "start_time": "2023-03-01T16:34:37.390Z"
   },
   {
    "duration": 57,
    "start_time": "2023-03-01T16:34:58.941Z"
   },
   {
    "duration": 813,
    "start_time": "2023-03-01T16:36:14.232Z"
   },
   {
    "duration": 1156,
    "start_time": "2023-03-01T16:37:58.809Z"
   },
   {
    "duration": 1182,
    "start_time": "2023-03-01T16:38:13.393Z"
   },
   {
    "duration": 1363,
    "start_time": "2023-03-01T16:38:41.042Z"
   },
   {
    "duration": 861,
    "start_time": "2023-03-01T16:39:43.208Z"
   },
   {
    "duration": 96,
    "start_time": "2023-03-01T16:46:14.553Z"
   },
   {
    "duration": 241,
    "start_time": "2023-03-01T16:46:22.057Z"
   },
   {
    "duration": 253,
    "start_time": "2023-03-01T16:46:30.705Z"
   },
   {
    "duration": 1884,
    "start_time": "2023-03-01T16:48:05.142Z"
   },
   {
    "duration": 246,
    "start_time": "2023-03-01T16:49:23.041Z"
   },
   {
    "duration": 103,
    "start_time": "2023-03-01T16:49:39.517Z"
   },
   {
    "duration": 114,
    "start_time": "2023-03-01T16:49:53.983Z"
   },
   {
    "duration": 1472,
    "start_time": "2023-03-01T16:51:38.251Z"
   },
   {
    "duration": 68,
    "start_time": "2023-03-01T16:53:56.238Z"
   },
   {
    "duration": 1351,
    "start_time": "2023-03-03T14:48:05.233Z"
   },
   {
    "duration": 16,
    "start_time": "2023-03-03T14:48:06.586Z"
   },
   {
    "duration": 14,
    "start_time": "2023-03-03T14:48:06.604Z"
   },
   {
    "duration": 14,
    "start_time": "2023-03-03T14:48:06.620Z"
   },
   {
    "duration": 10,
    "start_time": "2023-03-03T14:48:06.636Z"
   },
   {
    "duration": 12,
    "start_time": "2023-03-03T14:48:06.648Z"
   },
   {
    "duration": 41,
    "start_time": "2023-03-03T14:48:06.661Z"
   },
   {
    "duration": 17,
    "start_time": "2023-03-03T14:48:06.703Z"
   },
   {
    "duration": 7,
    "start_time": "2023-03-03T14:48:06.722Z"
   },
   {
    "duration": 13,
    "start_time": "2023-03-03T14:48:06.730Z"
   },
   {
    "duration": 18,
    "start_time": "2023-03-03T14:48:06.744Z"
   },
   {
    "duration": 155,
    "start_time": "2023-03-03T14:48:06.763Z"
   },
   {
    "duration": 24,
    "start_time": "2023-03-03T14:48:06.919Z"
   },
   {
    "duration": 810,
    "start_time": "2023-03-03T14:48:06.945Z"
   },
   {
    "duration": 21,
    "start_time": "2023-03-03T14:48:07.756Z"
   },
   {
    "duration": 1363,
    "start_time": "2023-03-03T14:48:07.778Z"
   },
   {
    "duration": 13,
    "start_time": "2023-03-03T14:48:09.142Z"
   },
   {
    "duration": 292,
    "start_time": "2023-03-03T14:48:37.720Z"
   },
   {
    "duration": 64,
    "start_time": "2023-03-03T14:48:57.819Z"
   },
   {
    "duration": 1190,
    "start_time": "2023-03-03T14:49:01.905Z"
   },
   {
    "duration": 65,
    "start_time": "2023-03-03T14:49:08.637Z"
   },
   {
    "duration": 13,
    "start_time": "2023-03-03T14:49:08.704Z"
   },
   {
    "duration": 14,
    "start_time": "2023-03-03T14:49:08.718Z"
   },
   {
    "duration": 13,
    "start_time": "2023-03-03T14:49:08.733Z"
   },
   {
    "duration": 12,
    "start_time": "2023-03-03T14:49:08.748Z"
   },
   {
    "duration": 36,
    "start_time": "2023-03-03T14:49:08.761Z"
   },
   {
    "duration": 12,
    "start_time": "2023-03-03T14:49:08.799Z"
   },
   {
    "duration": 19,
    "start_time": "2023-03-03T14:49:08.812Z"
   },
   {
    "duration": 7,
    "start_time": "2023-03-03T14:49:08.833Z"
   },
   {
    "duration": 16,
    "start_time": "2023-03-03T14:49:08.842Z"
   },
   {
    "duration": 39,
    "start_time": "2023-03-03T14:49:08.859Z"
   },
   {
    "duration": 137,
    "start_time": "2023-03-03T14:49:08.899Z"
   },
   {
    "duration": 22,
    "start_time": "2023-03-03T14:49:09.038Z"
   },
   {
    "duration": 809,
    "start_time": "2023-03-03T14:49:09.061Z"
   },
   {
    "duration": 30,
    "start_time": "2023-03-03T14:49:09.871Z"
   },
   {
    "duration": 1380,
    "start_time": "2023-03-03T14:49:09.902Z"
   },
   {
    "duration": 13,
    "start_time": "2023-03-03T14:49:11.290Z"
   },
   {
    "duration": 225,
    "start_time": "2023-03-03T14:49:11.305Z"
   },
   {
    "duration": 16,
    "start_time": "2023-03-03T14:53:16.384Z"
   },
   {
    "duration": 9,
    "start_time": "2023-03-03T14:55:02.507Z"
   },
   {
    "duration": 17,
    "start_time": "2023-03-03T14:55:04.896Z"
   },
   {
    "duration": 67,
    "start_time": "2023-03-03T14:56:03.486Z"
   },
   {
    "duration": 12,
    "start_time": "2023-03-03T14:56:03.555Z"
   },
   {
    "duration": 13,
    "start_time": "2023-03-03T14:56:03.568Z"
   },
   {
    "duration": 14,
    "start_time": "2023-03-03T14:56:03.583Z"
   },
   {
    "duration": 12,
    "start_time": "2023-03-03T14:56:03.598Z"
   },
   {
    "duration": 12,
    "start_time": "2023-03-03T14:56:03.611Z"
   },
   {
    "duration": 13,
    "start_time": "2023-03-03T14:56:03.624Z"
   },
   {
    "duration": 18,
    "start_time": "2023-03-03T14:56:03.639Z"
   },
   {
    "duration": 39,
    "start_time": "2023-03-03T14:56:03.659Z"
   },
   {
    "duration": 12,
    "start_time": "2023-03-03T14:56:03.700Z"
   },
   {
    "duration": 16,
    "start_time": "2023-03-03T14:56:03.714Z"
   },
   {
    "duration": 177,
    "start_time": "2023-03-03T14:56:03.732Z"
   },
   {
    "duration": 20,
    "start_time": "2023-03-03T14:56:03.911Z"
   },
   {
    "duration": 830,
    "start_time": "2023-03-03T14:56:03.933Z"
   },
   {
    "duration": 27,
    "start_time": "2023-03-03T14:56:04.764Z"
   },
   {
    "duration": 1412,
    "start_time": "2023-03-03T14:56:04.793Z"
   },
   {
    "duration": 21,
    "start_time": "2023-03-03T14:56:06.206Z"
   },
   {
    "duration": 286,
    "start_time": "2023-03-03T14:56:06.229Z"
   },
   {
    "duration": 17,
    "start_time": "2023-03-03T14:56:06.516Z"
   },
   {
    "duration": 15,
    "start_time": "2023-03-03T14:56:23.683Z"
   },
   {
    "duration": 16,
    "start_time": "2023-03-03T14:56:49.914Z"
   },
   {
    "duration": 307,
    "start_time": "2023-03-03T14:57:06.284Z"
   },
   {
    "duration": 4,
    "start_time": "2023-03-03T14:57:35.691Z"
   },
   {
    "duration": 133,
    "start_time": "2023-03-03T14:57:47.022Z"
   },
   {
    "duration": 134,
    "start_time": "2023-03-03T14:58:14.114Z"
   },
   {
    "duration": 207,
    "start_time": "2023-03-03T14:58:27.868Z"
   },
   {
    "duration": 135,
    "start_time": "2023-03-03T14:59:15.509Z"
   },
   {
    "duration": 142,
    "start_time": "2023-03-03T15:00:49.189Z"
   },
   {
    "duration": 126,
    "start_time": "2023-03-03T15:01:16.825Z"
   },
   {
    "duration": 131,
    "start_time": "2023-03-03T15:01:23.262Z"
   },
   {
    "duration": 13,
    "start_time": "2023-03-03T15:04:30.108Z"
   },
   {
    "duration": 139,
    "start_time": "2023-03-03T15:06:17.158Z"
   },
   {
    "duration": 135,
    "start_time": "2023-03-03T15:06:29.058Z"
   },
   {
    "duration": 139,
    "start_time": "2023-03-03T15:07:55.373Z"
   },
   {
    "duration": 13,
    "start_time": "2023-03-03T15:08:21.905Z"
   },
   {
    "duration": 66,
    "start_time": "2023-03-03T15:08:37.577Z"
   },
   {
    "duration": 12,
    "start_time": "2023-03-03T15:08:37.645Z"
   },
   {
    "duration": 25,
    "start_time": "2023-03-03T15:08:37.659Z"
   },
   {
    "duration": 29,
    "start_time": "2023-03-03T15:08:37.686Z"
   },
   {
    "duration": 31,
    "start_time": "2023-03-03T15:08:37.717Z"
   },
   {
    "duration": 46,
    "start_time": "2023-03-03T15:08:37.749Z"
   },
   {
    "duration": 39,
    "start_time": "2023-03-03T15:08:37.797Z"
   },
   {
    "duration": 26,
    "start_time": "2023-03-03T15:08:37.838Z"
   },
   {
    "duration": 16,
    "start_time": "2023-03-03T15:08:37.866Z"
   },
   {
    "duration": 38,
    "start_time": "2023-03-03T15:08:37.885Z"
   },
   {
    "duration": 28,
    "start_time": "2023-03-03T15:08:37.925Z"
   },
   {
    "duration": 167,
    "start_time": "2023-03-03T15:08:37.954Z"
   },
   {
    "duration": 23,
    "start_time": "2023-03-03T15:08:38.122Z"
   },
   {
    "duration": 1072,
    "start_time": "2023-03-03T15:08:38.146Z"
   },
   {
    "duration": 24,
    "start_time": "2023-03-03T15:08:39.220Z"
   },
   {
    "duration": 1471,
    "start_time": "2023-03-03T15:08:39.246Z"
   },
   {
    "duration": 14,
    "start_time": "2023-03-03T15:08:40.719Z"
   },
   {
    "duration": 262,
    "start_time": "2023-03-03T15:08:40.734Z"
   },
   {
    "duration": 12,
    "start_time": "2023-03-03T15:08:40.998Z"
   },
   {
    "duration": 37,
    "start_time": "2023-03-03T15:08:41.012Z"
   },
   {
    "duration": 337,
    "start_time": "2023-03-03T15:08:41.050Z"
   },
   {
    "duration": 5,
    "start_time": "2023-03-03T15:08:41.388Z"
   },
   {
    "duration": 37,
    "start_time": "2023-03-03T15:08:41.394Z"
   },
   {
    "duration": 1216,
    "start_time": "2023-03-03T15:12:24.465Z"
   },
   {
    "duration": 19,
    "start_time": "2023-03-03T15:12:25.683Z"
   },
   {
    "duration": 35,
    "start_time": "2023-03-03T15:12:25.704Z"
   },
   {
    "duration": 35,
    "start_time": "2023-03-03T15:12:25.740Z"
   },
   {
    "duration": 28,
    "start_time": "2023-03-03T15:12:25.778Z"
   },
   {
    "duration": 32,
    "start_time": "2023-03-03T15:12:25.808Z"
   },
   {
    "duration": 30,
    "start_time": "2023-03-03T15:12:25.842Z"
   },
   {
    "duration": 28,
    "start_time": "2023-03-03T15:12:25.873Z"
   },
   {
    "duration": 37,
    "start_time": "2023-03-03T15:12:25.903Z"
   },
   {
    "duration": 35,
    "start_time": "2023-03-03T15:12:25.942Z"
   },
   {
    "duration": 26,
    "start_time": "2023-03-03T15:12:25.979Z"
   },
   {
    "duration": 200,
    "start_time": "2023-03-03T15:12:26.006Z"
   },
   {
    "duration": 26,
    "start_time": "2023-03-03T15:12:26.207Z"
   },
   {
    "duration": 1011,
    "start_time": "2023-03-03T15:12:26.236Z"
   },
   {
    "duration": 22,
    "start_time": "2023-03-03T15:12:27.248Z"
   },
   {
    "duration": 1429,
    "start_time": "2023-03-03T15:12:27.271Z"
   },
   {
    "duration": 20,
    "start_time": "2023-03-03T15:12:28.702Z"
   },
   {
    "duration": 253,
    "start_time": "2023-03-03T15:12:28.723Z"
   },
   {
    "duration": 22,
    "start_time": "2023-03-03T15:12:28.977Z"
   },
   {
    "duration": 24,
    "start_time": "2023-03-03T15:12:29.001Z"
   },
   {
    "duration": 298,
    "start_time": "2023-03-03T15:12:29.027Z"
   },
   {
    "duration": 4,
    "start_time": "2023-03-03T15:12:29.327Z"
   },
   {
    "duration": 0,
    "start_time": "2023-03-03T15:14:54.599Z"
   },
   {
    "duration": 0,
    "start_time": "2023-03-03T15:14:54.601Z"
   },
   {
    "duration": 139,
    "start_time": "2023-03-03T15:15:10.228Z"
   },
   {
    "duration": 836,
    "start_time": "2023-03-03T15:15:29.993Z"
   },
   {
    "duration": 854,
    "start_time": "2023-03-03T15:18:53.565Z"
   },
   {
    "duration": 852,
    "start_time": "2023-03-03T15:18:54.421Z"
   },
   {
    "duration": 9,
    "start_time": "2023-03-03T15:20:57.008Z"
   },
   {
    "duration": 128,
    "start_time": "2023-03-03T15:23:03.419Z"
   },
   {
    "duration": 16,
    "start_time": "2023-03-03T15:27:41.666Z"
   },
   {
    "duration": 16,
    "start_time": "2023-03-03T15:29:14.970Z"
   },
   {
    "duration": 14,
    "start_time": "2023-03-03T15:29:23.678Z"
   },
   {
    "duration": 13,
    "start_time": "2023-03-03T15:29:46.663Z"
   },
   {
    "duration": 141,
    "start_time": "2023-03-03T15:30:36.982Z"
   },
   {
    "duration": 11,
    "start_time": "2023-03-03T15:30:51.682Z"
   },
   {
    "duration": 144,
    "start_time": "2023-03-03T15:33:10.962Z"
   },
   {
    "duration": 142,
    "start_time": "2023-03-03T15:51:03.794Z"
   },
   {
    "duration": 144,
    "start_time": "2023-03-03T15:53:15.070Z"
   },
   {
    "duration": 67,
    "start_time": "2023-03-03T15:53:48.915Z"
   },
   {
    "duration": 147,
    "start_time": "2023-03-03T15:53:57.278Z"
   },
   {
    "duration": 16,
    "start_time": "2023-03-03T15:54:40.074Z"
   },
   {
    "duration": 14,
    "start_time": "2023-03-03T15:55:00.418Z"
   },
   {
    "duration": 10,
    "start_time": "2023-03-03T15:55:11.625Z"
   },
   {
    "duration": 9,
    "start_time": "2023-03-03T15:56:09.978Z"
   },
   {
    "duration": 10,
    "start_time": "2023-03-03T15:56:24.318Z"
   },
   {
    "duration": 8,
    "start_time": "2023-03-03T15:56:46.578Z"
   },
   {
    "duration": 7,
    "start_time": "2023-03-03T15:56:49.987Z"
   },
   {
    "duration": 10,
    "start_time": "2023-03-03T15:56:52.174Z"
   },
   {
    "duration": 13,
    "start_time": "2023-03-03T15:57:06.187Z"
   },
   {
    "duration": 9,
    "start_time": "2023-03-03T15:57:07.991Z"
   },
   {
    "duration": 1159,
    "start_time": "2023-03-03T15:57:17.101Z"
   },
   {
    "duration": 13,
    "start_time": "2023-03-03T15:57:18.262Z"
   },
   {
    "duration": 23,
    "start_time": "2023-03-03T15:57:18.276Z"
   },
   {
    "duration": 12,
    "start_time": "2023-03-03T15:57:18.301Z"
   },
   {
    "duration": 16,
    "start_time": "2023-03-03T15:57:18.315Z"
   },
   {
    "duration": 19,
    "start_time": "2023-03-03T15:57:18.332Z"
   },
   {
    "duration": 12,
    "start_time": "2023-03-03T15:57:18.352Z"
   },
   {
    "duration": 30,
    "start_time": "2023-03-03T15:57:18.366Z"
   },
   {
    "duration": 9,
    "start_time": "2023-03-03T15:57:18.397Z"
   },
   {
    "duration": 12,
    "start_time": "2023-03-03T15:57:18.407Z"
   },
   {
    "duration": 16,
    "start_time": "2023-03-03T15:57:18.420Z"
   },
   {
    "duration": 171,
    "start_time": "2023-03-03T15:57:18.437Z"
   },
   {
    "duration": 22,
    "start_time": "2023-03-03T15:57:18.609Z"
   },
   {
    "duration": 800,
    "start_time": "2023-03-03T15:57:18.633Z"
   },
   {
    "duration": 21,
    "start_time": "2023-03-03T15:57:19.435Z"
   },
   {
    "duration": 1365,
    "start_time": "2023-03-03T15:57:19.458Z"
   },
   {
    "duration": 13,
    "start_time": "2023-03-03T15:57:20.824Z"
   },
   {
    "duration": 221,
    "start_time": "2023-03-03T15:57:20.839Z"
   },
   {
    "duration": 12,
    "start_time": "2023-03-03T15:57:21.062Z"
   },
   {
    "duration": 28,
    "start_time": "2023-03-03T15:57:21.075Z"
   },
   {
    "duration": 261,
    "start_time": "2023-03-03T15:57:21.105Z"
   },
   {
    "duration": 4,
    "start_time": "2023-03-03T15:57:21.368Z"
   },
   {
    "duration": 19,
    "start_time": "2023-03-03T15:57:21.373Z"
   },
   {
    "duration": 158,
    "start_time": "2023-03-03T15:57:48.109Z"
   },
   {
    "duration": 133,
    "start_time": "2023-03-03T15:58:06.286Z"
   },
   {
    "duration": 111,
    "start_time": "2023-03-03T15:58:11.788Z"
   },
   {
    "duration": 188992,
    "start_time": "2023-03-03T16:01:28.368Z"
   },
   {
    "duration": 186349,
    "start_time": "2023-03-03T16:04:37.362Z"
   },
   {
    "duration": 496,
    "start_time": "2023-03-03T16:07:43.713Z"
   },
   {
    "duration": 13,
    "start_time": "2023-03-03T16:07:48.633Z"
   },
   {
    "duration": 29,
    "start_time": "2023-03-03T16:07:48.649Z"
   },
   {
    "duration": 14,
    "start_time": "2023-03-03T16:07:48.680Z"
   },
   {
    "duration": 10,
    "start_time": "2023-03-03T16:07:48.695Z"
   },
   {
    "duration": 12,
    "start_time": "2023-03-03T16:07:48.707Z"
   },
   {
    "duration": 13,
    "start_time": "2023-03-03T16:07:48.721Z"
   },
   {
    "duration": 19,
    "start_time": "2023-03-03T16:07:48.736Z"
   },
   {
    "duration": 42,
    "start_time": "2023-03-03T16:07:48.756Z"
   },
   {
    "duration": 15,
    "start_time": "2023-03-03T16:07:48.800Z"
   },
   {
    "duration": 16,
    "start_time": "2023-03-03T16:07:48.817Z"
   },
   {
    "duration": 180,
    "start_time": "2023-03-03T16:07:48.835Z"
   },
   {
    "duration": 24,
    "start_time": "2023-03-03T16:07:49.016Z"
   },
   {
    "duration": 986,
    "start_time": "2023-03-03T16:07:49.042Z"
   },
   {
    "duration": 21,
    "start_time": "2023-03-03T16:07:50.030Z"
   },
   {
    "duration": 4302,
    "start_time": "2023-03-03T16:07:50.053Z"
   },
   {
    "duration": 14,
    "start_time": "2023-03-03T16:07:54.357Z"
   },
   {
    "duration": 263,
    "start_time": "2023-03-03T16:07:54.372Z"
   },
   {
    "duration": 14,
    "start_time": "2023-03-03T16:07:54.637Z"
   },
   {
    "duration": 27,
    "start_time": "2023-03-03T16:07:54.652Z"
   },
   {
    "duration": 348,
    "start_time": "2023-03-03T16:07:54.681Z"
   },
   {
    "duration": 4,
    "start_time": "2023-03-03T16:07:55.031Z"
   },
   {
    "duration": 454,
    "start_time": "2023-03-03T16:07:55.037Z"
   },
   {
    "duration": 66,
    "start_time": "2023-03-03T16:07:55.493Z"
   },
   {
    "duration": 42,
    "start_time": "2023-03-03T16:09:16.579Z"
   },
   {
    "duration": 67,
    "start_time": "2023-03-03T16:09:23.467Z"
   },
   {
    "duration": 13,
    "start_time": "2023-03-03T16:09:23.536Z"
   },
   {
    "duration": 16,
    "start_time": "2023-03-03T16:09:23.550Z"
   },
   {
    "duration": 36,
    "start_time": "2023-03-03T16:09:23.567Z"
   },
   {
    "duration": 11,
    "start_time": "2023-03-03T16:09:23.606Z"
   },
   {
    "duration": 13,
    "start_time": "2023-03-03T16:09:23.619Z"
   },
   {
    "duration": 15,
    "start_time": "2023-03-03T16:09:23.633Z"
   },
   {
    "duration": 51,
    "start_time": "2023-03-03T16:09:23.649Z"
   },
   {
    "duration": 11,
    "start_time": "2023-03-03T16:09:23.701Z"
   },
   {
    "duration": 14,
    "start_time": "2023-03-03T16:09:23.713Z"
   },
   {
    "duration": 17,
    "start_time": "2023-03-03T16:09:23.729Z"
   },
   {
    "duration": 218,
    "start_time": "2023-03-03T16:09:23.747Z"
   },
   {
    "duration": 34,
    "start_time": "2023-03-03T16:09:23.967Z"
   },
   {
    "duration": 1014,
    "start_time": "2023-03-03T16:09:24.005Z"
   },
   {
    "duration": 23,
    "start_time": "2023-03-03T16:09:25.020Z"
   },
   {
    "duration": 1797,
    "start_time": "2023-03-03T16:09:25.044Z"
   },
   {
    "duration": 20,
    "start_time": "2023-03-03T16:09:26.844Z"
   },
   {
    "duration": 279,
    "start_time": "2023-03-03T16:09:26.865Z"
   },
   {
    "duration": 14,
    "start_time": "2023-03-03T16:09:27.146Z"
   },
   {
    "duration": 36,
    "start_time": "2023-03-03T16:09:27.162Z"
   },
   {
    "duration": 417,
    "start_time": "2023-03-03T16:09:27.200Z"
   },
   {
    "duration": 5,
    "start_time": "2023-03-03T16:09:27.619Z"
   },
   {
    "duration": 591,
    "start_time": "2023-03-03T16:09:27.626Z"
   },
   {
    "duration": 169,
    "start_time": "2023-03-03T16:09:59.270Z"
   },
   {
    "duration": 462,
    "start_time": "2023-03-03T16:10:41.779Z"
   },
   {
    "duration": 314,
    "start_time": "2023-03-03T16:16:56.690Z"
   },
   {
    "duration": 320,
    "start_time": "2023-03-03T16:17:52.480Z"
   },
   {
    "duration": 331,
    "start_time": "2023-03-03T16:18:30.592Z"
   },
   {
    "duration": 331,
    "start_time": "2023-03-03T16:18:36.209Z"
   },
   {
    "duration": 316,
    "start_time": "2023-03-03T16:19:10.089Z"
   },
   {
    "duration": 19,
    "start_time": "2023-03-03T16:27:22.634Z"
   },
   {
    "duration": 354,
    "start_time": "2023-03-03T16:27:28.191Z"
   },
   {
    "duration": 311,
    "start_time": "2023-03-03T16:27:47.917Z"
   },
   {
    "duration": 71,
    "start_time": "2023-03-03T16:28:22.471Z"
   },
   {
    "duration": 416,
    "start_time": "2023-03-03T16:28:26.728Z"
   },
   {
    "duration": 151,
    "start_time": "2023-03-03T16:28:40.544Z"
   },
   {
    "duration": 333,
    "start_time": "2023-03-03T16:44:45.633Z"
   },
   {
    "duration": 4,
    "start_time": "2023-03-03T16:45:44.586Z"
   },
   {
    "duration": 391,
    "start_time": "2023-03-03T16:45:49.708Z"
   },
   {
    "duration": 418,
    "start_time": "2023-03-03T16:47:12.086Z"
   },
   {
    "duration": 384,
    "start_time": "2023-03-03T16:47:22.817Z"
   },
   {
    "duration": 410,
    "start_time": "2023-03-03T16:47:28.818Z"
   },
   {
    "duration": 383,
    "start_time": "2023-03-03T16:47:37.432Z"
   },
   {
    "duration": 412,
    "start_time": "2023-03-03T16:47:50.294Z"
   },
   {
    "duration": 174,
    "start_time": "2023-03-03T16:48:07.406Z"
   },
   {
    "duration": 255,
    "start_time": "2023-03-03T16:48:29.727Z"
   },
   {
    "duration": 70,
    "start_time": "2023-03-03T16:57:32.547Z"
   },
   {
    "duration": 15,
    "start_time": "2023-03-03T17:01:26.841Z"
   },
   {
    "duration": 17,
    "start_time": "2023-03-03T17:03:45.816Z"
   },
   {
    "duration": 17,
    "start_time": "2023-03-03T17:03:53.107Z"
   },
   {
    "duration": 22,
    "start_time": "2023-03-03T17:04:19.836Z"
   },
   {
    "duration": 17,
    "start_time": "2023-03-03T17:04:45.895Z"
   },
   {
    "duration": 15,
    "start_time": "2023-03-03T17:07:02.798Z"
   },
   {
    "duration": 18,
    "start_time": "2023-03-03T17:09:06.290Z"
   },
   {
    "duration": 305,
    "start_time": "2023-03-03T17:09:39.380Z"
   },
   {
    "duration": 282,
    "start_time": "2023-03-03T17:14:02.582Z"
   },
   {
    "duration": 273,
    "start_time": "2023-03-03T17:14:12.307Z"
   },
   {
    "duration": 168,
    "start_time": "2023-03-03T17:14:26.105Z"
   },
   {
    "duration": 327,
    "start_time": "2023-03-03T17:14:31.375Z"
   },
   {
    "duration": 306,
    "start_time": "2023-03-03T17:14:55.775Z"
   },
   {
    "duration": 68,
    "start_time": "2023-03-03T17:26:53.428Z"
   },
   {
    "duration": 1103,
    "start_time": "2023-03-03T17:27:08.403Z"
   },
   {
    "duration": 27,
    "start_time": "2023-03-03T17:28:47.290Z"
   },
   {
    "duration": 362,
    "start_time": "2023-03-03T17:29:53.779Z"
   },
   {
    "duration": 310,
    "start_time": "2023-03-03T17:33:49.201Z"
   },
   {
    "duration": 1401,
    "start_time": "2023-03-03T17:34:13.549Z"
   },
   {
    "duration": 330,
    "start_time": "2023-03-03T17:34:24.240Z"
   },
   {
    "duration": 1195,
    "start_time": "2023-03-03T17:34:36.018Z"
   },
   {
    "duration": 818,
    "start_time": "2023-03-03T17:35:03.334Z"
   },
   {
    "duration": 900,
    "start_time": "2023-03-03T17:35:31.736Z"
   },
   {
    "duration": 531,
    "start_time": "2023-03-03T17:37:21.260Z"
   },
   {
    "duration": 571,
    "start_time": "2023-03-03T18:08:04.862Z"
   },
   {
    "duration": 38,
    "start_time": "2023-03-03T18:28:56.492Z"
   },
   {
    "duration": 179,
    "start_time": "2023-03-03T18:30:47.117Z"
   },
   {
    "duration": 445,
    "start_time": "2023-03-03T18:30:58.821Z"
   },
   {
    "duration": 448,
    "start_time": "2023-03-03T18:31:42.283Z"
   },
   {
    "duration": 6,
    "start_time": "2023-03-03T18:32:25.900Z"
   },
   {
    "duration": 521,
    "start_time": "2023-03-03T18:33:16.201Z"
   },
   {
    "duration": 7,
    "start_time": "2023-03-03T18:33:45.009Z"
   },
   {
    "duration": 9,
    "start_time": "2023-03-03T19:23:38.764Z"
   },
   {
    "duration": 62,
    "start_time": "2023-03-03T19:24:53.500Z"
   },
   {
    "duration": 29,
    "start_time": "2023-03-03T19:24:57.382Z"
   },
   {
    "duration": 64,
    "start_time": "2023-03-03T19:25:11.101Z"
   },
   {
    "duration": 13,
    "start_time": "2023-03-03T19:25:11.167Z"
   },
   {
    "duration": 38,
    "start_time": "2023-03-03T19:25:11.182Z"
   },
   {
    "duration": 21,
    "start_time": "2023-03-03T19:25:11.221Z"
   },
   {
    "duration": 28,
    "start_time": "2023-03-03T19:25:11.244Z"
   },
   {
    "duration": 22,
    "start_time": "2023-03-03T19:25:11.274Z"
   },
   {
    "duration": 31,
    "start_time": "2023-03-03T19:25:11.297Z"
   },
   {
    "duration": 26,
    "start_time": "2023-03-03T19:25:11.330Z"
   },
   {
    "duration": 24,
    "start_time": "2023-03-03T19:25:11.358Z"
   },
   {
    "duration": 16,
    "start_time": "2023-03-03T19:25:11.384Z"
   },
   {
    "duration": 42,
    "start_time": "2023-03-03T19:25:11.401Z"
   },
   {
    "duration": 215,
    "start_time": "2023-03-03T19:25:11.444Z"
   },
   {
    "duration": 22,
    "start_time": "2023-03-03T19:25:11.660Z"
   },
   {
    "duration": 1065,
    "start_time": "2023-03-03T19:25:11.693Z"
   },
   {
    "duration": 32,
    "start_time": "2023-03-03T19:25:12.760Z"
   },
   {
    "duration": 1806,
    "start_time": "2023-03-03T19:25:12.793Z"
   },
   {
    "duration": 14,
    "start_time": "2023-03-03T19:25:14.601Z"
   },
   {
    "duration": 293,
    "start_time": "2023-03-03T19:25:14.617Z"
   },
   {
    "duration": 12,
    "start_time": "2023-03-03T19:25:14.913Z"
   },
   {
    "duration": 17,
    "start_time": "2023-03-03T19:25:14.927Z"
   },
   {
    "duration": 415,
    "start_time": "2023-03-03T19:25:14.945Z"
   },
   {
    "duration": 402,
    "start_time": "2023-03-03T19:25:15.361Z"
   },
   {
    "duration": 5,
    "start_time": "2023-03-03T19:25:15.764Z"
   },
   {
    "duration": 439,
    "start_time": "2023-03-03T19:25:15.770Z"
   },
   {
    "duration": 263,
    "start_time": "2023-03-03T19:25:16.211Z"
   },
   {
    "duration": 24,
    "start_time": "2023-03-03T19:25:16.476Z"
   },
   {
    "duration": 556,
    "start_time": "2023-03-03T19:25:16.504Z"
   },
   {
    "duration": 578,
    "start_time": "2023-03-03T19:25:17.061Z"
   },
   {
    "duration": 452,
    "start_time": "2023-03-03T19:25:17.641Z"
   },
   {
    "duration": 29,
    "start_time": "2023-03-03T19:25:18.095Z"
   },
   {
    "duration": 14,
    "start_time": "2023-03-03T19:26:15.159Z"
   },
   {
    "duration": 13,
    "start_time": "2023-03-03T19:27:06.931Z"
   },
   {
    "duration": 1554,
    "start_time": "2023-03-03T19:27:57.734Z"
   },
   {
    "duration": 5,
    "start_time": "2023-03-03T19:28:05.728Z"
   },
   {
    "duration": 81,
    "start_time": "2023-03-03T19:32:06.369Z"
   },
   {
    "duration": 30,
    "start_time": "2023-03-03T19:32:10.169Z"
   },
   {
    "duration": 62,
    "start_time": "2023-03-03T19:32:16.915Z"
   },
   {
    "duration": 13,
    "start_time": "2023-03-03T19:32:16.979Z"
   },
   {
    "duration": 14,
    "start_time": "2023-03-03T19:32:16.994Z"
   },
   {
    "duration": 12,
    "start_time": "2023-03-03T19:32:17.011Z"
   },
   {
    "duration": 25,
    "start_time": "2023-03-03T19:32:17.025Z"
   },
   {
    "duration": 12,
    "start_time": "2023-03-03T19:32:17.052Z"
   },
   {
    "duration": 27,
    "start_time": "2023-03-03T19:32:17.065Z"
   },
   {
    "duration": 20,
    "start_time": "2023-03-03T19:32:17.093Z"
   },
   {
    "duration": 9,
    "start_time": "2023-03-03T19:32:17.114Z"
   },
   {
    "duration": 25,
    "start_time": "2023-03-03T19:32:17.125Z"
   },
   {
    "duration": 16,
    "start_time": "2023-03-03T19:32:17.152Z"
   },
   {
    "duration": 195,
    "start_time": "2023-03-03T19:32:17.169Z"
   },
   {
    "duration": 30,
    "start_time": "2023-03-03T19:32:17.365Z"
   },
   {
    "duration": 1040,
    "start_time": "2023-03-03T19:32:17.396Z"
   },
   {
    "duration": 25,
    "start_time": "2023-03-03T19:32:18.438Z"
   },
   {
    "duration": 1673,
    "start_time": "2023-03-03T19:32:18.465Z"
   },
   {
    "duration": 13,
    "start_time": "2023-03-03T19:32:20.140Z"
   },
   {
    "duration": 278,
    "start_time": "2023-03-03T19:32:20.154Z"
   },
   {
    "duration": 14,
    "start_time": "2023-03-03T19:32:20.433Z"
   },
   {
    "duration": 20,
    "start_time": "2023-03-03T19:32:20.448Z"
   },
   {
    "duration": 406,
    "start_time": "2023-03-03T19:32:20.470Z"
   },
   {
    "duration": 375,
    "start_time": "2023-03-03T19:32:20.878Z"
   },
   {
    "duration": 5,
    "start_time": "2023-03-03T19:32:21.255Z"
   },
   {
    "duration": 415,
    "start_time": "2023-03-03T19:32:21.261Z"
   },
   {
    "duration": 207,
    "start_time": "2023-03-03T19:32:21.678Z"
   },
   {
    "duration": 17,
    "start_time": "2023-03-03T19:32:21.886Z"
   },
   {
    "duration": 541,
    "start_time": "2023-03-03T19:32:21.905Z"
   },
   {
    "duration": 575,
    "start_time": "2023-03-03T19:32:22.448Z"
   },
   {
    "duration": 482,
    "start_time": "2023-03-03T19:32:23.024Z"
   },
   {
    "duration": 6,
    "start_time": "2023-03-03T19:32:23.507Z"
   },
   {
    "duration": 14,
    "start_time": "2023-03-03T19:32:23.514Z"
   },
   {
    "duration": 13,
    "start_time": "2023-03-03T19:40:54.419Z"
   },
   {
    "duration": 15,
    "start_time": "2023-03-03T19:41:49.583Z"
   },
   {
    "duration": 12,
    "start_time": "2023-03-03T19:41:59.869Z"
   },
   {
    "duration": 73,
    "start_time": "2023-03-03T19:43:28.876Z"
   },
   {
    "duration": 65,
    "start_time": "2023-03-03T20:03:47.718Z"
   },
   {
    "duration": 13,
    "start_time": "2023-03-03T20:03:47.784Z"
   },
   {
    "duration": 14,
    "start_time": "2023-03-03T20:03:47.798Z"
   },
   {
    "duration": 13,
    "start_time": "2023-03-03T20:03:47.814Z"
   },
   {
    "duration": 13,
    "start_time": "2023-03-03T20:03:47.828Z"
   },
   {
    "duration": 14,
    "start_time": "2023-03-03T20:03:47.843Z"
   },
   {
    "duration": 45,
    "start_time": "2023-03-03T20:03:47.858Z"
   },
   {
    "duration": 21,
    "start_time": "2023-03-03T20:03:47.904Z"
   },
   {
    "duration": 9,
    "start_time": "2023-03-03T20:03:47.927Z"
   },
   {
    "duration": 12,
    "start_time": "2023-03-03T20:03:47.937Z"
   },
   {
    "duration": 42,
    "start_time": "2023-03-03T20:03:47.950Z"
   },
   {
    "duration": 183,
    "start_time": "2023-03-03T20:03:47.994Z"
   },
   {
    "duration": 28,
    "start_time": "2023-03-03T20:03:48.178Z"
   },
   {
    "duration": 1061,
    "start_time": "2023-03-03T20:03:48.208Z"
   },
   {
    "duration": 24,
    "start_time": "2023-03-03T20:03:49.271Z"
   },
   {
    "duration": 1701,
    "start_time": "2023-03-03T20:03:49.297Z"
   },
   {
    "duration": 14,
    "start_time": "2023-03-03T20:03:51.000Z"
   },
   {
    "duration": 280,
    "start_time": "2023-03-03T20:03:51.016Z"
   },
   {
    "duration": 12,
    "start_time": "2023-03-03T20:03:51.298Z"
   },
   {
    "duration": 17,
    "start_time": "2023-03-03T20:03:51.312Z"
   },
   {
    "duration": 412,
    "start_time": "2023-03-03T20:03:51.331Z"
   },
   {
    "duration": 373,
    "start_time": "2023-03-03T20:03:51.746Z"
   },
   {
    "duration": 4,
    "start_time": "2023-03-03T20:03:52.121Z"
   },
   {
    "duration": 394,
    "start_time": "2023-03-03T20:03:52.126Z"
   },
   {
    "duration": 179,
    "start_time": "2023-03-03T20:03:52.521Z"
   },
   {
    "duration": 13,
    "start_time": "2023-03-03T20:03:52.702Z"
   },
   {
    "duration": 538,
    "start_time": "2023-03-03T20:03:52.716Z"
   },
   {
    "duration": 543,
    "start_time": "2023-03-03T20:03:53.256Z"
   },
   {
    "duration": 455,
    "start_time": "2023-03-03T20:03:53.801Z"
   },
   {
    "duration": 11,
    "start_time": "2023-03-03T20:03:54.258Z"
   },
   {
    "duration": 23,
    "start_time": "2023-03-03T20:03:54.270Z"
   },
   {
    "duration": 75,
    "start_time": "2023-03-03T20:05:36.470Z"
   },
   {
    "duration": 68,
    "start_time": "2023-03-03T20:05:39.859Z"
   },
   {
    "duration": 13,
    "start_time": "2023-03-03T20:05:39.930Z"
   },
   {
    "duration": 13,
    "start_time": "2023-03-03T20:05:39.945Z"
   },
   {
    "duration": 13,
    "start_time": "2023-03-03T20:05:39.959Z"
   },
   {
    "duration": 18,
    "start_time": "2023-03-03T20:05:39.992Z"
   },
   {
    "duration": 17,
    "start_time": "2023-03-03T20:05:40.012Z"
   },
   {
    "duration": 13,
    "start_time": "2023-03-03T20:05:40.030Z"
   },
   {
    "duration": 20,
    "start_time": "2023-03-03T20:05:40.045Z"
   },
   {
    "duration": 40,
    "start_time": "2023-03-03T20:05:40.067Z"
   },
   {
    "duration": 14,
    "start_time": "2023-03-03T20:05:40.109Z"
   },
   {
    "duration": 15,
    "start_time": "2023-03-03T20:05:40.124Z"
   },
   {
    "duration": 203,
    "start_time": "2023-03-03T20:05:40.140Z"
   },
   {
    "duration": 22,
    "start_time": "2023-03-03T20:05:40.345Z"
   },
   {
    "duration": 1140,
    "start_time": "2023-03-03T20:05:40.370Z"
   },
   {
    "duration": 22,
    "start_time": "2023-03-03T20:05:41.512Z"
   },
   {
    "duration": 1741,
    "start_time": "2023-03-03T20:05:41.535Z"
   },
   {
    "duration": 27,
    "start_time": "2023-03-03T20:05:43.278Z"
   },
   {
    "duration": 265,
    "start_time": "2023-03-03T20:05:43.307Z"
   },
   {
    "duration": 29,
    "start_time": "2023-03-03T20:05:43.574Z"
   },
   {
    "duration": 18,
    "start_time": "2023-03-03T20:05:43.605Z"
   },
   {
    "duration": 435,
    "start_time": "2023-03-03T20:05:43.625Z"
   },
   {
    "duration": 393,
    "start_time": "2023-03-03T20:05:44.062Z"
   },
   {
    "duration": 4,
    "start_time": "2023-03-03T20:05:44.457Z"
   },
   {
    "duration": 437,
    "start_time": "2023-03-03T20:05:44.463Z"
   },
   {
    "duration": 197,
    "start_time": "2023-03-03T20:05:44.903Z"
   },
   {
    "duration": 16,
    "start_time": "2023-03-03T20:05:45.102Z"
   },
   {
    "duration": 585,
    "start_time": "2023-03-03T20:05:45.120Z"
   },
   {
    "duration": 570,
    "start_time": "2023-03-03T20:05:45.707Z"
   },
   {
    "duration": 548,
    "start_time": "2023-03-03T20:05:46.279Z"
   },
   {
    "duration": 12,
    "start_time": "2023-03-03T20:05:46.828Z"
   },
   {
    "duration": 14,
    "start_time": "2023-03-03T20:05:46.842Z"
   },
   {
    "duration": 55,
    "start_time": "2023-03-04T12:24:35.396Z"
   },
   {
    "duration": 45,
    "start_time": "2023-03-04T12:28:15.808Z"
   },
   {
    "duration": 1503,
    "start_time": "2023-03-04T12:28:19.579Z"
   },
   {
    "duration": 13,
    "start_time": "2023-03-04T12:28:21.084Z"
   },
   {
    "duration": 13,
    "start_time": "2023-03-04T12:28:21.099Z"
   },
   {
    "duration": 12,
    "start_time": "2023-03-04T12:28:21.114Z"
   },
   {
    "duration": 9,
    "start_time": "2023-03-04T12:28:21.128Z"
   },
   {
    "duration": 38,
    "start_time": "2023-03-04T12:28:21.139Z"
   },
   {
    "duration": 12,
    "start_time": "2023-03-04T12:28:21.179Z"
   },
   {
    "duration": 17,
    "start_time": "2023-03-04T12:28:21.193Z"
   },
   {
    "duration": 8,
    "start_time": "2023-03-04T12:28:21.212Z"
   },
   {
    "duration": 16,
    "start_time": "2023-03-04T12:28:21.222Z"
   },
   {
    "duration": 34,
    "start_time": "2023-03-04T12:28:21.239Z"
   },
   {
    "duration": 153,
    "start_time": "2023-03-04T12:28:21.274Z"
   },
   {
    "duration": 40,
    "start_time": "2023-03-04T12:28:21.429Z"
   },
   {
    "duration": 846,
    "start_time": "2023-03-04T12:28:21.472Z"
   },
   {
    "duration": 21,
    "start_time": "2023-03-04T12:28:22.320Z"
   },
   {
    "duration": 1442,
    "start_time": "2023-03-04T12:28:22.342Z"
   },
   {
    "duration": 13,
    "start_time": "2023-03-04T12:28:23.785Z"
   },
   {
    "duration": 221,
    "start_time": "2023-03-04T12:28:23.799Z"
   },
   {
    "duration": 13,
    "start_time": "2023-03-04T12:28:24.022Z"
   },
   {
    "duration": 42,
    "start_time": "2023-03-04T12:28:24.037Z"
   },
   {
    "duration": 394,
    "start_time": "2023-03-04T12:28:24.080Z"
   },
   {
    "duration": 392,
    "start_time": "2023-03-04T12:28:24.476Z"
   },
   {
    "duration": 5,
    "start_time": "2023-03-04T12:28:24.870Z"
   },
   {
    "duration": 428,
    "start_time": "2023-03-04T12:28:24.877Z"
   },
   {
    "duration": 219,
    "start_time": "2023-03-04T12:28:25.307Z"
   },
   {
    "duration": 13,
    "start_time": "2023-03-04T12:28:25.527Z"
   },
   {
    "duration": 550,
    "start_time": "2023-03-04T12:28:25.541Z"
   },
   {
    "duration": 645,
    "start_time": "2023-03-04T12:28:26.094Z"
   },
   {
    "duration": 489,
    "start_time": "2023-03-04T12:28:26.740Z"
   },
   {
    "duration": 11,
    "start_time": "2023-03-04T12:28:27.231Z"
   },
   {
    "duration": 25,
    "start_time": "2023-03-04T12:28:27.243Z"
   },
   {
    "duration": 25,
    "start_time": "2023-03-04T12:29:43.799Z"
   },
   {
    "duration": 383,
    "start_time": "2023-03-04T12:45:30.336Z"
   },
   {
    "duration": 376,
    "start_time": "2023-03-04T12:45:45.175Z"
   },
   {
    "duration": 448,
    "start_time": "2023-03-04T12:47:34.759Z"
   },
   {
    "duration": 373,
    "start_time": "2023-03-04T12:47:50.660Z"
   },
   {
    "duration": 380,
    "start_time": "2023-03-04T12:50:19.363Z"
   },
   {
    "duration": 43,
    "start_time": "2023-03-04T12:51:09.161Z"
   },
   {
    "duration": 44,
    "start_time": "2023-03-04T12:51:19.191Z"
   },
   {
    "duration": 42,
    "start_time": "2023-03-04T12:51:30.101Z"
   },
   {
    "duration": 367,
    "start_time": "2023-03-04T12:51:38.008Z"
   },
   {
    "duration": 363,
    "start_time": "2023-03-04T12:52:44.268Z"
   },
   {
    "duration": 364,
    "start_time": "2023-03-04T12:53:20.896Z"
   },
   {
    "duration": 386,
    "start_time": "2023-03-04T12:55:25.020Z"
   },
   {
    "duration": 477,
    "start_time": "2023-03-04T12:59:04.904Z"
   },
   {
    "duration": 64,
    "start_time": "2023-03-04T13:04:57.672Z"
   },
   {
    "duration": 12,
    "start_time": "2023-03-04T13:04:57.737Z"
   },
   {
    "duration": 13,
    "start_time": "2023-03-04T13:04:57.751Z"
   },
   {
    "duration": 13,
    "start_time": "2023-03-04T13:04:57.766Z"
   },
   {
    "duration": 16,
    "start_time": "2023-03-04T13:04:57.780Z"
   },
   {
    "duration": 12,
    "start_time": "2023-03-04T13:04:57.798Z"
   },
   {
    "duration": 13,
    "start_time": "2023-03-04T13:04:57.811Z"
   },
   {
    "duration": 45,
    "start_time": "2023-03-04T13:04:57.826Z"
   },
   {
    "duration": 9,
    "start_time": "2023-03-04T13:04:57.873Z"
   },
   {
    "duration": 12,
    "start_time": "2023-03-04T13:04:57.884Z"
   },
   {
    "duration": 16,
    "start_time": "2023-03-04T13:04:57.897Z"
   },
   {
    "duration": 206,
    "start_time": "2023-03-04T13:04:57.914Z"
   },
   {
    "duration": 22,
    "start_time": "2023-03-04T13:04:58.121Z"
   },
   {
    "duration": 1089,
    "start_time": "2023-03-04T13:04:58.144Z"
   },
   {
    "duration": 26,
    "start_time": "2023-03-04T13:04:59.235Z"
   },
   {
    "duration": 1757,
    "start_time": "2023-03-04T13:04:59.263Z"
   },
   {
    "duration": 13,
    "start_time": "2023-03-04T13:05:01.022Z"
   },
   {
    "duration": 387,
    "start_time": "2023-03-04T13:05:01.036Z"
   },
   {
    "duration": 14,
    "start_time": "2023-03-04T13:05:01.424Z"
   },
   {
    "duration": 41,
    "start_time": "2023-03-04T13:05:01.439Z"
   },
   {
    "duration": 405,
    "start_time": "2023-03-04T13:05:01.482Z"
   },
   {
    "duration": 400,
    "start_time": "2023-03-04T13:05:01.889Z"
   },
   {
    "duration": 5,
    "start_time": "2023-03-04T13:05:02.291Z"
   },
   {
    "duration": 445,
    "start_time": "2023-03-04T13:05:02.298Z"
   },
   {
    "duration": 186,
    "start_time": "2023-03-04T13:05:02.744Z"
   },
   {
    "duration": 13,
    "start_time": "2023-03-04T13:05:02.932Z"
   },
   {
    "duration": 538,
    "start_time": "2023-03-04T13:05:02.955Z"
   },
   {
    "duration": 553,
    "start_time": "2023-03-04T13:05:03.496Z"
   },
   {
    "duration": 531,
    "start_time": "2023-03-04T13:05:04.051Z"
   },
   {
    "duration": 11,
    "start_time": "2023-03-04T13:05:04.583Z"
   },
   {
    "duration": 11,
    "start_time": "2023-03-04T13:05:04.595Z"
   },
   {
    "duration": 19,
    "start_time": "2023-03-04T13:06:35.185Z"
   },
   {
    "duration": 67,
    "start_time": "2023-03-04T13:06:44.446Z"
   },
   {
    "duration": 13,
    "start_time": "2023-03-04T13:06:44.515Z"
   },
   {
    "duration": 28,
    "start_time": "2023-03-04T13:06:44.529Z"
   },
   {
    "duration": 12,
    "start_time": "2023-03-04T13:06:44.559Z"
   },
   {
    "duration": 11,
    "start_time": "2023-03-04T13:06:44.573Z"
   },
   {
    "duration": 10,
    "start_time": "2023-03-04T13:06:44.586Z"
   },
   {
    "duration": 12,
    "start_time": "2023-03-04T13:06:44.598Z"
   },
   {
    "duration": 44,
    "start_time": "2023-03-04T13:06:44.612Z"
   },
   {
    "duration": 8,
    "start_time": "2023-03-04T13:06:44.658Z"
   },
   {
    "duration": 11,
    "start_time": "2023-03-04T13:06:44.669Z"
   },
   {
    "duration": 16,
    "start_time": "2023-03-04T13:06:44.681Z"
   },
   {
    "duration": 206,
    "start_time": "2023-03-04T13:06:44.698Z"
   },
   {
    "duration": 21,
    "start_time": "2023-03-04T13:06:44.905Z"
   },
   {
    "duration": 1130,
    "start_time": "2023-03-04T13:06:44.928Z"
   },
   {
    "duration": 23,
    "start_time": "2023-03-04T13:06:46.060Z"
   },
   {
    "duration": 1809,
    "start_time": "2023-03-04T13:06:46.084Z"
   },
   {
    "duration": 13,
    "start_time": "2023-03-04T13:06:47.895Z"
   },
   {
    "duration": 350,
    "start_time": "2023-03-04T13:06:47.909Z"
   },
   {
    "duration": 11,
    "start_time": "2023-03-04T13:06:48.261Z"
   },
   {
    "duration": 17,
    "start_time": "2023-03-04T13:06:48.273Z"
   },
   {
    "duration": 414,
    "start_time": "2023-03-04T13:06:48.291Z"
   },
   {
    "duration": 376,
    "start_time": "2023-03-04T13:06:48.707Z"
   },
   {
    "duration": 4,
    "start_time": "2023-03-04T13:06:49.084Z"
   },
   {
    "duration": 420,
    "start_time": "2023-03-04T13:06:49.089Z"
   },
   {
    "duration": 196,
    "start_time": "2023-03-04T13:06:49.510Z"
   },
   {
    "duration": 13,
    "start_time": "2023-03-04T13:06:49.708Z"
   },
   {
    "duration": 537,
    "start_time": "2023-03-04T13:06:49.722Z"
   },
   {
    "duration": 548,
    "start_time": "2023-03-04T13:06:50.262Z"
   },
   {
    "duration": 533,
    "start_time": "2023-03-04T13:06:50.812Z"
   },
   {
    "duration": 15,
    "start_time": "2023-03-04T13:06:51.347Z"
   },
   {
    "duration": 11,
    "start_time": "2023-03-04T13:06:51.364Z"
   },
   {
    "duration": 5,
    "start_time": "2023-03-04T13:08:20.102Z"
   },
   {
    "duration": 16,
    "start_time": "2023-03-04T13:08:31.363Z"
   },
   {
    "duration": 4,
    "start_time": "2023-03-04T13:08:33.705Z"
   },
   {
    "duration": 18,
    "start_time": "2023-03-04T13:08:56.755Z"
   },
   {
    "duration": 16,
    "start_time": "2023-03-04T13:09:14.805Z"
   },
   {
    "duration": 4,
    "start_time": "2023-03-04T13:09:17.175Z"
   },
   {
    "duration": 18,
    "start_time": "2023-03-04T13:10:18.204Z"
   },
   {
    "duration": 12,
    "start_time": "2023-03-04T13:10:32.795Z"
   },
   {
    "duration": 70,
    "start_time": "2023-03-04T13:10:39.671Z"
   },
   {
    "duration": 13,
    "start_time": "2023-03-04T13:10:39.743Z"
   },
   {
    "duration": 14,
    "start_time": "2023-03-04T13:10:39.757Z"
   },
   {
    "duration": 13,
    "start_time": "2023-03-04T13:10:39.772Z"
   },
   {
    "duration": 10,
    "start_time": "2023-03-04T13:10:39.788Z"
   },
   {
    "duration": 12,
    "start_time": "2023-03-04T13:10:39.799Z"
   },
   {
    "duration": 13,
    "start_time": "2023-03-04T13:10:39.812Z"
   },
   {
    "duration": 18,
    "start_time": "2023-03-04T13:10:39.856Z"
   },
   {
    "duration": 9,
    "start_time": "2023-03-04T13:10:39.876Z"
   },
   {
    "duration": 17,
    "start_time": "2023-03-04T13:10:39.886Z"
   },
   {
    "duration": 16,
    "start_time": "2023-03-04T13:10:39.905Z"
   },
   {
    "duration": 8,
    "start_time": "2023-03-04T13:10:39.922Z"
   },
   {
    "duration": 186,
    "start_time": "2023-03-04T13:10:39.954Z"
   },
   {
    "duration": 29,
    "start_time": "2023-03-04T13:10:40.142Z"
   },
   {
    "duration": 1064,
    "start_time": "2023-03-04T13:10:40.172Z"
   },
   {
    "duration": 28,
    "start_time": "2023-03-04T13:10:41.237Z"
   },
   {
    "duration": 1745,
    "start_time": "2023-03-04T13:10:41.267Z"
   },
   {
    "duration": 13,
    "start_time": "2023-03-04T13:10:43.013Z"
   },
   {
    "duration": 361,
    "start_time": "2023-03-04T13:10:43.027Z"
   },
   {
    "duration": 13,
    "start_time": "2023-03-04T13:10:43.390Z"
   },
   {
    "duration": 17,
    "start_time": "2023-03-04T13:10:43.405Z"
   },
   {
    "duration": 416,
    "start_time": "2023-03-04T13:10:43.424Z"
   },
   {
    "duration": 372,
    "start_time": "2023-03-04T13:10:43.842Z"
   },
   {
    "duration": 5,
    "start_time": "2023-03-04T13:10:44.216Z"
   },
   {
    "duration": 473,
    "start_time": "2023-03-04T13:10:44.223Z"
   },
   {
    "duration": 206,
    "start_time": "2023-03-04T13:10:44.697Z"
   },
   {
    "duration": 14,
    "start_time": "2023-03-04T13:10:44.905Z"
   },
   {
    "duration": 558,
    "start_time": "2023-03-04T13:10:44.921Z"
   },
   {
    "duration": 554,
    "start_time": "2023-03-04T13:10:45.480Z"
   },
   {
    "duration": 527,
    "start_time": "2023-03-04T13:10:46.035Z"
   },
   {
    "duration": 11,
    "start_time": "2023-03-04T13:10:46.564Z"
   },
   {
    "duration": 11,
    "start_time": "2023-03-04T13:10:46.577Z"
   },
   {
    "duration": 15,
    "start_time": "2023-03-04T13:11:05.184Z"
   },
   {
    "duration": 1196,
    "start_time": "2023-03-04T13:11:13.427Z"
   },
   {
    "duration": 12,
    "start_time": "2023-03-04T13:11:14.625Z"
   },
   {
    "duration": 13,
    "start_time": "2023-03-04T13:11:14.639Z"
   },
   {
    "duration": 12,
    "start_time": "2023-03-04T13:11:14.653Z"
   },
   {
    "duration": 9,
    "start_time": "2023-03-04T13:11:14.667Z"
   },
   {
    "duration": 12,
    "start_time": "2023-03-04T13:11:14.677Z"
   },
   {
    "duration": 12,
    "start_time": "2023-03-04T13:11:14.691Z"
   },
   {
    "duration": 19,
    "start_time": "2023-03-04T13:11:14.704Z"
   },
   {
    "duration": 37,
    "start_time": "2023-03-04T13:11:14.724Z"
   },
   {
    "duration": 12,
    "start_time": "2023-03-04T13:11:14.762Z"
   },
   {
    "duration": 15,
    "start_time": "2023-03-04T13:11:14.775Z"
   },
   {
    "duration": 4,
    "start_time": "2023-03-04T13:11:14.791Z"
   },
   {
    "duration": 161,
    "start_time": "2023-03-04T13:11:14.797Z"
   },
   {
    "duration": 21,
    "start_time": "2023-03-04T13:11:14.960Z"
   },
   {
    "duration": 842,
    "start_time": "2023-03-04T13:11:14.982Z"
   },
   {
    "duration": 31,
    "start_time": "2023-03-04T13:11:15.825Z"
   },
   {
    "duration": 1408,
    "start_time": "2023-03-04T13:11:15.857Z"
   },
   {
    "duration": 12,
    "start_time": "2023-03-04T13:11:17.267Z"
   },
   {
    "duration": 220,
    "start_time": "2023-03-04T13:11:17.281Z"
   },
   {
    "duration": 13,
    "start_time": "2023-03-04T13:11:17.503Z"
   },
   {
    "duration": 15,
    "start_time": "2023-03-04T13:11:17.518Z"
   },
   {
    "duration": 391,
    "start_time": "2023-03-04T13:11:17.535Z"
   },
   {
    "duration": 371,
    "start_time": "2023-03-04T13:11:17.927Z"
   },
   {
    "duration": 4,
    "start_time": "2023-03-04T13:11:18.300Z"
   },
   {
    "duration": 410,
    "start_time": "2023-03-04T13:11:18.305Z"
   },
   {
    "duration": 187,
    "start_time": "2023-03-04T13:11:18.716Z"
   },
   {
    "duration": 12,
    "start_time": "2023-03-04T13:11:18.904Z"
   },
   {
    "duration": 527,
    "start_time": "2023-03-04T13:11:18.918Z"
   },
   {
    "duration": 612,
    "start_time": "2023-03-04T13:11:19.447Z"
   },
   {
    "duration": 445,
    "start_time": "2023-03-04T13:11:20.061Z"
   },
   {
    "duration": 11,
    "start_time": "2023-03-04T13:11:20.508Z"
   },
   {
    "duration": 11,
    "start_time": "2023-03-04T13:11:20.520Z"
   },
   {
    "duration": 116,
    "start_time": "2023-03-04T13:12:30.519Z"
   },
   {
    "duration": 63,
    "start_time": "2023-03-04T13:13:28.245Z"
   },
   {
    "duration": 12,
    "start_time": "2023-03-04T13:13:28.310Z"
   },
   {
    "duration": 14,
    "start_time": "2023-03-04T13:13:28.323Z"
   },
   {
    "duration": 23,
    "start_time": "2023-03-04T13:13:28.339Z"
   },
   {
    "duration": 10,
    "start_time": "2023-03-04T13:13:28.363Z"
   },
   {
    "duration": 11,
    "start_time": "2023-03-04T13:13:28.374Z"
   },
   {
    "duration": 13,
    "start_time": "2023-03-04T13:13:28.387Z"
   },
   {
    "duration": 19,
    "start_time": "2023-03-04T13:13:28.401Z"
   },
   {
    "duration": 10,
    "start_time": "2023-03-04T13:13:28.455Z"
   },
   {
    "duration": 11,
    "start_time": "2023-03-04T13:13:28.467Z"
   },
   {
    "duration": 14,
    "start_time": "2023-03-04T13:13:28.480Z"
   },
   {
    "duration": 5,
    "start_time": "2023-03-04T13:13:28.495Z"
   },
   {
    "duration": 205,
    "start_time": "2023-03-04T13:13:28.501Z"
   },
   {
    "duration": 22,
    "start_time": "2023-03-04T13:13:28.707Z"
   },
   {
    "duration": 1065,
    "start_time": "2023-03-04T13:13:28.731Z"
   },
   {
    "duration": 22,
    "start_time": "2023-03-04T13:13:29.798Z"
   },
   {
    "duration": 1863,
    "start_time": "2023-03-04T13:13:29.821Z"
   },
   {
    "duration": 14,
    "start_time": "2023-03-04T13:13:31.685Z"
   },
   {
    "duration": 288,
    "start_time": "2023-03-04T13:13:31.701Z"
   },
   {
    "duration": 13,
    "start_time": "2023-03-04T13:13:31.991Z"
   },
   {
    "duration": 23,
    "start_time": "2023-03-04T13:13:32.006Z"
   },
   {
    "duration": 397,
    "start_time": "2023-03-04T13:13:32.030Z"
   },
   {
    "duration": 375,
    "start_time": "2023-03-04T13:13:32.428Z"
   },
   {
    "duration": 4,
    "start_time": "2023-03-04T13:13:32.804Z"
   },
   {
    "duration": 417,
    "start_time": "2023-03-04T13:13:32.810Z"
   },
   {
    "duration": 186,
    "start_time": "2023-03-04T13:13:33.229Z"
   },
   {
    "duration": 13,
    "start_time": "2023-03-04T13:13:33.417Z"
   },
   {
    "duration": 542,
    "start_time": "2023-03-04T13:13:33.433Z"
   },
   {
    "duration": 648,
    "start_time": "2023-03-04T13:13:33.976Z"
   },
   {
    "duration": 460,
    "start_time": "2023-03-04T13:13:34.625Z"
   },
   {
    "duration": 10,
    "start_time": "2023-03-04T13:13:35.087Z"
   },
   {
    "duration": 10,
    "start_time": "2023-03-04T13:13:35.099Z"
   },
   {
    "duration": 16,
    "start_time": "2023-03-04T13:14:01.739Z"
   },
   {
    "duration": 4,
    "start_time": "2023-03-04T13:18:13.054Z"
   },
   {
    "duration": 14,
    "start_time": "2023-03-04T13:18:40.955Z"
   },
   {
    "duration": 9,
    "start_time": "2023-03-04T13:18:50.009Z"
   },
   {
    "duration": 5,
    "start_time": "2023-03-04T13:19:02.269Z"
   },
   {
    "duration": 6,
    "start_time": "2023-03-04T13:23:37.653Z"
   },
   {
    "duration": 5,
    "start_time": "2023-03-04T13:25:55.780Z"
   },
   {
    "duration": 5,
    "start_time": "2023-03-04T13:26:02.810Z"
   },
   {
    "duration": 61,
    "start_time": "2023-03-04T13:26:14.827Z"
   },
   {
    "duration": 13,
    "start_time": "2023-03-04T13:26:14.889Z"
   },
   {
    "duration": 13,
    "start_time": "2023-03-04T13:26:14.903Z"
   },
   {
    "duration": 41,
    "start_time": "2023-03-04T13:26:14.918Z"
   },
   {
    "duration": 9,
    "start_time": "2023-03-04T13:26:14.960Z"
   },
   {
    "duration": 11,
    "start_time": "2023-03-04T13:26:14.970Z"
   },
   {
    "duration": 13,
    "start_time": "2023-03-04T13:26:14.983Z"
   },
   {
    "duration": 20,
    "start_time": "2023-03-04T13:26:14.998Z"
   },
   {
    "duration": 41,
    "start_time": "2023-03-04T13:26:15.019Z"
   },
   {
    "duration": 13,
    "start_time": "2023-03-04T13:26:15.064Z"
   },
   {
    "duration": 15,
    "start_time": "2023-03-04T13:26:15.079Z"
   },
   {
    "duration": 7,
    "start_time": "2023-03-04T13:26:15.096Z"
   },
   {
    "duration": 206,
    "start_time": "2023-03-04T13:26:15.104Z"
   },
   {
    "duration": 26,
    "start_time": "2023-03-04T13:26:15.312Z"
   },
   {
    "duration": 1072,
    "start_time": "2023-03-04T13:26:15.340Z"
   },
   {
    "duration": 24,
    "start_time": "2023-03-04T13:26:16.414Z"
   },
   {
    "duration": 1909,
    "start_time": "2023-03-04T13:26:16.440Z"
   },
   {
    "duration": 15,
    "start_time": "2023-03-04T13:26:18.351Z"
   },
   {
    "duration": 266,
    "start_time": "2023-03-04T13:26:18.367Z"
   },
   {
    "duration": 11,
    "start_time": "2023-03-04T13:26:18.635Z"
   },
   {
    "duration": 18,
    "start_time": "2023-03-04T13:26:18.648Z"
   },
   {
    "duration": 406,
    "start_time": "2023-03-04T13:26:18.667Z"
   },
   {
    "duration": 380,
    "start_time": "2023-03-04T13:26:19.075Z"
   },
   {
    "duration": 4,
    "start_time": "2023-03-04T13:26:19.457Z"
   },
   {
    "duration": 422,
    "start_time": "2023-03-04T13:26:19.462Z"
   },
   {
    "duration": 191,
    "start_time": "2023-03-04T13:26:19.885Z"
   },
   {
    "duration": 13,
    "start_time": "2023-03-04T13:26:20.078Z"
   },
   {
    "duration": 542,
    "start_time": "2023-03-04T13:26:20.095Z"
   },
   {
    "duration": 658,
    "start_time": "2023-03-04T13:26:20.639Z"
   },
   {
    "duration": 464,
    "start_time": "2023-03-04T13:26:21.299Z"
   },
   {
    "duration": 12,
    "start_time": "2023-03-04T13:26:21.764Z"
   },
   {
    "duration": 11,
    "start_time": "2023-03-04T13:26:21.777Z"
   },
   {
    "duration": 7,
    "start_time": "2023-03-04T13:36:29.672Z"
   },
   {
    "duration": 6,
    "start_time": "2023-03-04T13:36:31.079Z"
   },
   {
    "duration": 5,
    "start_time": "2023-03-04T13:39:13.393Z"
   },
   {
    "duration": 9,
    "start_time": "2023-03-04T13:43:26.800Z"
   },
   {
    "duration": 12,
    "start_time": "2023-03-04T13:45:09.422Z"
   },
   {
    "duration": 9,
    "start_time": "2023-03-04T13:45:20.211Z"
   },
   {
    "duration": 10,
    "start_time": "2023-03-04T13:45:21.634Z"
   },
   {
    "duration": 62,
    "start_time": "2023-03-04T13:46:00.539Z"
   },
   {
    "duration": 12,
    "start_time": "2023-03-04T13:46:00.603Z"
   },
   {
    "duration": 65,
    "start_time": "2023-03-04T13:46:00.616Z"
   },
   {
    "duration": 35,
    "start_time": "2023-03-04T13:46:00.684Z"
   },
   {
    "duration": 27,
    "start_time": "2023-03-04T13:46:00.720Z"
   },
   {
    "duration": 62,
    "start_time": "2023-03-04T13:46:00.749Z"
   },
   {
    "duration": 39,
    "start_time": "2023-03-04T13:46:00.812Z"
   },
   {
    "duration": 34,
    "start_time": "2023-03-04T13:46:00.853Z"
   },
   {
    "duration": 31,
    "start_time": "2023-03-04T13:46:00.888Z"
   },
   {
    "duration": 98,
    "start_time": "2023-03-04T13:46:00.921Z"
   },
   {
    "duration": 36,
    "start_time": "2023-03-04T13:46:01.020Z"
   },
   {
    "duration": 31,
    "start_time": "2023-03-04T13:46:01.058Z"
   },
   {
    "duration": 236,
    "start_time": "2023-03-04T13:46:01.090Z"
   },
   {
    "duration": 29,
    "start_time": "2023-03-04T13:46:01.327Z"
   },
   {
    "duration": 1066,
    "start_time": "2023-03-04T13:46:01.357Z"
   },
   {
    "duration": 20,
    "start_time": "2023-03-04T13:46:02.424Z"
   },
   {
    "duration": 1874,
    "start_time": "2023-03-04T13:46:02.446Z"
   },
   {
    "duration": 14,
    "start_time": "2023-03-04T13:46:04.322Z"
   },
   {
    "duration": 271,
    "start_time": "2023-03-04T13:46:04.337Z"
   },
   {
    "duration": 12,
    "start_time": "2023-03-04T13:46:04.609Z"
   },
   {
    "duration": 16,
    "start_time": "2023-03-04T13:46:04.623Z"
   },
   {
    "duration": 385,
    "start_time": "2023-03-04T13:46:04.655Z"
   },
   {
    "duration": 398,
    "start_time": "2023-03-04T13:46:05.041Z"
   },
   {
    "duration": 4,
    "start_time": "2023-03-04T13:46:05.441Z"
   },
   {
    "duration": 426,
    "start_time": "2023-03-04T13:46:05.446Z"
   },
   {
    "duration": 191,
    "start_time": "2023-03-04T13:46:05.873Z"
   },
   {
    "duration": 15,
    "start_time": "2023-03-04T13:46:06.066Z"
   },
   {
    "duration": 534,
    "start_time": "2023-03-04T13:46:06.086Z"
   },
   {
    "duration": 665,
    "start_time": "2023-03-04T13:46:06.622Z"
   },
   {
    "duration": 461,
    "start_time": "2023-03-04T13:46:07.289Z"
   },
   {
    "duration": 11,
    "start_time": "2023-03-04T13:46:07.754Z"
   },
   {
    "duration": 11,
    "start_time": "2023-03-04T13:46:07.767Z"
   },
   {
    "duration": 10,
    "start_time": "2023-03-04T13:47:47.433Z"
   },
   {
    "duration": 13,
    "start_time": "2023-03-04T13:48:13.085Z"
   },
   {
    "duration": 13,
    "start_time": "2023-03-04T13:48:26.868Z"
   },
   {
    "duration": 17,
    "start_time": "2023-03-04T13:54:46.468Z"
   },
   {
    "duration": 62,
    "start_time": "2023-03-04T13:56:08.498Z"
   },
   {
    "duration": 13,
    "start_time": "2023-03-04T13:56:08.562Z"
   },
   {
    "duration": 14,
    "start_time": "2023-03-04T13:56:08.577Z"
   },
   {
    "duration": 13,
    "start_time": "2023-03-04T13:56:08.594Z"
   },
   {
    "duration": 10,
    "start_time": "2023-03-04T13:56:08.608Z"
   },
   {
    "duration": 38,
    "start_time": "2023-03-04T13:56:08.620Z"
   },
   {
    "duration": 13,
    "start_time": "2023-03-04T13:56:08.660Z"
   },
   {
    "duration": 21,
    "start_time": "2023-03-04T13:56:08.675Z"
   },
   {
    "duration": 9,
    "start_time": "2023-03-04T13:56:08.697Z"
   },
   {
    "duration": 14,
    "start_time": "2023-03-04T13:56:08.709Z"
   },
   {
    "duration": 44,
    "start_time": "2023-03-04T13:56:08.725Z"
   },
   {
    "duration": 11,
    "start_time": "2023-03-04T13:56:08.770Z"
   },
   {
    "duration": 193,
    "start_time": "2023-03-04T13:56:08.782Z"
   },
   {
    "duration": 21,
    "start_time": "2023-03-04T13:56:08.977Z"
   },
   {
    "duration": 1041,
    "start_time": "2023-03-04T13:56:08.999Z"
   },
   {
    "duration": 28,
    "start_time": "2023-03-04T13:56:10.041Z"
   },
   {
    "duration": 1820,
    "start_time": "2023-03-04T13:56:10.071Z"
   },
   {
    "duration": 13,
    "start_time": "2023-03-04T13:56:11.893Z"
   },
   {
    "duration": 264,
    "start_time": "2023-03-04T13:56:11.907Z"
   },
   {
    "duration": 12,
    "start_time": "2023-03-04T13:56:12.172Z"
   },
   {
    "duration": 16,
    "start_time": "2023-03-04T13:56:12.185Z"
   },
   {
    "duration": 398,
    "start_time": "2023-03-04T13:56:12.203Z"
   },
   {
    "duration": 370,
    "start_time": "2023-03-04T13:56:12.603Z"
   },
   {
    "duration": 4,
    "start_time": "2023-03-04T13:56:12.975Z"
   },
   {
    "duration": 418,
    "start_time": "2023-03-04T13:56:12.980Z"
   },
   {
    "duration": 186,
    "start_time": "2023-03-04T13:56:13.400Z"
   },
   {
    "duration": 13,
    "start_time": "2023-03-04T13:56:13.588Z"
   },
   {
    "duration": 532,
    "start_time": "2023-03-04T13:56:13.603Z"
   },
   {
    "duration": 661,
    "start_time": "2023-03-04T13:56:14.136Z"
   },
   {
    "duration": 459,
    "start_time": "2023-03-04T13:56:14.799Z"
   },
   {
    "duration": 11,
    "start_time": "2023-03-04T13:56:15.259Z"
   },
   {
    "duration": 11,
    "start_time": "2023-03-04T13:56:15.272Z"
   },
   {
    "duration": 1567,
    "start_time": "2023-03-05T10:47:51.575Z"
   },
   {
    "duration": 20,
    "start_time": "2023-03-05T10:47:53.144Z"
   },
   {
    "duration": 29,
    "start_time": "2023-03-05T10:47:53.166Z"
   },
   {
    "duration": 17,
    "start_time": "2023-03-05T10:47:53.197Z"
   },
   {
    "duration": 29,
    "start_time": "2023-03-05T10:47:53.216Z"
   },
   {
    "duration": 15,
    "start_time": "2023-03-05T10:47:53.246Z"
   },
   {
    "duration": 20,
    "start_time": "2023-03-05T10:47:53.263Z"
   },
   {
    "duration": 24,
    "start_time": "2023-03-05T10:47:53.285Z"
   },
   {
    "duration": 43,
    "start_time": "2023-03-05T10:47:53.311Z"
   },
   {
    "duration": 20,
    "start_time": "2023-03-05T10:47:53.356Z"
   },
   {
    "duration": 17,
    "start_time": "2023-03-05T10:47:53.378Z"
   },
   {
    "duration": 13,
    "start_time": "2023-03-05T10:47:53.397Z"
   },
   {
    "duration": 188,
    "start_time": "2023-03-05T10:47:53.412Z"
   },
   {
    "duration": 52,
    "start_time": "2023-03-05T10:47:53.604Z"
   },
   {
    "duration": 957,
    "start_time": "2023-03-05T10:47:53.659Z"
   },
   {
    "duration": 49,
    "start_time": "2023-03-05T10:49:19.625Z"
   },
   {
    "duration": 44,
    "start_time": "2023-03-05T10:49:30.907Z"
   },
   {
    "duration": 122,
    "start_time": "2023-03-05T10:49:39.267Z"
   },
   {
    "duration": 32,
    "start_time": "2023-03-05T10:49:46.766Z"
   },
   {
    "duration": 25,
    "start_time": "2023-03-05T10:50:09.808Z"
   },
   {
    "duration": 39,
    "start_time": "2023-03-05T10:50:27.936Z"
   },
   {
    "duration": 10,
    "start_time": "2023-03-05T10:50:45.187Z"
   },
   {
    "duration": 14,
    "start_time": "2023-03-05T10:50:52.760Z"
   },
   {
    "duration": 15,
    "start_time": "2023-03-05T10:51:32.662Z"
   },
   {
    "duration": 29,
    "start_time": "2023-03-05T10:51:40.884Z"
   },
   {
    "duration": 395,
    "start_time": "2023-03-05T10:52:01.700Z"
   }
  ],
  "kernelspec": {
   "display_name": "Python 3 (ipykernel)",
   "language": "python",
   "name": "python3"
  },
  "language_info": {
   "codemirror_mode": {
    "name": "ipython",
    "version": 3
   },
   "file_extension": ".py",
   "mimetype": "text/x-python",
   "name": "python",
   "nbconvert_exporter": "python",
   "pygments_lexer": "ipython3",
   "version": "3.9.5"
  },
  "toc": {
   "base_numbering": 1,
   "nav_menu": {},
   "number_sections": true,
   "sideBar": true,
   "skip_h1_title": true,
   "title_cell": "Table of Contents",
   "title_sidebar": "Contents",
   "toc_cell": false,
   "toc_position": {},
   "toc_section_display": true,
   "toc_window_display": false
  }
 },
 "nbformat": 4,
 "nbformat_minor": 2
}
