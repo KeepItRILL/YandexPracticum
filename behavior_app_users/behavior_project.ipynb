{
 "cells": [
  {
   "cell_type": "markdown",
   "metadata": {},
   "source": [
    "# Анализ поведения пользователей мобильного приложения\n",
    "\n",
    "Предстоит выяснить, как пользователи доходят до покупки. Сколько пользователей доходит до покупки, а сколько — «застревает» на предыдущих шагах? Понадобится анализ воронки продаж.\n",
    "\n",
    "Также, ислледование включает анализ результатов A/A/B-эксперимента. Дизайнеры захотели поменять шрифты во всём приложении. Пользователей разбили на 3 группы: 2 контрольные со старыми шрифтами и одну экспериментальную — с новыми. Необходимо выяснить какой шрифт лучше, используя инструменты для статистического и исследовательского анализа.\n",
    "\n",
    "Описание данных:\n",
    "1. EventName — название события;\n",
    "2. DeviceIDHash — уникальный идентификатор пользователя;\n",
    "3. EventTimestamp — время события;\n",
    "4. ExpId — номер эксперимента: 246 и 247 — контрольные группы, а 248 — экспериментальная."
   ]
  },
  {
   "cell_type": "markdown",
   "metadata": {},
   "source": [
    "### Предобработка данных"
   ]
  },
  {
   "cell_type": "code",
   "execution_count": 1,
   "metadata": {},
   "outputs": [],
   "source": [
    "#импортируем библиотеки\n",
    "import pandas as pd\n",
    "import warnings\n",
    "import math as mth\n",
    "import seaborn as sns\n",
    "import numpy as np\n",
    "import matplotlib.pyplot as plt \n",
    "import plotly.express as px\n",
    "from scipy import stats as st"
   ]
  },
  {
   "cell_type": "code",
   "execution_count": 2,
   "metadata": {},
   "outputs": [
    {
     "data": {
      "text/html": [
       "<div>\n",
       "<style scoped>\n",
       "    .dataframe tbody tr th:only-of-type {\n",
       "        vertical-align: middle;\n",
       "    }\n",
       "\n",
       "    .dataframe tbody tr th {\n",
       "        vertical-align: top;\n",
       "    }\n",
       "\n",
       "    .dataframe thead th {\n",
       "        text-align: right;\n",
       "    }\n",
       "</style>\n",
       "<table border=\"1\" class=\"dataframe\">\n",
       "  <thead>\n",
       "    <tr style=\"text-align: right;\">\n",
       "      <th></th>\n",
       "      <th>EventName</th>\n",
       "      <th>DeviceIDHash</th>\n",
       "      <th>EventTimestamp</th>\n",
       "      <th>ExpId</th>\n",
       "    </tr>\n",
       "  </thead>\n",
       "  <tbody>\n",
       "    <tr>\n",
       "      <th>0</th>\n",
       "      <td>MainScreenAppear</td>\n",
       "      <td>4575588528974610257</td>\n",
       "      <td>1564029816</td>\n",
       "      <td>246</td>\n",
       "    </tr>\n",
       "    <tr>\n",
       "      <th>1</th>\n",
       "      <td>MainScreenAppear</td>\n",
       "      <td>7416695313311560658</td>\n",
       "      <td>1564053102</td>\n",
       "      <td>246</td>\n",
       "    </tr>\n",
       "    <tr>\n",
       "      <th>2</th>\n",
       "      <td>PaymentScreenSuccessful</td>\n",
       "      <td>3518123091307005509</td>\n",
       "      <td>1564054127</td>\n",
       "      <td>248</td>\n",
       "    </tr>\n",
       "    <tr>\n",
       "      <th>3</th>\n",
       "      <td>CartScreenAppear</td>\n",
       "      <td>3518123091307005509</td>\n",
       "      <td>1564054127</td>\n",
       "      <td>248</td>\n",
       "    </tr>\n",
       "    <tr>\n",
       "      <th>4</th>\n",
       "      <td>PaymentScreenSuccessful</td>\n",
       "      <td>6217807653094995999</td>\n",
       "      <td>1564055322</td>\n",
       "      <td>248</td>\n",
       "    </tr>\n",
       "    <tr>\n",
       "      <th>...</th>\n",
       "      <td>...</td>\n",
       "      <td>...</td>\n",
       "      <td>...</td>\n",
       "      <td>...</td>\n",
       "    </tr>\n",
       "    <tr>\n",
       "      <th>244121</th>\n",
       "      <td>MainScreenAppear</td>\n",
       "      <td>4599628364049201812</td>\n",
       "      <td>1565212345</td>\n",
       "      <td>247</td>\n",
       "    </tr>\n",
       "    <tr>\n",
       "      <th>244122</th>\n",
       "      <td>MainScreenAppear</td>\n",
       "      <td>5849806612437486590</td>\n",
       "      <td>1565212439</td>\n",
       "      <td>246</td>\n",
       "    </tr>\n",
       "    <tr>\n",
       "      <th>244123</th>\n",
       "      <td>MainScreenAppear</td>\n",
       "      <td>5746969938801999050</td>\n",
       "      <td>1565212483</td>\n",
       "      <td>246</td>\n",
       "    </tr>\n",
       "    <tr>\n",
       "      <th>244124</th>\n",
       "      <td>MainScreenAppear</td>\n",
       "      <td>5746969938801999050</td>\n",
       "      <td>1565212498</td>\n",
       "      <td>246</td>\n",
       "    </tr>\n",
       "    <tr>\n",
       "      <th>244125</th>\n",
       "      <td>OffersScreenAppear</td>\n",
       "      <td>5746969938801999050</td>\n",
       "      <td>1565212517</td>\n",
       "      <td>246</td>\n",
       "    </tr>\n",
       "  </tbody>\n",
       "</table>\n",
       "<p>244126 rows × 4 columns</p>\n",
       "</div>"
      ],
      "text/plain": [
       "                      EventName         DeviceIDHash  EventTimestamp  ExpId\n",
       "0              MainScreenAppear  4575588528974610257      1564029816    246\n",
       "1              MainScreenAppear  7416695313311560658      1564053102    246\n",
       "2       PaymentScreenSuccessful  3518123091307005509      1564054127    248\n",
       "3              CartScreenAppear  3518123091307005509      1564054127    248\n",
       "4       PaymentScreenSuccessful  6217807653094995999      1564055322    248\n",
       "...                         ...                  ...             ...    ...\n",
       "244121         MainScreenAppear  4599628364049201812      1565212345    247\n",
       "244122         MainScreenAppear  5849806612437486590      1565212439    246\n",
       "244123         MainScreenAppear  5746969938801999050      1565212483    246\n",
       "244124         MainScreenAppear  5746969938801999050      1565212498    246\n",
       "244125       OffersScreenAppear  5746969938801999050      1565212517    246\n",
       "\n",
       "[244126 rows x 4 columns]"
      ]
     },
     "execution_count": 2,
     "metadata": {},
     "output_type": "execute_result"
    }
   ],
   "source": [
    "# загрузим и ознакомимься с данными\n",
    "\n",
    "data = pd.read_csv('/datasets/logs_exp.csv', sep='\\t')\n",
    "data"
   ]
  },
  {
   "cell_type": "code",
   "execution_count": 3,
   "metadata": {},
   "outputs": [
    {
     "name": "stdout",
     "output_type": "stream",
     "text": [
      "<class 'pandas.core.frame.DataFrame'>\n",
      "RangeIndex: 244126 entries, 0 to 244125\n",
      "Data columns (total 4 columns):\n",
      " #   Column          Non-Null Count   Dtype \n",
      "---  ------          --------------   ----- \n",
      " 0   EventName       244126 non-null  object\n",
      " 1   DeviceIDHash    244126 non-null  int64 \n",
      " 2   EventTimestamp  244126 non-null  int64 \n",
      " 3   ExpId           244126 non-null  int64 \n",
      "dtypes: int64(3), object(1)\n",
      "memory usage: 7.5+ MB\n",
      "Количество дубликатов: 413\n"
     ]
    }
   ],
   "source": [
    "# Просмотрим информацию по датасету\n",
    "data.info()\n",
    "print('Количество дубликатов:', data.duplicated().sum())"
   ]
  },
  {
   "cell_type": "markdown",
   "metadata": {},
   "source": [
    "В данных отсутсвуют пропуски, но присутствуют дубликаты, от которых необходимо избавиться. Также, переведем название столбцов к единому регистру. Необходимо изменить тип данных для некоторых столбцов."
   ]
  },
  {
   "cell_type": "code",
   "execution_count": 4,
   "metadata": {},
   "outputs": [
    {
     "data": {
      "text/html": [
       "<div>\n",
       "<style scoped>\n",
       "    .dataframe tbody tr th:only-of-type {\n",
       "        vertical-align: middle;\n",
       "    }\n",
       "\n",
       "    .dataframe tbody tr th {\n",
       "        vertical-align: top;\n",
       "    }\n",
       "\n",
       "    .dataframe thead th {\n",
       "        text-align: right;\n",
       "    }\n",
       "</style>\n",
       "<table border=\"1\" class=\"dataframe\">\n",
       "  <thead>\n",
       "    <tr style=\"text-align: right;\">\n",
       "      <th></th>\n",
       "      <th>eventname</th>\n",
       "      <th>deviceidhash</th>\n",
       "      <th>eventtimestamp</th>\n",
       "      <th>expid</th>\n",
       "    </tr>\n",
       "  </thead>\n",
       "  <tbody>\n",
       "    <tr>\n",
       "      <th>0</th>\n",
       "      <td>MainScreenAppear</td>\n",
       "      <td>4575588528974610257</td>\n",
       "      <td>1564029816</td>\n",
       "      <td>246</td>\n",
       "    </tr>\n",
       "    <tr>\n",
       "      <th>1</th>\n",
       "      <td>MainScreenAppear</td>\n",
       "      <td>7416695313311560658</td>\n",
       "      <td>1564053102</td>\n",
       "      <td>246</td>\n",
       "    </tr>\n",
       "    <tr>\n",
       "      <th>2</th>\n",
       "      <td>PaymentScreenSuccessful</td>\n",
       "      <td>3518123091307005509</td>\n",
       "      <td>1564054127</td>\n",
       "      <td>248</td>\n",
       "    </tr>\n",
       "    <tr>\n",
       "      <th>3</th>\n",
       "      <td>CartScreenAppear</td>\n",
       "      <td>3518123091307005509</td>\n",
       "      <td>1564054127</td>\n",
       "      <td>248</td>\n",
       "    </tr>\n",
       "    <tr>\n",
       "      <th>4</th>\n",
       "      <td>PaymentScreenSuccessful</td>\n",
       "      <td>6217807653094995999</td>\n",
       "      <td>1564055322</td>\n",
       "      <td>248</td>\n",
       "    </tr>\n",
       "  </tbody>\n",
       "</table>\n",
       "</div>"
      ],
      "text/plain": [
       "                 eventname         deviceidhash  eventtimestamp  expid\n",
       "0         MainScreenAppear  4575588528974610257      1564029816    246\n",
       "1         MainScreenAppear  7416695313311560658      1564053102    246\n",
       "2  PaymentScreenSuccessful  3518123091307005509      1564054127    248\n",
       "3         CartScreenAppear  3518123091307005509      1564054127    248\n",
       "4  PaymentScreenSuccessful  6217807653094995999      1564055322    248"
      ]
     },
     "execution_count": 4,
     "metadata": {},
     "output_type": "execute_result"
    }
   ],
   "source": [
    "# Изменим ригистр, удалим дубликаты\n",
    "\n",
    "data.columns = map(str.lower, data.columns)\n",
    "\n",
    "data = data.drop_duplicates()\n",
    "data.head(5)"
   ]
  },
  {
   "cell_type": "code",
   "execution_count": 5,
   "metadata": {},
   "outputs": [
    {
     "name": "stdout",
     "output_type": "stream",
     "text": [
      "<class 'pandas.core.frame.DataFrame'>\n",
      "Int64Index: 243713 entries, 0 to 244125\n",
      "Data columns (total 4 columns):\n",
      " #   Column          Non-Null Count   Dtype         \n",
      "---  ------          --------------   -----         \n",
      " 0   eventname       243713 non-null  object        \n",
      " 1   deviceidhash    243713 non-null  object        \n",
      " 2   eventtimestamp  243713 non-null  datetime64[ns]\n",
      " 3   expid           243713 non-null  int64         \n",
      "dtypes: datetime64[ns](1), int64(1), object(2)\n",
      "memory usage: 9.3+ MB\n"
     ]
    }
   ],
   "source": [
    "# сменим типы \n",
    "warnings.filterwarnings(\"ignore\")\n",
    "\n",
    "data['eventtimestamp'] = pd.to_datetime(data['eventtimestamp'], unit='s')\n",
    "data['deviceidhash'] = data['deviceidhash'].astype(str)\n",
    "data['eventname'] = data['eventname'].astype(str)\n",
    "\n",
    "data.info()"
   ]
  },
  {
   "cell_type": "code",
   "execution_count": 6,
   "metadata": {},
   "outputs": [
    {
     "data": {
      "text/html": [
       "<div>\n",
       "<style scoped>\n",
       "    .dataframe tbody tr th:only-of-type {\n",
       "        vertical-align: middle;\n",
       "    }\n",
       "\n",
       "    .dataframe tbody tr th {\n",
       "        vertical-align: top;\n",
       "    }\n",
       "\n",
       "    .dataframe thead th {\n",
       "        text-align: right;\n",
       "    }\n",
       "</style>\n",
       "<table border=\"1\" class=\"dataframe\">\n",
       "  <thead>\n",
       "    <tr style=\"text-align: right;\">\n",
       "      <th></th>\n",
       "      <th>eventname</th>\n",
       "      <th>deviceidhash</th>\n",
       "      <th>eventtimestamp</th>\n",
       "      <th>expid</th>\n",
       "      <th>date</th>\n",
       "    </tr>\n",
       "  </thead>\n",
       "  <tbody>\n",
       "    <tr>\n",
       "      <th>0</th>\n",
       "      <td>MainScreenAppear</td>\n",
       "      <td>4575588528974610257</td>\n",
       "      <td>2019-07-25 04:43:36</td>\n",
       "      <td>246</td>\n",
       "      <td>2019-07-25</td>\n",
       "    </tr>\n",
       "    <tr>\n",
       "      <th>1</th>\n",
       "      <td>MainScreenAppear</td>\n",
       "      <td>7416695313311560658</td>\n",
       "      <td>2019-07-25 11:11:42</td>\n",
       "      <td>246</td>\n",
       "      <td>2019-07-25</td>\n",
       "    </tr>\n",
       "    <tr>\n",
       "      <th>2</th>\n",
       "      <td>PaymentScreenSuccessful</td>\n",
       "      <td>3518123091307005509</td>\n",
       "      <td>2019-07-25 11:28:47</td>\n",
       "      <td>248</td>\n",
       "      <td>2019-07-25</td>\n",
       "    </tr>\n",
       "    <tr>\n",
       "      <th>3</th>\n",
       "      <td>CartScreenAppear</td>\n",
       "      <td>3518123091307005509</td>\n",
       "      <td>2019-07-25 11:28:47</td>\n",
       "      <td>248</td>\n",
       "      <td>2019-07-25</td>\n",
       "    </tr>\n",
       "    <tr>\n",
       "      <th>4</th>\n",
       "      <td>PaymentScreenSuccessful</td>\n",
       "      <td>6217807653094995999</td>\n",
       "      <td>2019-07-25 11:48:42</td>\n",
       "      <td>248</td>\n",
       "      <td>2019-07-25</td>\n",
       "    </tr>\n",
       "  </tbody>\n",
       "</table>\n",
       "</div>"
      ],
      "text/plain": [
       "                 eventname         deviceidhash      eventtimestamp  expid  \\\n",
       "0         MainScreenAppear  4575588528974610257 2019-07-25 04:43:36    246   \n",
       "1         MainScreenAppear  7416695313311560658 2019-07-25 11:11:42    246   \n",
       "2  PaymentScreenSuccessful  3518123091307005509 2019-07-25 11:28:47    248   \n",
       "3         CartScreenAppear  3518123091307005509 2019-07-25 11:28:47    248   \n",
       "4  PaymentScreenSuccessful  6217807653094995999 2019-07-25 11:48:42    248   \n",
       "\n",
       "        date  \n",
       "0 2019-07-25  \n",
       "1 2019-07-25  \n",
       "2 2019-07-25  \n",
       "3 2019-07-25  \n",
       "4 2019-07-25  "
      ]
     },
     "execution_count": 6,
     "metadata": {},
     "output_type": "execute_result"
    }
   ],
   "source": [
    "# добавим столбец с датой\n",
    "data['date'] = data['eventtimestamp'].dt.date.astype('datetime64[D]')\n",
    "data.head(5)"
   ]
  },
  {
   "cell_type": "code",
   "execution_count": 7,
   "metadata": {},
   "outputs": [
    {
     "name": "stdout",
     "output_type": "stream",
     "text": [
      "0\n",
      "0\n"
     ]
    }
   ],
   "source": [
    "# Проверим пересекаются ли пользователи в разных группах\n",
    "group_246 = data.query('expid == 246')\n",
    "group_247 = data.query('expid == 247')\n",
    "group_248 = data.query('expid == 248')\n",
    "\n",
    "cross_246 = 0\n",
    "for i in group_246:\n",
    "    if i in group_247['deviceidhash'].unique() or i in group_248['deviceidhash'].unique():\n",
    "        cross_246 +=1\n",
    "cross_246\n",
    "\n",
    "cross_247 = 0\n",
    "for i in group_247:\n",
    "    if i in group_248['deviceidhash'].unique():\n",
    "        cross_247 +=1\n",
    "\n",
    "print(cross_246)\n",
    "print(cross_247)"
   ]
  },
  {
   "cell_type": "markdown",
   "metadata": {},
   "source": [
    "**Вывод:**В результате предобработки были изменены типы данных, удалены дубликаты и изменены названия столбцов. Также, пересечение между пользователями в разных группах не обнаружены."
   ]
  },
  {
   "cell_type": "markdown",
   "metadata": {},
   "source": [
    "### Изучение и проверка данных"
   ]
  },
  {
   "cell_type": "code",
   "execution_count": 8,
   "metadata": {},
   "outputs": [
    {
     "name": "stdout",
     "output_type": "stream",
     "text": [
      "['MainScreenAppear' 'PaymentScreenSuccessful' 'CartScreenAppear'\n",
      " 'OffersScreenAppear' 'Tutorial']\n",
      "243713\n"
     ]
    }
   ],
   "source": [
    "# Узнаем сколько всего событий в логе\n",
    "print(data['eventname'].unique())\n",
    "print(len(data['eventname']))"
   ]
  },
  {
   "cell_type": "markdown",
   "metadata": {},
   "source": [
    "Всего 243713 событий в данных, из них всего 5 видов, предположительно следующие: Появление на главном экране, Экран успешной транзакции, Экран корзины, Экран заказа и Экран с инструкцией"
   ]
  },
  {
   "cell_type": "code",
   "execution_count": 9,
   "metadata": {},
   "outputs": [
    {
     "data": {
      "text/plain": [
       "6304868067479728361    2307\n",
       "197027893265565660     1998\n",
       "4623191541214045580    1768\n",
       "6932517045703054087    1439\n",
       "1754140665440434215    1221\n",
       "                       ... \n",
       "5138854326043201424       1\n",
       "6936517579657223951       1\n",
       "4096007885698937181       1\n",
       "176222176030858478        1\n",
       "2408195006658927235       1\n",
       "Name: deviceidhash, Length: 7551, dtype: int64"
      ]
     },
     "execution_count": 9,
     "metadata": {},
     "output_type": "execute_result"
    }
   ],
   "source": [
    "# Узнаем сколько всего пользователей в логе\n",
    "data['deviceidhash'].value_counts()"
   ]
  },
  {
   "cell_type": "markdown",
   "metadata": {},
   "source": [
    "Всего в логе 7551 пользователь"
   ]
  },
  {
   "cell_type": "code",
   "execution_count": 10,
   "metadata": {},
   "outputs": [
    {
     "data": {
      "text/plain": [
       "eventname    32.28\n",
       "dtype: float64"
      ]
     },
     "execution_count": 10,
     "metadata": {},
     "output_type": "execute_result"
    }
   ],
   "source": [
    "# Узнаем сколько в среднем событий приходится на пользователя\n",
    "av_events = data.pivot_table(index='deviceidhash',values='eventname',aggfunc='count')\n",
    "av_events.mean().round(2)"
   ]
  },
  {
   "cell_type": "markdown",
   "metadata": {},
   "source": [
    "В среднем, на одного пользователя приходится 32 события"
   ]
  },
  {
   "cell_type": "code",
   "execution_count": 11,
   "metadata": {},
   "outputs": [
    {
     "name": "stdout",
     "output_type": "stream",
     "text": [
      "2019-07-25 00:00:00\n",
      "2019-08-07 00:00:00\n"
     ]
    }
   ],
   "source": [
    "# Определим минимальную и максимальную дату \n",
    "print(data['date'].min())\n",
    "print(data['date'].max())"
   ]
  },
  {
   "cell_type": "markdown",
   "metadata": {},
   "source": [
    "Период начинается с 25го июля 2019 года и заканчивается 7го августа 2019 года"
   ]
  },
  {
   "cell_type": "code",
   "execution_count": 12,
   "metadata": {},
   "outputs": [
    {
     "data": {
      "image/png": "[encoded data removed]",
      "text/plain": [
       "<Figure size 432x288 with 1 Axes>"
      ]
     },
     "metadata": {
      "needs_background": "light"
     },
     "output_type": "display_data"
    }
   ],
   "source": [
    "# Построим гистограмму по дате и времени \n",
    "data['eventtimestamp'].hist(bins = 20).set_title('Распределение количества событий по времени')\n",
    "plt.xlabel(\"Дата\")\n",
    "plt.ylabel(\"Количество событий\")\n",
    "plt.xticks(rotation=50) \n",
    "plt.show()\n"
   ]
  },
  {
   "cell_type": "markdown",
   "metadata": {},
   "source": [
    "Данные за период с 25 июля по 30 июля практически отсутсвуют. Наиболее показательным периодом кажется первая неделя августа. Необходимо проверить много ли данных мы отбросим, если начнем исследование с 1го августа."
   ]
  },
  {
   "cell_type": "code",
   "execution_count": 13,
   "metadata": {},
   "outputs": [
    {
     "name": "stdout",
     "output_type": "stream",
     "text": [
      "Отфильтровано событий: 2826\n",
      "Доля: 1.16 %\n",
      "Отфильтровано пользователей: 17\n",
      "Доля: 0.0023 %\n"
     ]
    }
   ],
   "source": [
    "# Проверим сколько событий и пользователей мы отбросили после фильтрации\n",
    "\n",
    "new_data = data.query('date > \"2019-07-31\"') # датасет для дальнейшей работы\n",
    "\n",
    "filtr_data = data.query('date <= \"2019-07-31\"')\n",
    "miss_id = 0\n",
    "for i in filtr_data:\n",
    "    if i not in filtr_data['deviceidhash'].unique():\n",
    "        miss_id +=1 \n",
    "user_cnt_before = data['deviceidhash'].unique()\n",
    "user_cnt_after = new_data['deviceidhash'].unique()\n",
    "\n",
    "print('Отфильтровано событий:', len(filtr_data['eventname']))\n",
    "print('Доля:', round((len(filtr_data['eventname']) / len(data['eventname'])*100), 2), '%')\n",
    "print('Отфильтровано пользователей:', len(user_cnt_before) - len(user_cnt_after))\n",
    "print('Доля:', round((len(user_cnt_before) - len(user_cnt_after)) / len(user_cnt_before*100), 4), '%')"
   ]
  },
  {
   "cell_type": "code",
   "execution_count": 14,
   "metadata": {},
   "outputs": [
    {
     "data": {
      "text/plain": [
       "248    84563\n",
       "246    79302\n",
       "247    77022\n",
       "Name: expid, dtype: int64"
      ]
     },
     "execution_count": 14,
     "metadata": {},
     "output_type": "execute_result"
    }
   ],
   "source": [
    "# Убедимся, что оставшиеся пользователи после фильтрации входят во все 3 группы\n",
    "new_data['expid'].value_counts()\n"
   ]
  },
  {
   "cell_type": "markdown",
   "metadata": {},
   "source": [
    "**Вывод:**В результате проверки отфильтрован период исследования. Отбросили не показательные данные за период до 1 августа 2019 года."
   ]
  },
  {
   "cell_type": "markdown",
   "metadata": {},
   "source": [
    "### Изучение воронки событий"
   ]
  },
  {
   "cell_type": "code",
   "execution_count": 15,
   "metadata": {},
   "outputs": [
    {
     "data": {
      "text/html": [
       "<div>\n",
       "<style scoped>\n",
       "    .dataframe tbody tr th:only-of-type {\n",
       "        vertical-align: middle;\n",
       "    }\n",
       "\n",
       "    .dataframe tbody tr th {\n",
       "        vertical-align: top;\n",
       "    }\n",
       "\n",
       "    .dataframe thead th {\n",
       "        text-align: right;\n",
       "    }\n",
       "</style>\n",
       "<table border=\"1\" class=\"dataframe\">\n",
       "  <thead>\n",
       "    <tr style=\"text-align: right;\">\n",
       "      <th></th>\n",
       "      <th>eventname</th>\n",
       "      <th>deviceidhash</th>\n",
       "      <th>eventtimestamp</th>\n",
       "      <th>expid</th>\n",
       "      <th>date</th>\n",
       "    </tr>\n",
       "  </thead>\n",
       "  <tbody>\n",
       "    <tr>\n",
       "      <th>2828</th>\n",
       "      <td>Tutorial</td>\n",
       "      <td>3737462046622621720</td>\n",
       "      <td>2019-08-01 00:07:28</td>\n",
       "      <td>246</td>\n",
       "      <td>2019-08-01</td>\n",
       "    </tr>\n",
       "    <tr>\n",
       "      <th>2829</th>\n",
       "      <td>MainScreenAppear</td>\n",
       "      <td>3737462046622621720</td>\n",
       "      <td>2019-08-01 00:08:00</td>\n",
       "      <td>246</td>\n",
       "      <td>2019-08-01</td>\n",
       "    </tr>\n",
       "    <tr>\n",
       "      <th>2830</th>\n",
       "      <td>MainScreenAppear</td>\n",
       "      <td>3737462046622621720</td>\n",
       "      <td>2019-08-01 00:08:55</td>\n",
       "      <td>246</td>\n",
       "      <td>2019-08-01</td>\n",
       "    </tr>\n",
       "    <tr>\n",
       "      <th>2831</th>\n",
       "      <td>OffersScreenAppear</td>\n",
       "      <td>3737462046622621720</td>\n",
       "      <td>2019-08-01 00:08:58</td>\n",
       "      <td>246</td>\n",
       "      <td>2019-08-01</td>\n",
       "    </tr>\n",
       "    <tr>\n",
       "      <th>2832</th>\n",
       "      <td>MainScreenAppear</td>\n",
       "      <td>1433840883824088890</td>\n",
       "      <td>2019-08-01 00:08:59</td>\n",
       "      <td>247</td>\n",
       "      <td>2019-08-01</td>\n",
       "    </tr>\n",
       "  </tbody>\n",
       "</table>\n",
       "</div>"
      ],
      "text/plain": [
       "               eventname         deviceidhash      eventtimestamp  expid  \\\n",
       "2828            Tutorial  3737462046622621720 2019-08-01 00:07:28    246   \n",
       "2829    MainScreenAppear  3737462046622621720 2019-08-01 00:08:00    246   \n",
       "2830    MainScreenAppear  3737462046622621720 2019-08-01 00:08:55    246   \n",
       "2831  OffersScreenAppear  3737462046622621720 2019-08-01 00:08:58    246   \n",
       "2832    MainScreenAppear  1433840883824088890 2019-08-01 00:08:59    247   \n",
       "\n",
       "           date  \n",
       "2828 2019-08-01  \n",
       "2829 2019-08-01  \n",
       "2830 2019-08-01  \n",
       "2831 2019-08-01  \n",
       "2832 2019-08-01  "
      ]
     },
     "execution_count": 15,
     "metadata": {},
     "output_type": "execute_result"
    }
   ],
   "source": [
    "# Выведем данные \n",
    "new_data.head(5)"
   ]
  },
  {
   "cell_type": "code",
   "execution_count": 16,
   "metadata": {},
   "outputs": [
    {
     "data": {
      "text/plain": [
       "MainScreenAppear           117328\n",
       "OffersScreenAppear          46333\n",
       "CartScreenAppear            42303\n",
       "PaymentScreenSuccessful     33918\n",
       "Tutorial                     1005\n",
       "Name: eventname, dtype: int64"
      ]
     },
     "execution_count": 16,
     "metadata": {},
     "output_type": "execute_result"
    }
   ],
   "source": [
    "# Просмотрим какие события чаще всего встречаются в логах\n",
    "new_data['eventname'].value_counts()"
   ]
  },
  {
   "cell_type": "markdown",
   "metadata": {},
   "source": [
    "Чаще всего пользователи появляются на главном экране, далее на странице заказа, в корзине, реже на странице оплаты и совсем редко на странице с инструкцией."
   ]
  },
  {
   "cell_type": "code",
   "execution_count": 17,
   "metadata": {},
   "outputs": [
    {
     "data": {
      "text/html": [
       "<div>\n",
       "<style scoped>\n",
       "    .dataframe tbody tr th:only-of-type {\n",
       "        vertical-align: middle;\n",
       "    }\n",
       "\n",
       "    .dataframe tbody tr th {\n",
       "        vertical-align: top;\n",
       "    }\n",
       "\n",
       "    .dataframe thead th {\n",
       "        text-align: right;\n",
       "    }\n",
       "</style>\n",
       "<table border=\"1\" class=\"dataframe\">\n",
       "  <thead>\n",
       "    <tr style=\"text-align: right;\">\n",
       "      <th></th>\n",
       "      <th>deviceidhash</th>\n",
       "    </tr>\n",
       "    <tr>\n",
       "      <th>eventname</th>\n",
       "      <th></th>\n",
       "    </tr>\n",
       "  </thead>\n",
       "  <tbody>\n",
       "    <tr>\n",
       "      <th>MainScreenAppear</th>\n",
       "      <td>7419</td>\n",
       "    </tr>\n",
       "    <tr>\n",
       "      <th>OffersScreenAppear</th>\n",
       "      <td>4593</td>\n",
       "    </tr>\n",
       "    <tr>\n",
       "      <th>CartScreenAppear</th>\n",
       "      <td>3734</td>\n",
       "    </tr>\n",
       "    <tr>\n",
       "      <th>PaymentScreenSuccessful</th>\n",
       "      <td>3539</td>\n",
       "    </tr>\n",
       "    <tr>\n",
       "      <th>Tutorial</th>\n",
       "      <td>840</td>\n",
       "    </tr>\n",
       "  </tbody>\n",
       "</table>\n",
       "</div>"
      ],
      "text/plain": [
       "                         deviceidhash\n",
       "eventname                            \n",
       "MainScreenAppear                 7419\n",
       "OffersScreenAppear               4593\n",
       "CartScreenAppear                 3734\n",
       "PaymentScreenSuccessful          3539\n",
       "Tutorial                          840"
      ]
     },
     "execution_count": 17,
     "metadata": {},
     "output_type": "execute_result"
    }
   ],
   "source": [
    "# Посчитаем сколько пользователей совершали каждое из этих действий \n",
    "data_av_id = new_data.pivot_table(index='eventname',values='deviceidhash',aggfunc='nunique')\\\n",
    ".sort_values(by = 'deviceidhash', ascending = False)\n",
    "data_av_id"
   ]
  },
  {
   "cell_type": "code",
   "execution_count": 18,
   "metadata": {},
   "outputs": [
    {
     "data": {
      "text/html": [
       "<div>\n",
       "<style scoped>\n",
       "    .dataframe tbody tr th:only-of-type {\n",
       "        vertical-align: middle;\n",
       "    }\n",
       "\n",
       "    .dataframe tbody tr th {\n",
       "        vertical-align: top;\n",
       "    }\n",
       "\n",
       "    .dataframe thead th {\n",
       "        text-align: right;\n",
       "    }\n",
       "</style>\n",
       "<table border=\"1\" class=\"dataframe\">\n",
       "  <thead>\n",
       "    <tr style=\"text-align: right;\">\n",
       "      <th></th>\n",
       "      <th>deviceidhash</th>\n",
       "      <th>v/v</th>\n",
       "    </tr>\n",
       "    <tr>\n",
       "      <th>eventname</th>\n",
       "      <th></th>\n",
       "      <th></th>\n",
       "    </tr>\n",
       "  </thead>\n",
       "  <tbody>\n",
       "    <tr>\n",
       "      <th>MainScreenAppear</th>\n",
       "      <td>7419</td>\n",
       "      <td>0.985</td>\n",
       "    </tr>\n",
       "    <tr>\n",
       "      <th>OffersScreenAppear</th>\n",
       "      <td>4593</td>\n",
       "      <td>0.610</td>\n",
       "    </tr>\n",
       "    <tr>\n",
       "      <th>CartScreenAppear</th>\n",
       "      <td>3734</td>\n",
       "      <td>0.496</td>\n",
       "    </tr>\n",
       "    <tr>\n",
       "      <th>PaymentScreenSuccessful</th>\n",
       "      <td>3539</td>\n",
       "      <td>0.470</td>\n",
       "    </tr>\n",
       "    <tr>\n",
       "      <th>Tutorial</th>\n",
       "      <td>840</td>\n",
       "      <td>0.111</td>\n",
       "    </tr>\n",
       "  </tbody>\n",
       "</table>\n",
       "</div>"
      ],
      "text/plain": [
       "                         deviceidhash    v/v\n",
       "eventname                                   \n",
       "MainScreenAppear                 7419  0.985\n",
       "OffersScreenAppear               4593  0.610\n",
       "CartScreenAppear                 3734  0.496\n",
       "PaymentScreenSuccessful          3539  0.470\n",
       "Tutorial                          840  0.111"
      ]
     },
     "execution_count": 18,
     "metadata": {},
     "output_type": "execute_result"
    }
   ],
   "source": [
    "#Посчитаем долю пользователей, которые хоть раз совершали событие\n",
    "\n",
    "data_av_id['v/v'] = round(data_av_id['deviceidhash']/len(new_data['deviceidhash'].unique()), 3)\n",
    "data_av_id"
   ]
  },
  {
   "cell_type": "markdown",
   "metadata": {},
   "source": [
    "Практически все пользователи, которые скачали приложение появляются на главном экране - 98.5%. Лишь 61% переходит к экрану с заказами, меньше 50% добавляют что-то в корзину и практически столько же оплачивают заказ. Экран с инструкцией кажется лишним в этой цепочке, не влияющим на намерение пользователя перейти к покупкам."
   ]
  },
  {
   "cell_type": "code",
   "execution_count": 19,
   "metadata": {},
   "outputs": [
    {
     "data": {
      "text/html": [
       "<div>\n",
       "<style scoped>\n",
       "    .dataframe tbody tr th:only-of-type {\n",
       "        vertical-align: middle;\n",
       "    }\n",
       "\n",
       "    .dataframe tbody tr th {\n",
       "        vertical-align: top;\n",
       "    }\n",
       "\n",
       "    .dataframe thead th {\n",
       "        text-align: right;\n",
       "    }\n",
       "</style>\n",
       "<table border=\"1\" class=\"dataframe\">\n",
       "  <thead>\n",
       "    <tr style=\"text-align: right;\">\n",
       "      <th></th>\n",
       "      <th>deviceidhash</th>\n",
       "      <th>v/v</th>\n",
       "      <th>conv</th>\n",
       "    </tr>\n",
       "    <tr>\n",
       "      <th>eventname</th>\n",
       "      <th></th>\n",
       "      <th></th>\n",
       "      <th></th>\n",
       "    </tr>\n",
       "  </thead>\n",
       "  <tbody>\n",
       "    <tr>\n",
       "      <th>MainScreenAppear</th>\n",
       "      <td>7419</td>\n",
       "      <td>0.985</td>\n",
       "      <td>100</td>\n",
       "    </tr>\n",
       "    <tr>\n",
       "      <th>OffersScreenAppear</th>\n",
       "      <td>4593</td>\n",
       "      <td>0.610</td>\n",
       "      <td>62</td>\n",
       "    </tr>\n",
       "    <tr>\n",
       "      <th>CartScreenAppear</th>\n",
       "      <td>3734</td>\n",
       "      <td>0.496</td>\n",
       "      <td>81</td>\n",
       "    </tr>\n",
       "    <tr>\n",
       "      <th>PaymentScreenSuccessful</th>\n",
       "      <td>3539</td>\n",
       "      <td>0.470</td>\n",
       "      <td>95</td>\n",
       "    </tr>\n",
       "  </tbody>\n",
       "</table>\n",
       "</div>"
      ],
      "text/plain": [
       "                         deviceidhash    v/v  conv\n",
       "eventname                                         \n",
       "MainScreenAppear                 7419  0.985   100\n",
       "OffersScreenAppear               4593  0.610    62\n",
       "CartScreenAppear                 3734  0.496    81\n",
       "PaymentScreenSuccessful          3539  0.470    95"
      ]
     },
     "execution_count": 19,
     "metadata": {},
     "output_type": "execute_result"
    }
   ],
   "source": [
    "# Посчитаем, какая доля пользователей проходит на следующий шаг воронки (от числа пользователей на предыдущем)\n",
    "\n",
    "data_av_id['conv'] = 0\n",
    "for i in range(0, len(data_av_id['v/v'])):\n",
    "    if i == 0:\n",
    "        data_av_id['conv'].iloc[i] = 100\n",
    "    else:\n",
    "        data_av_id['conv'].iloc[i] = round(int(data_av_id['deviceidhash'].iloc[i])\\\n",
    "    / int(data_av_id['deviceidhash'].iloc[i-1]), 2)*100\n",
    "data_av_id = data_av_id[data_av_id['conv']> 24]        \n",
    "data_av_id"
   ]
  },
  {
   "cell_type": "markdown",
   "metadata": {},
   "source": [
    "Наибольшая потеря пользователей происходит после перехода с главного экрана к заказу, так более трети пользователей теряется при переходе к заказам. 82% оставшихся пользователей переходят на экран с корзиной и практически все из них (95%) доводят заказ до покупки."
   ]
  },
  {
   "cell_type": "code",
   "execution_count": 21,
   "metadata": {},
   "outputs": [
    {
     "data": {
      "text/plain": [
       "48.0"
      ]
     },
     "execution_count": 21,
     "metadata": {},
     "output_type": "execute_result"
    }
   ],
   "source": [
    "# Посчитаем какая доля пользователей доходит от первого события до оплаты\n",
    "round(data_av_id['deviceidhash'].iloc[3]/data_av_id['deviceidhash'].iloc[0], 2)*100\n"
   ]
  },
  {
   "cell_type": "markdown",
   "metadata": {},
   "source": [
    "48% пользователей доходит от первого события до оплаты"
   ]
  },
  {
   "cell_type": "markdown",
   "metadata": {},
   "source": [
    "**Вывод:** Меньше половины пользователей, которые скачали приложения доходят до оплаты заказа. При этом, наибольшая часть пользователей теряется при переходе от главного экрана к заказам."
   ]
  },
  {
   "cell_type": "markdown",
   "metadata": {},
   "source": [
    "### Изучение результатов A/A/B теста"
   ]
  },
  {
   "cell_type": "code",
   "execution_count": 22,
   "metadata": {},
   "outputs": [
    {
     "data": {
      "text/html": [
       "<div>\n",
       "<style scoped>\n",
       "    .dataframe tbody tr th:only-of-type {\n",
       "        vertical-align: middle;\n",
       "    }\n",
       "\n",
       "    .dataframe tbody tr th {\n",
       "        vertical-align: top;\n",
       "    }\n",
       "\n",
       "    .dataframe thead th {\n",
       "        text-align: right;\n",
       "    }\n",
       "</style>\n",
       "<table border=\"1\" class=\"dataframe\">\n",
       "  <thead>\n",
       "    <tr style=\"text-align: right;\">\n",
       "      <th></th>\n",
       "      <th>deviceidhash</th>\n",
       "    </tr>\n",
       "    <tr>\n",
       "      <th>expid</th>\n",
       "      <th></th>\n",
       "    </tr>\n",
       "  </thead>\n",
       "  <tbody>\n",
       "    <tr>\n",
       "      <th>246</th>\n",
       "      <td>2484</td>\n",
       "    </tr>\n",
       "    <tr>\n",
       "      <th>247</th>\n",
       "      <td>2513</td>\n",
       "    </tr>\n",
       "    <tr>\n",
       "      <th>248</th>\n",
       "      <td>2537</td>\n",
       "    </tr>\n",
       "  </tbody>\n",
       "</table>\n",
       "</div>"
      ],
      "text/plain": [
       "       deviceidhash\n",
       "expid              \n",
       "246            2484\n",
       "247            2513\n",
       "248            2537"
      ]
     },
     "execution_count": 22,
     "metadata": {},
     "output_type": "execute_result"
    }
   ],
   "source": [
    "# Посмотрим, сколько пользователей в каждой группе эксперимента\n",
    "test_data = new_data.pivot_table(index='expid',values='deviceidhash',aggfunc='nunique')\n",
    "test_data"
   ]
  },
  {
   "cell_type": "markdown",
   "metadata": {},
   "source": [
    "Группа 246 содержит 2484 пользователей, группа 247 содержит 2513 пользователей, а экспериментальная группа 248 содержит 2537 пользователей."
   ]
  },
  {
   "cell_type": "code",
   "execution_count": 23,
   "metadata": {},
   "outputs": [
    {
     "data": {
      "text/html": [
       "<div>\n",
       "<style scoped>\n",
       "    .dataframe tbody tr th:only-of-type {\n",
       "        vertical-align: middle;\n",
       "    }\n",
       "\n",
       "    .dataframe tbody tr th {\n",
       "        vertical-align: top;\n",
       "    }\n",
       "\n",
       "    .dataframe thead th {\n",
       "        text-align: right;\n",
       "    }\n",
       "</style>\n",
       "<table border=\"1\" class=\"dataframe\">\n",
       "  <thead>\n",
       "    <tr style=\"text-align: right;\">\n",
       "      <th>eventname</th>\n",
       "      <th>CartScreenAppear</th>\n",
       "      <th>MainScreenAppear</th>\n",
       "      <th>OffersScreenAppear</th>\n",
       "      <th>PaymentScreenSuccessful</th>\n",
       "      <th>gen</th>\n",
       "    </tr>\n",
       "    <tr>\n",
       "      <th>expid</th>\n",
       "      <th></th>\n",
       "      <th></th>\n",
       "      <th></th>\n",
       "      <th></th>\n",
       "      <th></th>\n",
       "    </tr>\n",
       "  </thead>\n",
       "  <tbody>\n",
       "    <tr>\n",
       "      <th>246</th>\n",
       "      <td>1266</td>\n",
       "      <td>2450</td>\n",
       "      <td>1542</td>\n",
       "      <td>1200</td>\n",
       "      <td>2484</td>\n",
       "    </tr>\n",
       "    <tr>\n",
       "      <th>247</th>\n",
       "      <td>1238</td>\n",
       "      <td>2476</td>\n",
       "      <td>1520</td>\n",
       "      <td>1158</td>\n",
       "      <td>2513</td>\n",
       "    </tr>\n",
       "    <tr>\n",
       "      <th>248</th>\n",
       "      <td>1230</td>\n",
       "      <td>2493</td>\n",
       "      <td>1531</td>\n",
       "      <td>1181</td>\n",
       "      <td>2537</td>\n",
       "    </tr>\n",
       "  </tbody>\n",
       "</table>\n",
       "</div>"
      ],
      "text/plain": [
       "eventname  CartScreenAppear  MainScreenAppear  OffersScreenAppear  \\\n",
       "expid                                                               \n",
       "246                    1266              2450                1542   \n",
       "247                    1238              2476                1520   \n",
       "248                    1230              2493                1531   \n",
       "\n",
       "eventname  PaymentScreenSuccessful   gen  \n",
       "expid                                     \n",
       "246                           1200  2484  \n",
       "247                           1158  2513  \n",
       "248                           1181  2537  "
      ]
     },
     "execution_count": 23,
     "metadata": {},
     "output_type": "execute_result"
    }
   ],
   "source": [
    "#Создадим таблицу с числом уникальных пользователей по событиям в контрольных группах\n",
    "data_unique = new_data.pivot_table(index='expid',columns = 'eventname', values='deviceidhash',aggfunc='nunique')\n",
    "del data_unique['Tutorial'] # уберем событие с инструкцией\n",
    "data_unique['gen'] = test_data['deviceidhash']\n",
    "data_unique"
   ]
  },
  {
   "cell_type": "markdown",
   "metadata": {},
   "source": [
    "**Проверка гипотезы о равенстве долей в двух выборках** \n",
    "\n",
    "```\n",
    "\n",
    "H_0: Доля пользователей группы 246 = Доля пользователей группы 247`\n",
    "H_1: Доля пользователей группы 246 ≠ Доля пользователей группы 247`\n",
    "alpha = 0.01\n",
    "```"
   ]
  },
  {
   "cell_type": "code",
   "execution_count": 24,
   "metadata": {},
   "outputs": [],
   "source": [
    "# создадим функцию для проверки гипотез\n",
    "\n",
    "def return_hypothesis_test (success, trials, alpha):\n",
    "    # пропорция успехов в первой группе:\n",
    "    p1 = success[0] / trials[0]\n",
    "    # пропорция успехов во второй группе:\n",
    "    p2 = success[1] / trials[1]\n",
    "    # пропорция успехов в комбинированном датасете:\n",
    "    p_combined = (success[0] + success[1]) / (trials[0] + trials[1])\n",
    "    # разница пропорций в датасетах\n",
    "    difference = p1 - p2\n",
    " \n",
    "    z_value = difference / mth.sqrt(p_combined *(1-p_combined) * (1/trials[0] + 1/trials[1]))\n",
    "    \n",
    "    distr = st.norm(0, 1) \n",
    "    \n",
    "    p_value = (1 - distr.cdf(abs(z_value))) * 2\n",
    "    \n",
    "    print('p-значение: ', p_value)\n",
    "    \n",
    "    if (p_value < alpha):\n",
    "        print(\"Отвергаем нулевую гипотезу: между долями есть значимая разница\")\n",
    "        print('')\n",
    "    else:\n",
    "        print(\"Не получилось отвергнуть нулевую гипотезу, нет оснований считать доли разными\")\n",
    "        print('')"
   ]
  },
  {
   "cell_type": "code",
   "execution_count": 25,
   "metadata": {},
   "outputs": [],
   "source": [
    "# введем функцию для отображения результатов, которая на вход получает порядковый номер группы в таблице и параметр альфа\n",
    "def result (group1, group2, alpha):\n",
    "    alpha_test = alpha\n",
    "    count_users = ([data_unique['gen'][group1], data_unique['gen'][group2]])\n",
    "    count_MainScreenAppear = ([data_unique['MainScreenAppear'][group1], data_unique['MainScreenAppear'][group2]])\n",
    "    count_OffersScreenAppear = ([data_unique['OffersScreenAppear'][group1], data_unique['OffersScreenAppear'][group2]])\n",
    "    count_CartScreenAppear = ([data_unique['CartScreenAppear'][group1], data_unique['CartScreenAppear'][group2]])\n",
    "    count_PaymentScreenSuccessful = ([data_unique['PaymentScreenSuccessful'][group1], data_unique['PaymentScreenSuccessful'][group2]])\n",
    "    \n",
    "    print('Результаты теста по долям count_users и count_MainScreenAppear для групп')\n",
    "    return_hypothesis_test(count_MainScreenAppear, count_users, alpha_test)\n",
    "    \n",
    "    print('Результаты теста по долям count_OffersScreenAppear и count_users для групп')\n",
    "    return_hypothesis_test(count_OffersScreenAppear, count_users, alpha_test)\n",
    "    \n",
    "    print('Результаты теста по долям count_users и count_CartScreenAppear для групп')\n",
    "    return_hypothesis_test(count_CartScreenAppear, count_users, alpha_test)\n",
    "    \n",
    "    print('Результаты теста по долям count_PaymentScreenSuccessful и count_users для групп')\n",
    "    return_hypothesis_test(count_PaymentScreenSuccessful, count_users, alpha_test)"
   ]
  },
  {
   "cell_type": "code",
   "execution_count": 26,
   "metadata": {},
   "outputs": [
    {
     "name": "stdout",
     "output_type": "stream",
     "text": [
      "Результаты теста по долям count_users и count_MainScreenAppear для групп\n",
      "p-значение:  0.7570597232046099\n",
      "Не получилось отвергнуть нулевую гипотезу, нет оснований считать доли разными\n",
      "\n",
      "Результаты теста по долям count_OffersScreenAppear и count_users для групп\n",
      "p-значение:  0.2480954578522181\n",
      "Не получилось отвергнуть нулевую гипотезу, нет оснований считать доли разными\n",
      "\n",
      "Результаты теста по долям count_users и count_CartScreenAppear для групп\n",
      "p-значение:  0.22883372237997213\n",
      "Не получилось отвергнуть нулевую гипотезу, нет оснований считать доли разными\n",
      "\n",
      "Результаты теста по долям count_PaymentScreenSuccessful и count_users для групп\n",
      "p-значение:  0.11456679313141849\n",
      "Не получилось отвергнуть нулевую гипотезу, нет оснований считать доли разными\n",
      "\n"
     ]
    }
   ],
   "source": [
    "# проверим тест А/А\n",
    "result (246, 247, 0.1)"
   ]
  },
  {
   "cell_type": "markdown",
   "metadata": {},
   "source": [
    "Самым популярным событием является появление пользователей на глвном экране. Разбиение на группы работает корректно, нельзя считать, что доли пользователей в группах 246 и 247 разные."
   ]
  },
  {
   "cell_type": "markdown",
   "metadata": {},
   "source": [
    "**Проверка гипотезы о равенстве долей в двух выборках** \n",
    "\n",
    "```\n",
    "\n",
    "H_0: Доля пользователей группы 246 = Доля пользователей группы 248`\n",
    "H_1: Доля пользователей группы 246 ≠ Доля пользователей группы 248`\n",
    "alpha = 0.01\n",
    "```"
   ]
  },
  {
   "cell_type": "code",
   "execution_count": 27,
   "metadata": {
    "scrolled": true
   },
   "outputs": [
    {
     "name": "stdout",
     "output_type": "stream",
     "text": [
      "Результаты теста по долям count_users и count_MainScreenAppear для групп\n",
      "p-значение:  0.2949721933554552\n",
      "Не получилось отвергнуть нулевую гипотезу, нет оснований считать доли разными\n",
      "\n",
      "Результаты теста по долям count_OffersScreenAppear и count_users для групп\n",
      "p-значение:  0.20836205402738917\n",
      "Не получилось отвергнуть нулевую гипотезу, нет оснований считать доли разными\n",
      "\n",
      "Результаты теста по долям count_users и count_CartScreenAppear для групп\n",
      "p-значение:  0.07842923237520116\n",
      "Отвергаем нулевую гипотезу: между долями есть значимая разница\n",
      "\n",
      "Результаты теста по долям count_PaymentScreenSuccessful и count_users для групп\n",
      "p-значение:  0.2122553275697796\n",
      "Не получилось отвергнуть нулевую гипотезу, нет оснований считать доли разными\n",
      "\n"
     ]
    }
   ],
   "source": [
    "# проверим тест 246/248\n",
    "result (246, 248, 0.1)"
   ]
  },
  {
   "cell_type": "code",
   "execution_count": 28,
   "metadata": {},
   "outputs": [
    {
     "name": "stdout",
     "output_type": "stream",
     "text": [
      "50.0\n",
      "48.0\n"
     ]
    }
   ],
   "source": [
    "# Проверим насколько отличаются доли\n",
    "print(round(data_unique['CartScreenAppear'].iloc[0]/data_unique['gen'].iloc[1], 2)*100)\n",
    "print(round(data_unique['CartScreenAppear'].iloc[2]/data_unique['gen'].iloc[2], 2)*100)"
   ]
  },
  {
   "cell_type": "markdown",
   "metadata": {},
   "source": [
    "Между долями count_users и count_CartScreenAppear для групп 246 и 248 есть разница в 2%."
   ]
  },
  {
   "cell_type": "markdown",
   "metadata": {},
   "source": [
    "**Проверка гипотезы о равенстве долей в двух выборках** \n",
    "\n",
    "```\n",
    "\n",
    "H_0: Доля пользователей группы 247 = Доля пользователей группы 248`\n",
    "H_1: Доля пользователей группы 247 ≠ Доля пользователей группы 248`\n",
    "alpha = 0.01\n",
    "```"
   ]
  },
  {
   "cell_type": "code",
   "execution_count": 29,
   "metadata": {},
   "outputs": [
    {
     "name": "stdout",
     "output_type": "stream",
     "text": [
      "Результаты теста по долям count_users и count_MainScreenAppear для групп\n",
      "p-значение:  0.4587053616621515\n",
      "Не получилось отвергнуть нулевую гипотезу, нет оснований считать доли разными\n",
      "\n",
      "Результаты теста по долям count_OffersScreenAppear и count_users для групп\n",
      "p-значение:  0.9197817830592261\n",
      "Не получилось отвергнуть нулевую гипотезу, нет оснований считать доли разными\n",
      "\n",
      "Результаты теста по долям count_users и count_CartScreenAppear для групп\n",
      "p-значение:  0.5786197879539783\n",
      "Не получилось отвергнуть нулевую гипотезу, нет оснований считать доли разными\n",
      "\n",
      "Результаты теста по долям count_PaymentScreenSuccessful и count_users для групп\n",
      "p-значение:  0.7373415053803964\n",
      "Не получилось отвергнуть нулевую гипотезу, нет оснований считать доли разными\n",
      "\n"
     ]
    }
   ],
   "source": [
    "# проверим тест 247/248\n",
    "result (247, 248, 0.1)"
   ]
  },
  {
   "cell_type": "markdown",
   "metadata": {},
   "source": [
    "Разница отсутствует"
   ]
  },
  {
   "cell_type": "markdown",
   "metadata": {},
   "source": [
    "**Проверка гипотезы о равенстве долей в двух выборках** \n",
    "\n",
    "```\n",
    "\n",
    "H_0: Доля пользователей объединенной группы 246 и 247 = Доля пользователей группы 248`\n",
    "H_1: Доля пользователей объединенной группы 246 и 247 ≠ Доля пользователей группы 248`\n",
    "alpha = 0.01\n",
    "```"
   ]
  },
  {
   "cell_type": "code",
   "execution_count": 30,
   "metadata": {},
   "outputs": [
    {
     "data": {
      "text/html": [
       "<div>\n",
       "<style scoped>\n",
       "    .dataframe tbody tr th:only-of-type {\n",
       "        vertical-align: middle;\n",
       "    }\n",
       "\n",
       "    .dataframe tbody tr th {\n",
       "        vertical-align: top;\n",
       "    }\n",
       "\n",
       "    .dataframe thead th {\n",
       "        text-align: right;\n",
       "    }\n",
       "</style>\n",
       "<table border=\"1\" class=\"dataframe\">\n",
       "  <thead>\n",
       "    <tr style=\"text-align: right;\">\n",
       "      <th>eventname</th>\n",
       "      <th>CartScreenAppear</th>\n",
       "      <th>MainScreenAppear</th>\n",
       "      <th>OffersScreenAppear</th>\n",
       "      <th>PaymentScreenSuccessful</th>\n",
       "      <th>gen</th>\n",
       "    </tr>\n",
       "    <tr>\n",
       "      <th>expid</th>\n",
       "      <th></th>\n",
       "      <th></th>\n",
       "      <th></th>\n",
       "      <th></th>\n",
       "      <th></th>\n",
       "    </tr>\n",
       "  </thead>\n",
       "  <tbody>\n",
       "    <tr>\n",
       "      <th>246</th>\n",
       "      <td>1266</td>\n",
       "      <td>2450</td>\n",
       "      <td>1542</td>\n",
       "      <td>1200</td>\n",
       "      <td>2484</td>\n",
       "    </tr>\n",
       "    <tr>\n",
       "      <th>247</th>\n",
       "      <td>1238</td>\n",
       "      <td>2476</td>\n",
       "      <td>1520</td>\n",
       "      <td>1158</td>\n",
       "      <td>2513</td>\n",
       "    </tr>\n",
       "    <tr>\n",
       "      <th>248</th>\n",
       "      <td>1230</td>\n",
       "      <td>2493</td>\n",
       "      <td>1531</td>\n",
       "      <td>1181</td>\n",
       "      <td>2537</td>\n",
       "    </tr>\n",
       "    <tr>\n",
       "      <th>new</th>\n",
       "      <td>2504</td>\n",
       "      <td>4926</td>\n",
       "      <td>3062</td>\n",
       "      <td>2358</td>\n",
       "      <td>4997</td>\n",
       "    </tr>\n",
       "  </tbody>\n",
       "</table>\n",
       "</div>"
      ],
      "text/plain": [
       "eventname  CartScreenAppear  MainScreenAppear  OffersScreenAppear  \\\n",
       "expid                                                               \n",
       "246                    1266              2450                1542   \n",
       "247                    1238              2476                1520   \n",
       "248                    1230              2493                1531   \n",
       "new                    2504              4926                3062   \n",
       "\n",
       "eventname  PaymentScreenSuccessful   gen  \n",
       "expid                                     \n",
       "246                           1200  2484  \n",
       "247                           1158  2513  \n",
       "248                           1181  2537  \n",
       "new                           2358  4997  "
      ]
     },
     "execution_count": 30,
     "metadata": {},
     "output_type": "execute_result"
    }
   ],
   "source": [
    "# объединим группы 246 и 247 \n",
    "data_unique.loc['new'] = [data_unique['CartScreenAppear'][246]+data_unique['CartScreenAppear'][247]\\\n",
    "                      , data_unique['MainScreenAppear'][246]+data_unique['MainScreenAppear'][247]\\\n",
    "                      , data_unique['OffersScreenAppear'][246]+data_unique['OffersScreenAppear'][247]\\\n",
    "                      , data_unique['PaymentScreenSuccessful'][246]+data_unique['PaymentScreenSuccessful'][247]\\\n",
    "                      , data_unique['gen'][246]+data_unique['gen'][247]]\n",
    "data_unique"
   ]
  },
  {
   "cell_type": "code",
   "execution_count": 31,
   "metadata": {
    "scrolled": true
   },
   "outputs": [
    {
     "name": "stdout",
     "output_type": "stream",
     "text": [
      "Результаты теста по долям count_users и count_MainScreenAppear для групп\n",
      "p-значение:  0.29424526837179577\n",
      "Не получилось отвергнуть нулевую гипотезу, нет оснований считать доли разными\n",
      "\n",
      "Результаты теста по долям count_OffersScreenAppear и count_users для групп\n",
      "p-значение:  0.43425549655188256\n",
      "Не получилось отвергнуть нулевую гипотезу, нет оснований считать доли разными\n",
      "\n",
      "Результаты теста по долям count_users и count_CartScreenAppear для групп\n",
      "p-значение:  0.18175875284404386\n",
      "Не получилось отвергнуть нулевую гипотезу, нет оснований считать доли разными\n",
      "\n",
      "Результаты теста по долям count_PaymentScreenSuccessful и count_users для групп\n",
      "p-значение:  0.6004294282308704\n",
      "Не получилось отвергнуть нулевую гипотезу, нет оснований считать доли разными\n",
      "\n"
     ]
    }
   ],
   "source": [
    "# проверим тест new/248\n",
    "result ('new', 248, 0.1)"
   ]
  },
  {
   "cell_type": "markdown",
   "metadata": {},
   "source": [
    "**Вывод:** Разница в долях в экспериментальной и объединенной группах отсутсвуют. В результате, различия наблюдаются лишь в группах 246 и 248 в событии при переходе к корзине. Необходимо проверить, изменится ли результат теста при смене уровня статистической значимости."
   ]
  },
  {
   "cell_type": "code",
   "execution_count": 32,
   "metadata": {},
   "outputs": [
    {
     "name": "stdout",
     "output_type": "stream",
     "text": [
      "Результаты теста по долям count_users и count_MainScreenAppear для групп\n",
      "p-значение:  0.7570597232046099\n",
      "Не получилось отвергнуть нулевую гипотезу, нет оснований считать доли разными\n",
      "\n",
      "Результаты теста по долям count_OffersScreenAppear и count_users для групп\n",
      "p-значение:  0.2480954578522181\n",
      "Не получилось отвергнуть нулевую гипотезу, нет оснований считать доли разными\n",
      "\n",
      "Результаты теста по долям count_users и count_CartScreenAppear для групп\n",
      "p-значение:  0.22883372237997213\n",
      "Не получилось отвергнуть нулевую гипотезу, нет оснований считать доли разными\n",
      "\n",
      "Результаты теста по долям count_PaymentScreenSuccessful и count_users для групп\n",
      "p-значение:  0.11456679313141849\n",
      "Не получилось отвергнуть нулевую гипотезу, нет оснований считать доли разными\n",
      "\n"
     ]
    }
   ],
   "source": [
    "# Проверим все вышеописанные гипотезы при alpha = 5%\n",
    "# проверим тест А/А\n",
    "result (246, 247, 0.05)"
   ]
  },
  {
   "cell_type": "code",
   "execution_count": 33,
   "metadata": {},
   "outputs": [
    {
     "name": "stdout",
     "output_type": "stream",
     "text": [
      "Результаты теста по долям count_users и count_MainScreenAppear для групп\n",
      "p-значение:  0.2949721933554552\n",
      "Не получилось отвергнуть нулевую гипотезу, нет оснований считать доли разными\n",
      "\n",
      "Результаты теста по долям count_OffersScreenAppear и count_users для групп\n",
      "p-значение:  0.20836205402738917\n",
      "Не получилось отвергнуть нулевую гипотезу, нет оснований считать доли разными\n",
      "\n",
      "Результаты теста по долям count_users и count_CartScreenAppear для групп\n",
      "p-значение:  0.07842923237520116\n",
      "Не получилось отвергнуть нулевую гипотезу, нет оснований считать доли разными\n",
      "\n",
      "Результаты теста по долям count_PaymentScreenSuccessful и count_users для групп\n",
      "p-значение:  0.2122553275697796\n",
      "Не получилось отвергнуть нулевую гипотезу, нет оснований считать доли разными\n",
      "\n"
     ]
    }
   ],
   "source": [
    "# проверим тест 246/248\n",
    "result (246, 248, 0.05)"
   ]
  },
  {
   "cell_type": "code",
   "execution_count": 34,
   "metadata": {},
   "outputs": [
    {
     "name": "stdout",
     "output_type": "stream",
     "text": [
      "Результаты теста по долям count_users и count_MainScreenAppear для групп\n",
      "p-значение:  0.4587053616621515\n",
      "Не получилось отвергнуть нулевую гипотезу, нет оснований считать доли разными\n",
      "\n",
      "Результаты теста по долям count_OffersScreenAppear и count_users для групп\n",
      "p-значение:  0.9197817830592261\n",
      "Не получилось отвергнуть нулевую гипотезу, нет оснований считать доли разными\n",
      "\n",
      "Результаты теста по долям count_users и count_CartScreenAppear для групп\n",
      "p-значение:  0.5786197879539783\n",
      "Не получилось отвергнуть нулевую гипотезу, нет оснований считать доли разными\n",
      "\n",
      "Результаты теста по долям count_PaymentScreenSuccessful и count_users для групп\n",
      "p-значение:  0.7373415053803964\n",
      "Не получилось отвергнуть нулевую гипотезу, нет оснований считать доли разными\n",
      "\n"
     ]
    }
   ],
   "source": [
    "# проверим тест 247/248\n",
    "result (247, 248, 0.05)"
   ]
  },
  {
   "cell_type": "code",
   "execution_count": 35,
   "metadata": {},
   "outputs": [
    {
     "name": "stdout",
     "output_type": "stream",
     "text": [
      "Результаты теста по долям count_users и count_MainScreenAppear для групп\n",
      "p-значение:  0.29424526837179577\n",
      "Не получилось отвергнуть нулевую гипотезу, нет оснований считать доли разными\n",
      "\n",
      "Результаты теста по долям count_OffersScreenAppear и count_users для групп\n",
      "p-значение:  0.43425549655188256\n",
      "Не получилось отвергнуть нулевую гипотезу, нет оснований считать доли разными\n",
      "\n",
      "Результаты теста по долям count_users и count_CartScreenAppear для групп\n",
      "p-значение:  0.18175875284404386\n",
      "Не получилось отвергнуть нулевую гипотезу, нет оснований считать доли разными\n",
      "\n",
      "Результаты теста по долям count_PaymentScreenSuccessful и count_users для групп\n",
      "p-значение:  0.6004294282308704\n",
      "Не получилось отвергнуть нулевую гипотезу, нет оснований считать доли разными\n",
      "\n"
     ]
    }
   ],
   "source": [
    "# проверим тест new/248\n",
    "result ('new', 248, 0.05)"
   ]
  },
  {
   "cell_type": "markdown",
   "metadata": {},
   "source": [
    "**Вывод:** При уровне статистической значимости 5% все доли, во всех группах одинаковые. Всего было проведено 4 проверки гипотезы для 4 событий, при данной статистической значимости еще 16 при alpha = 0.1. В результате образуется вероятность ложнопозитивного результата при таком большом количестве тестов. Необходимо ввести поправку и проверить гипотезы с ее учетом."
   ]
  },
  {
   "cell_type": "code",
   "execution_count": 36,
   "metadata": {},
   "outputs": [
    {
     "data": {
      "text/plain": [
       "0.0016016314667719467"
      ]
     },
     "execution_count": 36,
     "metadata": {},
     "output_type": "execute_result"
    }
   ],
   "source": [
    "# введем поправку по методу Шидака\n",
    "alpha_cor = 1 - (1-0.05)** (1/32)\n",
    "alpha_cor"
   ]
  },
  {
   "cell_type": "code",
   "execution_count": 37,
   "metadata": {},
   "outputs": [
    {
     "name": "stdout",
     "output_type": "stream",
     "text": [
      "Результаты теста по долям count_users и count_MainScreenAppear для групп\n",
      "p-значение:  0.7570597232046099\n",
      "Не получилось отвергнуть нулевую гипотезу, нет оснований считать доли разными\n",
      "\n",
      "Результаты теста по долям count_OffersScreenAppear и count_users для групп\n",
      "p-значение:  0.2480954578522181\n",
      "Не получилось отвергнуть нулевую гипотезу, нет оснований считать доли разными\n",
      "\n",
      "Результаты теста по долям count_users и count_CartScreenAppear для групп\n",
      "p-значение:  0.22883372237997213\n",
      "Не получилось отвергнуть нулевую гипотезу, нет оснований считать доли разными\n",
      "\n",
      "Результаты теста по долям count_PaymentScreenSuccessful и count_users для групп\n",
      "p-значение:  0.11456679313141849\n",
      "Не получилось отвергнуть нулевую гипотезу, нет оснований считать доли разными\n",
      "\n"
     ]
    }
   ],
   "source": [
    "# проверим тест А/А\n",
    "result (246, 247, alpha_cor)"
   ]
  },
  {
   "cell_type": "code",
   "execution_count": 38,
   "metadata": {},
   "outputs": [
    {
     "name": "stdout",
     "output_type": "stream",
     "text": [
      "Результаты теста по долям count_users и count_MainScreenAppear для групп\n",
      "p-значение:  0.2949721933554552\n",
      "Не получилось отвергнуть нулевую гипотезу, нет оснований считать доли разными\n",
      "\n",
      "Результаты теста по долям count_OffersScreenAppear и count_users для групп\n",
      "p-значение:  0.20836205402738917\n",
      "Не получилось отвергнуть нулевую гипотезу, нет оснований считать доли разными\n",
      "\n",
      "Результаты теста по долям count_users и count_CartScreenAppear для групп\n",
      "p-значение:  0.07842923237520116\n",
      "Не получилось отвергнуть нулевую гипотезу, нет оснований считать доли разными\n",
      "\n",
      "Результаты теста по долям count_PaymentScreenSuccessful и count_users для групп\n",
      "p-значение:  0.2122553275697796\n",
      "Не получилось отвергнуть нулевую гипотезу, нет оснований считать доли разными\n",
      "\n"
     ]
    }
   ],
   "source": [
    "# проверим тест 246/248\n",
    "result (246, 248, alpha_cor)"
   ]
  },
  {
   "cell_type": "code",
   "execution_count": 39,
   "metadata": {},
   "outputs": [
    {
     "name": "stdout",
     "output_type": "stream",
     "text": [
      "Результаты теста по долям count_users и count_MainScreenAppear для групп\n",
      "p-значение:  0.4587053616621515\n",
      "Не получилось отвергнуть нулевую гипотезу, нет оснований считать доли разными\n",
      "\n",
      "Результаты теста по долям count_OffersScreenAppear и count_users для групп\n",
      "p-значение:  0.9197817830592261\n",
      "Не получилось отвергнуть нулевую гипотезу, нет оснований считать доли разными\n",
      "\n",
      "Результаты теста по долям count_users и count_CartScreenAppear для групп\n",
      "p-значение:  0.5786197879539783\n",
      "Не получилось отвергнуть нулевую гипотезу, нет оснований считать доли разными\n",
      "\n",
      "Результаты теста по долям count_PaymentScreenSuccessful и count_users для групп\n",
      "p-значение:  0.7373415053803964\n",
      "Не получилось отвергнуть нулевую гипотезу, нет оснований считать доли разными\n",
      "\n"
     ]
    }
   ],
   "source": [
    "# проверим тест 247/248\n",
    "result (247, 248, alpha_cor)"
   ]
  },
  {
   "cell_type": "code",
   "execution_count": 40,
   "metadata": {},
   "outputs": [
    {
     "name": "stdout",
     "output_type": "stream",
     "text": [
      "Результаты теста по долям count_users и count_MainScreenAppear для групп\n",
      "p-значение:  0.29424526837179577\n",
      "Не получилось отвергнуть нулевую гипотезу, нет оснований считать доли разными\n",
      "\n",
      "Результаты теста по долям count_OffersScreenAppear и count_users для групп\n",
      "p-значение:  0.43425549655188256\n",
      "Не получилось отвергнуть нулевую гипотезу, нет оснований считать доли разными\n",
      "\n",
      "Результаты теста по долям count_users и count_CartScreenAppear для групп\n",
      "p-значение:  0.18175875284404386\n",
      "Не получилось отвергнуть нулевую гипотезу, нет оснований считать доли разными\n",
      "\n",
      "Результаты теста по долям count_PaymentScreenSuccessful и count_users для групп\n",
      "p-значение:  0.6004294282308704\n",
      "Не получилось отвергнуть нулевую гипотезу, нет оснований считать доли разными\n",
      "\n"
     ]
    }
   ],
   "source": [
    "# проверим тест new/248\n",
    "result ('new', 248, alpha_cor)"
   ]
  },
  {
   "cell_type": "markdown",
   "metadata": {},
   "source": [
    "**Вывод:** После ввода поправки Шидака результаты не изменились."
   ]
  },
  {
   "cell_type": "markdown",
   "metadata": {},
   "source": [
    "### Общий вывод"
   ]
  },
  {
   "cell_type": "markdown",
   "metadata": {},
   "source": [
    "В результате анализа воронки продаж выяснили, как пользователи доходят до покупки. Сколько пользователей доходит до покупки, а сколько — «застревает» на предыдущих шагах?\n",
    "\n",
    "Также, проанализировав результаты A/A/B-эксперимента получили заключение о необходимости изменения шрифта."
   ]
  },
  {
   "cell_type": "markdown",
   "metadata": {},
   "source": [
    "**Выводы:**\n",
    "1. Всего в исследовании участвует 7551 пользователь;\n",
    "2. В среднем, на одного пользователя приходится 32 события;\n",
    "3. Данные за период с 25 июля по 30 июля практически отсутствуют. Наиболее показательным периодом является первая неделя августа;\n",
    "4. Чаще всего пользователи появляются на главном экране, далее на странице заказа, в корзине, реже на странице оплаты и совсем редко на странице с инструкцией;\n",
    "5. Практически все пользователи, которые скачали приложение появляются на главном экране - 98.5%. Лишь 61% переходит к экрану с заказами, меньше 50% добавляют что-то в корзину и практически столько же оплачивают заказ. Экран с инструкцией кажется лишним в этой цепочке, не влияющим на намерение пользователя перейти к покупкам;\n",
    "6. Наибольшая потеря пользователей происходит после перехода с главного экрана к заказу, так более трети пользователей теряется при переходе к заказам. 82% оставшихся пользователей переходят на экран с корзиной и практически все из них (95%) доводят заказ до покупки;\n",
    "7. 48% пользователей доходит от первого события до оплаты; \n",
    "8. Самым популярным событием является появление пользователей на главном экране;\n",
    "9. Доля пользователей при уровне статистической значимости 5% во всех группах одинаковое. Однако при смене уровня к 1% наблюдается снижение в долях пользователей при переходе к корзине в экспериментальной группе и контрольной. Таким образом, изменение шрифта не приведет к позитивной динамике пользователей и лучше оставить шрифты в прежнем варианте."
   ]
  },
  {
   "cell_type": "code",
   "execution_count": null,
   "metadata": {},
   "outputs": [],
   "source": []
  }
 ],
 "metadata": {
  "ExecuteTimeLog": [
   {
    "duration": 52,
    "start_time": "2023-05-08T15:03:50.525Z"
   },
   {
    "duration": 1489,
    "start_time": "2023-05-08T15:03:57.606Z"
   },
   {
    "duration": 960,
    "start_time": "2023-05-08T15:03:59.097Z"
   },
   {
    "duration": 54,
    "start_time": "2023-05-08T15:04:28.409Z"
   },
   {
    "duration": 199,
    "start_time": "2023-05-08T15:05:53.778Z"
   },
   {
    "duration": 21,
    "start_time": "2023-05-08T15:07:20.557Z"
   },
   {
    "duration": 82,
    "start_time": "2023-05-08T15:09:43.435Z"
   },
   {
    "duration": 93,
    "start_time": "2023-05-08T15:10:12.906Z"
   },
   {
    "duration": 3,
    "start_time": "2023-05-08T15:12:49.491Z"
   },
   {
    "duration": 84,
    "start_time": "2023-05-08T15:18:02.303Z"
   },
   {
    "duration": 970,
    "start_time": "2023-05-08T15:18:05.827Z"
   },
   {
    "duration": 741,
    "start_time": "2023-05-08T15:18:51.789Z"
   },
   {
    "duration": 722,
    "start_time": "2023-05-08T15:19:11.244Z"
   },
   {
    "duration": 171,
    "start_time": "2023-05-08T15:19:28.279Z"
   },
   {
    "duration": 71,
    "start_time": "2023-05-08T15:22:41.965Z"
   },
   {
    "duration": 3,
    "start_time": "2023-05-08T15:24:52.792Z"
   },
   {
    "duration": 76,
    "start_time": "2023-05-08T15:24:55.677Z"
   },
   {
    "duration": 746,
    "start_time": "2023-05-08T15:26:28.956Z"
   },
   {
    "duration": 78,
    "start_time": "2023-05-08T15:26:45.789Z"
   },
   {
    "duration": 97,
    "start_time": "2023-05-08T15:37:30.660Z"
   },
   {
    "duration": 144,
    "start_time": "2023-05-08T15:37:40.042Z"
   },
   {
    "duration": 17,
    "start_time": "2023-05-08T15:44:48.630Z"
   },
   {
    "duration": 0,
    "start_time": "2023-05-08T15:51:38.845Z"
   },
   {
    "duration": 0,
    "start_time": "2023-05-08T15:51:38.847Z"
   },
   {
    "duration": 4,
    "start_time": "2023-05-08T15:51:41.491Z"
   },
   {
    "duration": 44,
    "start_time": "2023-05-08T15:52:43.509Z"
   },
   {
    "duration": 100,
    "start_time": "2023-05-08T15:56:04.555Z"
   },
   {
    "duration": 66,
    "start_time": "2023-05-08T15:56:45.679Z"
   },
   {
    "duration": 66,
    "start_time": "2023-05-08T15:56:50.422Z"
   },
   {
    "duration": 3,
    "start_time": "2023-05-08T15:59:51.950Z"
   },
   {
    "duration": 31,
    "start_time": "2023-05-08T16:00:05.282Z"
   },
   {
    "duration": 32,
    "start_time": "2023-05-08T16:00:19.509Z"
   },
   {
    "duration": 284,
    "start_time": "2023-05-08T16:03:07.879Z"
   },
   {
    "duration": 10,
    "start_time": "2023-05-08T16:10:16.057Z"
   },
   {
    "duration": 197,
    "start_time": "2023-05-08T16:10:24.721Z"
   },
   {
    "duration": 145,
    "start_time": "2023-05-08T16:11:38.006Z"
   },
   {
    "duration": 14,
    "start_time": "2023-05-08T16:11:42.477Z"
   },
   {
    "duration": 10,
    "start_time": "2023-05-08T16:11:49.775Z"
   },
   {
    "duration": 10,
    "start_time": "2023-05-08T16:12:16.618Z"
   },
   {
    "duration": 50,
    "start_time": "2023-05-08T16:13:18.134Z"
   },
   {
    "duration": 7,
    "start_time": "2023-05-08T16:13:32.377Z"
   },
   {
    "duration": 12,
    "start_time": "2023-05-08T16:15:30.304Z"
   },
   {
    "duration": 20,
    "start_time": "2023-05-08T16:22:57.308Z"
   },
   {
    "duration": 13,
    "start_time": "2023-05-08T16:26:39.067Z"
   },
   {
    "duration": 8,
    "start_time": "2023-05-08T16:30:59.030Z"
   },
   {
    "duration": 9,
    "start_time": "2023-05-08T16:32:22.307Z"
   },
   {
    "duration": 32,
    "start_time": "2023-05-08T16:32:26.336Z"
   },
   {
    "duration": 29,
    "start_time": "2023-05-08T16:32:27.967Z"
   },
   {
    "duration": 6,
    "start_time": "2023-05-08T16:33:46.030Z"
   },
   {
    "duration": 22,
    "start_time": "2023-05-08T16:47:21.466Z"
   },
   {
    "duration": 10,
    "start_time": "2023-05-08T16:49:11.706Z"
   },
   {
    "duration": 39,
    "start_time": "2023-05-08T16:49:55.911Z"
   },
   {
    "duration": 136,
    "start_time": "2023-05-08T16:57:32.683Z"
   },
   {
    "duration": 120,
    "start_time": "2023-05-08T16:57:56.648Z"
   },
   {
    "duration": 121,
    "start_time": "2023-05-08T16:58:05.234Z"
   },
   {
    "duration": 112,
    "start_time": "2023-05-08T16:58:24.410Z"
   },
   {
    "duration": 119,
    "start_time": "2023-05-08T16:58:30.432Z"
   },
   {
    "duration": 41,
    "start_time": "2023-05-08T17:01:10.860Z"
   },
   {
    "duration": 42,
    "start_time": "2023-05-08T17:01:18.459Z"
   },
   {
    "duration": 9,
    "start_time": "2023-05-08T17:26:26.944Z"
   },
   {
    "duration": 11,
    "start_time": "2023-05-08T17:48:54.335Z"
   },
   {
    "duration": 12,
    "start_time": "2023-05-08T17:49:09.910Z"
   },
   {
    "duration": 8,
    "start_time": "2023-05-08T17:49:16.774Z"
   },
   {
    "duration": 13,
    "start_time": "2023-05-08T17:49:24.031Z"
   },
   {
    "duration": 696,
    "start_time": "2023-05-08T18:14:21.821Z"
   },
   {
    "duration": 6,
    "start_time": "2023-05-08T18:14:31.829Z"
   },
   {
    "duration": 4,
    "start_time": "2023-05-09T04:41:59.214Z"
   },
   {
    "duration": 47,
    "start_time": "2023-05-09T04:44:55.676Z"
   },
   {
    "duration": 1427,
    "start_time": "2023-05-09T04:44:59.457Z"
   },
   {
    "duration": 519,
    "start_time": "2023-05-09T04:45:00.887Z"
   },
   {
    "duration": 84,
    "start_time": "2023-05-09T04:45:01.408Z"
   },
   {
    "duration": 80,
    "start_time": "2023-05-09T04:45:01.494Z"
   },
   {
    "duration": 193,
    "start_time": "2023-05-09T04:45:01.586Z"
   },
   {
    "duration": 137,
    "start_time": "2023-05-09T04:45:01.780Z"
   },
   {
    "duration": 28,
    "start_time": "2023-05-09T04:45:01.918Z"
   },
   {
    "duration": 60,
    "start_time": "2023-05-09T04:45:01.948Z"
   },
   {
    "duration": 159,
    "start_time": "2023-05-09T04:45:02.010Z"
   },
   {
    "duration": 5,
    "start_time": "2023-05-09T04:45:02.171Z"
   },
   {
    "duration": 333,
    "start_time": "2023-05-09T04:45:02.178Z"
   },
   {
    "duration": 25,
    "start_time": "2023-05-09T04:45:02.513Z"
   },
   {
    "duration": 23,
    "start_time": "2023-05-09T04:45:02.540Z"
   },
   {
    "duration": 37,
    "start_time": "2023-05-09T04:45:02.565Z"
   },
   {
    "duration": 69,
    "start_time": "2023-05-09T04:45:02.603Z"
   },
   {
    "duration": 110,
    "start_time": "2023-05-09T04:45:02.674Z"
   },
   {
    "duration": 38,
    "start_time": "2023-05-09T04:45:02.786Z"
   },
   {
    "duration": 31,
    "start_time": "2023-05-09T04:45:02.826Z"
   },
   {
    "duration": 44,
    "start_time": "2023-05-09T04:45:02.859Z"
   },
   {
    "duration": 101,
    "start_time": "2023-05-09T04:45:02.905Z"
   },
   {
    "duration": 74,
    "start_time": "2023-05-09T04:45:42.742Z"
   },
   {
    "duration": 101,
    "start_time": "2023-05-09T04:58:42.890Z"
   },
   {
    "duration": 1241,
    "start_time": "2023-05-09T04:58:56.303Z"
   },
   {
    "duration": 105,
    "start_time": "2023-05-09T05:04:39.451Z"
   },
   {
    "duration": 1360,
    "start_time": "2023-05-09T05:05:49.716Z"
   },
   {
    "duration": 107,
    "start_time": "2023-05-09T05:07:00.127Z"
   },
   {
    "duration": 5,
    "start_time": "2023-05-09T05:22:12.542Z"
   },
   {
    "duration": 7,
    "start_time": "2023-05-09T05:28:40.233Z"
   },
   {
    "duration": 1272,
    "start_time": "2023-05-09T05:28:42.428Z"
   },
   {
    "duration": 1439,
    "start_time": "2023-05-09T05:30:27.007Z"
   },
   {
    "duration": 118,
    "start_time": "2023-05-09T05:30:35.788Z"
   },
   {
    "duration": 1040,
    "start_time": "2023-05-09T05:31:10.701Z"
   },
   {
    "duration": 1227,
    "start_time": "2023-05-09T05:31:22.600Z"
   },
   {
    "duration": 110,
    "start_time": "2023-05-09T05:31:50.937Z"
   },
   {
    "duration": 1400,
    "start_time": "2023-05-09T05:32:00.684Z"
   },
   {
    "duration": 123,
    "start_time": "2023-05-09T05:32:06.812Z"
   },
   {
    "duration": 82,
    "start_time": "2023-05-09T05:35:05.620Z"
   },
   {
    "duration": 24,
    "start_time": "2023-05-09T05:36:38.361Z"
   },
   {
    "duration": 6,
    "start_time": "2023-05-09T05:36:43.720Z"
   },
   {
    "duration": 10,
    "start_time": "2023-05-09T05:36:48.998Z"
   },
   {
    "duration": 24,
    "start_time": "2023-05-09T05:36:51.541Z"
   },
   {
    "duration": 103,
    "start_time": "2023-05-09T05:36:54.938Z"
   },
   {
    "duration": 31,
    "start_time": "2023-05-09T05:36:57.361Z"
   },
   {
    "duration": 20,
    "start_time": "2023-05-09T05:37:11.333Z"
   },
   {
    "duration": 4,
    "start_time": "2023-05-09T05:37:13.701Z"
   },
   {
    "duration": 73,
    "start_time": "2023-05-09T05:37:16.715Z"
   },
   {
    "duration": 103,
    "start_time": "2023-05-09T05:37:37.840Z"
   },
   {
    "duration": 1435,
    "start_time": "2023-05-09T05:37:44.074Z"
   },
   {
    "duration": 155,
    "start_time": "2023-05-09T05:38:31.775Z"
   },
   {
    "duration": 1129,
    "start_time": "2023-05-09T05:39:43.173Z"
   },
   {
    "duration": 1345,
    "start_time": "2023-05-09T05:39:52.100Z"
   },
   {
    "duration": 2150,
    "start_time": "2023-05-09T05:40:00.548Z"
   },
   {
    "duration": 72,
    "start_time": "2023-05-09T05:40:50.292Z"
   },
   {
    "duration": 1375,
    "start_time": "2023-05-09T05:40:55.477Z"
   },
   {
    "duration": 74,
    "start_time": "2023-05-09T05:41:02.251Z"
   },
   {
    "duration": 73,
    "start_time": "2023-05-09T05:41:15.032Z"
   },
   {
    "duration": 1328,
    "start_time": "2023-05-09T05:41:45.307Z"
   },
   {
    "duration": 117,
    "start_time": "2023-05-09T05:41:51.180Z"
   },
   {
    "duration": 109,
    "start_time": "2023-05-09T05:42:25.549Z"
   },
   {
    "duration": 15,
    "start_time": "2023-05-09T05:42:51.920Z"
   },
   {
    "duration": 3,
    "start_time": "2023-05-09T05:43:20.880Z"
   },
   {
    "duration": 3,
    "start_time": "2023-05-09T05:43:23.392Z"
   },
   {
    "duration": 9,
    "start_time": "2023-05-09T05:43:26.279Z"
   },
   {
    "duration": 10,
    "start_time": "2023-05-09T05:51:17.167Z"
   },
   {
    "duration": 12,
    "start_time": "2023-05-09T05:52:49.408Z"
   },
   {
    "duration": 10,
    "start_time": "2023-05-09T05:56:12.207Z"
   },
   {
    "duration": 16,
    "start_time": "2023-05-09T06:00:14.098Z"
   },
   {
    "duration": 11,
    "start_time": "2023-05-09T06:00:42.262Z"
   },
   {
    "duration": 12,
    "start_time": "2023-05-09T06:01:18.583Z"
   },
   {
    "duration": 10,
    "start_time": "2023-05-09T06:01:31.115Z"
   },
   {
    "duration": 10,
    "start_time": "2023-05-09T06:11:30.735Z"
   },
   {
    "duration": 9,
    "start_time": "2023-05-09T06:12:05.992Z"
   },
   {
    "duration": 11,
    "start_time": "2023-05-09T06:12:22.917Z"
   },
   {
    "duration": 7,
    "start_time": "2023-05-09T06:12:46.108Z"
   },
   {
    "duration": 12,
    "start_time": "2023-05-09T06:36:42.069Z"
   },
   {
    "duration": 5,
    "start_time": "2023-05-09T06:39:21.634Z"
   },
   {
    "duration": 3,
    "start_time": "2023-05-09T06:43:09.269Z"
   },
   {
    "duration": 199,
    "start_time": "2023-05-09T06:43:09.275Z"
   },
   {
    "duration": 72,
    "start_time": "2023-05-09T06:43:09.485Z"
   },
   {
    "duration": 74,
    "start_time": "2023-05-09T06:43:09.560Z"
   },
   {
    "duration": 236,
    "start_time": "2023-05-09T06:43:09.636Z"
   },
   {
    "duration": 170,
    "start_time": "2023-05-09T06:43:09.874Z"
   },
   {
    "duration": 36,
    "start_time": "2023-05-09T06:43:10.047Z"
   },
   {
    "duration": 49,
    "start_time": "2023-05-09T06:43:10.086Z"
   },
   {
    "duration": 101,
    "start_time": "2023-05-09T06:43:10.137Z"
   },
   {
    "duration": 5,
    "start_time": "2023-05-09T06:43:10.240Z"
   },
   {
    "duration": 237,
    "start_time": "2023-05-09T06:43:10.248Z"
   },
   {
    "duration": 26,
    "start_time": "2023-05-09T06:43:10.488Z"
   },
   {
    "duration": 8,
    "start_time": "2023-05-09T06:43:10.516Z"
   },
   {
    "duration": 10,
    "start_time": "2023-05-09T06:43:10.526Z"
   },
   {
    "duration": 57,
    "start_time": "2023-05-09T06:43:10.538Z"
   },
   {
    "duration": 110,
    "start_time": "2023-05-09T06:43:10.597Z"
   },
   {
    "duration": 31,
    "start_time": "2023-05-09T06:43:10.709Z"
   },
   {
    "duration": 14,
    "start_time": "2023-05-09T06:43:10.742Z"
   },
   {
    "duration": 28,
    "start_time": "2023-05-09T06:43:10.758Z"
   },
   {
    "duration": 85,
    "start_time": "2023-05-09T06:43:10.788Z"
   },
   {
    "duration": 130,
    "start_time": "2023-05-09T06:43:10.882Z"
   },
   {
    "duration": 7,
    "start_time": "2023-05-09T06:43:11.014Z"
   },
   {
    "duration": 13,
    "start_time": "2023-05-09T06:43:11.023Z"
   },
   {
    "duration": 32,
    "start_time": "2023-05-09T06:43:11.038Z"
   },
   {
    "duration": 14,
    "start_time": "2023-05-09T06:43:11.072Z"
   },
   {
    "duration": 5,
    "start_time": "2023-05-09T06:43:11.089Z"
   },
   {
    "duration": 12,
    "start_time": "2023-05-09T06:43:11.096Z"
   },
   {
    "duration": 18,
    "start_time": "2023-05-09T06:43:11.110Z"
   },
   {
    "duration": 12,
    "start_time": "2023-05-09T06:43:11.132Z"
   },
   {
    "duration": 37,
    "start_time": "2023-05-09T06:43:11.146Z"
   },
   {
    "duration": 15,
    "start_time": "2023-05-09T06:43:11.185Z"
   },
   {
    "duration": 11,
    "start_time": "2023-05-09T06:43:11.202Z"
   },
   {
    "duration": 19,
    "start_time": "2023-05-09T06:43:11.215Z"
   },
   {
    "duration": 1485,
    "start_time": "2023-05-09T18:17:53.247Z"
   },
   {
    "duration": 1131,
    "start_time": "2023-05-09T18:17:54.735Z"
   },
   {
    "duration": 102,
    "start_time": "2023-05-09T18:17:55.869Z"
   },
   {
    "duration": 113,
    "start_time": "2023-05-09T18:17:55.974Z"
   },
   {
    "duration": 252,
    "start_time": "2023-05-09T18:17:56.088Z"
   },
   {
    "duration": 178,
    "start_time": "2023-05-09T18:17:56.343Z"
   },
   {
    "duration": 24,
    "start_time": "2023-05-09T18:17:56.524Z"
   },
   {
    "duration": 67,
    "start_time": "2023-05-09T18:17:56.551Z"
   },
   {
    "duration": 116,
    "start_time": "2023-05-09T18:17:56.620Z"
   },
   {
    "duration": 5,
    "start_time": "2023-05-09T18:17:56.739Z"
   },
   {
    "duration": 332,
    "start_time": "2023-05-09T18:17:56.746Z"
   },
   {
    "duration": 42,
    "start_time": "2023-05-09T18:17:57.080Z"
   },
   {
    "duration": 11,
    "start_time": "2023-05-09T18:17:57.124Z"
   },
   {
    "duration": 10,
    "start_time": "2023-05-09T18:17:57.137Z"
   },
   {
    "duration": 25,
    "start_time": "2023-05-09T18:17:57.149Z"
   },
   {
    "duration": 136,
    "start_time": "2023-05-09T18:17:57.177Z"
   },
   {
    "duration": 38,
    "start_time": "2023-05-09T18:17:57.315Z"
   },
   {
    "duration": 15,
    "start_time": "2023-05-09T18:17:57.355Z"
   },
   {
    "duration": 7,
    "start_time": "2023-05-09T18:17:57.372Z"
   },
   {
    "duration": 140,
    "start_time": "2023-05-09T18:17:57.381Z"
   },
   {
    "duration": 151,
    "start_time": "2023-05-09T18:17:57.525Z"
   },
   {
    "duration": 7,
    "start_time": "2023-05-09T18:17:57.678Z"
   },
   {
    "duration": 33,
    "start_time": "2023-05-09T18:17:57.686Z"
   },
   {
    "duration": 34,
    "start_time": "2023-05-09T18:17:57.721Z"
   },
   {
    "duration": 15,
    "start_time": "2023-05-09T18:17:57.757Z"
   },
   {
    "duration": 16,
    "start_time": "2023-05-09T18:17:57.774Z"
   },
   {
    "duration": 68,
    "start_time": "2023-05-09T18:17:57.792Z"
   },
   {
    "duration": 28,
    "start_time": "2023-05-09T18:17:57.863Z"
   },
   {
    "duration": 20,
    "start_time": "2023-05-09T18:17:57.893Z"
   },
   {
    "duration": 17,
    "start_time": "2023-05-09T18:17:57.915Z"
   },
   {
    "duration": 10,
    "start_time": "2023-05-09T18:17:57.935Z"
   },
   {
    "duration": 24,
    "start_time": "2023-05-09T18:17:57.946Z"
   },
   {
    "duration": 15,
    "start_time": "2023-05-09T18:17:57.973Z"
   },
   {
    "duration": 56,
    "start_time": "2023-05-10T09:43:07.482Z"
   },
   {
    "duration": 1487,
    "start_time": "2023-05-10T09:43:10.786Z"
   },
   {
    "duration": 1051,
    "start_time": "2023-05-10T09:43:12.275Z"
   },
   {
    "duration": 94,
    "start_time": "2023-05-10T09:43:13.329Z"
   },
   {
    "duration": 94,
    "start_time": "2023-05-10T09:43:13.427Z"
   },
   {
    "duration": 215,
    "start_time": "2023-05-10T09:43:13.523Z"
   },
   {
    "duration": 159,
    "start_time": "2023-05-10T09:43:13.740Z"
   },
   {
    "duration": 45,
    "start_time": "2023-05-10T09:43:13.904Z"
   },
   {
    "duration": 44,
    "start_time": "2023-05-10T09:43:13.952Z"
   },
   {
    "duration": 44,
    "start_time": "2023-05-10T09:43:13.998Z"
   },
   {
    "duration": 86,
    "start_time": "2023-05-10T09:43:14.046Z"
   },
   {
    "duration": 7,
    "start_time": "2023-05-10T09:43:14.135Z"
   },
   {
    "duration": 342,
    "start_time": "2023-05-10T09:43:14.144Z"
   },
   {
    "duration": 29,
    "start_time": "2023-05-10T09:43:14.488Z"
   },
   {
    "duration": 8,
    "start_time": "2023-05-10T09:43:14.519Z"
   },
   {
    "duration": 10,
    "start_time": "2023-05-10T09:43:14.529Z"
   },
   {
    "duration": 66,
    "start_time": "2023-05-10T09:43:14.541Z"
   },
   {
    "duration": 107,
    "start_time": "2023-05-10T09:43:14.609Z"
   },
   {
    "duration": 32,
    "start_time": "2023-05-10T09:43:14.718Z"
   },
   {
    "duration": 16,
    "start_time": "2023-05-10T09:43:14.752Z"
   },
   {
    "duration": 17,
    "start_time": "2023-05-10T09:43:14.789Z"
   },
   {
    "duration": 89,
    "start_time": "2023-05-10T09:43:14.809Z"
   },
   {
    "duration": 123,
    "start_time": "2023-05-10T09:43:14.900Z"
   },
   {
    "duration": 5,
    "start_time": "2023-05-10T09:43:15.025Z"
   },
   {
    "duration": 26,
    "start_time": "2023-05-10T09:43:15.032Z"
   },
   {
    "duration": 42,
    "start_time": "2023-05-10T09:43:15.060Z"
   },
   {
    "duration": 29,
    "start_time": "2023-05-10T09:43:15.105Z"
   },
   {
    "duration": 12,
    "start_time": "2023-05-10T09:43:15.136Z"
   },
   {
    "duration": 13,
    "start_time": "2023-05-10T09:43:15.152Z"
   },
   {
    "duration": 29,
    "start_time": "2023-05-10T09:43:15.167Z"
   },
   {
    "duration": 12,
    "start_time": "2023-05-10T09:43:15.197Z"
   },
   {
    "duration": 19,
    "start_time": "2023-05-10T09:43:15.211Z"
   },
   {
    "duration": 16,
    "start_time": "2023-05-10T09:43:15.232Z"
   },
   {
    "duration": 13,
    "start_time": "2023-05-10T09:43:15.250Z"
   },
   {
    "duration": 34,
    "start_time": "2023-05-10T09:43:15.265Z"
   },
   {
    "duration": 177,
    "start_time": "2023-05-10T09:48:55.461Z"
   },
   {
    "duration": 189,
    "start_time": "2023-05-10T09:49:01.314Z"
   },
   {
    "duration": 170,
    "start_time": "2023-05-10T09:50:19.260Z"
   },
   {
    "duration": 0,
    "start_time": "2023-05-10T09:51:36.152Z"
   },
   {
    "duration": 20177,
    "start_time": "2023-05-10T09:52:31.789Z"
   },
   {
    "duration": 63,
    "start_time": "2023-05-10T09:53:35.871Z"
   },
   {
    "duration": 54,
    "start_time": "2023-05-10T09:53:44.510Z"
   },
   {
    "duration": 53,
    "start_time": "2023-05-10T09:53:55.820Z"
   },
   {
    "duration": 65,
    "start_time": "2023-05-10T09:59:27.469Z"
   },
   {
    "duration": 43,
    "start_time": "2023-05-10T10:05:28.836Z"
   },
   {
    "duration": 105,
    "start_time": "2023-05-10T10:05:57.764Z"
   },
   {
    "duration": 175,
    "start_time": "2023-05-10T10:06:23.555Z"
   },
   {
    "duration": 262,
    "start_time": "2023-05-10T10:07:38.311Z"
   },
   {
    "duration": 242,
    "start_time": "2023-05-10T10:08:06.484Z"
   },
   {
    "duration": 261,
    "start_time": "2023-05-10T10:12:42.051Z"
   },
   {
    "duration": 251,
    "start_time": "2023-05-10T10:14:49.651Z"
   },
   {
    "duration": 35,
    "start_time": "2023-05-10T10:19:45.940Z"
   },
   {
    "duration": 51,
    "start_time": "2023-05-10T10:19:52.517Z"
   },
   {
    "duration": 64,
    "start_time": "2023-05-10T10:19:59.259Z"
   },
   {
    "duration": 57,
    "start_time": "2023-05-10T10:20:13.180Z"
   },
   {
    "duration": 72,
    "start_time": "2023-05-10T10:20:43.860Z"
   },
   {
    "duration": 54,
    "start_time": "2023-05-10T10:26:49.738Z"
   },
   {
    "duration": 86,
    "start_time": "2023-05-10T10:27:21.139Z"
   },
   {
    "duration": 74,
    "start_time": "2023-05-10T10:27:34.724Z"
   },
   {
    "duration": 81,
    "start_time": "2023-05-10T10:27:58.493Z"
   },
   {
    "duration": 47,
    "start_time": "2023-05-10T10:46:04.675Z"
   },
   {
    "duration": 73,
    "start_time": "2023-05-10T10:46:23.910Z"
   },
   {
    "duration": 95,
    "start_time": "2023-05-10T10:46:41.610Z"
   },
   {
    "duration": 79,
    "start_time": "2023-05-10T10:47:57.190Z"
   },
   {
    "duration": 99,
    "start_time": "2023-05-10T10:49:16.826Z"
   },
   {
    "duration": 85,
    "start_time": "2023-05-10T10:49:33.162Z"
   },
   {
    "duration": 51,
    "start_time": "2023-05-10T10:52:06.410Z"
   },
   {
    "duration": 82,
    "start_time": "2023-05-10T10:52:17.426Z"
   },
   {
    "duration": 108,
    "start_time": "2023-05-10T10:52:34.985Z"
   },
   {
    "duration": 82,
    "start_time": "2023-05-10T10:53:24.643Z"
   },
   {
    "duration": 98,
    "start_time": "2023-05-10T10:53:55.850Z"
   },
   {
    "duration": 76,
    "start_time": "2023-05-10T10:54:18.243Z"
   },
   {
    "duration": 78,
    "start_time": "2023-05-10T10:54:43.359Z"
   },
   {
    "duration": 84,
    "start_time": "2023-05-10T10:55:08.057Z"
   },
   {
    "duration": 86,
    "start_time": "2023-05-10T10:55:18.369Z"
   },
   {
    "duration": 87,
    "start_time": "2023-05-10T10:55:32.825Z"
   },
   {
    "duration": 89,
    "start_time": "2023-05-10T10:57:01.369Z"
   },
   {
    "duration": 88,
    "start_time": "2023-05-10T10:57:20.057Z"
   },
   {
    "duration": 18,
    "start_time": "2023-05-10T10:57:45.117Z"
   },
   {
    "duration": 138,
    "start_time": "2023-05-10T10:58:29.425Z"
   },
   {
    "duration": 100,
    "start_time": "2023-05-10T10:58:55.933Z"
   },
   {
    "duration": 115,
    "start_time": "2023-05-10T10:59:00.069Z"
   },
   {
    "duration": 1060,
    "start_time": "2023-05-10T11:00:58.776Z"
   },
   {
    "duration": 20,
    "start_time": "2023-05-10T11:01:20.821Z"
   },
   {
    "duration": 1080,
    "start_time": "2023-05-10T11:02:07.065Z"
   },
   {
    "duration": 1255,
    "start_time": "2023-05-10T11:02:38.518Z"
   },
   {
    "duration": 24,
    "start_time": "2023-05-10T11:03:41.309Z"
   },
   {
    "duration": 1011,
    "start_time": "2023-05-10T11:04:43.849Z"
   },
   {
    "duration": 1386,
    "start_time": "2023-05-10T11:04:49.686Z"
   },
   {
    "duration": 1524,
    "start_time": "2023-05-10T11:04:59.897Z"
   },
   {
    "duration": 1588,
    "start_time": "2023-05-10T11:05:04.495Z"
   },
   {
    "duration": 35,
    "start_time": "2023-05-10T11:05:12.787Z"
   },
   {
    "duration": 8,
    "start_time": "2023-05-10T11:10:37.108Z"
   },
   {
    "duration": 22,
    "start_time": "2023-05-10T11:10:43.403Z"
   },
   {
    "duration": 17,
    "start_time": "2023-05-10T11:11:23.569Z"
   },
   {
    "duration": 6,
    "start_time": "2023-05-10T11:12:33.943Z"
   },
   {
    "duration": 91,
    "start_time": "2023-05-10T11:12:37.359Z"
   },
   {
    "duration": 55,
    "start_time": "2023-05-10T16:45:40.881Z"
   },
   {
    "duration": 1689,
    "start_time": "2023-05-10T16:45:49.080Z"
   },
   {
    "duration": 73,
    "start_time": "2023-05-10T16:46:03.719Z"
   },
   {
    "duration": 524,
    "start_time": "2023-05-10T16:46:14.738Z"
   },
   {
    "duration": 6,
    "start_time": "2023-05-10T17:16:44.452Z"
   },
   {
    "duration": 91,
    "start_time": "2023-05-10T17:17:36.947Z"
   },
   {
    "duration": 5,
    "start_time": "2023-05-10T17:17:42.778Z"
   },
   {
    "duration": 5,
    "start_time": "2023-05-10T17:17:50.875Z"
   },
   {
    "duration": 5,
    "start_time": "2023-05-10T17:19:46.470Z"
   },
   {
    "duration": 15,
    "start_time": "2023-05-10T17:20:42.767Z"
   },
   {
    "duration": 4,
    "start_time": "2023-05-10T17:20:49.206Z"
   },
   {
    "duration": 1119,
    "start_time": "2023-05-10T17:20:49.221Z"
   },
   {
    "duration": 109,
    "start_time": "2023-05-10T17:20:50.343Z"
   },
   {
    "duration": 92,
    "start_time": "2023-05-10T17:20:50.454Z"
   },
   {
    "duration": 238,
    "start_time": "2023-05-10T17:20:50.547Z"
   },
   {
    "duration": 161,
    "start_time": "2023-05-10T17:20:50.790Z"
   },
   {
    "duration": 282,
    "start_time": "2023-05-10T17:20:50.952Z"
   },
   {
    "duration": 20,
    "start_time": "2023-05-10T17:20:51.235Z"
   },
   {
    "duration": 64,
    "start_time": "2023-05-10T17:20:51.257Z"
   },
   {
    "duration": 81,
    "start_time": "2023-05-10T17:20:51.323Z"
   },
   {
    "duration": 6,
    "start_time": "2023-05-10T17:20:51.406Z"
   },
   {
    "duration": 388,
    "start_time": "2023-05-10T17:20:51.414Z"
   },
   {
    "duration": 200,
    "start_time": "2023-05-10T17:20:51.804Z"
   },
   {
    "duration": 9,
    "start_time": "2023-05-10T17:20:52.006Z"
   },
   {
    "duration": 11,
    "start_time": "2023-05-10T17:20:52.020Z"
   },
   {
    "duration": 30,
    "start_time": "2023-05-10T17:20:52.033Z"
   },
   {
    "duration": 131,
    "start_time": "2023-05-10T17:20:52.065Z"
   },
   {
    "duration": 38,
    "start_time": "2023-05-10T17:20:52.200Z"
   },
   {
    "duration": 17,
    "start_time": "2023-05-10T17:20:52.240Z"
   },
   {
    "duration": 76,
    "start_time": "2023-05-10T17:20:52.259Z"
   },
   {
    "duration": 5,
    "start_time": "2023-05-10T17:20:52.338Z"
   },
   {
    "duration": 104,
    "start_time": "2023-05-10T17:20:52.345Z"
   },
   {
    "duration": 133,
    "start_time": "2023-05-10T17:20:52.451Z"
   },
   {
    "duration": 18,
    "start_time": "2023-05-10T17:20:52.585Z"
   },
   {
    "duration": 7,
    "start_time": "2023-05-10T17:20:52.605Z"
   },
   {
    "duration": 18,
    "start_time": "2023-05-10T17:20:52.614Z"
   },
   {
    "duration": 13,
    "start_time": "2023-05-10T17:20:52.635Z"
   },
   {
    "duration": 6,
    "start_time": "2023-05-10T17:20:52.651Z"
   },
   {
    "duration": 41,
    "start_time": "2023-05-10T17:20:52.659Z"
   },
   {
    "duration": 15,
    "start_time": "2023-05-10T17:20:52.705Z"
   },
   {
    "duration": 21,
    "start_time": "2023-05-10T17:20:52.722Z"
   },
   {
    "duration": 15,
    "start_time": "2023-05-10T17:20:52.745Z"
   },
   {
    "duration": 39,
    "start_time": "2023-05-10T17:20:52.763Z"
   },
   {
    "duration": 9,
    "start_time": "2023-05-10T17:20:52.806Z"
   },
   {
    "duration": 12,
    "start_time": "2023-05-10T17:20:52.817Z"
   },
   {
    "duration": 6,
    "start_time": "2023-05-10T17:20:52.831Z"
   },
   {
    "duration": 11,
    "start_time": "2023-05-10T17:20:52.839Z"
   },
   {
    "duration": 11,
    "start_time": "2023-05-10T17:21:31.837Z"
   },
   {
    "duration": 13,
    "start_time": "2023-05-10T17:21:52.006Z"
   },
   {
    "duration": 10,
    "start_time": "2023-05-10T17:22:17.102Z"
   },
   {
    "duration": 1606,
    "start_time": "2023-05-11T14:24:29.398Z"
   },
   {
    "duration": 226,
    "start_time": "2023-05-11T14:24:31.008Z"
   },
   {
    "duration": 109,
    "start_time": "2023-05-11T14:24:31.236Z"
   },
   {
    "duration": 105,
    "start_time": "2023-05-11T14:24:31.348Z"
   },
   {
    "duration": 280,
    "start_time": "2023-05-11T14:24:31.455Z"
   },
   {
    "duration": 177,
    "start_time": "2023-05-11T14:24:31.736Z"
   },
   {
    "duration": 265,
    "start_time": "2023-05-11T14:24:31.922Z"
   },
   {
    "duration": 32,
    "start_time": "2023-05-11T14:24:32.189Z"
   },
   {
    "duration": 70,
    "start_time": "2023-05-11T14:24:32.228Z"
   },
   {
    "duration": 84,
    "start_time": "2023-05-11T14:24:32.302Z"
   },
   {
    "duration": 5,
    "start_time": "2023-05-11T14:24:32.388Z"
   },
   {
    "duration": 392,
    "start_time": "2023-05-11T14:24:32.395Z"
   },
   {
    "duration": 112,
    "start_time": "2023-05-11T14:24:32.789Z"
   },
   {
    "duration": 9,
    "start_time": "2023-05-11T14:24:32.903Z"
   },
   {
    "duration": 14,
    "start_time": "2023-05-11T14:24:32.914Z"
   },
   {
    "duration": 37,
    "start_time": "2023-05-11T14:24:32.930Z"
   },
   {
    "duration": 150,
    "start_time": "2023-05-11T14:24:32.971Z"
   },
   {
    "duration": 44,
    "start_time": "2023-05-11T14:24:33.128Z"
   },
   {
    "duration": 16,
    "start_time": "2023-05-11T14:24:33.173Z"
   },
   {
    "duration": 668,
    "start_time": "2023-05-11T14:24:33.190Z"
   },
   {
    "duration": 6,
    "start_time": "2023-05-11T14:24:33.861Z"
   },
   {
    "duration": 179,
    "start_time": "2023-05-11T14:24:33.870Z"
   },
   {
    "duration": 157,
    "start_time": "2023-05-11T14:24:34.051Z"
   },
   {
    "duration": 8,
    "start_time": "2023-05-11T14:24:34.209Z"
   },
   {
    "duration": 25,
    "start_time": "2023-05-11T14:24:34.218Z"
   },
   {
    "duration": 22,
    "start_time": "2023-05-11T14:24:34.248Z"
   },
   {
    "duration": 12,
    "start_time": "2023-05-11T14:24:34.272Z"
   },
   {
    "duration": 13,
    "start_time": "2023-05-11T14:24:34.289Z"
   },
   {
    "duration": 41,
    "start_time": "2023-05-11T14:24:34.304Z"
   },
   {
    "duration": 17,
    "start_time": "2023-05-11T14:24:34.348Z"
   },
   {
    "duration": 25,
    "start_time": "2023-05-11T14:24:34.367Z"
   },
   {
    "duration": 14,
    "start_time": "2023-05-11T14:24:34.395Z"
   },
   {
    "duration": 21,
    "start_time": "2023-05-11T14:24:34.411Z"
   },
   {
    "duration": 42,
    "start_time": "2023-05-11T14:24:34.440Z"
   },
   {
    "duration": 61,
    "start_time": "2023-05-11T14:24:34.485Z"
   },
   {
    "duration": 15,
    "start_time": "2023-05-11T14:24:34.548Z"
   },
   {
    "duration": 17,
    "start_time": "2023-05-11T14:24:34.566Z"
   },
   {
    "duration": 18,
    "start_time": "2023-05-11T14:24:34.585Z"
   },
   {
    "duration": 18,
    "start_time": "2023-05-11T14:24:34.605Z"
   },
   {
    "duration": 36,
    "start_time": "2023-05-11T14:24:34.626Z"
   }
  ],
  "kernelspec": {
   "display_name": "Python 3 (ipykernel)",
   "language": "python",
   "name": "python3"
  },
  "language_info": {
   "codemirror_mode": {
    "name": "ipython",
    "version": 3
   },
   "file_extension": ".py",
   "mimetype": "text/x-python",
   "name": "python",
   "nbconvert_exporter": "python",
   "pygments_lexer": "ipython3",
   "version": "3.9.15"
  },
  "toc": {
   "base_numbering": 1,
   "nav_menu": {},
   "number_sections": true,
   "sideBar": true,
   "skip_h1_title": true,
   "title_cell": "Table of Contents",
   "title_sidebar": "Contents",
   "toc_cell": false,
   "toc_position": {},
   "toc_section_display": true,
   "toc_window_display": false
  }
 },
 "nbformat": 4,
 "nbformat_minor": 2
}
