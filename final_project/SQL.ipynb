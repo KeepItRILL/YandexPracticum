{
 "cells": [
  {
   "cell_type": "markdown",
   "metadata": {},
   "source": [
    "# Проект по SQL"
   ]
  },
  {
   "cell_type": "markdown",
   "metadata": {},
   "source": [
    "В рамках работы предстоит проанализировать данные крупного сервиса для чтения книг по подписке. Основная задача — проанализировать базу данных.\n",
    "В ней — информация о книгах, издательствах, авторах, а также пользовательские обзоры книг. Эти данные помогут сформулировать ценностное предложение для нового продукта."
   ]
  },
  {
   "cell_type": "markdown",
   "metadata": {},
   "source": [
    "**Описание данных:** \n",
    "\n",
    "**Таблица \"books\"**\n",
    "Содержит данные о книгах:\n",
    "book_id — идентификатор книги;\n",
    "author_id — идентификатор автора;\n",
    "title — название книги;\n",
    "num_pages — количество страниц;\n",
    "publication_date — дата публикации книги;\n",
    "publisher_id — идентификатор издателя.\n",
    "\n",
    "**Таблица \"authors\"**\n",
    "Содержит данные об авторах:\n",
    "author_id — идентификатор автора;\n",
    "author — имя автора.\n",
    "\n",
    "**Таблица \"publishers\"**\n",
    "Содержит данные об издательствах:\n",
    "publisher_id — идентификатор издательства;\n",
    "publisher — название издательства;\n",
    "\n",
    "**Таблица \"ratings\"**\n",
    "Содержит данные о пользовательских оценках книг:\n",
    "rating_id — идентификатор оценки;\n",
    "book_id — идентификатор книги;\n",
    "username — имя пользователя, оставившего оценку;\n",
    "rating — оценка книги.\n",
    "\n",
    "**Таблица \"reviews\"**\n",
    "Содержит данные о пользовательских обзорах:\n",
    "review_id — идентификатор обзора;\n",
    "book_id — идентификатор книги;\n",
    "username — имя автора обзора;\n",
    "text — текст обзора."
   ]
  },
  {
   "cell_type": "markdown",
   "metadata": {},
   "source": [
    "# Основная часть"
   ]
  },
  {
   "cell_type": "code",
   "execution_count": 2,
   "metadata": {},
   "outputs": [],
   "source": [
    "# импортируем библиотеки\n",
    "import pandas as pd\n",
    "from sqlalchemy import text, create_engine\n"
   ]
  },
  {
   "cell_type": "code",
   "execution_count": 3,
   "metadata": {},
   "outputs": [],
   "source": [
    "# устанавливаем параметры\n",
    "db_config = {'user': 'praktikum_student', # имя пользователя\n",
    "'pwd': 'Sdf4$2;d-d30pp', # пароль\n",
    "'host': 'rc1b-wcoijxj3yxfsf3fs.mdb.yandexcloud.net',\n",
    "'port': 6432, # порт подключения\n",
    "'db': 'data-analyst-final-project-db'} # название базы данных\n",
    "connection_string = 'postgresql://{user}:{pwd}@{host}:{port}/{db}'.format(**db_config)\n",
    "# сохраняем коннектор\n",
    "engine = create_engine(connection_string, connect_args={'sslmode':'require'})\n"
   ]
  },
  {
   "cell_type": "code",
   "execution_count": 4,
   "metadata": {},
   "outputs": [],
   "source": [
    "# создадим функцию для вывода запроов\n",
    "def result(query):\n",
    "    con=engine.connect()\n",
    "    f = pd.io.sql.read_sql(sql=text(query), con = con)\n",
    "    return f"
   ]
  },
  {
   "cell_type": "markdown",
   "metadata": {},
   "source": [
    "Выведем исходные данные"
   ]
  },
  {
   "cell_type": "code",
   "execution_count": 5,
   "metadata": {},
   "outputs": [
    {
     "data": {
      "text/html": [
       "<div>\n",
       "<style scoped>\n",
       "    .dataframe tbody tr th:only-of-type {\n",
       "        vertical-align: middle;\n",
       "    }\n",
       "\n",
       "    .dataframe tbody tr th {\n",
       "        vertical-align: top;\n",
       "    }\n",
       "\n",
       "    .dataframe thead th {\n",
       "        text-align: right;\n",
       "    }\n",
       "</style>\n",
       "<table border=\"1\" class=\"dataframe\">\n",
       "  <thead>\n",
       "    <tr style=\"text-align: right;\">\n",
       "      <th></th>\n",
       "      <th>book_id</th>\n",
       "      <th>author_id</th>\n",
       "      <th>title</th>\n",
       "      <th>num_pages</th>\n",
       "      <th>publication_date</th>\n",
       "      <th>publisher_id</th>\n",
       "    </tr>\n",
       "  </thead>\n",
       "  <tbody>\n",
       "    <tr>\n",
       "      <th>0</th>\n",
       "      <td>1</td>\n",
       "      <td>546</td>\n",
       "      <td>'Salem's Lot</td>\n",
       "      <td>594</td>\n",
       "      <td>2005-11-01</td>\n",
       "      <td>93</td>\n",
       "    </tr>\n",
       "    <tr>\n",
       "      <th>1</th>\n",
       "      <td>2</td>\n",
       "      <td>465</td>\n",
       "      <td>1 000 Places to See Before You Die</td>\n",
       "      <td>992</td>\n",
       "      <td>2003-05-22</td>\n",
       "      <td>336</td>\n",
       "    </tr>\n",
       "    <tr>\n",
       "      <th>2</th>\n",
       "      <td>3</td>\n",
       "      <td>407</td>\n",
       "      <td>13 Little Blue Envelopes (Little Blue Envelope...</td>\n",
       "      <td>322</td>\n",
       "      <td>2010-12-21</td>\n",
       "      <td>135</td>\n",
       "    </tr>\n",
       "    <tr>\n",
       "      <th>3</th>\n",
       "      <td>4</td>\n",
       "      <td>82</td>\n",
       "      <td>1491: New Revelations of the Americas Before C...</td>\n",
       "      <td>541</td>\n",
       "      <td>2006-10-10</td>\n",
       "      <td>309</td>\n",
       "    </tr>\n",
       "    <tr>\n",
       "      <th>4</th>\n",
       "      <td>5</td>\n",
       "      <td>125</td>\n",
       "      <td>1776</td>\n",
       "      <td>386</td>\n",
       "      <td>2006-07-04</td>\n",
       "      <td>268</td>\n",
       "    </tr>\n",
       "  </tbody>\n",
       "</table>\n",
       "</div>"
      ],
      "text/plain": [
       "   book_id  author_id                                              title  \\\n",
       "0        1        546                                       'Salem's Lot   \n",
       "1        2        465                 1 000 Places to See Before You Die   \n",
       "2        3        407  13 Little Blue Envelopes (Little Blue Envelope...   \n",
       "3        4         82  1491: New Revelations of the Americas Before C...   \n",
       "4        5        125                                               1776   \n",
       "\n",
       "   num_pages publication_date  publisher_id  \n",
       "0        594       2005-11-01            93  \n",
       "1        992       2003-05-22           336  \n",
       "2        322       2010-12-21           135  \n",
       "3        541       2006-10-10           309  \n",
       "4        386       2006-07-04           268  "
      ]
     },
     "execution_count": 5,
     "metadata": {},
     "output_type": "execute_result"
    }
   ],
   "source": [
    "# по таблице с книгами\n",
    "q = '''SELECT * FROM books LIMIT 5'''\n",
    "result(q)"
   ]
  },
  {
   "cell_type": "code",
   "execution_count": 6,
   "metadata": {},
   "outputs": [
    {
     "data": {
      "text/html": [
       "<div>\n",
       "<style scoped>\n",
       "    .dataframe tbody tr th:only-of-type {\n",
       "        vertical-align: middle;\n",
       "    }\n",
       "\n",
       "    .dataframe tbody tr th {\n",
       "        vertical-align: top;\n",
       "    }\n",
       "\n",
       "    .dataframe thead th {\n",
       "        text-align: right;\n",
       "    }\n",
       "</style>\n",
       "<table border=\"1\" class=\"dataframe\">\n",
       "  <thead>\n",
       "    <tr style=\"text-align: right;\">\n",
       "      <th></th>\n",
       "      <th>author_id</th>\n",
       "      <th>author</th>\n",
       "    </tr>\n",
       "  </thead>\n",
       "  <tbody>\n",
       "    <tr>\n",
       "      <th>0</th>\n",
       "      <td>1</td>\n",
       "      <td>A.S. Byatt</td>\n",
       "    </tr>\n",
       "    <tr>\n",
       "      <th>1</th>\n",
       "      <td>2</td>\n",
       "      <td>Aesop/Laura Harris/Laura Gibbs</td>\n",
       "    </tr>\n",
       "    <tr>\n",
       "      <th>2</th>\n",
       "      <td>3</td>\n",
       "      <td>Agatha Christie</td>\n",
       "    </tr>\n",
       "    <tr>\n",
       "      <th>3</th>\n",
       "      <td>4</td>\n",
       "      <td>Alan Brennert</td>\n",
       "    </tr>\n",
       "    <tr>\n",
       "      <th>4</th>\n",
       "      <td>5</td>\n",
       "      <td>Alan Moore/David   Lloyd</td>\n",
       "    </tr>\n",
       "  </tbody>\n",
       "</table>\n",
       "</div>"
      ],
      "text/plain": [
       "   author_id                          author\n",
       "0          1                      A.S. Byatt\n",
       "1          2  Aesop/Laura Harris/Laura Gibbs\n",
       "2          3                 Agatha Christie\n",
       "3          4                   Alan Brennert\n",
       "4          5        Alan Moore/David   Lloyd"
      ]
     },
     "execution_count": 6,
     "metadata": {},
     "output_type": "execute_result"
    }
   ],
   "source": [
    "q = '''SELECT * FROM authors LIMIT 5'''\n",
    "result(q)"
   ]
  },
  {
   "cell_type": "code",
   "execution_count": 7,
   "metadata": {},
   "outputs": [
    {
     "data": {
      "text/html": [
       "<div>\n",
       "<style scoped>\n",
       "    .dataframe tbody tr th:only-of-type {\n",
       "        vertical-align: middle;\n",
       "    }\n",
       "\n",
       "    .dataframe tbody tr th {\n",
       "        vertical-align: top;\n",
       "    }\n",
       "\n",
       "    .dataframe thead th {\n",
       "        text-align: right;\n",
       "    }\n",
       "</style>\n",
       "<table border=\"1\" class=\"dataframe\">\n",
       "  <thead>\n",
       "    <tr style=\"text-align: right;\">\n",
       "      <th></th>\n",
       "      <th>publisher_id</th>\n",
       "      <th>publisher</th>\n",
       "    </tr>\n",
       "  </thead>\n",
       "  <tbody>\n",
       "    <tr>\n",
       "      <th>0</th>\n",
       "      <td>1</td>\n",
       "      <td>Ace</td>\n",
       "    </tr>\n",
       "    <tr>\n",
       "      <th>1</th>\n",
       "      <td>2</td>\n",
       "      <td>Ace Book</td>\n",
       "    </tr>\n",
       "    <tr>\n",
       "      <th>2</th>\n",
       "      <td>3</td>\n",
       "      <td>Ace Books</td>\n",
       "    </tr>\n",
       "    <tr>\n",
       "      <th>3</th>\n",
       "      <td>4</td>\n",
       "      <td>Ace Hardcover</td>\n",
       "    </tr>\n",
       "    <tr>\n",
       "      <th>4</th>\n",
       "      <td>5</td>\n",
       "      <td>Addison Wesley Publishing Company</td>\n",
       "    </tr>\n",
       "  </tbody>\n",
       "</table>\n",
       "</div>"
      ],
      "text/plain": [
       "   publisher_id                          publisher\n",
       "0             1                                Ace\n",
       "1             2                           Ace Book\n",
       "2             3                          Ace Books\n",
       "3             4                      Ace Hardcover\n",
       "4             5  Addison Wesley Publishing Company"
      ]
     },
     "execution_count": 7,
     "metadata": {},
     "output_type": "execute_result"
    }
   ],
   "source": [
    "q = '''SELECT * FROM publishers LIMIT 5'''\n",
    "result(q)"
   ]
  },
  {
   "cell_type": "code",
   "execution_count": 8,
   "metadata": {},
   "outputs": [
    {
     "data": {
      "text/html": [
       "<div>\n",
       "<style scoped>\n",
       "    .dataframe tbody tr th:only-of-type {\n",
       "        vertical-align: middle;\n",
       "    }\n",
       "\n",
       "    .dataframe tbody tr th {\n",
       "        vertical-align: top;\n",
       "    }\n",
       "\n",
       "    .dataframe thead th {\n",
       "        text-align: right;\n",
       "    }\n",
       "</style>\n",
       "<table border=\"1\" class=\"dataframe\">\n",
       "  <thead>\n",
       "    <tr style=\"text-align: right;\">\n",
       "      <th></th>\n",
       "      <th>rating_id</th>\n",
       "      <th>book_id</th>\n",
       "      <th>username</th>\n",
       "      <th>rating</th>\n",
       "    </tr>\n",
       "  </thead>\n",
       "  <tbody>\n",
       "    <tr>\n",
       "      <th>0</th>\n",
       "      <td>1</td>\n",
       "      <td>1</td>\n",
       "      <td>ryanfranco</td>\n",
       "      <td>4</td>\n",
       "    </tr>\n",
       "    <tr>\n",
       "      <th>1</th>\n",
       "      <td>2</td>\n",
       "      <td>1</td>\n",
       "      <td>grantpatricia</td>\n",
       "      <td>2</td>\n",
       "    </tr>\n",
       "    <tr>\n",
       "      <th>2</th>\n",
       "      <td>3</td>\n",
       "      <td>1</td>\n",
       "      <td>brandtandrea</td>\n",
       "      <td>5</td>\n",
       "    </tr>\n",
       "    <tr>\n",
       "      <th>3</th>\n",
       "      <td>4</td>\n",
       "      <td>2</td>\n",
       "      <td>lorichen</td>\n",
       "      <td>3</td>\n",
       "    </tr>\n",
       "    <tr>\n",
       "      <th>4</th>\n",
       "      <td>5</td>\n",
       "      <td>2</td>\n",
       "      <td>mariokeller</td>\n",
       "      <td>2</td>\n",
       "    </tr>\n",
       "  </tbody>\n",
       "</table>\n",
       "</div>"
      ],
      "text/plain": [
       "   rating_id  book_id       username  rating\n",
       "0          1        1     ryanfranco       4\n",
       "1          2        1  grantpatricia       2\n",
       "2          3        1   brandtandrea       5\n",
       "3          4        2       lorichen       3\n",
       "4          5        2    mariokeller       2"
      ]
     },
     "execution_count": 8,
     "metadata": {},
     "output_type": "execute_result"
    }
   ],
   "source": [
    "q = '''SELECT * FROM ratings LIMIT 5'''\n",
    "result(q)"
   ]
  },
  {
   "cell_type": "code",
   "execution_count": 9,
   "metadata": {},
   "outputs": [
    {
     "data": {
      "text/html": [
       "<div>\n",
       "<style scoped>\n",
       "    .dataframe tbody tr th:only-of-type {\n",
       "        vertical-align: middle;\n",
       "    }\n",
       "\n",
       "    .dataframe tbody tr th {\n",
       "        vertical-align: top;\n",
       "    }\n",
       "\n",
       "    .dataframe thead th {\n",
       "        text-align: right;\n",
       "    }\n",
       "</style>\n",
       "<table border=\"1\" class=\"dataframe\">\n",
       "  <thead>\n",
       "    <tr style=\"text-align: right;\">\n",
       "      <th></th>\n",
       "      <th>review_id</th>\n",
       "      <th>book_id</th>\n",
       "      <th>username</th>\n",
       "      <th>text</th>\n",
       "    </tr>\n",
       "  </thead>\n",
       "  <tbody>\n",
       "    <tr>\n",
       "      <th>0</th>\n",
       "      <td>1</td>\n",
       "      <td>1</td>\n",
       "      <td>brandtandrea</td>\n",
       "      <td>Mention society tell send professor analysis. ...</td>\n",
       "    </tr>\n",
       "    <tr>\n",
       "      <th>1</th>\n",
       "      <td>2</td>\n",
       "      <td>1</td>\n",
       "      <td>ryanfranco</td>\n",
       "      <td>Foot glass pretty audience hit themselves. Amo...</td>\n",
       "    </tr>\n",
       "    <tr>\n",
       "      <th>2</th>\n",
       "      <td>3</td>\n",
       "      <td>2</td>\n",
       "      <td>lorichen</td>\n",
       "      <td>Listen treat keep worry. Miss husband tax but ...</td>\n",
       "    </tr>\n",
       "    <tr>\n",
       "      <th>3</th>\n",
       "      <td>4</td>\n",
       "      <td>3</td>\n",
       "      <td>johnsonamanda</td>\n",
       "      <td>Finally month interesting blue could nature cu...</td>\n",
       "    </tr>\n",
       "    <tr>\n",
       "      <th>4</th>\n",
       "      <td>5</td>\n",
       "      <td>3</td>\n",
       "      <td>scotttamara</td>\n",
       "      <td>Nation purpose heavy give wait song will. List...</td>\n",
       "    </tr>\n",
       "  </tbody>\n",
       "</table>\n",
       "</div>"
      ],
      "text/plain": [
       "   review_id  book_id       username  \\\n",
       "0          1        1   brandtandrea   \n",
       "1          2        1     ryanfranco   \n",
       "2          3        2       lorichen   \n",
       "3          4        3  johnsonamanda   \n",
       "4          5        3    scotttamara   \n",
       "\n",
       "                                                text  \n",
       "0  Mention society tell send professor analysis. ...  \n",
       "1  Foot glass pretty audience hit themselves. Amo...  \n",
       "2  Listen treat keep worry. Miss husband tax but ...  \n",
       "3  Finally month interesting blue could nature cu...  \n",
       "4  Nation purpose heavy give wait song will. List...  "
      ]
     },
     "execution_count": 9,
     "metadata": {},
     "output_type": "execute_result"
    }
   ],
   "source": [
    "q = '''SELECT * FROM reviews LIMIT 5'''\n",
    "result(q)"
   ]
  },
  {
   "cell_type": "markdown",
   "metadata": {},
   "source": [
    "**Посчитаем, сколько книг вышло после 1 января 2000 года:**"
   ]
  },
  {
   "cell_type": "code",
   "execution_count": 10,
   "metadata": {},
   "outputs": [
    {
     "data": {
      "text/html": [
       "<div>\n",
       "<style scoped>\n",
       "    .dataframe tbody tr th:only-of-type {\n",
       "        vertical-align: middle;\n",
       "    }\n",
       "\n",
       "    .dataframe tbody tr th {\n",
       "        vertical-align: top;\n",
       "    }\n",
       "\n",
       "    .dataframe thead th {\n",
       "        text-align: right;\n",
       "    }\n",
       "</style>\n",
       "<table border=\"1\" class=\"dataframe\">\n",
       "  <thead>\n",
       "    <tr style=\"text-align: right;\">\n",
       "      <th></th>\n",
       "      <th>count</th>\n",
       "    </tr>\n",
       "  </thead>\n",
       "  <tbody>\n",
       "    <tr>\n",
       "      <th>0</th>\n",
       "      <td>821</td>\n",
       "    </tr>\n",
       "  </tbody>\n",
       "</table>\n",
       "</div>"
      ],
      "text/plain": [
       "   count\n",
       "0    821"
      ]
     },
     "execution_count": 10,
     "metadata": {},
     "output_type": "execute_result"
    }
   ],
   "source": [
    "q = '''SELECT \n",
    "            COUNT(book_id)\n",
    "            FROM books\n",
    "            WHERE  EXTRACT (year from cast(publication_date as timestamp)) >= 2000'''\n",
    "\n",
    "result(q)"
   ]
  },
  {
   "cell_type": "markdown",
   "metadata": {},
   "source": [
    "Всего выпущена 821 книга после 1 января 2000 года"
   ]
  },
  {
   "cell_type": "markdown",
   "metadata": {},
   "source": [
    "**Для каждой книги посчитаем количество обзоров и среднюю оценку**"
   ]
  },
  {
   "cell_type": "code",
   "execution_count": 11,
   "metadata": {},
   "outputs": [
    {
     "data": {
      "text/html": [
       "<div>\n",
       "<style scoped>\n",
       "    .dataframe tbody tr th:only-of-type {\n",
       "        vertical-align: middle;\n",
       "    }\n",
       "\n",
       "    .dataframe tbody tr th {\n",
       "        vertical-align: top;\n",
       "    }\n",
       "\n",
       "    .dataframe thead th {\n",
       "        text-align: right;\n",
       "    }\n",
       "</style>\n",
       "<table border=\"1\" class=\"dataframe\">\n",
       "  <thead>\n",
       "    <tr style=\"text-align: right;\">\n",
       "      <th></th>\n",
       "      <th>title</th>\n",
       "      <th>book_id</th>\n",
       "      <th>count_reviews</th>\n",
       "      <th>avg_rating</th>\n",
       "    </tr>\n",
       "  </thead>\n",
       "  <tbody>\n",
       "    <tr>\n",
       "      <th>0</th>\n",
       "      <td>Twilight (Twilight  #1)</td>\n",
       "      <td>948</td>\n",
       "      <td>7</td>\n",
       "      <td>3.662500</td>\n",
       "    </tr>\n",
       "    <tr>\n",
       "      <th>1</th>\n",
       "      <td>Water for Elephants</td>\n",
       "      <td>963</td>\n",
       "      <td>6</td>\n",
       "      <td>3.977273</td>\n",
       "    </tr>\n",
       "    <tr>\n",
       "      <th>2</th>\n",
       "      <td>The Glass Castle</td>\n",
       "      <td>734</td>\n",
       "      <td>6</td>\n",
       "      <td>4.206897</td>\n",
       "    </tr>\n",
       "    <tr>\n",
       "      <th>3</th>\n",
       "      <td>Harry Potter and the Prisoner of Azkaban (Harr...</td>\n",
       "      <td>302</td>\n",
       "      <td>6</td>\n",
       "      <td>4.414634</td>\n",
       "    </tr>\n",
       "    <tr>\n",
       "      <th>4</th>\n",
       "      <td>The Curious Incident of the Dog in the Night-Time</td>\n",
       "      <td>695</td>\n",
       "      <td>6</td>\n",
       "      <td>4.081081</td>\n",
       "    </tr>\n",
       "    <tr>\n",
       "      <th>...</th>\n",
       "      <td>...</td>\n",
       "      <td>...</td>\n",
       "      <td>...</td>\n",
       "      <td>...</td>\n",
       "    </tr>\n",
       "    <tr>\n",
       "      <th>995</th>\n",
       "      <td>Anne Rice's The Vampire Lestat: A Graphic Novel</td>\n",
       "      <td>83</td>\n",
       "      <td>0</td>\n",
       "      <td>3.666667</td>\n",
       "    </tr>\n",
       "    <tr>\n",
       "      <th>996</th>\n",
       "      <td>The Natural Way to Draw</td>\n",
       "      <td>808</td>\n",
       "      <td>0</td>\n",
       "      <td>3.000000</td>\n",
       "    </tr>\n",
       "    <tr>\n",
       "      <th>997</th>\n",
       "      <td>The Cat in the Hat and Other Dr. Seuss Favorites</td>\n",
       "      <td>672</td>\n",
       "      <td>0</td>\n",
       "      <td>5.000000</td>\n",
       "    </tr>\n",
       "    <tr>\n",
       "      <th>998</th>\n",
       "      <td>Essential Tales and Poems</td>\n",
       "      <td>221</td>\n",
       "      <td>0</td>\n",
       "      <td>4.000000</td>\n",
       "    </tr>\n",
       "    <tr>\n",
       "      <th>999</th>\n",
       "      <td>Disney's Beauty and the Beast (A Little Golden...</td>\n",
       "      <td>191</td>\n",
       "      <td>0</td>\n",
       "      <td>4.000000</td>\n",
       "    </tr>\n",
       "  </tbody>\n",
       "</table>\n",
       "<p>1000 rows × 4 columns</p>\n",
       "</div>"
      ],
      "text/plain": [
       "                                                 title  book_id  \\\n",
       "0                              Twilight (Twilight  #1)      948   \n",
       "1                                  Water for Elephants      963   \n",
       "2                                     The Glass Castle      734   \n",
       "3    Harry Potter and the Prisoner of Azkaban (Harr...      302   \n",
       "4    The Curious Incident of the Dog in the Night-Time      695   \n",
       "..                                                 ...      ...   \n",
       "995    Anne Rice's The Vampire Lestat: A Graphic Novel       83   \n",
       "996                            The Natural Way to Draw      808   \n",
       "997   The Cat in the Hat and Other Dr. Seuss Favorites      672   \n",
       "998                          Essential Tales and Poems      221   \n",
       "999  Disney's Beauty and the Beast (A Little Golden...      191   \n",
       "\n",
       "     count_reviews  avg_rating  \n",
       "0                7    3.662500  \n",
       "1                6    3.977273  \n",
       "2                6    4.206897  \n",
       "3                6    4.414634  \n",
       "4                6    4.081081  \n",
       "..             ...         ...  \n",
       "995              0    3.666667  \n",
       "996              0    3.000000  \n",
       "997              0    5.000000  \n",
       "998              0    4.000000  \n",
       "999              0    4.000000  \n",
       "\n",
       "[1000 rows x 4 columns]"
      ]
     },
     "execution_count": 11,
     "metadata": {},
     "output_type": "execute_result"
    }
   ],
   "source": [
    "q = ''' SELECT\n",
    "                books.title AS title,\n",
    "                books.book_id AS book_id,\n",
    "                COUNT(DISTINCT reviews.review_id) AS count_reviews, \n",
    "                AVG(ratings.rating) AS avg_rating\n",
    "                FROM books\n",
    "            INNER JOIN ratings ON ratings.book_id = books.book_id\n",
    "            LEFT JOIN reviews ON reviews.book_id = books.book_id\n",
    "            GROUP BY\n",
    "                books.title,\n",
    "                books.book_id\n",
    "            ORDER BY\n",
    "                count_reviews DESC'''\n",
    "\n",
    "result(q)"
   ]
  },
  {
   "cell_type": "markdown",
   "metadata": {},
   "source": [
    "Наибольшее количество обзоров наблюдается у книги \"Twilight (Twilight #1)\" - 7\t"
   ]
  },
  {
   "cell_type": "markdown",
   "metadata": {},
   "source": [
    "**Определим издательство, которое выпустило наибольшее число книг толще 50 страниц — так мы исключим из анализа брошюры**"
   ]
  },
  {
   "cell_type": "code",
   "execution_count": 12,
   "metadata": {},
   "outputs": [
    {
     "data": {
      "text/html": [
       "<div>\n",
       "<style scoped>\n",
       "    .dataframe tbody tr th:only-of-type {\n",
       "        vertical-align: middle;\n",
       "    }\n",
       "\n",
       "    .dataframe tbody tr th {\n",
       "        vertical-align: top;\n",
       "    }\n",
       "\n",
       "    .dataframe thead th {\n",
       "        text-align: right;\n",
       "    }\n",
       "</style>\n",
       "<table border=\"1\" class=\"dataframe\">\n",
       "  <thead>\n",
       "    <tr style=\"text-align: right;\">\n",
       "      <th></th>\n",
       "      <th>publisher_id</th>\n",
       "      <th>publisher</th>\n",
       "      <th>books_count</th>\n",
       "    </tr>\n",
       "  </thead>\n",
       "  <tbody>\n",
       "    <tr>\n",
       "      <th>0</th>\n",
       "      <td>212</td>\n",
       "      <td>Penguin Books</td>\n",
       "      <td>42</td>\n",
       "    </tr>\n",
       "    <tr>\n",
       "      <th>1</th>\n",
       "      <td>309</td>\n",
       "      <td>Vintage</td>\n",
       "      <td>31</td>\n",
       "    </tr>\n",
       "    <tr>\n",
       "      <th>2</th>\n",
       "      <td>116</td>\n",
       "      <td>Grand Central Publishing</td>\n",
       "      <td>25</td>\n",
       "    </tr>\n",
       "    <tr>\n",
       "      <th>3</th>\n",
       "      <td>217</td>\n",
       "      <td>Penguin Classics</td>\n",
       "      <td>24</td>\n",
       "    </tr>\n",
       "    <tr>\n",
       "      <th>4</th>\n",
       "      <td>35</td>\n",
       "      <td>Bantam</td>\n",
       "      <td>19</td>\n",
       "    </tr>\n",
       "  </tbody>\n",
       "</table>\n",
       "</div>"
      ],
      "text/plain": [
       "   publisher_id                 publisher  books_count\n",
       "0           212             Penguin Books           42\n",
       "1           309                   Vintage           31\n",
       "2           116  Grand Central Publishing           25\n",
       "3           217          Penguin Classics           24\n",
       "4            35                    Bantam           19"
      ]
     },
     "execution_count": 12,
     "metadata": {},
     "output_type": "execute_result"
    }
   ],
   "source": [
    "q = '''  SELECT \n",
    "                publishers.publisher_id, \n",
    "                publishers.publisher, \n",
    "                COUNT(books.book_id) as books_count\n",
    "            FROM publishers\n",
    "            JOIN books ON publishers.publisher_id = books.publisher_id\n",
    "            WHERE \n",
    "                books.num_pages > 50\n",
    "            GROUP BY publishers.publisher_id\n",
    "            ORDER BY books_count DESC\n",
    "            LIMIT 5'''\n",
    "\n",
    "result(q)"
   ]
  },
  {
   "cell_type": "markdown",
   "metadata": {},
   "source": [
    "Издательство \"Penguin Books\" выпустило 42 книги, с количеством страниц более 50, это самый высокий показатель среди других издательств."
   ]
  },
  {
   "cell_type": "markdown",
   "metadata": {},
   "source": [
    "**Определим автора с самой высокой средней оценкой книг — учитем только книги с 50 и более оценками**"
   ]
  },
  {
   "cell_type": "code",
   "execution_count": 13,
   "metadata": {},
   "outputs": [
    {
     "data": {
      "text/html": [
       "<div>\n",
       "<style scoped>\n",
       "    .dataframe tbody tr th:only-of-type {\n",
       "        vertical-align: middle;\n",
       "    }\n",
       "\n",
       "    .dataframe tbody tr th {\n",
       "        vertical-align: top;\n",
       "    }\n",
       "\n",
       "    .dataframe thead th {\n",
       "        text-align: right;\n",
       "    }\n",
       "</style>\n",
       "<table border=\"1\" class=\"dataframe\">\n",
       "  <thead>\n",
       "    <tr style=\"text-align: right;\">\n",
       "      <th></th>\n",
       "      <th>id</th>\n",
       "      <th>authors</th>\n",
       "      <th>avg</th>\n",
       "      <th>count</th>\n",
       "    </tr>\n",
       "  </thead>\n",
       "  <tbody>\n",
       "    <tr>\n",
       "      <th>0</th>\n",
       "      <td>236</td>\n",
       "      <td>J.K. Rowling/Mary GrandPré</td>\n",
       "      <td>4.288462</td>\n",
       "      <td>312</td>\n",
       "    </tr>\n",
       "    <tr>\n",
       "      <th>1</th>\n",
       "      <td>240</td>\n",
       "      <td>J.R.R. Tolkien</td>\n",
       "      <td>4.240964</td>\n",
       "      <td>166</td>\n",
       "    </tr>\n",
       "    <tr>\n",
       "      <th>2</th>\n",
       "      <td>554</td>\n",
       "      <td>Stephenie Meyer</td>\n",
       "      <td>3.662500</td>\n",
       "      <td>160</td>\n",
       "    </tr>\n",
       "    <tr>\n",
       "      <th>3</th>\n",
       "      <td>106</td>\n",
       "      <td>Dan Brown</td>\n",
       "      <td>3.741259</td>\n",
       "      <td>143</td>\n",
       "    </tr>\n",
       "    <tr>\n",
       "      <th>4</th>\n",
       "      <td>445</td>\n",
       "      <td>Nicholas Sparks</td>\n",
       "      <td>3.882883</td>\n",
       "      <td>111</td>\n",
       "    </tr>\n",
       "  </tbody>\n",
       "</table>\n",
       "</div>"
      ],
      "text/plain": [
       "    id                     authors       avg  count\n",
       "0  236  J.K. Rowling/Mary GrandPré  4.288462    312\n",
       "1  240              J.R.R. Tolkien  4.240964    166\n",
       "2  554             Stephenie Meyer  3.662500    160\n",
       "3  106                   Dan Brown  3.741259    143\n",
       "4  445             Nicholas Sparks  3.882883    111"
      ]
     },
     "execution_count": 13,
     "metadata": {},
     "output_type": "execute_result"
    }
   ],
   "source": [
    "q = ''' SELECT\n",
    "                authors.author_id AS id,\n",
    "                authors.author AS authors,\n",
    "                AVG(ratings.rating) AS avg,\n",
    "                COUNT(ratings.rating) AS count\n",
    "            FROM authors\n",
    "            INNER JOIN books ON books.author_id = authors.author_id\n",
    "            INNER JOIN ratings ON ratings.book_id = books.book_id\n",
    "            GROUP BY\n",
    "                id,\n",
    "                author\n",
    "            HAVING \n",
    "                COUNT(ratings.rating) >= 50                            \n",
    "            ORDER BY\n",
    "            count DESC LIMIT 5\n",
    "                        '''\n",
    "\n",
    "result(q)"
   ]
  },
  {
   "cell_type": "markdown",
   "metadata": {},
   "source": [
    "Автором с самой высокой средней оценкой является J.K. Rowling/Mary GrandPré - 4.29, учитывая только 50 и более книг."
   ]
  },
  {
   "cell_type": "markdown",
   "metadata": {},
   "source": [
    "**Посчитаем среднее количество обзоров от пользователей, которые поставили больше 48 оценок**"
   ]
  },
  {
   "cell_type": "code",
   "execution_count": 14,
   "metadata": {},
   "outputs": [
    {
     "data": {
      "text/html": [
       "<div>\n",
       "<style scoped>\n",
       "    .dataframe tbody tr th:only-of-type {\n",
       "        vertical-align: middle;\n",
       "    }\n",
       "\n",
       "    .dataframe tbody tr th {\n",
       "        vertical-align: top;\n",
       "    }\n",
       "\n",
       "    .dataframe thead th {\n",
       "        text-align: right;\n",
       "    }\n",
       "</style>\n",
       "<table border=\"1\" class=\"dataframe\">\n",
       "  <thead>\n",
       "    <tr style=\"text-align: right;\">\n",
       "      <th></th>\n",
       "      <th>avg</th>\n",
       "    </tr>\n",
       "  </thead>\n",
       "  <tbody>\n",
       "    <tr>\n",
       "      <th>0</th>\n",
       "      <td>24.0</td>\n",
       "    </tr>\n",
       "  </tbody>\n",
       "</table>\n",
       "</div>"
      ],
      "text/plain": [
       "    avg\n",
       "0  24.0"
      ]
     },
     "execution_count": 14,
     "metadata": {},
     "output_type": "execute_result"
    }
   ],
   "source": [
    "q = ''' SELECT\n",
    "            AVG(Sub.n_reviews)\n",
    "            FROM\n",
    "        (SELECT\n",
    "            username,\n",
    "            COUNT(review_id) AS n_reviews\n",
    "        FROM reviews\n",
    "        WHERE \n",
    "            username IN (\n",
    "                    SELECT username\n",
    "                    FROM ratings\n",
    "                    GROUP BY username\n",
    "                    HAVING \n",
    "                        COUNT(rating_id) > 48)\n",
    "        GROUP BY username\n",
    "        ) AS Sub\n",
    "                        '''\n",
    "\n",
    "result(q)"
   ]
  },
  {
   "cell_type": "markdown",
   "metadata": {},
   "source": [
    "Среднее количество обзоров для пользователей, которые поставили более 48 оценок, составляет 24"
   ]
  },
  {
   "cell_type": "markdown",
   "metadata": {},
   "source": [
    "# Заключение"
   ]
  },
  {
   "cell_type": "markdown",
   "metadata": {},
   "source": [
    "В результате анализа данных из базы получены следующие выводы:\n",
    "1. Всего выпущена 821 книга после 1 января 2000 года;\n",
    "2. Наибольшее количество обзоров наблюдается у книги \"Twilight (Twilight #1)\" - 7;\n",
    "3. Издательство \"Penguin Books\" выпустило 42 книги, с количеством страниц более 50, это самый высокий показатель среди других издательств;\n",
    "4. Автором с самой высокой средней оценкой является J.K. Rowling/Mary GrandPré - 4.29, учитывая только 50 и более книг;\n",
    "5. Среднее количество обзоров для пользователей, которые поставили более 48 оценок, составляет 24"
   ]
  }
 ],
 "metadata": {
  "ExecuteTimeLog": [
   {
    "duration": 546,
    "start_time": "2023-07-09T14:45:42.181Z"
   },
   {
    "duration": 7274,
    "start_time": "2023-07-09T14:45:45.996Z"
   },
   {
    "duration": 97,
    "start_time": "2023-07-09T14:46:03.480Z"
   },
   {
    "duration": 4,
    "start_time": "2023-07-09T14:54:19.082Z"
   },
   {
    "duration": 64,
    "start_time": "2023-07-09T14:54:52.008Z"
   },
   {
    "duration": 9,
    "start_time": "2023-07-09T14:55:14.531Z"
   },
   {
    "duration": 9,
    "start_time": "2023-07-09T14:56:02.790Z"
   },
   {
    "duration": 9,
    "start_time": "2023-07-09T15:00:25.191Z"
   },
   {
    "duration": 11,
    "start_time": "2023-07-09T15:00:57.798Z"
   },
   {
    "duration": 14,
    "start_time": "2023-07-09T15:01:03.552Z"
   },
   {
    "duration": 9,
    "start_time": "2023-07-09T15:01:49.087Z"
   },
   {
    "duration": 25,
    "start_time": "2023-07-09T15:02:02.954Z"
   },
   {
    "duration": 9,
    "start_time": "2023-07-09T15:02:03.684Z"
   },
   {
    "duration": 3,
    "start_time": "2023-07-09T15:04:20.492Z"
   },
   {
    "duration": 8,
    "start_time": "2023-07-09T15:04:20.497Z"
   },
   {
    "duration": 8,
    "start_time": "2023-07-09T15:04:20.506Z"
   },
   {
    "duration": 49,
    "start_time": "2023-07-09T15:04:20.516Z"
   },
   {
    "duration": 19,
    "start_time": "2023-07-09T15:04:20.567Z"
   },
   {
    "duration": 48,
    "start_time": "2023-07-09T15:36:43.794Z"
   },
   {
    "duration": 13,
    "start_time": "2023-07-09T15:37:09.650Z"
   },
   {
    "duration": 16,
    "start_time": "2023-07-09T15:37:34.120Z"
   },
   {
    "duration": 26,
    "start_time": "2023-07-09T15:38:36.260Z"
   },
   {
    "duration": 94,
    "start_time": "2023-07-09T15:57:37.519Z"
   },
   {
    "duration": 62,
    "start_time": "2023-07-09T15:58:26.431Z"
   },
   {
    "duration": 57,
    "start_time": "2023-07-09T16:03:24.152Z"
   },
   {
    "duration": 25,
    "start_time": "2023-07-09T16:03:37.255Z"
   },
   {
    "duration": 12,
    "start_time": "2023-07-09T16:04:05.858Z"
   },
   {
    "duration": 13,
    "start_time": "2023-07-09T16:04:09.805Z"
   },
   {
    "duration": 25,
    "start_time": "2023-07-09T16:08:45.959Z"
   },
   {
    "duration": 11,
    "start_time": "2023-07-09T16:09:12.479Z"
   },
   {
    "duration": 550,
    "start_time": "2023-07-10T17:05:00.781Z"
   },
   {
    "duration": 11579,
    "start_time": "2023-07-10T17:05:01.334Z"
   },
   {
    "duration": 3,
    "start_time": "2023-07-10T17:05:12.915Z"
   },
   {
    "duration": 53,
    "start_time": "2023-07-10T17:05:12.919Z"
   },
   {
    "duration": 12,
    "start_time": "2023-07-10T17:05:12.974Z"
   },
   {
    "duration": 12,
    "start_time": "2023-07-10T17:05:12.987Z"
   },
   {
    "duration": 13,
    "start_time": "2023-07-10T17:05:13.000Z"
   },
   {
    "duration": 12,
    "start_time": "2023-07-10T17:05:13.015Z"
   },
   {
    "duration": 12,
    "start_time": "2023-07-10T17:05:13.029Z"
   },
   {
    "duration": 29,
    "start_time": "2023-07-10T17:05:13.043Z"
   },
   {
    "duration": 32,
    "start_time": "2023-07-10T17:06:47.166Z"
   },
   {
    "duration": 87,
    "start_time": "2023-07-10T17:07:40.384Z"
   },
   {
    "duration": 47,
    "start_time": "2023-07-10T17:08:34.506Z"
   },
   {
    "duration": 60,
    "start_time": "2023-07-10T17:08:51.682Z"
   },
   {
    "duration": 22,
    "start_time": "2023-07-10T17:09:16.895Z"
   },
   {
    "duration": 58,
    "start_time": "2023-07-10T17:10:12.666Z"
   },
   {
    "duration": 30,
    "start_time": "2023-07-10T17:13:17.735Z"
   },
   {
    "duration": 13,
    "start_time": "2023-07-10T17:15:40.755Z"
   },
   {
    "duration": 22,
    "start_time": "2023-07-10T17:18:37.809Z"
   },
   {
    "duration": 22,
    "start_time": "2023-07-10T17:19:17.043Z"
   },
   {
    "duration": 12,
    "start_time": "2023-07-10T17:19:36.995Z"
   },
   {
    "duration": 19,
    "start_time": "2023-07-10T17:24:40.351Z"
   },
   {
    "duration": 16,
    "start_time": "2023-07-10T17:24:50.934Z"
   },
   {
    "duration": 25,
    "start_time": "2023-07-10T17:25:37.212Z"
   },
   {
    "duration": 22,
    "start_time": "2023-07-10T17:26:04.702Z"
   },
   {
    "duration": 69,
    "start_time": "2023-07-10T17:26:08.585Z"
   },
   {
    "duration": 17,
    "start_time": "2023-07-10T17:28:52.099Z"
   },
   {
    "duration": 12,
    "start_time": "2023-07-10T17:34:27.592Z"
   },
   {
    "duration": 28,
    "start_time": "2023-07-10T17:35:35.960Z"
   },
   {
    "duration": 11,
    "start_time": "2023-07-10T17:36:00.511Z"
   },
   {
    "duration": 29,
    "start_time": "2023-07-10T17:36:01.883Z"
   },
   {
    "duration": 12,
    "start_time": "2023-07-10T17:36:33.530Z"
   },
   {
    "duration": 16,
    "start_time": "2023-07-10T17:37:25.107Z"
   },
   {
    "duration": 10,
    "start_time": "2023-07-10T17:38:03.150Z"
   },
   {
    "duration": 29,
    "start_time": "2023-07-10T17:38:07.315Z"
   },
   {
    "duration": 13,
    "start_time": "2023-07-10T17:38:22.846Z"
   },
   {
    "duration": 18,
    "start_time": "2023-07-10T17:38:33.050Z"
   },
   {
    "duration": 26,
    "start_time": "2023-07-10T17:40:25.467Z"
   },
   {
    "duration": 37,
    "start_time": "2023-07-10T17:41:20.350Z"
   },
   {
    "duration": 11,
    "start_time": "2023-07-10T17:41:22.598Z"
   },
   {
    "duration": 12,
    "start_time": "2023-07-10T17:44:20.692Z"
   },
   {
    "duration": 14,
    "start_time": "2023-07-10T17:47:15.053Z"
   },
   {
    "duration": 38,
    "start_time": "2023-07-10T17:47:25.997Z"
   },
   {
    "duration": 13,
    "start_time": "2023-07-10T17:47:51.983Z"
   },
   {
    "duration": 22,
    "start_time": "2023-07-10T17:48:17.153Z"
   },
   {
    "duration": 12,
    "start_time": "2023-07-10T17:48:40.864Z"
   },
   {
    "duration": 548,
    "start_time": "2023-07-10T17:52:56.454Z"
   },
   {
    "duration": 7367,
    "start_time": "2023-07-10T17:52:57.004Z"
   },
   {
    "duration": 3,
    "start_time": "2023-07-10T17:53:04.372Z"
   },
   {
    "duration": 45,
    "start_time": "2023-07-10T17:53:04.376Z"
   },
   {
    "duration": 10,
    "start_time": "2023-07-10T17:53:04.423Z"
   },
   {
    "duration": 15,
    "start_time": "2023-07-10T17:53:04.434Z"
   },
   {
    "duration": 28,
    "start_time": "2023-07-10T17:53:04.450Z"
   },
   {
    "duration": 15,
    "start_time": "2023-07-10T17:53:04.480Z"
   },
   {
    "duration": 9,
    "start_time": "2023-07-10T17:53:04.496Z"
   },
   {
    "duration": 27,
    "start_time": "2023-07-10T17:53:04.507Z"
   },
   {
    "duration": 11,
    "start_time": "2023-07-10T17:53:04.536Z"
   },
   {
    "duration": 18,
    "start_time": "2023-07-10T17:53:04.548Z"
   },
   {
    "duration": 13,
    "start_time": "2023-07-10T17:53:04.567Z"
   },
   {
    "duration": 13,
    "start_time": "2023-07-10T17:54:08.187Z"
   },
   {
    "duration": 579,
    "start_time": "2023-07-10T18:34:21.304Z"
   },
   {
    "duration": 11193,
    "start_time": "2023-07-10T18:34:21.885Z"
   },
   {
    "duration": 3,
    "start_time": "2023-07-10T18:34:33.080Z"
   },
   {
    "duration": 270,
    "start_time": "2023-07-10T18:34:33.085Z"
   },
   {
    "duration": 53,
    "start_time": "2023-07-10T18:34:33.357Z"
   },
   {
    "duration": 53,
    "start_time": "2023-07-10T18:34:33.412Z"
   },
   {
    "duration": 53,
    "start_time": "2023-07-10T18:34:33.467Z"
   },
   {
    "duration": 56,
    "start_time": "2023-07-10T18:34:33.522Z"
   },
   {
    "duration": 52,
    "start_time": "2023-07-10T18:34:33.580Z"
   },
   {
    "duration": 91,
    "start_time": "2023-07-10T18:34:33.634Z"
   },
   {
    "duration": 53,
    "start_time": "2023-07-10T18:34:33.727Z"
   },
   {
    "duration": 59,
    "start_time": "2023-07-10T18:34:33.783Z"
   },
   {
    "duration": 55,
    "start_time": "2023-07-10T18:34:33.844Z"
   },
   {
    "duration": 54,
    "start_time": "2023-07-10T18:35:26.620Z"
   },
   {
    "duration": 69,
    "start_time": "2023-07-11T03:02:46.120Z"
   },
   {
    "duration": 460,
    "start_time": "2023-07-11T03:02:50.260Z"
   },
   {
    "duration": 9941,
    "start_time": "2023-07-11T03:02:50.722Z"
   },
   {
    "duration": 3,
    "start_time": "2023-07-11T03:03:00.664Z"
   },
   {
    "duration": 322,
    "start_time": "2023-07-11T03:03:00.669Z"
   },
   {
    "duration": 56,
    "start_time": "2023-07-11T03:03:00.994Z"
   },
   {
    "duration": 67,
    "start_time": "2023-07-11T03:03:01.052Z"
   },
   {
    "duration": 53,
    "start_time": "2023-07-11T03:03:01.121Z"
   },
   {
    "duration": 67,
    "start_time": "2023-07-11T03:03:01.176Z"
   },
   {
    "duration": 70,
    "start_time": "2023-07-11T03:03:01.244Z"
   },
   {
    "duration": 106,
    "start_time": "2023-07-11T03:03:01.315Z"
   },
   {
    "duration": 59,
    "start_time": "2023-07-11T03:03:01.423Z"
   },
   {
    "duration": 66,
    "start_time": "2023-07-11T03:03:01.484Z"
   },
   {
    "duration": 59,
    "start_time": "2023-07-11T03:03:01.553Z"
   }
  ],
  "kernelspec": {
   "display_name": "Python 3 (ipykernel)",
   "language": "python",
   "name": "python3"
  },
  "language_info": {
   "codemirror_mode": {
    "name": "ipython",
    "version": 3
   },
   "file_extension": ".py",
   "mimetype": "text/x-python",
   "name": "python",
   "nbconvert_exporter": "python",
   "pygments_lexer": "ipython3",
   "version": "3.9.15"
  },
  "toc": {
   "base_numbering": 1,
   "nav_menu": {},
   "number_sections": true,
   "sideBar": true,
   "skip_h1_title": true,
   "title_cell": "Table of Contents",
   "title_sidebar": "Contents",
   "toc_cell": false,
   "toc_position": {},
   "toc_section_display": true,
   "toc_window_display": true
  }
 },
 "nbformat": 4,
 "nbformat_minor": 2
}
