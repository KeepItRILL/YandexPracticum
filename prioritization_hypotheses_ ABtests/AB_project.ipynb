{
 "cells": [
  {
   "cell_type": "markdown",
   "metadata": {},
   "source": [
    "# Приоритизация гипотез и проведения A/B тестов\n",
    "\n",
    "Данный анализ посвещен проверке и приоритизации девяти гипотез по увеличению выручки интернет-магазина. \n",
    "Необходимо выявить наиболее перспективные гипотезы, а также проанализировать результаты A/B теста.\n",
    "\n",
    "Данные для приоритизации включают в себя список гипотез и следующие параметры, которые их описывают: охват пользователей, влияние на пользователей, уверенность в гипотезе и затраты ресурсов на их проверку.\n",
    "\n",
    "Материалы для анализа A/B теста, включают в себя два датасета с информацией о заказах и информацией о пользователях, в каждой группе. Основными этапами исследования теста послужат анализ стабильности метрик и анализ аномалий. "
   ]
  },
  {
   "cell_type": "markdown",
   "metadata": {},
   "source": [
    "### Часть первая. Приоритизация гипотез."
   ]
  },
  {
   "cell_type": "code",
   "execution_count": 3,
   "metadata": {},
   "outputs": [
    {
     "data": {
      "text/html": [
       "<div>\n",
       "<style scoped>\n",
       "    .dataframe tbody tr th:only-of-type {\n",
       "        vertical-align: middle;\n",
       "    }\n",
       "\n",
       "    .dataframe tbody tr th {\n",
       "        vertical-align: top;\n",
       "    }\n",
       "\n",
       "    .dataframe thead th {\n",
       "        text-align: right;\n",
       "    }\n",
       "</style>\n",
       "<table border=\"1\" class=\"dataframe\">\n",
       "  <thead>\n",
       "    <tr style=\"text-align: right;\">\n",
       "      <th></th>\n",
       "      <th>Hypothesis</th>\n",
       "      <th>Reach</th>\n",
       "      <th>Impact</th>\n",
       "      <th>Confidence</th>\n",
       "      <th>Efforts</th>\n",
       "    </tr>\n",
       "  </thead>\n",
       "  <tbody>\n",
       "    <tr>\n",
       "      <th>0</th>\n",
       "      <td>Добавить два новых канала привлечения трафика, что позволит привлекать на 30% больше пользователей</td>\n",
       "      <td>3</td>\n",
       "      <td>10</td>\n",
       "      <td>8</td>\n",
       "      <td>6</td>\n",
       "    </tr>\n",
       "    <tr>\n",
       "      <th>1</th>\n",
       "      <td>Запустить собственную службу доставки, что сократит срок доставки заказов</td>\n",
       "      <td>2</td>\n",
       "      <td>5</td>\n",
       "      <td>4</td>\n",
       "      <td>10</td>\n",
       "    </tr>\n",
       "    <tr>\n",
       "      <th>2</th>\n",
       "      <td>Добавить блоки рекомендаций товаров на сайт интернет магазина, чтобы повысить конверсию и средний чек заказа</td>\n",
       "      <td>8</td>\n",
       "      <td>3</td>\n",
       "      <td>7</td>\n",
       "      <td>3</td>\n",
       "    </tr>\n",
       "    <tr>\n",
       "      <th>3</th>\n",
       "      <td>Изменить структура категорий, что увеличит конверсию, т.к. пользователи быстрее найдут нужный товар</td>\n",
       "      <td>8</td>\n",
       "      <td>3</td>\n",
       "      <td>3</td>\n",
       "      <td>8</td>\n",
       "    </tr>\n",
       "    <tr>\n",
       "      <th>4</th>\n",
       "      <td>Изменить цвет фона главной страницы, чтобы увеличить вовлеченность пользователей</td>\n",
       "      <td>3</td>\n",
       "      <td>1</td>\n",
       "      <td>1</td>\n",
       "      <td>1</td>\n",
       "    </tr>\n",
       "    <tr>\n",
       "      <th>5</th>\n",
       "      <td>Добавить страницу отзывов клиентов о магазине, что позволит увеличить количество заказов</td>\n",
       "      <td>3</td>\n",
       "      <td>2</td>\n",
       "      <td>2</td>\n",
       "      <td>3</td>\n",
       "    </tr>\n",
       "    <tr>\n",
       "      <th>6</th>\n",
       "      <td>Показать на главной странице баннеры с актуальными акциями и распродажами, чтобы увеличить конверсию</td>\n",
       "      <td>5</td>\n",
       "      <td>3</td>\n",
       "      <td>8</td>\n",
       "      <td>3</td>\n",
       "    </tr>\n",
       "    <tr>\n",
       "      <th>7</th>\n",
       "      <td>Добавить форму подписки на все основные страницы, чтобы собрать базу клиентов для email-рассылок</td>\n",
       "      <td>10</td>\n",
       "      <td>7</td>\n",
       "      <td>8</td>\n",
       "      <td>5</td>\n",
       "    </tr>\n",
       "    <tr>\n",
       "      <th>8</th>\n",
       "      <td>Запустить акцию, дающую скидку на товар в день рождения</td>\n",
       "      <td>1</td>\n",
       "      <td>9</td>\n",
       "      <td>9</td>\n",
       "      <td>5</td>\n",
       "    </tr>\n",
       "  </tbody>\n",
       "</table>\n",
       "</div>"
      ],
      "text/plain": [
       "                                                                                                     Hypothesis  \\\n",
       "0            Добавить два новых канала привлечения трафика, что позволит привлекать на 30% больше пользователей   \n",
       "1                                     Запустить собственную службу доставки, что сократит срок доставки заказов   \n",
       "2  Добавить блоки рекомендаций товаров на сайт интернет магазина, чтобы повысить конверсию и средний чек заказа   \n",
       "3           Изменить структура категорий, что увеличит конверсию, т.к. пользователи быстрее найдут нужный товар   \n",
       "4                              Изменить цвет фона главной страницы, чтобы увеличить вовлеченность пользователей   \n",
       "5                      Добавить страницу отзывов клиентов о магазине, что позволит увеличить количество заказов   \n",
       "6          Показать на главной странице баннеры с актуальными акциями и распродажами, чтобы увеличить конверсию   \n",
       "7              Добавить форму подписки на все основные страницы, чтобы собрать базу клиентов для email-рассылок   \n",
       "8                                                       Запустить акцию, дающую скидку на товар в день рождения   \n",
       "\n",
       "   Reach  Impact  Confidence  Efforts  \n",
       "0      3      10           8        6  \n",
       "1      2       5           4       10  \n",
       "2      8       3           7        3  \n",
       "3      8       3           3        8  \n",
       "4      3       1           1        1  \n",
       "5      3       2           2        3  \n",
       "6      5       3           8        3  \n",
       "7     10       7           8        5  \n",
       "8      1       9           9        5  "
      ]
     },
     "execution_count": 3,
     "metadata": {},
     "output_type": "execute_result"
    }
   ],
   "source": [
    "#загрузим и ознакомимся с данными\n",
    "import pandas as pd\n",
    "import seaborn as sns\n",
    "import numpy as np\n",
    "import matplotlib.pyplot as plt \n",
    "from scipy import stats as st\n",
    "\n",
    "data = pd.read_csv('/datasets/hypothesis.csv')\n",
    "pd.set_option('display.max_colwidth', None)\n",
    "data"
   ]
  },
  {
   "cell_type": "markdown",
   "metadata": {},
   "source": [
    "Всего 9 гипотез, каждая имеет свои параметры Reach, Impact, Confidence и Efforts. Применим фреймворки ICE и RICE для их приоритизации."
   ]
  },
  {
   "cell_type": "code",
   "execution_count": 25,
   "metadata": {
    "scrolled": false
   },
   "outputs": [
    {
     "data": {
      "text/html": [
       "<div>\n",
       "<style scoped>\n",
       "    .dataframe tbody tr th:only-of-type {\n",
       "        vertical-align: middle;\n",
       "    }\n",
       "\n",
       "    .dataframe tbody tr th {\n",
       "        vertical-align: top;\n",
       "    }\n",
       "\n",
       "    .dataframe thead th {\n",
       "        text-align: right;\n",
       "    }\n",
       "</style>\n",
       "<table border=\"1\" class=\"dataframe\">\n",
       "  <thead>\n",
       "    <tr style=\"text-align: right;\">\n",
       "      <th></th>\n",
       "      <th>hypothesis</th>\n",
       "      <th>ICE</th>\n",
       "    </tr>\n",
       "  </thead>\n",
       "  <tbody>\n",
       "    <tr>\n",
       "      <th>8</th>\n",
       "      <td>Запустить акцию, дающую скидку на товар в день рождения</td>\n",
       "      <td>16.20</td>\n",
       "    </tr>\n",
       "    <tr>\n",
       "      <th>0</th>\n",
       "      <td>Добавить два новых канала привлечения трафика, что позволит привлекать на 30% больше пользователей</td>\n",
       "      <td>13.33</td>\n",
       "    </tr>\n",
       "    <tr>\n",
       "      <th>7</th>\n",
       "      <td>Добавить форму подписки на все основные страницы, чтобы собрать базу клиентов для email-рассылок</td>\n",
       "      <td>11.20</td>\n",
       "    </tr>\n",
       "    <tr>\n",
       "      <th>6</th>\n",
       "      <td>Показать на главной странице баннеры с актуальными акциями и распродажами, чтобы увеличить конверсию</td>\n",
       "      <td>8.00</td>\n",
       "    </tr>\n",
       "    <tr>\n",
       "      <th>2</th>\n",
       "      <td>Добавить блоки рекомендаций товаров на сайт интернет магазина, чтобы повысить конверсию и средний чек заказа</td>\n",
       "      <td>7.00</td>\n",
       "    </tr>\n",
       "    <tr>\n",
       "      <th>1</th>\n",
       "      <td>Запустить собственную службу доставки, что сократит срок доставки заказов</td>\n",
       "      <td>2.00</td>\n",
       "    </tr>\n",
       "    <tr>\n",
       "      <th>5</th>\n",
       "      <td>Добавить страницу отзывов клиентов о магазине, что позволит увеличить количество заказов</td>\n",
       "      <td>1.33</td>\n",
       "    </tr>\n",
       "    <tr>\n",
       "      <th>3</th>\n",
       "      <td>Изменить структура категорий, что увеличит конверсию, т.к. пользователи быстрее найдут нужный товар</td>\n",
       "      <td>1.12</td>\n",
       "    </tr>\n",
       "    <tr>\n",
       "      <th>4</th>\n",
       "      <td>Изменить цвет фона главной страницы, чтобы увеличить вовлеченность пользователей</td>\n",
       "      <td>1.00</td>\n",
       "    </tr>\n",
       "  </tbody>\n",
       "</table>\n",
       "</div>"
      ],
      "text/plain": [
       "                                                                                                     hypothesis  \\\n",
       "8                                                       Запустить акцию, дающую скидку на товар в день рождения   \n",
       "0            Добавить два новых канала привлечения трафика, что позволит привлекать на 30% больше пользователей   \n",
       "7              Добавить форму подписки на все основные страницы, чтобы собрать базу клиентов для email-рассылок   \n",
       "6          Показать на главной странице баннеры с актуальными акциями и распродажами, чтобы увеличить конверсию   \n",
       "2  Добавить блоки рекомендаций товаров на сайт интернет магазина, чтобы повысить конверсию и средний чек заказа   \n",
       "1                                     Запустить собственную службу доставки, что сократит срок доставки заказов   \n",
       "5                      Добавить страницу отзывов клиентов о магазине, что позволит увеличить количество заказов   \n",
       "3           Изменить структура категорий, что увеличит конверсию, т.к. пользователи быстрее найдут нужный товар   \n",
       "4                              Изменить цвет фона главной страницы, чтобы увеличить вовлеченность пользователей   \n",
       "\n",
       "     ICE  \n",
       "8  16.20  \n",
       "0  13.33  \n",
       "7  11.20  \n",
       "6   8.00  \n",
       "2   7.00  \n",
       "1   2.00  \n",
       "5   1.33  \n",
       "3   1.12  \n",
       "4   1.00  "
      ]
     },
     "execution_count": 25,
     "metadata": {},
     "output_type": "execute_result"
    }
   ],
   "source": [
    "# Воспользуемся фреймворком ICE\n",
    "# но сначала переведем все названия к нижнему регистру\n",
    "data.columns = map(str.lower, data.columns)\n",
    "\n",
    "data['ICE'] = data['impact'] * data['confidence'] / data['efforts']\n",
    "data['ICE']= data['ICE'].round(2)\n",
    "data[['hypothesis','ICE']].sort_values(by='ICE', ascending=False)\n"
   ]
  },
  {
   "cell_type": "markdown",
   "metadata": {},
   "source": [
    "Наиболее приоритетными, с точки зрения инструмента ICE, являются следующие гипотезы:\n",
    "1. Запустить акцию, дающую скидку на товар в день рождения\n",
    "2. Добавить два новых канала привлечения трафика, что позволит привлекать на 30% больше пользователей\n",
    "3. Добавить форму подписки на все основные страницы, чтобы собрать базу клиентов для email-рассылок"
   ]
  },
  {
   "cell_type": "code",
   "execution_count": 5,
   "metadata": {},
   "outputs": [
    {
     "data": {
      "text/html": [
       "<div>\n",
       "<style scoped>\n",
       "    .dataframe tbody tr th:only-of-type {\n",
       "        vertical-align: middle;\n",
       "    }\n",
       "\n",
       "    .dataframe tbody tr th {\n",
       "        vertical-align: top;\n",
       "    }\n",
       "\n",
       "    .dataframe thead th {\n",
       "        text-align: right;\n",
       "    }\n",
       "</style>\n",
       "<table border=\"1\" class=\"dataframe\">\n",
       "  <thead>\n",
       "    <tr style=\"text-align: right;\">\n",
       "      <th></th>\n",
       "      <th>hypothesis</th>\n",
       "      <th>RICE</th>\n",
       "    </tr>\n",
       "  </thead>\n",
       "  <tbody>\n",
       "    <tr>\n",
       "      <th>7</th>\n",
       "      <td>Добавить форму подписки на все основные страницы, чтобы собрать базу клиентов для email-рассылок</td>\n",
       "      <td>112.0</td>\n",
       "    </tr>\n",
       "    <tr>\n",
       "      <th>2</th>\n",
       "      <td>Добавить блоки рекомендаций товаров на сайт интернет магазина, чтобы повысить конверсию и средний чек заказа</td>\n",
       "      <td>56.0</td>\n",
       "    </tr>\n",
       "    <tr>\n",
       "      <th>0</th>\n",
       "      <td>Добавить два новых канала привлечения трафика, что позволит привлекать на 30% больше пользователей</td>\n",
       "      <td>40.0</td>\n",
       "    </tr>\n",
       "    <tr>\n",
       "      <th>6</th>\n",
       "      <td>Показать на главной странице баннеры с актуальными акциями и распродажами, чтобы увеличить конверсию</td>\n",
       "      <td>40.0</td>\n",
       "    </tr>\n",
       "    <tr>\n",
       "      <th>8</th>\n",
       "      <td>Запустить акцию, дающую скидку на товар в день рождения</td>\n",
       "      <td>16.2</td>\n",
       "    </tr>\n",
       "    <tr>\n",
       "      <th>3</th>\n",
       "      <td>Изменить структура категорий, что увеличит конверсию, т.к. пользователи быстрее найдут нужный товар</td>\n",
       "      <td>9.0</td>\n",
       "    </tr>\n",
       "    <tr>\n",
       "      <th>1</th>\n",
       "      <td>Запустить собственную службу доставки, что сократит срок доставки заказов</td>\n",
       "      <td>4.0</td>\n",
       "    </tr>\n",
       "    <tr>\n",
       "      <th>5</th>\n",
       "      <td>Добавить страницу отзывов клиентов о магазине, что позволит увеличить количество заказов</td>\n",
       "      <td>4.0</td>\n",
       "    </tr>\n",
       "    <tr>\n",
       "      <th>4</th>\n",
       "      <td>Изменить цвет фона главной страницы, чтобы увеличить вовлеченность пользователей</td>\n",
       "      <td>3.0</td>\n",
       "    </tr>\n",
       "  </tbody>\n",
       "</table>\n",
       "</div>"
      ],
      "text/plain": [
       "                                                                                                     hypothesis  \\\n",
       "7              Добавить форму подписки на все основные страницы, чтобы собрать базу клиентов для email-рассылок   \n",
       "2  Добавить блоки рекомендаций товаров на сайт интернет магазина, чтобы повысить конверсию и средний чек заказа   \n",
       "0            Добавить два новых канала привлечения трафика, что позволит привлекать на 30% больше пользователей   \n",
       "6          Показать на главной странице баннеры с актуальными акциями и распродажами, чтобы увеличить конверсию   \n",
       "8                                                       Запустить акцию, дающую скидку на товар в день рождения   \n",
       "3           Изменить структура категорий, что увеличит конверсию, т.к. пользователи быстрее найдут нужный товар   \n",
       "1                                     Запустить собственную службу доставки, что сократит срок доставки заказов   \n",
       "5                      Добавить страницу отзывов клиентов о магазине, что позволит увеличить количество заказов   \n",
       "4                              Изменить цвет фона главной страницы, чтобы увеличить вовлеченность пользователей   \n",
       "\n",
       "    RICE  \n",
       "7  112.0  \n",
       "2   56.0  \n",
       "0   40.0  \n",
       "6   40.0  \n",
       "8   16.2  \n",
       "3    9.0  \n",
       "1    4.0  \n",
       "5    4.0  \n",
       "4    3.0  "
      ]
     },
     "execution_count": 5,
     "metadata": {},
     "output_type": "execute_result"
    }
   ],
   "source": [
    "# Воспользуемся фреймворком RICE\n",
    "data['RICE'] =data['reach']*  data['impact'] * data['confidence'] / data['efforts']\n",
    "\n",
    "data[['hypothesis','RICE']].sort_values(by='RICE', ascending=False)"
   ]
  },
  {
   "cell_type": "markdown",
   "metadata": {},
   "source": [
    "Наиболее приоритетными, с точки зрения инструмента RICE, являются следующие гипотезы:\n",
    "1. Добавить форму подписки на все основные страницы, чтобы собрать базу клиентов для email-рассылок\n",
    "2. Добавить блоки рекомендаций товаров на сайт интернет магазина, чтобы повысить конверсию и средний чек заказа\n",
    "3. Добавить два новых канала привлечения трафика, что позволит привлекать на 30% больше пользователей"
   ]
  },
  {
   "cell_type": "markdown",
   "metadata": {},
   "source": [
    "**Вывод:** Наблюдается разница в приоритетных гипотезах, полученная на основе фреймворков ICE и RICE, однако и в ту и другую оценку попали две гипотезы, первая и шестая. Дело в том, что метрика RICE учитывает еще и количество пользователей, которых затронет изменение. С учетом того, что показатель Reach очень низкий в 9-ой гипотезе, относительно других, мы получили высокий приоритет этой гипотезы при оценке RICE. "
   ]
  },
  {
   "cell_type": "markdown",
   "metadata": {},
   "source": [
    "### Часть вторая. Анализ A/B-теста."
   ]
  },
  {
   "cell_type": "code",
   "execution_count": 27,
   "metadata": {},
   "outputs": [
    {
     "name": "stdout",
     "output_type": "stream",
     "text": [
      "   transactionId   visitorId        date  revenue group\n",
      "0     3667963787  3312258926  2019-08-15     1650     B\n",
      "1     2804400009  3642806036  2019-08-15      730     B\n",
      "2     2961555356  4069496402  2019-08-15      400     A\n",
      "3     3797467345  1196621759  2019-08-15     9759     B\n",
      "4     2282983706  2322279887  2019-08-15     2308     B\n",
      "5      182168103   935554773  2019-08-15     2210     B\n",
      "6      398296753  2900797465  2019-08-15     1860     B\n",
      "7     2626614568    78758296  2019-08-15     1044     A\n",
      "8     1576988021   295230930  2019-08-15    13710     A\n",
      "9     1506739906  1882260405  2019-08-15     1855     B\n",
      "         date group  visitors\n",
      "0  2019-08-01     A       719\n",
      "1  2019-08-02     A       619\n",
      "2  2019-08-03     A       507\n",
      "3  2019-08-04     A       717\n",
      "4  2019-08-05     A       756\n",
      "5  2019-08-06     A       667\n",
      "6  2019-08-07     A       644\n",
      "7  2019-08-08     A       610\n",
      "8  2019-08-09     A       617\n",
      "9  2019-08-10     A       406\n"
     ]
    }
   ],
   "source": [
    "# загрузим и ознакомимся с данными A/B теста\n",
    "orders = pd.read_csv('/datasets/orders.csv')\n",
    "visitors = pd.read_csv('/datasets/visitors.csv')\n",
    "\n",
    "print(orders.head(10))\n",
    "print(visitors.head(10))"
   ]
  },
  {
   "cell_type": "code",
   "execution_count": 30,
   "metadata": {},
   "outputs": [
    {
     "name": "stdout",
     "output_type": "stream",
     "text": [
      "<class 'pandas.core.frame.DataFrame'>\n",
      "RangeIndex: 1197 entries, 0 to 1196\n",
      "Data columns (total 5 columns):\n",
      " #   Column         Non-Null Count  Dtype \n",
      "---  ------         --------------  ----- \n",
      " 0   transactionId  1197 non-null   int64 \n",
      " 1   visitorId      1197 non-null   int64 \n",
      " 2   date           1197 non-null   object\n",
      " 3   revenue        1197 non-null   int64 \n",
      " 4   group          1197 non-null   object\n",
      "dtypes: int64(3), object(2)\n",
      "memory usage: 46.9+ KB\n",
      "None\n",
      "<class 'pandas.core.frame.DataFrame'>\n",
      "RangeIndex: 62 entries, 0 to 61\n",
      "Data columns (total 3 columns):\n",
      " #   Column    Non-Null Count  Dtype \n",
      "---  ------    --------------  ----- \n",
      " 0   date      62 non-null     object\n",
      " 1   group     62 non-null     object\n",
      " 2   visitors  62 non-null     int64 \n",
      "dtypes: int64(1), object(2)\n",
      "memory usage: 1.6+ KB\n",
      "None\n"
     ]
    }
   ],
   "source": [
    "# Посмотрим информацию по датасетам\n",
    "print(orders.info())\n",
    "print(visitors.info())"
   ]
  },
  {
   "cell_type": "markdown",
   "metadata": {},
   "source": [
    "Пропуски в данных отсутствтуют"
   ]
  },
  {
   "cell_type": "code",
   "execution_count": 33,
   "metadata": {},
   "outputs": [
    {
     "name": "stdout",
     "output_type": "stream",
     "text": [
      "0\n",
      "0\n"
     ]
    }
   ],
   "source": [
    "# Проверим данные на дубликаты\n",
    "print(orders.duplicated().sum())\n",
    "print(visitors.duplicated().sum())"
   ]
  },
  {
   "cell_type": "markdown",
   "metadata": {},
   "source": [
    "Дубликаты в данных отсутствтуют"
   ]
  },
  {
   "cell_type": "code",
   "execution_count": 34,
   "metadata": {},
   "outputs": [],
   "source": [
    "#Заменим тип данных столбцов с датами\n",
    "orders['date'] = pd.to_datetime(orders['date'], format='%Y.%m.%d')\n",
    "visitors['date'] = pd.to_datetime(visitors['date'], format='%Y.%m.%d')"
   ]
  },
  {
   "cell_type": "markdown",
   "metadata": {},
   "source": [
    "Исходные данные проверены и подготовлены к исследованию"
   ]
  },
  {
   "cell_type": "code",
   "execution_count": 7,
   "metadata": {},
   "outputs": [
    {
     "name": "stdout",
     "output_type": "stream",
     "text": [
      "         date group  orders  buyers  revenue  visitors\n",
      "0  2019-08-01     A      24      20   148579       719\n",
      "1  2019-08-01     B      21      20   101217       713\n",
      "2  2019-08-02     A      44      38   242401      1338\n",
      "3  2019-08-02     B      45      43   266748      1294\n",
      "4  2019-08-03     A      68      62   354874      1845\n"
     ]
    }
   ],
   "source": [
    "# Создадим объединенный датафрейм с данными\n",
    "datesGroups = orders[['date','group']].drop_duplicates() # Создаем датафрейм с уникальными парами значений\n",
    "\n",
    "ordersAggregated = datesGroups.apply(lambda x: orders[np.logical_and(orders['date'] <= x['date'], orders['group'] == x['group'])]\\\n",
    ".agg({'date' : 'max', 'group' : 'max', 'transactionId' : 'nunique', 'visitorId' : 'nunique', 'revenue' : 'sum'}), axis=1)\\\n",
    ".sort_values(by=['date','group']) # создаем переменную для заказов\n",
    "\n",
    "visitorsAggregated = datesGroups.apply(lambda x: visitors[np.logical_and(visitors['date'] <= x['date'], visitors['group'] == x['group'])]\\\n",
    ".agg({'date' : 'max', 'group' : 'max', 'visitors' : 'sum'}), axis=1)\\\n",
    ".sort_values(by=['date','group'])# создаем переменную для посетителей\n",
    "\n",
    "cumulativeData = ordersAggregated.merge(visitorsAggregated, left_on=['date', 'group'], right_on=['date', 'group'])#объединяем\n",
    "cumulativeData.columns = ['date', 'group', 'orders', 'buyers', 'revenue', 'visitors']\n",
    "\n",
    "print(cumulativeData.head(5))"
   ]
  },
  {
   "cell_type": "code",
   "execution_count": 57,
   "metadata": {},
   "outputs": [
    {
     "data": {
      "text/plain": [
       "<matplotlib.legend.Legend at 0x7fc144694a90>"
      ]
     },
     "execution_count": 57,
     "metadata": {},
     "output_type": "execute_result"
    },
    {
     "data": {
      "image/png": "[encoded data removed]",
      "text/plain": [
       "<Figure size 1080x720 with 1 Axes>"
      ]
     },
     "metadata": {
      "needs_background": "light"
     },
     "output_type": "display_data"
    }
   ],
   "source": [
    "# Построим графики выручки по группам\n",
    "cumulativeRevenueA = cumulativeData[cumulativeData['group']=='A'][['date','revenue', 'orders']]\n",
    "cumulativeRevenueB = cumulativeData[cumulativeData['group']=='B'][['date','revenue', 'orders']]\n",
    "\n",
    "plt.figure(figsize=(15, 10))\n",
    "#plt.axis([\"2019-08-01\", '2019-08-31', 0, 7]) \n",
    "\n",
    "plt.plot(cumulativeRevenueA['date'], cumulativeRevenueA['revenue'], label='A')\n",
    "plt.plot(cumulativeRevenueB['date'], cumulativeRevenueB['revenue'], label='B')\n",
    "plt.title('Динамика выручки')\n",
    "plt.xlabel('Период исследования')\n",
    "plt.ylabel('Выручка')\n",
    "plt.xticks(rotation=45)\n",
    "plt.legend()\n"
   ]
  },
  {
   "cell_type": "markdown",
   "metadata": {},
   "source": [
    "Выручка постепенно увеличивается в течении времени в двух группах, однако в группе B наблюдается аномальный рост в середине периода, что может свидетельствовать либо о слишком дорогих покупках в этой группе, либо о резком росте конверсии. Возможно, что на такое поведение кривой оказывают влияние оба фактора."
   ]
  },
  {
   "cell_type": "code",
   "execution_count": 58,
   "metadata": {},
   "outputs": [
    {
     "data": {
      "text/plain": [
       "<matplotlib.legend.Legend at 0x7fc1445c2ca0>"
      ]
     },
     "execution_count": 58,
     "metadata": {},
     "output_type": "execute_result"
    },
    {
     "data": {
      "image/png": "[encoded data removed]",
      "text/plain": [
       "<Figure size 1080x720 with 1 Axes>"
      ]
     },
     "metadata": {
      "needs_background": "light"
     },
     "output_type": "display_data"
    }
   ],
   "source": [
    "# Построим графики среднего чека по группам\n",
    "\n",
    "plt.figure(figsize=(15, 10))\n",
    "plt.xticks(rotation=45)\n",
    "plt.plot(cumulativeRevenueA['date'], cumulativeRevenueA['revenue']/cumulativeRevenueA['orders'], label='A')\n",
    "plt.plot(cumulativeRevenueB['date'], cumulativeRevenueB['revenue']/cumulativeRevenueB['orders'], label='B')\n",
    "plt.title('Динамика изменения среднего чека по группам')\n",
    "plt.xlabel('Период исследования')\n",
    "plt.ylabel('Средний чек')\n",
    "plt.legend() "
   ]
  },
  {
   "cell_type": "markdown",
   "metadata": {},
   "source": [
    "Также, аномальное поведение наблюдается и на графике среднего чека. Однако, стоит отметить, что средний чек в группе B вырос гораздо стремительнее и поведение кривых более скачкообразное чем поведение кривых выручки."
   ]
  },
  {
   "cell_type": "code",
   "execution_count": 59,
   "metadata": {},
   "outputs": [
    {
     "data": {
      "text/plain": [
       "<matplotlib.lines.Line2D at 0x7fc1445c2dc0>"
      ]
     },
     "execution_count": 59,
     "metadata": {},
     "output_type": "execute_result"
    },
    {
     "data": {
      "image/png": "[encoded data removed]",
      "text/plain": [
       "<Figure size 1080x720 with 1 Axes>"
      ]
     },
     "metadata": {
      "needs_background": "light"
     },
     "output_type": "display_data"
    }
   ],
   "source": [
    "# Построим график относительного изменения среднего чека\n",
    "\n",
    "plt.figure(figsize=(15, 10))\n",
    "plt.xticks(rotation=45)\n",
    "mergedCumulativeRevenue = cumulativeRevenueA\\\n",
    ".merge(cumulativeRevenueB, left_on='date', right_on='date', how='left', suffixes=['A', 'B'])\n",
    "\n",
    "plt.plot(mergedCumulativeRevenue['date'], (mergedCumulativeRevenue['revenueB']/mergedCumulativeRevenue['ordersB'])\\\n",
    "/(mergedCumulativeRevenue['revenueA']/mergedCumulativeRevenue['ordersA'])-1)\n",
    "plt.title('Относительное изменение среднего чека')\n",
    "plt.xlabel('Период исследования')\n",
    "plt.ylabel('Относительный средний чек')\n",
    "plt.axhline(y=0, color='black', linestyle='--')"
   ]
  },
  {
   "cell_type": "markdown",
   "metadata": {},
   "source": [
    "На графике видны выбросы, необходимо их идентифицировать"
   ]
  },
  {
   "cell_type": "code",
   "execution_count": 60,
   "metadata": {},
   "outputs": [
    {
     "data": {
      "text/plain": [
       "Text(0, 0.5, 'Кумулятивный средний чек')"
      ]
     },
     "execution_count": 60,
     "metadata": {},
     "output_type": "execute_result"
    },
    {
     "data": {
      "image/png": "[encoded data removed]",
      "text/plain": [
       "<Figure size 1080x720 with 1 Axes>"
      ]
     },
     "metadata": {
      "needs_background": "light"
     },
     "output_type": "display_data"
    }
   ],
   "source": [
    "#Построим график кумулятивного среднего количества заказов на посетителя по группам\n",
    "# считаем кумулятивную конверсию\n",
    "cumulativeData['conversion'] = cumulativeData['orders']/cumulativeData['visitors']\n",
    "\n",
    "# отделяем данные по группе A\n",
    "cumulativeDataA = cumulativeData[cumulativeData['group']=='A']\n",
    "\n",
    "# отделяем данные по группе B\n",
    "cumulativeDataB = cumulativeData[cumulativeData['group']=='B']\n",
    "\n",
    "# строим графики\n",
    "plt.figure(figsize=(15, 10))\n",
    "plt.xticks(rotation=45)\n",
    "plt.plot(cumulativeDataA['date'], cumulativeDataA['conversion'], label='A')\n",
    "plt.plot(cumulativeDataB['date'], cumulativeDataB['conversion'], label='B')\n",
    "plt.legend()\n",
    "plt.title('График кумулятивного среднего количества заказов на посетителя по группам')\n",
    "plt.xlabel('Период исследования')\n",
    "plt.ylabel('Кумулятивный средний чек')\n",
    "#plt.axis([\"2019-08-01\", '2019-08-31', 0.02, 0.04]) "
   ]
  },
  {
   "cell_type": "markdown",
   "metadata": {},
   "source": [
    "Конверсия группы B ниже в начале периода, но вскоре происходит инверсия и конверсия группы B стремительно растет, а группы А сильно снижается."
   ]
  },
  {
   "cell_type": "code",
   "execution_count": 61,
   "metadata": {},
   "outputs": [
    {
     "data": {
      "text/plain": [
       "(0.0, 30.0, -0.6, 0.6)"
      ]
     },
     "execution_count": 61,
     "metadata": {},
     "output_type": "execute_result"
    },
    {
     "data": {
      "image/png": "[encoded data removed]",
      "text/plain": [
       "<Figure size 1080x720 with 1 Axes>"
      ]
     },
     "metadata": {
      "needs_background": "light"
     },
     "output_type": "display_data"
    }
   ],
   "source": [
    "# Построим график относительного различия кумулятивных конверсий:\n",
    "mergedCumulativeConversions = cumulativeDataA[['date','conversion']]\\\n",
    ".merge(cumulativeDataB[['date','conversion']], left_on='date', right_on='date', how='left', suffixes=['A', 'B'])\n",
    "\n",
    "plt.figure(figsize=(15, 10))\n",
    "plt.xticks(rotation=45)\n",
    "plt.plot(mergedCumulativeConversions['date'], mergedCumulativeConversions['conversionB']\\\n",
    "/mergedCumulativeConversions['conversionA']-1, label=\"Относительный прирост конверсии группы B относительно группы A\")\n",
    "plt.legend()\n",
    "plt.title('Относительный прирост коверсии')\n",
    "plt.xlabel('Период исследования')\n",
    "plt.ylabel('Относительная конверсия')\n",
    "plt.axhline(y=0, color='black', linestyle='--')\n",
    "plt.axhline(y=-0.1, color='grey', linestyle='--')\n",
    "plt.axis([\"2019-08-01\", '2019-08-31', -0.6, 0.6])\n"
   ]
  },
  {
   "cell_type": "markdown",
   "metadata": {},
   "source": [
    "Подтверждаем, что конверсия группы B существенно выше относительно группы A"
   ]
  },
  {
   "cell_type": "code",
   "execution_count": 49,
   "metadata": {},
   "outputs": [
    {
     "data": {
      "text/plain": [
       "Text(0, 0.5, 'Количество заказов')"
      ]
     },
     "execution_count": 49,
     "metadata": {},
     "output_type": "execute_result"
    },
    {
     "data": {
      "image/png": "[encoded data removed]",
      "text/plain": [
       "<Figure size 432x288 with 1 Axes>"
      ]
     },
     "metadata": {
      "needs_background": "light"
     },
     "output_type": "display_data"
    }
   ],
   "source": [
    "#Подсчитаем количество заказов по пользователям и построим точечный график:\n",
    "\n",
    "ordersByUsers = (\n",
    "    orders.groupby('visitorId', as_index=False)\n",
    "    .agg({'transactionId': 'nunique'})\n",
    ")\n",
    "\n",
    "ordersByUsers.columns = ['userId', 'orders']\n",
    "\n",
    "x_values = pd.Series(range(0,len(ordersByUsers)))\n",
    "\n",
    "plt.scatter(x_values, ordersByUsers['orders']) \n",
    "plt.title('График кол-ва заказов пользователей')\n",
    "plt.xlabel('Пользователи')\n",
    "plt.ylabel('Количество заказов')"
   ]
  },
  {
   "cell_type": "markdown",
   "metadata": {},
   "source": [
    "Большинство покупателей заказывали только один раз. Однако доля пользователей с 2-3 заказами тоже значительна. "
   ]
  },
  {
   "cell_type": "code",
   "execution_count": 14,
   "metadata": {},
   "outputs": [
    {
     "data": {
      "text/plain": [
       "array([2., 4.])"
      ]
     },
     "execution_count": 14,
     "metadata": {},
     "output_type": "execute_result"
    }
   ],
   "source": [
    "#Посчитаем выборочные перцентили количества заказов на одного пользователя:\n",
    "np.percentile(ordersByUsers['orders'], [95, 99])"
   ]
  },
  {
   "cell_type": "markdown",
   "metadata": {},
   "source": [
    "Не более 5% пользователей оформляли больше чем 2 заказа. И 1% пользователей заказывали более 4 раз. \n",
    "Нужно взять 3 заказа на одного пользователя за верхнюю границу числа заказов, и отсеять аномальных пользователей по ней."
   ]
  },
  {
   "cell_type": "code",
   "execution_count": 50,
   "metadata": {},
   "outputs": [
    {
     "data": {
      "text/plain": [
       "Text(0, 0.5, 'Стоимость заказов')"
      ]
     },
     "execution_count": 50,
     "metadata": {},
     "output_type": "execute_result"
    },
    {
     "data": {
      "image/png": "[encoded data removed]",
      "text/plain": [
       "<Figure size 432x288 with 1 Axes>"
      ]
     },
     "metadata": {
      "needs_background": "light"
     },
     "output_type": "display_data"
    }
   ],
   "source": [
    "#Подсчитаем стоимости заказов по пользователям и построим точечный график:\n",
    "\n",
    "x_values = pd.Series(range(0, len(orders['revenue'])))\n",
    "plt.scatter(x_values, orders['revenue']) \n",
    "plt.axis([0, 1200, 0, 150000])\n",
    "plt.title('График стоимости заказов пользователей')\n",
    "plt.xlabel('Пользователи')\n",
    "plt.ylabel('Стоимость заказов')"
   ]
  },
  {
   "cell_type": "code",
   "execution_count": 51,
   "metadata": {},
   "outputs": [
    {
     "data": {
      "text/plain": [
       "Text(0, 0.5, 'Стоимость заказов')"
      ]
     },
     "execution_count": 51,
     "metadata": {},
     "output_type": "execute_result"
    },
    {
     "data": {
      "image/png": "[encoded data removed]",
      "text/plain": [
       "<Figure size 432x288 with 1 Axes>"
      ]
     },
     "metadata": {
      "needs_background": "light"
     },
     "output_type": "display_data"
    }
   ],
   "source": [
    "# Выведем график без ограничений\n",
    "\n",
    "x_values = pd.Series(range(0, len(orders['revenue'])))\n",
    "plt.scatter(x_values, orders['revenue']) \n",
    "plt.title('График стоимости заказов пользователей')\n",
    "plt.xlabel('Пользователи')\n",
    "plt.ylabel('Стоимость заказов')"
   ]
  },
  {
   "cell_type": "markdown",
   "metadata": {},
   "source": [
    "Заказ выше 1.2млн. - аномальный. Посчитаем перцентили. "
   ]
  },
  {
   "cell_type": "code",
   "execution_count": 16,
   "metadata": {},
   "outputs": [
    {
     "data": {
      "text/plain": [
       "array([28000. , 58233.2])"
      ]
     },
     "execution_count": 16,
     "metadata": {},
     "output_type": "execute_result"
    }
   ],
   "source": [
    "#Посчитаем выборочные перцентили стоимости заказов на одного пользователя:\n",
    "np.percentile(orders['revenue'], [95, 99])"
   ]
  },
  {
   "cell_type": "markdown",
   "metadata": {},
   "source": [
    "Не более 5% пользователей оформляли заказ дороже 28 тысяч. И не более 1% пользователей заказывали на сумму в двое дороже. \n",
    "Аномальными кажутся заказы свыше 30000 единиц."
   ]
  },
  {
   "cell_type": "markdown",
   "metadata": {},
   "source": [
    "**Проверка гипотезы: среднее количество заказов пользователей в разных группах одинаковое** \n",
    "\n",
    "```\n",
    "\n",
    "H_0: Среднее количество заказов в группе А = Среднее количество заказов в группе B`\n",
    "H_1: Среднее количество заказов в группе А ≠ Среднее количество заказов в группе B`\n",
    "alpha = 0.05\n",
    "```"
   ]
  },
  {
   "cell_type": "code",
   "execution_count": 65,
   "metadata": {},
   "outputs": [
    {
     "name": "stdout",
     "output_type": "stream",
     "text": [
      "        date  ordersPerDateA  revenuePerDateA  ordersPerDateB  \\\n",
      "0 2019-08-01              24           148579              21   \n",
      "1 2019-08-02              20            93822              24   \n",
      "2 2019-08-03              24           112473              16   \n",
      "3 2019-08-04              16            70825              17   \n",
      "4 2019-08-05              25           124218              23   \n",
      "\n",
      "   revenuePerDateB  ordersCummulativeA  revenueCummulativeA  \\\n",
      "0           101217                  24               148579   \n",
      "1           165531                  44               242401   \n",
      "2           114248                  68               354874   \n",
      "3           108571                  84               425699   \n",
      "4            92428                 109               549917   \n",
      "\n",
      "   ordersCummulativeB  revenueCummulativeB  visitorsPerDateA  \\\n",
      "0                  21               101217               719   \n",
      "1                  45               266748               619   \n",
      "2                  61               380996               507   \n",
      "3                  78               489567               717   \n",
      "4                 101               581995               756   \n",
      "\n",
      "   visitorsPerDateB  visitorsCummulativeA  visitorsCummulativeB  \n",
      "0               713                   719                   713  \n",
      "1               581                  1338                  1294  \n",
      "2               509                  1845                  1803  \n",
      "3               770                  2562                  2573  \n",
      "4               707                  3318                  3280  \n",
      "p-value: 0.01679\n",
      "Различие в средних, д.е.: 0.138\n"
     ]
    }
   ],
   "source": [
    "#Посчитаем статистическую значимость различий в среднем количестве заказов на посетителя между группами по «сырым» данным\n",
    "\n",
    "visitorsADaily = visitors[visitors['group'] == 'A'][['date', 'visitors']]\n",
    "visitorsADaily.columns = ['date', 'visitorsPerDateA']\n",
    "\n",
    "visitorsACummulative = visitorsADaily.apply(\n",
    "    lambda x: visitorsADaily[visitorsADaily['date'] <= x['date']].agg(\n",
    "        {'date': 'max', 'visitorsPerDateA': 'sum'}\n",
    "    ),\n",
    "    axis=1,\n",
    ")\n",
    "visitorsACummulative.columns = ['date', 'visitorsCummulativeA']\n",
    "\n",
    "visitorsBDaily = visitors[visitors['group'] == 'B'][['date', 'visitors']]\n",
    "visitorsBDaily.columns = ['date', 'visitorsPerDateB']\n",
    "\n",
    "visitorsBCummulative = visitorsBDaily.apply(\n",
    "    lambda x: visitorsBDaily[visitorsBDaily['date'] <= x['date']].agg(\n",
    "        {'date': 'max', 'visitorsPerDateB': 'sum'}\n",
    "    ),\n",
    "    axis=1,\n",
    ")\n",
    "visitorsBCummulative.columns = ['date', 'visitorsCummulativeB']\n",
    "\n",
    "ordersADaily = (\n",
    "    orders[orders['group'] == 'A'][['date', 'transactionId', 'visitorId', 'revenue']]\n",
    "    .groupby('date', as_index=False)\n",
    "    .agg({'transactionId': pd.Series.nunique, 'revenue': 'sum'})\n",
    ")\n",
    "ordersADaily.columns = ['date', 'ordersPerDateA', 'revenuePerDateA']\n",
    "\n",
    "ordersACummulative = ordersADaily.apply(\n",
    "    lambda x: ordersADaily[ordersADaily['date'] <= x['date']].agg(\n",
    "        {'date': 'max', 'ordersPerDateA': 'sum', 'revenuePerDateA': 'sum'}\n",
    "    ),\n",
    "    axis=1,\n",
    ").sort_values(by=['date'])\n",
    "ordersACummulative.columns = [\n",
    "    'date',\n",
    "    'ordersCummulativeA',\n",
    "    'revenueCummulativeA',\n",
    "]\n",
    "\n",
    "ordersBDaily = (\n",
    "    orders[orders['group'] == 'B'][['date', 'transactionId', 'visitorId', 'revenue']]\n",
    "    .groupby('date', as_index=False)\n",
    "    .agg({'transactionId': pd.Series.nunique, 'revenue': 'sum'})\n",
    ")\n",
    "ordersBDaily.columns = ['date', 'ordersPerDateB', 'revenuePerDateB']\n",
    "\n",
    "ordersBCummulative = ordersBDaily.apply(\n",
    "    lambda x: ordersBDaily[ordersBDaily['date'] <= x['date']].agg(\n",
    "        {'date': 'max', 'ordersPerDateB': 'sum', 'revenuePerDateB': 'sum'}\n",
    "    ),\n",
    "    axis=1,\n",
    ").sort_values(by=['date'])\n",
    "ordersBCummulative.columns = [\n",
    "    'date',\n",
    "    'ordersCummulativeB',\n",
    "    'revenueCummulativeB',\n",
    "]\n",
    "\n",
    "data_av = (\n",
    "    ordersADaily.merge(\n",
    "        ordersBDaily, left_on='date', right_on='date', how='left'\n",
    "    )\n",
    "    .merge(ordersACummulative, left_on='date', right_on='date', how='left')\n",
    "    .merge(ordersBCummulative, left_on='date', right_on='date', how='left')\n",
    "    .merge(visitorsADaily, left_on='date', right_on='date', how='left')\n",
    "    .merge(visitorsBDaily, left_on='date', right_on='date', how='left')\n",
    "    .merge(visitorsACummulative, left_on='date', right_on='date', how='left')\n",
    "    .merge(visitorsBCummulative, left_on='date', right_on='date', how='left')\n",
    ")\n",
    "\n",
    "print(data_av.head(5))\n",
    "\n",
    "ordersByUsersA = (\n",
    "    orders[orders['group'] == 'A']\n",
    "    .groupby('visitorId', as_index=False)\n",
    "    .agg({'transactionId': pd.Series.nunique})\n",
    ")\n",
    "ordersByUsersA.columns = ['userId', 'orders']\n",
    "\n",
    "ordersByUsersB = (\n",
    "    orders[orders['group'] == 'B']\n",
    "    .groupby('visitorId', as_index=False)\n",
    "    .agg({'transactionId': pd.Series.nunique})\n",
    ")\n",
    "ordersByUsersB.columns = ['userId', 'orders'] \n",
    "\n",
    "sampleA = pd.concat([ordersByUsersA['orders'],pd.Series(0, index=np.arange(data_av['visitorsPerDateA']\\\n",
    ".sum() - len(ordersByUsersA['orders'])), name='orders')],axis=0)\n",
    "\n",
    "sampleB = pd.concat([ordersByUsersB['orders'],pd.Series(0, index=np.arange(data_av['visitorsPerDateB']\\\n",
    ".sum() - len(ordersByUsersB['orders'])), name='orders')],axis=0)\n",
    "\n",
    "print('p-value:',\"{0:.5f}\".format(st.mannwhitneyu(sampleA, sampleB)[1]))\n",
    "\n",
    "print('Различие в средних, д.е.:',\"{0:.3f}\".format(sampleB.mean() / sampleA.mean() - 1))\n"
   ]
  },
  {
   "cell_type": "markdown",
   "metadata": {},
   "source": [
    "Отвергаем нулевую гипотезу о том, что статистически значимого различия в среднем числе заказов между группами нет, т.к. p-value меньше 0.05. При этом, прирост среднего числа заказов группы B больше группы А на 13.8%."
   ]
  },
  {
   "cell_type": "markdown",
   "metadata": {},
   "source": [
    "**Проверка гипотезы: средняя стоимость заказов пользователей в разных группах одинаковая** \n",
    "\n",
    "```\n",
    "\n",
    "H_0: Средний чек заказов в группе А = Средний чек заказов в группе B`\n",
    "H_1: Средний чек заказов в группе А ≠ Средний чек заказов в группе B`\n",
    "alpha = 0.05\n",
    "```"
   ]
  },
  {
   "cell_type": "code",
   "execution_count": 18,
   "metadata": {},
   "outputs": [
    {
     "name": "stdout",
     "output_type": "stream",
     "text": [
      "0.729\n",
      "0.259\n"
     ]
    }
   ],
   "source": [
    "# Проверим статистическую значимость различий в среднем чеке между группами\n",
    "print('{0:.3f}'.format(st.mannwhitneyu(orders[orders['group']=='A']['revenue'], orders[orders['group']=='B']['revenue'])[1]))\n",
    "print('{0:.3f}'.format(orders[orders['group']=='B']['revenue'].mean()/orders[orders['group']=='A']['revenue'].mean()-1))\n"
   ]
  },
  {
   "cell_type": "markdown",
   "metadata": {},
   "source": [
    "P-value значительно больше 0.05. Значит, причин отвергать нулевую гипотезу и считать, что в среднем чеке есть различия, нет. Однако, средний чек группы B значительно выше среднего чека группы A, почти на 26%, но при таком уровне статистической значимости, данные значения получены случайно."
   ]
  },
  {
   "cell_type": "code",
   "execution_count": 19,
   "metadata": {},
   "outputs": [
    {
     "name": "stdout",
     "output_type": "stream",
     "text": [
      "1099    148427295\n",
      "18      199603092\n",
      "928     204675465\n",
      "23      237748145\n",
      "684     358944393\n",
      "dtype: int64\n",
      "57\n"
     ]
    }
   ],
   "source": [
    "# Узнаем, сколько всего аномальных пользователей\n",
    "usersWithManyOrders = pd.concat(\n",
    "    [\n",
    "        ordersByUsersA[ordersByUsersA['orders'] > 3]['userId'], # по условиям выбранной границы заказов\n",
    "        ordersByUsersB[ordersByUsersB['orders'] > 3]['userId'],\n",
    "    ],\n",
    "    axis=0,\n",
    ")\n",
    "usersWithExpensiveOrders = orders[orders['revenue'] > 30000]['visitorId'] # по условиям выбранной границы стоимости\n",
    "abnormalUsers = (\n",
    "    pd.concat([usersWithManyOrders, usersWithExpensiveOrders], axis=0)\n",
    "    .drop_duplicates()\n",
    "    .sort_values()\n",
    ")\n",
    "print(abnormalUsers.head(5))\n",
    "print(abnormalUsers.shape[0]) \n"
   ]
  },
  {
   "cell_type": "markdown",
   "metadata": {},
   "source": [
    "Всего 57 аномальных значений"
   ]
  },
  {
   "cell_type": "markdown",
   "metadata": {},
   "source": [
    "**Проверка гипотезы: среднее количество заказов пользователей, после фильтрации, в разных группах одинаковое** \n",
    "\n",
    "```\n",
    "\n",
    "H_0: Среднее количество заказов в группе А = Среднее количество заказов в группе B`\n",
    "H_1: Среднее количество заказов в группе А ≠ Среднее количество заказов в группе B`\n",
    "alpha = 0.05\n",
    "```"
   ]
  },
  {
   "cell_type": "code",
   "execution_count": 69,
   "metadata": {},
   "outputs": [
    {
     "name": "stdout",
     "output_type": "stream",
     "text": [
      "0.018\n",
      "0.148\n"
     ]
    }
   ],
   "source": [
    "# Посчитаем статистическую значимость различий в среднем количестве заказов на посетителя между группами по «очищенным» данным\n",
    "sampleAFiltered = pd.concat(\n",
    "    [\n",
    "        ordersByUsersA[\n",
    "            np.logical_not(ordersByUsersA['userId'].isin(abnormalUsers))\n",
    "        ]['orders'],\n",
    "        pd.Series(\n",
    "            0,\n",
    "            index=np.arange(\n",
    "                data_av['visitorsPerDateA'].sum() - len(ordersByUsersA['orders'])\n",
    "            ),\n",
    "            name='orders',\n",
    "        ),\n",
    "    ],\n",
    "    axis=0,\n",
    ")\n",
    "\n",
    "sampleBFiltered = pd.concat(\n",
    "    [\n",
    "        ordersByUsersB[\n",
    "            np.logical_not(ordersByUsersB['userId'].isin(abnormalUsers))\n",
    "        ]['orders'],\n",
    "        pd.Series(\n",
    "            0,\n",
    "            index=np.arange(\n",
    "                data_av['visitorsPerDateB'].sum() - len(ordersByUsersB['orders'])\n",
    "            ),\n",
    "            name='orders',\n",
    "        ),\n",
    "    ],\n",
    "    axis=0,\n",
    ") \n",
    "print('{0:.3f}'.format(st.mannwhitneyu(sampleAFiltered, sampleBFiltered)[1]))\n",
    "print('{0:.3f}'.format(sampleBFiltered.mean()/sampleAFiltered.mean()-1)) \n",
    "\n"
   ]
  },
  {
   "cell_type": "markdown",
   "metadata": {},
   "source": [
    "После чистки данных снова наблюдаем низкое p-value, меньше 0.05. Отвергаем нулевую гипотезу. При этом, \n",
    "прирост среднего числа заказов группы B стал еще на 1% выше предыдущего."
   ]
  },
  {
   "cell_type": "markdown",
   "metadata": {},
   "source": [
    "**Проверка гипотезы: средняя стоимость заказов пользователей, после фильтрации, в разных группах одинаковая** \n",
    "\n",
    "```\n",
    "\n",
    "H_0: Средний чек заказов в группе А = Средний чек заказов в группе B`\n",
    "H_1: Средний чек заказов в группе А ≠ Средний чек заказов в группе B`\n",
    "alpha = 0.05\n",
    "```"
   ]
  },
  {
   "cell_type": "code",
   "execution_count": 70,
   "metadata": {},
   "outputs": [
    {
     "name": "stdout",
     "output_type": "stream",
     "text": [
      "0.958\n",
      "-0.020\n"
     ]
    }
   ],
   "source": [
    "# Посчитаем статистическую значимость различий в среднем чеке заказов между группами по «очищенным» данным\n",
    "print(\n",
    "    '{0:.3f}'.format(\n",
    "        st.mannwhitneyu(\n",
    "            orders[\n",
    "                np.logical_and(\n",
    "                    orders['group'] == 'A',\n",
    "                    np.logical_not(orders['visitorId'].isin(abnormalUsers)),\n",
    "                )\n",
    "            ]['revenue'],\n",
    "            orders[\n",
    "                np.logical_and(\n",
    "                    orders['group'] == 'B',\n",
    "                    np.logical_not(orders['visitorId'].isin(abnormalUsers)),\n",
    "                )\n",
    "            ]['revenue'],\n",
    "        )[1]\n",
    "    )\n",
    ")\n",
    "\n",
    "print(\n",
    "    \"{0:.3f}\".format(\n",
    "        orders[\n",
    "            np.logical_and(\n",
    "                orders['group'] == 'B',\n",
    "                np.logical_not(orders['visitorId'].isin(abnormalUsers)),\n",
    "            )\n",
    "        ]['revenue'].mean()\n",
    "        / orders[\n",
    "            np.logical_and(\n",
    "                orders['group'] == 'A',\n",
    "                np.logical_not(orders['visitorId'].isin(abnormalUsers)),\n",
    "            )\n",
    "        ]['revenue'].mean()\n",
    "        - 1\n",
    "    )\n",
    ") "
   ]
  },
  {
   "cell_type": "markdown",
   "metadata": {},
   "source": [
    "P-value увеличился, но и разница между сегментами нивелировалась и теперь не превышает пол-процента. Отвергнуть нулевую гипотезу не удалось."
   ]
  },
  {
   "cell_type": "markdown",
   "metadata": {},
   "source": [
    "### Общий вывод"
   ]
  },
  {
   "cell_type": "markdown",
   "metadata": {},
   "source": [
    "В результате исследования были приоритизированы гипотезы и проанализированы результаты A/B теста:"
   ]
  },
  {
   "cell_type": "markdown",
   "metadata": {},
   "source": [
    "**Выводы:**\n",
    "1. Наиболее приоритетными, с точки зрения инструмента ICE, являются следующие гипотезы:\n",
    "    1. Запустить акцию, дающую скидку на товар в день рождения\n",
    "    2. Добавить два новых канала привлечения трафика, что позволит привлекать на 30% больше пользователей\n",
    "    3. Добавить форму подписки на все основные страницы, чтобы собрать базу клиентов для email-рассылок\n",
    "2. Наиболее приоритетными, с точки зрения инструмента RICE, являются следующие гипотезы:\n",
    "    1. Добавить форму подписки на все основные страницы, чтобы собрать базу клиентов для email-рассылок\n",
    "    2. Добавить блоки рекомендаций товаров на сайт интернет магазина, чтобы повысить конверсию и средний чек заказа\n",
    "    3. Добавить два новых канала привлечения трафика, что позволит привлекать на 30% больше пользователей\n",
    "3. При необходимости учета охвата пользователей, рекомендуется использовать гипотезы, приоритизированные с помощью инструмента RICE;\n",
    "4. Выручка постепенно увеличвается в течении времени в двух группах, однако в группе B наблюдается аномальный рост в середине периода;\n",
    "5. Существует статистически значимое различие по среднему количеству заказов между группами и по «сырым», и по данным после фильтрации аномалий. Тест показывает, что количество заказов растет в группе B вне зависимости от содержания аномальных значений;\n",
    "6. Однако, нет статистически значимого различия по среднему чеку между группами ни по «сырым», ни по данным после фильтрации аномалий. Но, при этом, после фильтрации аномалий, разница в среднем чеке между группами нивелировалась. Это объясняет аномальное поведение данных на графике среднего чека;\n",
    "7. По результатам текущего тестирования наблюдается существенный рост заказов. В то же время, стоимость этих заказов практически не изменилась.\n",
    "8. Рекомендуется зафиксировать результаты тестирования, победой группы B и остановить его. Так, уже сейчас наблюдается прогрессирующая, позитивная динамика группы B над А, с точки зрения количества заказов. Существующее целевое различие групп, вероятнее всего, уже не покажет различие в среднем чеке. "
   ]
  }
 ],
 "metadata": {
  "ExecuteTimeLog": [
   {
    "duration": 4,
    "start_time": "2023-05-02T14:22:39.680Z"
   },
   {
    "duration": 2,
    "start_time": "2023-05-02T14:22:43.053Z"
   },
   {
    "duration": 1380,
    "start_time": "2023-05-02T14:26:20.910Z"
   },
   {
    "duration": 27,
    "start_time": "2023-05-02T14:26:31.381Z"
   },
   {
    "duration": 3,
    "start_time": "2023-05-02T14:33:29.960Z"
   },
   {
    "duration": 8,
    "start_time": "2023-05-02T14:33:40.280Z"
   },
   {
    "duration": 11,
    "start_time": "2023-05-02T14:34:05.453Z"
   },
   {
    "duration": 5,
    "start_time": "2023-05-02T14:35:17.148Z"
   },
   {
    "duration": 36,
    "start_time": "2023-05-02T14:37:39.769Z"
   },
   {
    "duration": 886,
    "start_time": "2023-05-02T14:41:20.177Z"
   },
   {
    "duration": 27,
    "start_time": "2023-05-02T14:42:05.032Z"
   },
   {
    "duration": 9,
    "start_time": "2023-05-02T14:42:05.061Z"
   },
   {
    "duration": 12,
    "start_time": "2023-05-02T14:42:05.071Z"
   },
   {
    "duration": 13,
    "start_time": "2023-05-02T14:42:38.973Z"
   },
   {
    "duration": 12,
    "start_time": "2023-05-02T14:42:45.279Z"
   },
   {
    "duration": 47,
    "start_time": "2023-05-02T14:45:14.938Z"
   },
   {
    "duration": 2,
    "start_time": "2023-05-02T14:55:52.825Z"
   },
   {
    "duration": 137,
    "start_time": "2023-05-02T14:57:45.324Z"
   },
   {
    "duration": 23,
    "start_time": "2023-05-02T15:11:19.445Z"
   },
   {
    "duration": 28,
    "start_time": "2023-05-02T15:12:00.026Z"
   },
   {
    "duration": 294,
    "start_time": "2023-05-02T15:12:04.726Z"
   },
   {
    "duration": 421,
    "start_time": "2023-05-02T15:17:13.932Z"
   },
   {
    "duration": 281,
    "start_time": "2023-05-02T15:19:47.814Z"
   },
   {
    "duration": 310,
    "start_time": "2023-05-02T15:19:54.277Z"
   },
   {
    "duration": 294,
    "start_time": "2023-05-02T15:20:05.026Z"
   },
   {
    "duration": 285,
    "start_time": "2023-05-02T15:20:24.671Z"
   },
   {
    "duration": 304,
    "start_time": "2023-05-02T15:20:45.976Z"
   },
   {
    "duration": 176,
    "start_time": "2023-05-02T15:20:58.526Z"
   },
   {
    "duration": 259,
    "start_time": "2023-05-02T15:21:08.318Z"
   },
   {
    "duration": 301,
    "start_time": "2023-05-02T15:21:16.355Z"
   },
   {
    "duration": 299,
    "start_time": "2023-05-02T15:21:25.712Z"
   },
   {
    "duration": 297,
    "start_time": "2023-05-02T15:21:48.526Z"
   },
   {
    "duration": 294,
    "start_time": "2023-05-02T15:22:57.427Z"
   },
   {
    "duration": 295,
    "start_time": "2023-05-02T15:23:04.731Z"
   },
   {
    "duration": 348,
    "start_time": "2023-05-02T15:23:24.022Z"
   },
   {
    "duration": 308,
    "start_time": "2023-05-02T15:23:52.223Z"
   },
   {
    "duration": 323,
    "start_time": "2023-05-02T15:24:24.619Z"
   },
   {
    "duration": 314,
    "start_time": "2023-05-02T15:24:45.234Z"
   },
   {
    "duration": 291,
    "start_time": "2023-05-02T15:27:53.252Z"
   },
   {
    "duration": 390,
    "start_time": "2023-05-02T15:29:25.211Z"
   },
   {
    "duration": 292,
    "start_time": "2023-05-02T15:29:33.425Z"
   },
   {
    "duration": 303,
    "start_time": "2023-05-02T15:29:36.681Z"
   },
   {
    "duration": 319,
    "start_time": "2023-05-02T15:30:07.038Z"
   },
   {
    "duration": 287,
    "start_time": "2023-05-02T15:32:05.162Z"
   },
   {
    "duration": 438,
    "start_time": "2023-05-02T15:35:53.726Z"
   },
   {
    "duration": 350,
    "start_time": "2023-05-02T16:50:06.413Z"
   },
   {
    "duration": 289,
    "start_time": "2023-05-02T16:50:16.873Z"
   },
   {
    "duration": 318,
    "start_time": "2023-05-02T16:50:24.846Z"
   },
   {
    "duration": 310,
    "start_time": "2023-05-02T16:51:16.532Z"
   },
   {
    "duration": 327,
    "start_time": "2023-05-02T16:51:37.089Z"
   },
   {
    "duration": 18,
    "start_time": "2023-05-02T16:52:48.929Z"
   },
   {
    "duration": 14,
    "start_time": "2023-05-02T16:52:57.249Z"
   },
   {
    "duration": 462,
    "start_time": "2023-05-02T16:53:26.764Z"
   },
   {
    "duration": 398,
    "start_time": "2023-05-02T16:53:30.815Z"
   },
   {
    "duration": 310,
    "start_time": "2023-05-02T16:53:40.870Z"
   },
   {
    "duration": 363,
    "start_time": "2023-05-02T16:53:48.783Z"
   },
   {
    "duration": 24,
    "start_time": "2023-05-02T16:54:36.163Z"
   },
   {
    "duration": 371,
    "start_time": "2023-05-02T16:54:44.663Z"
   },
   {
    "duration": 222,
    "start_time": "2023-05-02T17:01:14.873Z"
   },
   {
    "duration": 203,
    "start_time": "2023-05-02T17:01:19.335Z"
   },
   {
    "duration": 178,
    "start_time": "2023-05-02T17:01:23.312Z"
   },
   {
    "duration": 195,
    "start_time": "2023-05-02T17:01:35.835Z"
   },
   {
    "duration": 185,
    "start_time": "2023-05-02T17:02:03.438Z"
   },
   {
    "duration": 289,
    "start_time": "2023-05-02T17:02:13.309Z"
   },
   {
    "duration": 186,
    "start_time": "2023-05-02T17:02:17.031Z"
   },
   {
    "duration": 307,
    "start_time": "2023-05-02T17:02:34.523Z"
   },
   {
    "duration": 406,
    "start_time": "2023-05-02T17:04:33.913Z"
   },
   {
    "duration": 317,
    "start_time": "2023-05-02T17:05:13.310Z"
   },
   {
    "duration": 307,
    "start_time": "2023-05-02T17:05:27.819Z"
   },
   {
    "duration": 322,
    "start_time": "2023-05-02T17:05:37.642Z"
   },
   {
    "duration": 298,
    "start_time": "2023-05-02T17:10:45.249Z"
   },
   {
    "duration": 394,
    "start_time": "2023-05-02T17:11:01.247Z"
   },
   {
    "duration": 49,
    "start_time": "2023-05-02T17:12:21.330Z"
   },
   {
    "duration": 13,
    "start_time": "2023-05-02T17:15:41.913Z"
   },
   {
    "duration": 18,
    "start_time": "2023-05-02T17:15:48.708Z"
   },
   {
    "duration": 13,
    "start_time": "2023-05-02T17:16:21.507Z"
   },
   {
    "duration": 8,
    "start_time": "2023-05-02T17:16:42.925Z"
   },
   {
    "duration": 134,
    "start_time": "2023-05-02T17:17:03.758Z"
   },
   {
    "duration": 5,
    "start_time": "2023-05-02T17:20:50.942Z"
   },
   {
    "duration": 738,
    "start_time": "2023-05-02T17:28:58.183Z"
   },
   {
    "duration": 134,
    "start_time": "2023-05-02T17:29:17.562Z"
   },
   {
    "duration": 693,
    "start_time": "2023-05-02T17:32:11.981Z"
   },
   {
    "duration": 5,
    "start_time": "2023-05-02T17:32:36.429Z"
   },
   {
    "duration": 117,
    "start_time": "2023-05-02T17:35:37.103Z"
   },
   {
    "duration": 123,
    "start_time": "2023-05-02T17:35:46.993Z"
   },
   {
    "duration": 249,
    "start_time": "2023-05-02T17:36:12.190Z"
   },
   {
    "duration": 130,
    "start_time": "2023-05-02T17:36:52.152Z"
   },
   {
    "duration": 131,
    "start_time": "2023-05-02T17:38:47.581Z"
   },
   {
    "duration": 1031,
    "start_time": "2023-05-02T17:57:21.865Z"
   },
   {
    "duration": 320,
    "start_time": "2023-05-02T17:59:25.838Z"
   },
   {
    "duration": 363,
    "start_time": "2023-05-02T17:59:57.095Z"
   },
   {
    "duration": 53,
    "start_time": "2023-05-03T16:14:17.086Z"
   },
   {
    "duration": 1472,
    "start_time": "2023-05-03T16:14:25.762Z"
   },
   {
    "duration": 13,
    "start_time": "2023-05-03T16:14:27.236Z"
   },
   {
    "duration": 12,
    "start_time": "2023-05-03T16:14:27.250Z"
   },
   {
    "duration": 145,
    "start_time": "2023-05-03T16:14:27.264Z"
   },
   {
    "duration": 288,
    "start_time": "2023-05-03T16:14:27.411Z"
   },
   {
    "duration": 332,
    "start_time": "2023-05-03T16:14:27.701Z"
   },
   {
    "duration": 305,
    "start_time": "2023-05-03T16:14:28.034Z"
   },
   {
    "duration": 460,
    "start_time": "2023-05-03T16:14:28.341Z"
   },
   {
    "duration": 310,
    "start_time": "2023-05-03T16:14:28.802Z"
   },
   {
    "duration": 377,
    "start_time": "2023-05-03T16:14:29.115Z"
   },
   {
    "duration": 139,
    "start_time": "2023-05-03T16:14:29.494Z"
   },
   {
    "duration": 5,
    "start_time": "2023-05-03T16:14:29.635Z"
   },
   {
    "duration": 164,
    "start_time": "2023-05-03T16:14:29.642Z"
   },
   {
    "duration": 6,
    "start_time": "2023-05-03T16:14:29.808Z"
   },
   {
    "duration": 424,
    "start_time": "2023-05-03T16:14:29.815Z"
   },
   {
    "duration": 80,
    "start_time": "2023-05-03T16:14:30.241Z"
   },
   {
    "duration": 11,
    "start_time": "2023-05-03T16:14:40.012Z"
   },
   {
    "duration": 751,
    "start_time": "2023-05-03T16:31:16.856Z"
   },
   {
    "duration": 764,
    "start_time": "2023-05-03T16:31:40.389Z"
   },
   {
    "duration": 1247,
    "start_time": "2023-05-03T16:34:17.257Z"
   },
   {
    "duration": 14,
    "start_time": "2023-05-03T16:34:18.506Z"
   },
   {
    "duration": 12,
    "start_time": "2023-05-03T16:34:18.522Z"
   },
   {
    "duration": 50,
    "start_time": "2023-05-03T16:34:18.535Z"
   },
   {
    "duration": 318,
    "start_time": "2023-05-03T16:34:18.587Z"
   },
   {
    "duration": 326,
    "start_time": "2023-05-03T16:34:18.907Z"
   },
   {
    "duration": 283,
    "start_time": "2023-05-03T16:34:19.235Z"
   },
   {
    "duration": 360,
    "start_time": "2023-05-03T16:34:19.520Z"
   },
   {
    "duration": 316,
    "start_time": "2023-05-03T16:34:19.882Z"
   },
   {
    "duration": 433,
    "start_time": "2023-05-03T16:34:20.201Z"
   },
   {
    "duration": 139,
    "start_time": "2023-05-03T16:34:20.636Z"
   },
   {
    "duration": 6,
    "start_time": "2023-05-03T16:34:20.790Z"
   },
   {
    "duration": 160,
    "start_time": "2023-05-03T16:34:20.798Z"
   },
   {
    "duration": 5,
    "start_time": "2023-05-03T16:34:20.962Z"
   },
   {
    "duration": 414,
    "start_time": "2023-05-03T16:34:20.969Z"
   },
   {
    "duration": 13,
    "start_time": "2023-05-03T16:34:21.384Z"
   },
   {
    "duration": 905,
    "start_time": "2023-05-03T16:34:21.398Z"
   },
   {
    "duration": 9,
    "start_time": "2023-05-03T16:35:48.657Z"
   },
   {
    "duration": 813,
    "start_time": "2023-05-03T16:39:02.349Z"
   },
   {
    "duration": 22,
    "start_time": "2023-05-03T16:39:31.672Z"
   },
   {
    "duration": 29,
    "start_time": "2023-05-03T16:39:38.291Z"
   },
   {
    "duration": 13,
    "start_time": "2023-05-03T16:45:25.147Z"
   },
   {
    "duration": 822,
    "start_time": "2023-05-03T16:45:47.836Z"
   },
   {
    "duration": 15,
    "start_time": "2023-05-03T16:46:19.301Z"
   },
   {
    "duration": 287,
    "start_time": "2023-05-03T17:04:11.034Z"
   },
   {
    "duration": 1359,
    "start_time": "2023-05-03T17:26:39.219Z"
   },
   {
    "duration": 15,
    "start_time": "2023-05-03T17:26:40.581Z"
   },
   {
    "duration": 14,
    "start_time": "2023-05-03T17:26:40.598Z"
   },
   {
    "duration": 66,
    "start_time": "2023-05-03T17:26:40.615Z"
   },
   {
    "duration": 306,
    "start_time": "2023-05-03T17:26:40.683Z"
   },
   {
    "duration": 332,
    "start_time": "2023-05-03T17:26:40.991Z"
   },
   {
    "duration": 302,
    "start_time": "2023-05-03T17:26:41.325Z"
   },
   {
    "duration": 379,
    "start_time": "2023-05-03T17:26:41.629Z"
   },
   {
    "duration": 302,
    "start_time": "2023-05-03T17:26:42.009Z"
   },
   {
    "duration": 392,
    "start_time": "2023-05-03T17:26:42.315Z"
   },
   {
    "duration": 145,
    "start_time": "2023-05-03T17:26:42.710Z"
   },
   {
    "duration": 6,
    "start_time": "2023-05-03T17:26:42.857Z"
   },
   {
    "duration": 168,
    "start_time": "2023-05-03T17:26:42.865Z"
   },
   {
    "duration": 5,
    "start_time": "2023-05-03T17:26:43.035Z"
   },
   {
    "duration": 394,
    "start_time": "2023-05-03T17:26:43.042Z"
   },
   {
    "duration": 12,
    "start_time": "2023-05-03T17:26:43.437Z"
   },
   {
    "duration": 16,
    "start_time": "2023-05-03T17:26:43.450Z"
   },
   {
    "duration": 42,
    "start_time": "2023-05-03T17:26:43.468Z"
   },
   {
    "duration": 15,
    "start_time": "2023-05-03T17:26:43.512Z"
   },
   {
    "duration": 10,
    "start_time": "2023-05-03T17:29:13.348Z"
   },
   {
    "duration": 29,
    "start_time": "2023-05-03T17:29:24.913Z"
   },
   {
    "duration": 17,
    "start_time": "2023-05-03T17:29:43.329Z"
   },
   {
    "duration": 1575,
    "start_time": "2023-05-04T12:22:52.117Z"
   },
   {
    "duration": 36,
    "start_time": "2023-05-04T12:22:53.695Z"
   },
   {
    "duration": 27,
    "start_time": "2023-05-04T12:22:53.736Z"
   },
   {
    "duration": 207,
    "start_time": "2023-05-04T12:22:53.766Z"
   },
   {
    "duration": 363,
    "start_time": "2023-05-04T12:22:53.975Z"
   },
   {
    "duration": 342,
    "start_time": "2023-05-04T12:22:54.340Z"
   },
   {
    "duration": 294,
    "start_time": "2023-05-04T12:22:54.684Z"
   },
   {
    "duration": 470,
    "start_time": "2023-05-04T12:22:54.980Z"
   },
   {
    "duration": 306,
    "start_time": "2023-05-04T12:22:55.452Z"
   },
   {
    "duration": 431,
    "start_time": "2023-05-04T12:22:55.759Z"
   },
   {
    "duration": 127,
    "start_time": "2023-05-04T12:22:56.198Z"
   },
   {
    "duration": 6,
    "start_time": "2023-05-04T12:22:56.327Z"
   },
   {
    "duration": 155,
    "start_time": "2023-05-04T12:22:56.336Z"
   },
   {
    "duration": 13,
    "start_time": "2023-05-04T12:22:56.493Z"
   },
   {
    "duration": 422,
    "start_time": "2023-05-04T12:22:56.507Z"
   },
   {
    "duration": 18,
    "start_time": "2023-05-04T12:22:56.931Z"
   },
   {
    "duration": 18,
    "start_time": "2023-05-04T12:22:56.957Z"
   },
   {
    "duration": 41,
    "start_time": "2023-05-04T12:22:56.977Z"
   },
   {
    "duration": 15,
    "start_time": "2023-05-04T12:22:57.020Z"
   },
   {
    "duration": 1381,
    "start_time": "2023-05-04T12:27:50.829Z"
   },
   {
    "duration": 21,
    "start_time": "2023-05-04T12:27:52.216Z"
   },
   {
    "duration": 14,
    "start_time": "2023-05-04T12:27:52.240Z"
   },
   {
    "duration": 94,
    "start_time": "2023-05-04T12:27:52.256Z"
   },
   {
    "duration": 316,
    "start_time": "2023-05-04T12:27:52.352Z"
   },
   {
    "duration": 327,
    "start_time": "2023-05-04T12:27:52.670Z"
   },
   {
    "duration": 294,
    "start_time": "2023-05-04T12:27:52.999Z"
   },
   {
    "duration": 377,
    "start_time": "2023-05-04T12:27:53.296Z"
   },
   {
    "duration": 344,
    "start_time": "2023-05-04T12:27:53.675Z"
   },
   {
    "duration": 513,
    "start_time": "2023-05-04T12:27:54.026Z"
   },
   {
    "duration": 179,
    "start_time": "2023-05-04T12:27:54.541Z"
   },
   {
    "duration": 5,
    "start_time": "2023-05-04T12:27:54.722Z"
   },
   {
    "duration": 183,
    "start_time": "2023-05-04T12:27:54.729Z"
   },
   {
    "duration": 7,
    "start_time": "2023-05-04T12:27:54.913Z"
   },
   {
    "duration": 455,
    "start_time": "2023-05-04T12:27:54.922Z"
   },
   {
    "duration": 10,
    "start_time": "2023-05-04T12:27:55.379Z"
   },
   {
    "duration": 25,
    "start_time": "2023-05-04T12:27:55.391Z"
   },
   {
    "duration": 49,
    "start_time": "2023-05-04T12:27:55.418Z"
   },
   {
    "duration": 18,
    "start_time": "2023-05-04T12:27:55.469Z"
   },
   {
    "duration": 91,
    "start_time": "2023-05-04T14:50:02.870Z"
   },
   {
    "duration": 44,
    "start_time": "2023-05-04T15:04:54.096Z"
   },
   {
    "duration": 1412,
    "start_time": "2023-05-04T15:05:01.666Z"
   },
   {
    "duration": 8,
    "start_time": "2023-05-04T15:05:03.080Z"
   },
   {
    "duration": 25,
    "start_time": "2023-05-04T15:05:03.089Z"
   },
   {
    "duration": 187,
    "start_time": "2023-05-04T15:05:03.115Z"
   },
   {
    "duration": 255,
    "start_time": "2023-05-04T15:05:03.304Z"
   },
   {
    "duration": 277,
    "start_time": "2023-05-04T15:05:03.560Z"
   },
   {
    "duration": 252,
    "start_time": "2023-05-04T15:05:03.839Z"
   },
   {
    "duration": 359,
    "start_time": "2023-05-04T15:05:04.092Z"
   },
   {
    "duration": 251,
    "start_time": "2023-05-04T15:05:04.453Z"
   },
   {
    "duration": 335,
    "start_time": "2023-05-04T15:05:04.706Z"
   },
   {
    "duration": 121,
    "start_time": "2023-05-04T15:05:05.043Z"
   },
   {
    "duration": 5,
    "start_time": "2023-05-04T15:05:05.172Z"
   },
   {
    "duration": 133,
    "start_time": "2023-05-04T15:05:05.179Z"
   },
   {
    "duration": 4,
    "start_time": "2023-05-04T15:05:05.315Z"
   },
   {
    "duration": 357,
    "start_time": "2023-05-04T15:05:05.321Z"
   },
   {
    "duration": 11,
    "start_time": "2023-05-04T15:05:05.680Z"
   },
   {
    "duration": 22,
    "start_time": "2023-05-04T15:05:05.692Z"
   },
   {
    "duration": 46,
    "start_time": "2023-05-04T15:05:05.716Z"
   },
   {
    "duration": 15,
    "start_time": "2023-05-04T15:05:05.764Z"
   },
   {
    "duration": 11,
    "start_time": "2023-05-04T15:05:21.745Z"
   },
   {
    "duration": 14,
    "start_time": "2023-05-04T15:05:25.610Z"
   },
   {
    "duration": 12,
    "start_time": "2023-05-04T15:05:37.487Z"
   },
   {
    "duration": 13,
    "start_time": "2023-05-04T15:05:43.148Z"
   },
   {
    "duration": 67,
    "start_time": "2023-05-04T15:08:19.499Z"
   },
   {
    "duration": 72,
    "start_time": "2023-05-04T15:09:00.816Z"
   },
   {
    "duration": 11,
    "start_time": "2023-05-04T15:09:42.677Z"
   },
   {
    "duration": 10,
    "start_time": "2023-05-04T15:10:13.965Z"
   },
   {
    "duration": 17,
    "start_time": "2023-05-04T15:10:26.863Z"
   },
   {
    "duration": 6,
    "start_time": "2023-05-04T15:13:27.826Z"
   },
   {
    "duration": 8,
    "start_time": "2023-05-04T15:14:16.082Z"
   },
   {
    "duration": 6,
    "start_time": "2023-05-04T15:16:13.453Z"
   },
   {
    "duration": 6,
    "start_time": "2023-05-04T15:29:58.147Z"
   },
   {
    "duration": 9,
    "start_time": "2023-05-04T15:30:10.474Z"
   },
   {
    "duration": 242,
    "start_time": "2023-05-04T15:34:33.779Z"
   },
   {
    "duration": 299,
    "start_time": "2023-05-04T15:36:57.143Z"
   },
   {
    "duration": 246,
    "start_time": "2023-05-04T15:37:31.123Z"
   },
   {
    "duration": 303,
    "start_time": "2023-05-04T15:37:44.190Z"
   },
   {
    "duration": 399,
    "start_time": "2023-05-04T15:37:53.512Z"
   },
   {
    "duration": 463,
    "start_time": "2023-05-04T15:38:24.719Z"
   },
   {
    "duration": 284,
    "start_time": "2023-05-04T15:41:15.328Z"
   },
   {
    "duration": 239,
    "start_time": "2023-05-04T15:50:23.035Z"
   },
   {
    "duration": 336,
    "start_time": "2023-05-04T16:00:24.017Z"
   },
   {
    "duration": 346,
    "start_time": "2023-05-04T16:00:57.890Z"
   },
   {
    "duration": 277,
    "start_time": "2023-05-04T16:02:29.795Z"
   },
   {
    "duration": 371,
    "start_time": "2023-05-04T16:03:43.442Z"
   },
   {
    "duration": 187,
    "start_time": "2023-05-04T16:08:42.534Z"
   },
   {
    "duration": 112,
    "start_time": "2023-05-04T16:10:31.839Z"
   },
   {
    "duration": 124,
    "start_time": "2023-05-04T16:11:34.703Z"
   },
   {
    "duration": 129,
    "start_time": "2023-05-04T16:11:44.449Z"
   },
   {
    "duration": 334,
    "start_time": "2023-05-04T16:13:33.492Z"
   },
   {
    "duration": 343,
    "start_time": "2023-05-04T16:14:10.992Z"
   },
   {
    "duration": 316,
    "start_time": "2023-05-04T16:29:39.892Z"
   },
   {
    "duration": 294,
    "start_time": "2023-05-04T16:35:08.555Z"
   },
   {
    "duration": 269,
    "start_time": "2023-05-04T16:35:31.392Z"
   },
   {
    "duration": 292,
    "start_time": "2023-05-04T16:35:41.355Z"
   },
   {
    "duration": 286,
    "start_time": "2023-05-04T16:36:10.053Z"
   },
   {
    "duration": 350,
    "start_time": "2023-05-04T16:36:19.412Z"
   },
   {
    "duration": 300,
    "start_time": "2023-05-04T16:36:28.489Z"
   },
   {
    "duration": 394,
    "start_time": "2023-05-04T16:36:40.083Z"
   },
   {
    "duration": 344,
    "start_time": "2023-05-04T16:38:48.372Z"
   },
   {
    "duration": 384,
    "start_time": "2023-05-04T16:39:52.827Z"
   },
   {
    "duration": 340,
    "start_time": "2023-05-04T16:40:09.940Z"
   },
   {
    "duration": 328,
    "start_time": "2023-05-04T16:41:55.132Z"
   },
   {
    "duration": 76,
    "start_time": "2023-05-04T16:47:32.983Z"
   },
   {
    "duration": 160,
    "start_time": "2023-05-04T17:20:00.870Z"
   },
   {
    "duration": 25,
    "start_time": "2023-05-04T17:20:13.828Z"
   },
   {
    "duration": 22,
    "start_time": "2023-05-04T17:26:50.347Z"
   },
   {
    "duration": 14,
    "start_time": "2023-05-04T17:27:28.607Z"
   }
  ],
  "kernelspec": {
   "display_name": "Python 3 (ipykernel)",
   "language": "python",
   "name": "python3"
  },
  "language_info": {
   "codemirror_mode": {
    "name": "ipython",
    "version": 3
   },
   "file_extension": ".py",
   "mimetype": "text/x-python",
   "name": "python",
   "nbconvert_exporter": "python",
   "pygments_lexer": "ipython3",
   "version": "3.9.15"
  },
  "toc": {
   "base_numbering": 1,
   "nav_menu": {},
   "number_sections": true,
   "sideBar": true,
   "skip_h1_title": true,
   "title_cell": "Table of Contents",
   "title_sidebar": "Contents",
   "toc_cell": false,
   "toc_position": {},
   "toc_section_display": true,
   "toc_window_display": false
  }
 },
 "nbformat": 4,
 "nbformat_minor": 2
}
