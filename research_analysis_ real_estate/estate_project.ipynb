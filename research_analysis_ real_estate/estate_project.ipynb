{
 "cells": [
  {
   "cell_type": "markdown",
   "metadata": {},
   "source": [
    "# Исследовательский анализ недвижимости\n",
    "В распоряжении данные сервиса Яндекс Недвижимость — архив объявлений за несколько лет о продаже квартир в Санкт-Петербурге и соседних населённых пунктах.\n",
    "Задача — выполнить предобработку данных и изучить их, чтобы найти интересные особенности и зависимости, которые существуют на рынке недвижимости.\n",
    "О каждой квартире в базе содержится два типа данных: добавленные пользователем и картографические. Например, к первому типу относятся площадь квартиры, её этаж и количество балконов, ко второму — расстояния до центра города, аэропорта и ближайшего парка. "
   ]
  },
  {
   "cell_type": "markdown",
   "metadata": {},
   "source": [
    "### Знакомство с данными"
   ]
  },
  {
   "cell_type": "code",
   "execution_count": 5,
   "metadata": {
    "scrolled": true
   },
   "outputs": [
    {
     "data": {
      "text/html": [
       "<div>\n",
       "<style scoped>\n",
       "    .dataframe tbody tr th:only-of-type {\n",
       "        vertical-align: middle;\n",
       "    }\n",
       "\n",
       "    .dataframe tbody tr th {\n",
       "        vertical-align: top;\n",
       "    }\n",
       "\n",
       "    .dataframe thead th {\n",
       "        text-align: right;\n",
       "    }\n",
       "</style>\n",
       "<table border=\"1\" class=\"dataframe\">\n",
       "  <thead>\n",
       "    <tr style=\"text-align: right;\">\n",
       "      <th></th>\n",
       "      <th>total_images</th>\n",
       "      <th>last_price</th>\n",
       "      <th>total_area</th>\n",
       "      <th>first_day_exposition</th>\n",
       "      <th>rooms</th>\n",
       "      <th>ceiling_height</th>\n",
       "      <th>floors_total</th>\n",
       "      <th>living_area</th>\n",
       "      <th>floor</th>\n",
       "      <th>is_apartment</th>\n",
       "      <th>...</th>\n",
       "      <th>kitchen_area</th>\n",
       "      <th>balcony</th>\n",
       "      <th>locality_name</th>\n",
       "      <th>airports_nearest</th>\n",
       "      <th>cityCenters_nearest</th>\n",
       "      <th>parks_around3000</th>\n",
       "      <th>parks_nearest</th>\n",
       "      <th>ponds_around3000</th>\n",
       "      <th>ponds_nearest</th>\n",
       "      <th>days_exposition</th>\n",
       "    </tr>\n",
       "  </thead>\n",
       "  <tbody>\n",
       "    <tr>\n",
       "      <th>0</th>\n",
       "      <td>20</td>\n",
       "      <td>13000000.0</td>\n",
       "      <td>108.00</td>\n",
       "      <td>2019-03-07T00:00:00</td>\n",
       "      <td>3</td>\n",
       "      <td>2.70</td>\n",
       "      <td>16.0</td>\n",
       "      <td>51.00</td>\n",
       "      <td>8</td>\n",
       "      <td>NaN</td>\n",
       "      <td>...</td>\n",
       "      <td>25.00</td>\n",
       "      <td>NaN</td>\n",
       "      <td>Санкт-Петербург</td>\n",
       "      <td>18863.0</td>\n",
       "      <td>16028.0</td>\n",
       "      <td>1.0</td>\n",
       "      <td>482.0</td>\n",
       "      <td>2.0</td>\n",
       "      <td>755.0</td>\n",
       "      <td>NaN</td>\n",
       "    </tr>\n",
       "    <tr>\n",
       "      <th>1</th>\n",
       "      <td>7</td>\n",
       "      <td>3350000.0</td>\n",
       "      <td>40.40</td>\n",
       "      <td>2018-12-04T00:00:00</td>\n",
       "      <td>1</td>\n",
       "      <td>NaN</td>\n",
       "      <td>11.0</td>\n",
       "      <td>18.60</td>\n",
       "      <td>1</td>\n",
       "      <td>NaN</td>\n",
       "      <td>...</td>\n",
       "      <td>11.00</td>\n",
       "      <td>2.0</td>\n",
       "      <td>посёлок Шушары</td>\n",
       "      <td>12817.0</td>\n",
       "      <td>18603.0</td>\n",
       "      <td>0.0</td>\n",
       "      <td>NaN</td>\n",
       "      <td>0.0</td>\n",
       "      <td>NaN</td>\n",
       "      <td>81.0</td>\n",
       "    </tr>\n",
       "    <tr>\n",
       "      <th>2</th>\n",
       "      <td>10</td>\n",
       "      <td>5196000.0</td>\n",
       "      <td>56.00</td>\n",
       "      <td>2015-08-20T00:00:00</td>\n",
       "      <td>2</td>\n",
       "      <td>NaN</td>\n",
       "      <td>5.0</td>\n",
       "      <td>34.30</td>\n",
       "      <td>4</td>\n",
       "      <td>NaN</td>\n",
       "      <td>...</td>\n",
       "      <td>8.30</td>\n",
       "      <td>0.0</td>\n",
       "      <td>Санкт-Петербург</td>\n",
       "      <td>21741.0</td>\n",
       "      <td>13933.0</td>\n",
       "      <td>1.0</td>\n",
       "      <td>90.0</td>\n",
       "      <td>2.0</td>\n",
       "      <td>574.0</td>\n",
       "      <td>558.0</td>\n",
       "    </tr>\n",
       "    <tr>\n",
       "      <th>3</th>\n",
       "      <td>0</td>\n",
       "      <td>64900000.0</td>\n",
       "      <td>159.00</td>\n",
       "      <td>2015-07-24T00:00:00</td>\n",
       "      <td>3</td>\n",
       "      <td>NaN</td>\n",
       "      <td>14.0</td>\n",
       "      <td>NaN</td>\n",
       "      <td>9</td>\n",
       "      <td>NaN</td>\n",
       "      <td>...</td>\n",
       "      <td>NaN</td>\n",
       "      <td>0.0</td>\n",
       "      <td>Санкт-Петербург</td>\n",
       "      <td>28098.0</td>\n",
       "      <td>6800.0</td>\n",
       "      <td>2.0</td>\n",
       "      <td>84.0</td>\n",
       "      <td>3.0</td>\n",
       "      <td>234.0</td>\n",
       "      <td>424.0</td>\n",
       "    </tr>\n",
       "    <tr>\n",
       "      <th>4</th>\n",
       "      <td>2</td>\n",
       "      <td>10000000.0</td>\n",
       "      <td>100.00</td>\n",
       "      <td>2018-06-19T00:00:00</td>\n",
       "      <td>2</td>\n",
       "      <td>3.03</td>\n",
       "      <td>14.0</td>\n",
       "      <td>32.00</td>\n",
       "      <td>13</td>\n",
       "      <td>NaN</td>\n",
       "      <td>...</td>\n",
       "      <td>41.00</td>\n",
       "      <td>NaN</td>\n",
       "      <td>Санкт-Петербург</td>\n",
       "      <td>31856.0</td>\n",
       "      <td>8098.0</td>\n",
       "      <td>2.0</td>\n",
       "      <td>112.0</td>\n",
       "      <td>1.0</td>\n",
       "      <td>48.0</td>\n",
       "      <td>121.0</td>\n",
       "    </tr>\n",
       "    <tr>\n",
       "      <th>5</th>\n",
       "      <td>10</td>\n",
       "      <td>2890000.0</td>\n",
       "      <td>30.40</td>\n",
       "      <td>2018-09-10T00:00:00</td>\n",
       "      <td>1</td>\n",
       "      <td>NaN</td>\n",
       "      <td>12.0</td>\n",
       "      <td>14.40</td>\n",
       "      <td>5</td>\n",
       "      <td>NaN</td>\n",
       "      <td>...</td>\n",
       "      <td>9.10</td>\n",
       "      <td>NaN</td>\n",
       "      <td>городской посёлок Янино-1</td>\n",
       "      <td>NaN</td>\n",
       "      <td>NaN</td>\n",
       "      <td>NaN</td>\n",
       "      <td>NaN</td>\n",
       "      <td>NaN</td>\n",
       "      <td>NaN</td>\n",
       "      <td>55.0</td>\n",
       "    </tr>\n",
       "    <tr>\n",
       "      <th>6</th>\n",
       "      <td>6</td>\n",
       "      <td>3700000.0</td>\n",
       "      <td>37.30</td>\n",
       "      <td>2017-11-02T00:00:00</td>\n",
       "      <td>1</td>\n",
       "      <td>NaN</td>\n",
       "      <td>26.0</td>\n",
       "      <td>10.60</td>\n",
       "      <td>6</td>\n",
       "      <td>NaN</td>\n",
       "      <td>...</td>\n",
       "      <td>14.40</td>\n",
       "      <td>1.0</td>\n",
       "      <td>посёлок Парголово</td>\n",
       "      <td>52996.0</td>\n",
       "      <td>19143.0</td>\n",
       "      <td>0.0</td>\n",
       "      <td>NaN</td>\n",
       "      <td>0.0</td>\n",
       "      <td>NaN</td>\n",
       "      <td>155.0</td>\n",
       "    </tr>\n",
       "    <tr>\n",
       "      <th>7</th>\n",
       "      <td>5</td>\n",
       "      <td>7915000.0</td>\n",
       "      <td>71.60</td>\n",
       "      <td>2019-04-18T00:00:00</td>\n",
       "      <td>2</td>\n",
       "      <td>NaN</td>\n",
       "      <td>24.0</td>\n",
       "      <td>NaN</td>\n",
       "      <td>22</td>\n",
       "      <td>NaN</td>\n",
       "      <td>...</td>\n",
       "      <td>18.90</td>\n",
       "      <td>2.0</td>\n",
       "      <td>Санкт-Петербург</td>\n",
       "      <td>23982.0</td>\n",
       "      <td>11634.0</td>\n",
       "      <td>0.0</td>\n",
       "      <td>NaN</td>\n",
       "      <td>0.0</td>\n",
       "      <td>NaN</td>\n",
       "      <td>NaN</td>\n",
       "    </tr>\n",
       "    <tr>\n",
       "      <th>8</th>\n",
       "      <td>20</td>\n",
       "      <td>2900000.0</td>\n",
       "      <td>33.16</td>\n",
       "      <td>2018-05-23T00:00:00</td>\n",
       "      <td>1</td>\n",
       "      <td>NaN</td>\n",
       "      <td>27.0</td>\n",
       "      <td>15.43</td>\n",
       "      <td>26</td>\n",
       "      <td>NaN</td>\n",
       "      <td>...</td>\n",
       "      <td>8.81</td>\n",
       "      <td>NaN</td>\n",
       "      <td>посёлок Мурино</td>\n",
       "      <td>NaN</td>\n",
       "      <td>NaN</td>\n",
       "      <td>NaN</td>\n",
       "      <td>NaN</td>\n",
       "      <td>NaN</td>\n",
       "      <td>NaN</td>\n",
       "      <td>189.0</td>\n",
       "    </tr>\n",
       "    <tr>\n",
       "      <th>9</th>\n",
       "      <td>18</td>\n",
       "      <td>5400000.0</td>\n",
       "      <td>61.00</td>\n",
       "      <td>2017-02-26T00:00:00</td>\n",
       "      <td>3</td>\n",
       "      <td>2.50</td>\n",
       "      <td>9.0</td>\n",
       "      <td>43.60</td>\n",
       "      <td>7</td>\n",
       "      <td>NaN</td>\n",
       "      <td>...</td>\n",
       "      <td>6.50</td>\n",
       "      <td>2.0</td>\n",
       "      <td>Санкт-Петербург</td>\n",
       "      <td>50898.0</td>\n",
       "      <td>15008.0</td>\n",
       "      <td>0.0</td>\n",
       "      <td>NaN</td>\n",
       "      <td>0.0</td>\n",
       "      <td>NaN</td>\n",
       "      <td>289.0</td>\n",
       "    </tr>\n",
       "  </tbody>\n",
       "</table>\n",
       "<p>10 rows × 22 columns</p>\n",
       "</div>"
      ],
      "text/plain": [
       "   total_images  last_price  total_area first_day_exposition  rooms  \\\n",
       "0            20  13000000.0      108.00  2019-03-07T00:00:00      3   \n",
       "1             7   3350000.0       40.40  2018-12-04T00:00:00      1   \n",
       "2            10   5196000.0       56.00  2015-08-20T00:00:00      2   \n",
       "3             0  64900000.0      159.00  2015-07-24T00:00:00      3   \n",
       "4             2  10000000.0      100.00  2018-06-19T00:00:00      2   \n",
       "5            10   2890000.0       30.40  2018-09-10T00:00:00      1   \n",
       "6             6   3700000.0       37.30  2017-11-02T00:00:00      1   \n",
       "7             5   7915000.0       71.60  2019-04-18T00:00:00      2   \n",
       "8            20   2900000.0       33.16  2018-05-23T00:00:00      1   \n",
       "9            18   5400000.0       61.00  2017-02-26T00:00:00      3   \n",
       "\n",
       "   ceiling_height  floors_total  living_area  floor is_apartment  ...  \\\n",
       "0            2.70          16.0        51.00      8          NaN  ...   \n",
       "1             NaN          11.0        18.60      1          NaN  ...   \n",
       "2             NaN           5.0        34.30      4          NaN  ...   \n",
       "3             NaN          14.0          NaN      9          NaN  ...   \n",
       "4            3.03          14.0        32.00     13          NaN  ...   \n",
       "5             NaN          12.0        14.40      5          NaN  ...   \n",
       "6             NaN          26.0        10.60      6          NaN  ...   \n",
       "7             NaN          24.0          NaN     22          NaN  ...   \n",
       "8             NaN          27.0        15.43     26          NaN  ...   \n",
       "9            2.50           9.0        43.60      7          NaN  ...   \n",
       "\n",
       "   kitchen_area  balcony              locality_name  airports_nearest  \\\n",
       "0         25.00      NaN            Санкт-Петербург           18863.0   \n",
       "1         11.00      2.0             посёлок Шушары           12817.0   \n",
       "2          8.30      0.0            Санкт-Петербург           21741.0   \n",
       "3           NaN      0.0            Санкт-Петербург           28098.0   \n",
       "4         41.00      NaN            Санкт-Петербург           31856.0   \n",
       "5          9.10      NaN  городской посёлок Янино-1               NaN   \n",
       "6         14.40      1.0          посёлок Парголово           52996.0   \n",
       "7         18.90      2.0            Санкт-Петербург           23982.0   \n",
       "8          8.81      NaN             посёлок Мурино               NaN   \n",
       "9          6.50      2.0            Санкт-Петербург           50898.0   \n",
       "\n",
       "  cityCenters_nearest  parks_around3000  parks_nearest  ponds_around3000  \\\n",
       "0             16028.0               1.0          482.0               2.0   \n",
       "1             18603.0               0.0            NaN               0.0   \n",
       "2             13933.0               1.0           90.0               2.0   \n",
       "3              6800.0               2.0           84.0               3.0   \n",
       "4              8098.0               2.0          112.0               1.0   \n",
       "5                 NaN               NaN            NaN               NaN   \n",
       "6             19143.0               0.0            NaN               0.0   \n",
       "7             11634.0               0.0            NaN               0.0   \n",
       "8                 NaN               NaN            NaN               NaN   \n",
       "9             15008.0               0.0            NaN               0.0   \n",
       "\n",
       "   ponds_nearest  days_exposition  \n",
       "0          755.0              NaN  \n",
       "1            NaN             81.0  \n",
       "2          574.0            558.0  \n",
       "3          234.0            424.0  \n",
       "4           48.0            121.0  \n",
       "5            NaN             55.0  \n",
       "6            NaN            155.0  \n",
       "7            NaN              NaN  \n",
       "8            NaN            189.0  \n",
       "9            NaN            289.0  \n",
       "\n",
       "[10 rows x 22 columns]"
      ]
     },
     "execution_count": 5,
     "metadata": {},
     "output_type": "execute_result"
    }
   ],
   "source": [
    "#Вызов библиотек и открытие файла\n",
    "import pandas as pd\n",
    "import seaborn as sns\n",
    "import matplotlib as plt \n",
    "\n",
    "data = pd.read_csv('/datasets/real_estate_data.csv', sep=\"\\t\") \n",
    "data.head(10)"
   ]
  },
  {
   "cell_type": "code",
   "execution_count": 6,
   "metadata": {},
   "outputs": [
    {
     "name": "stdout",
     "output_type": "stream",
     "text": [
      "<class 'pandas.core.frame.DataFrame'>\n",
      "RangeIndex: 23699 entries, 0 to 23698\n",
      "Data columns (total 22 columns):\n",
      " #   Column                Non-Null Count  Dtype  \n",
      "---  ------                --------------  -----  \n",
      " 0   total_images          23699 non-null  int64  \n",
      " 1   last_price            23699 non-null  float64\n",
      " 2   total_area            23699 non-null  float64\n",
      " 3   first_day_exposition  23699 non-null  object \n",
      " 4   rooms                 23699 non-null  int64  \n",
      " 5   ceiling_height        14504 non-null  float64\n",
      " 6   floors_total          23613 non-null  float64\n",
      " 7   living_area           21796 non-null  float64\n",
      " 8   floor                 23699 non-null  int64  \n",
      " 9   is_apartment          2775 non-null   object \n",
      " 10  studio                23699 non-null  bool   \n",
      " 11  open_plan             23699 non-null  bool   \n",
      " 12  kitchen_area          21421 non-null  float64\n",
      " 13  balcony               12180 non-null  float64\n",
      " 14  locality_name         23650 non-null  object \n",
      " 15  airports_nearest      18157 non-null  float64\n",
      " 16  cityCenters_nearest   18180 non-null  float64\n",
      " 17  parks_around3000      18181 non-null  float64\n",
      " 18  parks_nearest         8079 non-null   float64\n",
      " 19  ponds_around3000      18181 non-null  float64\n",
      " 20  ponds_nearest         9110 non-null   float64\n",
      " 21  days_exposition       20518 non-null  float64\n",
      "dtypes: bool(2), float64(14), int64(3), object(3)\n",
      "memory usage: 3.7+ MB\n"
     ]
    }
   ],
   "source": [
    "# Просмотрим общую информацию по датасету\n",
    "data.info()"
   ]
  },
  {
   "cell_type": "code",
   "execution_count": 7,
   "metadata": {},
   "outputs": [
    {
     "data": {
      "text/plain": [
       "array([[<AxesSubplot:title={'center':'total_images'}>,\n",
       "        <AxesSubplot:title={'center':'last_price'}>,\n",
       "        <AxesSubplot:title={'center':'total_area'}>,\n",
       "        <AxesSubplot:title={'center':'rooms'}>],\n",
       "       [<AxesSubplot:title={'center':'ceiling_height'}>,\n",
       "        <AxesSubplot:title={'center':'floors_total'}>,\n",
       "        <AxesSubplot:title={'center':'living_area'}>,\n",
       "        <AxesSubplot:title={'center':'floor'}>],\n",
       "       [<AxesSubplot:title={'center':'kitchen_area'}>,\n",
       "        <AxesSubplot:title={'center':'balcony'}>,\n",
       "        <AxesSubplot:title={'center':'airports_nearest'}>,\n",
       "        <AxesSubplot:title={'center':'cityCenters_nearest'}>],\n",
       "       [<AxesSubplot:title={'center':'parks_around3000'}>,\n",
       "        <AxesSubplot:title={'center':'parks_nearest'}>,\n",
       "        <AxesSubplot:title={'center':'ponds_around3000'}>,\n",
       "        <AxesSubplot:title={'center':'ponds_nearest'}>],\n",
       "       [<AxesSubplot:title={'center':'days_exposition'}>, <AxesSubplot:>,\n",
       "        <AxesSubplot:>, <AxesSubplot:>]], dtype=object)"
      ]
     },
     "execution_count": 7,
     "metadata": {},
     "output_type": "execute_result"
    },
    {
     "data": {
      "image/png": "[encoded data removed]",
      "text/plain": [
       "<Figure size 1080x1440 with 20 Axes>"
      ]
     },
     "metadata": {
      "needs_background": "light"
     },
     "output_type": "display_data"
    }
   ],
   "source": [
    "#Построим гистограммы для числовых столбцов\n",
    "data.hist(figsize=(15, 20))"
   ]
  },
  {
   "cell_type": "code",
   "execution_count": 8,
   "metadata": {},
   "outputs": [
    {
     "data": {
      "text/plain": [
       "0"
      ]
     },
     "execution_count": 8,
     "metadata": {},
     "output_type": "execute_result"
    }
   ],
   "source": [
    "data.duplicated().sum()"
   ]
  },
  {
   "cell_type": "markdown",
   "metadata": {},
   "source": [
    "**Вывод:** Данные представляют собой базу квартир с большим количеством параметров в виде целых и дробных чисел, а также дат и булевых значений. В некоторых данных наблюдаются пропуски, их придется предобработать на следующем этапе. Также, построены гистограммы, которые показывают, что часть данных описывается тем или иным распределением, например \"расстояние до ближайшего водоема\", а другая часть не информативна относительно значений той-же характеристики (\"высота потолков\")."
   ]
  },
  {
   "cell_type": "markdown",
   "metadata": {},
   "source": [
    "### Предобработка данных"
   ]
  },
  {
   "cell_type": "markdown",
   "metadata": {},
   "source": [
    "#### Поиск и замена пропущенных значений"
   ]
  },
  {
   "cell_type": "code",
   "execution_count": 9,
   "metadata": {},
   "outputs": [
    {
     "data": {
      "text/plain": [
       "total_images                0\n",
       "last_price                  0\n",
       "total_area                  0\n",
       "first_day_exposition        0\n",
       "rooms                       0\n",
       "ceiling_height           9195\n",
       "floors_total               86\n",
       "living_area              1903\n",
       "floor                       0\n",
       "is_apartment            20924\n",
       "studio                      0\n",
       "open_plan                   0\n",
       "kitchen_area             2278\n",
       "balcony                 11519\n",
       "locality_name              49\n",
       "airports_nearest         5542\n",
       "cityCenters_nearest      5519\n",
       "parks_around3000         5518\n",
       "parks_nearest           15620\n",
       "ponds_around3000         5518\n",
       "ponds_nearest           14589\n",
       "days_exposition          3181\n",
       "dtype: int64"
      ]
     },
     "execution_count": 9,
     "metadata": {},
     "output_type": "execute_result"
    }
   ],
   "source": [
    "#Определим в каких столбцах пропущены значения и по возможности заменим их\n",
    "data.isna().sum()"
   ]
  },
  {
   "cell_type": "markdown",
   "metadata": {},
   "source": [
    "Пропуски находятся в следующих столбцах: \n",
    "\n",
    "1. Высота потолков: можно попытаться заполнить пропуски медианными значениями в зависимости общей площади, при наличии корреляции.\n",
    "2. Всего этажей в доме:можно попытаться заполнить пропуски медианными значениями в зависимости расстояния от центра, при наличии корреляции.\n",
    "3. Жилая площадь: можно заполнить коэффициентом от общей площади.  \n",
    "4. Аппартаменты или нет : нет подходящей информации для заполнения, оставляем.\n",
    "5. Площадь кухни: можно заполнить коэффициентом из общей площади. \n",
    "6. Число балконов: может отсутствовать - зануляем.\n",
    "7. Название населенного пункта - неизветсно, оставляем.\n",
    "8. Расстояние до аэропорта и центра - если это населеный пункт, то возможно там нет аэропорта и расстояние от центра сильно не повлияет на результаты в таких пунктах, оставляем.\n",
    "9. Расстояние до ближайшего парка и количество парков в радиусе 3км: может не быть парков - зануляем.\n",
    "10.Расстояние до водоема  и количество водоемов в радиусе 3км: может не быть водоемов - зануляем.\n",
    "11. Количество дней с начала до снятия объявления: неизвестен статус объявления, может еще висит, а может что-то еще -     оставляем."
   ]
  },
  {
   "cell_type": "code",
   "execution_count": 10,
   "metadata": {},
   "outputs": [],
   "source": [
    "#Занулим значения в столбцах с пропусками из списка выше:\n",
    "data['balcony'] = data['balcony'].fillna(0)\n",
    "data['parks_around3000'] = data['parks_around3000'].fillna(0)\n",
    "data['parks_nearest'] = data['parks_nearest'].fillna(0)\n",
    "data['ponds_around3000'] = data['ponds_around3000'].fillna(0)\n",
    "data['ponds_nearest'] = data['ponds_nearest'].fillna(0)"
   ]
  },
  {
   "cell_type": "code",
   "execution_count": 11,
   "metadata": {
    "scrolled": true
   },
   "outputs": [
    {
     "data": {
      "text/html": [
       "<div>\n",
       "<style scoped>\n",
       "    .dataframe tbody tr th:only-of-type {\n",
       "        vertical-align: middle;\n",
       "    }\n",
       "\n",
       "    .dataframe tbody tr th {\n",
       "        vertical-align: top;\n",
       "    }\n",
       "\n",
       "    .dataframe thead th {\n",
       "        text-align: right;\n",
       "    }\n",
       "</style>\n",
       "<table border=\"1\" class=\"dataframe\">\n",
       "  <thead>\n",
       "    <tr style=\"text-align: right;\">\n",
       "      <th></th>\n",
       "      <th>total_images</th>\n",
       "      <th>last_price</th>\n",
       "      <th>total_area</th>\n",
       "      <th>rooms</th>\n",
       "      <th>ceiling_height</th>\n",
       "      <th>floors_total</th>\n",
       "      <th>living_area</th>\n",
       "      <th>floor</th>\n",
       "      <th>studio</th>\n",
       "      <th>open_plan</th>\n",
       "      <th>kitchen_area</th>\n",
       "      <th>balcony</th>\n",
       "      <th>airports_nearest</th>\n",
       "      <th>cityCenters_nearest</th>\n",
       "      <th>parks_around3000</th>\n",
       "      <th>parks_nearest</th>\n",
       "      <th>ponds_around3000</th>\n",
       "      <th>ponds_nearest</th>\n",
       "      <th>days_exposition</th>\n",
       "    </tr>\n",
       "  </thead>\n",
       "  <tbody>\n",
       "    <tr>\n",
       "      <th>total_images</th>\n",
       "      <td>1.000000</td>\n",
       "      <td>0.104473</td>\n",
       "      <td>0.115352</td>\n",
       "      <td>0.099288</td>\n",
       "      <td>-0.001987</td>\n",
       "      <td>0.010427</td>\n",
       "      <td>0.104780</td>\n",
       "      <td>0.031340</td>\n",
       "      <td>-0.029303</td>\n",
       "      <td>-0.024407</td>\n",
       "      <td>0.104756</td>\n",
       "      <td>0.048903</td>\n",
       "      <td>-0.002298</td>\n",
       "      <td>-0.047666</td>\n",
       "      <td>0.037085</td>\n",
       "      <td>0.027731</td>\n",
       "      <td>0.011323</td>\n",
       "      <td>0.010240</td>\n",
       "      <td>-0.026657</td>\n",
       "    </tr>\n",
       "    <tr>\n",
       "      <th>last_price</th>\n",
       "      <td>0.104473</td>\n",
       "      <td>1.000000</td>\n",
       "      <td>0.653675</td>\n",
       "      <td>0.363343</td>\n",
       "      <td>0.085430</td>\n",
       "      <td>-0.006984</td>\n",
       "      <td>0.566492</td>\n",
       "      <td>0.026576</td>\n",
       "      <td>-0.025362</td>\n",
       "      <td>-0.008802</td>\n",
       "      <td>0.519869</td>\n",
       "      <td>0.008559</td>\n",
       "      <td>-0.026239</td>\n",
       "      <td>-0.206747</td>\n",
       "      <td>0.197840</td>\n",
       "      <td>0.116925</td>\n",
       "      <td>0.208621</td>\n",
       "      <td>0.089704</td>\n",
       "      <td>0.081146</td>\n",
       "    </tr>\n",
       "    <tr>\n",
       "      <th>total_area</th>\n",
       "      <td>0.115352</td>\n",
       "      <td>0.653675</td>\n",
       "      <td>1.000000</td>\n",
       "      <td>0.758344</td>\n",
       "      <td>0.095490</td>\n",
       "      <td>-0.075774</td>\n",
       "      <td>0.939537</td>\n",
       "      <td>-0.024754</td>\n",
       "      <td>-0.072653</td>\n",
       "      <td>-0.034885</td>\n",
       "      <td>0.609121</td>\n",
       "      <td>0.009941</td>\n",
       "      <td>-0.030753</td>\n",
       "      <td>-0.231446</td>\n",
       "      <td>0.200211</td>\n",
       "      <td>0.119286</td>\n",
       "      <td>0.200294</td>\n",
       "      <td>0.087529</td>\n",
       "      <td>0.149675</td>\n",
       "    </tr>\n",
       "    <tr>\n",
       "      <th>rooms</th>\n",
       "      <td>0.099288</td>\n",
       "      <td>0.363343</td>\n",
       "      <td>0.758344</td>\n",
       "      <td>1.000000</td>\n",
       "      <td>0.054457</td>\n",
       "      <td>-0.228215</td>\n",
       "      <td>0.845977</td>\n",
       "      <td>-0.150862</td>\n",
       "      <td>-0.147286</td>\n",
       "      <td>-0.087500</td>\n",
       "      <td>0.269945</td>\n",
       "      <td>-0.015519</td>\n",
       "      <td>-0.061199</td>\n",
       "      <td>-0.184864</td>\n",
       "      <td>0.157495</td>\n",
       "      <td>0.081345</td>\n",
       "      <td>0.121276</td>\n",
       "      <td>0.058442</td>\n",
       "      <td>0.126961</td>\n",
       "    </tr>\n",
       "    <tr>\n",
       "      <th>ceiling_height</th>\n",
       "      <td>-0.001987</td>\n",
       "      <td>0.085430</td>\n",
       "      <td>0.095490</td>\n",
       "      <td>0.054457</td>\n",
       "      <td>1.000000</td>\n",
       "      <td>-0.028732</td>\n",
       "      <td>0.090650</td>\n",
       "      <td>-0.011798</td>\n",
       "      <td>0.001674</td>\n",
       "      <td>0.042777</td>\n",
       "      <td>0.087641</td>\n",
       "      <td>0.031216</td>\n",
       "      <td>-0.023947</td>\n",
       "      <td>-0.091689</td>\n",
       "      <td>0.062216</td>\n",
       "      <td>0.032019</td>\n",
       "      <td>0.072343</td>\n",
       "      <td>0.010788</td>\n",
       "      <td>0.019091</td>\n",
       "    </tr>\n",
       "    <tr>\n",
       "      <th>floors_total</th>\n",
       "      <td>0.010427</td>\n",
       "      <td>-0.006984</td>\n",
       "      <td>-0.075774</td>\n",
       "      <td>-0.228215</td>\n",
       "      <td>-0.028732</td>\n",
       "      <td>1.000000</td>\n",
       "      <td>-0.169311</td>\n",
       "      <td>0.678059</td>\n",
       "      <td>0.070151</td>\n",
       "      <td>0.050791</td>\n",
       "      <td>0.163944</td>\n",
       "      <td>0.172812</td>\n",
       "      <td>0.108288</td>\n",
       "      <td>0.019774</td>\n",
       "      <td>-0.158775</td>\n",
       "      <td>-0.063007</td>\n",
       "      <td>-0.048698</td>\n",
       "      <td>0.017264</td>\n",
       "      <td>-0.052234</td>\n",
       "    </tr>\n",
       "    <tr>\n",
       "      <th>living_area</th>\n",
       "      <td>0.104780</td>\n",
       "      <td>0.566492</td>\n",
       "      <td>0.939537</td>\n",
       "      <td>0.845977</td>\n",
       "      <td>0.090650</td>\n",
       "      <td>-0.169311</td>\n",
       "      <td>1.000000</td>\n",
       "      <td>-0.097210</td>\n",
       "      <td>-0.056231</td>\n",
       "      <td>-0.033711</td>\n",
       "      <td>0.428674</td>\n",
       "      <td>-0.014772</td>\n",
       "      <td>-0.057912</td>\n",
       "      <td>-0.231368</td>\n",
       "      <td>0.212357</td>\n",
       "      <td>0.108947</td>\n",
       "      <td>0.182439</td>\n",
       "      <td>0.083549</td>\n",
       "      <td>0.142454</td>\n",
       "    </tr>\n",
       "    <tr>\n",
       "      <th>floor</th>\n",
       "      <td>0.031340</td>\n",
       "      <td>0.026576</td>\n",
       "      <td>-0.024754</td>\n",
       "      <td>-0.150862</td>\n",
       "      <td>-0.011798</td>\n",
       "      <td>0.678059</td>\n",
       "      <td>-0.097210</td>\n",
       "      <td>1.000000</td>\n",
       "      <td>0.036940</td>\n",
       "      <td>0.035824</td>\n",
       "      <td>0.135531</td>\n",
       "      <td>0.168567</td>\n",
       "      <td>0.071597</td>\n",
       "      <td>0.009084</td>\n",
       "      <td>-0.105212</td>\n",
       "      <td>-0.039509</td>\n",
       "      <td>-0.029710</td>\n",
       "      <td>0.013698</td>\n",
       "      <td>-0.039463</td>\n",
       "    </tr>\n",
       "    <tr>\n",
       "      <th>studio</th>\n",
       "      <td>-0.029303</td>\n",
       "      <td>-0.025362</td>\n",
       "      <td>-0.072653</td>\n",
       "      <td>-0.147286</td>\n",
       "      <td>0.001674</td>\n",
       "      <td>0.070151</td>\n",
       "      <td>-0.056231</td>\n",
       "      <td>0.036940</td>\n",
       "      <td>1.000000</td>\n",
       "      <td>-0.004235</td>\n",
       "      <td>NaN</td>\n",
       "      <td>0.028899</td>\n",
       "      <td>-0.021876</td>\n",
       "      <td>-0.007029</td>\n",
       "      <td>-0.032014</td>\n",
       "      <td>-0.023214</td>\n",
       "      <td>-0.009690</td>\n",
       "      <td>-0.004826</td>\n",
       "      <td>-0.022476</td>\n",
       "    </tr>\n",
       "    <tr>\n",
       "      <th>open_plan</th>\n",
       "      <td>-0.024407</td>\n",
       "      <td>-0.008802</td>\n",
       "      <td>-0.034885</td>\n",
       "      <td>-0.087500</td>\n",
       "      <td>0.042777</td>\n",
       "      <td>0.050791</td>\n",
       "      <td>-0.033711</td>\n",
       "      <td>0.035824</td>\n",
       "      <td>-0.004235</td>\n",
       "      <td>1.000000</td>\n",
       "      <td>NaN</td>\n",
       "      <td>0.032639</td>\n",
       "      <td>-0.013583</td>\n",
       "      <td>-0.004204</td>\n",
       "      <td>-0.016378</td>\n",
       "      <td>-0.012254</td>\n",
       "      <td>-0.004127</td>\n",
       "      <td>-0.003491</td>\n",
       "      <td>-0.024112</td>\n",
       "    </tr>\n",
       "    <tr>\n",
       "      <th>kitchen_area</th>\n",
       "      <td>0.104756</td>\n",
       "      <td>0.519869</td>\n",
       "      <td>0.609121</td>\n",
       "      <td>0.269945</td>\n",
       "      <td>0.087641</td>\n",
       "      <td>0.163944</td>\n",
       "      <td>0.428674</td>\n",
       "      <td>0.135531</td>\n",
       "      <td>NaN</td>\n",
       "      <td>NaN</td>\n",
       "      <td>1.000000</td>\n",
       "      <td>0.045271</td>\n",
       "      <td>0.008200</td>\n",
       "      <td>-0.190049</td>\n",
       "      <td>0.118586</td>\n",
       "      <td>0.092152</td>\n",
       "      <td>0.175719</td>\n",
       "      <td>0.071143</td>\n",
       "      <td>0.100586</td>\n",
       "    </tr>\n",
       "    <tr>\n",
       "      <th>balcony</th>\n",
       "      <td>0.048903</td>\n",
       "      <td>0.008559</td>\n",
       "      <td>0.009941</td>\n",
       "      <td>-0.015519</td>\n",
       "      <td>0.031216</td>\n",
       "      <td>0.172812</td>\n",
       "      <td>-0.014772</td>\n",
       "      <td>0.168567</td>\n",
       "      <td>0.028899</td>\n",
       "      <td>0.032639</td>\n",
       "      <td>0.045271</td>\n",
       "      <td>1.000000</td>\n",
       "      <td>0.048984</td>\n",
       "      <td>0.065050</td>\n",
       "      <td>-0.069781</td>\n",
       "      <td>-0.026234</td>\n",
       "      <td>-0.038339</td>\n",
       "      <td>-0.020113</td>\n",
       "      <td>-0.027834</td>\n",
       "    </tr>\n",
       "    <tr>\n",
       "      <th>airports_nearest</th>\n",
       "      <td>-0.002298</td>\n",
       "      <td>-0.026239</td>\n",
       "      <td>-0.030753</td>\n",
       "      <td>-0.061199</td>\n",
       "      <td>-0.023947</td>\n",
       "      <td>0.108288</td>\n",
       "      <td>-0.057912</td>\n",
       "      <td>0.071597</td>\n",
       "      <td>-0.021876</td>\n",
       "      <td>-0.013583</td>\n",
       "      <td>0.008200</td>\n",
       "      <td>0.048984</td>\n",
       "      <td>1.000000</td>\n",
       "      <td>0.272184</td>\n",
       "      <td>0.000759</td>\n",
       "      <td>-0.043047</td>\n",
       "      <td>-0.049583</td>\n",
       "      <td>-0.070702</td>\n",
       "      <td>-0.018271</td>\n",
       "    </tr>\n",
       "    <tr>\n",
       "      <th>cityCenters_nearest</th>\n",
       "      <td>-0.047666</td>\n",
       "      <td>-0.206747</td>\n",
       "      <td>-0.231446</td>\n",
       "      <td>-0.184864</td>\n",
       "      <td>-0.091689</td>\n",
       "      <td>0.019774</td>\n",
       "      <td>-0.231368</td>\n",
       "      <td>0.009084</td>\n",
       "      <td>-0.007029</td>\n",
       "      <td>-0.004204</td>\n",
       "      <td>-0.190049</td>\n",
       "      <td>0.065050</td>\n",
       "      <td>0.272184</td>\n",
       "      <td>1.000000</td>\n",
       "      <td>-0.161738</td>\n",
       "      <td>-0.155984</td>\n",
       "      <td>-0.074577</td>\n",
       "      <td>-0.036525</td>\n",
       "      <td>-0.060714</td>\n",
       "    </tr>\n",
       "    <tr>\n",
       "      <th>parks_around3000</th>\n",
       "      <td>0.037085</td>\n",
       "      <td>0.197840</td>\n",
       "      <td>0.200211</td>\n",
       "      <td>0.157495</td>\n",
       "      <td>0.062216</td>\n",
       "      <td>-0.158775</td>\n",
       "      <td>0.212357</td>\n",
       "      <td>-0.105212</td>\n",
       "      <td>-0.032014</td>\n",
       "      <td>-0.016378</td>\n",
       "      <td>0.118586</td>\n",
       "      <td>-0.069781</td>\n",
       "      <td>0.000759</td>\n",
       "      <td>-0.161738</td>\n",
       "      <td>1.000000</td>\n",
       "      <td>0.577950</td>\n",
       "      <td>0.392668</td>\n",
       "      <td>0.192952</td>\n",
       "      <td>0.055867</td>\n",
       "    </tr>\n",
       "    <tr>\n",
       "      <th>parks_nearest</th>\n",
       "      <td>0.027731</td>\n",
       "      <td>0.116925</td>\n",
       "      <td>0.119286</td>\n",
       "      <td>0.081345</td>\n",
       "      <td>0.032019</td>\n",
       "      <td>-0.063007</td>\n",
       "      <td>0.108947</td>\n",
       "      <td>-0.039509</td>\n",
       "      <td>-0.023214</td>\n",
       "      <td>-0.012254</td>\n",
       "      <td>0.092152</td>\n",
       "      <td>-0.026234</td>\n",
       "      <td>-0.043047</td>\n",
       "      <td>-0.155984</td>\n",
       "      <td>0.577950</td>\n",
       "      <td>1.000000</td>\n",
       "      <td>0.303149</td>\n",
       "      <td>0.180656</td>\n",
       "      <td>0.042564</td>\n",
       "    </tr>\n",
       "    <tr>\n",
       "      <th>ponds_around3000</th>\n",
       "      <td>0.011323</td>\n",
       "      <td>0.208621</td>\n",
       "      <td>0.200294</td>\n",
       "      <td>0.121276</td>\n",
       "      <td>0.072343</td>\n",
       "      <td>-0.048698</td>\n",
       "      <td>0.182439</td>\n",
       "      <td>-0.029710</td>\n",
       "      <td>-0.009690</td>\n",
       "      <td>-0.004127</td>\n",
       "      <td>0.175719</td>\n",
       "      <td>-0.038339</td>\n",
       "      <td>-0.049583</td>\n",
       "      <td>-0.074577</td>\n",
       "      <td>0.392668</td>\n",
       "      <td>0.303149</td>\n",
       "      <td>1.000000</td>\n",
       "      <td>0.595589</td>\n",
       "      <td>0.066289</td>\n",
       "    </tr>\n",
       "    <tr>\n",
       "      <th>ponds_nearest</th>\n",
       "      <td>0.010240</td>\n",
       "      <td>0.089704</td>\n",
       "      <td>0.087529</td>\n",
       "      <td>0.058442</td>\n",
       "      <td>0.010788</td>\n",
       "      <td>0.017264</td>\n",
       "      <td>0.083549</td>\n",
       "      <td>0.013698</td>\n",
       "      <td>-0.004826</td>\n",
       "      <td>-0.003491</td>\n",
       "      <td>0.071143</td>\n",
       "      <td>-0.020113</td>\n",
       "      <td>-0.070702</td>\n",
       "      <td>-0.036525</td>\n",
       "      <td>0.192952</td>\n",
       "      <td>0.180656</td>\n",
       "      <td>0.595589</td>\n",
       "      <td>1.000000</td>\n",
       "      <td>0.011171</td>\n",
       "    </tr>\n",
       "    <tr>\n",
       "      <th>days_exposition</th>\n",
       "      <td>-0.026657</td>\n",
       "      <td>0.081146</td>\n",
       "      <td>0.149675</td>\n",
       "      <td>0.126961</td>\n",
       "      <td>0.019091</td>\n",
       "      <td>-0.052234</td>\n",
       "      <td>0.142454</td>\n",
       "      <td>-0.039463</td>\n",
       "      <td>-0.022476</td>\n",
       "      <td>-0.024112</td>\n",
       "      <td>0.100586</td>\n",
       "      <td>-0.027834</td>\n",
       "      <td>-0.018271</td>\n",
       "      <td>-0.060714</td>\n",
       "      <td>0.055867</td>\n",
       "      <td>0.042564</td>\n",
       "      <td>0.066289</td>\n",
       "      <td>0.011171</td>\n",
       "      <td>1.000000</td>\n",
       "    </tr>\n",
       "  </tbody>\n",
       "</table>\n",
       "</div>"
      ],
      "text/plain": [
       "                     total_images  last_price  total_area     rooms  \\\n",
       "total_images             1.000000    0.104473    0.115352  0.099288   \n",
       "last_price               0.104473    1.000000    0.653675  0.363343   \n",
       "total_area               0.115352    0.653675    1.000000  0.758344   \n",
       "rooms                    0.099288    0.363343    0.758344  1.000000   \n",
       "ceiling_height          -0.001987    0.085430    0.095490  0.054457   \n",
       "floors_total             0.010427   -0.006984   -0.075774 -0.228215   \n",
       "living_area              0.104780    0.566492    0.939537  0.845977   \n",
       "floor                    0.031340    0.026576   -0.024754 -0.150862   \n",
       "studio                  -0.029303   -0.025362   -0.072653 -0.147286   \n",
       "open_plan               -0.024407   -0.008802   -0.034885 -0.087500   \n",
       "kitchen_area             0.104756    0.519869    0.609121  0.269945   \n",
       "balcony                  0.048903    0.008559    0.009941 -0.015519   \n",
       "airports_nearest        -0.002298   -0.026239   -0.030753 -0.061199   \n",
       "cityCenters_nearest     -0.047666   -0.206747   -0.231446 -0.184864   \n",
       "parks_around3000         0.037085    0.197840    0.200211  0.157495   \n",
       "parks_nearest            0.027731    0.116925    0.119286  0.081345   \n",
       "ponds_around3000         0.011323    0.208621    0.200294  0.121276   \n",
       "ponds_nearest            0.010240    0.089704    0.087529  0.058442   \n",
       "days_exposition         -0.026657    0.081146    0.149675  0.126961   \n",
       "\n",
       "                     ceiling_height  floors_total  living_area     floor  \\\n",
       "total_images              -0.001987      0.010427     0.104780  0.031340   \n",
       "last_price                 0.085430     -0.006984     0.566492  0.026576   \n",
       "total_area                 0.095490     -0.075774     0.939537 -0.024754   \n",
       "rooms                      0.054457     -0.228215     0.845977 -0.150862   \n",
       "ceiling_height             1.000000     -0.028732     0.090650 -0.011798   \n",
       "floors_total              -0.028732      1.000000    -0.169311  0.678059   \n",
       "living_area                0.090650     -0.169311     1.000000 -0.097210   \n",
       "floor                     -0.011798      0.678059    -0.097210  1.000000   \n",
       "studio                     0.001674      0.070151    -0.056231  0.036940   \n",
       "open_plan                  0.042777      0.050791    -0.033711  0.035824   \n",
       "kitchen_area               0.087641      0.163944     0.428674  0.135531   \n",
       "balcony                    0.031216      0.172812    -0.014772  0.168567   \n",
       "airports_nearest          -0.023947      0.108288    -0.057912  0.071597   \n",
       "cityCenters_nearest       -0.091689      0.019774    -0.231368  0.009084   \n",
       "parks_around3000           0.062216     -0.158775     0.212357 -0.105212   \n",
       "parks_nearest              0.032019     -0.063007     0.108947 -0.039509   \n",
       "ponds_around3000           0.072343     -0.048698     0.182439 -0.029710   \n",
       "ponds_nearest              0.010788      0.017264     0.083549  0.013698   \n",
       "days_exposition            0.019091     -0.052234     0.142454 -0.039463   \n",
       "\n",
       "                       studio  open_plan  kitchen_area   balcony  \\\n",
       "total_images        -0.029303  -0.024407      0.104756  0.048903   \n",
       "last_price          -0.025362  -0.008802      0.519869  0.008559   \n",
       "total_area          -0.072653  -0.034885      0.609121  0.009941   \n",
       "rooms               -0.147286  -0.087500      0.269945 -0.015519   \n",
       "ceiling_height       0.001674   0.042777      0.087641  0.031216   \n",
       "floors_total         0.070151   0.050791      0.163944  0.172812   \n",
       "living_area         -0.056231  -0.033711      0.428674 -0.014772   \n",
       "floor                0.036940   0.035824      0.135531  0.168567   \n",
       "studio               1.000000  -0.004235           NaN  0.028899   \n",
       "open_plan           -0.004235   1.000000           NaN  0.032639   \n",
       "kitchen_area              NaN        NaN      1.000000  0.045271   \n",
       "balcony              0.028899   0.032639      0.045271  1.000000   \n",
       "airports_nearest    -0.021876  -0.013583      0.008200  0.048984   \n",
       "cityCenters_nearest -0.007029  -0.004204     -0.190049  0.065050   \n",
       "parks_around3000    -0.032014  -0.016378      0.118586 -0.069781   \n",
       "parks_nearest       -0.023214  -0.012254      0.092152 -0.026234   \n",
       "ponds_around3000    -0.009690  -0.004127      0.175719 -0.038339   \n",
       "ponds_nearest       -0.004826  -0.003491      0.071143 -0.020113   \n",
       "days_exposition     -0.022476  -0.024112      0.100586 -0.027834   \n",
       "\n",
       "                     airports_nearest  cityCenters_nearest  parks_around3000  \\\n",
       "total_images                -0.002298            -0.047666          0.037085   \n",
       "last_price                  -0.026239            -0.206747          0.197840   \n",
       "total_area                  -0.030753            -0.231446          0.200211   \n",
       "rooms                       -0.061199            -0.184864          0.157495   \n",
       "ceiling_height              -0.023947            -0.091689          0.062216   \n",
       "floors_total                 0.108288             0.019774         -0.158775   \n",
       "living_area                 -0.057912            -0.231368          0.212357   \n",
       "floor                        0.071597             0.009084         -0.105212   \n",
       "studio                      -0.021876            -0.007029         -0.032014   \n",
       "open_plan                   -0.013583            -0.004204         -0.016378   \n",
       "kitchen_area                 0.008200            -0.190049          0.118586   \n",
       "balcony                      0.048984             0.065050         -0.069781   \n",
       "airports_nearest             1.000000             0.272184          0.000759   \n",
       "cityCenters_nearest          0.272184             1.000000         -0.161738   \n",
       "parks_around3000             0.000759            -0.161738          1.000000   \n",
       "parks_nearest               -0.043047            -0.155984          0.577950   \n",
       "ponds_around3000            -0.049583            -0.074577          0.392668   \n",
       "ponds_nearest               -0.070702            -0.036525          0.192952   \n",
       "days_exposition             -0.018271            -0.060714          0.055867   \n",
       "\n",
       "                     parks_nearest  ponds_around3000  ponds_nearest  \\\n",
       "total_images              0.027731          0.011323       0.010240   \n",
       "last_price                0.116925          0.208621       0.089704   \n",
       "total_area                0.119286          0.200294       0.087529   \n",
       "rooms                     0.081345          0.121276       0.058442   \n",
       "ceiling_height            0.032019          0.072343       0.010788   \n",
       "floors_total             -0.063007         -0.048698       0.017264   \n",
       "living_area               0.108947          0.182439       0.083549   \n",
       "floor                    -0.039509         -0.029710       0.013698   \n",
       "studio                   -0.023214         -0.009690      -0.004826   \n",
       "open_plan                -0.012254         -0.004127      -0.003491   \n",
       "kitchen_area              0.092152          0.175719       0.071143   \n",
       "balcony                  -0.026234         -0.038339      -0.020113   \n",
       "airports_nearest         -0.043047         -0.049583      -0.070702   \n",
       "cityCenters_nearest      -0.155984         -0.074577      -0.036525   \n",
       "parks_around3000          0.577950          0.392668       0.192952   \n",
       "parks_nearest             1.000000          0.303149       0.180656   \n",
       "ponds_around3000          0.303149          1.000000       0.595589   \n",
       "ponds_nearest             0.180656          0.595589       1.000000   \n",
       "days_exposition           0.042564          0.066289       0.011171   \n",
       "\n",
       "                     days_exposition  \n",
       "total_images               -0.026657  \n",
       "last_price                  0.081146  \n",
       "total_area                  0.149675  \n",
       "rooms                       0.126961  \n",
       "ceiling_height              0.019091  \n",
       "floors_total               -0.052234  \n",
       "living_area                 0.142454  \n",
       "floor                      -0.039463  \n",
       "studio                     -0.022476  \n",
       "open_plan                  -0.024112  \n",
       "kitchen_area                0.100586  \n",
       "balcony                    -0.027834  \n",
       "airports_nearest           -0.018271  \n",
       "cityCenters_nearest        -0.060714  \n",
       "parks_around3000            0.055867  \n",
       "parks_nearest               0.042564  \n",
       "ponds_around3000            0.066289  \n",
       "ponds_nearest               0.011171  \n",
       "days_exposition             1.000000  "
      ]
     },
     "execution_count": 11,
     "metadata": {},
     "output_type": "execute_result"
    }
   ],
   "source": [
    "#Найдем, сущесвтует ли связь между параметрами, в которых можно заполнить пропуски\n",
    "data.corr()"
   ]
  },
  {
   "cell_type": "markdown",
   "metadata": {},
   "source": [
    "Из столбцов, в которых потенциально можно сделать замену, корреллируют с другими параметрами, следующие: количество этажей с этажом, жилая площадь с общей и площадь кухни с общей."
   ]
  },
  {
   "cell_type": "code",
   "execution_count": 12,
   "metadata": {},
   "outputs": [
    {
     "data": {
      "text/plain": [
       "array([[<AxesSubplot:title={'center':'total_images'}>,\n",
       "        <AxesSubplot:title={'center':'last_price'}>,\n",
       "        <AxesSubplot:title={'center':'total_area'}>,\n",
       "        <AxesSubplot:title={'center':'rooms'}>],\n",
       "       [<AxesSubplot:title={'center':'ceiling_height'}>,\n",
       "        <AxesSubplot:title={'center':'floors_total'}>,\n",
       "        <AxesSubplot:title={'center':'living_area'}>,\n",
       "        <AxesSubplot:title={'center':'floor'}>],\n",
       "       [<AxesSubplot:title={'center':'kitchen_area'}>,\n",
       "        <AxesSubplot:title={'center':'balcony'}>,\n",
       "        <AxesSubplot:title={'center':'airports_nearest'}>,\n",
       "        <AxesSubplot:title={'center':'cityCenters_nearest'}>],\n",
       "       [<AxesSubplot:title={'center':'parks_around3000'}>,\n",
       "        <AxesSubplot:title={'center':'parks_nearest'}>,\n",
       "        <AxesSubplot:title={'center':'ponds_around3000'}>,\n",
       "        <AxesSubplot:title={'center':'ponds_nearest'}>],\n",
       "       [<AxesSubplot:title={'center':'days_exposition'}>, <AxesSubplot:>,\n",
       "        <AxesSubplot:>, <AxesSubplot:>]], dtype=object)"
      ]
     },
     "execution_count": 12,
     "metadata": {},
     "output_type": "execute_result"
    },
    {
     "data": {
      "image/png": "[encoded data removed]",
      "text/plain": [
       "<Figure size 1080x1440 with 20 Axes>"
      ]
     },
     "metadata": {
      "needs_background": "light"
     },
     "output_type": "display_data"
    }
   ],
   "source": [
    "#Заполним пропуски \n",
    "#По жилой площади\n",
    "area_ratio_living = data[data['living_area'].isnull() == False]['total_area'].mean() / data[data['living_area'].isnull()==False]['living_area'].mean() \n",
    "data['living_area'] = data['living_area'].fillna(data['total_area']/area_ratio_living)\n",
    "#По кухне\n",
    "area_ratio_kitchen = data[data['living_area'].isnull() == False]['total_area'].mean() /data[data['kitchen_area'].isnull()==False]['kitchen_area'].mean() \n",
    "data['kitchen_area'] = data['kitchen_area'].fillna(data['total_area']/area_ratio_kitchen)\n",
    "# По этажам\n",
    "for f in data['floor'].unique():\n",
    "    data.loc[(data['floor'] == f) & (data['floors_total'].isna()), 'floors_total'] = \\\n",
    "    int(data.loc[(data['floor'] == f), 'floors_total'].median())\n",
    "data.hist(figsize=(15, 20))"
   ]
  },
  {
   "cell_type": "markdown",
   "metadata": {},
   "source": [
    "Избавились от пропусков и не исказили исходные данные. Природа пропусков может быть различна, в некоторых случаях возможна техническая ошибка, в некоторых отсутсвие данных, а в некоторых отсутвие объекта как такового. "
   ]
  },
  {
   "cell_type": "markdown",
   "metadata": {},
   "source": [
    "#### Анализ типов данных"
   ]
  },
  {
   "cell_type": "code",
   "execution_count": 13,
   "metadata": {},
   "outputs": [
    {
     "data": {
      "text/html": [
       "<div>\n",
       "<style scoped>\n",
       "    .dataframe tbody tr th:only-of-type {\n",
       "        vertical-align: middle;\n",
       "    }\n",
       "\n",
       "    .dataframe tbody tr th {\n",
       "        vertical-align: top;\n",
       "    }\n",
       "\n",
       "    .dataframe thead th {\n",
       "        text-align: right;\n",
       "    }\n",
       "</style>\n",
       "<table border=\"1\" class=\"dataframe\">\n",
       "  <thead>\n",
       "    <tr style=\"text-align: right;\">\n",
       "      <th></th>\n",
       "      <th>total_images</th>\n",
       "      <th>last_price</th>\n",
       "      <th>total_area</th>\n",
       "      <th>first_day_exposition</th>\n",
       "      <th>rooms</th>\n",
       "      <th>ceiling_height</th>\n",
       "      <th>floors_total</th>\n",
       "      <th>living_area</th>\n",
       "      <th>floor</th>\n",
       "      <th>is_apartment</th>\n",
       "      <th>...</th>\n",
       "      <th>kitchen_area</th>\n",
       "      <th>balcony</th>\n",
       "      <th>locality_name</th>\n",
       "      <th>airports_nearest</th>\n",
       "      <th>cityCenters_nearest</th>\n",
       "      <th>parks_around3000</th>\n",
       "      <th>parks_nearest</th>\n",
       "      <th>ponds_around3000</th>\n",
       "      <th>ponds_nearest</th>\n",
       "      <th>days_exposition</th>\n",
       "    </tr>\n",
       "  </thead>\n",
       "  <tbody>\n",
       "    <tr>\n",
       "      <th>0</th>\n",
       "      <td>20</td>\n",
       "      <td>13000000.0</td>\n",
       "      <td>108.0</td>\n",
       "      <td>2019-03-07T00:00:00</td>\n",
       "      <td>3</td>\n",
       "      <td>2.70</td>\n",
       "      <td>16.0</td>\n",
       "      <td>51.000000</td>\n",
       "      <td>8</td>\n",
       "      <td>NaN</td>\n",
       "      <td>...</td>\n",
       "      <td>25.000000</td>\n",
       "      <td>0.0</td>\n",
       "      <td>Санкт-Петербург</td>\n",
       "      <td>18863.0</td>\n",
       "      <td>16028.0</td>\n",
       "      <td>1.0</td>\n",
       "      <td>482.0</td>\n",
       "      <td>2.0</td>\n",
       "      <td>755.0</td>\n",
       "      <td>NaN</td>\n",
       "    </tr>\n",
       "    <tr>\n",
       "      <th>1</th>\n",
       "      <td>7</td>\n",
       "      <td>3350000.0</td>\n",
       "      <td>40.4</td>\n",
       "      <td>2018-12-04T00:00:00</td>\n",
       "      <td>1</td>\n",
       "      <td>NaN</td>\n",
       "      <td>11.0</td>\n",
       "      <td>18.600000</td>\n",
       "      <td>1</td>\n",
       "      <td>NaN</td>\n",
       "      <td>...</td>\n",
       "      <td>11.000000</td>\n",
       "      <td>2.0</td>\n",
       "      <td>посёлок Шушары</td>\n",
       "      <td>12817.0</td>\n",
       "      <td>18603.0</td>\n",
       "      <td>0.0</td>\n",
       "      <td>0.0</td>\n",
       "      <td>0.0</td>\n",
       "      <td>0.0</td>\n",
       "      <td>81.0</td>\n",
       "    </tr>\n",
       "    <tr>\n",
       "      <th>2</th>\n",
       "      <td>10</td>\n",
       "      <td>5196000.0</td>\n",
       "      <td>56.0</td>\n",
       "      <td>2015-08-20T00:00:00</td>\n",
       "      <td>2</td>\n",
       "      <td>NaN</td>\n",
       "      <td>5.0</td>\n",
       "      <td>34.300000</td>\n",
       "      <td>4</td>\n",
       "      <td>NaN</td>\n",
       "      <td>...</td>\n",
       "      <td>8.300000</td>\n",
       "      <td>0.0</td>\n",
       "      <td>Санкт-Петербург</td>\n",
       "      <td>21741.0</td>\n",
       "      <td>13933.0</td>\n",
       "      <td>1.0</td>\n",
       "      <td>90.0</td>\n",
       "      <td>2.0</td>\n",
       "      <td>574.0</td>\n",
       "      <td>558.0</td>\n",
       "    </tr>\n",
       "    <tr>\n",
       "      <th>3</th>\n",
       "      <td>0</td>\n",
       "      <td>64900000.0</td>\n",
       "      <td>159.0</td>\n",
       "      <td>2015-07-24T00:00:00</td>\n",
       "      <td>3</td>\n",
       "      <td>NaN</td>\n",
       "      <td>14.0</td>\n",
       "      <td>91.177695</td>\n",
       "      <td>9</td>\n",
       "      <td>NaN</td>\n",
       "      <td>...</td>\n",
       "      <td>27.848168</td>\n",
       "      <td>0.0</td>\n",
       "      <td>Санкт-Петербург</td>\n",
       "      <td>28098.0</td>\n",
       "      <td>6800.0</td>\n",
       "      <td>2.0</td>\n",
       "      <td>84.0</td>\n",
       "      <td>3.0</td>\n",
       "      <td>234.0</td>\n",
       "      <td>424.0</td>\n",
       "    </tr>\n",
       "    <tr>\n",
       "      <th>4</th>\n",
       "      <td>2</td>\n",
       "      <td>10000000.0</td>\n",
       "      <td>100.0</td>\n",
       "      <td>2018-06-19T00:00:00</td>\n",
       "      <td>2</td>\n",
       "      <td>3.03</td>\n",
       "      <td>14.0</td>\n",
       "      <td>32.000000</td>\n",
       "      <td>13</td>\n",
       "      <td>NaN</td>\n",
       "      <td>...</td>\n",
       "      <td>41.000000</td>\n",
       "      <td>0.0</td>\n",
       "      <td>Санкт-Петербург</td>\n",
       "      <td>31856.0</td>\n",
       "      <td>8098.0</td>\n",
       "      <td>2.0</td>\n",
       "      <td>112.0</td>\n",
       "      <td>1.0</td>\n",
       "      <td>48.0</td>\n",
       "      <td>121.0</td>\n",
       "    </tr>\n",
       "  </tbody>\n",
       "</table>\n",
       "<p>5 rows × 22 columns</p>\n",
       "</div>"
      ],
      "text/plain": [
       "   total_images  last_price  total_area first_day_exposition  rooms  \\\n",
       "0            20  13000000.0       108.0  2019-03-07T00:00:00      3   \n",
       "1             7   3350000.0        40.4  2018-12-04T00:00:00      1   \n",
       "2            10   5196000.0        56.0  2015-08-20T00:00:00      2   \n",
       "3             0  64900000.0       159.0  2015-07-24T00:00:00      3   \n",
       "4             2  10000000.0       100.0  2018-06-19T00:00:00      2   \n",
       "\n",
       "   ceiling_height  floors_total  living_area  floor is_apartment  ...  \\\n",
       "0            2.70          16.0    51.000000      8          NaN  ...   \n",
       "1             NaN          11.0    18.600000      1          NaN  ...   \n",
       "2             NaN           5.0    34.300000      4          NaN  ...   \n",
       "3             NaN          14.0    91.177695      9          NaN  ...   \n",
       "4            3.03          14.0    32.000000     13          NaN  ...   \n",
       "\n",
       "   kitchen_area  balcony    locality_name  airports_nearest  \\\n",
       "0     25.000000      0.0  Санкт-Петербург           18863.0   \n",
       "1     11.000000      2.0   посёлок Шушары           12817.0   \n",
       "2      8.300000      0.0  Санкт-Петербург           21741.0   \n",
       "3     27.848168      0.0  Санкт-Петербург           28098.0   \n",
       "4     41.000000      0.0  Санкт-Петербург           31856.0   \n",
       "\n",
       "  cityCenters_nearest  parks_around3000  parks_nearest  ponds_around3000  \\\n",
       "0             16028.0               1.0          482.0               2.0   \n",
       "1             18603.0               0.0            0.0               0.0   \n",
       "2             13933.0               1.0           90.0               2.0   \n",
       "3              6800.0               2.0           84.0               3.0   \n",
       "4              8098.0               2.0          112.0               1.0   \n",
       "\n",
       "   ponds_nearest  days_exposition  \n",
       "0          755.0              NaN  \n",
       "1            0.0             81.0  \n",
       "2          574.0            558.0  \n",
       "3          234.0            424.0  \n",
       "4           48.0            121.0  \n",
       "\n",
       "[5 rows x 22 columns]"
      ]
     },
     "execution_count": 13,
     "metadata": {},
     "output_type": "execute_result"
    }
   ],
   "source": [
    "# Выведем информацию по датасету\n",
    "data.head(5)"
   ]
  },
  {
   "cell_type": "code",
   "execution_count": 14,
   "metadata": {},
   "outputs": [
    {
     "name": "stdout",
     "output_type": "stream",
     "text": [
      "<class 'pandas.core.frame.DataFrame'>\n",
      "RangeIndex: 23699 entries, 0 to 23698\n",
      "Data columns (total 22 columns):\n",
      " #   Column                Non-Null Count  Dtype  \n",
      "---  ------                --------------  -----  \n",
      " 0   total_images          23699 non-null  int64  \n",
      " 1   last_price            23699 non-null  float64\n",
      " 2   total_area            23699 non-null  float64\n",
      " 3   first_day_exposition  23699 non-null  object \n",
      " 4   rooms                 23699 non-null  int64  \n",
      " 5   ceiling_height        14504 non-null  float64\n",
      " 6   floors_total          23699 non-null  float64\n",
      " 7   living_area           23699 non-null  float64\n",
      " 8   floor                 23699 non-null  int64  \n",
      " 9   is_apartment          2775 non-null   object \n",
      " 10  studio                23699 non-null  bool   \n",
      " 11  open_plan             23699 non-null  bool   \n",
      " 12  kitchen_area          23699 non-null  float64\n",
      " 13  balcony               23699 non-null  float64\n",
      " 14  locality_name         23650 non-null  object \n",
      " 15  airports_nearest      18157 non-null  float64\n",
      " 16  cityCenters_nearest   18180 non-null  float64\n",
      " 17  parks_around3000      23699 non-null  float64\n",
      " 18  parks_nearest         23699 non-null  float64\n",
      " 19  ponds_around3000      23699 non-null  float64\n",
      " 20  ponds_nearest         23699 non-null  float64\n",
      " 21  days_exposition       20518 non-null  float64\n",
      "dtypes: bool(2), float64(14), int64(3), object(3)\n",
      "memory usage: 3.7+ MB\n"
     ]
    }
   ],
   "source": [
    "data.info()"
   ]
  },
  {
   "cell_type": "code",
   "execution_count": 15,
   "metadata": {
    "scrolled": true
   },
   "outputs": [
    {
     "data": {
      "text/html": [
       "<div>\n",
       "<style scoped>\n",
       "    .dataframe tbody tr th:only-of-type {\n",
       "        vertical-align: middle;\n",
       "    }\n",
       "\n",
       "    .dataframe tbody tr th {\n",
       "        vertical-align: top;\n",
       "    }\n",
       "\n",
       "    .dataframe thead th {\n",
       "        text-align: right;\n",
       "    }\n",
       "</style>\n",
       "<table border=\"1\" class=\"dataframe\">\n",
       "  <thead>\n",
       "    <tr style=\"text-align: right;\">\n",
       "      <th></th>\n",
       "      <th>total_images</th>\n",
       "      <th>last_price</th>\n",
       "      <th>total_area</th>\n",
       "      <th>first_day_exposition</th>\n",
       "      <th>rooms</th>\n",
       "      <th>ceiling_height</th>\n",
       "      <th>floors_total</th>\n",
       "      <th>living_area</th>\n",
       "      <th>floor</th>\n",
       "      <th>is_apartment</th>\n",
       "      <th>...</th>\n",
       "      <th>kitchen_area</th>\n",
       "      <th>balcony</th>\n",
       "      <th>locality_name</th>\n",
       "      <th>airports_nearest</th>\n",
       "      <th>cityCenters_nearest</th>\n",
       "      <th>parks_around3000</th>\n",
       "      <th>parks_nearest</th>\n",
       "      <th>ponds_around3000</th>\n",
       "      <th>ponds_nearest</th>\n",
       "      <th>days_exposition</th>\n",
       "    </tr>\n",
       "  </thead>\n",
       "  <tbody>\n",
       "    <tr>\n",
       "      <th>0</th>\n",
       "      <td>20</td>\n",
       "      <td>13000000.0</td>\n",
       "      <td>108.0</td>\n",
       "      <td>2019-03-07</td>\n",
       "      <td>3</td>\n",
       "      <td>2.70</td>\n",
       "      <td>16</td>\n",
       "      <td>51.000000</td>\n",
       "      <td>8</td>\n",
       "      <td>NaN</td>\n",
       "      <td>...</td>\n",
       "      <td>25.000000</td>\n",
       "      <td>0</td>\n",
       "      <td>Санкт-Петербург</td>\n",
       "      <td>18863.0</td>\n",
       "      <td>16028.0</td>\n",
       "      <td>1</td>\n",
       "      <td>482.0</td>\n",
       "      <td>2</td>\n",
       "      <td>755.0</td>\n",
       "      <td>NaN</td>\n",
       "    </tr>\n",
       "    <tr>\n",
       "      <th>1</th>\n",
       "      <td>7</td>\n",
       "      <td>3350000.0</td>\n",
       "      <td>40.4</td>\n",
       "      <td>2018-12-04</td>\n",
       "      <td>1</td>\n",
       "      <td>NaN</td>\n",
       "      <td>11</td>\n",
       "      <td>18.600000</td>\n",
       "      <td>1</td>\n",
       "      <td>NaN</td>\n",
       "      <td>...</td>\n",
       "      <td>11.000000</td>\n",
       "      <td>2</td>\n",
       "      <td>посёлок Шушары</td>\n",
       "      <td>12817.0</td>\n",
       "      <td>18603.0</td>\n",
       "      <td>0</td>\n",
       "      <td>0.0</td>\n",
       "      <td>0</td>\n",
       "      <td>0.0</td>\n",
       "      <td>81.0</td>\n",
       "    </tr>\n",
       "    <tr>\n",
       "      <th>2</th>\n",
       "      <td>10</td>\n",
       "      <td>5196000.0</td>\n",
       "      <td>56.0</td>\n",
       "      <td>2015-08-20</td>\n",
       "      <td>2</td>\n",
       "      <td>NaN</td>\n",
       "      <td>5</td>\n",
       "      <td>34.300000</td>\n",
       "      <td>4</td>\n",
       "      <td>NaN</td>\n",
       "      <td>...</td>\n",
       "      <td>8.300000</td>\n",
       "      <td>0</td>\n",
       "      <td>Санкт-Петербург</td>\n",
       "      <td>21741.0</td>\n",
       "      <td>13933.0</td>\n",
       "      <td>1</td>\n",
       "      <td>90.0</td>\n",
       "      <td>2</td>\n",
       "      <td>574.0</td>\n",
       "      <td>558.0</td>\n",
       "    </tr>\n",
       "    <tr>\n",
       "      <th>3</th>\n",
       "      <td>0</td>\n",
       "      <td>64900000.0</td>\n",
       "      <td>159.0</td>\n",
       "      <td>2015-07-24</td>\n",
       "      <td>3</td>\n",
       "      <td>NaN</td>\n",
       "      <td>14</td>\n",
       "      <td>91.177695</td>\n",
       "      <td>9</td>\n",
       "      <td>NaN</td>\n",
       "      <td>...</td>\n",
       "      <td>27.848168</td>\n",
       "      <td>0</td>\n",
       "      <td>Санкт-Петербург</td>\n",
       "      <td>28098.0</td>\n",
       "      <td>6800.0</td>\n",
       "      <td>2</td>\n",
       "      <td>84.0</td>\n",
       "      <td>3</td>\n",
       "      <td>234.0</td>\n",
       "      <td>424.0</td>\n",
       "    </tr>\n",
       "    <tr>\n",
       "      <th>4</th>\n",
       "      <td>2</td>\n",
       "      <td>10000000.0</td>\n",
       "      <td>100.0</td>\n",
       "      <td>2018-06-19</td>\n",
       "      <td>2</td>\n",
       "      <td>3.03</td>\n",
       "      <td>14</td>\n",
       "      <td>32.000000</td>\n",
       "      <td>13</td>\n",
       "      <td>NaN</td>\n",
       "      <td>...</td>\n",
       "      <td>41.000000</td>\n",
       "      <td>0</td>\n",
       "      <td>Санкт-Петербург</td>\n",
       "      <td>31856.0</td>\n",
       "      <td>8098.0</td>\n",
       "      <td>2</td>\n",
       "      <td>112.0</td>\n",
       "      <td>1</td>\n",
       "      <td>48.0</td>\n",
       "      <td>121.0</td>\n",
       "    </tr>\n",
       "  </tbody>\n",
       "</table>\n",
       "<p>5 rows × 22 columns</p>\n",
       "</div>"
      ],
      "text/plain": [
       "   total_images  last_price  total_area first_day_exposition  rooms  \\\n",
       "0            20  13000000.0       108.0           2019-03-07      3   \n",
       "1             7   3350000.0        40.4           2018-12-04      1   \n",
       "2            10   5196000.0        56.0           2015-08-20      2   \n",
       "3             0  64900000.0       159.0           2015-07-24      3   \n",
       "4             2  10000000.0       100.0           2018-06-19      2   \n",
       "\n",
       "   ceiling_height  floors_total  living_area  floor is_apartment  ...  \\\n",
       "0            2.70            16    51.000000      8          NaN  ...   \n",
       "1             NaN            11    18.600000      1          NaN  ...   \n",
       "2             NaN             5    34.300000      4          NaN  ...   \n",
       "3             NaN            14    91.177695      9          NaN  ...   \n",
       "4            3.03            14    32.000000     13          NaN  ...   \n",
       "\n",
       "   kitchen_area  balcony    locality_name  airports_nearest  \\\n",
       "0     25.000000        0  Санкт-Петербург           18863.0   \n",
       "1     11.000000        2   посёлок Шушары           12817.0   \n",
       "2      8.300000        0  Санкт-Петербург           21741.0   \n",
       "3     27.848168        0  Санкт-Петербург           28098.0   \n",
       "4     41.000000        0  Санкт-Петербург           31856.0   \n",
       "\n",
       "  cityCenters_nearest  parks_around3000  parks_nearest  ponds_around3000  \\\n",
       "0             16028.0                 1          482.0                 2   \n",
       "1             18603.0                 0            0.0                 0   \n",
       "2             13933.0                 1           90.0                 2   \n",
       "3              6800.0                 2           84.0                 3   \n",
       "4              8098.0                 2          112.0                 1   \n",
       "\n",
       "   ponds_nearest  days_exposition  \n",
       "0          755.0              NaN  \n",
       "1            0.0             81.0  \n",
       "2          574.0            558.0  \n",
       "3          234.0            424.0  \n",
       "4           48.0            121.0  \n",
       "\n",
       "[5 rows x 22 columns]"
      ]
     },
     "execution_count": 15,
     "metadata": {},
     "output_type": "execute_result"
    }
   ],
   "source": [
    "# Переведем явные числа с ненулевой дробной частью (не считая nan) в формат целых чисел\n",
    "data['floors_total'] = data['floors_total'].astype('int')\n",
    "data['balcony'] = data['balcony'].astype('int')\n",
    "data['parks_around3000'] = data['parks_around3000'].astype('int')\n",
    "data['ponds_around3000'] = data['ponds_around3000'].astype('int')\n",
    "# Также, переведем дату в другой формат\n",
    "data['first_day_exposition'] = pd.to_datetime(data['first_day_exposition'], format='%Y.%m.%d')\n",
    "data.head(5)"
   ]
  },
  {
   "cell_type": "code",
   "execution_count": 16,
   "metadata": {},
   "outputs": [
    {
     "name": "stdout",
     "output_type": "stream",
     "text": [
      "<class 'pandas.core.frame.DataFrame'>\n",
      "RangeIndex: 23699 entries, 0 to 23698\n",
      "Data columns (total 22 columns):\n",
      " #   Column                Non-Null Count  Dtype         \n",
      "---  ------                --------------  -----         \n",
      " 0   total_images          23699 non-null  int64         \n",
      " 1   last_price            23699 non-null  float64       \n",
      " 2   total_area            23699 non-null  float64       \n",
      " 3   first_day_exposition  23699 non-null  datetime64[ns]\n",
      " 4   rooms                 23699 non-null  int64         \n",
      " 5   ceiling_height        14504 non-null  float64       \n",
      " 6   floors_total          23699 non-null  int64         \n",
      " 7   living_area           23699 non-null  float64       \n",
      " 8   floor                 23699 non-null  int64         \n",
      " 9   is_apartment          2775 non-null   object        \n",
      " 10  studio                23699 non-null  bool          \n",
      " 11  open_plan             23699 non-null  bool          \n",
      " 12  kitchen_area          23699 non-null  float64       \n",
      " 13  balcony               23699 non-null  int64         \n",
      " 14  locality_name         23650 non-null  object        \n",
      " 15  airports_nearest      18157 non-null  float64       \n",
      " 16  cityCenters_nearest   18180 non-null  float64       \n",
      " 17  parks_around3000      23699 non-null  int64         \n",
      " 18  parks_nearest         23699 non-null  float64       \n",
      " 19  ponds_around3000      23699 non-null  int64         \n",
      " 20  ponds_nearest         23699 non-null  float64       \n",
      " 21  days_exposition       20518 non-null  float64       \n",
      "dtypes: bool(2), datetime64[ns](1), float64(10), int64(7), object(2)\n",
      "memory usage: 3.7+ MB\n"
     ]
    }
   ],
   "source": [
    "data.info()"
   ]
  },
  {
   "cell_type": "markdown",
   "metadata": {},
   "source": [
    "Данные были переведены в корректный формат, целые числа теперь представлены целыми значениями, а дата имеет тип datetime."
   ]
  },
  {
   "cell_type": "markdown",
   "metadata": {},
   "source": [
    "#### Устранение дубликатов"
   ]
  },
  {
   "cell_type": "code",
   "execution_count": 17,
   "metadata": {},
   "outputs": [
    {
     "data": {
      "text/plain": [
       "0"
      ]
     },
     "execution_count": 17,
     "metadata": {},
     "output_type": "execute_result"
    }
   ],
   "source": [
    "# Просмотрим количество строк-дубликатов \n",
    "data.duplicated().sum()"
   ]
  },
  {
   "cell_type": "code",
   "execution_count": 18,
   "metadata": {
    "scrolled": true
   },
   "outputs": [],
   "source": [
    "#Проверим уникальные значения в столбце с названиями\n",
    "#data['locality_name'].unique()"
   ]
  },
  {
   "cell_type": "code",
   "execution_count": 19,
   "metadata": {},
   "outputs": [],
   "source": [
    "#Уберем тип н/п\n",
    "data['locality_name'] = data['locality_name'].str.replace('ё', 'е', regex=True)"
   ]
  },
  {
   "cell_type": "code",
   "execution_count": 20,
   "metadata": {},
   "outputs": [],
   "source": [
    "data['locality_name'] = data['locality_name'].replace(\n",
    "    ['коттеджный ', 'станции ', 'садовое товарищество ', 'при железнодорожной ',\n",
    "     'село ', 'городской поселок ', 'деревня ', 'поселок ', 'городского типа '], '', regex=True)"
   ]
  },
  {
   "cell_type": "code",
   "execution_count": 21,
   "metadata": {},
   "outputs": [
    {
     "data": {
      "text/plain": [
       "['садоводческое некоммерческое товарищество Лесная Поляна',\n",
       " 'имени Свердлова',\n",
       " 'имени Морозова',\n",
       " 'Янино-1',\n",
       " 'Ям-Тесово',\n",
       " 'Яльгелево',\n",
       " 'Ялгино',\n",
       " 'Юкки',\n",
       " 'Щеглово',\n",
       " 'Шушары',\n",
       " 'Шум',\n",
       " 'Шугозеро',\n",
       " 'Шпаньково',\n",
       " 'Шлиссельбург',\n",
       " 'Чудской Бор',\n",
       " 'Цвылево',\n",
       " 'Цвелодубово',\n",
       " 'Хязельки',\n",
       " 'Хапо-Ое',\n",
       " 'Форт Красная Горка',\n",
       " 'Форносово',\n",
       " 'Федоровское',\n",
       " 'Фалилеево',\n",
       " 'Ушаки',\n",
       " 'Усть-Луга',\n",
       " 'Усть-Ижора',\n",
       " 'Ульяновка',\n",
       " 'Углово',\n",
       " 'Трубников Бор',\n",
       " 'Тосно',\n",
       " 'Торфяное',\n",
       " 'Торошковичи',\n",
       " 'Торосово',\n",
       " 'Торковичи',\n",
       " 'Токсово',\n",
       " 'Тойворово',\n",
       " 'Тихковицы',\n",
       " 'Тихвин',\n",
       " 'Тесово-4',\n",
       " 'Терпилицы',\n",
       " 'Терволово',\n",
       " 'Тельмана',\n",
       " 'Тарасово',\n",
       " 'Тайцы',\n",
       " 'Сясьстрой',\n",
       " 'Сяськелево',\n",
       " 'Счастье',\n",
       " 'Суходолье',\n",
       " 'Суоранда',\n",
       " 'Сумино',\n",
       " 'Суйда',\n",
       " 'Стрельна',\n",
       " 'Стеклянный',\n",
       " 'Старые Бегуницы',\n",
       " 'Старосиверская',\n",
       " 'Старополье',\n",
       " 'Старое Хинколово',\n",
       " 'Старая Пустошь',\n",
       " 'Старая Малукса',\n",
       " 'Старая Ладога',\n",
       " 'Старая',\n",
       " 'Сосновый Бор',\n",
       " 'Сосново',\n",
       " 'Совхозный',\n",
       " 'Советский',\n",
       " 'Снегиревка',\n",
       " 'Сланцы',\n",
       " 'Синявино',\n",
       " 'Сижно',\n",
       " 'Сиверский',\n",
       " 'Сестрорецк',\n",
       " 'Сертолово',\n",
       " 'Серебрянский',\n",
       " 'Семрино',\n",
       " 'Семиозерье',\n",
       " 'Сельцо',\n",
       " 'Селезнево',\n",
       " 'Севастьяново',\n",
       " 'Свирьстрой',\n",
       " 'Свирь',\n",
       " 'Светогорск',\n",
       " 'Саперный',\n",
       " 'Саперное',\n",
       " 'Санкт-Петербург',\n",
       " 'Садко',\n",
       " 'Рябово',\n",
       " 'Русско-Высоцкое',\n",
       " 'Русско',\n",
       " 'Рощино',\n",
       " 'Ропша',\n",
       " 'Ромашки',\n",
       " 'Романовка',\n",
       " 'Рождествено',\n",
       " 'Репино',\n",
       " 'Реброво',\n",
       " 'Рахья',\n",
       " 'Рапполово',\n",
       " 'Разметелево',\n",
       " 'Раздолье',\n",
       " 'Разбегаево',\n",
       " 'Рабитицы',\n",
       " 'Пчевжа',\n",
       " 'Пчева',\n",
       " 'Пушное',\n",
       " 'Пушкин',\n",
       " 'Путилово',\n",
       " 'Пустынка',\n",
       " 'Пудость',\n",
       " 'Пудомяги',\n",
       " 'Приозерск',\n",
       " 'Приморск',\n",
       " 'Приладожский',\n",
       " 'Пригородный',\n",
       " 'Приветнинское',\n",
       " 'Починок',\n",
       " 'Почап',\n",
       " 'Понтонный',\n",
       " 'Поляны',\n",
       " 'Подпорожье',\n",
       " 'Победа',\n",
       " 'Плоское',\n",
       " 'Плодовое',\n",
       " 'Платформа 69-й километр',\n",
       " 'Пикколово',\n",
       " 'Пикалево',\n",
       " 'Пижма',\n",
       " 'Петровское',\n",
       " 'Петро-Славянка',\n",
       " 'Петергоф',\n",
       " 'Песочный',\n",
       " 'Перово',\n",
       " 'Первомайское',\n",
       " 'Пеники',\n",
       " 'Пельгора',\n",
       " 'Паша',\n",
       " 'Парицы',\n",
       " 'Парголово',\n",
       " 'Пансионат Зеленый Бор',\n",
       " 'Павловск',\n",
       " 'Павлово',\n",
       " 'Отрадное',\n",
       " 'Оржицы',\n",
       " 'Оредеж',\n",
       " 'Нурма',\n",
       " 'Новый Учхоз',\n",
       " 'Новый Свет',\n",
       " 'Новоселье',\n",
       " 'Новолисино',\n",
       " 'Новое Девяткино',\n",
       " 'Новогорелово',\n",
       " 'Новая Ропша',\n",
       " 'Новая Ладога',\n",
       " 'Никольское',\n",
       " 'Никольский',\n",
       " 'Низино',\n",
       " 'Нижняя',\n",
       " 'Нижние Осельки',\n",
       " 'Ненимяки',\n",
       " 'Назия',\n",
       " 'Мыза-Ивановка',\n",
       " 'Мурино',\n",
       " 'Молодцово',\n",
       " 'Молодежное',\n",
       " 'Мичуринское',\n",
       " 'Мистолово',\n",
       " 'Мины',\n",
       " 'Металлострой',\n",
       " 'Меньково',\n",
       " 'Мельниково',\n",
       " 'Мга',\n",
       " 'Мануйлово',\n",
       " 'Малые Колпаны',\n",
       " 'Малое Карлино',\n",
       " 'Малое Верево',\n",
       " 'Малая Романовка',\n",
       " 'Любань',\n",
       " 'Лупполово',\n",
       " 'Лукаши',\n",
       " 'Лужайка',\n",
       " 'Луга',\n",
       " 'Лопухинка',\n",
       " 'Ломоносов',\n",
       " 'Лодейное Поле',\n",
       " 'Лисий Нос',\n",
       " 'Лесогорский',\n",
       " 'Лесное',\n",
       " 'Лесколово',\n",
       " 'Ленинское',\n",
       " 'Левашово',\n",
       " 'Лебяжье',\n",
       " 'Лампово',\n",
       " 'Лаголово',\n",
       " 'Лаврики',\n",
       " 'Куттузи',\n",
       " 'Куровицы',\n",
       " 'Курковицы',\n",
       " 'Кузьмоловский',\n",
       " 'Кузьмолово',\n",
       " 'Кузнечное',\n",
       " 'Кудрово',\n",
       " 'Кронштадт',\n",
       " 'Кривко',\n",
       " 'Красный Бор',\n",
       " 'Красносельское',\n",
       " 'Красное Село',\n",
       " 'Красная Долина',\n",
       " 'Котлы',\n",
       " 'Котельский',\n",
       " 'Коробицыно',\n",
       " 'Корнево',\n",
       " 'Коркино',\n",
       " 'Копорье',\n",
       " 'Кондратьево',\n",
       " 'Коммунары',\n",
       " 'Коммунар',\n",
       " 'Колтуши',\n",
       " 'Колпино',\n",
       " 'Кобринское',\n",
       " 'Кобралово',\n",
       " 'Кисельня',\n",
       " 'Кирпичное',\n",
       " 'Кировск',\n",
       " 'Кириши',\n",
       " 'Кипень',\n",
       " 'Кингисеппский',\n",
       " 'Кингисепп',\n",
       " 'Кикерино',\n",
       " 'Кивеннапа Север',\n",
       " 'Келози',\n",
       " 'Каськово',\n",
       " 'Камышовка',\n",
       " 'Каменногорск',\n",
       " 'Кальтино',\n",
       " 'Каложицы',\n",
       " 'Калитино',\n",
       " 'Иссад',\n",
       " 'Ильичево',\n",
       " 'Извара',\n",
       " 'Ивангород',\n",
       " 'Зимитицы',\n",
       " 'Зеленогорск',\n",
       " 'Запорожское',\n",
       " 'Заневка',\n",
       " 'Заклинье',\n",
       " 'Заводской',\n",
       " 'Житково',\n",
       " 'Жилпоселок',\n",
       " 'Жилгородок',\n",
       " 'Ефимовский',\n",
       " 'Елизаветино',\n",
       " 'Дубровка',\n",
       " 'Дружноселье',\n",
       " 'Дружная Горка',\n",
       " 'Дзержинского',\n",
       " 'Громово',\n",
       " 'Гостилицы',\n",
       " 'Горбунки',\n",
       " 'Гончарово',\n",
       " 'Глинка',\n",
       " 'Глебычево',\n",
       " 'Глажево',\n",
       " 'Гладкое',\n",
       " 'Гатчина',\n",
       " 'Гарболово',\n",
       " 'Гаврилово',\n",
       " 'Высоцк',\n",
       " 'Высокоключевой',\n",
       " 'Выскатка',\n",
       " 'Вырица',\n",
       " 'Выборг',\n",
       " 'Всеволожск',\n",
       " 'Волхов',\n",
       " 'Волосово',\n",
       " 'Володарское',\n",
       " 'Войскорово',\n",
       " 'Войсковицы',\n",
       " 'Возрождение',\n",
       " 'Вознесенье',\n",
       " 'Виллози',\n",
       " 'Вещево',\n",
       " 'Вахнова Кара',\n",
       " 'Вартемяги',\n",
       " 'Важины',\n",
       " 'Ваганово',\n",
       " 'Будогощь',\n",
       " 'Бугры',\n",
       " 'Борисова Грива',\n",
       " 'Бор',\n",
       " 'Большой Сабск',\n",
       " 'Большое Рейзино',\n",
       " 'Большие Колпаны',\n",
       " 'Большая Пустомержа',\n",
       " 'Большая Ижора',\n",
       " 'Большая Вруда',\n",
       " 'Бокситогорск',\n",
       " 'Белоостров',\n",
       " 'Белогорка',\n",
       " 'Бегуницы',\n",
       " 'Батово',\n",
       " 'Барышево',\n",
       " 'Аро',\n",
       " 'Аннино',\n",
       " 'Алексеевка',\n",
       " 'Александровская',\n",
       " 'Агалатово',\n",
       " nan]"
      ]
     },
     "execution_count": 21,
     "metadata": {},
     "output_type": "execute_result"
    }
   ],
   "source": [
    "list(data['locality_name'].sort_values(ascending=False).unique())"
   ]
  },
  {
   "cell_type": "markdown",
   "metadata": {},
   "source": [
    "#### Поиск редких значений"
   ]
  },
  {
   "cell_type": "code",
   "execution_count": 22,
   "metadata": {},
   "outputs": [
    {
     "data": {
      "text/plain": [
       "<AxesSubplot:>"
      ]
     },
     "execution_count": 22,
     "metadata": {},
     "output_type": "execute_result"
    },
    {
     "data": {
      "image/png": "[encoded data removed]",
      "text/plain": [
       "<Figure size 432x288 with 1 Axes>"
      ]
     },
     "metadata": {
      "needs_background": "light"
     },
     "output_type": "display_data"
    }
   ],
   "source": [
    "# Найдем столбцы с редкими значениями\n",
    "# Явные выбросы наблюдаются в колонке с высотой потолков\n",
    "data.boxplot('ceiling_height')"
   ]
  },
  {
   "cell_type": "code",
   "execution_count": 23,
   "metadata": {},
   "outputs": [
    {
     "data": {
      "text/plain": [
       "<AxesSubplot:>"
      ]
     },
     "execution_count": 23,
     "metadata": {},
     "output_type": "execute_result"
    },
    {
     "data": {
      "image/png": "[encoded data removed]",
      "text/plain": [
       "<Figure size 432x288 with 1 Axes>"
      ]
     },
     "metadata": {
      "needs_background": "light"
     },
     "output_type": "display_data"
    }
   ],
   "source": [
    "#Явно ошибка, разделим значения потолков с высотой больше 8м. на 10  \n",
    "for i in data['ceiling_height']:\n",
    "    if i >= 8:\n",
    "        data['ceiling_height'] = data['ceiling_height'].replace({i: i / 10})\n",
    "data.boxplot('ceiling_height')"
   ]
  },
  {
   "cell_type": "markdown",
   "metadata": {},
   "source": [
    "Отсеяли редкие значения, возможно на следующих этапах встретятся еще аномальные данные, проанализируем их в процессе построений"
   ]
  },
  {
   "cell_type": "markdown",
   "metadata": {},
   "source": [
    "**Вывод:** В результате предобработки были заполнены пропуски, изменены типы данных, исправлены аномальные значения, а также обработаны неявные дубликаты, которые возникали из-за схожих названий населенных пунктов. "
   ]
  },
  {
   "cell_type": "markdown",
   "metadata": {},
   "source": [
    "### Добавление вспомогательных данных"
   ]
  },
  {
   "cell_type": "code",
   "execution_count": 24,
   "metadata": {},
   "outputs": [
    {
     "data": {
      "text/html": [
       "<div>\n",
       "<style scoped>\n",
       "    .dataframe tbody tr th:only-of-type {\n",
       "        vertical-align: middle;\n",
       "    }\n",
       "\n",
       "    .dataframe tbody tr th {\n",
       "        vertical-align: top;\n",
       "    }\n",
       "\n",
       "    .dataframe thead th {\n",
       "        text-align: right;\n",
       "    }\n",
       "</style>\n",
       "<table border=\"1\" class=\"dataframe\">\n",
       "  <thead>\n",
       "    <tr style=\"text-align: right;\">\n",
       "      <th></th>\n",
       "      <th>total_images</th>\n",
       "      <th>last_price</th>\n",
       "      <th>total_area</th>\n",
       "      <th>first_day_exposition</th>\n",
       "      <th>rooms</th>\n",
       "      <th>ceiling_height</th>\n",
       "      <th>floors_total</th>\n",
       "      <th>living_area</th>\n",
       "      <th>floor</th>\n",
       "      <th>is_apartment</th>\n",
       "      <th>...</th>\n",
       "      <th>kitchen_area</th>\n",
       "      <th>balcony</th>\n",
       "      <th>locality_name</th>\n",
       "      <th>airports_nearest</th>\n",
       "      <th>cityCenters_nearest</th>\n",
       "      <th>parks_around3000</th>\n",
       "      <th>parks_nearest</th>\n",
       "      <th>ponds_around3000</th>\n",
       "      <th>ponds_nearest</th>\n",
       "      <th>days_exposition</th>\n",
       "    </tr>\n",
       "  </thead>\n",
       "  <tbody>\n",
       "    <tr>\n",
       "      <th>0</th>\n",
       "      <td>20</td>\n",
       "      <td>13000000.0</td>\n",
       "      <td>108.0</td>\n",
       "      <td>2019-03-07</td>\n",
       "      <td>3</td>\n",
       "      <td>2.70</td>\n",
       "      <td>16</td>\n",
       "      <td>51.000000</td>\n",
       "      <td>8</td>\n",
       "      <td>NaN</td>\n",
       "      <td>...</td>\n",
       "      <td>25.000000</td>\n",
       "      <td>0</td>\n",
       "      <td>Санкт-Петербург</td>\n",
       "      <td>18863.0</td>\n",
       "      <td>16028.0</td>\n",
       "      <td>1</td>\n",
       "      <td>482.0</td>\n",
       "      <td>2</td>\n",
       "      <td>755.0</td>\n",
       "      <td>NaN</td>\n",
       "    </tr>\n",
       "    <tr>\n",
       "      <th>1</th>\n",
       "      <td>7</td>\n",
       "      <td>3350000.0</td>\n",
       "      <td>40.4</td>\n",
       "      <td>2018-12-04</td>\n",
       "      <td>1</td>\n",
       "      <td>NaN</td>\n",
       "      <td>11</td>\n",
       "      <td>18.600000</td>\n",
       "      <td>1</td>\n",
       "      <td>NaN</td>\n",
       "      <td>...</td>\n",
       "      <td>11.000000</td>\n",
       "      <td>2</td>\n",
       "      <td>Шушары</td>\n",
       "      <td>12817.0</td>\n",
       "      <td>18603.0</td>\n",
       "      <td>0</td>\n",
       "      <td>0.0</td>\n",
       "      <td>0</td>\n",
       "      <td>0.0</td>\n",
       "      <td>81.0</td>\n",
       "    </tr>\n",
       "    <tr>\n",
       "      <th>2</th>\n",
       "      <td>10</td>\n",
       "      <td>5196000.0</td>\n",
       "      <td>56.0</td>\n",
       "      <td>2015-08-20</td>\n",
       "      <td>2</td>\n",
       "      <td>NaN</td>\n",
       "      <td>5</td>\n",
       "      <td>34.300000</td>\n",
       "      <td>4</td>\n",
       "      <td>NaN</td>\n",
       "      <td>...</td>\n",
       "      <td>8.300000</td>\n",
       "      <td>0</td>\n",
       "      <td>Санкт-Петербург</td>\n",
       "      <td>21741.0</td>\n",
       "      <td>13933.0</td>\n",
       "      <td>1</td>\n",
       "      <td>90.0</td>\n",
       "      <td>2</td>\n",
       "      <td>574.0</td>\n",
       "      <td>558.0</td>\n",
       "    </tr>\n",
       "    <tr>\n",
       "      <th>3</th>\n",
       "      <td>0</td>\n",
       "      <td>64900000.0</td>\n",
       "      <td>159.0</td>\n",
       "      <td>2015-07-24</td>\n",
       "      <td>3</td>\n",
       "      <td>NaN</td>\n",
       "      <td>14</td>\n",
       "      <td>91.177695</td>\n",
       "      <td>9</td>\n",
       "      <td>NaN</td>\n",
       "      <td>...</td>\n",
       "      <td>27.848168</td>\n",
       "      <td>0</td>\n",
       "      <td>Санкт-Петербург</td>\n",
       "      <td>28098.0</td>\n",
       "      <td>6800.0</td>\n",
       "      <td>2</td>\n",
       "      <td>84.0</td>\n",
       "      <td>3</td>\n",
       "      <td>234.0</td>\n",
       "      <td>424.0</td>\n",
       "    </tr>\n",
       "    <tr>\n",
       "      <th>4</th>\n",
       "      <td>2</td>\n",
       "      <td>10000000.0</td>\n",
       "      <td>100.0</td>\n",
       "      <td>2018-06-19</td>\n",
       "      <td>2</td>\n",
       "      <td>3.03</td>\n",
       "      <td>14</td>\n",
       "      <td>32.000000</td>\n",
       "      <td>13</td>\n",
       "      <td>NaN</td>\n",
       "      <td>...</td>\n",
       "      <td>41.000000</td>\n",
       "      <td>0</td>\n",
       "      <td>Санкт-Петербург</td>\n",
       "      <td>31856.0</td>\n",
       "      <td>8098.0</td>\n",
       "      <td>2</td>\n",
       "      <td>112.0</td>\n",
       "      <td>1</td>\n",
       "      <td>48.0</td>\n",
       "      <td>121.0</td>\n",
       "    </tr>\n",
       "  </tbody>\n",
       "</table>\n",
       "<p>5 rows × 22 columns</p>\n",
       "</div>"
      ],
      "text/plain": [
       "   total_images  last_price  total_area first_day_exposition  rooms  \\\n",
       "0            20  13000000.0       108.0           2019-03-07      3   \n",
       "1             7   3350000.0        40.4           2018-12-04      1   \n",
       "2            10   5196000.0        56.0           2015-08-20      2   \n",
       "3             0  64900000.0       159.0           2015-07-24      3   \n",
       "4             2  10000000.0       100.0           2018-06-19      2   \n",
       "\n",
       "   ceiling_height  floors_total  living_area  floor is_apartment  ...  \\\n",
       "0            2.70            16    51.000000      8          NaN  ...   \n",
       "1             NaN            11    18.600000      1          NaN  ...   \n",
       "2             NaN             5    34.300000      4          NaN  ...   \n",
       "3             NaN            14    91.177695      9          NaN  ...   \n",
       "4            3.03            14    32.000000     13          NaN  ...   \n",
       "\n",
       "   kitchen_area  balcony    locality_name  airports_nearest  \\\n",
       "0     25.000000        0  Санкт-Петербург           18863.0   \n",
       "1     11.000000        2           Шушары           12817.0   \n",
       "2      8.300000        0  Санкт-Петербург           21741.0   \n",
       "3     27.848168        0  Санкт-Петербург           28098.0   \n",
       "4     41.000000        0  Санкт-Петербург           31856.0   \n",
       "\n",
       "  cityCenters_nearest  parks_around3000  parks_nearest  ponds_around3000  \\\n",
       "0             16028.0                 1          482.0                 2   \n",
       "1             18603.0                 0            0.0                 0   \n",
       "2             13933.0                 1           90.0                 2   \n",
       "3              6800.0                 2           84.0                 3   \n",
       "4              8098.0                 2          112.0                 1   \n",
       "\n",
       "   ponds_nearest  days_exposition  \n",
       "0          755.0              NaN  \n",
       "1            0.0             81.0  \n",
       "2          574.0            558.0  \n",
       "3          234.0            424.0  \n",
       "4           48.0            121.0  \n",
       "\n",
       "[5 rows x 22 columns]"
      ]
     },
     "execution_count": 24,
     "metadata": {},
     "output_type": "execute_result"
    }
   ],
   "source": [
    "# Добавим в таблицу новые данные\n",
    "#Выведем данные\n",
    "data.head(5)"
   ]
  },
  {
   "cell_type": "code",
   "execution_count": 25,
   "metadata": {},
   "outputs": [
    {
     "data": {
      "text/plain": [
       "array(['Другой', 'первый', 'последний'], dtype=object)"
      ]
     },
     "execution_count": 25,
     "metadata": {},
     "output_type": "execute_result"
    }
   ],
   "source": [
    "# Добавим функцию для присвоения типа этажам квартир\n",
    "def floors_type_func(row):\n",
    "        if row['floor']==1:\n",
    "            return 'первый'\n",
    "        elif row['floor'] == row['floors_total']:\n",
    "            return 'последний'\n",
    "        else:\n",
    "            return 'Другой'  \n",
    "\n",
    "data['floor_type'] = data.apply(floors_type_func, axis =1)\n",
    "data['floor_type'].unique() "
   ]
  },
  {
   "cell_type": "code",
   "execution_count": 26,
   "metadata": {},
   "outputs": [],
   "source": [
    "data['price_per_area'] = data['last_price'] / data['total_area'] #Цена 1 кв.м.\n",
    "data['day_w_expos'] = pd.DatetimeIndex(data['first_day_exposition']).weekday #День недели размещения объявления\n",
    "data['month_expos']= pd.DatetimeIndex(data['first_day_exposition']).month #Месяц недели размещения объявления\n",
    "data['year_expos'] = pd.DatetimeIndex(data['first_day_exposition']).year #Год недели размещения объявления\n",
    "\n",
    "data['cityCenters_km'] = (data['cityCenters_nearest']/1000).round() # Расстояние от центра в км."
   ]
  },
  {
   "cell_type": "code",
   "execution_count": 27,
   "metadata": {},
   "outputs": [
    {
     "data": {
      "text/html": [
       "<div>\n",
       "<style scoped>\n",
       "    .dataframe tbody tr th:only-of-type {\n",
       "        vertical-align: middle;\n",
       "    }\n",
       "\n",
       "    .dataframe tbody tr th {\n",
       "        vertical-align: top;\n",
       "    }\n",
       "\n",
       "    .dataframe thead th {\n",
       "        text-align: right;\n",
       "    }\n",
       "</style>\n",
       "<table border=\"1\" class=\"dataframe\">\n",
       "  <thead>\n",
       "    <tr style=\"text-align: right;\">\n",
       "      <th></th>\n",
       "      <th>total_images</th>\n",
       "      <th>last_price</th>\n",
       "      <th>total_area</th>\n",
       "      <th>first_day_exposition</th>\n",
       "      <th>rooms</th>\n",
       "      <th>ceiling_height</th>\n",
       "      <th>floors_total</th>\n",
       "      <th>living_area</th>\n",
       "      <th>floor</th>\n",
       "      <th>is_apartment</th>\n",
       "      <th>...</th>\n",
       "      <th>ponds_nearest</th>\n",
       "      <th>days_exposition</th>\n",
       "      <th>floor_type</th>\n",
       "      <th>price_per_area</th>\n",
       "      <th>day_w_expos</th>\n",
       "      <th>month_expos</th>\n",
       "      <th>year_expos</th>\n",
       "      <th>cityCenters_km</th>\n",
       "      <th>month_expos_str</th>\n",
       "      <th>day_str</th>\n",
       "    </tr>\n",
       "  </thead>\n",
       "  <tbody>\n",
       "    <tr>\n",
       "      <th>0</th>\n",
       "      <td>20</td>\n",
       "      <td>13000000.0</td>\n",
       "      <td>108.0</td>\n",
       "      <td>2019-03-07</td>\n",
       "      <td>3</td>\n",
       "      <td>2.70</td>\n",
       "      <td>16</td>\n",
       "      <td>51.000000</td>\n",
       "      <td>8</td>\n",
       "      <td>NaN</td>\n",
       "      <td>...</td>\n",
       "      <td>755.0</td>\n",
       "      <td>NaN</td>\n",
       "      <td>Другой</td>\n",
       "      <td>120370.370370</td>\n",
       "      <td>3</td>\n",
       "      <td>3</td>\n",
       "      <td>2019</td>\n",
       "      <td>16.0</td>\n",
       "      <td>Март</td>\n",
       "      <td>Среда</td>\n",
       "    </tr>\n",
       "    <tr>\n",
       "      <th>1</th>\n",
       "      <td>7</td>\n",
       "      <td>3350000.0</td>\n",
       "      <td>40.4</td>\n",
       "      <td>2018-12-04</td>\n",
       "      <td>1</td>\n",
       "      <td>NaN</td>\n",
       "      <td>11</td>\n",
       "      <td>18.600000</td>\n",
       "      <td>1</td>\n",
       "      <td>NaN</td>\n",
       "      <td>...</td>\n",
       "      <td>0.0</td>\n",
       "      <td>81.0</td>\n",
       "      <td>первый</td>\n",
       "      <td>82920.792079</td>\n",
       "      <td>1</td>\n",
       "      <td>12</td>\n",
       "      <td>2018</td>\n",
       "      <td>19.0</td>\n",
       "      <td>Декабрь</td>\n",
       "      <td>Понедельник</td>\n",
       "    </tr>\n",
       "    <tr>\n",
       "      <th>2</th>\n",
       "      <td>10</td>\n",
       "      <td>5196000.0</td>\n",
       "      <td>56.0</td>\n",
       "      <td>2015-08-20</td>\n",
       "      <td>2</td>\n",
       "      <td>NaN</td>\n",
       "      <td>5</td>\n",
       "      <td>34.300000</td>\n",
       "      <td>4</td>\n",
       "      <td>NaN</td>\n",
       "      <td>...</td>\n",
       "      <td>574.0</td>\n",
       "      <td>558.0</td>\n",
       "      <td>Другой</td>\n",
       "      <td>92785.714286</td>\n",
       "      <td>3</td>\n",
       "      <td>8</td>\n",
       "      <td>2015</td>\n",
       "      <td>14.0</td>\n",
       "      <td>Август</td>\n",
       "      <td>Среда</td>\n",
       "    </tr>\n",
       "    <tr>\n",
       "      <th>3</th>\n",
       "      <td>0</td>\n",
       "      <td>64900000.0</td>\n",
       "      <td>159.0</td>\n",
       "      <td>2015-07-24</td>\n",
       "      <td>3</td>\n",
       "      <td>NaN</td>\n",
       "      <td>14</td>\n",
       "      <td>91.177695</td>\n",
       "      <td>9</td>\n",
       "      <td>NaN</td>\n",
       "      <td>...</td>\n",
       "      <td>234.0</td>\n",
       "      <td>424.0</td>\n",
       "      <td>Другой</td>\n",
       "      <td>408176.100629</td>\n",
       "      <td>4</td>\n",
       "      <td>7</td>\n",
       "      <td>2015</td>\n",
       "      <td>7.0</td>\n",
       "      <td>Июль</td>\n",
       "      <td>Четверг</td>\n",
       "    </tr>\n",
       "    <tr>\n",
       "      <th>4</th>\n",
       "      <td>2</td>\n",
       "      <td>10000000.0</td>\n",
       "      <td>100.0</td>\n",
       "      <td>2018-06-19</td>\n",
       "      <td>2</td>\n",
       "      <td>3.03</td>\n",
       "      <td>14</td>\n",
       "      <td>32.000000</td>\n",
       "      <td>13</td>\n",
       "      <td>NaN</td>\n",
       "      <td>...</td>\n",
       "      <td>48.0</td>\n",
       "      <td>121.0</td>\n",
       "      <td>Другой</td>\n",
       "      <td>100000.000000</td>\n",
       "      <td>1</td>\n",
       "      <td>6</td>\n",
       "      <td>2018</td>\n",
       "      <td>8.0</td>\n",
       "      <td>Июнь</td>\n",
       "      <td>Понедельник</td>\n",
       "    </tr>\n",
       "  </tbody>\n",
       "</table>\n",
       "<p>5 rows × 30 columns</p>\n",
       "</div>"
      ],
      "text/plain": [
       "   total_images  last_price  total_area first_day_exposition  rooms  \\\n",
       "0            20  13000000.0       108.0           2019-03-07      3   \n",
       "1             7   3350000.0        40.4           2018-12-04      1   \n",
       "2            10   5196000.0        56.0           2015-08-20      2   \n",
       "3             0  64900000.0       159.0           2015-07-24      3   \n",
       "4             2  10000000.0       100.0           2018-06-19      2   \n",
       "\n",
       "   ceiling_height  floors_total  living_area  floor is_apartment  ...  \\\n",
       "0            2.70            16    51.000000      8          NaN  ...   \n",
       "1             NaN            11    18.600000      1          NaN  ...   \n",
       "2             NaN             5    34.300000      4          NaN  ...   \n",
       "3             NaN            14    91.177695      9          NaN  ...   \n",
       "4            3.03            14    32.000000     13          NaN  ...   \n",
       "\n",
       "   ponds_nearest  days_exposition  floor_type  price_per_area day_w_expos  \\\n",
       "0          755.0              NaN      Другой   120370.370370           3   \n",
       "1            0.0             81.0      первый    82920.792079           1   \n",
       "2          574.0            558.0      Другой    92785.714286           3   \n",
       "3          234.0            424.0      Другой   408176.100629           4   \n",
       "4           48.0            121.0      Другой   100000.000000           1   \n",
       "\n",
       "   month_expos  year_expos  cityCenters_km  month_expos_str      day_str  \n",
       "0            3        2019            16.0             Март        Среда  \n",
       "1           12        2018            19.0          Декабрь  Понедельник  \n",
       "2            8        2015            14.0           Август        Среда  \n",
       "3            7        2015             7.0             Июль      Четверг  \n",
       "4            6        2018             8.0             Июнь  Понедельник  \n",
       "\n",
       "[5 rows x 30 columns]"
      ]
     },
     "execution_count": 27,
     "metadata": {},
     "output_type": "execute_result"
    }
   ],
   "source": [
    "# Заменим значения недель и месяцев названиями\n",
    "def month_type(row):\n",
    "        if row == 1:\n",
    "            return 'Январь'\n",
    "        elif row == 2:\n",
    "            return 'Февраль'\n",
    "        elif row == 3:\n",
    "            return 'Март'\n",
    "        elif row == 4:\n",
    "            return 'Апрель'\n",
    "        elif row == 5:\n",
    "            return 'Май'\n",
    "        elif row ==6:\n",
    "            return 'Июнь'\n",
    "        elif row == 7:\n",
    "            return 'Июль'\n",
    "        elif row == 8:\n",
    "            return 'Август'\n",
    "        elif row == 9:\n",
    "            return 'Сентябрь'\n",
    "        elif row == 10:\n",
    "            return 'Октябрь'\n",
    "        elif row == 11:\n",
    "            return 'Ноябрь'\n",
    "        elif row == 12:\n",
    "            return 'Декабрь'\n",
    "data['month_expos_str'] = data['month_expos'].apply(month_type)\n",
    "def day_type(row):\n",
    "        if row == 1:\n",
    "            return 'Понедельник'\n",
    "        elif row == 2:\n",
    "            return 'Вторник'\n",
    "        elif row == 3:\n",
    "            return 'Среда'\n",
    "        elif row == 4:\n",
    "            return 'Четверг'\n",
    "        elif row == 5:\n",
    "            return 'Пятница'\n",
    "        elif row ==6:\n",
    "            return 'Суббота'\n",
    "        elif row == 7:\n",
    "            return 'Воскресенье'\n",
    "data['day_str'] = data['day_w_expos'].apply(day_type)\n",
    "data.head()"
   ]
  },
  {
   "cell_type": "markdown",
   "metadata": {},
   "source": [
    "### Исследовательский анализ данных"
   ]
  },
  {
   "cell_type": "markdown",
   "metadata": {},
   "source": [
    "#### Общий анализ количественных данных"
   ]
  },
  {
   "cell_type": "code",
   "execution_count": 28,
   "metadata": {
    "scrolled": true
   },
   "outputs": [
    {
     "data": {
      "text/plain": [
       "array([[<AxesSubplot:title={'center':'total_images'}>,\n",
       "        <AxesSubplot:title={'center':'last_price'}>,\n",
       "        <AxesSubplot:title={'center':'total_area'}>,\n",
       "        <AxesSubplot:title={'center':'first_day_exposition'}>,\n",
       "        <AxesSubplot:title={'center':'rooms'}>],\n",
       "       [<AxesSubplot:title={'center':'ceiling_height'}>,\n",
       "        <AxesSubplot:title={'center':'floors_total'}>,\n",
       "        <AxesSubplot:title={'center':'living_area'}>,\n",
       "        <AxesSubplot:title={'center':'floor'}>,\n",
       "        <AxesSubplot:title={'center':'kitchen_area'}>],\n",
       "       [<AxesSubplot:title={'center':'balcony'}>,\n",
       "        <AxesSubplot:title={'center':'airports_nearest'}>,\n",
       "        <AxesSubplot:title={'center':'cityCenters_nearest'}>,\n",
       "        <AxesSubplot:title={'center':'parks_around3000'}>,\n",
       "        <AxesSubplot:title={'center':'parks_nearest'}>],\n",
       "       [<AxesSubplot:title={'center':'ponds_around3000'}>,\n",
       "        <AxesSubplot:title={'center':'ponds_nearest'}>,\n",
       "        <AxesSubplot:title={'center':'days_exposition'}>,\n",
       "        <AxesSubplot:title={'center':'price_per_area'}>,\n",
       "        <AxesSubplot:title={'center':'day_w_expos'}>],\n",
       "       [<AxesSubplot:title={'center':'month_expos'}>,\n",
       "        <AxesSubplot:title={'center':'year_expos'}>,\n",
       "        <AxesSubplot:title={'center':'cityCenters_km'}>, <AxesSubplot:>,\n",
       "        <AxesSubplot:>]], dtype=object)"
      ]
     },
     "execution_count": 28,
     "metadata": {},
     "output_type": "execute_result"
    },
    {
     "data": {
      "image/png": "[encoded data removed]",
      "text/plain": [
       "<Figure size 1080x1440 with 25 Axes>"
      ]
     },
     "metadata": {
      "needs_background": "light"
     },
     "output_type": "display_data"
    }
   ],
   "source": [
    "#Построим гистограммы по всем числовым характеристикам \n",
    "data.hist(figsize = (15, 20))"
   ]
  },
  {
   "cell_type": "markdown",
   "metadata": {},
   "source": [
    "Гистограммы отражают следующие закономерности:\n",
    "1. Основная масса квартир находятся в пределах 20км от центра, большую часть из объявлений занимают квратиры находящиеся на расстоянии 15-20 км. от центра, в два раза меньше квартир которые находятся ближе;\n",
    "2. Квартиры, в основном представлены в малоэтажных домах, бОльшая часть объявлений описывает дома до десяти этажей;\n",
    "3. Высота потолков практически во всех квартирах из объявлений не превышает двух - трех метров; \n",
    "4. Основная доля квартир располагается на нижних этажах, однако это может быть связано с тем, что наибольшее количество объявлений из малоэтажных домов.\n",
    "5. Практически все квартиры располагаются вдали аэропортов, но не сильно, в предалах 30км, количество объявлений сильно далеких от аэропортов сильно снижается после этой отметки.\n",
    "6. Количество парков и прудов показывают схожую картину. Так, в пределах 3км, в большенстве случаев они отсуствуют и наблюдается снижение количества парков и прудов с удалением от квартиры. Схожая динамика от удаленности может говорить о том, что наличие пруда приравнивается к парковой зоне.\n",
    "7. Объявления не выкладываются по средам и пятнциам и воскрсеньям. Также, наблюдается рост количсетва объявлений в начале и конца года, а также спад в летнее время.\n",
    "8. Возможно сервис запустился в 2014г., после этого периода наблюдается рост количества объявлений.\n",
    "9. Некоторые гистограммы не показательны, необходимо рассмотреть их отдельно."
   ]
  },
  {
   "cell_type": "code",
   "execution_count": 29,
   "metadata": {},
   "outputs": [
    {
     "data": {
      "text/plain": [
       "<AxesSubplot:>"
      ]
     },
     "execution_count": 29,
     "metadata": {},
     "output_type": "execute_result"
    },
    {
     "data": {
      "image/png": "[encoded data removed]",
      "text/plain": [
       "<Figure size 432x288 with 1 Axes>"
      ]
     },
     "metadata": {
      "needs_background": "light"
     },
     "output_type": "display_data"
    }
   ],
   "source": [
    "#Рассмотрим часть гистограмм более детально \n",
    "data['last_price'].hist(bins=20, range=(0, 10000000)) #По последней цене"
   ]
  },
  {
   "cell_type": "code",
   "execution_count": 30,
   "metadata": {},
   "outputs": [
    {
     "data": {
      "text/plain": [
       "count    2.369900e+04\n",
       "mean     6.541549e+06\n",
       "std      1.088701e+07\n",
       "min      1.219000e+04\n",
       "25%      3.400000e+06\n",
       "50%      4.650000e+06\n",
       "75%      6.800000e+06\n",
       "max      7.630000e+08\n",
       "Name: last_price, dtype: float64"
      ]
     },
     "execution_count": 30,
     "metadata": {},
     "output_type": "execute_result"
    }
   ],
   "source": [
    "data['last_price'].describe()"
   ]
  },
  {
   "cell_type": "code",
   "execution_count": 31,
   "metadata": {},
   "outputs": [
    {
     "data": {
      "text/html": [
       "<div>\n",
       "<style scoped>\n",
       "    .dataframe tbody tr th:only-of-type {\n",
       "        vertical-align: middle;\n",
       "    }\n",
       "\n",
       "    .dataframe tbody tr th {\n",
       "        vertical-align: top;\n",
       "    }\n",
       "\n",
       "    .dataframe thead th {\n",
       "        text-align: right;\n",
       "    }\n",
       "</style>\n",
       "<table border=\"1\" class=\"dataframe\">\n",
       "  <thead>\n",
       "    <tr style=\"text-align: right;\">\n",
       "      <th></th>\n",
       "      <th>total_images</th>\n",
       "      <th>last_price</th>\n",
       "      <th>total_area</th>\n",
       "      <th>first_day_exposition</th>\n",
       "      <th>rooms</th>\n",
       "      <th>ceiling_height</th>\n",
       "      <th>floors_total</th>\n",
       "      <th>living_area</th>\n",
       "      <th>floor</th>\n",
       "      <th>is_apartment</th>\n",
       "      <th>...</th>\n",
       "      <th>ponds_nearest</th>\n",
       "      <th>days_exposition</th>\n",
       "      <th>floor_type</th>\n",
       "      <th>price_per_area</th>\n",
       "      <th>day_w_expos</th>\n",
       "      <th>month_expos</th>\n",
       "      <th>year_expos</th>\n",
       "      <th>cityCenters_km</th>\n",
       "      <th>month_expos_str</th>\n",
       "      <th>day_str</th>\n",
       "    </tr>\n",
       "  </thead>\n",
       "  <tbody>\n",
       "    <tr>\n",
       "      <th>8793</th>\n",
       "      <td>7</td>\n",
       "      <td>12190.0</td>\n",
       "      <td>109.0</td>\n",
       "      <td>2019-03-20</td>\n",
       "      <td>2</td>\n",
       "      <td>2.75</td>\n",
       "      <td>25</td>\n",
       "      <td>32.0</td>\n",
       "      <td>25</td>\n",
       "      <td>NaN</td>\n",
       "      <td>...</td>\n",
       "      <td>0.0</td>\n",
       "      <td>8.0</td>\n",
       "      <td>последний</td>\n",
       "      <td>111.834862</td>\n",
       "      <td>2</td>\n",
       "      <td>3</td>\n",
       "      <td>2019</td>\n",
       "      <td>9.0</td>\n",
       "      <td>Март</td>\n",
       "      <td>Вторник</td>\n",
       "    </tr>\n",
       "  </tbody>\n",
       "</table>\n",
       "<p>1 rows × 30 columns</p>\n",
       "</div>"
      ],
      "text/plain": [
       "      total_images  last_price  total_area first_day_exposition  rooms  \\\n",
       "8793             7     12190.0       109.0           2019-03-20      2   \n",
       "\n",
       "      ceiling_height  floors_total  living_area  floor is_apartment  ...  \\\n",
       "8793            2.75            25         32.0     25          NaN  ...   \n",
       "\n",
       "      ponds_nearest  days_exposition  floor_type  price_per_area day_w_expos  \\\n",
       "8793            0.0              8.0   последний      111.834862           2   \n",
       "\n",
       "      month_expos  year_expos  cityCenters_km  month_expos_str  day_str  \n",
       "8793            3        2019             9.0             Март  Вторник  \n",
       "\n",
       "[1 rows x 30 columns]"
      ]
     },
     "execution_count": 31,
     "metadata": {},
     "output_type": "execute_result"
    }
   ],
   "source": [
    "# Рассмторим объявления, цена которых ниже 100 тыс.руб\n",
    "data.query('last_price < 100000')"
   ]
  },
  {
   "cell_type": "code",
   "execution_count": 32,
   "metadata": {},
   "outputs": [
    {
     "data": {
      "text/html": [
       "<div>\n",
       "<style scoped>\n",
       "    .dataframe tbody tr th:only-of-type {\n",
       "        vertical-align: middle;\n",
       "    }\n",
       "\n",
       "    .dataframe tbody tr th {\n",
       "        vertical-align: top;\n",
       "    }\n",
       "\n",
       "    .dataframe thead th {\n",
       "        text-align: right;\n",
       "    }\n",
       "</style>\n",
       "<table border=\"1\" class=\"dataframe\">\n",
       "  <thead>\n",
       "    <tr style=\"text-align: right;\">\n",
       "      <th></th>\n",
       "      <th>total_images</th>\n",
       "      <th>last_price</th>\n",
       "      <th>total_area</th>\n",
       "      <th>first_day_exposition</th>\n",
       "      <th>rooms</th>\n",
       "      <th>ceiling_height</th>\n",
       "      <th>floors_total</th>\n",
       "      <th>living_area</th>\n",
       "      <th>floor</th>\n",
       "      <th>is_apartment</th>\n",
       "      <th>...</th>\n",
       "      <th>ponds_nearest</th>\n",
       "      <th>days_exposition</th>\n",
       "      <th>floor_type</th>\n",
       "      <th>price_per_area</th>\n",
       "      <th>day_w_expos</th>\n",
       "      <th>month_expos</th>\n",
       "      <th>year_expos</th>\n",
       "      <th>cityCenters_km</th>\n",
       "      <th>month_expos_str</th>\n",
       "      <th>day_str</th>\n",
       "    </tr>\n",
       "  </thead>\n",
       "  <tbody>\n",
       "    <tr>\n",
       "      <th>0</th>\n",
       "      <td>20</td>\n",
       "      <td>13000000.0</td>\n",
       "      <td>108.0</td>\n",
       "      <td>2019-03-07</td>\n",
       "      <td>3</td>\n",
       "      <td>2.70</td>\n",
       "      <td>16</td>\n",
       "      <td>51.000000</td>\n",
       "      <td>8</td>\n",
       "      <td>NaN</td>\n",
       "      <td>...</td>\n",
       "      <td>755.0</td>\n",
       "      <td>NaN</td>\n",
       "      <td>Другой</td>\n",
       "      <td>120370.370370</td>\n",
       "      <td>3</td>\n",
       "      <td>3</td>\n",
       "      <td>2019</td>\n",
       "      <td>16.0</td>\n",
       "      <td>Март</td>\n",
       "      <td>Среда</td>\n",
       "    </tr>\n",
       "    <tr>\n",
       "      <th>140</th>\n",
       "      <td>8</td>\n",
       "      <td>16912000.0</td>\n",
       "      <td>105.7</td>\n",
       "      <td>2016-12-09</td>\n",
       "      <td>2</td>\n",
       "      <td>2.70</td>\n",
       "      <td>3</td>\n",
       "      <td>48.400000</td>\n",
       "      <td>1</td>\n",
       "      <td>NaN</td>\n",
       "      <td>...</td>\n",
       "      <td>179.0</td>\n",
       "      <td>390.0</td>\n",
       "      <td>первый</td>\n",
       "      <td>160000.000000</td>\n",
       "      <td>4</td>\n",
       "      <td>12</td>\n",
       "      <td>2016</td>\n",
       "      <td>27.0</td>\n",
       "      <td>Декабрь</td>\n",
       "      <td>Четверг</td>\n",
       "    </tr>\n",
       "    <tr>\n",
       "      <th>179</th>\n",
       "      <td>5</td>\n",
       "      <td>14800000.0</td>\n",
       "      <td>108.7</td>\n",
       "      <td>2019-04-11</td>\n",
       "      <td>3</td>\n",
       "      <td>4.00</td>\n",
       "      <td>5</td>\n",
       "      <td>72.400000</td>\n",
       "      <td>5</td>\n",
       "      <td>NaN</td>\n",
       "      <td>...</td>\n",
       "      <td>0.0</td>\n",
       "      <td>NaN</td>\n",
       "      <td>последний</td>\n",
       "      <td>136154.553818</td>\n",
       "      <td>3</td>\n",
       "      <td>4</td>\n",
       "      <td>2019</td>\n",
       "      <td>3.0</td>\n",
       "      <td>Апрель</td>\n",
       "      <td>Среда</td>\n",
       "    </tr>\n",
       "    <tr>\n",
       "      <th>276</th>\n",
       "      <td>5</td>\n",
       "      <td>23900000.0</td>\n",
       "      <td>108.4</td>\n",
       "      <td>2018-11-15</td>\n",
       "      <td>3</td>\n",
       "      <td>3.06</td>\n",
       "      <td>7</td>\n",
       "      <td>62.161397</td>\n",
       "      <td>6</td>\n",
       "      <td>NaN</td>\n",
       "      <td>...</td>\n",
       "      <td>678.0</td>\n",
       "      <td>96.0</td>\n",
       "      <td>Другой</td>\n",
       "      <td>220479.704797</td>\n",
       "      <td>3</td>\n",
       "      <td>11</td>\n",
       "      <td>2018</td>\n",
       "      <td>5.0</td>\n",
       "      <td>Ноябрь</td>\n",
       "      <td>Среда</td>\n",
       "    </tr>\n",
       "    <tr>\n",
       "      <th>315</th>\n",
       "      <td>8</td>\n",
       "      <td>13900000.0</td>\n",
       "      <td>108.0</td>\n",
       "      <td>2018-09-29</td>\n",
       "      <td>4</td>\n",
       "      <td>NaN</td>\n",
       "      <td>6</td>\n",
       "      <td>76.900000</td>\n",
       "      <td>2</td>\n",
       "      <td>False</td>\n",
       "      <td>...</td>\n",
       "      <td>0.0</td>\n",
       "      <td>156.0</td>\n",
       "      <td>Другой</td>\n",
       "      <td>128703.703704</td>\n",
       "      <td>5</td>\n",
       "      <td>9</td>\n",
       "      <td>2018</td>\n",
       "      <td>4.0</td>\n",
       "      <td>Сентябрь</td>\n",
       "      <td>Пятница</td>\n",
       "    </tr>\n",
       "  </tbody>\n",
       "</table>\n",
       "<p>5 rows × 30 columns</p>\n",
       "</div>"
      ],
      "text/plain": [
       "     total_images  last_price  total_area first_day_exposition  rooms  \\\n",
       "0              20  13000000.0       108.0           2019-03-07      3   \n",
       "140             8  16912000.0       105.7           2016-12-09      2   \n",
       "179             5  14800000.0       108.7           2019-04-11      3   \n",
       "276             5  23900000.0       108.4           2018-11-15      3   \n",
       "315             8  13900000.0       108.0           2018-09-29      4   \n",
       "\n",
       "     ceiling_height  floors_total  living_area  floor is_apartment  ...  \\\n",
       "0              2.70            16    51.000000      8          NaN  ...   \n",
       "140            2.70             3    48.400000      1          NaN  ...   \n",
       "179            4.00             5    72.400000      5          NaN  ...   \n",
       "276            3.06             7    62.161397      6          NaN  ...   \n",
       "315             NaN             6    76.900000      2        False  ...   \n",
       "\n",
       "     ponds_nearest  days_exposition  floor_type  price_per_area day_w_expos  \\\n",
       "0            755.0              NaN      Другой   120370.370370           3   \n",
       "140          179.0            390.0      первый   160000.000000           4   \n",
       "179            0.0              NaN   последний   136154.553818           3   \n",
       "276          678.0             96.0      Другой   220479.704797           3   \n",
       "315            0.0            156.0      Другой   128703.703704           5   \n",
       "\n",
       "     month_expos  year_expos  cityCenters_km  month_expos_str  day_str  \n",
       "0              3        2019            16.0             Март    Среда  \n",
       "140           12        2016            27.0          Декабрь  Четверг  \n",
       "179            4        2019             3.0           Апрель    Среда  \n",
       "276           11        2018             5.0           Ноябрь    Среда  \n",
       "315            9        2018             4.0         Сентябрь  Пятница  \n",
       "\n",
       "[5 rows x 30 columns]"
      ]
     },
     "execution_count": 32,
     "metadata": {},
     "output_type": "execute_result"
    }
   ],
   "source": [
    "# Посмотрим сколько стоят квартиры с похожей площадью\n",
    "data.query('105<total_area < 110').head(5)"
   ]
  },
  {
   "cell_type": "code",
   "execution_count": 33,
   "metadata": {},
   "outputs": [
    {
     "data": {
      "text/plain": [
       "12190000.0"
      ]
     },
     "execution_count": 33,
     "metadata": {},
     "output_type": "execute_result"
    }
   ],
   "source": [
    "#Похоже, что цена этой квартиры записана в тыс.руб., изменим это значение\n",
    "#data['last_price'].where(data['last_price']!= 12190.0, 12190000.0)\n",
    "data.loc[data['last_price'] == 12190.0, 'last_price'] = 12190000.0\n",
    "data['last_price'][8793]"
   ]
  },
  {
   "cell_type": "markdown",
   "metadata": {},
   "source": [
    "Распределение итоговой стоимости можно назвать нормальным. Средняя цена квартир на уровне 6,5 млн. руб."
   ]
  },
  {
   "cell_type": "code",
   "execution_count": 34,
   "metadata": {},
   "outputs": [
    {
     "data": {
      "text/plain": [
       "<AxesSubplot:>"
      ]
     },
     "execution_count": 34,
     "metadata": {},
     "output_type": "execute_result"
    },
    {
     "data": {
      "image/png": "[encoded data removed]",
      "text/plain": [
       "<Figure size 432x288 with 1 Axes>"
      ]
     },
     "metadata": {
      "needs_background": "light"
     },
     "output_type": "display_data"
    }
   ],
   "source": [
    "#Рассмотрим часть гистограмм более детально \n",
    "data['total_area'].hist(bins=30, range=(0, 200)) #По площади"
   ]
  },
  {
   "cell_type": "markdown",
   "metadata": {},
   "source": [
    "Распределение данного парамтера больше похоже на распределение Пирсона. Наблюдается низкое количество объявлений квартир с площадью менее 30 кв.м., далее наибольшее количество объявлений в диапозоне от 30 до 60 кв.м. с медианой в районе 45, и далее плавное снижение количества объявлений до 200 кв.м., где их количество стремится к нулю. "
   ]
  },
  {
   "cell_type": "code",
   "execution_count": 35,
   "metadata": {},
   "outputs": [
    {
     "data": {
      "text/plain": [
       "<AxesSubplot:>"
      ]
     },
     "execution_count": 35,
     "metadata": {},
     "output_type": "execute_result"
    },
    {
     "data": {
      "image/png": "[encoded data removed]",
      "text/plain": [
       "<Figure size 432x288 with 1 Axes>"
      ]
     },
     "metadata": {
      "needs_background": "light"
     },
     "output_type": "display_data"
    }
   ],
   "source": [
    "data['living_area'].hist(bins=30, range=(0, 100)) # По жилой площади и площади кухни совместно\n",
    "data['kitchen_area'].hist(bins=30, range=(0, 100))"
   ]
  },
  {
   "cell_type": "markdown",
   "metadata": {},
   "source": [
    "Гистограмма по площади кухни отражает распределение общей площади и закономерно ниже ее, как и жилая площадь, однако вид распределения жилой площади несколько отличается и имеет двумодальное распределение.  "
   ]
  },
  {
   "cell_type": "markdown",
   "metadata": {},
   "source": [
    "**Вывод:** Наблюдаются некоторые закономерности по полученным гистограммам, в основном объеме объявлений содержатся сведения о квартирах с площадью менее 50 кв.м. с потолками величиной 2-3 м., удаленных от аэропортов."
   ]
  },
  {
   "cell_type": "markdown",
   "metadata": {},
   "source": [
    "#### Анализ скорости продажи квартир"
   ]
  },
  {
   "cell_type": "code",
   "execution_count": 36,
   "metadata": {},
   "outputs": [
    {
     "data": {
      "text/plain": [
       "count    20518.000000\n",
       "mean       180.888634\n",
       "std        219.727988\n",
       "min          1.000000\n",
       "25%         45.000000\n",
       "50%         95.000000\n",
       "75%        232.000000\n",
       "max       1580.000000\n",
       "Name: days_exposition, dtype: float64"
      ]
     },
     "execution_count": 36,
     "metadata": {},
     "output_type": "execute_result"
    },
    {
     "data": {
      "image/png": "[encoded data removed]",
      "text/plain": [
       "<Figure size 432x288 with 1 Axes>"
      ]
     },
     "metadata": {
      "needs_background": "light"
     },
     "output_type": "display_data"
    }
   ],
   "source": [
    "# Рассмотрим столбец с датой снятия объявления с продажи\n",
    "data['days_exposition'].hist(bins=30)\n",
    "data['days_exposition'].describe()"
   ]
  },
  {
   "cell_type": "code",
   "execution_count": 37,
   "metadata": {},
   "outputs": [
    {
     "data": {
      "text/plain": [
       "<AxesSubplot:>"
      ]
     },
     "execution_count": 37,
     "metadata": {},
     "output_type": "execute_result"
    },
    {
     "data": {
      "image/png": "[encoded data removed]",
      "text/plain": [
       "<Figure size 432x288 with 1 Axes>"
      ]
     },
     "metadata": {
      "needs_background": "light"
     },
     "output_type": "display_data"
    }
   ],
   "source": [
    "#Построим гистограмму до 180 дней\n",
    "data['days_exposition'].hist(bins=20, range = (0, 180))"
   ]
  },
  {
   "cell_type": "markdown",
   "metadata": {},
   "source": [
    "**Вывод:**\n",
    "В среднем, продажа квартиры занимает 180 дней, однако медианное значение составляет 95 дней, для такой большой выборки это значение более показательное. Также, мы видим высокую величину стандартного отклонения, значения не так близки к среднему. Квартиры, которые продаются меньше чем за 3 месяца можно считать быстрыми, в то время как продажи дольше 232 дней можно считать долгими. Время длительных продаж может достигать 1580 дней, подобные случаи, возможно, являются следствием не закрытых объявлений.  "
   ]
  },
  {
   "cell_type": "markdown",
   "metadata": {},
   "source": [
    "#### Анализ стоимости объектов"
   ]
  },
  {
   "cell_type": "code",
   "execution_count": 38,
   "metadata": {},
   "outputs": [
    {
     "name": "stdout",
     "output_type": "stream",
     "text": [
      "              kitchen_area  last_price  living_area  total_area\n",
      "kitchen_area      1.000000    0.522456     0.481197    0.653019\n",
      "last_price        0.522456    1.000000     0.630450    0.715763\n",
      "living_area       0.481197    0.630450     1.000000    0.949886\n",
      "total_area        0.653019    0.715763     0.949886    1.000000\n"
     ]
    },
    {
     "data": {
      "text/plain": [
       "array([[<AxesSubplot:xlabel='kitchen_area', ylabel='kitchen_area'>,\n",
       "        <AxesSubplot:xlabel='last_price', ylabel='kitchen_area'>,\n",
       "        <AxesSubplot:xlabel='living_area', ylabel='kitchen_area'>,\n",
       "        <AxesSubplot:xlabel='total_area', ylabel='kitchen_area'>],\n",
       "       [<AxesSubplot:xlabel='kitchen_area', ylabel='last_price'>,\n",
       "        <AxesSubplot:xlabel='last_price', ylabel='last_price'>,\n",
       "        <AxesSubplot:xlabel='living_area', ylabel='last_price'>,\n",
       "        <AxesSubplot:xlabel='total_area', ylabel='last_price'>],\n",
       "       [<AxesSubplot:xlabel='kitchen_area', ylabel='living_area'>,\n",
       "        <AxesSubplot:xlabel='last_price', ylabel='living_area'>,\n",
       "        <AxesSubplot:xlabel='living_area', ylabel='living_area'>,\n",
       "        <AxesSubplot:xlabel='total_area', ylabel='living_area'>],\n",
       "       [<AxesSubplot:xlabel='kitchen_area', ylabel='total_area'>,\n",
       "        <AxesSubplot:xlabel='last_price', ylabel='total_area'>,\n",
       "        <AxesSubplot:xlabel='living_area', ylabel='total_area'>,\n",
       "        <AxesSubplot:xlabel='total_area', ylabel='total_area'>]],\n",
       "      dtype=object)"
      ]
     },
     "execution_count": 38,
     "metadata": {},
     "output_type": "execute_result"
    },
    {
     "data": {
      "image/png": "[encoded data removed]",
      "text/plain": [
       "<Figure size 648x648 with 16 Axes>"
      ]
     },
     "metadata": {
      "needs_background": "light"
     },
     "output_type": "display_data"
    }
   ],
   "source": [
    "#Построим сопоставления параметров квартиры и установим их влияние на общую стоимость\n",
    "price_stat = data.pivot_table(index = 'first_day_exposition', \n",
    "values = ['last_price','total_area','living_area', 'kitchen_area', 'floor_type'])\n",
    "\n",
    "print(price_stat.corr())\n",
    "pd.plotting.scatter_matrix(price_stat, figsize=(9, 9)) "
   ]
  },
  {
   "cell_type": "markdown",
   "metadata": {},
   "source": [
    "На общую стоимость квартир больше всего влияют параметры общей площади и соотвественно жилой площади. В меньшей мере и как следствие зависимости от общей площади - площадь кухни. Количество комнат оказывают несущественное влияние на итоговую стоимость квартир, но тренд присутсвует, хоть и с небольшим коэффициентом корреляции. "
   ]
  },
  {
   "cell_type": "code",
   "execution_count": 39,
   "metadata": {
    "scrolled": false
   },
   "outputs": [
    {
     "data": {
      "text/plain": [
       "<AxesSubplot:xlabel='rooms'>"
      ]
     },
     "execution_count": 39,
     "metadata": {},
     "output_type": "execute_result"
    },
    {
     "data": {
      "image/png": "[encoded data removed]",
      "text/plain": [
       "<Figure size 432x288 with 1 Axes>"
      ]
     },
     "metadata": {
      "needs_background": "light"
     },
     "output_type": "display_data"
    }
   ],
   "source": [
    "#Построим зависимость цены от количества комнат\n",
    "room_group = data.groupby('rooms').median()\n",
    "room_group['last_price'].plot(kind = 'bar')"
   ]
  },
  {
   "cell_type": "code",
   "execution_count": 40,
   "metadata": {
    "scrolled": false
   },
   "outputs": [
    {
     "data": {
      "text/html": [
       "<div>\n",
       "<style scoped>\n",
       "    .dataframe tbody tr th:only-of-type {\n",
       "        vertical-align: middle;\n",
       "    }\n",
       "\n",
       "    .dataframe tbody tr th {\n",
       "        vertical-align: top;\n",
       "    }\n",
       "\n",
       "    .dataframe thead th {\n",
       "        text-align: right;\n",
       "    }\n",
       "</style>\n",
       "<table border=\"1\" class=\"dataframe\">\n",
       "  <thead>\n",
       "    <tr style=\"text-align: right;\">\n",
       "      <th></th>\n",
       "      <th>total_images</th>\n",
       "      <th>last_price</th>\n",
       "      <th>total_area</th>\n",
       "      <th>first_day_exposition</th>\n",
       "      <th>rooms</th>\n",
       "      <th>ceiling_height</th>\n",
       "      <th>floors_total</th>\n",
       "      <th>living_area</th>\n",
       "      <th>floor</th>\n",
       "      <th>is_apartment</th>\n",
       "      <th>...</th>\n",
       "      <th>ponds_nearest</th>\n",
       "      <th>days_exposition</th>\n",
       "      <th>floor_type</th>\n",
       "      <th>price_per_area</th>\n",
       "      <th>day_w_expos</th>\n",
       "      <th>month_expos</th>\n",
       "      <th>year_expos</th>\n",
       "      <th>cityCenters_km</th>\n",
       "      <th>month_expos_str</th>\n",
       "      <th>day_str</th>\n",
       "    </tr>\n",
       "  </thead>\n",
       "  <tbody>\n",
       "    <tr>\n",
       "      <th>19540</th>\n",
       "      <td>8</td>\n",
       "      <td>420000000.0</td>\n",
       "      <td>900.0</td>\n",
       "      <td>2017-12-06</td>\n",
       "      <td>12</td>\n",
       "      <td>2.8</td>\n",
       "      <td>25</td>\n",
       "      <td>409.7</td>\n",
       "      <td>25</td>\n",
       "      <td>NaN</td>\n",
       "      <td>...</td>\n",
       "      <td>318.0</td>\n",
       "      <td>106.0</td>\n",
       "      <td>последний</td>\n",
       "      <td>466666.666667</td>\n",
       "      <td>2</td>\n",
       "      <td>12</td>\n",
       "      <td>2017</td>\n",
       "      <td>8.0</td>\n",
       "      <td>Декабрь</td>\n",
       "      <td>Вторник</td>\n",
       "    </tr>\n",
       "  </tbody>\n",
       "</table>\n",
       "<p>1 rows × 30 columns</p>\n",
       "</div>"
      ],
      "text/plain": [
       "       total_images   last_price  total_area first_day_exposition  rooms  \\\n",
       "19540             8  420000000.0       900.0           2017-12-06     12   \n",
       "\n",
       "       ceiling_height  floors_total  living_area  floor is_apartment  ...  \\\n",
       "19540             2.8            25        409.7     25          NaN  ...   \n",
       "\n",
       "       ponds_nearest  days_exposition  floor_type  price_per_area day_w_expos  \\\n",
       "19540          318.0            106.0   последний   466666.666667           2   \n",
       "\n",
       "       month_expos  year_expos  cityCenters_km  month_expos_str  day_str  \n",
       "19540           12        2017             8.0          Декабрь  Вторник  \n",
       "\n",
       "[1 rows x 30 columns]"
      ]
     },
     "execution_count": 40,
     "metadata": {},
     "output_type": "execute_result"
    }
   ],
   "source": [
    "#просмотрим выбивающееся значение\n",
    "data.query('rooms == 12')"
   ]
  },
  {
   "cell_type": "markdown",
   "metadata": {},
   "source": [
    "Наблюается закономерный рост цены, с ростом количества комнат. В данных присутствует квартира с очень большой стоимостью, которая выглядит аномально на графике. Также, квартиры с большим количеством комнат имеют большую площади, соотвественно подтверждаем влияние площади на цену."
   ]
  },
  {
   "cell_type": "code",
   "execution_count": 41,
   "metadata": {},
   "outputs": [
    {
     "data": {
      "text/plain": [
       "<AxesSubplot:xlabel='floor_type', ylabel='last_price'>"
      ]
     },
     "execution_count": 41,
     "metadata": {},
     "output_type": "execute_result"
    },
    {
     "data": {
      "image/png": "[encoded data removed]",
      "text/plain": [
       "<Figure size 432x288 with 1 Axes>"
      ]
     },
     "metadata": {
      "needs_background": "light"
     },
     "output_type": "display_data"
    }
   ],
   "source": [
    "#Рассмотрим зависимость цены от этажа, построим столбчатую диаграмму\n",
    "sns.barplot(x = data['floor_type'] , y= data['last_price'])"
   ]
  },
  {
   "cell_type": "markdown",
   "metadata": {},
   "source": [
    "По статистике цена квартир, которые находятся на первом этаже существтенно ниже, это может быть связано с различными неудобствами таких квартир. Наибольшую цену имеют квартиры на последних этажах, возможно из-за меньшего шума, возможно из-за более широкого обзора вида из окон. Все остальные квартиры находятся среднем ценовом диапозоне."
   ]
  },
  {
   "cell_type": "code",
   "execution_count": 42,
   "metadata": {
    "scrolled": true
   },
   "outputs": [
    {
     "data": {
      "text/plain": [
       "<AxesSubplot:xlabel='month_expos_str', ylabel='last_price'>"
      ]
     },
     "execution_count": 42,
     "metadata": {},
     "output_type": "execute_result"
    },
    {
     "data": {
      "image/png": "[encoded data removed]",
      "text/plain": [
       "<Figure size 432x288 with 1 Axes>"
      ]
     },
     "metadata": {},
     "output_type": "display_data"
    }
   ],
   "source": [
    "# Рассмотрим влияние периодов размещения на цену\n",
    "sns.set (font_scale= 0.55 )\n",
    "sns.barplot(x = data['month_expos_str'] , y= data['last_price']) # По месяцу\n"
   ]
  },
  {
   "cell_type": "code",
   "execution_count": 43,
   "metadata": {},
   "outputs": [
    {
     "data": {
      "text/plain": [
       "<AxesSubplot:xlabel='day_str', ylabel='last_price'>"
      ]
     },
     "execution_count": 43,
     "metadata": {},
     "output_type": "execute_result"
    },
    {
     "data": {
      "image/png": "[encoded data removed]",
      "text/plain": [
       "<Figure size 432x288 with 1 Axes>"
      ]
     },
     "metadata": {},
     "output_type": "display_data"
    }
   ],
   "source": [
    "sns.set (font_scale= 0.8 )\n",
    "sns.barplot(x = data['day_str'] , y= data['last_price'])# По неделям"
   ]
  },
  {
   "cell_type": "code",
   "execution_count": 44,
   "metadata": {},
   "outputs": [
    {
     "data": {
      "text/plain": [
       "<AxesSubplot:xlabel='year_expos', ylabel='last_price'>"
      ]
     },
     "execution_count": 44,
     "metadata": {},
     "output_type": "execute_result"
    },
    {
     "data": {
      "image/png": "[encoded data removed]",
      "text/plain": [
       "<Figure size 432x288 with 1 Axes>"
      ]
     },
     "metadata": {},
     "output_type": "display_data"
    }
   ],
   "source": [
    "sns.set (font_scale= 1)\n",
    "sns.barplot(x = data['year_expos'] , y= data['last_price'])"
   ]
  },
  {
   "cell_type": "markdown",
   "metadata": {},
   "source": [
    "Итоговая цена практически не меняется от месяца к месяцу и от недели к неделе. Однако есть тенденция по годам, так, итоговая цена постепенно падает начиная с 2014."
   ]
  },
  {
   "cell_type": "code",
   "execution_count": 45,
   "metadata": {},
   "outputs": [
    {
     "data": {
      "text/html": [
       "<div>\n",
       "<style scoped>\n",
       "    .dataframe tbody tr th:only-of-type {\n",
       "        vertical-align: middle;\n",
       "    }\n",
       "\n",
       "    .dataframe tbody tr th {\n",
       "        vertical-align: top;\n",
       "    }\n",
       "\n",
       "    .dataframe thead tr th {\n",
       "        text-align: left;\n",
       "    }\n",
       "\n",
       "    .dataframe thead tr:last-of-type th {\n",
       "        text-align: right;\n",
       "    }\n",
       "</style>\n",
       "<table border=\"1\" class=\"dataframe\">\n",
       "  <thead>\n",
       "    <tr>\n",
       "      <th></th>\n",
       "      <th>count</th>\n",
       "      <th>mean</th>\n",
       "    </tr>\n",
       "    <tr>\n",
       "      <th></th>\n",
       "      <th>price_per_area</th>\n",
       "      <th>price_per_area</th>\n",
       "    </tr>\n",
       "    <tr>\n",
       "      <th>locality_name</th>\n",
       "      <th></th>\n",
       "      <th></th>\n",
       "    </tr>\n",
       "  </thead>\n",
       "  <tbody>\n",
       "    <tr>\n",
       "      <th>Санкт-Петербург</th>\n",
       "      <td>15721</td>\n",
       "      <td>114849.008794</td>\n",
       "    </tr>\n",
       "    <tr>\n",
       "      <th>Мурино</th>\n",
       "      <td>590</td>\n",
       "      <td>86087.512050</td>\n",
       "    </tr>\n",
       "    <tr>\n",
       "      <th>Кудрово</th>\n",
       "      <td>472</td>\n",
       "      <td>95324.930544</td>\n",
       "    </tr>\n",
       "    <tr>\n",
       "      <th>Шушары</th>\n",
       "      <td>440</td>\n",
       "      <td>78677.364217</td>\n",
       "    </tr>\n",
       "    <tr>\n",
       "      <th>Всеволожск</th>\n",
       "      <td>398</td>\n",
       "      <td>68654.473986</td>\n",
       "    </tr>\n",
       "    <tr>\n",
       "      <th>Пушкин</th>\n",
       "      <td>369</td>\n",
       "      <td>103125.819291</td>\n",
       "    </tr>\n",
       "    <tr>\n",
       "      <th>Колпино</th>\n",
       "      <td>338</td>\n",
       "      <td>75424.579098</td>\n",
       "    </tr>\n",
       "    <tr>\n",
       "      <th>Парголово</th>\n",
       "      <td>327</td>\n",
       "      <td>90175.913458</td>\n",
       "    </tr>\n",
       "    <tr>\n",
       "      <th>Гатчина</th>\n",
       "      <td>307</td>\n",
       "      <td>68746.146763</td>\n",
       "    </tr>\n",
       "    <tr>\n",
       "      <th>Выборг</th>\n",
       "      <td>237</td>\n",
       "      <td>58141.909153</td>\n",
       "    </tr>\n",
       "  </tbody>\n",
       "</table>\n",
       "</div>"
      ],
      "text/plain": [
       "                         count           mean\n",
       "                price_per_area price_per_area\n",
       "locality_name                                \n",
       "Санкт-Петербург          15721  114849.008794\n",
       "Мурино                     590   86087.512050\n",
       "Кудрово                    472   95324.930544\n",
       "Шушары                     440   78677.364217\n",
       "Всеволожск                 398   68654.473986\n",
       "Пушкин                     369  103125.819291\n",
       "Колпино                    338   75424.579098\n",
       "Парголово                  327   90175.913458\n",
       "Гатчина                    307   68746.146763\n",
       "Выборг                     237   58141.909153"
      ]
     },
     "execution_count": 45,
     "metadata": {},
     "output_type": "execute_result"
    }
   ],
   "source": [
    "# Проанализируем стоимость квадратного метра в разных н/п\n",
    "mean_price = data.pivot_table(index = 'locality_name', values = 'price_per_area', aggfunc = ['count', 'mean'])\n",
    "mean_price.sort_values(by=[('count','price_per_area')], ascending=False).head(10)"
   ]
  },
  {
   "cell_type": "markdown",
   "metadata": {},
   "source": [
    "Самая высокая цена квадратного метра пренадлежит Санкт-Петербургу, самая низкая - Выборгу."
   ]
  },
  {
   "cell_type": "code",
   "execution_count": 46,
   "metadata": {
    "scrolled": true
   },
   "outputs": [
    {
     "data": {
      "text/plain": [
       "<AxesSubplot:xlabel='cityCenters_km'>"
      ]
     },
     "execution_count": 46,
     "metadata": {},
     "output_type": "execute_result"
    },
    {
     "data": {
      "image/png": "[encoded data removed]",
      "text/plain": [
       "<Figure size 432x288 with 1 Axes>"
      ]
     },
     "metadata": {},
     "output_type": "display_data"
    }
   ],
   "source": [
    "#Далее найдем как влияет расстояние от центра на стоимость\n",
    "sns.set (font_scale= 0.5)\n",
    "spb_grouped = (\n",
    "    data\n",
    "    .query('locality_name == \"Санкт-Петербург\"').pivot_table(index= 'cityCenters_km', values = 'last_price', aggfunc = ['mean'] )\n",
    ")\n",
    "spb_grouped.plot(kind = 'bar')\n",
    "#spb_grouped['km_price'] = spb_grouped['price_per_area'] / spb_grouped['cityCenters_km']\n",
    "#sns.barplot(x = spb_grouped['cityCenters_km'] , y= spb_grouped['km_price'])"
   ]
  },
  {
   "cell_type": "markdown",
   "metadata": {},
   "source": [
    "Прослеживается явная корреляция цены от расстояния. Средняя цена кв.м. сильно выше в квартирах, расположенных близко к центру, до 7 км., далее, средняя стоимость каждого километра изменяется незначительно."
   ]
  },
  {
   "cell_type": "markdown",
   "metadata": {},
   "source": [
    "**Вывод:** Наибольшее влияние на итоговую стоимость квартиры оказывает площадь квартиры и расстояние от центра. Также на стоимость сильно влияет населенный пункт. Так, цена за кв.м. в Санкт-Петербурге и Выборге отличается практически в два раза."
   ]
  },
  {
   "cell_type": "markdown",
   "metadata": {},
   "source": [
    "### Общий вывод"
   ]
  },
  {
   "cell_type": "markdown",
   "metadata": {},
   "source": [
    "Анализ данных недвижимости удалось осуществить в результате предобработки данных и исключения аномальных значений. По результатам исследования получены следующие выводы:\n",
    "1. \n",
    "\n",
    "    1. Основная масса квартир находятся в пределах 20км от центра, большую часть из объявлений занимают квратиры находящиеся на расстоянии 15-20 км. от центра, в два раза меньше квартир которые находятся ближе;\n",
    "    2. Квартиры, в основном представлены в малоэтажных домах, бОльшая часть объявлений описывает дома до десяти этажей;\n",
    "    3. Высота потолков практически во всех квартирах из объявлений не превышает двух - трех метров; \n",
    "    4. Основная доля квартир располагается на нижних этажах, однако это может быть связано с тем, что наибольшее количество объявлений из малоэтажных домов.\n",
    "    5. Практически все квартиры располагаются вдали аэропортов, но не сильно, в предалах 30км, количество объявлений сильно далеких от аэропортов сильно снижается после этой отметки.\n",
    "    6. Количество парков и прудов показывают схожую картину. Так, в пределах 3км, в большенстве случаев они отсуствуют и наблюдается снижение количества парков и прудов с удалением от квартиры. Схожая динамика от удаленности может говорить о том, что наличие пруда приравнивается к парковой зоне.\n",
    "    7. Объявления не выкладываются по средам и пятнциам и воскрсеньям. Также, наблюдается рост количсетва объявлений в начале и конца года, а также спад в летнее время.\n",
    "    8. Возможно сервис запустился в 2014г., после этого периода наблюдается рост количества объявлений.\n",
    "    \n",
    "2. На общую стоимость квартир больше всего влияют параметры общей площади и соотвественно жилой площади. В меньшей мере и как следствие зависимости от общей площади - площадь кухни. Количество комнат оказывают несущественное влияние на итоговую стоимость квартир, но тренд присутсвует, хоть и с небольшим коэффициентом корреляции. \n",
    "3.По статистике цена квартир, которые находятся на первом этаже существтенно ниже, это может быть связано с различными неудобствами таких квартир. Наибольшую цену имеют квартиры на последних этажах, возможно из-за меньшего шума, возможно из-за более широкого обзора вида из окон. Все остальные квартиры находятся среднем ценовом диапозоне.\n",
    "4.Итоговая цена практически не меняется от месяца к месяцу и от недели к неделе.\n",
    "5.Самая высокая цена квадратного метра пренадлежит Санкт-Петербургу, самая низкая - Выборгу.\n",
    "6.Прослеживается явная корреляция цены от расстояния. Средняя цена кв.м. сильно выше в квартирах, расположенных близко к центру, до 7 км., далее, средняя стоимость каждого километра изменяется незначительно."
   ]
  }
 ],
 "metadata": {
  "ExecuteTimeLog": [
   {
    "duration": 1464,
    "start_time": "2023-02-06T16:14:47.226Z"
   },
   {
    "duration": 62,
    "start_time": "2023-02-06T16:16:17.193Z"
   },
   {
    "duration": 140,
    "start_time": "2023-02-06T16:17:06.199Z"
   },
   {
    "duration": 90,
    "start_time": "2023-02-06T16:19:22.453Z"
   },
   {
    "duration": 46,
    "start_time": "2023-02-06T16:21:53.725Z"
   },
   {
    "duration": 44,
    "start_time": "2023-02-06T16:22:52.083Z"
   },
   {
    "duration": 97,
    "start_time": "2023-02-06T16:24:10.688Z"
   },
   {
    "duration": 46,
    "start_time": "2023-02-06T16:24:29.569Z"
   },
   {
    "duration": 84,
    "start_time": "2023-02-06T16:24:35.965Z"
   },
   {
    "duration": 79,
    "start_time": "2023-02-06T16:26:04.695Z"
   },
   {
    "duration": 98,
    "start_time": "2023-02-06T16:26:12.333Z"
   },
   {
    "duration": 81,
    "start_time": "2023-02-06T16:26:20.715Z"
   },
   {
    "duration": 38,
    "start_time": "2023-02-06T16:27:41.883Z"
   },
   {
    "duration": 86,
    "start_time": "2023-02-06T16:27:47.675Z"
   },
   {
    "duration": 80,
    "start_time": "2023-02-06T16:27:54.238Z"
   },
   {
    "duration": 82,
    "start_time": "2023-02-06T16:28:43.051Z"
   },
   {
    "duration": 84,
    "start_time": "2023-02-06T16:29:19.543Z"
   },
   {
    "duration": 84,
    "start_time": "2023-02-06T16:31:03.805Z"
   },
   {
    "duration": 47,
    "start_time": "2023-02-06T16:32:00.388Z"
   },
   {
    "duration": 83,
    "start_time": "2023-02-06T16:32:07.753Z"
   },
   {
    "duration": 121,
    "start_time": "2023-02-06T16:33:52.719Z"
   },
   {
    "duration": 111,
    "start_time": "2023-02-06T16:34:20.495Z"
   },
   {
    "duration": 120,
    "start_time": "2023-02-06T16:34:27.953Z"
   },
   {
    "duration": 116,
    "start_time": "2023-02-06T16:34:34.402Z"
   },
   {
    "duration": 107,
    "start_time": "2023-02-06T16:34:37.926Z"
   },
   {
    "duration": 14,
    "start_time": "2023-02-06T16:37:50.027Z"
   },
   {
    "duration": 88,
    "start_time": "2023-02-06T16:42:01.812Z"
   },
   {
    "duration": 2295,
    "start_time": "2023-02-06T16:45:15.139Z"
   },
   {
    "duration": 10,
    "start_time": "2023-02-06T17:20:42.222Z"
   },
   {
    "duration": 782,
    "start_time": "2023-02-06T18:06:50.702Z"
   },
   {
    "duration": 3,
    "start_time": "2023-02-06T18:07:09.968Z"
   },
   {
    "duration": 6,
    "start_time": "2023-02-06T18:08:18.481Z"
   },
   {
    "duration": 16,
    "start_time": "2023-02-06T18:08:29.535Z"
   },
   {
    "duration": 6,
    "start_time": "2023-02-06T18:09:08.061Z"
   },
   {
    "duration": 51,
    "start_time": "2023-02-07T13:49:36.815Z"
   },
   {
    "duration": 1522,
    "start_time": "2023-02-07T13:49:42.278Z"
   },
   {
    "duration": 18,
    "start_time": "2023-02-07T13:49:43.802Z"
   },
   {
    "duration": 1968,
    "start_time": "2023-02-07T13:49:43.821Z"
   },
   {
    "duration": 11,
    "start_time": "2023-02-07T13:49:45.792Z"
   },
   {
    "duration": 8,
    "start_time": "2023-02-07T13:49:45.805Z"
   },
   {
    "duration": 265,
    "start_time": "2023-02-07T13:49:45.814Z"
   },
   {
    "duration": 166,
    "start_time": "2023-02-07T13:51:35.387Z"
   },
   {
    "duration": 174,
    "start_time": "2023-02-07T13:53:13.279Z"
   },
   {
    "duration": 170,
    "start_time": "2023-02-07T13:54:15.543Z"
   },
   {
    "duration": 169,
    "start_time": "2023-02-07T13:57:53.128Z"
   },
   {
    "duration": 167,
    "start_time": "2023-02-07T13:58:04.231Z"
   },
   {
    "duration": 471,
    "start_time": "2023-02-07T14:00:28.783Z"
   },
   {
    "duration": 5,
    "start_time": "2023-02-07T14:01:39.463Z"
   },
   {
    "duration": 3,
    "start_time": "2023-02-07T14:01:45.554Z"
   },
   {
    "duration": 10,
    "start_time": "2023-02-07T14:02:06.478Z"
   },
   {
    "duration": 3,
    "start_time": "2023-02-07T14:02:21.470Z"
   },
   {
    "duration": 666,
    "start_time": "2023-02-07T14:03:52.545Z"
   },
   {
    "duration": 227,
    "start_time": "2023-02-07T14:05:25.013Z"
   },
   {
    "duration": 40,
    "start_time": "2023-02-07T14:11:14.992Z"
   },
   {
    "duration": 48,
    "start_time": "2023-02-07T14:11:30.514Z"
   },
   {
    "duration": 49,
    "start_time": "2023-02-07T14:43:31.163Z"
   },
   {
    "duration": 54,
    "start_time": "2023-02-07T14:43:43.078Z"
   },
   {
    "duration": 53,
    "start_time": "2023-02-07T14:44:15.417Z"
   },
   {
    "duration": 45,
    "start_time": "2023-02-07T14:44:22.982Z"
   },
   {
    "duration": 26,
    "start_time": "2023-02-07T14:44:29.119Z"
   },
   {
    "duration": 72,
    "start_time": "2023-02-07T14:46:48.838Z"
   },
   {
    "duration": 77,
    "start_time": "2023-02-07T14:55:55.034Z"
   },
   {
    "duration": 31,
    "start_time": "2023-02-07T14:56:36.202Z"
   },
   {
    "duration": 68,
    "start_time": "2023-02-07T14:57:02.549Z"
   },
   {
    "duration": 94,
    "start_time": "2023-02-07T14:57:19.994Z"
   },
   {
    "duration": 75,
    "start_time": "2023-02-07T14:59:40.262Z"
   },
   {
    "duration": 2131,
    "start_time": "2023-02-07T15:00:04.541Z"
   },
   {
    "duration": 15,
    "start_time": "2023-02-07T15:10:46.136Z"
   },
   {
    "duration": 16,
    "start_time": "2023-02-07T15:11:56.441Z"
   },
   {
    "duration": 15,
    "start_time": "2023-02-07T15:12:02.622Z"
   },
   {
    "duration": 34,
    "start_time": "2023-02-07T15:12:11.621Z"
   },
   {
    "duration": 13,
    "start_time": "2023-02-07T15:12:20.497Z"
   },
   {
    "duration": 28,
    "start_time": "2023-02-07T15:12:26.064Z"
   },
   {
    "duration": 19,
    "start_time": "2023-02-07T15:12:38.237Z"
   },
   {
    "duration": 33,
    "start_time": "2023-02-07T15:16:04.401Z"
   },
   {
    "duration": 32,
    "start_time": "2023-02-07T15:19:55.420Z"
   },
   {
    "duration": 23,
    "start_time": "2023-02-07T15:20:02.263Z"
   },
   {
    "duration": 15,
    "start_time": "2023-02-07T15:20:31.093Z"
   },
   {
    "duration": 29,
    "start_time": "2023-02-07T15:20:44.980Z"
   },
   {
    "duration": 33,
    "start_time": "2023-02-07T16:43:08.404Z"
   },
   {
    "duration": 33,
    "start_time": "2023-02-07T16:43:18.853Z"
   },
   {
    "duration": 33,
    "start_time": "2023-02-07T16:43:20.425Z"
   },
   {
    "duration": 31,
    "start_time": "2023-02-07T16:43:24.870Z"
   },
   {
    "duration": 389,
    "start_time": "2023-02-07T16:47:12.111Z"
   },
   {
    "duration": 39,
    "start_time": "2023-02-07T16:48:54.216Z"
   },
   {
    "duration": 38,
    "start_time": "2023-02-07T16:50:01.745Z"
   },
   {
    "duration": 27,
    "start_time": "2023-02-07T16:50:35.754Z"
   },
   {
    "duration": 26,
    "start_time": "2023-02-07T16:50:58.285Z"
   },
   {
    "duration": 15,
    "start_time": "2023-02-07T16:57:14.925Z"
   },
   {
    "duration": 22,
    "start_time": "2023-02-07T17:06:35.955Z"
   },
   {
    "duration": 30,
    "start_time": "2023-02-07T17:07:48.142Z"
   },
   {
    "duration": 64,
    "start_time": "2023-02-07T17:08:18.324Z"
   },
   {
    "duration": 21,
    "start_time": "2023-02-07T17:08:33.632Z"
   },
   {
    "duration": 52,
    "start_time": "2023-02-07T17:09:03.830Z"
   },
   {
    "duration": 11,
    "start_time": "2023-02-07T17:09:43.606Z"
   },
   {
    "duration": 6,
    "start_time": "2023-02-07T17:09:53.779Z"
   },
   {
    "duration": 5,
    "start_time": "2023-02-07T17:12:25.542Z"
   },
   {
    "duration": 14,
    "start_time": "2023-02-07T17:21:58.375Z"
   },
   {
    "duration": 15,
    "start_time": "2023-02-07T17:22:04.209Z"
   },
   {
    "duration": 19,
    "start_time": "2023-02-07T17:22:52.242Z"
   },
   {
    "duration": 20,
    "start_time": "2023-02-07T17:23:04.104Z"
   },
   {
    "duration": 16,
    "start_time": "2023-02-07T17:23:23.774Z"
   },
   {
    "duration": 30,
    "start_time": "2023-02-07T17:23:48.387Z"
   },
   {
    "duration": 34,
    "start_time": "2023-02-07T17:23:49.911Z"
   },
   {
    "duration": 23,
    "start_time": "2023-02-07T17:26:09.927Z"
   },
   {
    "duration": 24,
    "start_time": "2023-02-07T17:26:13.777Z"
   },
   {
    "duration": 24,
    "start_time": "2023-02-07T17:26:45.725Z"
   },
   {
    "duration": 23,
    "start_time": "2023-02-07T17:26:58.568Z"
   },
   {
    "duration": 21,
    "start_time": "2023-02-07T17:27:08.258Z"
   },
   {
    "duration": 21,
    "start_time": "2023-02-07T17:27:09.005Z"
   },
   {
    "duration": 22,
    "start_time": "2023-02-07T17:27:09.658Z"
   },
   {
    "duration": 25,
    "start_time": "2023-02-07T17:27:15.733Z"
   },
   {
    "duration": 23,
    "start_time": "2023-02-07T17:27:16.468Z"
   },
   {
    "duration": 20,
    "start_time": "2023-02-07T17:27:22.170Z"
   },
   {
    "duration": 19,
    "start_time": "2023-02-07T17:27:22.998Z"
   },
   {
    "duration": 20,
    "start_time": "2023-02-07T17:27:35.147Z"
   },
   {
    "duration": 20,
    "start_time": "2023-02-07T17:29:46.961Z"
   },
   {
    "duration": 21,
    "start_time": "2023-02-07T17:29:47.535Z"
   },
   {
    "duration": 20,
    "start_time": "2023-02-07T17:29:47.766Z"
   },
   {
    "duration": 22,
    "start_time": "2023-02-07T17:29:48.623Z"
   },
   {
    "duration": 6,
    "start_time": "2023-02-07T17:30:00.069Z"
   },
   {
    "duration": 20,
    "start_time": "2023-02-07T17:30:59.489Z"
   },
   {
    "duration": 25,
    "start_time": "2023-02-07T17:31:01.199Z"
   },
   {
    "duration": 6,
    "start_time": "2023-02-07T17:31:08.629Z"
   },
   {
    "duration": 17,
    "start_time": "2023-02-07T17:31:14.929Z"
   },
   {
    "duration": 6,
    "start_time": "2023-02-07T17:31:17.118Z"
   },
   {
    "duration": 16,
    "start_time": "2023-02-07T17:31:48.072Z"
   },
   {
    "duration": 6,
    "start_time": "2023-02-07T17:31:49.567Z"
   },
   {
    "duration": 7,
    "start_time": "2023-02-07T17:31:50.430Z"
   },
   {
    "duration": 5,
    "start_time": "2023-02-07T17:31:52.074Z"
   },
   {
    "duration": 6,
    "start_time": "2023-02-07T17:31:52.515Z"
   },
   {
    "duration": 6,
    "start_time": "2023-02-07T17:31:52.739Z"
   },
   {
    "duration": 6,
    "start_time": "2023-02-07T17:31:52.999Z"
   },
   {
    "duration": 6,
    "start_time": "2023-02-07T17:31:53.245Z"
   },
   {
    "duration": 29,
    "start_time": "2023-02-07T17:32:01.632Z"
   },
   {
    "duration": 50,
    "start_time": "2023-02-07T17:32:05.812Z"
   },
   {
    "duration": 26,
    "start_time": "2023-02-07T17:32:11.476Z"
   },
   {
    "duration": 26,
    "start_time": "2023-02-07T17:32:19.668Z"
   },
   {
    "duration": 6,
    "start_time": "2023-02-07T17:32:21.820Z"
   },
   {
    "duration": 18,
    "start_time": "2023-02-07T17:33:51.475Z"
   },
   {
    "duration": 16,
    "start_time": "2023-02-07T17:34:08.015Z"
   },
   {
    "duration": 6,
    "start_time": "2023-02-07T17:34:10.297Z"
   },
   {
    "duration": 16,
    "start_time": "2023-02-07T17:37:07.325Z"
   },
   {
    "duration": 7,
    "start_time": "2023-02-07T17:37:09.122Z"
   },
   {
    "duration": 6,
    "start_time": "2023-02-07T17:37:11.667Z"
   },
   {
    "duration": 6,
    "start_time": "2023-02-07T17:37:12.170Z"
   },
   {
    "duration": 6,
    "start_time": "2023-02-07T17:37:12.564Z"
   },
   {
    "duration": 7,
    "start_time": "2023-02-07T17:37:13.002Z"
   },
   {
    "duration": 16,
    "start_time": "2023-02-07T17:38:11.824Z"
   },
   {
    "duration": 17,
    "start_time": "2023-02-07T17:38:14.564Z"
   },
   {
    "duration": 5,
    "start_time": "2023-02-07T17:38:16.851Z"
   },
   {
    "duration": 7,
    "start_time": "2023-02-07T17:38:22.887Z"
   },
   {
    "duration": 6,
    "start_time": "2023-02-07T17:38:23.109Z"
   },
   {
    "duration": 7,
    "start_time": "2023-02-07T17:38:23.284Z"
   },
   {
    "duration": 7,
    "start_time": "2023-02-07T17:38:23.452Z"
   },
   {
    "duration": 7,
    "start_time": "2023-02-07T17:38:23.595Z"
   },
   {
    "duration": 5,
    "start_time": "2023-02-07T17:38:23.745Z"
   },
   {
    "duration": 6,
    "start_time": "2023-02-07T17:38:23.904Z"
   },
   {
    "duration": 16,
    "start_time": "2023-02-07T17:38:26.788Z"
   },
   {
    "duration": 9,
    "start_time": "2023-02-07T17:38:28.149Z"
   },
   {
    "duration": 5,
    "start_time": "2023-02-07T17:38:28.697Z"
   },
   {
    "duration": 6,
    "start_time": "2023-02-07T17:38:28.849Z"
   },
   {
    "duration": 6,
    "start_time": "2023-02-07T17:38:29.216Z"
   },
   {
    "duration": 7,
    "start_time": "2023-02-07T17:38:29.378Z"
   },
   {
    "duration": 11,
    "start_time": "2023-02-07T17:40:53.349Z"
   },
   {
    "duration": 6,
    "start_time": "2023-02-07T17:40:54.714Z"
   },
   {
    "duration": 6,
    "start_time": "2023-02-07T17:40:55.568Z"
   },
   {
    "duration": 9,
    "start_time": "2023-02-07T17:41:19.891Z"
   },
   {
    "duration": 13,
    "start_time": "2023-02-07T17:41:33.956Z"
   },
   {
    "duration": 10,
    "start_time": "2023-02-07T17:41:43.655Z"
   },
   {
    "duration": 6,
    "start_time": "2023-02-07T17:41:46.434Z"
   },
   {
    "duration": 6,
    "start_time": "2023-02-07T17:41:47.217Z"
   },
   {
    "duration": 6,
    "start_time": "2023-02-07T17:41:47.520Z"
   },
   {
    "duration": 8,
    "start_time": "2023-02-07T17:41:47.794Z"
   },
   {
    "duration": 6,
    "start_time": "2023-02-07T17:41:48.093Z"
   },
   {
    "duration": 11,
    "start_time": "2023-02-07T17:41:52.726Z"
   },
   {
    "duration": 7,
    "start_time": "2023-02-07T17:41:54.094Z"
   },
   {
    "duration": 8,
    "start_time": "2023-02-07T17:41:54.964Z"
   },
   {
    "duration": 9,
    "start_time": "2023-02-07T17:42:07.681Z"
   },
   {
    "duration": 10,
    "start_time": "2023-02-07T17:42:08.346Z"
   },
   {
    "duration": 6,
    "start_time": "2023-02-07T17:42:09.338Z"
   },
   {
    "duration": 6,
    "start_time": "2023-02-07T17:42:09.937Z"
   },
   {
    "duration": 6,
    "start_time": "2023-02-07T17:42:10.264Z"
   },
   {
    "duration": 5,
    "start_time": "2023-02-07T17:42:10.702Z"
   },
   {
    "duration": 6,
    "start_time": "2023-02-07T17:42:10.912Z"
   },
   {
    "duration": 6,
    "start_time": "2023-02-07T17:42:11.296Z"
   },
   {
    "duration": 11,
    "start_time": "2023-02-07T17:42:26.631Z"
   },
   {
    "duration": 6,
    "start_time": "2023-02-07T17:42:27.707Z"
   },
   {
    "duration": 8,
    "start_time": "2023-02-07T17:42:28.231Z"
   },
   {
    "duration": 5,
    "start_time": "2023-02-07T17:42:28.402Z"
   },
   {
    "duration": 6,
    "start_time": "2023-02-07T17:42:28.586Z"
   },
   {
    "duration": 6,
    "start_time": "2023-02-07T17:42:28.756Z"
   },
   {
    "duration": 5,
    "start_time": "2023-02-07T17:42:28.890Z"
   },
   {
    "duration": 12,
    "start_time": "2023-02-07T17:42:37.667Z"
   },
   {
    "duration": 5,
    "start_time": "2023-02-07T17:42:38.748Z"
   },
   {
    "duration": 12,
    "start_time": "2023-02-07T17:42:41.660Z"
   },
   {
    "duration": 10,
    "start_time": "2023-02-07T17:42:44.275Z"
   },
   {
    "duration": 6,
    "start_time": "2023-02-07T17:42:47.138Z"
   },
   {
    "duration": 126,
    "start_time": "2023-02-07T17:42:55.080Z"
   },
   {
    "duration": 31,
    "start_time": "2023-02-07T17:42:55.209Z"
   },
   {
    "duration": 2172,
    "start_time": "2023-02-07T17:42:55.242Z"
   },
   {
    "duration": 27,
    "start_time": "2023-02-07T17:42:57.417Z"
   },
   {
    "duration": 8,
    "start_time": "2023-02-07T17:42:57.446Z"
   },
   {
    "duration": 63,
    "start_time": "2023-02-07T17:42:57.455Z"
   },
   {
    "duration": 2406,
    "start_time": "2023-02-07T17:42:57.520Z"
   },
   {
    "duration": 43,
    "start_time": "2023-02-07T17:42:59.928Z"
   },
   {
    "duration": 15,
    "start_time": "2023-02-07T17:42:59.972Z"
   },
   {
    "duration": 70,
    "start_time": "2023-02-07T17:42:59.989Z"
   },
   {
    "duration": 14,
    "start_time": "2023-02-07T17:43:00.061Z"
   },
   {
    "duration": 39,
    "start_time": "2023-02-07T17:43:00.078Z"
   },
   {
    "duration": 16,
    "start_time": "2023-02-07T17:43:00.119Z"
   },
   {
    "duration": 33,
    "start_time": "2023-02-07T17:43:00.137Z"
   },
   {
    "duration": 6,
    "start_time": "2023-02-07T17:43:00.172Z"
   },
   {
    "duration": 28,
    "start_time": "2023-02-07T17:44:19.464Z"
   },
   {
    "duration": 11,
    "start_time": "2023-02-07T17:44:59.924Z"
   },
   {
    "duration": 6,
    "start_time": "2023-02-07T17:45:07.629Z"
   },
   {
    "duration": 12,
    "start_time": "2023-02-07T17:47:24.864Z"
   },
   {
    "duration": 5,
    "start_time": "2023-02-07T17:47:26.895Z"
   },
   {
    "duration": 6,
    "start_time": "2023-02-07T17:47:27.526Z"
   },
   {
    "duration": 7,
    "start_time": "2023-02-07T17:47:27.852Z"
   },
   {
    "duration": 12,
    "start_time": "2023-02-07T17:47:38.550Z"
   },
   {
    "duration": 6,
    "start_time": "2023-02-07T17:47:39.773Z"
   },
   {
    "duration": 6,
    "start_time": "2023-02-07T17:47:40.386Z"
   },
   {
    "duration": 11,
    "start_time": "2023-02-07T17:48:00.277Z"
   },
   {
    "duration": 6,
    "start_time": "2023-02-07T17:48:01.903Z"
   },
   {
    "duration": 12,
    "start_time": "2023-02-07T17:48:34.021Z"
   },
   {
    "duration": 6,
    "start_time": "2023-02-07T17:48:35.455Z"
   },
   {
    "duration": 6,
    "start_time": "2023-02-07T17:48:37.022Z"
   },
   {
    "duration": 12,
    "start_time": "2023-02-07T17:48:43.142Z"
   },
   {
    "duration": 6,
    "start_time": "2023-02-07T17:48:45.247Z"
   },
   {
    "duration": 11,
    "start_time": "2023-02-07T17:48:53.537Z"
   },
   {
    "duration": 7,
    "start_time": "2023-02-07T17:48:54.793Z"
   },
   {
    "duration": 13,
    "start_time": "2023-02-07T17:56:17.693Z"
   },
   {
    "duration": 6,
    "start_time": "2023-02-07T17:56:39.470Z"
   },
   {
    "duration": 6,
    "start_time": "2023-02-07T17:56:40.220Z"
   },
   {
    "duration": 12,
    "start_time": "2023-02-07T17:56:57.214Z"
   },
   {
    "duration": 11,
    "start_time": "2023-02-07T17:57:00.745Z"
   },
   {
    "duration": 6,
    "start_time": "2023-02-07T17:57:02.744Z"
   },
   {
    "duration": 5,
    "start_time": "2023-02-07T17:57:03.199Z"
   },
   {
    "duration": 6,
    "start_time": "2023-02-07T17:57:03.502Z"
   },
   {
    "duration": 7,
    "start_time": "2023-02-07T17:57:03.725Z"
   },
   {
    "duration": 6,
    "start_time": "2023-02-07T17:57:03.903Z"
   },
   {
    "duration": 8,
    "start_time": "2023-02-07T17:57:04.089Z"
   },
   {
    "duration": 6,
    "start_time": "2023-02-07T17:57:08.552Z"
   },
   {
    "duration": 12,
    "start_time": "2023-02-07T17:57:19.232Z"
   },
   {
    "duration": 6,
    "start_time": "2023-02-07T17:57:21.133Z"
   },
   {
    "duration": 6,
    "start_time": "2023-02-07T17:57:22.123Z"
   },
   {
    "duration": 6,
    "start_time": "2023-02-07T17:57:22.871Z"
   },
   {
    "duration": 7,
    "start_time": "2023-02-07T17:57:37.669Z"
   },
   {
    "duration": 11,
    "start_time": "2023-02-07T17:58:41.749Z"
   },
   {
    "duration": 11,
    "start_time": "2023-02-07T17:58:42.326Z"
   },
   {
    "duration": 8,
    "start_time": "2023-02-07T17:58:46.554Z"
   },
   {
    "duration": 18,
    "start_time": "2023-02-07T17:59:02.351Z"
   },
   {
    "duration": 7,
    "start_time": "2023-02-07T17:59:03.827Z"
   },
   {
    "duration": 12,
    "start_time": "2023-02-07T18:03:37.114Z"
   },
   {
    "duration": 6,
    "start_time": "2023-02-07T18:03:38.039Z"
   },
   {
    "duration": 7,
    "start_time": "2023-02-07T18:03:38.990Z"
   },
   {
    "duration": 11,
    "start_time": "2023-02-07T18:40:49.034Z"
   },
   {
    "duration": 6,
    "start_time": "2023-02-07T18:40:51.418Z"
   },
   {
    "duration": 6,
    "start_time": "2023-02-07T18:40:52.032Z"
   },
   {
    "duration": 5,
    "start_time": "2023-02-07T18:40:52.336Z"
   },
   {
    "duration": 6,
    "start_time": "2023-02-07T18:40:52.586Z"
   },
   {
    "duration": 6,
    "start_time": "2023-02-07T18:40:53.145Z"
   },
   {
    "duration": 8,
    "start_time": "2023-02-07T18:45:35.562Z"
   },
   {
    "duration": 6,
    "start_time": "2023-02-07T18:45:37.808Z"
   },
   {
    "duration": 9,
    "start_time": "2023-02-07T18:45:38.437Z"
   },
   {
    "duration": 9,
    "start_time": "2023-02-07T18:45:38.800Z"
   },
   {
    "duration": 15,
    "start_time": "2023-02-07T18:46:08.992Z"
   },
   {
    "duration": 12,
    "start_time": "2023-02-07T18:46:19.227Z"
   },
   {
    "duration": 8,
    "start_time": "2023-02-07T18:46:27.101Z"
   },
   {
    "duration": 1636,
    "start_time": "2023-02-08T13:54:20.965Z"
   },
   {
    "duration": 16,
    "start_time": "2023-02-08T13:54:22.604Z"
   },
   {
    "duration": 1949,
    "start_time": "2023-02-08T13:54:22.622Z"
   },
   {
    "duration": 10,
    "start_time": "2023-02-08T13:54:24.573Z"
   },
   {
    "duration": 12,
    "start_time": "2023-02-08T13:54:24.585Z"
   },
   {
    "duration": 52,
    "start_time": "2023-02-08T13:54:24.598Z"
   },
   {
    "duration": 2094,
    "start_time": "2023-02-08T13:54:24.652Z"
   },
   {
    "duration": 35,
    "start_time": "2023-02-08T13:54:26.748Z"
   },
   {
    "duration": 15,
    "start_time": "2023-02-08T13:54:26.784Z"
   },
   {
    "duration": 84,
    "start_time": "2023-02-08T13:54:26.801Z"
   },
   {
    "duration": 15,
    "start_time": "2023-02-08T13:54:26.886Z"
   },
   {
    "duration": 38,
    "start_time": "2023-02-08T13:54:26.904Z"
   },
   {
    "duration": 7,
    "start_time": "2023-02-08T13:54:26.943Z"
   },
   {
    "duration": 7,
    "start_time": "2023-02-08T13:54:26.953Z"
   },
   {
    "duration": 7,
    "start_time": "2023-02-08T13:54:26.962Z"
   },
   {
    "duration": 6,
    "start_time": "2023-02-08T13:55:30.272Z"
   },
   {
    "duration": 5,
    "start_time": "2023-02-08T13:55:33.051Z"
   },
   {
    "duration": 106,
    "start_time": "2023-02-08T13:57:25.614Z"
   },
   {
    "duration": 7,
    "start_time": "2023-02-08T13:57:31.435Z"
   },
   {
    "duration": 6,
    "start_time": "2023-02-08T13:57:35.094Z"
   },
   {
    "duration": 5,
    "start_time": "2023-02-08T13:57:35.745Z"
   },
   {
    "duration": 7,
    "start_time": "2023-02-08T13:58:10.533Z"
   },
   {
    "duration": 6,
    "start_time": "2023-02-08T13:58:12.100Z"
   },
   {
    "duration": 6,
    "start_time": "2023-02-08T13:58:21.495Z"
   },
   {
    "duration": 6,
    "start_time": "2023-02-08T13:58:23.333Z"
   },
   {
    "duration": 6,
    "start_time": "2023-02-08T13:58:43.472Z"
   },
   {
    "duration": 6,
    "start_time": "2023-02-08T13:58:44.623Z"
   },
   {
    "duration": 17,
    "start_time": "2023-02-08T13:59:22.624Z"
   },
   {
    "duration": 15,
    "start_time": "2023-02-08T13:59:34.115Z"
   },
   {
    "duration": 6,
    "start_time": "2023-02-08T13:59:41.938Z"
   },
   {
    "duration": 8,
    "start_time": "2023-02-08T14:00:27.602Z"
   },
   {
    "duration": 7,
    "start_time": "2023-02-08T14:00:29.781Z"
   },
   {
    "duration": 7,
    "start_time": "2023-02-08T14:00:52.138Z"
   },
   {
    "duration": 6,
    "start_time": "2023-02-08T14:00:54.632Z"
   },
   {
    "duration": 9,
    "start_time": "2023-02-08T14:01:14.135Z"
   },
   {
    "duration": 8,
    "start_time": "2023-02-08T14:01:42.380Z"
   },
   {
    "duration": 5,
    "start_time": "2023-02-08T14:01:44.198Z"
   },
   {
    "duration": 1337,
    "start_time": "2023-02-08T14:02:13.024Z"
   },
   {
    "duration": 16,
    "start_time": "2023-02-08T14:02:14.363Z"
   },
   {
    "duration": 2094,
    "start_time": "2023-02-08T14:02:14.381Z"
   },
   {
    "duration": 11,
    "start_time": "2023-02-08T14:02:16.479Z"
   },
   {
    "duration": 8,
    "start_time": "2023-02-08T14:02:16.492Z"
   },
   {
    "duration": 61,
    "start_time": "2023-02-08T14:02:16.502Z"
   },
   {
    "duration": 2198,
    "start_time": "2023-02-08T14:02:16.566Z"
   },
   {
    "duration": 48,
    "start_time": "2023-02-08T14:02:18.766Z"
   },
   {
    "duration": 39,
    "start_time": "2023-02-08T14:02:18.816Z"
   },
   {
    "duration": 77,
    "start_time": "2023-02-08T14:02:18.859Z"
   },
   {
    "duration": 17,
    "start_time": "2023-02-08T14:02:18.938Z"
   },
   {
    "duration": 22,
    "start_time": "2023-02-08T14:02:18.956Z"
   },
   {
    "duration": 6,
    "start_time": "2023-02-08T14:02:18.980Z"
   },
   {
    "duration": 9,
    "start_time": "2023-02-08T14:02:18.989Z"
   },
   {
    "duration": 38,
    "start_time": "2023-02-08T14:02:19.000Z"
   },
   {
    "duration": 11,
    "start_time": "2023-02-08T14:03:04.301Z"
   },
   {
    "duration": 6,
    "start_time": "2023-02-08T14:03:05.876Z"
   },
   {
    "duration": 18,
    "start_time": "2023-02-08T14:04:51.072Z"
   },
   {
    "duration": 6,
    "start_time": "2023-02-08T14:04:52.993Z"
   },
   {
    "duration": 116,
    "start_time": "2023-02-08T14:05:00.747Z"
   },
   {
    "duration": 22,
    "start_time": "2023-02-08T14:06:03.161Z"
   },
   {
    "duration": 20,
    "start_time": "2023-02-08T14:07:07.731Z"
   },
   {
    "duration": 21,
    "start_time": "2023-02-08T14:07:16.929Z"
   },
   {
    "duration": 24,
    "start_time": "2023-02-08T14:07:35.969Z"
   },
   {
    "duration": 22,
    "start_time": "2023-02-08T14:07:50.392Z"
   },
   {
    "duration": 19,
    "start_time": "2023-02-08T14:07:56.752Z"
   },
   {
    "duration": 6,
    "start_time": "2023-02-08T14:07:58.792Z"
   },
   {
    "duration": 8,
    "start_time": "2023-02-08T14:07:59.630Z"
   },
   {
    "duration": 18,
    "start_time": "2023-02-08T14:08:19.486Z"
   },
   {
    "duration": 6,
    "start_time": "2023-02-08T14:08:21.076Z"
   },
   {
    "duration": 24,
    "start_time": "2023-02-08T14:08:30.282Z"
   },
   {
    "duration": 86,
    "start_time": "2023-02-08T14:10:23.363Z"
   },
   {
    "duration": 16,
    "start_time": "2023-02-08T14:10:34.310Z"
   },
   {
    "duration": 19,
    "start_time": "2023-02-08T14:10:39.021Z"
   },
   {
    "duration": 22,
    "start_time": "2023-02-08T14:10:45.174Z"
   },
   {
    "duration": 34,
    "start_time": "2023-02-08T14:10:50.281Z"
   },
   {
    "duration": 27,
    "start_time": "2023-02-08T14:10:56.079Z"
   },
   {
    "duration": 6,
    "start_time": "2023-02-08T14:10:57.798Z"
   },
   {
    "duration": 26,
    "start_time": "2023-02-08T14:11:05.445Z"
   },
   {
    "duration": 23,
    "start_time": "2023-02-08T14:11:45.265Z"
   },
   {
    "duration": 6,
    "start_time": "2023-02-08T14:11:53.135Z"
   },
   {
    "duration": 21,
    "start_time": "2023-02-08T14:12:11.049Z"
   },
   {
    "duration": 30,
    "start_time": "2023-02-08T14:14:01.228Z"
   },
   {
    "duration": 21,
    "start_time": "2023-02-08T14:14:17.270Z"
   },
   {
    "duration": 23,
    "start_time": "2023-02-08T14:14:43.287Z"
   },
   {
    "duration": 20,
    "start_time": "2023-02-08T14:14:56.083Z"
   },
   {
    "duration": 21,
    "start_time": "2023-02-08T14:15:12.768Z"
   },
   {
    "duration": 19,
    "start_time": "2023-02-08T14:15:29.155Z"
   },
   {
    "duration": 17,
    "start_time": "2023-02-08T14:15:35.189Z"
   },
   {
    "duration": 7,
    "start_time": "2023-02-08T14:15:37.259Z"
   },
   {
    "duration": 16,
    "start_time": "2023-02-08T14:16:46.710Z"
   },
   {
    "duration": 6,
    "start_time": "2023-02-08T14:16:49.043Z"
   },
   {
    "duration": 8,
    "start_time": "2023-02-08T14:16:49.777Z"
   },
   {
    "duration": 17,
    "start_time": "2023-02-08T14:17:04.820Z"
   },
   {
    "duration": 6,
    "start_time": "2023-02-08T14:17:06.094Z"
   },
   {
    "duration": 25,
    "start_time": "2023-02-08T14:17:23.858Z"
   },
   {
    "duration": 1399,
    "start_time": "2023-02-08T14:18:03.838Z"
   },
   {
    "duration": 20,
    "start_time": "2023-02-08T14:18:05.239Z"
   },
   {
    "duration": 2106,
    "start_time": "2023-02-08T14:18:05.261Z"
   },
   {
    "duration": 10,
    "start_time": "2023-02-08T14:18:07.369Z"
   },
   {
    "duration": 31,
    "start_time": "2023-02-08T14:18:07.381Z"
   },
   {
    "duration": 75,
    "start_time": "2023-02-08T14:18:07.414Z"
   },
   {
    "duration": 2232,
    "start_time": "2023-02-08T14:18:07.490Z"
   },
   {
    "duration": 44,
    "start_time": "2023-02-08T14:18:09.724Z"
   },
   {
    "duration": 49,
    "start_time": "2023-02-08T14:18:09.770Z"
   },
   {
    "duration": 73,
    "start_time": "2023-02-08T14:18:09.821Z"
   },
   {
    "duration": 15,
    "start_time": "2023-02-08T14:18:09.896Z"
   },
   {
    "duration": 43,
    "start_time": "2023-02-08T14:18:09.913Z"
   },
   {
    "duration": 17,
    "start_time": "2023-02-08T14:18:09.958Z"
   },
   {
    "duration": 152,
    "start_time": "2023-02-08T14:18:09.978Z"
   },
   {
    "duration": 0,
    "start_time": "2023-02-08T14:18:10.132Z"
   },
   {
    "duration": 15,
    "start_time": "2023-02-08T14:20:27.401Z"
   },
   {
    "duration": 7,
    "start_time": "2023-02-08T14:20:29.614Z"
   },
   {
    "duration": 11,
    "start_time": "2023-02-08T14:20:43.980Z"
   },
   {
    "duration": 6,
    "start_time": "2023-02-08T14:20:44.904Z"
   },
   {
    "duration": 8,
    "start_time": "2023-02-08T14:20:51.935Z"
   },
   {
    "duration": 6,
    "start_time": "2023-02-08T14:20:53.219Z"
   },
   {
    "duration": 10,
    "start_time": "2023-02-08T14:21:05.286Z"
   },
   {
    "duration": 6,
    "start_time": "2023-02-08T14:21:06.315Z"
   },
   {
    "duration": 1332,
    "start_time": "2023-02-08T14:21:14.328Z"
   },
   {
    "duration": 15,
    "start_time": "2023-02-08T14:21:15.662Z"
   },
   {
    "duration": 1999,
    "start_time": "2023-02-08T14:21:15.680Z"
   },
   {
    "duration": 10,
    "start_time": "2023-02-08T14:21:17.681Z"
   },
   {
    "duration": 10,
    "start_time": "2023-02-08T14:21:17.694Z"
   },
   {
    "duration": 60,
    "start_time": "2023-02-08T14:21:17.706Z"
   },
   {
    "duration": 2202,
    "start_time": "2023-02-08T14:21:17.768Z"
   },
   {
    "duration": 38,
    "start_time": "2023-02-08T14:21:19.973Z"
   },
   {
    "duration": 34,
    "start_time": "2023-02-08T14:21:20.013Z"
   },
   {
    "duration": 54,
    "start_time": "2023-02-08T14:21:20.048Z"
   },
   {
    "duration": 32,
    "start_time": "2023-02-08T14:21:20.104Z"
   },
   {
    "duration": 20,
    "start_time": "2023-02-08T14:21:20.138Z"
   },
   {
    "duration": 12,
    "start_time": "2023-02-08T14:21:20.160Z"
   },
   {
    "duration": 31,
    "start_time": "2023-02-08T14:21:20.174Z"
   },
   {
    "duration": 19,
    "start_time": "2023-02-08T14:21:20.207Z"
   },
   {
    "duration": 22,
    "start_time": "2023-02-08T14:21:20.228Z"
   },
   {
    "duration": 11,
    "start_time": "2023-02-08T14:28:48.534Z"
   },
   {
    "duration": 10,
    "start_time": "2023-02-08T14:28:49.629Z"
   },
   {
    "duration": 7,
    "start_time": "2023-02-08T14:28:50.496Z"
   },
   {
    "duration": 2,
    "start_time": "2023-02-08T14:33:23.154Z"
   },
   {
    "duration": 26,
    "start_time": "2023-02-08T14:39:47.607Z"
   },
   {
    "duration": 2559,
    "start_time": "2023-02-08T14:42:28.623Z"
   },
   {
    "duration": 25,
    "start_time": "2023-02-08T14:42:40.800Z"
   },
   {
    "duration": 25,
    "start_time": "2023-02-08T14:43:46.639Z"
   },
   {
    "duration": 2397,
    "start_time": "2023-02-08T14:43:50.164Z"
   },
   {
    "duration": 26,
    "start_time": "2023-02-08T14:43:57.039Z"
   },
   {
    "duration": 137,
    "start_time": "2023-02-08T14:46:39.200Z"
   },
   {
    "duration": 94,
    "start_time": "2023-02-08T14:47:05.760Z"
   },
   {
    "duration": 92,
    "start_time": "2023-02-08T14:47:50.488Z"
   },
   {
    "duration": 89,
    "start_time": "2023-02-08T14:48:02.247Z"
   },
   {
    "duration": 113,
    "start_time": "2023-02-08T14:48:08.682Z"
   },
   {
    "duration": 31,
    "start_time": "2023-02-08T14:48:14.291Z"
   },
   {
    "duration": 93,
    "start_time": "2023-02-08T14:48:32.716Z"
   },
   {
    "duration": 90,
    "start_time": "2023-02-08T14:48:37.644Z"
   },
   {
    "duration": 87,
    "start_time": "2023-02-08T14:49:09.388Z"
   },
   {
    "duration": 2612,
    "start_time": "2023-02-08T14:49:19.242Z"
   },
   {
    "duration": 28,
    "start_time": "2023-02-08T14:49:25.620Z"
   },
   {
    "duration": 24,
    "start_time": "2023-02-08T14:49:26.569Z"
   },
   {
    "duration": 94,
    "start_time": "2023-02-08T14:50:03.697Z"
   },
   {
    "duration": 89,
    "start_time": "2023-02-08T14:50:26.647Z"
   },
   {
    "duration": 90,
    "start_time": "2023-02-08T14:50:47.769Z"
   },
   {
    "duration": 89,
    "start_time": "2023-02-08T14:51:22.960Z"
   },
   {
    "duration": 23,
    "start_time": "2023-02-08T14:51:25.387Z"
   },
   {
    "duration": 92,
    "start_time": "2023-02-08T14:51:40.784Z"
   },
   {
    "duration": 74,
    "start_time": "2023-02-08T14:52:39.264Z"
   },
   {
    "duration": 93,
    "start_time": "2023-02-08T14:52:47.019Z"
   },
   {
    "duration": 91,
    "start_time": "2023-02-08T14:52:55.529Z"
   },
   {
    "duration": 85,
    "start_time": "2023-02-08T14:52:56.769Z"
   },
   {
    "duration": 88,
    "start_time": "2023-02-08T14:54:09.668Z"
   },
   {
    "duration": 88,
    "start_time": "2023-02-08T14:54:10.938Z"
   },
   {
    "duration": 88,
    "start_time": "2023-02-08T14:54:23.704Z"
   },
   {
    "duration": 2482,
    "start_time": "2023-02-08T14:55:24.386Z"
   },
   {
    "duration": 24,
    "start_time": "2023-02-08T14:55:30.748Z"
   },
   {
    "duration": 1307,
    "start_time": "2023-02-08T14:55:39.942Z"
   },
   {
    "duration": 18,
    "start_time": "2023-02-08T14:55:41.251Z"
   },
   {
    "duration": 2028,
    "start_time": "2023-02-08T14:55:41.271Z"
   },
   {
    "duration": 10,
    "start_time": "2023-02-08T14:55:43.301Z"
   },
   {
    "duration": 7,
    "start_time": "2023-02-08T14:55:43.314Z"
   },
   {
    "duration": 60,
    "start_time": "2023-02-08T14:55:43.323Z"
   },
   {
    "duration": 2176,
    "start_time": "2023-02-08T14:55:43.384Z"
   },
   {
    "duration": 32,
    "start_time": "2023-02-08T14:55:45.562Z"
   },
   {
    "duration": 15,
    "start_time": "2023-02-08T14:55:45.595Z"
   },
   {
    "duration": 77,
    "start_time": "2023-02-08T14:55:45.612Z"
   },
   {
    "duration": 16,
    "start_time": "2023-02-08T14:55:45.691Z"
   },
   {
    "duration": 39,
    "start_time": "2023-02-08T14:55:45.708Z"
   },
   {
    "duration": 5,
    "start_time": "2023-02-08T14:55:45.749Z"
   },
   {
    "duration": 14,
    "start_time": "2023-02-08T14:55:45.757Z"
   },
   {
    "duration": 10,
    "start_time": "2023-02-08T14:55:45.773Z"
   },
   {
    "duration": 7,
    "start_time": "2023-02-08T14:55:45.784Z"
   },
   {
    "duration": 8,
    "start_time": "2023-02-08T14:55:45.793Z"
   },
   {
    "duration": 21,
    "start_time": "2023-02-08T14:56:55.315Z"
   },
   {
    "duration": 7,
    "start_time": "2023-02-08T14:56:57.171Z"
   },
   {
    "duration": 115,
    "start_time": "2023-02-08T14:57:22.979Z"
   },
   {
    "duration": 15,
    "start_time": "2023-02-08T14:57:28.344Z"
   },
   {
    "duration": 6,
    "start_time": "2023-02-08T14:57:29.864Z"
   },
   {
    "duration": 22,
    "start_time": "2023-02-08T14:59:37.882Z"
   },
   {
    "duration": 86,
    "start_time": "2023-02-08T15:57:29.864Z"
   },
   {
    "duration": 83,
    "start_time": "2023-02-08T15:58:03.364Z"
   },
   {
    "duration": 95,
    "start_time": "2023-02-08T15:58:04.045Z"
   },
   {
    "duration": 78,
    "start_time": "2023-02-08T15:58:23.550Z"
   },
   {
    "duration": 0,
    "start_time": "2023-02-08T15:58:23.630Z"
   },
   {
    "duration": 0,
    "start_time": "2023-02-08T15:58:23.631Z"
   },
   {
    "duration": 0,
    "start_time": "2023-02-08T15:58:23.633Z"
   },
   {
    "duration": 0,
    "start_time": "2023-02-08T15:58:23.634Z"
   },
   {
    "duration": 0,
    "start_time": "2023-02-08T15:58:23.635Z"
   },
   {
    "duration": 0,
    "start_time": "2023-02-08T15:58:23.637Z"
   },
   {
    "duration": 0,
    "start_time": "2023-02-08T15:58:23.638Z"
   },
   {
    "duration": 0,
    "start_time": "2023-02-08T15:58:23.639Z"
   },
   {
    "duration": 0,
    "start_time": "2023-02-08T15:58:23.639Z"
   },
   {
    "duration": 0,
    "start_time": "2023-02-08T15:58:23.640Z"
   },
   {
    "duration": 0,
    "start_time": "2023-02-08T15:58:23.641Z"
   },
   {
    "duration": 0,
    "start_time": "2023-02-08T15:58:23.642Z"
   },
   {
    "duration": 0,
    "start_time": "2023-02-08T15:58:23.643Z"
   },
   {
    "duration": 0,
    "start_time": "2023-02-08T15:58:23.644Z"
   },
   {
    "duration": 0,
    "start_time": "2023-02-08T15:58:23.645Z"
   },
   {
    "duration": 0,
    "start_time": "2023-02-08T15:58:23.646Z"
   },
   {
    "duration": 0,
    "start_time": "2023-02-08T15:58:23.647Z"
   },
   {
    "duration": 9070,
    "start_time": "2023-02-08T15:58:37.812Z"
   },
   {
    "duration": 1514,
    "start_time": "2023-02-08T15:59:16.133Z"
   },
   {
    "duration": 19,
    "start_time": "2023-02-08T15:59:17.649Z"
   },
   {
    "duration": 2165,
    "start_time": "2023-02-08T15:59:17.670Z"
   },
   {
    "duration": 15,
    "start_time": "2023-02-08T15:59:19.837Z"
   },
   {
    "duration": 25,
    "start_time": "2023-02-08T15:59:19.854Z"
   },
   {
    "duration": 64,
    "start_time": "2023-02-08T15:59:19.881Z"
   },
   {
    "duration": 2140,
    "start_time": "2023-02-08T15:59:19.946Z"
   },
   {
    "duration": 24,
    "start_time": "2023-02-08T15:59:22.088Z"
   },
   {
    "duration": 32,
    "start_time": "2023-02-08T15:59:22.114Z"
   },
   {
    "duration": 70,
    "start_time": "2023-02-08T15:59:22.149Z"
   },
   {
    "duration": 26,
    "start_time": "2023-02-08T15:59:22.220Z"
   },
   {
    "duration": 23,
    "start_time": "2023-02-08T15:59:22.248Z"
   },
   {
    "duration": 4,
    "start_time": "2023-02-08T15:59:22.273Z"
   },
   {
    "duration": 14,
    "start_time": "2023-02-08T15:59:22.279Z"
   },
   {
    "duration": 175,
    "start_time": "2023-02-08T15:59:22.294Z"
   },
   {
    "duration": 20,
    "start_time": "2023-02-08T15:59:22.471Z"
   },
   {
    "duration": 2,
    "start_time": "2023-02-08T15:59:22.493Z"
   },
   {
    "duration": 3,
    "start_time": "2023-02-08T16:01:35.946Z"
   },
   {
    "duration": 11,
    "start_time": "2023-02-08T16:01:38.138Z"
   },
   {
    "duration": 154,
    "start_time": "2023-02-08T16:01:39.642Z"
   },
   {
    "duration": 22,
    "start_time": "2023-02-08T16:01:41.478Z"
   },
   {
    "duration": 50,
    "start_time": "2023-02-08T16:05:06.860Z"
   },
   {
    "duration": 33,
    "start_time": "2023-02-08T16:09:55.416Z"
   },
   {
    "duration": 13,
    "start_time": "2023-02-08T16:09:58.847Z"
   },
   {
    "duration": 22,
    "start_time": "2023-02-08T16:10:06.203Z"
   },
   {
    "duration": 6,
    "start_time": "2023-02-08T16:10:07.160Z"
   },
   {
    "duration": 10,
    "start_time": "2023-02-08T16:10:11.503Z"
   },
   {
    "duration": 167,
    "start_time": "2023-02-08T16:10:12.772Z"
   },
   {
    "duration": 21,
    "start_time": "2023-02-08T16:10:15.774Z"
   },
   {
    "duration": 24,
    "start_time": "2023-02-08T16:10:16.916Z"
   },
   {
    "duration": 29,
    "start_time": "2023-02-08T16:10:33.183Z"
   },
   {
    "duration": 13,
    "start_time": "2023-02-08T16:10:36.748Z"
   },
   {
    "duration": 20,
    "start_time": "2023-02-08T16:10:40.812Z"
   },
   {
    "duration": 7,
    "start_time": "2023-02-08T16:10:41.848Z"
   },
   {
    "duration": 14,
    "start_time": "2023-02-08T16:10:43.767Z"
   },
   {
    "duration": 186,
    "start_time": "2023-02-08T16:10:44.517Z"
   },
   {
    "duration": 23,
    "start_time": "2023-02-08T16:10:46.225Z"
   },
   {
    "duration": 37,
    "start_time": "2023-02-08T16:10:55.613Z"
   },
   {
    "duration": 20,
    "start_time": "2023-02-08T16:10:58.448Z"
   },
   {
    "duration": 24,
    "start_time": "2023-02-08T16:11:07.341Z"
   },
   {
    "duration": 2,
    "start_time": "2023-02-08T16:11:08.075Z"
   },
   {
    "duration": 10,
    "start_time": "2023-02-08T16:11:10.318Z"
   },
   {
    "duration": 163,
    "start_time": "2023-02-08T16:11:11.173Z"
   },
   {
    "duration": 22,
    "start_time": "2023-02-08T16:11:12.020Z"
   },
   {
    "duration": 2,
    "start_time": "2023-02-08T16:11:53.019Z"
   },
   {
    "duration": 2,
    "start_time": "2023-02-08T16:11:53.752Z"
   },
   {
    "duration": 10,
    "start_time": "2023-02-08T16:11:54.289Z"
   },
   {
    "duration": 164,
    "start_time": "2023-02-08T16:11:54.815Z"
   },
   {
    "duration": 22,
    "start_time": "2023-02-08T16:11:55.390Z"
   },
   {
    "duration": 2,
    "start_time": "2023-02-08T16:12:01.375Z"
   },
   {
    "duration": 27,
    "start_time": "2023-02-08T16:12:03.788Z"
   },
   {
    "duration": 169,
    "start_time": "2023-02-08T16:12:05.520Z"
   },
   {
    "duration": 21,
    "start_time": "2023-02-08T16:12:06.692Z"
   },
   {
    "duration": 1507,
    "start_time": "2023-02-08T16:12:14.617Z"
   },
   {
    "duration": 19,
    "start_time": "2023-02-08T16:12:16.126Z"
   },
   {
    "duration": 2056,
    "start_time": "2023-02-08T16:12:16.147Z"
   },
   {
    "duration": 15,
    "start_time": "2023-02-08T16:12:18.205Z"
   },
   {
    "duration": 14,
    "start_time": "2023-02-08T16:12:18.223Z"
   },
   {
    "duration": 63,
    "start_time": "2023-02-08T16:12:18.239Z"
   },
   {
    "duration": 2164,
    "start_time": "2023-02-08T16:12:18.303Z"
   },
   {
    "duration": 23,
    "start_time": "2023-02-08T16:12:20.469Z"
   },
   {
    "duration": 18,
    "start_time": "2023-02-08T16:12:20.494Z"
   },
   {
    "duration": 89,
    "start_time": "2023-02-08T16:12:20.514Z"
   },
   {
    "duration": 3,
    "start_time": "2023-02-08T16:12:20.605Z"
   },
   {
    "duration": 9,
    "start_time": "2023-02-08T16:12:20.610Z"
   },
   {
    "duration": 16,
    "start_time": "2023-02-08T16:12:20.620Z"
   },
   {
    "duration": 12,
    "start_time": "2023-02-08T16:12:20.639Z"
   },
   {
    "duration": 170,
    "start_time": "2023-02-08T16:12:20.653Z"
   },
   {
    "duration": 31,
    "start_time": "2023-02-08T16:12:20.824Z"
   },
   {
    "duration": 3,
    "start_time": "2023-02-08T16:12:20.857Z"
   },
   {
    "duration": 1456,
    "start_time": "2023-02-08T16:12:33.964Z"
   },
   {
    "duration": 20,
    "start_time": "2023-02-08T16:12:35.422Z"
   },
   {
    "duration": 2068,
    "start_time": "2023-02-08T16:12:35.443Z"
   },
   {
    "duration": 13,
    "start_time": "2023-02-08T16:12:37.513Z"
   },
   {
    "duration": 29,
    "start_time": "2023-02-08T16:12:37.528Z"
   },
   {
    "duration": 56,
    "start_time": "2023-02-08T16:12:37.559Z"
   },
   {
    "duration": 2166,
    "start_time": "2023-02-08T16:12:37.616Z"
   },
   {
    "duration": 22,
    "start_time": "2023-02-08T16:12:39.784Z"
   },
   {
    "duration": 30,
    "start_time": "2023-02-08T16:12:39.808Z"
   },
   {
    "duration": 27,
    "start_time": "2023-02-08T16:12:39.841Z"
   },
   {
    "duration": 3,
    "start_time": "2023-02-08T16:12:39.870Z"
   },
   {
    "duration": 5,
    "start_time": "2023-02-08T16:12:39.874Z"
   },
   {
    "duration": 9,
    "start_time": "2023-02-08T16:12:39.880Z"
   },
   {
    "duration": 13,
    "start_time": "2023-02-08T16:12:39.890Z"
   },
   {
    "duration": 185,
    "start_time": "2023-02-08T16:12:39.905Z"
   },
   {
    "duration": 19,
    "start_time": "2023-02-08T16:12:40.093Z"
   },
   {
    "duration": 2,
    "start_time": "2023-02-08T16:12:40.114Z"
   },
   {
    "duration": 36,
    "start_time": "2023-02-08T16:18:16.170Z"
   },
   {
    "duration": 35,
    "start_time": "2023-02-08T16:18:42.558Z"
   },
   {
    "duration": 35,
    "start_time": "2023-02-08T16:20:39.445Z"
   },
   {
    "duration": 179,
    "start_time": "2023-02-08T16:21:52.533Z"
   },
   {
    "duration": 18,
    "start_time": "2023-02-08T16:21:54.132Z"
   },
   {
    "duration": 179,
    "start_time": "2023-02-08T16:22:04.130Z"
   },
   {
    "duration": 20,
    "start_time": "2023-02-08T16:22:05.218Z"
   },
   {
    "duration": 623,
    "start_time": "2023-02-08T16:25:17.015Z"
   },
   {
    "duration": 107,
    "start_time": "2023-02-08T16:26:41.019Z"
   },
   {
    "duration": 17,
    "start_time": "2023-02-08T16:27:30.076Z"
   },
   {
    "duration": 150,
    "start_time": "2023-02-08T16:27:49.129Z"
   },
   {
    "duration": 150,
    "start_time": "2023-02-08T16:27:54.867Z"
   },
   {
    "duration": 163,
    "start_time": "2023-02-08T16:28:11.077Z"
   },
   {
    "duration": 150,
    "start_time": "2023-02-08T16:28:17.664Z"
   },
   {
    "duration": 240,
    "start_time": "2023-02-08T16:28:34.725Z"
   },
   {
    "duration": 127,
    "start_time": "2023-02-08T16:28:51.893Z"
   },
   {
    "duration": 162,
    "start_time": "2023-02-08T16:29:28.570Z"
   },
   {
    "duration": 7,
    "start_time": "2023-02-08T16:30:12.719Z"
   },
   {
    "duration": 9,
    "start_time": "2023-02-08T16:30:44.245Z"
   },
   {
    "duration": 77,
    "start_time": "2023-02-08T16:35:18.117Z"
   },
   {
    "duration": 22,
    "start_time": "2023-02-08T16:35:24.452Z"
   },
   {
    "duration": 127,
    "start_time": "2023-02-08T16:35:41.625Z"
   },
   {
    "duration": 131,
    "start_time": "2023-02-08T16:48:40.863Z"
   },
   {
    "duration": 117,
    "start_time": "2023-02-08T16:48:54.879Z"
   },
   {
    "duration": 128,
    "start_time": "2023-02-08T16:49:11.291Z"
   },
   {
    "duration": 148,
    "start_time": "2023-02-08T16:49:57.226Z"
   },
   {
    "duration": 130,
    "start_time": "2023-02-08T16:55:24.248Z"
   },
   {
    "duration": 22,
    "start_time": "2023-02-08T17:00:50.832Z"
   },
   {
    "duration": 142,
    "start_time": "2023-02-08T17:02:34.574Z"
   },
   {
    "duration": 5,
    "start_time": "2023-02-08T17:02:53.517Z"
   },
   {
    "duration": 24,
    "start_time": "2023-02-08T17:03:10.572Z"
   },
   {
    "duration": 26,
    "start_time": "2023-02-08T17:03:33.265Z"
   },
   {
    "duration": 32,
    "start_time": "2023-02-08T17:17:39.577Z"
   },
   {
    "duration": 34,
    "start_time": "2023-02-08T17:18:25.879Z"
   },
   {
    "duration": 19,
    "start_time": "2023-02-08T17:34:25.222Z"
   },
   {
    "duration": 23,
    "start_time": "2023-02-08T17:40:37.059Z"
   },
   {
    "duration": 24,
    "start_time": "2023-02-08T17:42:08.560Z"
   },
   {
    "duration": 41,
    "start_time": "2023-02-08T17:45:03.277Z"
   },
   {
    "duration": 34,
    "start_time": "2023-02-08T17:45:50.961Z"
   },
   {
    "duration": 31,
    "start_time": "2023-02-08T17:47:56.290Z"
   },
   {
    "duration": 29,
    "start_time": "2023-02-08T17:50:32.153Z"
   },
   {
    "duration": 22,
    "start_time": "2023-02-08T17:51:22.682Z"
   },
   {
    "duration": 26,
    "start_time": "2023-02-08T17:51:28.981Z"
   },
   {
    "duration": 30,
    "start_time": "2023-02-08T17:55:52.450Z"
   },
   {
    "duration": 36,
    "start_time": "2023-02-08T18:07:55.716Z"
   },
   {
    "duration": 47,
    "start_time": "2023-02-08T18:10:19.624Z"
   },
   {
    "duration": 1611,
    "start_time": "2023-02-08T18:10:47.163Z"
   },
   {
    "duration": 36,
    "start_time": "2023-02-08T18:10:50.172Z"
   },
   {
    "duration": 46,
    "start_time": "2023-02-08T18:12:11.519Z"
   },
   {
    "duration": 32,
    "start_time": "2023-02-08T18:12:27.955Z"
   },
   {
    "duration": 80,
    "start_time": "2023-02-08T18:13:45.313Z"
   },
   {
    "duration": 37,
    "start_time": "2023-02-08T18:13:51.333Z"
   },
   {
    "duration": 73,
    "start_time": "2023-02-08T18:14:50.117Z"
   },
   {
    "duration": 72,
    "start_time": "2023-02-08T18:14:56.131Z"
   },
   {
    "duration": 1560,
    "start_time": "2023-02-08T18:15:05.312Z"
   },
   {
    "duration": 34,
    "start_time": "2023-02-08T18:15:08.126Z"
   },
   {
    "duration": 21,
    "start_time": "2023-02-08T18:16:23.052Z"
   },
   {
    "duration": 153,
    "start_time": "2023-02-08T18:20:14.589Z"
   },
   {
    "duration": 18,
    "start_time": "2023-02-08T18:20:16.738Z"
   },
   {
    "duration": 57,
    "start_time": "2023-02-08T18:20:31.677Z"
   },
   {
    "duration": 19,
    "start_time": "2023-02-08T18:20:33.851Z"
   },
   {
    "duration": 14,
    "start_time": "2023-02-08T18:45:34.744Z"
   },
   {
    "duration": 19,
    "start_time": "2023-02-08T18:45:36.421Z"
   },
   {
    "duration": 1019,
    "start_time": "2023-02-08T18:47:12.995Z"
   },
   {
    "duration": 4,
    "start_time": "2023-02-08T18:49:19.687Z"
   },
   {
    "duration": 260,
    "start_time": "2023-02-08T18:50:33.682Z"
   },
   {
    "duration": 24,
    "start_time": "2023-02-08T18:50:35.455Z"
   },
   {
    "duration": 24,
    "start_time": "2023-02-08T18:50:41.136Z"
   },
   {
    "duration": 9,
    "start_time": "2023-02-08T18:53:02.039Z"
   },
   {
    "duration": 19,
    "start_time": "2023-02-08T18:53:06.226Z"
   },
   {
    "duration": 259,
    "start_time": "2023-02-08T18:53:21.470Z"
   },
   {
    "duration": 21,
    "start_time": "2023-02-08T18:53:22.561Z"
   },
   {
    "duration": 11,
    "start_time": "2023-02-08T18:57:31.440Z"
   },
   {
    "duration": 1151,
    "start_time": "2023-02-08T18:58:02.476Z"
   },
   {
    "duration": 420,
    "start_time": "2023-02-08T18:58:48.416Z"
   },
   {
    "duration": 22,
    "start_time": "2023-02-08T18:58:51.070Z"
   },
   {
    "duration": 35,
    "start_time": "2023-02-08T18:58:57.238Z"
   },
   {
    "duration": 34,
    "start_time": "2023-02-08T19:00:16.443Z"
   },
   {
    "duration": 44,
    "start_time": "2023-02-08T19:01:17.053Z"
   },
   {
    "duration": 42,
    "start_time": "2023-02-08T19:02:47.176Z"
   },
   {
    "duration": 255,
    "start_time": "2023-02-08T19:06:18.130Z"
   },
   {
    "duration": 14,
    "start_time": "2023-02-08T19:06:26.385Z"
   },
   {
    "duration": 39,
    "start_time": "2023-02-08T19:06:34.458Z"
   },
   {
    "duration": 20,
    "start_time": "2023-02-08T19:06:54.646Z"
   },
   {
    "duration": 16,
    "start_time": "2023-02-08T19:07:02.435Z"
   },
   {
    "duration": 79,
    "start_time": "2023-02-10T13:40:27.546Z"
   },
   {
    "duration": 1516,
    "start_time": "2023-02-10T13:40:33.269Z"
   },
   {
    "duration": 14,
    "start_time": "2023-02-10T13:40:34.788Z"
   },
   {
    "duration": 1803,
    "start_time": "2023-02-10T13:40:34.804Z"
   },
   {
    "duration": 13,
    "start_time": "2023-02-10T13:40:36.610Z"
   },
   {
    "duration": 14,
    "start_time": "2023-02-10T13:40:36.624Z"
   },
   {
    "duration": 72,
    "start_time": "2023-02-10T13:40:36.639Z"
   },
   {
    "duration": 2001,
    "start_time": "2023-02-10T13:40:36.713Z"
   },
   {
    "duration": 34,
    "start_time": "2023-02-10T13:40:38.716Z"
   },
   {
    "duration": 19,
    "start_time": "2023-02-10T13:40:38.752Z"
   },
   {
    "duration": 59,
    "start_time": "2023-02-10T13:40:38.775Z"
   },
   {
    "duration": 15,
    "start_time": "2023-02-10T13:40:38.836Z"
   },
   {
    "duration": 21,
    "start_time": "2023-02-10T13:40:38.853Z"
   },
   {
    "duration": 3,
    "start_time": "2023-02-10T13:40:38.876Z"
   },
   {
    "duration": 38,
    "start_time": "2023-02-10T13:40:38.881Z"
   },
   {
    "duration": 196,
    "start_time": "2023-02-10T13:40:38.921Z"
   },
   {
    "duration": 21,
    "start_time": "2023-02-10T13:40:39.118Z"
   },
   {
    "duration": 122,
    "start_time": "2023-02-10T13:40:39.141Z"
   },
   {
    "duration": 138,
    "start_time": "2023-02-10T13:40:39.265Z"
   },
   {
    "duration": 28,
    "start_time": "2023-02-10T13:40:39.410Z"
   },
   {
    "duration": 26,
    "start_time": "2023-02-10T13:40:39.439Z"
   },
   {
    "duration": 21,
    "start_time": "2023-02-10T13:40:39.467Z"
   },
   {
    "duration": 32,
    "start_time": "2023-02-10T13:40:54.835Z"
   },
   {
    "duration": 21,
    "start_time": "2023-02-10T13:43:06.757Z"
   },
   {
    "duration": 32,
    "start_time": "2023-02-10T13:43:11.094Z"
   },
   {
    "duration": 18,
    "start_time": "2023-02-10T13:44:05.084Z"
   },
   {
    "duration": 31,
    "start_time": "2023-02-10T13:44:08.538Z"
   },
   {
    "duration": 277,
    "start_time": "2023-02-10T13:46:02.441Z"
   },
   {
    "duration": 191,
    "start_time": "2023-02-10T13:46:08.689Z"
   },
   {
    "duration": 195,
    "start_time": "2023-02-10T13:46:23.020Z"
   },
   {
    "duration": 115,
    "start_time": "2023-02-10T13:46:57.911Z"
   },
   {
    "duration": 10,
    "start_time": "2023-02-10T13:47:17.929Z"
   },
   {
    "duration": 19,
    "start_time": "2023-02-10T13:47:31.463Z"
   },
   {
    "duration": 11,
    "start_time": "2023-02-10T13:47:43.097Z"
   },
   {
    "duration": 10,
    "start_time": "2023-02-10T13:48:03.915Z"
   },
   {
    "duration": 196,
    "start_time": "2023-02-10T13:48:13.157Z"
   },
   {
    "duration": 13,
    "start_time": "2023-02-10T13:48:53.716Z"
   },
   {
    "duration": 722,
    "start_time": "2023-02-10T13:49:05.392Z"
   },
   {
    "duration": 177,
    "start_time": "2023-02-10T13:52:11.356Z"
   },
   {
    "duration": 667,
    "start_time": "2023-02-10T13:55:20.176Z"
   },
   {
    "duration": 44,
    "start_time": "2023-02-10T13:55:32.999Z"
   },
   {
    "duration": 109,
    "start_time": "2023-02-10T13:55:40.317Z"
   },
   {
    "duration": 13,
    "start_time": "2023-02-10T13:55:40.428Z"
   },
   {
    "duration": 1787,
    "start_time": "2023-02-10T13:55:40.442Z"
   },
   {
    "duration": 11,
    "start_time": "2023-02-10T13:55:42.231Z"
   },
   {
    "duration": 6,
    "start_time": "2023-02-10T13:55:42.245Z"
   },
   {
    "duration": 71,
    "start_time": "2023-02-10T13:55:42.253Z"
   },
   {
    "duration": 2009,
    "start_time": "2023-02-10T13:55:42.326Z"
   },
   {
    "duration": 24,
    "start_time": "2023-02-10T13:55:44.336Z"
   },
   {
    "duration": 37,
    "start_time": "2023-02-10T13:55:44.362Z"
   },
   {
    "duration": 37,
    "start_time": "2023-02-10T13:55:44.400Z"
   },
   {
    "duration": 13,
    "start_time": "2023-02-10T13:55:44.438Z"
   },
   {
    "duration": 18,
    "start_time": "2023-02-10T13:55:44.453Z"
   },
   {
    "duration": 2,
    "start_time": "2023-02-10T13:55:44.473Z"
   },
   {
    "duration": 34,
    "start_time": "2023-02-10T13:55:44.477Z"
   },
   {
    "duration": 191,
    "start_time": "2023-02-10T13:55:44.518Z"
   },
   {
    "duration": 20,
    "start_time": "2023-02-10T13:55:44.711Z"
   },
   {
    "duration": 120,
    "start_time": "2023-02-10T13:55:44.732Z"
   },
   {
    "duration": 109,
    "start_time": "2023-02-10T13:55:44.854Z"
   },
   {
    "duration": 24,
    "start_time": "2023-02-10T13:55:44.964Z"
   },
   {
    "duration": 222,
    "start_time": "2023-02-10T13:55:44.989Z"
   },
   {
    "duration": 0,
    "start_time": "2023-02-10T13:55:45.213Z"
   },
   {
    "duration": 163,
    "start_time": "2023-02-10T13:56:09.183Z"
   },
   {
    "duration": 170,
    "start_time": "2023-02-10T13:57:42.993Z"
   },
   {
    "duration": 91,
    "start_time": "2023-02-10T13:58:09.485Z"
   },
   {
    "duration": 88,
    "start_time": "2023-02-10T13:58:12.856Z"
   },
   {
    "duration": 732,
    "start_time": "2023-02-10T13:59:49.896Z"
   },
   {
    "duration": 118,
    "start_time": "2023-02-10T14:00:03.636Z"
   },
   {
    "duration": 15,
    "start_time": "2023-02-10T14:00:03.756Z"
   },
   {
    "duration": 1990,
    "start_time": "2023-02-10T14:00:03.772Z"
   },
   {
    "duration": 11,
    "start_time": "2023-02-10T14:00:05.764Z"
   },
   {
    "duration": 23,
    "start_time": "2023-02-10T14:00:05.778Z"
   },
   {
    "duration": 54,
    "start_time": "2023-02-10T14:00:05.803Z"
   },
   {
    "duration": 1999,
    "start_time": "2023-02-10T14:00:05.859Z"
   },
   {
    "duration": 25,
    "start_time": "2023-02-10T14:00:07.860Z"
   },
   {
    "duration": 34,
    "start_time": "2023-02-10T14:00:07.887Z"
   },
   {
    "duration": 33,
    "start_time": "2023-02-10T14:00:07.923Z"
   },
   {
    "duration": 15,
    "start_time": "2023-02-10T14:00:07.957Z"
   },
   {
    "duration": 47,
    "start_time": "2023-02-10T14:00:07.973Z"
   },
   {
    "duration": 2,
    "start_time": "2023-02-10T14:00:08.022Z"
   },
   {
    "duration": 25,
    "start_time": "2023-02-10T14:00:08.025Z"
   },
   {
    "duration": 196,
    "start_time": "2023-02-10T14:00:08.051Z"
   },
   {
    "duration": 20,
    "start_time": "2023-02-10T14:00:08.249Z"
   },
   {
    "duration": 117,
    "start_time": "2023-02-10T14:00:08.270Z"
   },
   {
    "duration": 122,
    "start_time": "2023-02-10T14:00:08.388Z"
   },
   {
    "duration": 27,
    "start_time": "2023-02-10T14:00:08.511Z"
   },
   {
    "duration": 1044,
    "start_time": "2023-02-10T14:00:08.540Z"
   },
   {
    "duration": 0,
    "start_time": "2023-02-10T14:00:09.586Z"
   },
   {
    "duration": 426,
    "start_time": "2023-02-10T14:00:21.234Z"
   },
   {
    "duration": 33,
    "start_time": "2023-02-10T14:00:25.824Z"
   },
   {
    "duration": 42,
    "start_time": "2023-02-10T19:33:38.216Z"
   },
   {
    "duration": 7,
    "start_time": "2023-02-10T19:34:17.087Z"
   },
   {
    "duration": 1430,
    "start_time": "2023-02-10T19:35:30.508Z"
   },
   {
    "duration": 14,
    "start_time": "2023-02-10T19:35:31.940Z"
   },
   {
    "duration": 1829,
    "start_time": "2023-02-10T19:35:31.955Z"
   },
   {
    "duration": 8,
    "start_time": "2023-02-10T19:35:33.786Z"
   },
   {
    "duration": 6,
    "start_time": "2023-02-10T19:35:33.796Z"
   },
   {
    "duration": 45,
    "start_time": "2023-02-10T19:35:33.803Z"
   },
   {
    "duration": 1857,
    "start_time": "2023-02-10T19:35:33.850Z"
   },
   {
    "duration": 30,
    "start_time": "2023-02-10T19:35:35.709Z"
   },
   {
    "duration": 17,
    "start_time": "2023-02-10T19:35:35.741Z"
   },
   {
    "duration": 31,
    "start_time": "2023-02-10T19:35:35.760Z"
   },
   {
    "duration": 13,
    "start_time": "2023-02-10T19:35:35.792Z"
   },
   {
    "duration": 39,
    "start_time": "2023-02-10T19:35:35.806Z"
   },
   {
    "duration": 2,
    "start_time": "2023-02-10T19:35:35.847Z"
   },
   {
    "duration": 13,
    "start_time": "2023-02-10T19:35:35.851Z"
   },
   {
    "duration": 177,
    "start_time": "2023-02-10T19:35:35.866Z"
   },
   {
    "duration": 19,
    "start_time": "2023-02-10T19:35:36.044Z"
   },
   {
    "duration": 112,
    "start_time": "2023-02-10T19:35:36.064Z"
   },
   {
    "duration": 103,
    "start_time": "2023-02-10T19:35:36.178Z"
   },
   {
    "duration": 23,
    "start_time": "2023-02-10T19:35:36.282Z"
   },
   {
    "duration": 402,
    "start_time": "2023-02-10T19:35:36.306Z"
   },
   {
    "duration": 41,
    "start_time": "2023-02-10T19:35:36.710Z"
   },
   {
    "duration": 43,
    "start_time": "2023-02-10T19:35:36.752Z"
   },
   {
    "duration": 0,
    "start_time": "2023-02-10T19:35:36.797Z"
   },
   {
    "duration": 0,
    "start_time": "2023-02-10T19:35:36.798Z"
   },
   {
    "duration": 0,
    "start_time": "2023-02-10T19:35:36.799Z"
   },
   {
    "duration": 0,
    "start_time": "2023-02-10T19:35:36.800Z"
   },
   {
    "duration": 2344,
    "start_time": "2023-02-10T19:35:46.361Z"
   },
   {
    "duration": 137,
    "start_time": "2023-02-10T19:36:06.337Z"
   },
   {
    "duration": 9,
    "start_time": "2023-02-10T19:36:07.493Z"
   },
   {
    "duration": 167,
    "start_time": "2023-02-10T19:36:10.212Z"
   },
   {
    "duration": 194,
    "start_time": "2023-02-10T19:36:11.770Z"
   },
   {
    "duration": 50,
    "start_time": "2023-02-10T19:36:41.264Z"
   },
   {
    "duration": 161,
    "start_time": "2023-02-10T19:39:04.310Z"
   },
   {
    "duration": 164,
    "start_time": "2023-02-10T19:39:21.237Z"
   },
   {
    "duration": 176,
    "start_time": "2023-02-10T19:40:09.609Z"
   },
   {
    "duration": 178,
    "start_time": "2023-02-10T19:40:19.578Z"
   },
   {
    "duration": 150,
    "start_time": "2023-02-10T19:40:28.066Z"
   },
   {
    "duration": 6,
    "start_time": "2023-02-10T19:40:49.302Z"
   },
   {
    "duration": 147,
    "start_time": "2023-02-10T19:47:59.757Z"
   },
   {
    "duration": 300,
    "start_time": "2023-02-10T19:51:00.297Z"
   },
   {
    "duration": 161,
    "start_time": "2023-02-10T19:51:15.859Z"
   },
   {
    "duration": 76,
    "start_time": "2023-02-10T20:15:29.969Z"
   },
   {
    "duration": 11,
    "start_time": "2023-02-10T20:15:48.665Z"
   },
   {
    "duration": 36,
    "start_time": "2023-02-10T20:15:51.749Z"
   },
   {
    "duration": 18,
    "start_time": "2023-02-10T20:16:58.385Z"
   },
   {
    "duration": 34,
    "start_time": "2023-02-10T20:17:00.812Z"
   },
   {
    "duration": 23,
    "start_time": "2023-02-10T20:17:32.948Z"
   },
   {
    "duration": 32,
    "start_time": "2023-02-10T20:17:35.058Z"
   },
   {
    "duration": 24,
    "start_time": "2023-02-10T20:18:18.440Z"
   },
   {
    "duration": 34,
    "start_time": "2023-02-10T20:18:20.514Z"
   },
   {
    "duration": 117,
    "start_time": "2023-02-10T20:18:28.292Z"
   },
   {
    "duration": 31,
    "start_time": "2023-02-10T20:18:28.411Z"
   },
   {
    "duration": 1803,
    "start_time": "2023-02-10T20:18:28.444Z"
   },
   {
    "duration": 8,
    "start_time": "2023-02-10T20:18:30.249Z"
   },
   {
    "duration": 17,
    "start_time": "2023-02-10T20:18:30.258Z"
   },
   {
    "duration": 59,
    "start_time": "2023-02-10T20:18:30.276Z"
   },
   {
    "duration": 1990,
    "start_time": "2023-02-10T20:18:30.338Z"
   },
   {
    "duration": 30,
    "start_time": "2023-02-10T20:18:32.329Z"
   },
   {
    "duration": 13,
    "start_time": "2023-02-10T20:18:32.361Z"
   },
   {
    "duration": 32,
    "start_time": "2023-02-10T20:18:32.376Z"
   },
   {
    "duration": 33,
    "start_time": "2023-02-10T20:18:32.409Z"
   },
   {
    "duration": 24,
    "start_time": "2023-02-10T20:18:32.444Z"
   },
   {
    "duration": 3,
    "start_time": "2023-02-10T20:18:32.470Z"
   },
   {
    "duration": 23,
    "start_time": "2023-02-10T20:18:32.475Z"
   },
   {
    "duration": 210,
    "start_time": "2023-02-10T20:18:32.500Z"
   },
   {
    "duration": 17,
    "start_time": "2023-02-10T20:18:32.712Z"
   },
   {
    "duration": 106,
    "start_time": "2023-02-10T20:18:32.737Z"
   },
   {
    "duration": 111,
    "start_time": "2023-02-10T20:18:32.845Z"
   },
   {
    "duration": 26,
    "start_time": "2023-02-10T20:18:32.957Z"
   },
   {
    "duration": 320,
    "start_time": "2023-02-10T20:18:32.984Z"
   },
   {
    "duration": 734,
    "start_time": "2023-02-10T20:18:33.306Z"
   },
   {
    "duration": 0,
    "start_time": "2023-02-10T20:18:34.042Z"
   },
   {
    "duration": 0,
    "start_time": "2023-02-10T20:18:34.043Z"
   },
   {
    "duration": 0,
    "start_time": "2023-02-10T20:18:34.045Z"
   },
   {
    "duration": 0,
    "start_time": "2023-02-10T20:18:34.046Z"
   },
   {
    "duration": 0,
    "start_time": "2023-02-10T20:18:34.047Z"
   },
   {
    "duration": 0,
    "start_time": "2023-02-10T20:18:34.048Z"
   },
   {
    "duration": 0,
    "start_time": "2023-02-10T20:18:34.049Z"
   },
   {
    "duration": 0,
    "start_time": "2023-02-10T20:18:34.050Z"
   },
   {
    "duration": 707,
    "start_time": "2023-02-10T20:19:30.916Z"
   },
   {
    "duration": 662,
    "start_time": "2023-02-10T20:19:41.950Z"
   },
   {
    "duration": 691,
    "start_time": "2023-02-10T20:20:38.482Z"
   },
   {
    "duration": 14,
    "start_time": "2023-02-10T20:20:56.563Z"
   },
   {
    "duration": 16,
    "start_time": "2023-02-10T20:20:58.028Z"
   },
   {
    "duration": 38,
    "start_time": "2023-02-10T20:21:02.868Z"
   },
   {
    "duration": 2444,
    "start_time": "2023-02-10T20:21:18.692Z"
   },
   {
    "duration": 110,
    "start_time": "2023-02-10T20:21:36.297Z"
   },
   {
    "duration": 29,
    "start_time": "2023-02-10T20:21:36.408Z"
   },
   {
    "duration": 1709,
    "start_time": "2023-02-10T20:21:36.438Z"
   },
   {
    "duration": 8,
    "start_time": "2023-02-10T20:21:38.149Z"
   },
   {
    "duration": 8,
    "start_time": "2023-02-10T20:21:38.158Z"
   },
   {
    "duration": 51,
    "start_time": "2023-02-10T20:21:38.167Z"
   },
   {
    "duration": 2025,
    "start_time": "2023-02-10T20:21:38.220Z"
   },
   {
    "duration": 23,
    "start_time": "2023-02-10T20:21:40.247Z"
   },
   {
    "duration": 15,
    "start_time": "2023-02-10T20:21:40.272Z"
   },
   {
    "duration": 30,
    "start_time": "2023-02-10T20:21:40.289Z"
   },
   {
    "duration": 15,
    "start_time": "2023-02-10T20:21:40.337Z"
   },
   {
    "duration": 21,
    "start_time": "2023-02-10T20:21:40.354Z"
   },
   {
    "duration": 2,
    "start_time": "2023-02-10T20:21:40.376Z"
   },
   {
    "duration": 12,
    "start_time": "2023-02-10T20:21:40.380Z"
   },
   {
    "duration": 181,
    "start_time": "2023-02-10T20:21:40.394Z"
   },
   {
    "duration": 18,
    "start_time": "2023-02-10T20:21:40.576Z"
   },
   {
    "duration": 104,
    "start_time": "2023-02-10T20:21:40.595Z"
   },
   {
    "duration": 106,
    "start_time": "2023-02-10T20:21:40.701Z"
   },
   {
    "duration": 36,
    "start_time": "2023-02-10T20:21:40.808Z"
   },
   {
    "duration": 310,
    "start_time": "2023-02-10T20:21:40.845Z"
   },
   {
    "duration": 13,
    "start_time": "2023-02-10T20:21:41.157Z"
   },
   {
    "duration": 35,
    "start_time": "2023-02-10T20:21:41.172Z"
   },
   {
    "duration": 2348,
    "start_time": "2023-02-10T20:21:41.209Z"
   },
   {
    "duration": 141,
    "start_time": "2023-02-10T20:21:43.559Z"
   },
   {
    "duration": 8,
    "start_time": "2023-02-10T20:21:43.702Z"
   },
   {
    "duration": 184,
    "start_time": "2023-02-10T20:21:43.712Z"
   },
   {
    "duration": 200,
    "start_time": "2023-02-10T20:21:43.898Z"
   },
   {
    "duration": 445,
    "start_time": "2023-02-10T20:21:44.100Z"
   },
   {
    "duration": 145,
    "start_time": "2023-02-10T20:21:44.547Z"
   },
   {
    "duration": 81,
    "start_time": "2023-02-11T06:16:34.239Z"
   },
   {
    "duration": 74,
    "start_time": "2023-02-11T06:16:42.693Z"
   },
   {
    "duration": 76,
    "start_time": "2023-02-11T06:16:56.430Z"
   },
   {
    "duration": 67,
    "start_time": "2023-02-11T06:17:06.496Z"
   },
   {
    "duration": 70,
    "start_time": "2023-02-11T06:17:17.760Z"
   },
   {
    "duration": 70,
    "start_time": "2023-02-11T06:18:07.129Z"
   },
   {
    "duration": 100,
    "start_time": "2023-02-11T06:18:32.289Z"
   },
   {
    "duration": 42,
    "start_time": "2023-02-11T06:18:38.831Z"
   },
   {
    "duration": 1659,
    "start_time": "2023-02-11T06:18:47.266Z"
   },
   {
    "duration": 14,
    "start_time": "2023-02-11T06:18:48.928Z"
   },
   {
    "duration": 1825,
    "start_time": "2023-02-11T06:18:48.943Z"
   },
   {
    "duration": 9,
    "start_time": "2023-02-11T06:18:50.770Z"
   },
   {
    "duration": 8,
    "start_time": "2023-02-11T06:18:50.780Z"
   },
   {
    "duration": 73,
    "start_time": "2023-02-11T06:18:50.789Z"
   },
   {
    "duration": 1819,
    "start_time": "2023-02-11T06:18:50.863Z"
   },
   {
    "duration": 24,
    "start_time": "2023-02-11T06:18:52.690Z"
   },
   {
    "duration": 12,
    "start_time": "2023-02-11T06:18:52.715Z"
   },
   {
    "duration": 30,
    "start_time": "2023-02-11T06:18:52.730Z"
   },
   {
    "duration": 32,
    "start_time": "2023-02-11T06:18:52.762Z"
   },
   {
    "duration": 20,
    "start_time": "2023-02-11T06:18:52.796Z"
   },
   {
    "duration": 2,
    "start_time": "2023-02-11T06:18:52.818Z"
   },
   {
    "duration": 13,
    "start_time": "2023-02-11T06:18:52.822Z"
   },
   {
    "duration": 184,
    "start_time": "2023-02-11T06:18:52.837Z"
   },
   {
    "duration": 22,
    "start_time": "2023-02-11T06:18:53.022Z"
   },
   {
    "duration": 110,
    "start_time": "2023-02-11T06:18:53.046Z"
   },
   {
    "duration": 115,
    "start_time": "2023-02-11T06:18:53.157Z"
   },
   {
    "duration": 35,
    "start_time": "2023-02-11T06:18:53.274Z"
   },
   {
    "duration": 405,
    "start_time": "2023-02-11T06:18:53.310Z"
   },
   {
    "duration": 14,
    "start_time": "2023-02-11T06:18:53.717Z"
   },
   {
    "duration": 38,
    "start_time": "2023-02-11T06:18:53.732Z"
   },
   {
    "duration": 2450,
    "start_time": "2023-02-11T06:18:53.771Z"
   },
   {
    "duration": 195,
    "start_time": "2023-02-11T06:18:56.223Z"
   },
   {
    "duration": 11,
    "start_time": "2023-02-11T06:18:56.421Z"
   },
   {
    "duration": 195,
    "start_time": "2023-02-11T06:18:56.434Z"
   },
   {
    "duration": 189,
    "start_time": "2023-02-11T06:18:56.631Z"
   },
   {
    "duration": 165,
    "start_time": "2023-02-11T06:18:56.823Z"
   },
   {
    "duration": 148,
    "start_time": "2023-02-11T06:18:56.990Z"
   },
   {
    "duration": 69,
    "start_time": "2023-02-11T06:18:57.140Z"
   },
   {
    "duration": 1059,
    "start_time": "2023-02-11T06:19:22.858Z"
   },
   {
    "duration": 18,
    "start_time": "2023-02-11T06:19:53.239Z"
   },
   {
    "duration": 15,
    "start_time": "2023-02-11T06:20:27.918Z"
   },
   {
    "duration": 17,
    "start_time": "2023-02-11T06:20:28.922Z"
   },
   {
    "duration": 18,
    "start_time": "2023-02-11T06:20:47.816Z"
   },
   {
    "duration": 1133,
    "start_time": "2023-02-11T06:21:19.187Z"
   },
   {
    "duration": 12,
    "start_time": "2023-02-11T06:47:39.844Z"
   },
   {
    "duration": 8,
    "start_time": "2023-02-11T06:48:13.732Z"
   },
   {
    "duration": 12,
    "start_time": "2023-02-11T06:48:22.383Z"
   },
   {
    "duration": 289,
    "start_time": "2023-02-11T06:48:48.867Z"
   },
   {
    "duration": 2,
    "start_time": "2023-02-11T07:01:28.496Z"
   },
   {
    "duration": 406,
    "start_time": "2023-02-11T07:33:02.305Z"
   },
   {
    "duration": 395,
    "start_time": "2023-02-11T07:33:31.322Z"
   },
   {
    "duration": 1359,
    "start_time": "2023-02-11T07:38:09.904Z"
   },
   {
    "duration": 839,
    "start_time": "2023-02-11T07:39:02.422Z"
   },
   {
    "duration": 562,
    "start_time": "2023-02-11T07:42:21.175Z"
   },
   {
    "duration": 10,
    "start_time": "2023-02-11T07:45:07.668Z"
   },
   {
    "duration": 1213,
    "start_time": "2023-02-11T07:49:47.021Z"
   },
   {
    "duration": 552,
    "start_time": "2023-02-11T07:50:05.984Z"
   },
   {
    "duration": 535,
    "start_time": "2023-02-11T07:54:44.094Z"
   },
   {
    "duration": 588,
    "start_time": "2023-02-11T07:54:52.366Z"
   },
   {
    "duration": 566,
    "start_time": "2023-02-11T07:55:00.166Z"
   },
   {
    "duration": 582,
    "start_time": "2023-02-11T07:55:06.261Z"
   },
   {
    "duration": 525,
    "start_time": "2023-02-11T07:55:12.680Z"
   },
   {
    "duration": 515,
    "start_time": "2023-02-11T07:56:14.463Z"
   },
   {
    "duration": 11,
    "start_time": "2023-02-11T07:57:45.663Z"
   },
   {
    "duration": 326,
    "start_time": "2023-02-11T07:57:54.584Z"
   },
   {
    "duration": 326,
    "start_time": "2023-02-11T07:58:24.728Z"
   },
   {
    "duration": 342,
    "start_time": "2023-02-11T07:59:56.113Z"
   },
   {
    "duration": 370,
    "start_time": "2023-02-11T08:00:00.461Z"
   },
   {
    "duration": 99,
    "start_time": "2023-02-11T09:19:11.087Z"
   },
   {
    "duration": 754,
    "start_time": "2023-02-11T09:19:18.418Z"
   },
   {
    "duration": 632,
    "start_time": "2023-02-11T09:20:03.416Z"
   },
   {
    "duration": 651,
    "start_time": "2023-02-11T09:20:20.222Z"
   },
   {
    "duration": 465,
    "start_time": "2023-02-11T09:22:45.181Z"
   },
   {
    "duration": 484,
    "start_time": "2023-02-11T09:22:50.420Z"
   },
   {
    "duration": 538,
    "start_time": "2023-02-11T09:23:04.860Z"
   },
   {
    "duration": 468,
    "start_time": "2023-02-11T09:23:42.414Z"
   },
   {
    "duration": 509,
    "start_time": "2023-02-11T09:24:04.717Z"
   },
   {
    "duration": 435,
    "start_time": "2023-02-11T09:24:29.435Z"
   },
   {
    "duration": 11,
    "start_time": "2023-02-11T09:38:24.934Z"
   },
   {
    "duration": 32,
    "start_time": "2023-02-11T09:38:57.523Z"
   },
   {
    "duration": 17,
    "start_time": "2023-02-11T09:40:34.024Z"
   },
   {
    "duration": 13,
    "start_time": "2023-02-11T09:40:38.317Z"
   },
   {
    "duration": 13,
    "start_time": "2023-02-11T09:40:42.104Z"
   },
   {
    "duration": 10,
    "start_time": "2023-02-11T09:40:55.752Z"
   },
   {
    "duration": 19,
    "start_time": "2023-02-11T09:41:01.894Z"
   },
   {
    "duration": 17,
    "start_time": "2023-02-11T09:41:49.828Z"
   },
   {
    "duration": 51,
    "start_time": "2023-02-11T09:41:58.314Z"
   },
   {
    "duration": 63,
    "start_time": "2023-02-11T09:42:12.417Z"
   },
   {
    "duration": 11,
    "start_time": "2023-02-11T09:52:31.275Z"
   },
   {
    "duration": 20,
    "start_time": "2023-02-11T09:52:37.046Z"
   },
   {
    "duration": 19,
    "start_time": "2023-02-11T09:52:53.020Z"
   },
   {
    "duration": 23,
    "start_time": "2023-02-11T09:52:59.811Z"
   },
   {
    "duration": 15,
    "start_time": "2023-02-11T09:55:33.813Z"
   },
   {
    "duration": 8,
    "start_time": "2023-02-11T09:55:41.520Z"
   },
   {
    "duration": 24,
    "start_time": "2023-02-11T10:15:21.988Z"
   },
   {
    "duration": 25,
    "start_time": "2023-02-11T10:17:29.278Z"
   },
   {
    "duration": 27,
    "start_time": "2023-02-11T10:17:34.676Z"
   },
   {
    "duration": 29,
    "start_time": "2023-02-11T10:22:18.705Z"
   },
   {
    "duration": 0,
    "start_time": "2023-02-11T10:24:10.814Z"
   },
   {
    "duration": 24,
    "start_time": "2023-02-11T10:24:16.443Z"
   },
   {
    "duration": 26,
    "start_time": "2023-02-11T10:24:29.980Z"
   },
   {
    "duration": 17,
    "start_time": "2023-02-11T10:27:45.192Z"
   },
   {
    "duration": 17,
    "start_time": "2023-02-11T10:27:48.175Z"
   },
   {
    "duration": 23,
    "start_time": "2023-02-11T10:27:58.784Z"
   },
   {
    "duration": 30,
    "start_time": "2023-02-11T10:28:56.424Z"
   },
   {
    "duration": 23,
    "start_time": "2023-02-11T10:29:03.632Z"
   },
   {
    "duration": 70,
    "start_time": "2023-02-11T10:41:51.286Z"
   },
   {
    "duration": 9,
    "start_time": "2023-02-11T10:41:59.980Z"
   },
   {
    "duration": 15,
    "start_time": "2023-02-11T10:44:34.571Z"
   },
   {
    "duration": 16,
    "start_time": "2023-02-11T10:44:39.884Z"
   },
   {
    "duration": 43,
    "start_time": "2023-02-11T10:45:21.385Z"
   },
   {
    "duration": 70,
    "start_time": "2023-02-11T10:48:47.467Z"
   },
   {
    "duration": 220,
    "start_time": "2023-02-11T10:57:00.611Z"
   },
   {
    "duration": 273,
    "start_time": "2023-02-11T10:59:26.313Z"
   },
   {
    "duration": 123,
    "start_time": "2023-02-11T11:00:59.783Z"
   },
   {
    "duration": 1122,
    "start_time": "2023-02-11T11:03:12.812Z"
   },
   {
    "duration": 884,
    "start_time": "2023-02-11T11:03:37.059Z"
   },
   {
    "duration": 1057,
    "start_time": "2023-02-11T11:05:04.507Z"
   },
   {
    "duration": 13,
    "start_time": "2023-02-11T11:09:42.501Z"
   },
   {
    "duration": 17,
    "start_time": "2023-02-11T11:09:47.782Z"
   },
   {
    "duration": 1004,
    "start_time": "2023-02-11T11:11:06.511Z"
   },
   {
    "duration": 124,
    "start_time": "2023-02-11T11:43:53.526Z"
   },
   {
    "duration": 14,
    "start_time": "2023-02-11T11:43:53.652Z"
   },
   {
    "duration": 3123,
    "start_time": "2023-02-11T11:43:53.668Z"
   },
   {
    "duration": 15,
    "start_time": "2023-02-11T11:43:56.795Z"
   },
   {
    "duration": 13,
    "start_time": "2023-02-11T11:43:56.811Z"
   },
   {
    "duration": 49,
    "start_time": "2023-02-11T11:43:56.825Z"
   },
   {
    "duration": 2751,
    "start_time": "2023-02-11T11:43:56.892Z"
   },
   {
    "duration": 27,
    "start_time": "2023-02-11T11:43:59.644Z"
   },
   {
    "duration": 36,
    "start_time": "2023-02-11T11:43:59.673Z"
   },
   {
    "duration": 31,
    "start_time": "2023-02-11T11:43:59.713Z"
   },
   {
    "duration": 14,
    "start_time": "2023-02-11T11:43:59.746Z"
   },
   {
    "duration": 48,
    "start_time": "2023-02-11T11:43:59.761Z"
   },
   {
    "duration": 3,
    "start_time": "2023-02-11T11:43:59.811Z"
   },
   {
    "duration": 22,
    "start_time": "2023-02-11T11:43:59.816Z"
   },
   {
    "duration": 215,
    "start_time": "2023-02-11T11:43:59.840Z"
   },
   {
    "duration": 22,
    "start_time": "2023-02-11T11:44:00.057Z"
   },
   {
    "duration": 143,
    "start_time": "2023-02-11T11:44:00.081Z"
   },
   {
    "duration": 389,
    "start_time": "2023-02-11T11:44:00.225Z"
   },
   {
    "duration": 35,
    "start_time": "2023-02-11T11:44:00.615Z"
   },
   {
    "duration": 340,
    "start_time": "2023-02-11T11:44:00.653Z"
   },
   {
    "duration": 18,
    "start_time": "2023-02-11T11:44:00.995Z"
   },
   {
    "duration": 55,
    "start_time": "2023-02-11T11:44:01.014Z"
   },
   {
    "duration": 3612,
    "start_time": "2023-02-11T11:44:01.070Z"
   },
   {
    "duration": 181,
    "start_time": "2023-02-11T11:44:04.683Z"
   },
   {
    "duration": 9,
    "start_time": "2023-02-11T11:44:04.865Z"
   },
   {
    "duration": 238,
    "start_time": "2023-02-11T11:44:04.875Z"
   },
   {
    "duration": 237,
    "start_time": "2023-02-11T11:44:05.115Z"
   },
   {
    "duration": 216,
    "start_time": "2023-02-11T11:44:05.356Z"
   },
   {
    "duration": 192,
    "start_time": "2023-02-11T11:44:05.573Z"
   },
   {
    "duration": 2192,
    "start_time": "2023-02-11T11:44:05.767Z"
   },
   {
    "duration": 382,
    "start_time": "2023-02-11T11:44:07.960Z"
   },
   {
    "duration": 630,
    "start_time": "2023-02-11T11:44:08.344Z"
   },
   {
    "duration": 449,
    "start_time": "2023-02-11T11:44:08.976Z"
   },
   {
    "duration": 412,
    "start_time": "2023-02-11T11:44:09.427Z"
   },
   {
    "duration": 23,
    "start_time": "2023-02-11T11:44:09.841Z"
   },
   {
    "duration": 1043,
    "start_time": "2023-02-11T11:44:09.865Z"
   },
   {
    "duration": 45,
    "start_time": "2023-02-12T11:51:41.667Z"
   },
   {
    "duration": 1601,
    "start_time": "2023-02-12T11:51:47.703Z"
   },
   {
    "duration": 14,
    "start_time": "2023-02-12T11:51:49.305Z"
   },
   {
    "duration": 1752,
    "start_time": "2023-02-12T11:51:49.320Z"
   },
   {
    "duration": 125,
    "start_time": "2023-02-12T11:51:51.074Z"
   },
   {
    "duration": 8,
    "start_time": "2023-02-12T11:51:51.200Z"
   },
   {
    "duration": 5,
    "start_time": "2023-02-12T11:51:51.210Z"
   },
   {
    "duration": 46,
    "start_time": "2023-02-12T11:51:51.216Z"
   },
   {
    "duration": 1801,
    "start_time": "2023-02-12T11:51:51.263Z"
   },
   {
    "duration": 24,
    "start_time": "2023-02-12T11:51:53.066Z"
   },
   {
    "duration": 20,
    "start_time": "2023-02-12T11:51:53.104Z"
   },
   {
    "duration": 34,
    "start_time": "2023-02-12T11:51:53.125Z"
   },
   {
    "duration": 13,
    "start_time": "2023-02-12T11:51:53.161Z"
   },
   {
    "duration": 38,
    "start_time": "2023-02-12T11:51:53.176Z"
   },
   {
    "duration": 2,
    "start_time": "2023-02-12T11:51:53.216Z"
   },
   {
    "duration": 15,
    "start_time": "2023-02-12T11:51:53.219Z"
   },
   {
    "duration": 162,
    "start_time": "2023-02-12T11:51:53.235Z"
   },
   {
    "duration": 20,
    "start_time": "2023-02-12T11:51:53.399Z"
   },
   {
    "duration": 107,
    "start_time": "2023-02-12T11:51:53.421Z"
   },
   {
    "duration": 105,
    "start_time": "2023-02-12T11:51:53.530Z"
   },
   {
    "duration": 23,
    "start_time": "2023-02-12T11:51:53.637Z"
   },
   {
    "duration": 402,
    "start_time": "2023-02-12T11:51:53.662Z"
   },
   {
    "duration": 13,
    "start_time": "2023-02-12T11:51:54.066Z"
   },
   {
    "duration": 47,
    "start_time": "2023-02-12T11:51:54.081Z"
   },
   {
    "duration": 2507,
    "start_time": "2023-02-12T11:51:54.130Z"
   },
   {
    "duration": 138,
    "start_time": "2023-02-12T11:51:56.639Z"
   },
   {
    "duration": 9,
    "start_time": "2023-02-12T11:51:56.778Z"
   },
   {
    "duration": 174,
    "start_time": "2023-02-12T11:51:56.788Z"
   },
   {
    "duration": 211,
    "start_time": "2023-02-12T11:51:56.965Z"
   },
   {
    "duration": 177,
    "start_time": "2023-02-12T11:51:57.177Z"
   },
   {
    "duration": 149,
    "start_time": "2023-02-12T11:51:57.356Z"
   },
   {
    "duration": 1221,
    "start_time": "2023-02-12T11:51:57.507Z"
   },
   {
    "duration": 281,
    "start_time": "2023-02-12T11:51:58.730Z"
   },
   {
    "duration": 499,
    "start_time": "2023-02-12T11:51:59.013Z"
   },
   {
    "duration": 348,
    "start_time": "2023-02-12T11:51:59.514Z"
   },
   {
    "duration": 366,
    "start_time": "2023-02-12T11:51:59.863Z"
   },
   {
    "duration": 25,
    "start_time": "2023-02-12T11:52:00.231Z"
   },
   {
    "duration": 913,
    "start_time": "2023-02-12T11:52:00.258Z"
   },
   {
    "duration": 59,
    "start_time": "2023-02-12T11:52:19.756Z"
   },
   {
    "duration": 27,
    "start_time": "2023-02-12T11:53:06.893Z"
   },
   {
    "duration": 24,
    "start_time": "2023-02-12T12:11:14.322Z"
   },
   {
    "duration": 38,
    "start_time": "2023-02-12T12:13:49.760Z"
   },
   {
    "duration": 25,
    "start_time": "2023-02-12T12:16:17.489Z"
   },
   {
    "duration": 62,
    "start_time": "2023-02-12T12:18:41.905Z"
   },
   {
    "duration": 8,
    "start_time": "2023-02-12T12:18:48.167Z"
   },
   {
    "duration": 7,
    "start_time": "2023-02-12T12:19:01.926Z"
   },
   {
    "duration": 7,
    "start_time": "2023-02-12T12:20:17.020Z"
   },
   {
    "duration": 5,
    "start_time": "2023-02-12T12:21:19.641Z"
   },
   {
    "duration": 5,
    "start_time": "2023-02-12T12:22:26.863Z"
   },
   {
    "duration": 12,
    "start_time": "2023-02-12T12:22:45.546Z"
   },
   {
    "duration": 9,
    "start_time": "2023-02-12T12:43:26.525Z"
   },
   {
    "duration": 6,
    "start_time": "2023-02-12T12:43:33.086Z"
   },
   {
    "duration": 5,
    "start_time": "2023-02-12T12:46:09.356Z"
   },
   {
    "duration": 5,
    "start_time": "2023-02-12T12:49:02.913Z"
   },
   {
    "duration": 24,
    "start_time": "2023-02-12T12:49:11.405Z"
   },
   {
    "duration": 5,
    "start_time": "2023-02-12T12:49:36.674Z"
   },
   {
    "duration": 55,
    "start_time": "2023-02-12T18:10:24.384Z"
   },
   {
    "duration": 8,
    "start_time": "2023-02-12T18:12:32.935Z"
   },
   {
    "duration": 7,
    "start_time": "2023-02-12T18:13:05.380Z"
   },
   {
    "duration": 8,
    "start_time": "2023-02-12T18:14:25.828Z"
   },
   {
    "duration": 1825,
    "start_time": "2023-02-12T18:14:47.093Z"
   },
   {
    "duration": 15,
    "start_time": "2023-02-12T18:14:48.920Z"
   },
   {
    "duration": 1989,
    "start_time": "2023-02-12T18:14:48.938Z"
   },
   {
    "duration": 26,
    "start_time": "2023-02-12T18:14:50.929Z"
   },
   {
    "duration": 9,
    "start_time": "2023-02-12T18:14:50.957Z"
   },
   {
    "duration": 8,
    "start_time": "2023-02-12T18:14:50.968Z"
   },
   {
    "duration": 63,
    "start_time": "2023-02-12T18:14:50.977Z"
   },
   {
    "duration": 2113,
    "start_time": "2023-02-12T18:14:51.042Z"
   },
   {
    "duration": 27,
    "start_time": "2023-02-12T18:14:53.158Z"
   },
   {
    "duration": 39,
    "start_time": "2023-02-12T18:14:53.189Z"
   },
   {
    "duration": 43,
    "start_time": "2023-02-12T18:14:53.230Z"
   },
   {
    "duration": 15,
    "start_time": "2023-02-12T18:14:53.275Z"
   },
   {
    "duration": 46,
    "start_time": "2023-02-12T18:14:53.292Z"
   },
   {
    "duration": 2,
    "start_time": "2023-02-12T18:14:53.340Z"
   },
   {
    "duration": 29,
    "start_time": "2023-02-12T18:14:53.344Z"
   },
   {
    "duration": 187,
    "start_time": "2023-02-12T18:14:53.375Z"
   },
   {
    "duration": 20,
    "start_time": "2023-02-12T18:14:53.563Z"
   },
   {
    "duration": 132,
    "start_time": "2023-02-12T18:14:53.585Z"
   },
   {
    "duration": 132,
    "start_time": "2023-02-12T18:14:53.719Z"
   },
   {
    "duration": 26,
    "start_time": "2023-02-12T18:14:53.853Z"
   },
   {
    "duration": 485,
    "start_time": "2023-02-12T18:14:53.881Z"
   },
   {
    "duration": 16,
    "start_time": "2023-02-12T18:14:54.367Z"
   },
   {
    "duration": 82,
    "start_time": "2023-02-12T18:14:54.384Z"
   },
   {
    "duration": 2719,
    "start_time": "2023-02-12T18:14:54.468Z"
   },
   {
    "duration": 154,
    "start_time": "2023-02-12T18:14:57.190Z"
   },
   {
    "duration": 11,
    "start_time": "2023-02-12T18:14:57.346Z"
   },
   {
    "duration": 34,
    "start_time": "2023-02-12T18:14:57.359Z"
   },
   {
    "duration": 42,
    "start_time": "2023-02-12T18:14:57.396Z"
   },
   {
    "duration": 6,
    "start_time": "2023-02-12T18:14:57.440Z"
   },
   {
    "duration": 203,
    "start_time": "2023-02-12T18:14:57.447Z"
   },
   {
    "duration": 210,
    "start_time": "2023-02-12T18:14:57.652Z"
   },
   {
    "duration": 202,
    "start_time": "2023-02-12T18:14:57.864Z"
   },
   {
    "duration": 178,
    "start_time": "2023-02-12T18:14:58.068Z"
   },
   {
    "duration": 1228,
    "start_time": "2023-02-12T18:14:58.248Z"
   },
   {
    "duration": 214,
    "start_time": "2023-02-12T18:14:59.478Z"
   },
   {
    "duration": 42,
    "start_time": "2023-02-12T18:14:59.694Z"
   },
   {
    "duration": 412,
    "start_time": "2023-02-12T18:14:59.738Z"
   },
   {
    "duration": 553,
    "start_time": "2023-02-12T18:15:00.152Z"
   },
   {
    "duration": 413,
    "start_time": "2023-02-12T18:15:00.707Z"
   },
   {
    "duration": 409,
    "start_time": "2023-02-12T18:15:01.123Z"
   },
   {
    "duration": 26,
    "start_time": "2023-02-12T18:15:01.536Z"
   },
   {
    "duration": 400,
    "start_time": "2023-02-12T18:15:01.564Z"
   }
  ],
  "kernelspec": {
   "display_name": "Python 3 (ipykernel)",
   "language": "python",
   "name": "python3"
  },
  "language_info": {
   "codemirror_mode": {
    "name": "ipython",
    "version": 3
   },
   "file_extension": ".py",
   "mimetype": "text/x-python",
   "name": "python",
   "nbconvert_exporter": "python",
   "pygments_lexer": "ipython3",
   "version": "3.9.15"
  },
  "toc": {
   "base_numbering": 1,
   "nav_menu": {},
   "number_sections": true,
   "sideBar": true,
   "skip_h1_title": true,
   "title_cell": "Table of Contents",
   "title_sidebar": "Contents",
   "toc_cell": false,
   "toc_position": {},
   "toc_section_display": true,
   "toc_window_display": false
  }
 },
 "nbformat": 4,
 "nbformat_minor": 2
}
