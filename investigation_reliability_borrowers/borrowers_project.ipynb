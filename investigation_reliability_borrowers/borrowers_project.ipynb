{
 "cells": [
  {
   "cell_type": "markdown",
   "id": "898a05e6",
   "metadata": {},
   "source": [
    "**Привет, Кирилл!** 👋\n",
    "\n",
    "Меня зовут Артем Пиляй. Я буду проверять твой проект. В рамках корпоративной этики мы общаемся на «ты». Но если лучше на «Вы», то нужно обозначить это сразу.\n",
    " \n",
    "В тетрадке есть комментарии к проекту, они будут в отдельных ячейках Markdown.\n",
    " \n",
    "<div class=\"alert alert-danger\">\n",
    "\n",
    "**Артём:** ✋ Такой комментарий **нужно исправить** обязательно, он критически влияет на удачное выполнение проекта.\n",
    "\n",
    "</div>\n",
    "\n",
    "<div class=\"alert alert-warning\">\n",
    "\n",
    "**Артём:** 👉 Если таких комментариев в проекте **не больше трех**, то проект будет принят. Но есть два исключения, при которых я приму проект с любым количеством желтых комментариев, красные нужно исправить все:\n",
    "    \n",
    "* если у тебя дедлайн, тогда оставь в начале 👆 проекта комментарий «Дедлайн, специальность (DA/DS/DA+/DS+), и номер когорты»;\n",
    "* если ты считаешь, что для успешного трудоустройства и для успешной работы в команде тебе это не нужно, тогда оставь в начале проекта комментарий «Не нужно».\n",
    "</div>\n",
    "\n",
    "<div class=\"alert alert-success\">\n",
    "\n",
    "**Артём:** 👍 А это **самый главный комментарий**, значит все сделано хорошо. 😉\n",
    "\n",
    "</div>\n",
    "\n",
    "<div class=\"alert alert-info\">\n",
    "\n",
    "**Артём:** ✍️ В таких комментариях я оставляю подсказки как сделать **твой проект ещё лучше**.\n",
    "\n",
    "</div>\n",
    "\n",
    "---\n",
    "\n",
    "**Распространенные ошибки**\n",
    "\n",
    "<div class=\"alert alert-danger\">\n",
    "\n",
    "**Артём:** ✋ Не перемещай и не удаляй мои комментарии. Лучше, чтобы твои ответы на мои комментарии шли по очереди, как сообщения в мессенджере. Это ускорит проверку.\n",
    "    \n",
    "</div>\n",
    "\n",
    "<div class=\"alert alert-danger\">\n",
    "\n",
    "**Артём:** ✋ Проверь проект на работоспособность перед отправкой на проверку. Это важный навык, который тебе пригодится как на собеседовании, при выполнении тестового задания, так и перед совещанием у руководства компании. Помни, ревьеры не вносят изменения в код, даже если это путь к датасету или ячейка в неверном формате (code/mardown).  \n",
    "    \n",
    "</div>\n",
    "\n",
    "<div class=\"alert alert-info\">\n",
    "\n",
    "**Артём:** ✍️ Кстати, смотри как можно сделать, чтобы датасет грузился и локально, и в JupyterHub:\n",
    "\n",
    "```py\n",
    "try:\n",
    "    df = pd.read_csv('C:/Users/Student/Desktop/dataset.csv')\n",
    "except:\n",
    "    df = pd.read_csv('/datasets/dataset.csv')\n",
    "```\n",
    "    \n",
    "Используя эту конструкцию в будущих проектах, ты будешь спокойно отправлять проект на проверку зная, что он будет работать.\n",
    "    \n",
    "</div>\n",
    "\n",
    "<div class=\"alert alert-danger\">\n",
    "\n",
    "**Артём:** ✋ Проект должен быть структурирован. Где названия разделов и подразделов будут записаны в ячейках Markdown.\n",
    "    \n",
    "</div>\n",
    "\n",
    "<div class=\"alert alert-danger\">\n",
    "\n",
    "**Артём:** ✋ Если с твоим проектом будет знакомиться другой человек, например рекрутер или старший дата специалист, в нем должны быть описаны поставленные задачи, содержание датасета, промежуточные и финальные выводы. Как правило, заказчик читает только финальный вывод, поэтому важно добавить информацию о проведенном исследовании, применить форматирование текста, в общем, сделать красиво, чтобы было понятно, что проведено настоящее исследование и выводу можно верить. \n",
    "\n",
    "</div>  \n",
    "\n",
    "<div class=\"alert alert-warning\">\n",
    "    \n",
    "**Артём:** 👉 Длинный код и комментарии нужно переносить на новую строку. Согласись, коллеги не оценят, если им придется тратить время на пролистывание ячеек. Согласно международному стандарту [PEP8](https://www.python.org/dev/peps/pep-0008/) длина строки не должна превышать 79 символов.\n",
    "Вот как можно перенести код на новую строку:\n",
    "\n",
    "```py\n",
    "# Переносить можно код внутри скобки\n",
    "example = (2 *\n",
    "           2)\n",
    "```\n",
    "Конечно, я не считаю сколько символов в строке, главное, чтобы код или комментарий не ушел за пределы ячейки (зависит от разрешения экрана). Если ушел, то это желтый комментарий для каждой нечитаемой ячейки.\n",
    "    \n",
    "</div>\n",
    "\n",
    "<div class=\"alert alert-warning\">\n",
    "    \n",
    "**Артём:** 👉 Тимлид, старший дата специалист или ревьюер ценят твое и своё время, подсвечивай свои комментарии в ячейках Markdown. Шаблон я тебе оставил ниже. Подробнее про синтаксис Markdown, с примерами, можно почитать [здесь](https://paulradzkov.com/2014/markdown_cheatsheet/?).\n",
    "    \n",
    "</div>\n",
    "\n",
    "<div class=\"alert alert-success\">\n",
    "\n",
    "**Артём:** 👍 Буду рад, если воспользуешься моими советами. Они тебе помогут при трудоустройстве и при работе в команде. Если в ходе проведения исследования возникнут вопросы, не стесняйся задавай. 🙂\n",
    "</div>\n",
    "\n",
    "<div class=\"alert alert-info\">\n",
    "\n",
    "**Артём:** 🏁 [Итоги ревью здесь](#results)\n",
    "</div>\n",
    "\n",
    "\n",
    "**Поехали!** 🚀 👨‍🚀\n",
    "<a id=\"start\"></a>"
   ]
  },
  {
   "cell_type": "markdown",
   "id": "4db2ea90",
   "metadata": {},
   "source": [
    "<div style=\"border:solid green 2px; padding: 20px\">\n",
    "\n",
    "**Имя:** Это шаблон для тебя. Такой комментарий можно быстро найти."
   ]
  },
  {
   "cell_type": "markdown",
   "id": "386f2ae7",
   "metadata": {
    "deletable": false,
    "editable": false,
    "id": "386f2ae7"
   },
   "source": [
    "# Исследование надежности заемщиков\n"
   ]
  },
  {
   "cell_type": "markdown",
   "id": "ffe86f65",
   "metadata": {
    "deletable": false,
    "editable": false,
    "id": "ffe86f65"
   },
   "source": [
    "Во второй части проекта вы выполните шаги 3 и 4. Их вручную проверит ревьюер.\n",
    "Чтобы вам не пришлось писать код заново для шагов 1 и 2, мы добавили авторские решения в ячейки с кодом. \n",
    "\n"
   ]
  },
  {
   "cell_type": "markdown",
   "id": "26613308",
   "metadata": {
    "deletable": false,
    "editable": false,
    "id": "26613308"
   },
   "source": [
    "## Откройте таблицу и изучите общую информацию о данных"
   ]
  },
  {
   "cell_type": "markdown",
   "id": "3c9f838e",
   "metadata": {
    "deletable": false,
    "editable": false,
    "id": "3c9f838e"
   },
   "source": [
    "**Задание 1. Импортируйте библиотеку pandas. Считайте данные из csv-файла в датафрейм и сохраните в переменную `data`. Путь к файлу:**\n",
    "\n",
    "`/datasets/data.csv`"
   ]
  },
  {
   "cell_type": "code",
   "execution_count": 34,
   "id": "77a68a90",
   "metadata": {
    "deletable": false,
    "id": "77a68a90"
   },
   "outputs": [],
   "source": [
    "import pandas as pd\n",
    "import seaborn as sns\n",
    "\n",
    "try:\n",
    "    data = pd.read_csv('/datasets/data.csv')\n",
    "except:\n",
    "    data = pd.read_csv('https://code.s3.yandex.net/datasets/data.csv')"
   ]
  },
  {
   "cell_type": "markdown",
   "id": "45365635",
   "metadata": {
    "deletable": false,
    "editable": false,
    "id": "45365635"
   },
   "source": [
    "**Задание 2. Выведите первые 20 строчек датафрейма `data` на экран.**"
   ]
  },
  {
   "cell_type": "code",
   "execution_count": 35,
   "id": "b0451a9a",
   "metadata": {
    "deletable": false,
    "id": "b0451a9a",
    "outputId": "1a8f3ef2-d323-4ec2-ddf7-89670b5944c4"
   },
   "outputs": [
    {
     "data": {
      "text/html": [
       "<div>\n",
       "<style scoped>\n",
       "    .dataframe tbody tr th:only-of-type {\n",
       "        vertical-align: middle;\n",
       "    }\n",
       "\n",
       "    .dataframe tbody tr th {\n",
       "        vertical-align: top;\n",
       "    }\n",
       "\n",
       "    .dataframe thead th {\n",
       "        text-align: right;\n",
       "    }\n",
       "</style>\n",
       "<table border=\"1\" class=\"dataframe\">\n",
       "  <thead>\n",
       "    <tr style=\"text-align: right;\">\n",
       "      <th></th>\n",
       "      <th>children</th>\n",
       "      <th>days_employed</th>\n",
       "      <th>dob_years</th>\n",
       "      <th>education</th>\n",
       "      <th>education_id</th>\n",
       "      <th>family_status</th>\n",
       "      <th>family_status_id</th>\n",
       "      <th>gender</th>\n",
       "      <th>income_type</th>\n",
       "      <th>debt</th>\n",
       "      <th>total_income</th>\n",
       "      <th>purpose</th>\n",
       "    </tr>\n",
       "  </thead>\n",
       "  <tbody>\n",
       "    <tr>\n",
       "      <th>0</th>\n",
       "      <td>1</td>\n",
       "      <td>-8437.673028</td>\n",
       "      <td>42</td>\n",
       "      <td>высшее</td>\n",
       "      <td>0</td>\n",
       "      <td>женат / замужем</td>\n",
       "      <td>0</td>\n",
       "      <td>F</td>\n",
       "      <td>сотрудник</td>\n",
       "      <td>0</td>\n",
       "      <td>253875.639453</td>\n",
       "      <td>покупка жилья</td>\n",
       "    </tr>\n",
       "    <tr>\n",
       "      <th>1</th>\n",
       "      <td>1</td>\n",
       "      <td>-4024.803754</td>\n",
       "      <td>36</td>\n",
       "      <td>среднее</td>\n",
       "      <td>1</td>\n",
       "      <td>женат / замужем</td>\n",
       "      <td>0</td>\n",
       "      <td>F</td>\n",
       "      <td>сотрудник</td>\n",
       "      <td>0</td>\n",
       "      <td>112080.014102</td>\n",
       "      <td>приобретение автомобиля</td>\n",
       "    </tr>\n",
       "    <tr>\n",
       "      <th>2</th>\n",
       "      <td>0</td>\n",
       "      <td>-5623.422610</td>\n",
       "      <td>33</td>\n",
       "      <td>Среднее</td>\n",
       "      <td>1</td>\n",
       "      <td>женат / замужем</td>\n",
       "      <td>0</td>\n",
       "      <td>M</td>\n",
       "      <td>сотрудник</td>\n",
       "      <td>0</td>\n",
       "      <td>145885.952297</td>\n",
       "      <td>покупка жилья</td>\n",
       "    </tr>\n",
       "    <tr>\n",
       "      <th>3</th>\n",
       "      <td>3</td>\n",
       "      <td>-4124.747207</td>\n",
       "      <td>32</td>\n",
       "      <td>среднее</td>\n",
       "      <td>1</td>\n",
       "      <td>женат / замужем</td>\n",
       "      <td>0</td>\n",
       "      <td>M</td>\n",
       "      <td>сотрудник</td>\n",
       "      <td>0</td>\n",
       "      <td>267628.550329</td>\n",
       "      <td>дополнительное образование</td>\n",
       "    </tr>\n",
       "    <tr>\n",
       "      <th>4</th>\n",
       "      <td>0</td>\n",
       "      <td>340266.072047</td>\n",
       "      <td>53</td>\n",
       "      <td>среднее</td>\n",
       "      <td>1</td>\n",
       "      <td>гражданский брак</td>\n",
       "      <td>1</td>\n",
       "      <td>F</td>\n",
       "      <td>пенсионер</td>\n",
       "      <td>0</td>\n",
       "      <td>158616.077870</td>\n",
       "      <td>сыграть свадьбу</td>\n",
       "    </tr>\n",
       "    <tr>\n",
       "      <th>5</th>\n",
       "      <td>0</td>\n",
       "      <td>-926.185831</td>\n",
       "      <td>27</td>\n",
       "      <td>высшее</td>\n",
       "      <td>0</td>\n",
       "      <td>гражданский брак</td>\n",
       "      <td>1</td>\n",
       "      <td>M</td>\n",
       "      <td>компаньон</td>\n",
       "      <td>0</td>\n",
       "      <td>255763.565419</td>\n",
       "      <td>покупка жилья</td>\n",
       "    </tr>\n",
       "    <tr>\n",
       "      <th>6</th>\n",
       "      <td>0</td>\n",
       "      <td>-2879.202052</td>\n",
       "      <td>43</td>\n",
       "      <td>высшее</td>\n",
       "      <td>0</td>\n",
       "      <td>женат / замужем</td>\n",
       "      <td>0</td>\n",
       "      <td>F</td>\n",
       "      <td>компаньон</td>\n",
       "      <td>0</td>\n",
       "      <td>240525.971920</td>\n",
       "      <td>операции с жильем</td>\n",
       "    </tr>\n",
       "    <tr>\n",
       "      <th>7</th>\n",
       "      <td>0</td>\n",
       "      <td>-152.779569</td>\n",
       "      <td>50</td>\n",
       "      <td>СРЕДНЕЕ</td>\n",
       "      <td>1</td>\n",
       "      <td>женат / замужем</td>\n",
       "      <td>0</td>\n",
       "      <td>M</td>\n",
       "      <td>сотрудник</td>\n",
       "      <td>0</td>\n",
       "      <td>135823.934197</td>\n",
       "      <td>образование</td>\n",
       "    </tr>\n",
       "    <tr>\n",
       "      <th>8</th>\n",
       "      <td>2</td>\n",
       "      <td>-6929.865299</td>\n",
       "      <td>35</td>\n",
       "      <td>ВЫСШЕЕ</td>\n",
       "      <td>0</td>\n",
       "      <td>гражданский брак</td>\n",
       "      <td>1</td>\n",
       "      <td>F</td>\n",
       "      <td>сотрудник</td>\n",
       "      <td>0</td>\n",
       "      <td>95856.832424</td>\n",
       "      <td>на проведение свадьбы</td>\n",
       "    </tr>\n",
       "    <tr>\n",
       "      <th>9</th>\n",
       "      <td>0</td>\n",
       "      <td>-2188.756445</td>\n",
       "      <td>41</td>\n",
       "      <td>среднее</td>\n",
       "      <td>1</td>\n",
       "      <td>женат / замужем</td>\n",
       "      <td>0</td>\n",
       "      <td>M</td>\n",
       "      <td>сотрудник</td>\n",
       "      <td>0</td>\n",
       "      <td>144425.938277</td>\n",
       "      <td>покупка жилья для семьи</td>\n",
       "    </tr>\n",
       "    <tr>\n",
       "      <th>10</th>\n",
       "      <td>2</td>\n",
       "      <td>-4171.483647</td>\n",
       "      <td>36</td>\n",
       "      <td>высшее</td>\n",
       "      <td>0</td>\n",
       "      <td>женат / замужем</td>\n",
       "      <td>0</td>\n",
       "      <td>M</td>\n",
       "      <td>компаньон</td>\n",
       "      <td>0</td>\n",
       "      <td>113943.491460</td>\n",
       "      <td>покупка недвижимости</td>\n",
       "    </tr>\n",
       "    <tr>\n",
       "      <th>11</th>\n",
       "      <td>0</td>\n",
       "      <td>-792.701887</td>\n",
       "      <td>40</td>\n",
       "      <td>среднее</td>\n",
       "      <td>1</td>\n",
       "      <td>женат / замужем</td>\n",
       "      <td>0</td>\n",
       "      <td>F</td>\n",
       "      <td>сотрудник</td>\n",
       "      <td>0</td>\n",
       "      <td>77069.234271</td>\n",
       "      <td>покупка коммерческой недвижимости</td>\n",
       "    </tr>\n",
       "    <tr>\n",
       "      <th>12</th>\n",
       "      <td>0</td>\n",
       "      <td>NaN</td>\n",
       "      <td>65</td>\n",
       "      <td>среднее</td>\n",
       "      <td>1</td>\n",
       "      <td>гражданский брак</td>\n",
       "      <td>1</td>\n",
       "      <td>M</td>\n",
       "      <td>пенсионер</td>\n",
       "      <td>0</td>\n",
       "      <td>NaN</td>\n",
       "      <td>сыграть свадьбу</td>\n",
       "    </tr>\n",
       "    <tr>\n",
       "      <th>13</th>\n",
       "      <td>0</td>\n",
       "      <td>-1846.641941</td>\n",
       "      <td>54</td>\n",
       "      <td>неоконченное высшее</td>\n",
       "      <td>2</td>\n",
       "      <td>женат / замужем</td>\n",
       "      <td>0</td>\n",
       "      <td>F</td>\n",
       "      <td>сотрудник</td>\n",
       "      <td>0</td>\n",
       "      <td>130458.228857</td>\n",
       "      <td>приобретение автомобиля</td>\n",
       "    </tr>\n",
       "    <tr>\n",
       "      <th>14</th>\n",
       "      <td>0</td>\n",
       "      <td>-1844.956182</td>\n",
       "      <td>56</td>\n",
       "      <td>высшее</td>\n",
       "      <td>0</td>\n",
       "      <td>гражданский брак</td>\n",
       "      <td>1</td>\n",
       "      <td>F</td>\n",
       "      <td>компаньон</td>\n",
       "      <td>1</td>\n",
       "      <td>165127.911772</td>\n",
       "      <td>покупка жилой недвижимости</td>\n",
       "    </tr>\n",
       "    <tr>\n",
       "      <th>15</th>\n",
       "      <td>1</td>\n",
       "      <td>-972.364419</td>\n",
       "      <td>26</td>\n",
       "      <td>среднее</td>\n",
       "      <td>1</td>\n",
       "      <td>женат / замужем</td>\n",
       "      <td>0</td>\n",
       "      <td>F</td>\n",
       "      <td>сотрудник</td>\n",
       "      <td>0</td>\n",
       "      <td>116820.904450</td>\n",
       "      <td>строительство собственной недвижимости</td>\n",
       "    </tr>\n",
       "    <tr>\n",
       "      <th>16</th>\n",
       "      <td>0</td>\n",
       "      <td>-1719.934226</td>\n",
       "      <td>35</td>\n",
       "      <td>среднее</td>\n",
       "      <td>1</td>\n",
       "      <td>женат / замужем</td>\n",
       "      <td>0</td>\n",
       "      <td>F</td>\n",
       "      <td>сотрудник</td>\n",
       "      <td>0</td>\n",
       "      <td>289202.704229</td>\n",
       "      <td>недвижимость</td>\n",
       "    </tr>\n",
       "    <tr>\n",
       "      <th>17</th>\n",
       "      <td>0</td>\n",
       "      <td>-2369.999720</td>\n",
       "      <td>33</td>\n",
       "      <td>высшее</td>\n",
       "      <td>0</td>\n",
       "      <td>гражданский брак</td>\n",
       "      <td>1</td>\n",
       "      <td>M</td>\n",
       "      <td>сотрудник</td>\n",
       "      <td>0</td>\n",
       "      <td>90410.586745</td>\n",
       "      <td>строительство недвижимости</td>\n",
       "    </tr>\n",
       "    <tr>\n",
       "      <th>18</th>\n",
       "      <td>0</td>\n",
       "      <td>400281.136913</td>\n",
       "      <td>53</td>\n",
       "      <td>среднее</td>\n",
       "      <td>1</td>\n",
       "      <td>вдовец / вдова</td>\n",
       "      <td>2</td>\n",
       "      <td>F</td>\n",
       "      <td>пенсионер</td>\n",
       "      <td>0</td>\n",
       "      <td>56823.777243</td>\n",
       "      <td>на покупку подержанного автомобиля</td>\n",
       "    </tr>\n",
       "    <tr>\n",
       "      <th>19</th>\n",
       "      <td>0</td>\n",
       "      <td>-10038.818549</td>\n",
       "      <td>48</td>\n",
       "      <td>СРЕДНЕЕ</td>\n",
       "      <td>1</td>\n",
       "      <td>в разводе</td>\n",
       "      <td>3</td>\n",
       "      <td>F</td>\n",
       "      <td>сотрудник</td>\n",
       "      <td>0</td>\n",
       "      <td>242831.107982</td>\n",
       "      <td>на покупку своего автомобиля</td>\n",
       "    </tr>\n",
       "  </tbody>\n",
       "</table>\n",
       "</div>"
      ],
      "text/plain": [
       "    children  days_employed  dob_years            education  education_id  \\\n",
       "0          1   -8437.673028         42               высшее             0   \n",
       "1          1   -4024.803754         36              среднее             1   \n",
       "2          0   -5623.422610         33              Среднее             1   \n",
       "3          3   -4124.747207         32              среднее             1   \n",
       "4          0  340266.072047         53              среднее             1   \n",
       "5          0    -926.185831         27               высшее             0   \n",
       "6          0   -2879.202052         43               высшее             0   \n",
       "7          0    -152.779569         50              СРЕДНЕЕ             1   \n",
       "8          2   -6929.865299         35               ВЫСШЕЕ             0   \n",
       "9          0   -2188.756445         41              среднее             1   \n",
       "10         2   -4171.483647         36               высшее             0   \n",
       "11         0    -792.701887         40              среднее             1   \n",
       "12         0            NaN         65              среднее             1   \n",
       "13         0   -1846.641941         54  неоконченное высшее             2   \n",
       "14         0   -1844.956182         56               высшее             0   \n",
       "15         1    -972.364419         26              среднее             1   \n",
       "16         0   -1719.934226         35              среднее             1   \n",
       "17         0   -2369.999720         33               высшее             0   \n",
       "18         0  400281.136913         53              среднее             1   \n",
       "19         0  -10038.818549         48              СРЕДНЕЕ             1   \n",
       "\n",
       "       family_status  family_status_id gender income_type  debt  \\\n",
       "0    женат / замужем                 0      F   сотрудник     0   \n",
       "1    женат / замужем                 0      F   сотрудник     0   \n",
       "2    женат / замужем                 0      M   сотрудник     0   \n",
       "3    женат / замужем                 0      M   сотрудник     0   \n",
       "4   гражданский брак                 1      F   пенсионер     0   \n",
       "5   гражданский брак                 1      M   компаньон     0   \n",
       "6    женат / замужем                 0      F   компаньон     0   \n",
       "7    женат / замужем                 0      M   сотрудник     0   \n",
       "8   гражданский брак                 1      F   сотрудник     0   \n",
       "9    женат / замужем                 0      M   сотрудник     0   \n",
       "10   женат / замужем                 0      M   компаньон     0   \n",
       "11   женат / замужем                 0      F   сотрудник     0   \n",
       "12  гражданский брак                 1      M   пенсионер     0   \n",
       "13   женат / замужем                 0      F   сотрудник     0   \n",
       "14  гражданский брак                 1      F   компаньон     1   \n",
       "15   женат / замужем                 0      F   сотрудник     0   \n",
       "16   женат / замужем                 0      F   сотрудник     0   \n",
       "17  гражданский брак                 1      M   сотрудник     0   \n",
       "18    вдовец / вдова                 2      F   пенсионер     0   \n",
       "19         в разводе                 3      F   сотрудник     0   \n",
       "\n",
       "     total_income                                 purpose  \n",
       "0   253875.639453                           покупка жилья  \n",
       "1   112080.014102                 приобретение автомобиля  \n",
       "2   145885.952297                           покупка жилья  \n",
       "3   267628.550329              дополнительное образование  \n",
       "4   158616.077870                         сыграть свадьбу  \n",
       "5   255763.565419                           покупка жилья  \n",
       "6   240525.971920                       операции с жильем  \n",
       "7   135823.934197                             образование  \n",
       "8    95856.832424                   на проведение свадьбы  \n",
       "9   144425.938277                 покупка жилья для семьи  \n",
       "10  113943.491460                    покупка недвижимости  \n",
       "11   77069.234271       покупка коммерческой недвижимости  \n",
       "12            NaN                         сыграть свадьбу  \n",
       "13  130458.228857                 приобретение автомобиля  \n",
       "14  165127.911772              покупка жилой недвижимости  \n",
       "15  116820.904450  строительство собственной недвижимости  \n",
       "16  289202.704229                            недвижимость  \n",
       "17   90410.586745              строительство недвижимости  \n",
       "18   56823.777243      на покупку подержанного автомобиля  \n",
       "19  242831.107982            на покупку своего автомобиля  "
      ]
     },
     "execution_count": 35,
     "metadata": {},
     "output_type": "execute_result"
    }
   ],
   "source": [
    "data.head(20)"
   ]
  },
  {
   "cell_type": "markdown",
   "id": "0ed8f27f",
   "metadata": {
    "deletable": false,
    "editable": false,
    "id": "0ed8f27f"
   },
   "source": [
    "**Задание 3. Выведите основную информацию о датафрейме с помощью метода `info()`.**"
   ]
  },
  {
   "cell_type": "code",
   "execution_count": 36,
   "id": "ab3f863b",
   "metadata": {
    "deletable": false,
    "id": "ab3f863b",
    "outputId": "15376089-8dad-46c9-b520-c05248d43158"
   },
   "outputs": [
    {
     "name": "stdout",
     "output_type": "stream",
     "text": [
      "<class 'pandas.core.frame.DataFrame'>\n",
      "RangeIndex: 21525 entries, 0 to 21524\n",
      "Data columns (total 12 columns):\n",
      " #   Column            Non-Null Count  Dtype  \n",
      "---  ------            --------------  -----  \n",
      " 0   children          21525 non-null  int64  \n",
      " 1   days_employed     19351 non-null  float64\n",
      " 2   dob_years         21525 non-null  int64  \n",
      " 3   education         21525 non-null  object \n",
      " 4   education_id      21525 non-null  int64  \n",
      " 5   family_status     21525 non-null  object \n",
      " 6   family_status_id  21525 non-null  int64  \n",
      " 7   gender            21525 non-null  object \n",
      " 8   income_type       21525 non-null  object \n",
      " 9   debt              21525 non-null  int64  \n",
      " 10  total_income      19351 non-null  float64\n",
      " 11  purpose           21525 non-null  object \n",
      "dtypes: float64(2), int64(5), object(5)\n",
      "memory usage: 2.0+ MB\n"
     ]
    }
   ],
   "source": [
    "data.info()"
   ]
  },
  {
   "cell_type": "markdown",
   "id": "60e3e22d",
   "metadata": {
    "deletable": false,
    "editable": false,
    "id": "60e3e22d"
   },
   "source": [
    "## Предобработка данных"
   ]
  },
  {
   "cell_type": "markdown",
   "id": "03dc170c",
   "metadata": {
    "deletable": false,
    "editable": false,
    "id": "03dc170c"
   },
   "source": [
    "### Удаление пропусков"
   ]
  },
  {
   "cell_type": "markdown",
   "id": "a4f54eef",
   "metadata": {
    "deletable": false,
    "editable": false,
    "id": "a4f54eef"
   },
   "source": [
    "**Задание 4. Выведите количество пропущенных значений для каждого столбца. Используйте комбинацию двух методов.**"
   ]
  },
  {
   "cell_type": "code",
   "execution_count": 37,
   "id": "2dc372b2",
   "metadata": {
    "deletable": false,
    "id": "2dc372b2",
    "outputId": "81f4d817-781c-465c-ed15-91ce4446810d"
   },
   "outputs": [
    {
     "data": {
      "text/plain": [
       "children               0\n",
       "days_employed       2174\n",
       "dob_years              0\n",
       "education              0\n",
       "education_id           0\n",
       "family_status          0\n",
       "family_status_id       0\n",
       "gender                 0\n",
       "income_type            0\n",
       "debt                   0\n",
       "total_income        2174\n",
       "purpose                0\n",
       "dtype: int64"
      ]
     },
     "execution_count": 37,
     "metadata": {},
     "output_type": "execute_result"
    }
   ],
   "source": [
    "data.isna().sum()"
   ]
  },
  {
   "cell_type": "markdown",
   "id": "14f011b1",
   "metadata": {
    "deletable": false,
    "editable": false,
    "id": "14f011b1"
   },
   "source": [
    "**Задание 5. В двух столбцах есть пропущенные значения. Один из них — `days_employed`. Пропуски в этом столбце вы обработаете на следующем этапе. Другой столбец с пропущенными значениями — `total_income` — хранит данные о доходах. На сумму дохода сильнее всего влияет тип занятости, поэтому заполнить пропуски в этом столбце нужно медианным значением по каждому типу из столбца `income_type`. Например, у человека с типом занятости `сотрудник` пропуск в столбце `total_income` должен быть заполнен медианным доходом среди всех записей с тем же типом.**"
   ]
  },
  {
   "cell_type": "code",
   "execution_count": 38,
   "id": "bdabfb6e",
   "metadata": {
    "deletable": false,
    "id": "bdabfb6e"
   },
   "outputs": [],
   "source": [
    "for t in data['income_type'].unique():\n",
    "    data.loc[(data['income_type'] == t) & (data['total_income'].isna()), 'total_income'] = \\\n",
    "    data.loc[(data['income_type'] == t), 'total_income'].median()"
   ]
  },
  {
   "cell_type": "markdown",
   "id": "5be34059",
   "metadata": {
    "deletable": false,
    "editable": false,
    "id": "5be34059"
   },
   "source": [
    "### Обработка аномальных значений"
   ]
  },
  {
   "cell_type": "markdown",
   "id": "a87606cb",
   "metadata": {
    "deletable": false,
    "editable": false,
    "id": "a87606cb"
   },
   "source": [
    "**Задание 6. В данных могут встречаться артефакты (аномалии) — значения, которые не отражают действительность и появились по какой-то ошибке. таким артефактом будет отрицательное количество дней трудового стажа в столбце `days_employed`. Для реальных данных это нормально. Обработайте значения в этом столбце: замените все отрицательные значения положительными с помощью метода `abs()`.**"
   ]
  },
  {
   "cell_type": "code",
   "execution_count": 39,
   "id": "020c46cc",
   "metadata": {
    "deletable": false,
    "id": "020c46cc"
   },
   "outputs": [],
   "source": [
    "data['days_employed'] = data['days_employed'].abs()"
   ]
  },
  {
   "cell_type": "markdown",
   "id": "45538a3a",
   "metadata": {
    "deletable": false,
    "editable": false,
    "id": "45538a3a"
   },
   "source": [
    "**Задание 7. Для каждого типа занятости выведите медианное значение трудового стажа `days_employed` в днях.**"
   ]
  },
  {
   "cell_type": "code",
   "execution_count": 40,
   "id": "cd3e6328",
   "metadata": {
    "deletable": false,
    "id": "cd3e6328",
    "outputId": "801ef80e-522b-4668-f34e-565af7432bcf"
   },
   "outputs": [
    {
     "data": {
      "text/plain": [
       "income_type\n",
       "безработный        366413.652744\n",
       "в декрете            3296.759962\n",
       "госслужащий          2689.368353\n",
       "компаньон            1547.382223\n",
       "пенсионер          365213.306266\n",
       "предприниматель       520.848083\n",
       "сотрудник            1574.202821\n",
       "студент               578.751554\n",
       "Name: days_employed, dtype: float64"
      ]
     },
     "execution_count": 40,
     "metadata": {},
     "output_type": "execute_result"
    }
   ],
   "source": [
    "data.groupby('income_type')['days_employed'].agg('median')"
   ]
  },
  {
   "cell_type": "markdown",
   "id": "90c5f058",
   "metadata": {
    "deletable": false,
    "editable": false,
    "id": "90c5f058"
   },
   "source": [
    "У двух типов (безработные и пенсионеры) получатся аномально большие значения. Исправить такие значения сложно, поэтому оставьте их как есть."
   ]
  },
  {
   "cell_type": "markdown",
   "id": "9652e50d",
   "metadata": {
    "deletable": false,
    "editable": false,
    "id": "9652e50d"
   },
   "source": [
    "**Задание 8. Выведите перечень уникальных значений столбца `children`.**"
   ]
  },
  {
   "cell_type": "code",
   "execution_count": 41,
   "id": "dbb37b8e",
   "metadata": {
    "deletable": false,
    "id": "dbb37b8e",
    "outputId": "6975b15c-7f95-4697-d16d-a0c79b657b03"
   },
   "outputs": [
    {
     "data": {
      "text/plain": [
       "array([ 1,  0,  3,  2, -1,  4, 20,  5])"
      ]
     },
     "execution_count": 41,
     "metadata": {},
     "output_type": "execute_result"
    }
   ],
   "source": [
    "data['children'].unique()"
   ]
  },
  {
   "cell_type": "markdown",
   "id": "2b8b0715",
   "metadata": {
    "deletable": false,
    "editable": false,
    "id": "2b8b0715"
   },
   "source": [
    "**Задание 9. В столбце `children` есть два аномальных значения. Удалите строки, в которых встречаются такие аномальные значения из датафрейма `data`.**"
   ]
  },
  {
   "cell_type": "code",
   "execution_count": 42,
   "id": "20009df8",
   "metadata": {
    "deletable": false,
    "id": "20009df8"
   },
   "outputs": [],
   "source": [
    "data = data[(data['children'] != -1) & (data['children'] != 20)]"
   ]
  },
  {
   "cell_type": "markdown",
   "id": "8c6ac9f1",
   "metadata": {
    "deletable": false,
    "editable": false,
    "id": "8c6ac9f1"
   },
   "source": [
    "**Задание 10. Ещё раз выведите перечень уникальных значений столбца `children`, чтобы убедиться, что артефакты удалены.**"
   ]
  },
  {
   "cell_type": "code",
   "execution_count": 43,
   "id": "07337b81",
   "metadata": {
    "deletable": false,
    "id": "07337b81",
    "outputId": "b2097101-d49d-44d9-901b-32a65c9463d1"
   },
   "outputs": [
    {
     "data": {
      "text/plain": [
       "array([1, 0, 3, 2, 4, 5])"
      ]
     },
     "execution_count": 43,
     "metadata": {},
     "output_type": "execute_result"
    }
   ],
   "source": [
    "data['children'].unique()"
   ]
  },
  {
   "cell_type": "markdown",
   "id": "ee3f52d4",
   "metadata": {
    "deletable": false,
    "editable": false,
    "id": "ee3f52d4"
   },
   "source": [
    "### Удаление пропусков (продолжение)"
   ]
  },
  {
   "cell_type": "markdown",
   "id": "a700b0e4",
   "metadata": {
    "deletable": false,
    "editable": false,
    "id": "a700b0e4"
   },
   "source": [
    "**Задание 11. Заполните пропуски в столбце `days_employed` медианными значениями по каждого типа занятости `income_type`.**"
   ]
  },
  {
   "cell_type": "code",
   "execution_count": 44,
   "id": "61946b83",
   "metadata": {
    "deletable": false,
    "id": "61946b83"
   },
   "outputs": [],
   "source": [
    "for t in data['income_type'].unique():\n",
    "    data.loc[(data['income_type'] == t) & (data['days_employed'].isna()), 'days_employed'] = \\\n",
    "    data.loc[(data['income_type'] == t), 'days_employed'].median()"
   ]
  },
  {
   "cell_type": "markdown",
   "id": "550dcd9b",
   "metadata": {
    "deletable": false,
    "editable": false,
    "id": "550dcd9b"
   },
   "source": [
    "**Задание 12. Убедитесь, что все пропуски заполнены. Проверьте себя и ещё раз выведите количество пропущенных значений для каждого столбца с помощью двух методов.**"
   ]
  },
  {
   "cell_type": "code",
   "execution_count": 45,
   "id": "937c7014",
   "metadata": {
    "deletable": false,
    "id": "937c7014",
    "outputId": "8da1e4e1-358e-4e87-98c9-f261bce0a7b2"
   },
   "outputs": [
    {
     "data": {
      "text/plain": [
       "children            0\n",
       "days_employed       0\n",
       "dob_years           0\n",
       "education           0\n",
       "education_id        0\n",
       "family_status       0\n",
       "family_status_id    0\n",
       "gender              0\n",
       "income_type         0\n",
       "debt                0\n",
       "total_income        0\n",
       "purpose             0\n",
       "dtype: int64"
      ]
     },
     "execution_count": 45,
     "metadata": {},
     "output_type": "execute_result"
    }
   ],
   "source": [
    "data.isna().sum()"
   ]
  },
  {
   "cell_type": "markdown",
   "id": "d522e295",
   "metadata": {
    "deletable": false,
    "editable": false,
    "id": "d522e295"
   },
   "source": [
    "### Изменение типов данных"
   ]
  },
  {
   "cell_type": "markdown",
   "id": "c229c581",
   "metadata": {
    "deletable": false,
    "editable": false,
    "id": "c229c581"
   },
   "source": [
    "**Задание 13. Замените вещественный тип данных в столбце `total_income` на целочисленный с помощью метода `astype()`.**"
   ]
  },
  {
   "cell_type": "code",
   "execution_count": 46,
   "id": "31036462",
   "metadata": {
    "deletable": false,
    "id": "31036462"
   },
   "outputs": [],
   "source": [
    "data['total_income'] = data['total_income'].astype(int)"
   ]
  },
  {
   "cell_type": "markdown",
   "id": "b8e3d1d9",
   "metadata": {
    "deletable": false,
    "editable": false,
    "id": "b8e3d1d9"
   },
   "source": [
    "### Обработка дубликатов"
   ]
  },
  {
   "cell_type": "markdown",
   "id": "9be53c49",
   "metadata": {
    "deletable": false,
    "editable": false,
    "id": "9be53c49"
   },
   "source": [
    "**Задание 14. Обработайте неявные дубликаты в столбце `education`. В этом столбце есть одни и те же значения, но записанные по-разному: с использованием заглавных и строчных букв. Приведите их к нижнему регистру.**"
   ]
  },
  {
   "cell_type": "code",
   "execution_count": 47,
   "id": "d89e73e1",
   "metadata": {
    "deletable": false,
    "id": "d89e73e1"
   },
   "outputs": [],
   "source": [
    "data['education'] = data['education'].str.lower()"
   ]
  },
  {
   "cell_type": "markdown",
   "id": "01d4500e",
   "metadata": {
    "deletable": false,
    "editable": false,
    "id": "01d4500e"
   },
   "source": [
    "**Задание 15. Выведите на экран количество строк-дубликатов в данных. Если такие строки присутствуют, удалите их.**"
   ]
  },
  {
   "cell_type": "code",
   "execution_count": 48,
   "id": "e10efb23",
   "metadata": {
    "deletable": false,
    "id": "e10efb23",
    "outputId": "9684deba-1934-42d1-99e1-cda61740f822"
   },
   "outputs": [
    {
     "data": {
      "text/plain": [
       "71"
      ]
     },
     "execution_count": 48,
     "metadata": {},
     "output_type": "execute_result"
    }
   ],
   "source": [
    "data.duplicated().sum()"
   ]
  },
  {
   "cell_type": "code",
   "execution_count": 49,
   "id": "df853f20",
   "metadata": {
    "deletable": false,
    "id": "df853f20"
   },
   "outputs": [],
   "source": [
    "data = data.drop_duplicates()"
   ]
  },
  {
   "cell_type": "markdown",
   "id": "627be38f",
   "metadata": {
    "deletable": false,
    "editable": false,
    "id": "627be38f"
   },
   "source": [
    "### Категоризация данных"
   ]
  },
  {
   "cell_type": "markdown",
   "id": "4684c3e0",
   "metadata": {
    "deletable": false,
    "editable": false,
    "id": "4684c3e0"
   },
   "source": [
    "**Задание 16. На основании диапазонов, указанных ниже, создайте в датафрейме `data` столбец `total_income_category` с категориями:**\n",
    "\n",
    "- 0–30000 — `'E'`;\n",
    "- 30001–50000 — `'D'`;\n",
    "- 50001–200000 — `'C'`;\n",
    "- 200001–1000000 — `'B'`;\n",
    "- 1000001 и выше — `'A'`.\n",
    "\n",
    "\n",
    "**Например, кредитополучателю с доходом 25000 нужно назначить категорию `'E'`, а клиенту, получающему 235000, — `'B'`. Используйте собственную функцию с именем `categorize_income()` и метод `apply()`.**"
   ]
  },
  {
   "cell_type": "code",
   "execution_count": 50,
   "id": "78965238",
   "metadata": {
    "deletable": false,
    "id": "78965238"
   },
   "outputs": [],
   "source": [
    "def categorize_income(income):\n",
    "    try:\n",
    "        if 0 <= income <= 30000:\n",
    "            return 'E'\n",
    "        elif 30001 <= income <= 50000:\n",
    "            return 'D'\n",
    "        elif 50001 <= income <= 200000:\n",
    "            return 'C'\n",
    "        elif 200001 <= income <= 1000000:\n",
    "            return 'B'\n",
    "        elif income >= 1000001:\n",
    "            return 'A'\n",
    "    except:\n",
    "        pass"
   ]
  },
  {
   "cell_type": "code",
   "execution_count": 51,
   "id": "0980ada1",
   "metadata": {
    "deletable": false,
    "id": "0980ada1"
   },
   "outputs": [],
   "source": [
    "data['total_income_category'] = data['total_income'].apply(categorize_income)"
   ]
  },
  {
   "cell_type": "markdown",
   "id": "9917bba0",
   "metadata": {
    "deletable": false,
    "editable": false,
    "id": "9917bba0"
   },
   "source": [
    "**Задание 17. Выведите на экран перечень уникальных целей взятия кредита из столбца `purpose`.**"
   ]
  },
  {
   "cell_type": "code",
   "execution_count": 52,
   "id": "ee07b65e",
   "metadata": {
    "deletable": false,
    "id": "ee07b65e",
    "outputId": "673c12d9-7d7e-4ae0-9812-c622c89dd244"
   },
   "outputs": [
    {
     "data": {
      "text/plain": [
       "array(['покупка жилья', 'приобретение автомобиля',\n",
       "       'дополнительное образование', 'сыграть свадьбу',\n",
       "       'операции с жильем', 'образование', 'на проведение свадьбы',\n",
       "       'покупка жилья для семьи', 'покупка недвижимости',\n",
       "       'покупка коммерческой недвижимости', 'покупка жилой недвижимости',\n",
       "       'строительство собственной недвижимости', 'недвижимость',\n",
       "       'строительство недвижимости', 'на покупку подержанного автомобиля',\n",
       "       'на покупку своего автомобиля',\n",
       "       'операции с коммерческой недвижимостью',\n",
       "       'строительство жилой недвижимости', 'жилье',\n",
       "       'операции со своей недвижимостью', 'автомобили',\n",
       "       'заняться образованием', 'сделка с подержанным автомобилем',\n",
       "       'получение образования', 'автомобиль', 'свадьба',\n",
       "       'получение дополнительного образования', 'покупка своего жилья',\n",
       "       'операции с недвижимостью', 'получение высшего образования',\n",
       "       'свой автомобиль', 'сделка с автомобилем',\n",
       "       'профильное образование', 'высшее образование',\n",
       "       'покупка жилья для сдачи', 'на покупку автомобиля', 'ремонт жилью',\n",
       "       'заняться высшим образованием'], dtype=object)"
      ]
     },
     "execution_count": 52,
     "metadata": {},
     "output_type": "execute_result"
    }
   ],
   "source": [
    "data['purpose'].unique()"
   ]
  },
  {
   "cell_type": "markdown",
   "id": "52b79d56",
   "metadata": {
    "deletable": false,
    "editable": false,
    "id": "52b79d56"
   },
   "source": [
    "**Задание 18. Создайте функцию, которая на основании данных из столбца `purpose` сформирует новый столбец `purpose_category`, в который войдут следующие категории:**\n",
    "\n",
    "- `'операции с автомобилем'`,\n",
    "- `'операции с недвижимостью'`,\n",
    "- `'проведение свадьбы'`,\n",
    "- `'получение образования'`.\n",
    "\n",
    "**Например, если в столбце `purpose` находится подстрока `'на покупку автомобиля'`, то в столбце `purpose_category` должна появиться строка `'операции с автомобилем'`.**\n",
    "\n",
    "**Используйте собственную функцию с именем `categorize_purpose()` и метод `apply()`. Изучите данные в столбце `purpose` и определите, какие подстроки помогут вам правильно определить категорию.**"
   ]
  },
  {
   "cell_type": "code",
   "execution_count": 53,
   "id": "be41da5d",
   "metadata": {
    "deletable": false,
    "id": "be41da5d"
   },
   "outputs": [],
   "source": [
    "def categorize_purpose(row):\n",
    "    try:\n",
    "        if 'автом' in row:\n",
    "            return 'операции с автомобилем'\n",
    "        elif 'жил' in row or 'недвиж' in row:\n",
    "            return 'операции с недвижимостью'\n",
    "        elif 'свад' in row:\n",
    "            return 'проведение свадьбы'\n",
    "        elif 'образов' in row:\n",
    "            return 'получение образования'\n",
    "    except:\n",
    "        return 'нет категории'"
   ]
  },
  {
   "cell_type": "code",
   "execution_count": 54,
   "id": "94c4a19a",
   "metadata": {
    "deletable": false,
    "id": "94c4a19a"
   },
   "outputs": [
    {
     "data": {
      "text/html": [
       "<div>\n",
       "<style scoped>\n",
       "    .dataframe tbody tr th:only-of-type {\n",
       "        vertical-align: middle;\n",
       "    }\n",
       "\n",
       "    .dataframe tbody tr th {\n",
       "        vertical-align: top;\n",
       "    }\n",
       "\n",
       "    .dataframe thead th {\n",
       "        text-align: right;\n",
       "    }\n",
       "</style>\n",
       "<table border=\"1\" class=\"dataframe\">\n",
       "  <thead>\n",
       "    <tr style=\"text-align: right;\">\n",
       "      <th></th>\n",
       "      <th>children</th>\n",
       "      <th>days_employed</th>\n",
       "      <th>dob_years</th>\n",
       "      <th>education</th>\n",
       "      <th>education_id</th>\n",
       "      <th>family_status</th>\n",
       "      <th>family_status_id</th>\n",
       "      <th>gender</th>\n",
       "      <th>income_type</th>\n",
       "      <th>debt</th>\n",
       "      <th>total_income</th>\n",
       "      <th>purpose</th>\n",
       "      <th>total_income_category</th>\n",
       "      <th>purpose_category</th>\n",
       "    </tr>\n",
       "  </thead>\n",
       "  <tbody>\n",
       "    <tr>\n",
       "      <th>0</th>\n",
       "      <td>1</td>\n",
       "      <td>8437.673028</td>\n",
       "      <td>42</td>\n",
       "      <td>высшее</td>\n",
       "      <td>0</td>\n",
       "      <td>женат / замужем</td>\n",
       "      <td>0</td>\n",
       "      <td>F</td>\n",
       "      <td>сотрудник</td>\n",
       "      <td>0</td>\n",
       "      <td>253875</td>\n",
       "      <td>покупка жилья</td>\n",
       "      <td>B</td>\n",
       "      <td>операции с недвижимостью</td>\n",
       "    </tr>\n",
       "    <tr>\n",
       "      <th>1</th>\n",
       "      <td>1</td>\n",
       "      <td>4024.803754</td>\n",
       "      <td>36</td>\n",
       "      <td>среднее</td>\n",
       "      <td>1</td>\n",
       "      <td>женат / замужем</td>\n",
       "      <td>0</td>\n",
       "      <td>F</td>\n",
       "      <td>сотрудник</td>\n",
       "      <td>0</td>\n",
       "      <td>112080</td>\n",
       "      <td>приобретение автомобиля</td>\n",
       "      <td>C</td>\n",
       "      <td>операции с автомобилем</td>\n",
       "    </tr>\n",
       "    <tr>\n",
       "      <th>2</th>\n",
       "      <td>0</td>\n",
       "      <td>5623.422610</td>\n",
       "      <td>33</td>\n",
       "      <td>среднее</td>\n",
       "      <td>1</td>\n",
       "      <td>женат / замужем</td>\n",
       "      <td>0</td>\n",
       "      <td>M</td>\n",
       "      <td>сотрудник</td>\n",
       "      <td>0</td>\n",
       "      <td>145885</td>\n",
       "      <td>покупка жилья</td>\n",
       "      <td>C</td>\n",
       "      <td>операции с недвижимостью</td>\n",
       "    </tr>\n",
       "    <tr>\n",
       "      <th>3</th>\n",
       "      <td>3</td>\n",
       "      <td>4124.747207</td>\n",
       "      <td>32</td>\n",
       "      <td>среднее</td>\n",
       "      <td>1</td>\n",
       "      <td>женат / замужем</td>\n",
       "      <td>0</td>\n",
       "      <td>M</td>\n",
       "      <td>сотрудник</td>\n",
       "      <td>0</td>\n",
       "      <td>267628</td>\n",
       "      <td>дополнительное образование</td>\n",
       "      <td>B</td>\n",
       "      <td>получение образования</td>\n",
       "    </tr>\n",
       "    <tr>\n",
       "      <th>4</th>\n",
       "      <td>0</td>\n",
       "      <td>340266.072047</td>\n",
       "      <td>53</td>\n",
       "      <td>среднее</td>\n",
       "      <td>1</td>\n",
       "      <td>гражданский брак</td>\n",
       "      <td>1</td>\n",
       "      <td>F</td>\n",
       "      <td>пенсионер</td>\n",
       "      <td>0</td>\n",
       "      <td>158616</td>\n",
       "      <td>сыграть свадьбу</td>\n",
       "      <td>C</td>\n",
       "      <td>проведение свадьбы</td>\n",
       "    </tr>\n",
       "  </tbody>\n",
       "</table>\n",
       "</div>"
      ],
      "text/plain": [
       "   children  days_employed  dob_years education  education_id  \\\n",
       "0         1    8437.673028         42    высшее             0   \n",
       "1         1    4024.803754         36   среднее             1   \n",
       "2         0    5623.422610         33   среднее             1   \n",
       "3         3    4124.747207         32   среднее             1   \n",
       "4         0  340266.072047         53   среднее             1   \n",
       "\n",
       "      family_status  family_status_id gender income_type  debt  total_income  \\\n",
       "0   женат / замужем                 0      F   сотрудник     0        253875   \n",
       "1   женат / замужем                 0      F   сотрудник     0        112080   \n",
       "2   женат / замужем                 0      M   сотрудник     0        145885   \n",
       "3   женат / замужем                 0      M   сотрудник     0        267628   \n",
       "4  гражданский брак                 1      F   пенсионер     0        158616   \n",
       "\n",
       "                      purpose total_income_category          purpose_category  \n",
       "0               покупка жилья                     B  операции с недвижимостью  \n",
       "1     приобретение автомобиля                     C    операции с автомобилем  \n",
       "2               покупка жилья                     C  операции с недвижимостью  \n",
       "3  дополнительное образование                     B     получение образования  \n",
       "4             сыграть свадьбу                     C        проведение свадьбы  "
      ]
     },
     "execution_count": 54,
     "metadata": {},
     "output_type": "execute_result"
    }
   ],
   "source": [
    "data['purpose_category'] = data['purpose'].apply(categorize_purpose)\n",
    "data.head(5)"
   ]
  },
  {
   "cell_type": "markdown",
   "id": "3d596c34",
   "metadata": {
    "deletable": false,
    "editable": false,
    "id": "3d596c34"
   },
   "source": [
    "### Шаг 3. Исследуйте данные и ответьте на вопросы"
   ]
  },
  {
   "cell_type": "markdown",
   "id": "648db036",
   "metadata": {
    "deletable": false,
    "editable": false,
    "id": "648db036"
   },
   "source": [
    "#### 3.1 Есть ли зависимость между количеством детей и возвратом кредита в срок?"
   ]
  },
  {
   "cell_type": "code",
   "execution_count": 55,
   "id": "9e922fd6",
   "metadata": {},
   "outputs": [
    {
     "data": {
      "text/plain": [
       "0    Один или два ребенка\n",
       "1    Один или два ребенка\n",
       "2               Нет детей\n",
       "3        Более трех детей\n",
       "4               Нет детей\n",
       "Name: children_category, dtype: object"
      ]
     },
     "execution_count": 55,
     "metadata": {},
     "output_type": "execute_result"
    }
   ],
   "source": [
    "#Проведем категоризацию по количеству детей\n",
    "def categorize_children(children):\n",
    "    try:\n",
    "        if children == 0:\n",
    "            return 'Нет детей'\n",
    "        elif 1 <= children <= 2:\n",
    "            return 'Один или два ребенка'\n",
    "        elif children>=3:\n",
    "            return 'Более трех детей'\n",
    "    except:\n",
    "        pass\n",
    "data['children_category'] = data['children'].apply(categorize_children)\n",
    "data['children_category'].head(5)"
   ]
  },
  {
   "cell_type": "code",
   "execution_count": 56,
   "id": "7fcff25e",
   "metadata": {
    "deletable": false,
    "id": "7fcff25e"
   },
   "outputs": [
    {
     "data": {
      "text/html": [
       "<div>\n",
       "<style scoped>\n",
       "    .dataframe tbody tr th:only-of-type {\n",
       "        vertical-align: middle;\n",
       "    }\n",
       "\n",
       "    .dataframe tbody tr th {\n",
       "        vertical-align: top;\n",
       "    }\n",
       "\n",
       "    .dataframe thead th {\n",
       "        text-align: right;\n",
       "    }\n",
       "</style>\n",
       "<table border=\"1\" class=\"dataframe\">\n",
       "  <thead>\n",
       "    <tr style=\"text-align: right;\">\n",
       "      <th></th>\n",
       "      <th>Количество клиентов в категории</th>\n",
       "      <th>Доля задолженности</th>\n",
       "    </tr>\n",
       "    <tr>\n",
       "      <th>children_category</th>\n",
       "      <th></th>\n",
       "      <th></th>\n",
       "    </tr>\n",
       "  </thead>\n",
       "  <tbody>\n",
       "    <tr>\n",
       "      <th>Более трех детей</th>\n",
       "      <td>380</td>\n",
       "      <td>8.16%</td>\n",
       "    </tr>\n",
       "    <tr>\n",
       "      <th>Нет детей</th>\n",
       "      <td>14091</td>\n",
       "      <td>7.54%</td>\n",
       "    </tr>\n",
       "    <tr>\n",
       "      <th>Один или два ребенка</th>\n",
       "      <td>6860</td>\n",
       "      <td>9.30%</td>\n",
       "    </tr>\n",
       "  </tbody>\n",
       "</table>\n",
       "</div>"
      ],
      "text/plain": [
       "                      Количество клиентов в категории Доля задолженности\n",
       "children_category                                                       \n",
       "Более трех детей                                  380              8.16%\n",
       "Нет детей                                       14091              7.54%\n",
       "Один или два ребенка                             6860              9.30%"
      ]
     },
     "execution_count": 56,
     "metadata": {},
     "output_type": "execute_result"
    }
   ],
   "source": [
    "# Сделаем сводную таблицу по новым категориям\n",
    "children_debt = data.pivot_table(index = 'children_category', values = 'debt', aggfunc = ['count', 'mean'])\n",
    "children_debt.columns = ['Количество клиентов в категории', 'Доля задолженности']\n",
    "children_debt['Доля задолженности'] = children_debt['Доля задолженности'].apply('{:.2%}'.format)\n",
    "children_debt"
   ]
  },
  {
   "cell_type": "markdown",
   "id": "e87106e9",
   "metadata": {},
   "source": [
    "<a id=\"cell_1\"></a>\n",
    "<div class=\"alert alert-danger\">\n",
    "\n",
    "**Артём:** ✋ Сделай сводную таблицу в которой буду следующая информация:\n",
    "        \n",
    "1. Название категории;\n",
    "2. Количество клиентов в категории;\n",
    "3. Доля задолженности.\n",
    "    \n",
    "Это важно сделать в шагах 3.1, 3.2, 3.3 и 3.4. Подробнее можно почитать [здесь](https://dfedorov.spb.ru/pandas/Подробное%20руководство%20по%20группировке%20и%20агрегированию%20с%20помощью%20pandas.html?ysclid=lcmm6rtg2w602526506)    \n",
    "    \n",
    "Высшем пилотажем будет если проценты сразу выведешь в правильном формате, то есть умножишь на сто.\n",
    "    \n",
    "</div>"
   ]
  },
  {
   "cell_type": "markdown",
   "id": "dd82e283",
   "metadata": {},
   "source": [
    "<div class=\"alert alert-success\">\n",
    "\n",
    "**Артём:** 👍👍 Отлично.\n",
    "\n",
    "</div>"
   ]
  },
  {
   "cell_type": "markdown",
   "id": "2eb9088e",
   "metadata": {
    "deletable": false,
    "id": "2eb9088e"
   },
   "source": [
    "**Вывод:** \n",
    "При категоризации клиентов на 3 группы по количеству детей, выявлено, что категория клиентов с тремя и более детьми не репрезентативна. По клиентам из данной категории невозможно сделать качественный вывод о возврате кредитов в срок. В двух оставшихся категориях наблюдается дифференциация. Так, клиенты, у которых нет детей имеют долю задолженностей ниже, в среднем на 1,8% чем у клиентов, которые имеют одного или два ребенка. "
   ]
  },
  {
   "cell_type": "markdown",
   "id": "0dfdc7f2",
   "metadata": {},
   "source": [
    "<a id=\"cell_\"></a>\n",
    "<div class=\"alert alert-danger\">\n",
    "\n",
    "**Артём:** ✋ Ты смотришь абсолютные значения, но что если в группе с 5 детьми всего 9 человек, а бездетных 14'000? Нужно смотреть долю должников в категории.\n",
    "    \n",
    "</div>"
   ]
  },
  {
   "cell_type": "markdown",
   "id": "37b97593",
   "metadata": {},
   "source": [
    "<a id=\"cell_2\"></a>\n",
    "<div class=\"alert alert-danger\">\n",
    "   \n",
    "**Артём:** ✋✋ Выборки с тремя, четырьмя, и пятью детьми не репрезентативны, слишком мало значений, в сумме менее 2%. Их не стоит учитывать при анализе. А лучше провести категоризацию.\n",
    "\n",
    "</div>"
   ]
  },
  {
   "cell_type": "markdown",
   "id": "74c9b3a7",
   "metadata": {
    "deletable": false,
    "editable": false,
    "id": "74c9b3a7"
   },
   "source": [
    "#### 3.2 Есть ли зависимость между семейным положением и возвратом кредита в срок?"
   ]
  },
  {
   "cell_type": "code",
   "execution_count": 57,
   "id": "8098ab3b",
   "metadata": {
    "deletable": false,
    "id": "8098ab3b"
   },
   "outputs": [
    {
     "data": {
      "text/html": [
       "<div>\n",
       "<style scoped>\n",
       "    .dataframe tbody tr th:only-of-type {\n",
       "        vertical-align: middle;\n",
       "    }\n",
       "\n",
       "    .dataframe tbody tr th {\n",
       "        vertical-align: top;\n",
       "    }\n",
       "\n",
       "    .dataframe thead th {\n",
       "        text-align: right;\n",
       "    }\n",
       "</style>\n",
       "<table border=\"1\" class=\"dataframe\">\n",
       "  <thead>\n",
       "    <tr style=\"text-align: right;\">\n",
       "      <th></th>\n",
       "      <th>Количество клиентов в категории</th>\n",
       "      <th>Доля задолженности</th>\n",
       "    </tr>\n",
       "    <tr>\n",
       "      <th>family_status</th>\n",
       "      <th></th>\n",
       "      <th></th>\n",
       "    </tr>\n",
       "  </thead>\n",
       "  <tbody>\n",
       "    <tr>\n",
       "      <th>Не женат / не замужем</th>\n",
       "      <td>2796</td>\n",
       "      <td>9.76%</td>\n",
       "    </tr>\n",
       "    <tr>\n",
       "      <th>в разводе</th>\n",
       "      <td>1189</td>\n",
       "      <td>7.06%</td>\n",
       "    </tr>\n",
       "    <tr>\n",
       "      <th>вдовец / вдова</th>\n",
       "      <td>951</td>\n",
       "      <td>6.62%</td>\n",
       "    </tr>\n",
       "    <tr>\n",
       "      <th>гражданский брак</th>\n",
       "      <td>4134</td>\n",
       "      <td>9.31%</td>\n",
       "    </tr>\n",
       "    <tr>\n",
       "      <th>женат / замужем</th>\n",
       "      <td>12261</td>\n",
       "      <td>7.56%</td>\n",
       "    </tr>\n",
       "  </tbody>\n",
       "</table>\n",
       "</div>"
      ],
      "text/plain": [
       "                       Количество клиентов в категории Доля задолженности\n",
       "family_status                                                            \n",
       "Не женат / не замужем                             2796              9.76%\n",
       "в разводе                                         1189              7.06%\n",
       "вдовец / вдова                                     951              6.62%\n",
       "гражданский брак                                  4134              9.31%\n",
       "женат / замужем                                  12261              7.56%"
      ]
     },
     "execution_count": 57,
     "metadata": {},
     "output_type": "execute_result"
    }
   ],
   "source": [
    "# Также, сгруппируем данные по семейному положению и подсчитаем количество долгов в каждой группе\n",
    "fam_debt = data.pivot_table(index = 'family_status', values = 'debt', aggfunc = ['count', 'mean'])\n",
    "fam_debt.columns = ['Количество клиентов в категории', 'Доля задолженности']\n",
    "fam_debt['Доля задолженности'] = fam_debt['Доля задолженности'].apply('{:.2%}'.format)\n",
    "fam_debt\n"
   ]
  },
  {
   "cell_type": "markdown",
   "id": "c389ca63",
   "metadata": {
    "deletable": false,
    "id": "c389ca63"
   },
   "source": [
    "**Вывод:** \n",
    "В результате анализа, наименьшая задолженность по возврату кредита наблюдается в категории \"вдова/вдовец\", однако именно в этой категории меньше всего клиентов. Наибольшее количество задолженностей в категории клиентов, которые не женаты и не замужем, на 0,45% больше чем у клиентов живущих гражданским браком. Самой многочисленной является категория жентатых людей, там наблюдается средняя доля задолженностей, на уровне 7,56%. Клиенты, находящиеся в разводе, имеют вторую наименьшую долю задолженностей.  "
   ]
  },
  {
   "cell_type": "markdown",
   "id": "8d38576f",
   "metadata": {},
   "source": [
    "<a id=\"cell_\"></a>\n",
    "<div class=\"alert alert-danger\">\n",
    "\n",
    "**Артём:** ✋ Посмотри доли должников в категории.\n",
    "    \n",
    "    \n",
    "</div>"
   ]
  },
  {
   "cell_type": "markdown",
   "id": "0fa96664",
   "metadata": {},
   "source": [
    "<div class=\"alert alert-success\">\n",
    "\n",
    "**Артём:** 👍👍 Принято.\n",
    "\n",
    "</div>"
   ]
  },
  {
   "cell_type": "markdown",
   "id": "9529de68",
   "metadata": {
    "deletable": false,
    "editable": false,
    "id": "9529de68"
   },
   "source": [
    "#### 3.3 Есть ли зависимость между уровнем дохода и возвратом кредита в срок?"
   ]
  },
  {
   "cell_type": "code",
   "execution_count": 58,
   "id": "8787f44a",
   "metadata": {
    "deletable": false,
    "id": "8787f44a"
   },
   "outputs": [
    {
     "data": {
      "text/html": [
       "<div>\n",
       "<style scoped>\n",
       "    .dataframe tbody tr th:only-of-type {\n",
       "        vertical-align: middle;\n",
       "    }\n",
       "\n",
       "    .dataframe tbody tr th {\n",
       "        vertical-align: top;\n",
       "    }\n",
       "\n",
       "    .dataframe thead tr th {\n",
       "        text-align: left;\n",
       "    }\n",
       "\n",
       "    .dataframe thead tr:last-of-type th {\n",
       "        text-align: right;\n",
       "    }\n",
       "</style>\n",
       "<table border=\"1\" class=\"dataframe\">\n",
       "  <thead>\n",
       "    <tr>\n",
       "      <th></th>\n",
       "      <th colspan=\"2\" halign=\"left\">debt</th>\n",
       "    </tr>\n",
       "    <tr>\n",
       "      <th></th>\n",
       "      <th>count</th>\n",
       "      <th>sum</th>\n",
       "    </tr>\n",
       "    <tr>\n",
       "      <th>total_income_category</th>\n",
       "      <th></th>\n",
       "      <th></th>\n",
       "    </tr>\n",
       "  </thead>\n",
       "  <tbody>\n",
       "    <tr>\n",
       "      <th>A</th>\n",
       "      <td>25</td>\n",
       "      <td>2</td>\n",
       "    </tr>\n",
       "    <tr>\n",
       "      <th>B</th>\n",
       "      <td>5014</td>\n",
       "      <td>354</td>\n",
       "    </tr>\n",
       "    <tr>\n",
       "      <th>C</th>\n",
       "      <td>15921</td>\n",
       "      <td>1353</td>\n",
       "    </tr>\n",
       "    <tr>\n",
       "      <th>D</th>\n",
       "      <td>349</td>\n",
       "      <td>21</td>\n",
       "    </tr>\n",
       "    <tr>\n",
       "      <th>E</th>\n",
       "      <td>22</td>\n",
       "      <td>2</td>\n",
       "    </tr>\n",
       "  </tbody>\n",
       "</table>\n",
       "</div>"
      ],
      "text/plain": [
       "                        debt      \n",
       "                       count   sum\n",
       "total_income_category             \n",
       "A                         25     2\n",
       "B                       5014   354\n",
       "C                      15921  1353\n",
       "D                        349    21\n",
       "E                         22     2"
      ]
     },
     "execution_count": 58,
     "metadata": {},
     "output_type": "execute_result"
    }
   ],
   "source": [
    "# Расчитаем кол-во клиентов в каждой категории и сумму долгов\n",
    "data.groupby('total_income_category').agg({'debt': ['count', 'sum'] })"
   ]
  },
  {
   "cell_type": "code",
   "execution_count": 59,
   "id": "4184f58c",
   "metadata": {},
   "outputs": [
    {
     "data": {
      "text/plain": [
       "total_income_category\n",
       "A    8.000000\n",
       "B    7.060231\n",
       "C    8.498210\n",
       "D    6.017192\n",
       "E    9.090909\n",
       "Name: debt, dtype: float64"
      ]
     },
     "execution_count": 59,
     "metadata": {},
     "output_type": "execute_result"
    }
   ],
   "source": [
    "# Найдем, сколько приходится долгов в каждой категории, в зависимости от количества клиентов в этой категории, в процентах\n",
    "(data.groupby('total_income_category')['debt'].sum() / data.groupby('total_income_category')['debt'].count()) * 100 "
   ]
  },
  {
   "cell_type": "markdown",
   "id": "6dd14b57",
   "metadata": {
    "deletable": false,
    "id": "6dd14b57"
   },
   "source": [
    "**Вывод:** \n",
    "Статистика количества клиентов с очень высокой и очень низкой зарплатой - невелика. Поэтому нельзя утверждать, что эти клиенты с большей вероятностью вернут кредит. Процент задолженностей в категориях по величине дохода оказался практически равным во всех категориях. Однако, можно утверждать, что наибольшее количество клиентов, которые берут кредиты имеют средний доход от 50 до 200 тыс.руб."
   ]
  },
  {
   "cell_type": "markdown",
   "id": "7a0d13f0",
   "metadata": {},
   "source": [
    "<div class=\"alert alert-success\">\n",
    "\n",
    "**Артём:** 👍 Если закрыть глаза на то, что выборка не репрезентативна, то все корректно.\n",
    "    \n",
    "</div>\n",
    "\n",
    "<div class=\"alert alert-info\">\n",
    "\n",
    "<b>Артём: ✍️</b> Дам тебе совет на будущее, как лучше проводить категоризацию количественных данных.\n",
    "    \n",
    "Сейчас самая маленькая категория в 728 раз меньше самой большой. Это может отразиться на результатах исследования. Когда мы делим на категории количественные данные, то лучше их делать примерно одинаковыми. Для этого можно воспользоваться методом `qcut()`. Пример:\n",
    "    \n",
    "```py\n",
    "pd.qcut(df['total_income'], 4)\n",
    "```\n",
    "    \n",
    "```\n",
    "Name: total_income, Length: 21453, dtype: category\n",
    "Categories (4, interval[float64]): [(20666.999, 107620.0]  (107620.0, 142594.0]  (142594.0, 195818.0]  (195818.0, 2265604.0]]\n",
    "```\n",
    "                                                                                                               \n",
    "Что внутри: \n",
    "    \n",
    "```py\n",
    "pd.qcut(датафрейм['столбец'], количество_категорий)\n",
    "``` \n",
    "    \n",
    "Итого у нас 4 категории:\n",
    "<ul>\n",
    "  <li>меньше 107_620</li>\n",
    "  <li>от 107_620 до 142_594</li>\n",
    "  <li>от 142_594 до 195_818</li>\n",
    "  <li>от 195_818</li>\n",
    "</ul>\n",
    "    \n",
    "---\n",
    "Дополнительно:<br>\n",
    "<a href=\"https://pandas.pydata.org/pandas-docs/stable/reference/api/pandas.qcut.html\"\n",
    "   target=\"_blank\">\n",
    "  📖 Официальная документация.\n",
    "</a><br>\n",
    "<a href=\"https://dfedorov.spb.ru/pandas/Разделение%20данных%20в%20Pandas%20с%20помощью%20qcut%20и%20cut.html?\"\n",
    "   target=\"_blank\">\n",
    "  📖 Статья на русском.\n",
    "</a>\n",
    "</div>"
   ]
  },
  {
   "cell_type": "markdown",
   "id": "1dcc9b12",
   "metadata": {
    "deletable": false,
    "editable": false,
    "id": "1dcc9b12"
   },
   "source": [
    "#### 3.4 Как разные цели кредита влияют на его возврат в срок?"
   ]
  },
  {
   "cell_type": "code",
   "execution_count": 60,
   "id": "c602bc8b",
   "metadata": {
    "deletable": false,
    "id": "c602bc8b"
   },
   "outputs": [
    {
     "data": {
      "text/html": [
       "<div>\n",
       "<style scoped>\n",
       "    .dataframe tbody tr th:only-of-type {\n",
       "        vertical-align: middle;\n",
       "    }\n",
       "\n",
       "    .dataframe tbody tr th {\n",
       "        vertical-align: top;\n",
       "    }\n",
       "\n",
       "    .dataframe thead th {\n",
       "        text-align: right;\n",
       "    }\n",
       "</style>\n",
       "<table border=\"1\" class=\"dataframe\">\n",
       "  <thead>\n",
       "    <tr style=\"text-align: right;\">\n",
       "      <th></th>\n",
       "      <th>Количество клиентов в категории</th>\n",
       "      <th>Доля задолженности</th>\n",
       "    </tr>\n",
       "    <tr>\n",
       "      <th>purpose_category</th>\n",
       "      <th></th>\n",
       "      <th></th>\n",
       "    </tr>\n",
       "  </thead>\n",
       "  <tbody>\n",
       "    <tr>\n",
       "      <th>операции с автомобилем</th>\n",
       "      <td>4279</td>\n",
       "      <td>9.35%</td>\n",
       "    </tr>\n",
       "    <tr>\n",
       "      <th>операции с недвижимостью</th>\n",
       "      <td>10751</td>\n",
       "      <td>7.26%</td>\n",
       "    </tr>\n",
       "    <tr>\n",
       "      <th>получение образования</th>\n",
       "      <td>3988</td>\n",
       "      <td>9.25%</td>\n",
       "    </tr>\n",
       "    <tr>\n",
       "      <th>проведение свадьбы</th>\n",
       "      <td>2313</td>\n",
       "      <td>7.91%</td>\n",
       "    </tr>\n",
       "  </tbody>\n",
       "</table>\n",
       "</div>"
      ],
      "text/plain": [
       "                          Количество клиентов в категории Доля задолженности\n",
       "purpose_category                                                            \n",
       "операции с автомобилем                               4279              9.35%\n",
       "операции с недвижимостью                            10751              7.26%\n",
       "получение образования                                3988              9.25%\n",
       "проведение свадьбы                                   2313              7.91%"
      ]
     },
     "execution_count": 60,
     "metadata": {},
     "output_type": "execute_result"
    }
   ],
   "source": [
    "# Подсчитаем количество долгов в каждой группе по цели кредита и отсортируем данные по убыванию\n",
    "purpose_debt = data.pivot_table(index = 'purpose_category', values = 'debt', aggfunc = ['count', 'mean'])\n",
    "purpose_debt.columns = ['Количество клиентов в категории', 'Доля задолженности']\n",
    "purpose_debt['Доля задолженности'] = purpose_debt['Доля задолженности'].apply('{:.2%}'.format)\n",
    "purpose_debt"
   ]
  },
  {
   "cell_type": "markdown",
   "id": "cf05ed63",
   "metadata": {
    "deletable": false,
    "id": "cf05ed63"
   },
   "source": [
    "**Вывод:** \n",
    "Наименьшее количество задолженностей наблюдается в категории операций с недвижимостью, в то время как наибольшее количество задолженностей наблюдается в операциях с автомобилями и кредитах на образование, в которых практически одинаковый процент задолженностей. Проведение свадеб - категория со средними показателями задолженностей, в среднем, на 0,65% выше чем в категории с недвижимостью."
   ]
  },
  {
   "cell_type": "markdown",
   "id": "d569cc16",
   "metadata": {},
   "source": [
    "<a id=\"cell_\"></a>\n",
    "<div class=\"alert alert-danger\">\n",
    "\n",
    "**Артём:** ✋ Посмотри доли должников в категории.\n",
    "    \n",
    "</div>"
   ]
  },
  {
   "cell_type": "markdown",
   "id": "0503e3c3",
   "metadata": {},
   "source": [
    "<div class=\"alert alert-success\">\n",
    "\n",
    "**Артём:** 👍👍 Верно.\n",
    "\n",
    "</div>"
   ]
  },
  {
   "cell_type": "markdown",
   "id": "46c1f10b",
   "metadata": {
    "deletable": false,
    "editable": false,
    "id": "46c1f10b"
   },
   "source": [
    "#### 3.5 Приведите возможные причины появления пропусков в исходных данных."
   ]
  },
  {
   "cell_type": "markdown",
   "id": "3697d2a9",
   "metadata": {
    "deletable": false,
    "id": "3697d2a9"
   },
   "source": [
    "*Ответ:* \n",
    "Пропущенные значения наблюдаются в двух столбцах, с общими доходами и общим трудовым стажем. Столбцы имеют одинаковое количество пропусков, есть вероятность, что запись значения в одном столбце зависит от записи в другом. Возможно, при заполненни или выгрузке произошел сбой по этим клиентам. Возможно, эти клиенты какое-то время работали без записи в трудовой книжке и соотвесвтенно могли испортить статистику.  Возможно, эти конкретные данные по этим конкретным клиентам нельзя было адекватно расчитать (неакутальные данные и пр.). Возможно, это премиальный сектор клиентов, которые не раскрывают доходы. "
   ]
  },
  {
   "cell_type": "markdown",
   "id": "15ca2e68",
   "metadata": {},
   "source": [
    "<div class=\"alert alert-success\">\n",
    "\n",
    "**Артём:** 👍 Хорошо.\n",
    "\n",
    "</div>"
   ]
  },
  {
   "cell_type": "markdown",
   "id": "3137d257",
   "metadata": {
    "deletable": false,
    "editable": false,
    "id": "3137d257"
   },
   "source": [
    "#### 3.6 Объясните, почему заполнить пропуски медианным значением — лучшее решение для количественных переменных."
   ]
  },
  {
   "cell_type": "markdown",
   "id": "cf40012a",
   "metadata": {
    "deletable": false,
    "id": "cf40012a"
   },
   "source": [
    "*Ответ:* \n",
    "Медианное значение - середина выборки, сохраняет \"нейтральную\" позицию относительно чисел в выборке, поэтому при группировке и других операциях меньше всего исказит данные. Также данное значение более показательно в больших выборках, имеющие и очень высокие и очень низкие значения. "
   ]
  },
  {
   "cell_type": "markdown",
   "id": "b9930c0b",
   "metadata": {},
   "source": [
    "<div class=\"alert alert-success\">\n",
    "\n",
    "**Артём:** 👍 Молодец.\n",
    "\n",
    "</div>"
   ]
  },
  {
   "cell_type": "markdown",
   "id": "57bc304e",
   "metadata": {
    "deletable": false,
    "editable": false,
    "id": "57bc304e"
   },
   "source": [
    "### Шаг 4: общий вывод."
   ]
  },
  {
   "cell_type": "markdown",
   "id": "1ab75d1c",
   "metadata": {
    "deletable": false,
    "id": "1ab75d1c"
   },
   "source": [
    "В результате анализа данных платежеспособности клиентов банка, были выявлены следующие закономерности:\n",
    "1. Категоризация клиентов по количеству детей, показала, что категория клиентов с тремя и более детьми не репрезентативна. По клиентам из данной категории невозможно сделать качественный вывод о возврате кредитов в срок. В двух оставшихся категориях наблюдается дифференциация. Так, клиенты, у которых нет детей имеют долю задолженностей ниже, в среднем на **1,8%** чем у клиентов, которые имеют одного или два ребенка. \n",
    "\n",
    "2. На основе анализа семейного положения клиентов выявлено, что наименьшая задолженность по возврату кредита наблюдается в категории \"вдова/вдовец\", однако именно в этой категории меньше всего клиентов. Наибольшее количество задолженностей в категории клиентов, которые не женаты и не замужем, на **0,45%** больше чем у клиентов живущих гражданским браком. Самой многочисленной является категория жентатых людей, там наблюдается средняя доля задолженностей, на уровне **7,56%**. Клиенты, находящиеся в разводе, имеют вторую наименьшую долю задолженностей.  \n",
    "\n",
    "3. Статистика количества клиентов с очень высокой и очень низкой зарплатой - невелика. Поэтому нельзя утверждать, что эти клиенты с большей вероятностью вернут кредит. Процент задолженностей в категориях по величине дохода оказался практически равным во всех категориях. Однако, можно утверждать, что наибольшее количество клиентов, которые берут кредиты имеют средний доход от **50 до 200 тыс.руб**. \n",
    "\n",
    "4. При анализе на основе целей кредита: Наименьшее количество задолженностей наблюдается в категории операций с недвижимостью, в то время как наибольшее количество задолженностей наблюдается в операциях с автомобилями и кредитах на образование, в которых практически одинаковый процент задолженностей. Проведение свадеб - категория со средними показателями задолженностей, в среднем, на **0,65%** выше чем в категории с недвижимостью.\n",
    "\n",
    "Таким образом, заказчику необходимо учитывать эти параметры при построении модели кредитного скоринга. "
   ]
  },
  {
   "cell_type": "markdown",
   "id": "f4d2e415",
   "metadata": {},
   "source": [
    "<a id=\"cell_1000\"></a>\n",
    "<div class=\"alert alert-danger\">\n",
    "\n",
    "**Артём:** ✋ Скорректируй вывод согласно новым данным. Так же не забудь, что проект пишется для заказчика, он будет читать финальный вывод и только его. Добавь информации о полученных результатах, разбей по пунктам, сделай красиво, чтобы было понятно, что проведено настоящее исследование и выводу можно верить. Учитывай для кого проведено исследование, в банковской сфере даже сотые доли процента играют роль, но в нашем можно ограничиться десятыми. Помни, вывод – это дата специалиста. 😉\n",
    "\n",
    "\n",
    "</div>"
   ]
  },
  {
   "cell_type": "markdown",
   "id": "1a3574b2",
   "metadata": {},
   "source": [
    "<a id=\"cell_1000\"></a>\n",
    "<div class=\"alert alert-danger\">\n",
    "\n",
    "**Артём:** ✋✋ Скорректируй про детей, в остальном отлично.\n",
    "\n",
    "\n",
    "</div>"
   ]
  },
  {
   "cell_type": "markdown",
   "id": "0cbc7f75",
   "metadata": {},
   "source": [
    "## 🏁 Итоги ревью\n",
    "<a id=\"results\"></a>\n",
    "[В начало](#start)"
   ]
  },
  {
   "cell_type": "markdown",
   "id": "14a06ac3",
   "metadata": {},
   "source": [
    "<div class=\"alert alert-danger\">\n",
    "\n",
    "**Артём:** ✋ Кирилл, спасибо за работу. Осталось исправить несколько комментариев и можно идти к заказчику. Подсказки в тетради.\n",
    "    \n",
    "\n",
    "    \n",
    "Жду новую версию проекта. 🙂\n",
    "\n",
    "</div>\n",
    "\n",
    "**Кирилл:** Артем, большое спасибо за ревью, большой и терпеливый труд!"
   ]
  },
  {
   "cell_type": "markdown",
   "id": "18109bf2",
   "metadata": {},
   "source": [
    "<a id=\"cell_1000\"></a>\n",
    "<div class=\"alert alert-danger\">\n",
    "\n",
    "**Артём:** ✋✋ Тебе спасибо за старание, скорректируй вывод про детей и проект можно принять.\n",
    "\n",
    "</div>\n",
    "\n",
    "**Кирилл:** Артем, ещё раз большое спасибо! Буду стараться быть более внимательным к деталям:)"
   ]
  },
  {
   "cell_type": "code",
   "execution_count": null,
   "id": "2b2a5b02",
   "metadata": {},
   "outputs": [],
   "source": []
  }
 ],
 "metadata": {
  "ExecuteTimeLog": [
   {
    "duration": 62,
    "start_time": "2023-01-24T16:47:05.326Z"
   },
   {
    "duration": 472,
    "start_time": "2023-01-24T16:47:17.495Z"
   },
   {
    "duration": 25,
    "start_time": "2023-01-24T16:47:17.969Z"
   },
   {
    "duration": 18,
    "start_time": "2023-01-24T16:47:17.995Z"
   },
   {
    "duration": 16,
    "start_time": "2023-01-24T16:47:18.038Z"
   },
   {
    "duration": 43,
    "start_time": "2023-01-24T16:47:18.056Z"
   },
   {
    "duration": 5,
    "start_time": "2023-01-24T16:47:18.101Z"
   },
   {
    "duration": 35,
    "start_time": "2023-01-24T16:47:18.107Z"
   },
   {
    "duration": 6,
    "start_time": "2023-01-24T16:47:18.143Z"
   },
   {
    "duration": 9,
    "start_time": "2023-01-24T16:47:18.154Z"
   },
   {
    "duration": 6,
    "start_time": "2023-01-24T16:47:18.166Z"
   },
   {
    "duration": 41,
    "start_time": "2023-01-24T16:47:18.173Z"
   },
   {
    "duration": 36,
    "start_time": "2023-01-24T16:47:18.216Z"
   },
   {
    "duration": 8,
    "start_time": "2023-01-24T16:47:18.254Z"
   },
   {
    "duration": 18,
    "start_time": "2023-01-24T16:47:18.264Z"
   },
   {
    "duration": 30,
    "start_time": "2023-01-24T16:47:18.284Z"
   },
   {
    "duration": 29,
    "start_time": "2023-01-24T16:47:18.316Z"
   },
   {
    "duration": 10,
    "start_time": "2023-01-24T16:47:18.348Z"
   },
   {
    "duration": 24,
    "start_time": "2023-01-24T16:47:18.361Z"
   },
   {
    "duration": 17,
    "start_time": "2023-01-24T16:47:18.388Z"
   },
   {
    "duration": 11,
    "start_time": "2023-01-24T16:47:18.407Z"
   },
   {
    "duration": 64,
    "start_time": "2023-01-24T16:47:18.420Z"
   },
   {
    "duration": 10,
    "start_time": "2023-01-24T16:47:18.487Z"
   },
   {
    "duration": 11,
    "start_time": "2023-01-24T16:47:18.499Z"
   },
   {
    "duration": 18,
    "start_time": "2023-01-24T16:47:18.512Z"
   },
   {
    "duration": 33,
    "start_time": "2023-01-24T16:47:18.535Z"
   },
   {
    "duration": 22,
    "start_time": "2023-01-24T16:47:26.246Z"
   },
   {
    "duration": 1044,
    "start_time": "2023-01-24T16:52:51.902Z"
   },
   {
    "duration": 49,
    "start_time": "2023-01-27T16:58:03.545Z"
   },
   {
    "duration": 1744,
    "start_time": "2023-01-27T16:58:13.048Z"
   },
   {
    "duration": 20,
    "start_time": "2023-01-27T16:58:14.794Z"
   },
   {
    "duration": 37,
    "start_time": "2023-01-27T16:58:14.816Z"
   },
   {
    "duration": 10,
    "start_time": "2023-01-27T16:58:14.855Z"
   },
   {
    "duration": 36,
    "start_time": "2023-01-27T16:58:14.867Z"
   },
   {
    "duration": 4,
    "start_time": "2023-01-27T16:58:14.905Z"
   },
   {
    "duration": 12,
    "start_time": "2023-01-27T16:58:14.910Z"
   },
   {
    "duration": 27,
    "start_time": "2023-01-27T16:58:14.923Z"
   },
   {
    "duration": 9,
    "start_time": "2023-01-27T16:58:14.951Z"
   },
   {
    "duration": 5,
    "start_time": "2023-01-27T16:58:14.963Z"
   },
   {
    "duration": 36,
    "start_time": "2023-01-27T16:58:14.970Z"
   },
   {
    "duration": 11,
    "start_time": "2023-01-27T16:58:15.008Z"
   },
   {
    "duration": 28,
    "start_time": "2023-01-27T16:58:15.021Z"
   },
   {
    "duration": 12,
    "start_time": "2023-01-27T16:58:15.051Z"
   },
   {
    "duration": 23,
    "start_time": "2023-01-27T16:58:15.065Z"
   },
   {
    "duration": 22,
    "start_time": "2023-01-27T16:58:15.090Z"
   },
   {
    "duration": 4,
    "start_time": "2023-01-27T16:58:15.114Z"
   },
   {
    "duration": 34,
    "start_time": "2023-01-27T16:58:15.120Z"
   },
   {
    "duration": 11,
    "start_time": "2023-01-27T16:58:15.156Z"
   },
   {
    "duration": 5,
    "start_time": "2023-01-27T16:58:15.168Z"
   },
   {
    "duration": 25,
    "start_time": "2023-01-27T16:58:15.174Z"
   },
   {
    "duration": 7,
    "start_time": "2023-01-27T16:58:15.200Z"
   },
   {
    "duration": 3,
    "start_time": "2023-01-27T16:58:15.209Z"
   },
   {
    "duration": 3,
    "start_time": "2023-01-27T16:58:15.214Z"
   },
   {
    "duration": 30,
    "start_time": "2023-01-27T16:58:15.219Z"
   },
   {
    "duration": 7,
    "start_time": "2023-01-27T17:09:22.975Z"
   },
   {
    "duration": 1176,
    "start_time": "2023-01-27T17:17:39.690Z"
   },
   {
    "duration": 1225,
    "start_time": "2023-01-27T17:18:51.661Z"
   },
   {
    "duration": 7,
    "start_time": "2023-01-27T17:19:07.927Z"
   },
   {
    "duration": 7,
    "start_time": "2023-01-27T17:35:34.309Z"
   },
   {
    "duration": 7,
    "start_time": "2023-01-27T17:37:02.693Z"
   },
   {
    "duration": 7,
    "start_time": "2023-01-27T17:39:53.599Z"
   },
   {
    "duration": 31,
    "start_time": "2023-01-27T17:41:21.233Z"
   },
   {
    "duration": 4,
    "start_time": "2023-01-27T17:43:17.442Z"
   },
   {
    "duration": 14,
    "start_time": "2023-01-27T17:43:26.603Z"
   },
   {
    "duration": 9,
    "start_time": "2023-01-27T17:50:44.345Z"
   },
   {
    "duration": 4,
    "start_time": "2023-01-27T17:51:04.433Z"
   },
   {
    "duration": 17,
    "start_time": "2023-01-27T17:51:10.965Z"
   },
   {
    "duration": 7,
    "start_time": "2023-01-27T17:54:39.573Z"
   },
   {
    "duration": 19,
    "start_time": "2023-01-27T17:57:02.757Z"
   },
   {
    "duration": 15,
    "start_time": "2023-01-27T17:59:48.439Z"
   },
   {
    "duration": 11,
    "start_time": "2023-01-27T18:03:39.493Z"
   },
   {
    "duration": 9,
    "start_time": "2023-01-27T18:04:42.807Z"
   },
   {
    "duration": 11,
    "start_time": "2023-01-27T18:05:02.100Z"
   },
   {
    "duration": 11,
    "start_time": "2023-01-27T18:05:19.365Z"
   },
   {
    "duration": 9,
    "start_time": "2023-01-27T18:12:23.919Z"
   },
   {
    "duration": 35,
    "start_time": "2023-01-27T18:13:29.778Z"
   },
   {
    "duration": 14,
    "start_time": "2023-01-27T18:14:37.601Z"
   },
   {
    "duration": 8,
    "start_time": "2023-01-27T18:16:41.588Z"
   },
   {
    "duration": 9,
    "start_time": "2023-01-27T18:17:32.135Z"
   },
   {
    "duration": 12,
    "start_time": "2023-01-27T18:19:22.374Z"
   },
   {
    "duration": 12,
    "start_time": "2023-01-27T18:20:27.107Z"
   },
   {
    "duration": 20,
    "start_time": "2023-01-27T18:23:42.048Z"
   },
   {
    "duration": 11,
    "start_time": "2023-01-27T18:23:59.034Z"
   },
   {
    "duration": 9,
    "start_time": "2023-01-27T18:35:53.795Z"
   },
   {
    "duration": 10,
    "start_time": "2023-01-27T18:37:51.076Z"
   },
   {
    "duration": 12,
    "start_time": "2023-01-27T18:38:10.976Z"
   },
   {
    "duration": 1297,
    "start_time": "2023-01-28T13:30:02.801Z"
   },
   {
    "duration": 18,
    "start_time": "2023-01-28T13:30:04.100Z"
   },
   {
    "duration": 15,
    "start_time": "2023-01-28T13:30:04.119Z"
   },
   {
    "duration": 14,
    "start_time": "2023-01-28T13:30:04.136Z"
   },
   {
    "duration": 55,
    "start_time": "2023-01-28T13:30:04.152Z"
   },
   {
    "duration": 3,
    "start_time": "2023-01-28T13:30:04.209Z"
   },
   {
    "duration": 10,
    "start_time": "2023-01-28T13:30:04.214Z"
   },
   {
    "duration": 10,
    "start_time": "2023-01-28T13:30:04.226Z"
   },
   {
    "duration": 10,
    "start_time": "2023-01-28T13:30:04.238Z"
   },
   {
    "duration": 19,
    "start_time": "2023-01-28T13:30:04.250Z"
   },
   {
    "duration": 47,
    "start_time": "2023-01-28T13:30:04.271Z"
   },
   {
    "duration": 10,
    "start_time": "2023-01-28T13:30:04.319Z"
   },
   {
    "duration": 6,
    "start_time": "2023-01-28T13:30:04.330Z"
   },
   {
    "duration": 13,
    "start_time": "2023-01-28T13:30:04.337Z"
   },
   {
    "duration": 42,
    "start_time": "2023-01-28T13:30:04.351Z"
   },
   {
    "duration": 17,
    "start_time": "2023-01-28T13:30:04.394Z"
   },
   {
    "duration": 4,
    "start_time": "2023-01-28T13:30:04.412Z"
   },
   {
    "duration": 16,
    "start_time": "2023-01-28T13:30:04.417Z"
   },
   {
    "duration": 12,
    "start_time": "2023-01-28T13:30:04.434Z"
   },
   {
    "duration": 21,
    "start_time": "2023-01-28T13:30:04.448Z"
   },
   {
    "duration": 29,
    "start_time": "2023-01-28T13:30:04.473Z"
   },
   {
    "duration": 11,
    "start_time": "2023-01-28T13:30:04.503Z"
   },
   {
    "duration": 9,
    "start_time": "2023-01-28T13:30:04.516Z"
   },
   {
    "duration": 20,
    "start_time": "2023-01-28T13:30:04.526Z"
   },
   {
    "duration": 25,
    "start_time": "2023-01-28T13:30:04.548Z"
   },
   {
    "duration": 12,
    "start_time": "2023-01-28T13:30:04.575Z"
   },
   {
    "duration": 102,
    "start_time": "2023-01-28T15:31:44.121Z"
   },
   {
    "duration": 3105,
    "start_time": "2023-01-28T15:32:02.879Z"
   },
   {
    "duration": 58,
    "start_time": "2023-01-28T15:32:05.995Z"
   },
   {
    "duration": 139,
    "start_time": "2023-01-28T15:32:06.060Z"
   },
   {
    "duration": 127,
    "start_time": "2023-01-28T15:32:06.219Z"
   },
   {
    "duration": 203,
    "start_time": "2023-01-28T15:32:06.360Z"
   },
   {
    "duration": 139,
    "start_time": "2023-01-28T15:32:06.569Z"
   },
   {
    "duration": 201,
    "start_time": "2023-01-28T15:32:06.714Z"
   },
   {
    "duration": 155,
    "start_time": "2023-01-28T15:32:06.922Z"
   },
   {
    "duration": 117,
    "start_time": "2023-01-28T15:32:07.091Z"
   },
   {
    "duration": 143,
    "start_time": "2023-01-28T15:32:07.214Z"
   },
   {
    "duration": 229,
    "start_time": "2023-01-28T15:32:07.362Z"
   },
   {
    "duration": 107,
    "start_time": "2023-01-28T15:32:07.604Z"
   },
   {
    "duration": 152,
    "start_time": "2023-01-28T15:32:07.718Z"
   },
   {
    "duration": 140,
    "start_time": "2023-01-28T15:32:07.879Z"
   },
   {
    "duration": 208,
    "start_time": "2023-01-28T15:32:08.024Z"
   },
   {
    "duration": 149,
    "start_time": "2023-01-28T15:32:08.234Z"
   },
   {
    "duration": 136,
    "start_time": "2023-01-28T15:32:08.387Z"
   },
   {
    "duration": 241,
    "start_time": "2023-01-28T15:32:08.524Z"
   },
   {
    "duration": 108,
    "start_time": "2023-01-28T15:32:08.767Z"
   },
   {
    "duration": 160,
    "start_time": "2023-01-28T15:32:08.879Z"
   },
   {
    "duration": 228,
    "start_time": "2023-01-28T15:32:09.045Z"
   },
   {
    "duration": 128,
    "start_time": "2023-01-28T15:32:09.279Z"
   },
   {
    "duration": 151,
    "start_time": "2023-01-28T15:32:09.408Z"
   },
   {
    "duration": 211,
    "start_time": "2023-01-28T15:32:09.560Z"
   },
   {
    "duration": 133,
    "start_time": "2023-01-28T15:32:09.772Z"
   },
   {
    "duration": 138,
    "start_time": "2023-01-28T15:32:09.907Z"
   },
   {
    "duration": 25,
    "start_time": "2023-01-28T15:32:20.766Z"
   },
   {
    "duration": 40,
    "start_time": "2023-01-28T15:32:31.199Z"
   },
   {
    "duration": 27,
    "start_time": "2023-01-28T15:43:07.378Z"
   },
   {
    "duration": 19,
    "start_time": "2023-01-28T15:44:25.171Z"
   },
   {
    "duration": 39,
    "start_time": "2023-01-28T15:44:33.732Z"
   },
   {
    "duration": 43,
    "start_time": "2023-01-28T15:44:34.829Z"
   },
   {
    "duration": 38,
    "start_time": "2023-01-28T15:44:35.529Z"
   },
   {
    "duration": 26,
    "start_time": "2023-01-28T15:45:05.139Z"
   },
   {
    "duration": 27,
    "start_time": "2023-01-28T15:45:06.330Z"
   },
   {
    "duration": 103,
    "start_time": "2023-01-28T15:45:15.483Z"
   },
   {
    "duration": 32,
    "start_time": "2023-01-28T15:45:33.051Z"
   },
   {
    "duration": 38,
    "start_time": "2023-01-28T15:46:13.825Z"
   },
   {
    "duration": 2591,
    "start_time": "2023-01-28T15:48:12.648Z"
   },
   {
    "duration": 0,
    "start_time": "2023-01-28T15:48:18.297Z"
   },
   {
    "duration": 2209,
    "start_time": "2023-01-28T15:48:21.485Z"
   },
   {
    "duration": 47,
    "start_time": "2023-01-28T15:49:11.948Z"
   },
   {
    "duration": 79,
    "start_time": "2023-01-28T16:04:18.002Z"
   },
   {
    "duration": 274,
    "start_time": "2023-01-28T16:22:23.230Z"
   },
   {
    "duration": 29,
    "start_time": "2023-01-28T16:22:36.767Z"
   },
   {
    "duration": 261,
    "start_time": "2023-01-28T16:23:11.643Z"
   },
   {
    "duration": 49,
    "start_time": "2023-01-28T16:23:19.308Z"
   },
   {
    "duration": 84,
    "start_time": "2023-01-28T16:43:41.765Z"
   },
   {
    "duration": 15,
    "start_time": "2023-01-28T16:43:41.851Z"
   },
   {
    "duration": 20,
    "start_time": "2023-01-28T16:43:41.867Z"
   },
   {
    "duration": 42,
    "start_time": "2023-01-28T16:43:41.889Z"
   },
   {
    "duration": 39,
    "start_time": "2023-01-28T16:43:41.932Z"
   },
   {
    "duration": 4,
    "start_time": "2023-01-28T16:43:41.972Z"
   },
   {
    "duration": 13,
    "start_time": "2023-01-28T16:43:41.977Z"
   },
   {
    "duration": 5,
    "start_time": "2023-01-28T16:43:41.991Z"
   },
   {
    "duration": 26,
    "start_time": "2023-01-28T16:43:41.997Z"
   },
   {
    "duration": 21,
    "start_time": "2023-01-28T16:43:42.026Z"
   },
   {
    "duration": 39,
    "start_time": "2023-01-28T16:43:42.049Z"
   },
   {
    "duration": 12,
    "start_time": "2023-01-28T16:43:42.090Z"
   },
   {
    "duration": 4,
    "start_time": "2023-01-28T16:43:42.104Z"
   },
   {
    "duration": 68,
    "start_time": "2023-01-28T16:43:42.109Z"
   },
   {
    "duration": 25,
    "start_time": "2023-01-28T16:43:42.180Z"
   },
   {
    "duration": 32,
    "start_time": "2023-01-28T16:43:42.207Z"
   },
   {
    "duration": 30,
    "start_time": "2023-01-28T16:43:42.240Z"
   },
   {
    "duration": 18,
    "start_time": "2023-01-28T16:43:42.271Z"
   },
   {
    "duration": 62,
    "start_time": "2023-01-28T16:43:42.290Z"
   },
   {
    "duration": 20,
    "start_time": "2023-01-28T16:43:42.354Z"
   },
   {
    "duration": 63,
    "start_time": "2023-01-28T16:43:42.376Z"
   },
   {
    "duration": 38,
    "start_time": "2023-01-28T16:43:42.442Z"
   },
   {
    "duration": 23,
    "start_time": "2023-01-28T16:43:42.481Z"
   },
   {
    "duration": 54,
    "start_time": "2023-01-28T16:43:42.506Z"
   },
   {
    "duration": 31,
    "start_time": "2023-01-28T16:43:42.562Z"
   },
   {
    "duration": 49,
    "start_time": "2023-01-28T16:43:42.595Z"
   },
   {
    "duration": 44,
    "start_time": "2023-01-28T16:43:52.987Z"
   },
   {
    "duration": 1364,
    "start_time": "2023-01-29T11:44:36.236Z"
   },
   {
    "duration": 20,
    "start_time": "2023-01-29T11:44:37.602Z"
   },
   {
    "duration": 15,
    "start_time": "2023-01-29T11:44:37.624Z"
   },
   {
    "duration": 18,
    "start_time": "2023-01-29T11:44:37.641Z"
   },
   {
    "duration": 34,
    "start_time": "2023-01-29T11:44:37.662Z"
   },
   {
    "duration": 3,
    "start_time": "2023-01-29T11:44:37.698Z"
   },
   {
    "duration": 9,
    "start_time": "2023-01-29T11:44:37.720Z"
   },
   {
    "duration": 5,
    "start_time": "2023-01-29T11:44:37.732Z"
   },
   {
    "duration": 14,
    "start_time": "2023-01-29T11:44:37.738Z"
   },
   {
    "duration": 5,
    "start_time": "2023-01-29T11:44:37.754Z"
   },
   {
    "duration": 64,
    "start_time": "2023-01-29T11:44:37.760Z"
   },
   {
    "duration": 9,
    "start_time": "2023-01-29T11:44:37.826Z"
   },
   {
    "duration": 4,
    "start_time": "2023-01-29T11:44:37.837Z"
   },
   {
    "duration": 11,
    "start_time": "2023-01-29T11:44:37.843Z"
   },
   {
    "duration": 19,
    "start_time": "2023-01-29T11:44:37.856Z"
   },
   {
    "duration": 52,
    "start_time": "2023-01-29T11:44:37.877Z"
   },
   {
    "duration": 4,
    "start_time": "2023-01-29T11:44:37.930Z"
   },
   {
    "duration": 14,
    "start_time": "2023-01-29T11:44:37.935Z"
   },
   {
    "duration": 10,
    "start_time": "2023-01-29T11:44:37.950Z"
   },
   {
    "duration": 5,
    "start_time": "2023-01-29T11:44:37.962Z"
   },
   {
    "duration": 25,
    "start_time": "2023-01-29T11:44:37.968Z"
   },
   {
    "duration": 48,
    "start_time": "2023-01-29T11:44:37.994Z"
   },
   {
    "duration": 23,
    "start_time": "2023-01-29T11:44:38.044Z"
   },
   {
    "duration": 11,
    "start_time": "2023-01-29T11:44:38.068Z"
   },
   {
    "duration": 43,
    "start_time": "2023-01-29T11:44:38.081Z"
   },
   {
    "duration": 24,
    "start_time": "2023-01-29T11:44:38.126Z"
   },
   {
    "duration": 45,
    "start_time": "2023-01-29T16:42:28.912Z"
   },
   {
    "duration": 1681,
    "start_time": "2023-01-29T16:42:33.633Z"
   },
   {
    "duration": 19,
    "start_time": "2023-01-29T16:42:35.316Z"
   },
   {
    "duration": 25,
    "start_time": "2023-01-29T16:42:35.336Z"
   },
   {
    "duration": 9,
    "start_time": "2023-01-29T16:42:35.362Z"
   },
   {
    "duration": 34,
    "start_time": "2023-01-29T16:42:35.372Z"
   },
   {
    "duration": 3,
    "start_time": "2023-01-29T16:42:35.408Z"
   },
   {
    "duration": 18,
    "start_time": "2023-01-29T16:42:35.412Z"
   },
   {
    "duration": 14,
    "start_time": "2023-01-29T16:42:35.431Z"
   },
   {
    "duration": 9,
    "start_time": "2023-01-29T16:42:35.446Z"
   },
   {
    "duration": 15,
    "start_time": "2023-01-29T16:42:35.457Z"
   },
   {
    "duration": 38,
    "start_time": "2023-01-29T16:42:35.474Z"
   },
   {
    "duration": 12,
    "start_time": "2023-01-29T16:42:35.513Z"
   },
   {
    "duration": 9,
    "start_time": "2023-01-29T16:42:35.526Z"
   },
   {
    "duration": 16,
    "start_time": "2023-01-29T16:42:35.536Z"
   },
   {
    "duration": 25,
    "start_time": "2023-01-29T16:42:35.554Z"
   },
   {
    "duration": 19,
    "start_time": "2023-01-29T16:42:35.582Z"
   },
   {
    "duration": 54,
    "start_time": "2023-01-29T16:42:35.603Z"
   },
   {
    "duration": 44,
    "start_time": "2023-01-29T16:42:35.660Z"
   },
   {
    "duration": 57,
    "start_time": "2023-01-29T16:42:35.705Z"
   },
   {
    "duration": 18,
    "start_time": "2023-01-29T16:42:35.764Z"
   },
   {
    "duration": 32,
    "start_time": "2023-01-29T16:42:35.784Z"
   },
   {
    "duration": 84,
    "start_time": "2023-01-29T16:42:35.818Z"
   },
   {
    "duration": 0,
    "start_time": "2023-01-29T16:42:35.904Z"
   },
   {
    "duration": 0,
    "start_time": "2023-01-29T16:42:35.905Z"
   },
   {
    "duration": 0,
    "start_time": "2023-01-29T16:42:35.907Z"
   },
   {
    "duration": 1,
    "start_time": "2023-01-29T16:42:35.908Z"
   },
   {
    "duration": 11,
    "start_time": "2023-01-29T16:44:37.337Z"
   },
   {
    "duration": 13,
    "start_time": "2023-01-29T16:45:04.372Z"
   },
   {
    "duration": 10,
    "start_time": "2023-01-29T16:45:25.181Z"
   },
   {
    "duration": 10,
    "start_time": "2023-01-29T16:46:10.936Z"
   },
   {
    "duration": 11,
    "start_time": "2023-01-29T16:46:18.861Z"
   },
   {
    "duration": 74,
    "start_time": "2023-01-29T16:55:17.897Z"
   },
   {
    "duration": 8,
    "start_time": "2023-01-29T16:55:22.594Z"
   },
   {
    "duration": 11,
    "start_time": "2023-01-29T16:55:36.745Z"
   },
   {
    "duration": 24,
    "start_time": "2023-01-29T16:58:50.898Z"
   },
   {
    "duration": 9,
    "start_time": "2023-01-29T17:01:28.862Z"
   },
   {
    "duration": 100,
    "start_time": "2023-01-29T17:17:21.882Z"
   },
   {
    "duration": 18,
    "start_time": "2023-01-29T17:17:21.984Z"
   },
   {
    "duration": 44,
    "start_time": "2023-01-29T17:17:22.004Z"
   },
   {
    "duration": 23,
    "start_time": "2023-01-29T17:17:22.052Z"
   },
   {
    "duration": 49,
    "start_time": "2023-01-29T17:17:22.077Z"
   },
   {
    "duration": 3,
    "start_time": "2023-01-29T17:17:22.128Z"
   },
   {
    "duration": 44,
    "start_time": "2023-01-29T17:17:22.144Z"
   },
   {
    "duration": 14,
    "start_time": "2023-01-29T17:17:22.189Z"
   },
   {
    "duration": 48,
    "start_time": "2023-01-29T17:17:22.204Z"
   },
   {
    "duration": 39,
    "start_time": "2023-01-29T17:17:22.259Z"
   },
   {
    "duration": 69,
    "start_time": "2023-01-29T17:17:22.300Z"
   },
   {
    "duration": 10,
    "start_time": "2023-01-29T17:17:22.370Z"
   },
   {
    "duration": 14,
    "start_time": "2023-01-29T17:17:22.382Z"
   },
   {
    "duration": 21,
    "start_time": "2023-01-29T17:17:22.398Z"
   },
   {
    "duration": 39,
    "start_time": "2023-01-29T17:17:22.421Z"
   },
   {
    "duration": 28,
    "start_time": "2023-01-29T17:17:22.462Z"
   },
   {
    "duration": 3,
    "start_time": "2023-01-29T17:17:22.492Z"
   },
   {
    "duration": 26,
    "start_time": "2023-01-29T17:17:22.497Z"
   },
   {
    "duration": 18,
    "start_time": "2023-01-29T17:17:22.525Z"
   },
   {
    "duration": 41,
    "start_time": "2023-01-29T17:17:22.548Z"
   },
   {
    "duration": 43,
    "start_time": "2023-01-29T17:17:22.591Z"
   },
   {
    "duration": 17,
    "start_time": "2023-01-29T17:17:22.636Z"
   },
   {
    "duration": 39,
    "start_time": "2023-01-29T17:17:22.657Z"
   },
   {
    "duration": 20,
    "start_time": "2023-01-29T17:17:22.698Z"
   },
   {
    "duration": 10,
    "start_time": "2023-01-29T17:17:22.720Z"
   },
   {
    "duration": 42,
    "start_time": "2023-01-29T17:17:22.732Z"
   },
   {
    "duration": 27,
    "start_time": "2023-01-29T17:17:22.775Z"
   }
  ],
  "colab": {
   "provenance": []
  },
  "kernelspec": {
   "display_name": "Python 3 (ipykernel)",
   "language": "python",
   "name": "python3"
  },
  "language_info": {
   "codemirror_mode": {
    "name": "ipython",
    "version": 3
   },
   "file_extension": ".py",
   "mimetype": "text/x-python",
   "name": "python",
   "nbconvert_exporter": "python",
   "pygments_lexer": "ipython3",
   "version": "3.9.5"
  },
  "toc": {
   "base_numbering": 1,
   "nav_menu": {},
   "number_sections": true,
   "sideBar": true,
   "skip_h1_title": true,
   "title_cell": "Table of Contents",
   "title_sidebar": "Contents",
   "toc_cell": false,
   "toc_position": {
    "height": "calc(100% - 180px)",
    "left": "10px",
    "top": "150px",
    "width": "395.294098px"
   },
   "toc_section_display": true,
   "toc_window_display": true
  }
 },
 "nbformat": 4,
 "nbformat_minor": 5
}
